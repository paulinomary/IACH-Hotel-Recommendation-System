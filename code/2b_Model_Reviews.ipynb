{
 "cells": [
  {
   "cell_type": "markdown",
   "metadata": {},
   "source": [
    "## EDA and Modelling Based on Reviews\n",
    "\n",
    "In this section, we will investigate and dive deeper into the data based on the hotel reviews and geolocation."
   ]
  },
  {
   "cell_type": "code",
   "execution_count": 1,
   "metadata": {},
   "outputs": [
    {
     "name": "stderr",
     "output_type": "stream",
     "text": [
      "/Users/diogodoria/Library/Python/3.9/lib/python/site-packages/urllib3/__init__.py:34: NotOpenSSLWarning: urllib3 v2.0 only supports OpenSSL 1.1.1+, currently the 'ssl' module is compiled with 'LibreSSL 2.8.3'. See: https://github.com/urllib3/urllib3/issues/3020\n",
      "  warnings.warn(\n"
     ]
    },
    {
     "data": {
      "text/html": [
       "        <script type=\"text/javascript\">\n",
       "        window.PlotlyConfig = {MathJaxConfig: 'local'};\n",
       "        if (window.MathJax && window.MathJax.Hub && window.MathJax.Hub.Config) {window.MathJax.Hub.Config({SVG: {font: \"STIX-Web\"}});}\n",
       "        if (typeof require !== 'undefined') {\n",
       "        require.undef(\"plotly\");\n",
       "        requirejs.config({\n",
       "            paths: {\n",
       "                'plotly': ['https://cdn.plot.ly/plotly-2.20.0.min']\n",
       "            }\n",
       "        });\n",
       "        require(['plotly'], function(Plotly) {\n",
       "            window._Plotly = Plotly;\n",
       "        });\n",
       "        }\n",
       "        </script>\n",
       "        "
      ]
     },
     "metadata": {},
     "output_type": "display_data"
    }
   ],
   "source": [
    "#import required libraires\n",
    "import pandas as pd\n",
    "import numpy as np\n",
    "from langdetect import detect\n",
    "from sklearn.feature_extraction.text import ENGLISH_STOP_WORDS\n",
    "import re\n",
    "from nltk.corpus import stopwords\n",
    "from sklearn.feature_extraction.text import TfidfVectorizer\n",
    "from sklearn.metrics.pairwise import linear_kernel\n",
    "import folium\n",
    "from folium import plugins\n",
    "import ipywidgets\n",
    "import geocoder\n",
    "import geopy\n",
    "import os\n",
    "import warnings\n",
    "warnings.simplefilter(action='ignore', category=FutureWarning)\n",
    "import reverse_geocode\n",
    "from sklearn.feature_extraction.text import CountVectorizer\n",
    "import cufflinks as cf\n",
    "cf.go_offline()\n",
    "cf.set_config_file(offline=False, world_readable=True)\n",
    "#installing stylecloud library\n",
    "#!pip install stylecloud \n",
    "import stylecloud"
   ]
  },
  {
   "cell_type": "code",
   "execution_count": 2,
   "metadata": {},
   "outputs": [],
   "source": [
    "#loading the pickle file\n",
    "new_df_rev=pd.read_pickle('../data/review.pkl')"
   ]
  },
  {
   "cell_type": "code",
   "execution_count": 3,
   "metadata": {},
   "outputs": [
    {
     "data": {
      "text/html": [
       "<div>\n",
       "<style scoped>\n",
       "    .dataframe tbody tr th:only-of-type {\n",
       "        vertical-align: middle;\n",
       "    }\n",
       "\n",
       "    .dataframe tbody tr th {\n",
       "        vertical-align: top;\n",
       "    }\n",
       "\n",
       "    .dataframe thead th {\n",
       "        text-align: right;\n",
       "    }\n",
       "</style>\n",
       "<table border=\"1\" class=\"dataframe\">\n",
       "  <thead>\n",
       "    <tr style=\"text-align: right;\">\n",
       "      <th></th>\n",
       "      <th>hotel_name</th>\n",
       "      <th>negative_review</th>\n",
       "      <th>positive_review</th>\n",
       "      <th>lat_x</th>\n",
       "      <th>lng_x</th>\n",
       "      <th>hotel_address</th>\n",
       "      <th>tags</th>\n",
       "      <th>lat_y</th>\n",
       "      <th>lng_y</th>\n",
       "      <th>location</th>\n",
       "      <th>country</th>\n",
       "      <th>city</th>\n",
       "    </tr>\n",
       "  </thead>\n",
       "  <tbody>\n",
       "    <tr>\n",
       "      <th>0</th>\n",
       "      <td>11 Cadogan Gardens</td>\n",
       "      <td>Thought the prise of drinks at the bar a litt...</td>\n",
       "      <td>We were particularly impressed by the very wa...</td>\n",
       "      <td>51.493616</td>\n",
       "      <td>-0.159235</td>\n",
       "      <td>11 Cadogan Gardens Sloane Square Kensington an...</td>\n",
       "      <td>[' Leisure trip ', ' Couple ', ' Superior Quee...</td>\n",
       "      <td>51.493616</td>\n",
       "      <td>-0.159235</td>\n",
       "      <td>[{'country_code': 'GB', 'city': 'Chelsea', 'co...</td>\n",
       "      <td>United Kingdom</td>\n",
       "      <td>Chelsea</td>\n",
       "    </tr>\n",
       "    <tr>\n",
       "      <th>1</th>\n",
       "      <td>1K Hotel</td>\n",
       "      <td>Air conditioning in room didn t work and desp...</td>\n",
       "      <td>Location good close to le Marais and 3e arron...</td>\n",
       "      <td>48.863932</td>\n",
       "      <td>2.365874</td>\n",
       "      <td>13 Boulevard Du Temple 3rd arr 75003 Paris France</td>\n",
       "      <td>[' Leisure trip ', ' Couple ', ' Superior M Do...</td>\n",
       "      <td>48.863932</td>\n",
       "      <td>2.365874</td>\n",
       "      <td>[{'country_code': 'FR', 'city': 'Paris', 'coun...</td>\n",
       "      <td>France</td>\n",
       "      <td>Paris</td>\n",
       "    </tr>\n",
       "    <tr>\n",
       "      <th>2</th>\n",
       "      <td>25hours Hotel beim MuseumsQuartier</td>\n",
       "      <td>Breakfast not included and buffet really expe...</td>\n",
       "      <td>Cool vintage style in the middle of the museu...</td>\n",
       "      <td>48.206474</td>\n",
       "      <td>16.354630</td>\n",
       "      <td>Lerchenfelder Stra e 1 3 07 Neubau 1070 Vienna...</td>\n",
       "      <td>[' Leisure trip ', ' Solo traveler ', ' Standa...</td>\n",
       "      <td>48.206474</td>\n",
       "      <td>16.354630</td>\n",
       "      <td>[{'country_code': 'AT', 'city': 'Vienna', 'cou...</td>\n",
       "      <td>Austria</td>\n",
       "      <td>Vienna</td>\n",
       "    </tr>\n",
       "    <tr>\n",
       "      <th>3</th>\n",
       "      <td>41</td>\n",
       "      <td>There wasn t a thing that we didn t like , No...</td>\n",
       "      <td>Its central proximity close to all services a...</td>\n",
       "      <td>51.498147</td>\n",
       "      <td>-0.143649</td>\n",
       "      <td>41 Buckingham Palace Road Westminster Borough ...</td>\n",
       "      <td>[' Leisure trip ', ' Couple ', ' Executive Kin...</td>\n",
       "      <td>51.498147</td>\n",
       "      <td>-0.143649</td>\n",
       "      <td>[{'country_code': 'GB', 'city': 'West End of L...</td>\n",
       "      <td>United Kingdom</td>\n",
       "      <td>West End of London</td>\n",
       "    </tr>\n",
       "    <tr>\n",
       "      <th>4</th>\n",
       "      <td>45 Park Lane Dorchester Collection</td>\n",
       "      <td>More kinds of fruit juice will make the mini ...</td>\n",
       "      <td>Everything here are almost perfect the staffs...</td>\n",
       "      <td>51.506371</td>\n",
       "      <td>-0.151536</td>\n",
       "      <td>45 Park Lane Westminster Borough London W1K 1P...</td>\n",
       "      <td>[' Leisure trip ', ' Solo traveler ', ' Execut...</td>\n",
       "      <td>51.506371</td>\n",
       "      <td>-0.151536</td>\n",
       "      <td>[{'country_code': 'GB', 'city': 'West End of L...</td>\n",
       "      <td>United Kingdom</td>\n",
       "      <td>West End of London</td>\n",
       "    </tr>\n",
       "  </tbody>\n",
       "</table>\n",
       "</div>"
      ],
      "text/plain": [
       "                           hotel_name   \n",
       "0                  11 Cadogan Gardens  \\\n",
       "1                            1K Hotel   \n",
       "2  25hours Hotel beim MuseumsQuartier   \n",
       "3                                  41   \n",
       "4  45 Park Lane Dorchester Collection   \n",
       "\n",
       "                                     negative_review   \n",
       "0   Thought the prise of drinks at the bar a litt...  \\\n",
       "1   Air conditioning in room didn t work and desp...   \n",
       "2   Breakfast not included and buffet really expe...   \n",
       "3   There wasn t a thing that we didn t like , No...   \n",
       "4   More kinds of fruit juice will make the mini ...   \n",
       "\n",
       "                                     positive_review      lat_x      lng_x   \n",
       "0   We were particularly impressed by the very wa...  51.493616  -0.159235  \\\n",
       "1   Location good close to le Marais and 3e arron...  48.863932   2.365874   \n",
       "2   Cool vintage style in the middle of the museu...  48.206474  16.354630   \n",
       "3   Its central proximity close to all services a...  51.498147  -0.143649   \n",
       "4   Everything here are almost perfect the staffs...  51.506371  -0.151536   \n",
       "\n",
       "                                       hotel_address   \n",
       "0  11 Cadogan Gardens Sloane Square Kensington an...  \\\n",
       "1  13 Boulevard Du Temple 3rd arr 75003 Paris France   \n",
       "2  Lerchenfelder Stra e 1 3 07 Neubau 1070 Vienna...   \n",
       "3  41 Buckingham Palace Road Westminster Borough ...   \n",
       "4  45 Park Lane Westminster Borough London W1K 1P...   \n",
       "\n",
       "                                                tags      lat_y      lng_y   \n",
       "0  [' Leisure trip ', ' Couple ', ' Superior Quee...  51.493616  -0.159235  \\\n",
       "1  [' Leisure trip ', ' Couple ', ' Superior M Do...  48.863932   2.365874   \n",
       "2  [' Leisure trip ', ' Solo traveler ', ' Standa...  48.206474  16.354630   \n",
       "3  [' Leisure trip ', ' Couple ', ' Executive Kin...  51.498147  -0.143649   \n",
       "4  [' Leisure trip ', ' Solo traveler ', ' Execut...  51.506371  -0.151536   \n",
       "\n",
       "                                            location         country   \n",
       "0  [{'country_code': 'GB', 'city': 'Chelsea', 'co...  United Kingdom  \\\n",
       "1  [{'country_code': 'FR', 'city': 'Paris', 'coun...          France   \n",
       "2  [{'country_code': 'AT', 'city': 'Vienna', 'cou...         Austria   \n",
       "3  [{'country_code': 'GB', 'city': 'West End of L...  United Kingdom   \n",
       "4  [{'country_code': 'GB', 'city': 'West End of L...  United Kingdom   \n",
       "\n",
       "                 city  \n",
       "0             Chelsea  \n",
       "1               Paris  \n",
       "2              Vienna  \n",
       "3  West End of London  \n",
       "4  West End of London  "
      ]
     },
     "execution_count": 3,
     "metadata": {},
     "output_type": "execute_result"
    }
   ],
   "source": [
    "new_df_rev.head()"
   ]
  },
  {
   "cell_type": "code",
   "execution_count": 4,
   "metadata": {},
   "outputs": [],
   "source": [
    "#subsetting the dataset for investigation\n",
    "hotel_review=new_df_rev[['hotel_name','positive_review','negative_review','city','lat_x','lng_x']]"
   ]
  },
  {
   "cell_type": "code",
   "execution_count": 5,
   "metadata": {},
   "outputs": [],
   "source": [
    "#join positive and negative review\n",
    "hotel_review['review_text'] = hotel_review['positive_review'].astype(str) + hotel_review['negative_review'].astype(str)\n"
   ]
  },
  {
   "cell_type": "code",
   "execution_count": 6,
   "metadata": {},
   "outputs": [],
   "source": [
    "#detect language\n",
    "hotel_review['lang']=hotel_review['review_text'].apply(lambda x: detect(x))"
   ]
  },
  {
   "cell_type": "code",
   "execution_count": 7,
   "metadata": {},
   "outputs": [
    {
     "data": {
      "text/plain": [
       "lang\n",
       "en    1474\n",
       "Name: count, dtype: int64"
      ]
     },
     "execution_count": 7,
     "metadata": {},
     "output_type": "execute_result"
    }
   ],
   "source": [
    "#english review\n",
    "hotel_review['lang'].value_counts()"
   ]
  },
  {
   "cell_type": "code",
   "execution_count": 8,
   "metadata": {},
   "outputs": [],
   "source": [
    "#assigning the stopwords from nltk to variable\n",
    "stops_rev = set(ENGLISH_STOP_WORDS)\n"
   ]
  },
  {
   "cell_type": "markdown",
   "metadata": {},
   "source": [
    "## Feature Engineering and Text Visualisation\n",
    "\n",
    "In the following section, we are intersted to understand the frequency of top words and its occurance with respect to stop words. We have plotted these visualisation for understanding the data set."
   ]
  },
  {
   "cell_type": "code",
   "execution_count": 9,
   "metadata": {},
   "outputs": [],
   "source": [
    "def get_top_n_words(corpus, n=None,y=None):\n",
    "    vec = CountVectorizer(ngram_range=y).fit(corpus)\n",
    "    bag_of_words = vec.transform(corpus)\n",
    "    sum_words = bag_of_words.sum(axis=0) \n",
    "    words_freq = [(word, sum_words[0, idx]) for word, idx in vec.vocabulary_.items()]\n",
    "    words_freq =sorted(words_freq, key = lambda x: x[1], reverse=True)\n",
    "    return words_freq[:n]\n"
   ]
  },
  {
   "cell_type": "code",
   "execution_count": 10,
   "metadata": {},
   "outputs": [],
   "source": [
    "def get_top_n_words_with_stop_words(corpus, n=None,y=None):\n",
    "    vec = CountVectorizer(ngram_range=y,stop_words=stops_rev).fit(corpus)\n",
    "    bag_of_words = vec.transform(corpus)\n",
    "    sum_words = bag_of_words.sum(axis=0) \n",
    "    words_freq = [(word, sum_words[0, idx]) for word, idx in vec.vocabulary_.items()]\n",
    "    words_freq =sorted(words_freq, key = lambda x: x[1], reverse=True)\n",
    "    return words_freq[:n]\n"
   ]
  },
  {
   "cell_type": "code",
   "execution_count": 11,
   "metadata": {},
   "outputs": [
    {
     "name": "stdout",
     "output_type": "stream",
     "text": [
      "Number of descriptions: 1474 \n",
      "Average word count 12143.495251017639 \n",
      "Minimum word count 183 \n",
      "Maximum word count 172330\n"
     ]
    }
   ],
   "source": [
    "hotel_review['word_count'] = hotel_review['review_text'].apply(lambda x: len(str(x).split()))\n",
    "desc_lengths = list(hotel_review['word_count'])\n",
    "print(\"Number of descriptions:\",len(desc_lengths),\n",
    "      \"\\nAverage word count\", np.average(desc_lengths),\n",
    "      \"\\nMinimum word count\", min(desc_lengths),\n",
    "      \"\\nMaximum word count\", max(desc_lengths))\n"
   ]
  },
  {
   "cell_type": "code",
   "execution_count": 12,
   "metadata": {},
   "outputs": [
    {
     "data": {
      "application/vnd.plotly.v1+json": {
       "config": {
        "linkText": "Export to plot.ly",
        "plotlyServerURL": "https://plot.ly",
        "showLink": true
       },
       "data": [
        {
         "histfunc": "count",
         "histnorm": "",
         "marker": {
          "color": "rgba(255, 153, 51, 1.0)",
          "line": {
           "color": "#000000",
           "width": 1.3
          }
         },
         "name": "word_count",
         "nbinsx": 100,
         "opacity": 0.8,
         "orientation": "v",
         "type": "histogram",
         "x": [
          5437,
          5777,
          25370,
          3411,
          476,
          20157,
          6407,
          1101,
          1625,
          10175,
          1672,
          312,
          2546,
          2205,
          2628,
          1518,
          4899,
          5479,
          5093,
          5716,
          5487,
          5392,
          3669,
          9090,
          7983,
          19388,
          13285,
          16909,
          11692,
          1094,
          8845,
          4483,
          6903,
          2890,
          5657,
          5421,
          39714,
          916,
          20271,
          15512,
          6036,
          2968,
          27803,
          36436,
          17873,
          24290,
          5220,
          3321,
          12853,
          6950,
          17964,
          7506,
          1254,
          3798,
          3277,
          13624,
          7500,
          6787,
          3363,
          33074,
          14488,
          31581,
          30586,
          11684,
          7504,
          27102,
          30437,
          2371,
          15471,
          1288,
          3647,
          13147,
          13340,
          10678,
          2647,
          1490,
          8743,
          3966,
          4030,
          808,
          12366,
          6862,
          5072,
          20628,
          5456,
          13070,
          11085,
          10737,
          14652,
          5069,
          16187,
          11285,
          24804,
          17389,
          7110,
          29195,
          5667,
          22783,
          21040,
          27800,
          18400,
          2647,
          35059,
          13597,
          4279,
          4080,
          3480,
          4665,
          12829,
          9685,
          20202,
          29996,
          2017,
          36387,
          3159,
          11599,
          12675,
          2757,
          7105,
          13971,
          1564,
          4438,
          4536,
          9086,
          3434,
          32587,
          5910,
          3145,
          5980,
          6965,
          1220,
          5499,
          1963,
          2538,
          11170,
          9654,
          10298,
          3123,
          3639,
          11616,
          9652,
          2411,
          28711,
          7461,
          3065,
          11548,
          35506,
          3228,
          3061,
          3902,
          23996,
          10319,
          22016,
          23647,
          2615,
          6804,
          70311,
          5661,
          12100,
          10796,
          3154,
          7756,
          8356,
          11077,
          4471,
          3722,
          1697,
          6292,
          13829,
          20838,
          2622,
          17951,
          22088,
          12859,
          71362,
          2377,
          51366,
          3164,
          6633,
          346,
          665,
          25910,
          4331,
          3121,
          172330,
          15453,
          3116,
          863,
          624,
          4072,
          608,
          9794,
          2684,
          10391,
          4853,
          7223,
          4231,
          19578,
          6331,
          5464,
          41854,
          4591,
          37988,
          16551,
          15783,
          8167,
          16899,
          5397,
          12383,
          18450,
          16814,
          33308,
          6756,
          30032,
          8026,
          15282,
          7008,
          5240,
          4540,
          6089,
          4399,
          10688,
          1911,
          5090,
          8400,
          41644,
          32455,
          2056,
          35569,
          34214,
          51993,
          30215,
          14783,
          4563,
          15082,
          42244,
          9031,
          10733,
          5042,
          112186,
          36631,
          8067,
          39541,
          2368,
          34097,
          12697,
          10970,
          6277,
          3686,
          2572,
          5188,
          9693,
          3641,
          22968,
          53631,
          12424,
          10424,
          33913,
          6265,
          4888,
          6012,
          1879,
          4566,
          17659,
          6705,
          1397,
          4899,
          38017,
          8636,
          5023,
          18511,
          4299,
          49144,
          49850,
          1688,
          41447,
          13393,
          12025,
          102987,
          16172,
          90150,
          22353,
          30758,
          27110,
          33366,
          28753,
          39914,
          34664,
          36356,
          671,
          4061,
          2407,
          11280,
          9048,
          863,
          24525,
          17199,
          6014,
          6217,
          1784,
          5080,
          14193,
          7926,
          9106,
          3618,
          1803,
          2643,
          9228,
          12891,
          5333,
          37572,
          9014,
          9933,
          2399,
          10011,
          15873,
          15135,
          29587,
          8541,
          6346,
          3402,
          22912,
          10396,
          2854,
          9216,
          16792,
          26732,
          8596,
          4303,
          3138,
          2237,
          1363,
          3369,
          5971,
          3374,
          2658,
          35314,
          8527,
          2240,
          6791,
          347,
          13449,
          53920,
          22667,
          62873,
          5503,
          4778,
          2832,
          22919,
          16262,
          1293,
          3687,
          2872,
          9367,
          14235,
          19239,
          23204,
          10719,
          15780,
          7740,
          5673,
          7840,
          1982,
          5074,
          108598,
          7257,
          11373,
          6981,
          1352,
          13153,
          13180,
          15099,
          11984,
          9858,
          12378,
          41756,
          16586,
          23871,
          14420,
          8831,
          23080,
          18214,
          8140,
          2528,
          11503,
          6083,
          11028,
          4485,
          5380,
          14346,
          4620,
          16405,
          12266,
          17591,
          12510,
          9465,
          17134,
          2696,
          2905,
          19549,
          3980,
          46978,
          25641,
          17725,
          13734,
          3907,
          7856,
          15138,
          43293,
          2649,
          9893,
          1393,
          5492,
          15826,
          574,
          17654,
          29106,
          45063,
          16088,
          16678,
          8623,
          61303,
          93942,
          31855,
          35938,
          26364,
          73339,
          7494,
          4271,
          18563,
          14754,
          10348,
          10111,
          9297,
          35623,
          12090,
          20883,
          107324,
          47964,
          18862,
          13559,
          23634,
          30048,
          57647,
          24742,
          11388,
          1377,
          1927,
          10424,
          11294,
          36934,
          1788,
          10842,
          3943,
          7755,
          1904,
          4058,
          15003,
          4338,
          12395,
          32548,
          1452,
          3403,
          6927,
          6608,
          7156,
          14091,
          10515,
          4163,
          4524,
          986,
          7431,
          2357,
          5599,
          21465,
          7356,
          828,
          10851,
          4035,
          943,
          1065,
          5405,
          7491,
          4740,
          3447,
          8467,
          4623,
          4506,
          30789,
          8451,
          8485,
          663,
          6430,
          9177,
          11802,
          5622,
          3390,
          1940,
          3214,
          34559,
          21573,
          2632,
          4775,
          2907,
          10680,
          2069,
          2353,
          10901,
          7357,
          1465,
          2000,
          17274,
          3187,
          4501,
          18093,
          11428,
          7582,
          36445,
          11189,
          2988,
          1812,
          4280,
          400,
          3843,
          5043,
          4202,
          22078,
          3262,
          3517,
          2200,
          2496,
          9103,
          3359,
          4351,
          80871,
          5617,
          419,
          11892,
          2048,
          8710,
          15634,
          2432,
          2063,
          2012,
          21814,
          1761,
          3113,
          3506,
          11904,
          1486,
          7938,
          7383,
          4250,
          3289,
          5009,
          7519,
          642,
          2167,
          676,
          421,
          3305,
          2820,
          21214,
          22659,
          63678,
          6216,
          8573,
          5684,
          2847,
          3645,
          1335,
          5942,
          792,
          7392,
          561,
          2518,
          2273,
          2373,
          4709,
          9659,
          6532,
          11095,
          5551,
          5650,
          2045,
          4680,
          12910,
          9328,
          12789,
          3642,
          1470,
          13711,
          4519,
          3121,
          6083,
          9202,
          12816,
          10940,
          2494,
          6034,
          4732,
          4120,
          4047,
          5151,
          3718,
          904,
          1691,
          5874,
          2535,
          2378,
          1281,
          2206,
          4857,
          4424,
          1808,
          1431,
          628,
          1373,
          1408,
          935,
          435,
          2468,
          2211,
          4373,
          2370,
          1782,
          995,
          6104,
          2583,
          2445,
          4751,
          2782,
          6638,
          2141,
          1595,
          1885,
          2337,
          7238,
          3059,
          2821,
          10792,
          3277,
          3060,
          819,
          6713,
          3366,
          5101,
          9426,
          3481,
          5645,
          6227,
          1714,
          3606,
          4648,
          2313,
          2358,
          2621,
          4078,
          2526,
          18198,
          3409,
          8443,
          9143,
          3481,
          4817,
          4023,
          3022,
          6774,
          3436,
          1406,
          2347,
          10600,
          16847,
          2738,
          3362,
          3603,
          4240,
          4990,
          16427,
          3683,
          7392,
          1820,
          1035,
          2885,
          11483,
          4448,
          2797,
          5467,
          3232,
          2186,
          5048,
          2227,
          721,
          3082,
          2571,
          2081,
          6767,
          7290,
          17501,
          15719,
          6668,
          4647,
          3233,
          2290,
          11736,
          1065,
          2630,
          42726,
          2040,
          2023,
          11870,
          11568,
          3022,
          5249,
          911,
          38041,
          31432,
          4485,
          4484,
          3226,
          1552,
          12000,
          2573,
          4841,
          8757,
          6557,
          16335,
          3746,
          4092,
          11257,
          621,
          575,
          705,
          2787,
          21811,
          6270,
          1080,
          3209,
          28136,
          718,
          1616,
          4127,
          1597,
          7102,
          1907,
          1697,
          1692,
          5955,
          1166,
          8125,
          15143,
          17517,
          2619,
          3022,
          2087,
          1468,
          17247,
          6603,
          4102,
          6698,
          7736,
          1218,
          3027,
          3292,
          22162,
          10375,
          183,
          2190,
          9546,
          17075,
          4645,
          11398,
          1371,
          4098,
          8394,
          3630,
          7289,
          4129,
          31058,
          2760,
          2069,
          4916,
          2620,
          2325,
          3256,
          12518,
          46564,
          1582,
          4545,
          4369,
          3436,
          10129,
          9303,
          7411,
          2235,
          9989,
          5809,
          10235,
          2805,
          6380,
          31245,
          11203,
          18444,
          6038,
          5874,
          6454,
          31783,
          631,
          660,
          20190,
          3492,
          10107,
          23352,
          2516,
          11202,
          27039,
          23791,
          1123,
          4595,
          1183,
          4067,
          3236,
          13124,
          87630,
          13425,
          46702,
          1916,
          3971,
          12073,
          21315,
          17973,
          16134,
          7311,
          27218,
          6409,
          9414,
          21349,
          3440,
          4645,
          997,
          709,
          3995,
          2516,
          6658,
          2736,
          2728,
          9613,
          2186,
          4263,
          9646,
          1582,
          1610,
          2227,
          3732,
          4071,
          19253,
          21615,
          13377,
          1793,
          1973,
          4890,
          2406,
          3021,
          3096,
          5200,
          9586,
          2457,
          5915,
          1686,
          1999,
          304,
          1490,
          2987,
          2088,
          5371,
          2550,
          4060,
          4883,
          8579,
          17643,
          2333,
          1345,
          2065,
          17591,
          3812,
          1128,
          1663,
          2232,
          1374,
          2348,
          6073,
          895,
          1390,
          3457,
          4961,
          1912,
          2736,
          5277,
          25646,
          3568,
          7580,
          3742,
          4924,
          3584,
          12169,
          4437,
          26589,
          10207,
          10134,
          8897,
          10060,
          5911,
          14390,
          2263,
          27530,
          48239,
          16166,
          4474,
          9049,
          2962,
          77661,
          19520,
          926,
          14519,
          4002,
          3445,
          3705,
          4587,
          5326,
          3159,
          1200,
          13935,
          25044,
          1833,
          2593,
          948,
          599,
          3534,
          1567,
          35742,
          3259,
          26181,
          4480,
          3776,
          1990,
          285,
          2251,
          1488,
          1482,
          18200,
          20727,
          6022,
          4109,
          29764,
          1877,
          6104,
          8792,
          30190,
          19771,
          6069,
          15877,
          18823,
          13991,
          9282,
          18603,
          20115,
          1024,
          831,
          398,
          2670,
          3160,
          579,
          1363,
          690,
          4210,
          24983,
          1421,
          13096,
          578,
          10171,
          2898,
          2644,
          1080,
          2798,
          2462,
          4234,
          2787,
          691,
          1189,
          347,
          46732,
          2497,
          2896,
          1418,
          3772,
          2654,
          4680,
          588,
          2415,
          4549,
          2525,
          5884,
          26256,
          84993,
          27555,
          37489,
          4095,
          18735,
          5254,
          4610,
          1684,
          2025,
          57719,
          1605,
          2213,
          3447,
          28606,
          6384,
          7545,
          6280,
          18490,
          14578,
          3610,
          9357,
          14384,
          8949,
          4819,
          19377,
          9207,
          4816,
          38595,
          29291,
          26112,
          11947,
          43907,
          6418,
          6100,
          20020,
          9453,
          6864,
          4236,
          5118,
          7593,
          4802,
          5550,
          4200,
          20212,
          3653,
          7634,
          7683,
          7856,
          5759,
          20570,
          1063,
          34061,
          9654,
          7145,
          3120,
          58570,
          10105,
          19152,
          10178,
          13453,
          6054,
          9611,
          18164,
          15344,
          12395,
          11298,
          10568,
          36464,
          43663,
          6778,
          1642,
          1153,
          3255,
          5734,
          8436,
          18177,
          19049,
          19202,
          8670,
          8477,
          7183,
          7312,
          8449,
          3960,
          3643,
          20926,
          9728,
          3747,
          14370,
          10015,
          2160,
          6592,
          18051,
          24654,
          4937,
          8783,
          4860,
          18306,
          8900,
          3512,
          404,
          6127,
          3261,
          2092,
          2417,
          1719,
          1428,
          30210,
          31461,
          74161,
          19395,
          83010,
          24484,
          2308,
          730,
          2927,
          11607,
          18885,
          38320,
          80451,
          8948,
          82842,
          25006,
          19926,
          53970,
          46889,
          24047,
          146415,
          302,
          11088,
          4881,
          20546,
          5601,
          31732,
          11754,
          3126,
          6869,
          3409,
          3762,
          2042,
          15975,
          4509,
          2777,
          775,
          10210,
          11410,
          37039,
          7389,
          9320,
          33453,
          7660,
          3197,
          3637,
          17223,
          30652,
          48079,
          22668,
          35401,
          24233,
          39517,
          17620,
          46479,
          39152,
          8065,
          26788,
          8920,
          33218,
          6679,
          77615,
          13483,
          10507,
          2848,
          3046,
          6523,
          3566,
          18946,
          1690,
          796,
          272,
          708,
          7113,
          6746,
          896,
          1224,
          4095,
          3569,
          31249,
          11130,
          9287,
          630,
          17205,
          20255,
          12357,
          5264,
          7114,
          26464,
          6192,
          23723,
          19898,
          3809,
          10772,
          26184,
          18198,
          7217,
          23507,
          27203,
          6243,
          22054,
          3660,
          10386,
          2086,
          1182,
          11753,
          9884,
          9795,
          7439,
          21514,
          8812,
          12024,
          3543,
          1489,
          36907,
          37329,
          55262,
          8931,
          1475,
          34736,
          21206,
          2502,
          3951,
          6427,
          9947,
          13496,
          2985,
          3380,
          8063,
          2799,
          5002,
          13604,
          6992,
          14144,
          7023,
          2660,
          5235,
          10900,
          6353,
          4702,
          4221,
          5680,
          13217,
          3718,
          630,
          12719,
          4444,
          43570,
          69299,
          4806,
          15464,
          41882,
          13937,
          18286,
          18663,
          18055,
          21988,
          8749,
          7309,
          15550,
          7741,
          15186,
          127381,
          1335,
          2331,
          15077,
          8653,
          4408,
          23661,
          14982,
          26010,
          8130,
          1398,
          2153,
          19321,
          3782,
          6772,
          7213,
          3294,
          10741,
          12625,
          5141,
          7178,
          37394,
          6074,
          3274,
          31783,
          2836,
          18509,
          5221,
          3534,
          12670,
          33232,
          16541,
          7845,
          14487,
          11149,
          6763,
          7883,
          1333,
          3955,
          7247,
          52905,
          1591,
          5672,
          14971,
          3720,
          31510,
          1135,
          12295,
          19499,
          2639,
          22172,
          55196,
          10124,
          7012,
          7544,
          624,
          15499,
          24092,
          22283,
          3206,
          8769,
          10280,
          3472,
          2776,
          749,
          17177,
          9544,
          13600,
          12455,
          1069,
          1794,
          11219,
          4125,
          24843,
          16538,
          22340,
          26827,
          5699,
          13358,
          50295,
          31412,
          17205,
          15510,
          19172,
          11772,
          3583,
          8606,
          63504,
          6922,
          10416,
          34835,
          3643,
          3261,
          42568,
          50606,
          37480,
          30863,
          24653,
          7626,
          4095,
          11825,
          21794,
          8737,
          32754,
          5958,
          17030,
          4786,
          25115,
          7355,
          62662,
          9198,
          7118,
          13398,
          56093,
          12284,
          6776,
          29565,
          1774,
          9502,
          20112,
          8191,
          5203,
          3359,
          10940,
          3520,
          6144,
          6265,
          1251,
          2453,
          39941,
          35396,
          24700,
          10724,
          27284,
          14039,
          5929,
          3781,
          2412,
          2874,
          2019,
          2327,
          4826,
          3443,
          6855,
          4645,
          32908,
          6138,
          12236,
          8310,
          2760,
          2509,
          9284,
          10568,
          4658,
          14081,
          43325,
          1629,
          2156,
          1256,
          728,
          5934,
          1979,
          2275,
          782,
          11446,
          1998,
          1961,
          1690,
          3672,
          10075,
          1136,
          15798,
          5059,
          4562,
          11908,
          8921,
          23660,
          10989,
          1248,
          14410,
          4766,
          8360,
          10499,
          22299,
          19151,
          52615,
          11442,
          5512,
          3161,
          17137,
          938,
          17371,
          447,
          2785,
          2975,
          27609,
          48828,
          50772,
          29152,
          65052,
          15926,
          4220
         ]
        }
       ],
       "layout": {
        "barmode": "overlay",
        "legend": {
         "bgcolor": "#F5F6F9",
         "font": {
          "color": "#4D5663"
         }
        },
        "paper_bgcolor": "#F5F6F9",
        "plot_bgcolor": "#F5F6F9",
        "template": {
         "data": {
          "bar": [
           {
            "error_x": {
             "color": "#2a3f5f"
            },
            "error_y": {
             "color": "#2a3f5f"
            },
            "marker": {
             "line": {
              "color": "#E5ECF6",
              "width": 0.5
             },
             "pattern": {
              "fillmode": "overlay",
              "size": 10,
              "solidity": 0.2
             }
            },
            "type": "bar"
           }
          ],
          "barpolar": [
           {
            "marker": {
             "line": {
              "color": "#E5ECF6",
              "width": 0.5
             },
             "pattern": {
              "fillmode": "overlay",
              "size": 10,
              "solidity": 0.2
             }
            },
            "type": "barpolar"
           }
          ],
          "carpet": [
           {
            "aaxis": {
             "endlinecolor": "#2a3f5f",
             "gridcolor": "white",
             "linecolor": "white",
             "minorgridcolor": "white",
             "startlinecolor": "#2a3f5f"
            },
            "baxis": {
             "endlinecolor": "#2a3f5f",
             "gridcolor": "white",
             "linecolor": "white",
             "minorgridcolor": "white",
             "startlinecolor": "#2a3f5f"
            },
            "type": "carpet"
           }
          ],
          "choropleth": [
           {
            "colorbar": {
             "outlinewidth": 0,
             "ticks": ""
            },
            "type": "choropleth"
           }
          ],
          "contour": [
           {
            "colorbar": {
             "outlinewidth": 0,
             "ticks": ""
            },
            "colorscale": [
             [
              0,
              "#0d0887"
             ],
             [
              0.1111111111111111,
              "#46039f"
             ],
             [
              0.2222222222222222,
              "#7201a8"
             ],
             [
              0.3333333333333333,
              "#9c179e"
             ],
             [
              0.4444444444444444,
              "#bd3786"
             ],
             [
              0.5555555555555556,
              "#d8576b"
             ],
             [
              0.6666666666666666,
              "#ed7953"
             ],
             [
              0.7777777777777778,
              "#fb9f3a"
             ],
             [
              0.8888888888888888,
              "#fdca26"
             ],
             [
              1,
              "#f0f921"
             ]
            ],
            "type": "contour"
           }
          ],
          "contourcarpet": [
           {
            "colorbar": {
             "outlinewidth": 0,
             "ticks": ""
            },
            "type": "contourcarpet"
           }
          ],
          "heatmap": [
           {
            "colorbar": {
             "outlinewidth": 0,
             "ticks": ""
            },
            "colorscale": [
             [
              0,
              "#0d0887"
             ],
             [
              0.1111111111111111,
              "#46039f"
             ],
             [
              0.2222222222222222,
              "#7201a8"
             ],
             [
              0.3333333333333333,
              "#9c179e"
             ],
             [
              0.4444444444444444,
              "#bd3786"
             ],
             [
              0.5555555555555556,
              "#d8576b"
             ],
             [
              0.6666666666666666,
              "#ed7953"
             ],
             [
              0.7777777777777778,
              "#fb9f3a"
             ],
             [
              0.8888888888888888,
              "#fdca26"
             ],
             [
              1,
              "#f0f921"
             ]
            ],
            "type": "heatmap"
           }
          ],
          "heatmapgl": [
           {
            "colorbar": {
             "outlinewidth": 0,
             "ticks": ""
            },
            "colorscale": [
             [
              0,
              "#0d0887"
             ],
             [
              0.1111111111111111,
              "#46039f"
             ],
             [
              0.2222222222222222,
              "#7201a8"
             ],
             [
              0.3333333333333333,
              "#9c179e"
             ],
             [
              0.4444444444444444,
              "#bd3786"
             ],
             [
              0.5555555555555556,
              "#d8576b"
             ],
             [
              0.6666666666666666,
              "#ed7953"
             ],
             [
              0.7777777777777778,
              "#fb9f3a"
             ],
             [
              0.8888888888888888,
              "#fdca26"
             ],
             [
              1,
              "#f0f921"
             ]
            ],
            "type": "heatmapgl"
           }
          ],
          "histogram": [
           {
            "marker": {
             "pattern": {
              "fillmode": "overlay",
              "size": 10,
              "solidity": 0.2
             }
            },
            "type": "histogram"
           }
          ],
          "histogram2d": [
           {
            "colorbar": {
             "outlinewidth": 0,
             "ticks": ""
            },
            "colorscale": [
             [
              0,
              "#0d0887"
             ],
             [
              0.1111111111111111,
              "#46039f"
             ],
             [
              0.2222222222222222,
              "#7201a8"
             ],
             [
              0.3333333333333333,
              "#9c179e"
             ],
             [
              0.4444444444444444,
              "#bd3786"
             ],
             [
              0.5555555555555556,
              "#d8576b"
             ],
             [
              0.6666666666666666,
              "#ed7953"
             ],
             [
              0.7777777777777778,
              "#fb9f3a"
             ],
             [
              0.8888888888888888,
              "#fdca26"
             ],
             [
              1,
              "#f0f921"
             ]
            ],
            "type": "histogram2d"
           }
          ],
          "histogram2dcontour": [
           {
            "colorbar": {
             "outlinewidth": 0,
             "ticks": ""
            },
            "colorscale": [
             [
              0,
              "#0d0887"
             ],
             [
              0.1111111111111111,
              "#46039f"
             ],
             [
              0.2222222222222222,
              "#7201a8"
             ],
             [
              0.3333333333333333,
              "#9c179e"
             ],
             [
              0.4444444444444444,
              "#bd3786"
             ],
             [
              0.5555555555555556,
              "#d8576b"
             ],
             [
              0.6666666666666666,
              "#ed7953"
             ],
             [
              0.7777777777777778,
              "#fb9f3a"
             ],
             [
              0.8888888888888888,
              "#fdca26"
             ],
             [
              1,
              "#f0f921"
             ]
            ],
            "type": "histogram2dcontour"
           }
          ],
          "mesh3d": [
           {
            "colorbar": {
             "outlinewidth": 0,
             "ticks": ""
            },
            "type": "mesh3d"
           }
          ],
          "parcoords": [
           {
            "line": {
             "colorbar": {
              "outlinewidth": 0,
              "ticks": ""
             }
            },
            "type": "parcoords"
           }
          ],
          "pie": [
           {
            "automargin": true,
            "type": "pie"
           }
          ],
          "scatter": [
           {
            "fillpattern": {
             "fillmode": "overlay",
             "size": 10,
             "solidity": 0.2
            },
            "type": "scatter"
           }
          ],
          "scatter3d": [
           {
            "line": {
             "colorbar": {
              "outlinewidth": 0,
              "ticks": ""
             }
            },
            "marker": {
             "colorbar": {
              "outlinewidth": 0,
              "ticks": ""
             }
            },
            "type": "scatter3d"
           }
          ],
          "scattercarpet": [
           {
            "marker": {
             "colorbar": {
              "outlinewidth": 0,
              "ticks": ""
             }
            },
            "type": "scattercarpet"
           }
          ],
          "scattergeo": [
           {
            "marker": {
             "colorbar": {
              "outlinewidth": 0,
              "ticks": ""
             }
            },
            "type": "scattergeo"
           }
          ],
          "scattergl": [
           {
            "marker": {
             "colorbar": {
              "outlinewidth": 0,
              "ticks": ""
             }
            },
            "type": "scattergl"
           }
          ],
          "scattermapbox": [
           {
            "marker": {
             "colorbar": {
              "outlinewidth": 0,
              "ticks": ""
             }
            },
            "type": "scattermapbox"
           }
          ],
          "scatterpolar": [
           {
            "marker": {
             "colorbar": {
              "outlinewidth": 0,
              "ticks": ""
             }
            },
            "type": "scatterpolar"
           }
          ],
          "scatterpolargl": [
           {
            "marker": {
             "colorbar": {
              "outlinewidth": 0,
              "ticks": ""
             }
            },
            "type": "scatterpolargl"
           }
          ],
          "scatterternary": [
           {
            "marker": {
             "colorbar": {
              "outlinewidth": 0,
              "ticks": ""
             }
            },
            "type": "scatterternary"
           }
          ],
          "surface": [
           {
            "colorbar": {
             "outlinewidth": 0,
             "ticks": ""
            },
            "colorscale": [
             [
              0,
              "#0d0887"
             ],
             [
              0.1111111111111111,
              "#46039f"
             ],
             [
              0.2222222222222222,
              "#7201a8"
             ],
             [
              0.3333333333333333,
              "#9c179e"
             ],
             [
              0.4444444444444444,
              "#bd3786"
             ],
             [
              0.5555555555555556,
              "#d8576b"
             ],
             [
              0.6666666666666666,
              "#ed7953"
             ],
             [
              0.7777777777777778,
              "#fb9f3a"
             ],
             [
              0.8888888888888888,
              "#fdca26"
             ],
             [
              1,
              "#f0f921"
             ]
            ],
            "type": "surface"
           }
          ],
          "table": [
           {
            "cells": {
             "fill": {
              "color": "#EBF0F8"
             },
             "line": {
              "color": "white"
             }
            },
            "header": {
             "fill": {
              "color": "#C8D4E3"
             },
             "line": {
              "color": "white"
             }
            },
            "type": "table"
           }
          ]
         },
         "layout": {
          "annotationdefaults": {
           "arrowcolor": "#2a3f5f",
           "arrowhead": 0,
           "arrowwidth": 1
          },
          "autotypenumbers": "strict",
          "coloraxis": {
           "colorbar": {
            "outlinewidth": 0,
            "ticks": ""
           }
          },
          "colorscale": {
           "diverging": [
            [
             0,
             "#8e0152"
            ],
            [
             0.1,
             "#c51b7d"
            ],
            [
             0.2,
             "#de77ae"
            ],
            [
             0.3,
             "#f1b6da"
            ],
            [
             0.4,
             "#fde0ef"
            ],
            [
             0.5,
             "#f7f7f7"
            ],
            [
             0.6,
             "#e6f5d0"
            ],
            [
             0.7,
             "#b8e186"
            ],
            [
             0.8,
             "#7fbc41"
            ],
            [
             0.9,
             "#4d9221"
            ],
            [
             1,
             "#276419"
            ]
           ],
           "sequential": [
            [
             0,
             "#0d0887"
            ],
            [
             0.1111111111111111,
             "#46039f"
            ],
            [
             0.2222222222222222,
             "#7201a8"
            ],
            [
             0.3333333333333333,
             "#9c179e"
            ],
            [
             0.4444444444444444,
             "#bd3786"
            ],
            [
             0.5555555555555556,
             "#d8576b"
            ],
            [
             0.6666666666666666,
             "#ed7953"
            ],
            [
             0.7777777777777778,
             "#fb9f3a"
            ],
            [
             0.8888888888888888,
             "#fdca26"
            ],
            [
             1,
             "#f0f921"
            ]
           ],
           "sequentialminus": [
            [
             0,
             "#0d0887"
            ],
            [
             0.1111111111111111,
             "#46039f"
            ],
            [
             0.2222222222222222,
             "#7201a8"
            ],
            [
             0.3333333333333333,
             "#9c179e"
            ],
            [
             0.4444444444444444,
             "#bd3786"
            ],
            [
             0.5555555555555556,
             "#d8576b"
            ],
            [
             0.6666666666666666,
             "#ed7953"
            ],
            [
             0.7777777777777778,
             "#fb9f3a"
            ],
            [
             0.8888888888888888,
             "#fdca26"
            ],
            [
             1,
             "#f0f921"
            ]
           ]
          },
          "colorway": [
           "#636efa",
           "#EF553B",
           "#00cc96",
           "#ab63fa",
           "#FFA15A",
           "#19d3f3",
           "#FF6692",
           "#B6E880",
           "#FF97FF",
           "#FECB52"
          ],
          "font": {
           "color": "#2a3f5f"
          },
          "geo": {
           "bgcolor": "white",
           "lakecolor": "white",
           "landcolor": "#E5ECF6",
           "showlakes": true,
           "showland": true,
           "subunitcolor": "white"
          },
          "hoverlabel": {
           "align": "left"
          },
          "hovermode": "closest",
          "mapbox": {
           "style": "light"
          },
          "paper_bgcolor": "white",
          "plot_bgcolor": "#E5ECF6",
          "polar": {
           "angularaxis": {
            "gridcolor": "white",
            "linecolor": "white",
            "ticks": ""
           },
           "bgcolor": "#E5ECF6",
           "radialaxis": {
            "gridcolor": "white",
            "linecolor": "white",
            "ticks": ""
           }
          },
          "scene": {
           "xaxis": {
            "backgroundcolor": "#E5ECF6",
            "gridcolor": "white",
            "gridwidth": 2,
            "linecolor": "white",
            "showbackground": true,
            "ticks": "",
            "zerolinecolor": "white"
           },
           "yaxis": {
            "backgroundcolor": "#E5ECF6",
            "gridcolor": "white",
            "gridwidth": 2,
            "linecolor": "white",
            "showbackground": true,
            "ticks": "",
            "zerolinecolor": "white"
           },
           "zaxis": {
            "backgroundcolor": "#E5ECF6",
            "gridcolor": "white",
            "gridwidth": 2,
            "linecolor": "white",
            "showbackground": true,
            "ticks": "",
            "zerolinecolor": "white"
           }
          },
          "shapedefaults": {
           "line": {
            "color": "#2a3f5f"
           }
          },
          "ternary": {
           "aaxis": {
            "gridcolor": "white",
            "linecolor": "white",
            "ticks": ""
           },
           "baxis": {
            "gridcolor": "white",
            "linecolor": "white",
            "ticks": ""
           },
           "bgcolor": "#E5ECF6",
           "caxis": {
            "gridcolor": "white",
            "linecolor": "white",
            "ticks": ""
           }
          },
          "title": {
           "x": 0.05
          },
          "xaxis": {
           "automargin": true,
           "gridcolor": "white",
           "linecolor": "white",
           "ticks": "",
           "title": {
            "standoff": 15
           },
           "zerolinecolor": "white",
           "zerolinewidth": 2
          },
          "yaxis": {
           "automargin": true,
           "gridcolor": "white",
           "linecolor": "white",
           "ticks": "",
           "title": {
            "standoff": 15
           },
           "zerolinecolor": "white",
           "zerolinewidth": 2
          }
         }
        },
        "title": {
         "font": {
          "color": "#4D5663"
         },
         "text": "Word Count Distribution in Hotel Description"
        },
        "xaxis": {
         "gridcolor": "#E1E5ED",
         "linecolor": "black",
         "showgrid": true,
         "tickfont": {
          "color": "#4D5663"
         },
         "title": {
          "font": {
           "color": "#4D5663"
          },
          "text": "Word Count"
         },
         "zerolinecolor": "#E1E5ED"
        },
        "yaxis": {
         "gridcolor": "#E1E5ED",
         "linecolor": "black",
         "showgrid": true,
         "tickfont": {
          "color": "#4D5663"
         },
         "title": {
          "font": {
           "color": "#4D5663"
          },
          "text": "Count"
         },
         "zerolinecolor": "#E1E5ED"
        }
       }
      },
      "text/html": [
       "<div>                            <div id=\"96bbd2d7-9edb-46bb-973e-906a86bc01ec\" class=\"plotly-graph-div\" style=\"height:525px; width:100%;\"></div>            <script type=\"text/javascript\">                require([\"plotly\"], function(Plotly) {                    window.PLOTLYENV=window.PLOTLYENV || {};\n",
       "                    window.PLOTLYENV.BASE_URL='https://plot.ly';                                    if (document.getElementById(\"96bbd2d7-9edb-46bb-973e-906a86bc01ec\")) {                    Plotly.newPlot(                        \"96bbd2d7-9edb-46bb-973e-906a86bc01ec\",                        [{\"histfunc\":\"count\",\"histnorm\":\"\",\"marker\":{\"color\":\"rgba(255, 153, 51, 1.0)\",\"line\":{\"color\":\"#000000\",\"width\":1.3}},\"name\":\"word_count\",\"nbinsx\":100,\"opacity\":0.8,\"orientation\":\"v\",\"x\":[5437,5777,25370,3411,476,20157,6407,1101,1625,10175,1672,312,2546,2205,2628,1518,4899,5479,5093,5716,5487,5392,3669,9090,7983,19388,13285,16909,11692,1094,8845,4483,6903,2890,5657,5421,39714,916,20271,15512,6036,2968,27803,36436,17873,24290,5220,3321,12853,6950,17964,7506,1254,3798,3277,13624,7500,6787,3363,33074,14488,31581,30586,11684,7504,27102,30437,2371,15471,1288,3647,13147,13340,10678,2647,1490,8743,3966,4030,808,12366,6862,5072,20628,5456,13070,11085,10737,14652,5069,16187,11285,24804,17389,7110,29195,5667,22783,21040,27800,18400,2647,35059,13597,4279,4080,3480,4665,12829,9685,20202,29996,2017,36387,3159,11599,12675,2757,7105,13971,1564,4438,4536,9086,3434,32587,5910,3145,5980,6965,1220,5499,1963,2538,11170,9654,10298,3123,3639,11616,9652,2411,28711,7461,3065,11548,35506,3228,3061,3902,23996,10319,22016,23647,2615,6804,70311,5661,12100,10796,3154,7756,8356,11077,4471,3722,1697,6292,13829,20838,2622,17951,22088,12859,71362,2377,51366,3164,6633,346,665,25910,4331,3121,172330,15453,3116,863,624,4072,608,9794,2684,10391,4853,7223,4231,19578,6331,5464,41854,4591,37988,16551,15783,8167,16899,5397,12383,18450,16814,33308,6756,30032,8026,15282,7008,5240,4540,6089,4399,10688,1911,5090,8400,41644,32455,2056,35569,34214,51993,30215,14783,4563,15082,42244,9031,10733,5042,112186,36631,8067,39541,2368,34097,12697,10970,6277,3686,2572,5188,9693,3641,22968,53631,12424,10424,33913,6265,4888,6012,1879,4566,17659,6705,1397,4899,38017,8636,5023,18511,4299,49144,49850,1688,41447,13393,12025,102987,16172,90150,22353,30758,27110,33366,28753,39914,34664,36356,671,4061,2407,11280,9048,863,24525,17199,6014,6217,1784,5080,14193,7926,9106,3618,1803,2643,9228,12891,5333,37572,9014,9933,2399,10011,15873,15135,29587,8541,6346,3402,22912,10396,2854,9216,16792,26732,8596,4303,3138,2237,1363,3369,5971,3374,2658,35314,8527,2240,6791,347,13449,53920,22667,62873,5503,4778,2832,22919,16262,1293,3687,2872,9367,14235,19239,23204,10719,15780,7740,5673,7840,1982,5074,108598,7257,11373,6981,1352,13153,13180,15099,11984,9858,12378,41756,16586,23871,14420,8831,23080,18214,8140,2528,11503,6083,11028,4485,5380,14346,4620,16405,12266,17591,12510,9465,17134,2696,2905,19549,3980,46978,25641,17725,13734,3907,7856,15138,43293,2649,9893,1393,5492,15826,574,17654,29106,45063,16088,16678,8623,61303,93942,31855,35938,26364,73339,7494,4271,18563,14754,10348,10111,9297,35623,12090,20883,107324,47964,18862,13559,23634,30048,57647,24742,11388,1377,1927,10424,11294,36934,1788,10842,3943,7755,1904,4058,15003,4338,12395,32548,1452,3403,6927,6608,7156,14091,10515,4163,4524,986,7431,2357,5599,21465,7356,828,10851,4035,943,1065,5405,7491,4740,3447,8467,4623,4506,30789,8451,8485,663,6430,9177,11802,5622,3390,1940,3214,34559,21573,2632,4775,2907,10680,2069,2353,10901,7357,1465,2000,17274,3187,4501,18093,11428,7582,36445,11189,2988,1812,4280,400,3843,5043,4202,22078,3262,3517,2200,2496,9103,3359,4351,80871,5617,419,11892,2048,8710,15634,2432,2063,2012,21814,1761,3113,3506,11904,1486,7938,7383,4250,3289,5009,7519,642,2167,676,421,3305,2820,21214,22659,63678,6216,8573,5684,2847,3645,1335,5942,792,7392,561,2518,2273,2373,4709,9659,6532,11095,5551,5650,2045,4680,12910,9328,12789,3642,1470,13711,4519,3121,6083,9202,12816,10940,2494,6034,4732,4120,4047,5151,3718,904,1691,5874,2535,2378,1281,2206,4857,4424,1808,1431,628,1373,1408,935,435,2468,2211,4373,2370,1782,995,6104,2583,2445,4751,2782,6638,2141,1595,1885,2337,7238,3059,2821,10792,3277,3060,819,6713,3366,5101,9426,3481,5645,6227,1714,3606,4648,2313,2358,2621,4078,2526,18198,3409,8443,9143,3481,4817,4023,3022,6774,3436,1406,2347,10600,16847,2738,3362,3603,4240,4990,16427,3683,7392,1820,1035,2885,11483,4448,2797,5467,3232,2186,5048,2227,721,3082,2571,2081,6767,7290,17501,15719,6668,4647,3233,2290,11736,1065,2630,42726,2040,2023,11870,11568,3022,5249,911,38041,31432,4485,4484,3226,1552,12000,2573,4841,8757,6557,16335,3746,4092,11257,621,575,705,2787,21811,6270,1080,3209,28136,718,1616,4127,1597,7102,1907,1697,1692,5955,1166,8125,15143,17517,2619,3022,2087,1468,17247,6603,4102,6698,7736,1218,3027,3292,22162,10375,183,2190,9546,17075,4645,11398,1371,4098,8394,3630,7289,4129,31058,2760,2069,4916,2620,2325,3256,12518,46564,1582,4545,4369,3436,10129,9303,7411,2235,9989,5809,10235,2805,6380,31245,11203,18444,6038,5874,6454,31783,631,660,20190,3492,10107,23352,2516,11202,27039,23791,1123,4595,1183,4067,3236,13124,87630,13425,46702,1916,3971,12073,21315,17973,16134,7311,27218,6409,9414,21349,3440,4645,997,709,3995,2516,6658,2736,2728,9613,2186,4263,9646,1582,1610,2227,3732,4071,19253,21615,13377,1793,1973,4890,2406,3021,3096,5200,9586,2457,5915,1686,1999,304,1490,2987,2088,5371,2550,4060,4883,8579,17643,2333,1345,2065,17591,3812,1128,1663,2232,1374,2348,6073,895,1390,3457,4961,1912,2736,5277,25646,3568,7580,3742,4924,3584,12169,4437,26589,10207,10134,8897,10060,5911,14390,2263,27530,48239,16166,4474,9049,2962,77661,19520,926,14519,4002,3445,3705,4587,5326,3159,1200,13935,25044,1833,2593,948,599,3534,1567,35742,3259,26181,4480,3776,1990,285,2251,1488,1482,18200,20727,6022,4109,29764,1877,6104,8792,30190,19771,6069,15877,18823,13991,9282,18603,20115,1024,831,398,2670,3160,579,1363,690,4210,24983,1421,13096,578,10171,2898,2644,1080,2798,2462,4234,2787,691,1189,347,46732,2497,2896,1418,3772,2654,4680,588,2415,4549,2525,5884,26256,84993,27555,37489,4095,18735,5254,4610,1684,2025,57719,1605,2213,3447,28606,6384,7545,6280,18490,14578,3610,9357,14384,8949,4819,19377,9207,4816,38595,29291,26112,11947,43907,6418,6100,20020,9453,6864,4236,5118,7593,4802,5550,4200,20212,3653,7634,7683,7856,5759,20570,1063,34061,9654,7145,3120,58570,10105,19152,10178,13453,6054,9611,18164,15344,12395,11298,10568,36464,43663,6778,1642,1153,3255,5734,8436,18177,19049,19202,8670,8477,7183,7312,8449,3960,3643,20926,9728,3747,14370,10015,2160,6592,18051,24654,4937,8783,4860,18306,8900,3512,404,6127,3261,2092,2417,1719,1428,30210,31461,74161,19395,83010,24484,2308,730,2927,11607,18885,38320,80451,8948,82842,25006,19926,53970,46889,24047,146415,302,11088,4881,20546,5601,31732,11754,3126,6869,3409,3762,2042,15975,4509,2777,775,10210,11410,37039,7389,9320,33453,7660,3197,3637,17223,30652,48079,22668,35401,24233,39517,17620,46479,39152,8065,26788,8920,33218,6679,77615,13483,10507,2848,3046,6523,3566,18946,1690,796,272,708,7113,6746,896,1224,4095,3569,31249,11130,9287,630,17205,20255,12357,5264,7114,26464,6192,23723,19898,3809,10772,26184,18198,7217,23507,27203,6243,22054,3660,10386,2086,1182,11753,9884,9795,7439,21514,8812,12024,3543,1489,36907,37329,55262,8931,1475,34736,21206,2502,3951,6427,9947,13496,2985,3380,8063,2799,5002,13604,6992,14144,7023,2660,5235,10900,6353,4702,4221,5680,13217,3718,630,12719,4444,43570,69299,4806,15464,41882,13937,18286,18663,18055,21988,8749,7309,15550,7741,15186,127381,1335,2331,15077,8653,4408,23661,14982,26010,8130,1398,2153,19321,3782,6772,7213,3294,10741,12625,5141,7178,37394,6074,3274,31783,2836,18509,5221,3534,12670,33232,16541,7845,14487,11149,6763,7883,1333,3955,7247,52905,1591,5672,14971,3720,31510,1135,12295,19499,2639,22172,55196,10124,7012,7544,624,15499,24092,22283,3206,8769,10280,3472,2776,749,17177,9544,13600,12455,1069,1794,11219,4125,24843,16538,22340,26827,5699,13358,50295,31412,17205,15510,19172,11772,3583,8606,63504,6922,10416,34835,3643,3261,42568,50606,37480,30863,24653,7626,4095,11825,21794,8737,32754,5958,17030,4786,25115,7355,62662,9198,7118,13398,56093,12284,6776,29565,1774,9502,20112,8191,5203,3359,10940,3520,6144,6265,1251,2453,39941,35396,24700,10724,27284,14039,5929,3781,2412,2874,2019,2327,4826,3443,6855,4645,32908,6138,12236,8310,2760,2509,9284,10568,4658,14081,43325,1629,2156,1256,728,5934,1979,2275,782,11446,1998,1961,1690,3672,10075,1136,15798,5059,4562,11908,8921,23660,10989,1248,14410,4766,8360,10499,22299,19151,52615,11442,5512,3161,17137,938,17371,447,2785,2975,27609,48828,50772,29152,65052,15926,4220],\"type\":\"histogram\"}],                        {\"barmode\":\"overlay\",\"legend\":{\"bgcolor\":\"#F5F6F9\",\"font\":{\"color\":\"#4D5663\"}},\"paper_bgcolor\":\"#F5F6F9\",\"plot_bgcolor\":\"#F5F6F9\",\"template\":{\"data\":{\"barpolar\":[{\"marker\":{\"line\":{\"color\":\"#E5ECF6\",\"width\":0.5},\"pattern\":{\"fillmode\":\"overlay\",\"size\":10,\"solidity\":0.2}},\"type\":\"barpolar\"}],\"bar\":[{\"error_x\":{\"color\":\"#2a3f5f\"},\"error_y\":{\"color\":\"#2a3f5f\"},\"marker\":{\"line\":{\"color\":\"#E5ECF6\",\"width\":0.5},\"pattern\":{\"fillmode\":\"overlay\",\"size\":10,\"solidity\":0.2}},\"type\":\"bar\"}],\"carpet\":[{\"aaxis\":{\"endlinecolor\":\"#2a3f5f\",\"gridcolor\":\"white\",\"linecolor\":\"white\",\"minorgridcolor\":\"white\",\"startlinecolor\":\"#2a3f5f\"},\"baxis\":{\"endlinecolor\":\"#2a3f5f\",\"gridcolor\":\"white\",\"linecolor\":\"white\",\"minorgridcolor\":\"white\",\"startlinecolor\":\"#2a3f5f\"},\"type\":\"carpet\"}],\"choropleth\":[{\"colorbar\":{\"outlinewidth\":0,\"ticks\":\"\"},\"type\":\"choropleth\"}],\"contourcarpet\":[{\"colorbar\":{\"outlinewidth\":0,\"ticks\":\"\"},\"type\":\"contourcarpet\"}],\"contour\":[{\"colorbar\":{\"outlinewidth\":0,\"ticks\":\"\"},\"colorscale\":[[0.0,\"#0d0887\"],[0.1111111111111111,\"#46039f\"],[0.2222222222222222,\"#7201a8\"],[0.3333333333333333,\"#9c179e\"],[0.4444444444444444,\"#bd3786\"],[0.5555555555555556,\"#d8576b\"],[0.6666666666666666,\"#ed7953\"],[0.7777777777777778,\"#fb9f3a\"],[0.8888888888888888,\"#fdca26\"],[1.0,\"#f0f921\"]],\"type\":\"contour\"}],\"heatmapgl\":[{\"colorbar\":{\"outlinewidth\":0,\"ticks\":\"\"},\"colorscale\":[[0.0,\"#0d0887\"],[0.1111111111111111,\"#46039f\"],[0.2222222222222222,\"#7201a8\"],[0.3333333333333333,\"#9c179e\"],[0.4444444444444444,\"#bd3786\"],[0.5555555555555556,\"#d8576b\"],[0.6666666666666666,\"#ed7953\"],[0.7777777777777778,\"#fb9f3a\"],[0.8888888888888888,\"#fdca26\"],[1.0,\"#f0f921\"]],\"type\":\"heatmapgl\"}],\"heatmap\":[{\"colorbar\":{\"outlinewidth\":0,\"ticks\":\"\"},\"colorscale\":[[0.0,\"#0d0887\"],[0.1111111111111111,\"#46039f\"],[0.2222222222222222,\"#7201a8\"],[0.3333333333333333,\"#9c179e\"],[0.4444444444444444,\"#bd3786\"],[0.5555555555555556,\"#d8576b\"],[0.6666666666666666,\"#ed7953\"],[0.7777777777777778,\"#fb9f3a\"],[0.8888888888888888,\"#fdca26\"],[1.0,\"#f0f921\"]],\"type\":\"heatmap\"}],\"histogram2dcontour\":[{\"colorbar\":{\"outlinewidth\":0,\"ticks\":\"\"},\"colorscale\":[[0.0,\"#0d0887\"],[0.1111111111111111,\"#46039f\"],[0.2222222222222222,\"#7201a8\"],[0.3333333333333333,\"#9c179e\"],[0.4444444444444444,\"#bd3786\"],[0.5555555555555556,\"#d8576b\"],[0.6666666666666666,\"#ed7953\"],[0.7777777777777778,\"#fb9f3a\"],[0.8888888888888888,\"#fdca26\"],[1.0,\"#f0f921\"]],\"type\":\"histogram2dcontour\"}],\"histogram2d\":[{\"colorbar\":{\"outlinewidth\":0,\"ticks\":\"\"},\"colorscale\":[[0.0,\"#0d0887\"],[0.1111111111111111,\"#46039f\"],[0.2222222222222222,\"#7201a8\"],[0.3333333333333333,\"#9c179e\"],[0.4444444444444444,\"#bd3786\"],[0.5555555555555556,\"#d8576b\"],[0.6666666666666666,\"#ed7953\"],[0.7777777777777778,\"#fb9f3a\"],[0.8888888888888888,\"#fdca26\"],[1.0,\"#f0f921\"]],\"type\":\"histogram2d\"}],\"histogram\":[{\"marker\":{\"pattern\":{\"fillmode\":\"overlay\",\"size\":10,\"solidity\":0.2}},\"type\":\"histogram\"}],\"mesh3d\":[{\"colorbar\":{\"outlinewidth\":0,\"ticks\":\"\"},\"type\":\"mesh3d\"}],\"parcoords\":[{\"line\":{\"colorbar\":{\"outlinewidth\":0,\"ticks\":\"\"}},\"type\":\"parcoords\"}],\"pie\":[{\"automargin\":true,\"type\":\"pie\"}],\"scatter3d\":[{\"line\":{\"colorbar\":{\"outlinewidth\":0,\"ticks\":\"\"}},\"marker\":{\"colorbar\":{\"outlinewidth\":0,\"ticks\":\"\"}},\"type\":\"scatter3d\"}],\"scattercarpet\":[{\"marker\":{\"colorbar\":{\"outlinewidth\":0,\"ticks\":\"\"}},\"type\":\"scattercarpet\"}],\"scattergeo\":[{\"marker\":{\"colorbar\":{\"outlinewidth\":0,\"ticks\":\"\"}},\"type\":\"scattergeo\"}],\"scattergl\":[{\"marker\":{\"colorbar\":{\"outlinewidth\":0,\"ticks\":\"\"}},\"type\":\"scattergl\"}],\"scattermapbox\":[{\"marker\":{\"colorbar\":{\"outlinewidth\":0,\"ticks\":\"\"}},\"type\":\"scattermapbox\"}],\"scatterpolargl\":[{\"marker\":{\"colorbar\":{\"outlinewidth\":0,\"ticks\":\"\"}},\"type\":\"scatterpolargl\"}],\"scatterpolar\":[{\"marker\":{\"colorbar\":{\"outlinewidth\":0,\"ticks\":\"\"}},\"type\":\"scatterpolar\"}],\"scatter\":[{\"fillpattern\":{\"fillmode\":\"overlay\",\"size\":10,\"solidity\":0.2},\"type\":\"scatter\"}],\"scatterternary\":[{\"marker\":{\"colorbar\":{\"outlinewidth\":0,\"ticks\":\"\"}},\"type\":\"scatterternary\"}],\"surface\":[{\"colorbar\":{\"outlinewidth\":0,\"ticks\":\"\"},\"colorscale\":[[0.0,\"#0d0887\"],[0.1111111111111111,\"#46039f\"],[0.2222222222222222,\"#7201a8\"],[0.3333333333333333,\"#9c179e\"],[0.4444444444444444,\"#bd3786\"],[0.5555555555555556,\"#d8576b\"],[0.6666666666666666,\"#ed7953\"],[0.7777777777777778,\"#fb9f3a\"],[0.8888888888888888,\"#fdca26\"],[1.0,\"#f0f921\"]],\"type\":\"surface\"}],\"table\":[{\"cells\":{\"fill\":{\"color\":\"#EBF0F8\"},\"line\":{\"color\":\"white\"}},\"header\":{\"fill\":{\"color\":\"#C8D4E3\"},\"line\":{\"color\":\"white\"}},\"type\":\"table\"}]},\"layout\":{\"annotationdefaults\":{\"arrowcolor\":\"#2a3f5f\",\"arrowhead\":0,\"arrowwidth\":1},\"autotypenumbers\":\"strict\",\"coloraxis\":{\"colorbar\":{\"outlinewidth\":0,\"ticks\":\"\"}},\"colorscale\":{\"diverging\":[[0,\"#8e0152\"],[0.1,\"#c51b7d\"],[0.2,\"#de77ae\"],[0.3,\"#f1b6da\"],[0.4,\"#fde0ef\"],[0.5,\"#f7f7f7\"],[0.6,\"#e6f5d0\"],[0.7,\"#b8e186\"],[0.8,\"#7fbc41\"],[0.9,\"#4d9221\"],[1,\"#276419\"]],\"sequential\":[[0.0,\"#0d0887\"],[0.1111111111111111,\"#46039f\"],[0.2222222222222222,\"#7201a8\"],[0.3333333333333333,\"#9c179e\"],[0.4444444444444444,\"#bd3786\"],[0.5555555555555556,\"#d8576b\"],[0.6666666666666666,\"#ed7953\"],[0.7777777777777778,\"#fb9f3a\"],[0.8888888888888888,\"#fdca26\"],[1.0,\"#f0f921\"]],\"sequentialminus\":[[0.0,\"#0d0887\"],[0.1111111111111111,\"#46039f\"],[0.2222222222222222,\"#7201a8\"],[0.3333333333333333,\"#9c179e\"],[0.4444444444444444,\"#bd3786\"],[0.5555555555555556,\"#d8576b\"],[0.6666666666666666,\"#ed7953\"],[0.7777777777777778,\"#fb9f3a\"],[0.8888888888888888,\"#fdca26\"],[1.0,\"#f0f921\"]]},\"colorway\":[\"#636efa\",\"#EF553B\",\"#00cc96\",\"#ab63fa\",\"#FFA15A\",\"#19d3f3\",\"#FF6692\",\"#B6E880\",\"#FF97FF\",\"#FECB52\"],\"font\":{\"color\":\"#2a3f5f\"},\"geo\":{\"bgcolor\":\"white\",\"lakecolor\":\"white\",\"landcolor\":\"#E5ECF6\",\"showlakes\":true,\"showland\":true,\"subunitcolor\":\"white\"},\"hoverlabel\":{\"align\":\"left\"},\"hovermode\":\"closest\",\"mapbox\":{\"style\":\"light\"},\"paper_bgcolor\":\"white\",\"plot_bgcolor\":\"#E5ECF6\",\"polar\":{\"angularaxis\":{\"gridcolor\":\"white\",\"linecolor\":\"white\",\"ticks\":\"\"},\"bgcolor\":\"#E5ECF6\",\"radialaxis\":{\"gridcolor\":\"white\",\"linecolor\":\"white\",\"ticks\":\"\"}},\"scene\":{\"xaxis\":{\"backgroundcolor\":\"#E5ECF6\",\"gridcolor\":\"white\",\"gridwidth\":2,\"linecolor\":\"white\",\"showbackground\":true,\"ticks\":\"\",\"zerolinecolor\":\"white\"},\"yaxis\":{\"backgroundcolor\":\"#E5ECF6\",\"gridcolor\":\"white\",\"gridwidth\":2,\"linecolor\":\"white\",\"showbackground\":true,\"ticks\":\"\",\"zerolinecolor\":\"white\"},\"zaxis\":{\"backgroundcolor\":\"#E5ECF6\",\"gridcolor\":\"white\",\"gridwidth\":2,\"linecolor\":\"white\",\"showbackground\":true,\"ticks\":\"\",\"zerolinecolor\":\"white\"}},\"shapedefaults\":{\"line\":{\"color\":\"#2a3f5f\"}},\"ternary\":{\"aaxis\":{\"gridcolor\":\"white\",\"linecolor\":\"white\",\"ticks\":\"\"},\"baxis\":{\"gridcolor\":\"white\",\"linecolor\":\"white\",\"ticks\":\"\"},\"bgcolor\":\"#E5ECF6\",\"caxis\":{\"gridcolor\":\"white\",\"linecolor\":\"white\",\"ticks\":\"\"}},\"title\":{\"x\":0.05},\"xaxis\":{\"automargin\":true,\"gridcolor\":\"white\",\"linecolor\":\"white\",\"ticks\":\"\",\"title\":{\"standoff\":15},\"zerolinecolor\":\"white\",\"zerolinewidth\":2},\"yaxis\":{\"automargin\":true,\"gridcolor\":\"white\",\"linecolor\":\"white\",\"ticks\":\"\",\"title\":{\"standoff\":15},\"zerolinecolor\":\"white\",\"zerolinewidth\":2}}},\"title\":{\"font\":{\"color\":\"#4D5663\"},\"text\":\"Word Count Distribution in Hotel Description\"},\"xaxis\":{\"gridcolor\":\"#E1E5ED\",\"linecolor\":\"black\",\"showgrid\":true,\"tickfont\":{\"color\":\"#4D5663\"},\"title\":{\"font\":{\"color\":\"#4D5663\"},\"text\":\"Word Count\"},\"zerolinecolor\":\"#E1E5ED\"},\"yaxis\":{\"gridcolor\":\"#E1E5ED\",\"linecolor\":\"black\",\"showgrid\":true,\"tickfont\":{\"color\":\"#4D5663\"},\"title\":{\"font\":{\"color\":\"#4D5663\"},\"text\":\"Count\"},\"zerolinecolor\":\"#E1E5ED\"}},                        {\"showLink\": true, \"linkText\": \"Export to plot.ly\", \"plotlyServerURL\": \"https://plot.ly\", \"responsive\": true}                    ).then(function(){\n",
       "                            \n",
       "var gd = document.getElementById('96bbd2d7-9edb-46bb-973e-906a86bc01ec');\n",
       "var x = new MutationObserver(function (mutations, observer) {{\n",
       "        var display = window.getComputedStyle(gd).display;\n",
       "        if (!display || display === 'none') {{\n",
       "            console.log([gd, 'removed!']);\n",
       "            Plotly.purge(gd);\n",
       "            observer.disconnect();\n",
       "        }}\n",
       "}});\n",
       "\n",
       "// Listen for the removal of the full notebook cells\n",
       "var notebookContainer = gd.closest('#notebook-container');\n",
       "if (notebookContainer) {{\n",
       "    x.observe(notebookContainer, {childList: true});\n",
       "}}\n",
       "\n",
       "// Listen for the clearing of the current output cell\n",
       "var outputEl = gd.closest('.output');\n",
       "if (outputEl) {{\n",
       "    x.observe(outputEl, {childList: true});\n",
       "}}\n",
       "\n",
       "                        })                };                });            </script>        </div>"
      ]
     },
     "metadata": {},
     "output_type": "display_data"
    }
   ],
   "source": [
    "hotel_review['word_count'].iplot(\n",
    "    kind='hist',\n",
    "    bins = 100,\n",
    "    linecolor='black',\n",
    "    xTitle='Word Count',\n",
    "    yTitle='Count',\n",
    "    title='Word Count Distribution in Hotel Description')"
   ]
  },
  {
   "cell_type": "markdown",
   "metadata": {},
   "source": [
    "## Unigram Text Visualisation "
   ]
  },
  {
   "cell_type": "markdown",
   "metadata": {},
   "source": [
    "### Without Stopwords"
   ]
  },
  {
   "cell_type": "code",
   "execution_count": 13,
   "metadata": {},
   "outputs": [
    {
     "data": {
      "application/vnd.plotly.v1+json": {
       "config": {
        "linkText": "Export to plot.ly",
        "plotlyServerURL": "https://plot.ly",
        "showLink": true
       },
       "data": [
        {
         "marker": {
          "color": "rgba(255, 153, 51, 0.6)",
          "line": {
           "color": "rgba(255, 153, 51, 1.0)",
           "width": 1
          }
         },
         "name": "count",
         "orientation": "h",
         "text": "",
         "type": "bar",
         "x": [
          131948,
          141658,
          147906,
          151710,
          163543,
          167190,
          182913,
          198490,
          202475,
          207371,
          225807,
          232715,
          241052,
          271372,
          280011,
          314653,
          413923,
          470523,
          635918,
          1038922
         ],
         "y": [
          "good",
          "breakfast",
          "not",
          "were",
          "it",
          "we",
          "is",
          "hotel",
          "location",
          "for",
          "of",
          "staff",
          "no",
          "very",
          "in",
          "room",
          "to",
          "was",
          "and",
          "the"
         ]
        }
       ],
       "layout": {
        "legend": {
         "bgcolor": "#F5F6F9",
         "font": {
          "color": "#4D5663"
         }
        },
        "paper_bgcolor": "#F5F6F9",
        "plot_bgcolor": "#F5F6F9",
        "template": {
         "data": {
          "bar": [
           {
            "error_x": {
             "color": "#2a3f5f"
            },
            "error_y": {
             "color": "#2a3f5f"
            },
            "marker": {
             "line": {
              "color": "#E5ECF6",
              "width": 0.5
             },
             "pattern": {
              "fillmode": "overlay",
              "size": 10,
              "solidity": 0.2
             }
            },
            "type": "bar"
           }
          ],
          "barpolar": [
           {
            "marker": {
             "line": {
              "color": "#E5ECF6",
              "width": 0.5
             },
             "pattern": {
              "fillmode": "overlay",
              "size": 10,
              "solidity": 0.2
             }
            },
            "type": "barpolar"
           }
          ],
          "carpet": [
           {
            "aaxis": {
             "endlinecolor": "#2a3f5f",
             "gridcolor": "white",
             "linecolor": "white",
             "minorgridcolor": "white",
             "startlinecolor": "#2a3f5f"
            },
            "baxis": {
             "endlinecolor": "#2a3f5f",
             "gridcolor": "white",
             "linecolor": "white",
             "minorgridcolor": "white",
             "startlinecolor": "#2a3f5f"
            },
            "type": "carpet"
           }
          ],
          "choropleth": [
           {
            "colorbar": {
             "outlinewidth": 0,
             "ticks": ""
            },
            "type": "choropleth"
           }
          ],
          "contour": [
           {
            "colorbar": {
             "outlinewidth": 0,
             "ticks": ""
            },
            "colorscale": [
             [
              0,
              "#0d0887"
             ],
             [
              0.1111111111111111,
              "#46039f"
             ],
             [
              0.2222222222222222,
              "#7201a8"
             ],
             [
              0.3333333333333333,
              "#9c179e"
             ],
             [
              0.4444444444444444,
              "#bd3786"
             ],
             [
              0.5555555555555556,
              "#d8576b"
             ],
             [
              0.6666666666666666,
              "#ed7953"
             ],
             [
              0.7777777777777778,
              "#fb9f3a"
             ],
             [
              0.8888888888888888,
              "#fdca26"
             ],
             [
              1,
              "#f0f921"
             ]
            ],
            "type": "contour"
           }
          ],
          "contourcarpet": [
           {
            "colorbar": {
             "outlinewidth": 0,
             "ticks": ""
            },
            "type": "contourcarpet"
           }
          ],
          "heatmap": [
           {
            "colorbar": {
             "outlinewidth": 0,
             "ticks": ""
            },
            "colorscale": [
             [
              0,
              "#0d0887"
             ],
             [
              0.1111111111111111,
              "#46039f"
             ],
             [
              0.2222222222222222,
              "#7201a8"
             ],
             [
              0.3333333333333333,
              "#9c179e"
             ],
             [
              0.4444444444444444,
              "#bd3786"
             ],
             [
              0.5555555555555556,
              "#d8576b"
             ],
             [
              0.6666666666666666,
              "#ed7953"
             ],
             [
              0.7777777777777778,
              "#fb9f3a"
             ],
             [
              0.8888888888888888,
              "#fdca26"
             ],
             [
              1,
              "#f0f921"
             ]
            ],
            "type": "heatmap"
           }
          ],
          "heatmapgl": [
           {
            "colorbar": {
             "outlinewidth": 0,
             "ticks": ""
            },
            "colorscale": [
             [
              0,
              "#0d0887"
             ],
             [
              0.1111111111111111,
              "#46039f"
             ],
             [
              0.2222222222222222,
              "#7201a8"
             ],
             [
              0.3333333333333333,
              "#9c179e"
             ],
             [
              0.4444444444444444,
              "#bd3786"
             ],
             [
              0.5555555555555556,
              "#d8576b"
             ],
             [
              0.6666666666666666,
              "#ed7953"
             ],
             [
              0.7777777777777778,
              "#fb9f3a"
             ],
             [
              0.8888888888888888,
              "#fdca26"
             ],
             [
              1,
              "#f0f921"
             ]
            ],
            "type": "heatmapgl"
           }
          ],
          "histogram": [
           {
            "marker": {
             "pattern": {
              "fillmode": "overlay",
              "size": 10,
              "solidity": 0.2
             }
            },
            "type": "histogram"
           }
          ],
          "histogram2d": [
           {
            "colorbar": {
             "outlinewidth": 0,
             "ticks": ""
            },
            "colorscale": [
             [
              0,
              "#0d0887"
             ],
             [
              0.1111111111111111,
              "#46039f"
             ],
             [
              0.2222222222222222,
              "#7201a8"
             ],
             [
              0.3333333333333333,
              "#9c179e"
             ],
             [
              0.4444444444444444,
              "#bd3786"
             ],
             [
              0.5555555555555556,
              "#d8576b"
             ],
             [
              0.6666666666666666,
              "#ed7953"
             ],
             [
              0.7777777777777778,
              "#fb9f3a"
             ],
             [
              0.8888888888888888,
              "#fdca26"
             ],
             [
              1,
              "#f0f921"
             ]
            ],
            "type": "histogram2d"
           }
          ],
          "histogram2dcontour": [
           {
            "colorbar": {
             "outlinewidth": 0,
             "ticks": ""
            },
            "colorscale": [
             [
              0,
              "#0d0887"
             ],
             [
              0.1111111111111111,
              "#46039f"
             ],
             [
              0.2222222222222222,
              "#7201a8"
             ],
             [
              0.3333333333333333,
              "#9c179e"
             ],
             [
              0.4444444444444444,
              "#bd3786"
             ],
             [
              0.5555555555555556,
              "#d8576b"
             ],
             [
              0.6666666666666666,
              "#ed7953"
             ],
             [
              0.7777777777777778,
              "#fb9f3a"
             ],
             [
              0.8888888888888888,
              "#fdca26"
             ],
             [
              1,
              "#f0f921"
             ]
            ],
            "type": "histogram2dcontour"
           }
          ],
          "mesh3d": [
           {
            "colorbar": {
             "outlinewidth": 0,
             "ticks": ""
            },
            "type": "mesh3d"
           }
          ],
          "parcoords": [
           {
            "line": {
             "colorbar": {
              "outlinewidth": 0,
              "ticks": ""
             }
            },
            "type": "parcoords"
           }
          ],
          "pie": [
           {
            "automargin": true,
            "type": "pie"
           }
          ],
          "scatter": [
           {
            "fillpattern": {
             "fillmode": "overlay",
             "size": 10,
             "solidity": 0.2
            },
            "type": "scatter"
           }
          ],
          "scatter3d": [
           {
            "line": {
             "colorbar": {
              "outlinewidth": 0,
              "ticks": ""
             }
            },
            "marker": {
             "colorbar": {
              "outlinewidth": 0,
              "ticks": ""
             }
            },
            "type": "scatter3d"
           }
          ],
          "scattercarpet": [
           {
            "marker": {
             "colorbar": {
              "outlinewidth": 0,
              "ticks": ""
             }
            },
            "type": "scattercarpet"
           }
          ],
          "scattergeo": [
           {
            "marker": {
             "colorbar": {
              "outlinewidth": 0,
              "ticks": ""
             }
            },
            "type": "scattergeo"
           }
          ],
          "scattergl": [
           {
            "marker": {
             "colorbar": {
              "outlinewidth": 0,
              "ticks": ""
             }
            },
            "type": "scattergl"
           }
          ],
          "scattermapbox": [
           {
            "marker": {
             "colorbar": {
              "outlinewidth": 0,
              "ticks": ""
             }
            },
            "type": "scattermapbox"
           }
          ],
          "scatterpolar": [
           {
            "marker": {
             "colorbar": {
              "outlinewidth": 0,
              "ticks": ""
             }
            },
            "type": "scatterpolar"
           }
          ],
          "scatterpolargl": [
           {
            "marker": {
             "colorbar": {
              "outlinewidth": 0,
              "ticks": ""
             }
            },
            "type": "scatterpolargl"
           }
          ],
          "scatterternary": [
           {
            "marker": {
             "colorbar": {
              "outlinewidth": 0,
              "ticks": ""
             }
            },
            "type": "scatterternary"
           }
          ],
          "surface": [
           {
            "colorbar": {
             "outlinewidth": 0,
             "ticks": ""
            },
            "colorscale": [
             [
              0,
              "#0d0887"
             ],
             [
              0.1111111111111111,
              "#46039f"
             ],
             [
              0.2222222222222222,
              "#7201a8"
             ],
             [
              0.3333333333333333,
              "#9c179e"
             ],
             [
              0.4444444444444444,
              "#bd3786"
             ],
             [
              0.5555555555555556,
              "#d8576b"
             ],
             [
              0.6666666666666666,
              "#ed7953"
             ],
             [
              0.7777777777777778,
              "#fb9f3a"
             ],
             [
              0.8888888888888888,
              "#fdca26"
             ],
             [
              1,
              "#f0f921"
             ]
            ],
            "type": "surface"
           }
          ],
          "table": [
           {
            "cells": {
             "fill": {
              "color": "#EBF0F8"
             },
             "line": {
              "color": "white"
             }
            },
            "header": {
             "fill": {
              "color": "#C8D4E3"
             },
             "line": {
              "color": "white"
             }
            },
            "type": "table"
           }
          ]
         },
         "layout": {
          "annotationdefaults": {
           "arrowcolor": "#2a3f5f",
           "arrowhead": 0,
           "arrowwidth": 1
          },
          "autotypenumbers": "strict",
          "coloraxis": {
           "colorbar": {
            "outlinewidth": 0,
            "ticks": ""
           }
          },
          "colorscale": {
           "diverging": [
            [
             0,
             "#8e0152"
            ],
            [
             0.1,
             "#c51b7d"
            ],
            [
             0.2,
             "#de77ae"
            ],
            [
             0.3,
             "#f1b6da"
            ],
            [
             0.4,
             "#fde0ef"
            ],
            [
             0.5,
             "#f7f7f7"
            ],
            [
             0.6,
             "#e6f5d0"
            ],
            [
             0.7,
             "#b8e186"
            ],
            [
             0.8,
             "#7fbc41"
            ],
            [
             0.9,
             "#4d9221"
            ],
            [
             1,
             "#276419"
            ]
           ],
           "sequential": [
            [
             0,
             "#0d0887"
            ],
            [
             0.1111111111111111,
             "#46039f"
            ],
            [
             0.2222222222222222,
             "#7201a8"
            ],
            [
             0.3333333333333333,
             "#9c179e"
            ],
            [
             0.4444444444444444,
             "#bd3786"
            ],
            [
             0.5555555555555556,
             "#d8576b"
            ],
            [
             0.6666666666666666,
             "#ed7953"
            ],
            [
             0.7777777777777778,
             "#fb9f3a"
            ],
            [
             0.8888888888888888,
             "#fdca26"
            ],
            [
             1,
             "#f0f921"
            ]
           ],
           "sequentialminus": [
            [
             0,
             "#0d0887"
            ],
            [
             0.1111111111111111,
             "#46039f"
            ],
            [
             0.2222222222222222,
             "#7201a8"
            ],
            [
             0.3333333333333333,
             "#9c179e"
            ],
            [
             0.4444444444444444,
             "#bd3786"
            ],
            [
             0.5555555555555556,
             "#d8576b"
            ],
            [
             0.6666666666666666,
             "#ed7953"
            ],
            [
             0.7777777777777778,
             "#fb9f3a"
            ],
            [
             0.8888888888888888,
             "#fdca26"
            ],
            [
             1,
             "#f0f921"
            ]
           ]
          },
          "colorway": [
           "#636efa",
           "#EF553B",
           "#00cc96",
           "#ab63fa",
           "#FFA15A",
           "#19d3f3",
           "#FF6692",
           "#B6E880",
           "#FF97FF",
           "#FECB52"
          ],
          "font": {
           "color": "#2a3f5f"
          },
          "geo": {
           "bgcolor": "white",
           "lakecolor": "white",
           "landcolor": "#E5ECF6",
           "showlakes": true,
           "showland": true,
           "subunitcolor": "white"
          },
          "hoverlabel": {
           "align": "left"
          },
          "hovermode": "closest",
          "mapbox": {
           "style": "light"
          },
          "paper_bgcolor": "white",
          "plot_bgcolor": "#E5ECF6",
          "polar": {
           "angularaxis": {
            "gridcolor": "white",
            "linecolor": "white",
            "ticks": ""
           },
           "bgcolor": "#E5ECF6",
           "radialaxis": {
            "gridcolor": "white",
            "linecolor": "white",
            "ticks": ""
           }
          },
          "scene": {
           "xaxis": {
            "backgroundcolor": "#E5ECF6",
            "gridcolor": "white",
            "gridwidth": 2,
            "linecolor": "white",
            "showbackground": true,
            "ticks": "",
            "zerolinecolor": "white"
           },
           "yaxis": {
            "backgroundcolor": "#E5ECF6",
            "gridcolor": "white",
            "gridwidth": 2,
            "linecolor": "white",
            "showbackground": true,
            "ticks": "",
            "zerolinecolor": "white"
           },
           "zaxis": {
            "backgroundcolor": "#E5ECF6",
            "gridcolor": "white",
            "gridwidth": 2,
            "linecolor": "white",
            "showbackground": true,
            "ticks": "",
            "zerolinecolor": "white"
           }
          },
          "shapedefaults": {
           "line": {
            "color": "#2a3f5f"
           }
          },
          "ternary": {
           "aaxis": {
            "gridcolor": "white",
            "linecolor": "white",
            "ticks": ""
           },
           "baxis": {
            "gridcolor": "white",
            "linecolor": "white",
            "ticks": ""
           },
           "bgcolor": "#E5ECF6",
           "caxis": {
            "gridcolor": "white",
            "linecolor": "white",
            "ticks": ""
           }
          },
          "title": {
           "x": 0.05
          },
          "xaxis": {
           "automargin": true,
           "gridcolor": "white",
           "linecolor": "white",
           "ticks": "",
           "title": {
            "standoff": 15
           },
           "zerolinecolor": "white",
           "zerolinewidth": 2
          },
          "yaxis": {
           "automargin": true,
           "gridcolor": "white",
           "linecolor": "white",
           "ticks": "",
           "title": {
            "standoff": 15
           },
           "zerolinecolor": "white",
           "zerolinewidth": 2
          }
         }
        },
        "title": {
         "font": {
          "color": "#4D5663"
         },
         "text": "Top 20 words in hotel description before removing stop words"
        },
        "xaxis": {
         "gridcolor": "#E1E5ED",
         "linecolor": "black",
         "showgrid": true,
         "tickfont": {
          "color": "#4D5663"
         },
         "title": {
          "font": {
           "color": "#4D5663"
          },
          "text": ""
         },
         "zerolinecolor": "#E1E5ED"
        },
        "yaxis": {
         "gridcolor": "#E1E5ED",
         "linecolor": "black",
         "showgrid": true,
         "tickfont": {
          "color": "#4D5663"
         },
         "title": {
          "font": {
           "color": "#4D5663"
          },
          "text": "Count"
         },
         "zerolinecolor": "#E1E5ED"
        }
       }
      },
      "text/html": [
       "<div>                            <div id=\"f0bb920f-3af8-4749-9569-5f0f202b607b\" class=\"plotly-graph-div\" style=\"height:525px; width:100%;\"></div>            <script type=\"text/javascript\">                require([\"plotly\"], function(Plotly) {                    window.PLOTLYENV=window.PLOTLYENV || {};\n",
       "                    window.PLOTLYENV.BASE_URL='https://plot.ly';                                    if (document.getElementById(\"f0bb920f-3af8-4749-9569-5f0f202b607b\")) {                    Plotly.newPlot(                        \"f0bb920f-3af8-4749-9569-5f0f202b607b\",                        [{\"marker\":{\"color\":\"rgba(255, 153, 51, 0.6)\",\"line\":{\"color\":\"rgba(255, 153, 51, 1.0)\",\"width\":1}},\"name\":\"count\",\"orientation\":\"h\",\"text\":\"\",\"x\":[131948,141658,147906,151710,163543,167190,182913,198490,202475,207371,225807,232715,241052,271372,280011,314653,413923,470523,635918,1038922],\"y\":[\"good\",\"breakfast\",\"not\",\"were\",\"it\",\"we\",\"is\",\"hotel\",\"location\",\"for\",\"of\",\"staff\",\"no\",\"very\",\"in\",\"room\",\"to\",\"was\",\"and\",\"the\"],\"type\":\"bar\"}],                        {\"legend\":{\"bgcolor\":\"#F5F6F9\",\"font\":{\"color\":\"#4D5663\"}},\"paper_bgcolor\":\"#F5F6F9\",\"plot_bgcolor\":\"#F5F6F9\",\"template\":{\"data\":{\"barpolar\":[{\"marker\":{\"line\":{\"color\":\"#E5ECF6\",\"width\":0.5},\"pattern\":{\"fillmode\":\"overlay\",\"size\":10,\"solidity\":0.2}},\"type\":\"barpolar\"}],\"bar\":[{\"error_x\":{\"color\":\"#2a3f5f\"},\"error_y\":{\"color\":\"#2a3f5f\"},\"marker\":{\"line\":{\"color\":\"#E5ECF6\",\"width\":0.5},\"pattern\":{\"fillmode\":\"overlay\",\"size\":10,\"solidity\":0.2}},\"type\":\"bar\"}],\"carpet\":[{\"aaxis\":{\"endlinecolor\":\"#2a3f5f\",\"gridcolor\":\"white\",\"linecolor\":\"white\",\"minorgridcolor\":\"white\",\"startlinecolor\":\"#2a3f5f\"},\"baxis\":{\"endlinecolor\":\"#2a3f5f\",\"gridcolor\":\"white\",\"linecolor\":\"white\",\"minorgridcolor\":\"white\",\"startlinecolor\":\"#2a3f5f\"},\"type\":\"carpet\"}],\"choropleth\":[{\"colorbar\":{\"outlinewidth\":0,\"ticks\":\"\"},\"type\":\"choropleth\"}],\"contourcarpet\":[{\"colorbar\":{\"outlinewidth\":0,\"ticks\":\"\"},\"type\":\"contourcarpet\"}],\"contour\":[{\"colorbar\":{\"outlinewidth\":0,\"ticks\":\"\"},\"colorscale\":[[0.0,\"#0d0887\"],[0.1111111111111111,\"#46039f\"],[0.2222222222222222,\"#7201a8\"],[0.3333333333333333,\"#9c179e\"],[0.4444444444444444,\"#bd3786\"],[0.5555555555555556,\"#d8576b\"],[0.6666666666666666,\"#ed7953\"],[0.7777777777777778,\"#fb9f3a\"],[0.8888888888888888,\"#fdca26\"],[1.0,\"#f0f921\"]],\"type\":\"contour\"}],\"heatmapgl\":[{\"colorbar\":{\"outlinewidth\":0,\"ticks\":\"\"},\"colorscale\":[[0.0,\"#0d0887\"],[0.1111111111111111,\"#46039f\"],[0.2222222222222222,\"#7201a8\"],[0.3333333333333333,\"#9c179e\"],[0.4444444444444444,\"#bd3786\"],[0.5555555555555556,\"#d8576b\"],[0.6666666666666666,\"#ed7953\"],[0.7777777777777778,\"#fb9f3a\"],[0.8888888888888888,\"#fdca26\"],[1.0,\"#f0f921\"]],\"type\":\"heatmapgl\"}],\"heatmap\":[{\"colorbar\":{\"outlinewidth\":0,\"ticks\":\"\"},\"colorscale\":[[0.0,\"#0d0887\"],[0.1111111111111111,\"#46039f\"],[0.2222222222222222,\"#7201a8\"],[0.3333333333333333,\"#9c179e\"],[0.4444444444444444,\"#bd3786\"],[0.5555555555555556,\"#d8576b\"],[0.6666666666666666,\"#ed7953\"],[0.7777777777777778,\"#fb9f3a\"],[0.8888888888888888,\"#fdca26\"],[1.0,\"#f0f921\"]],\"type\":\"heatmap\"}],\"histogram2dcontour\":[{\"colorbar\":{\"outlinewidth\":0,\"ticks\":\"\"},\"colorscale\":[[0.0,\"#0d0887\"],[0.1111111111111111,\"#46039f\"],[0.2222222222222222,\"#7201a8\"],[0.3333333333333333,\"#9c179e\"],[0.4444444444444444,\"#bd3786\"],[0.5555555555555556,\"#d8576b\"],[0.6666666666666666,\"#ed7953\"],[0.7777777777777778,\"#fb9f3a\"],[0.8888888888888888,\"#fdca26\"],[1.0,\"#f0f921\"]],\"type\":\"histogram2dcontour\"}],\"histogram2d\":[{\"colorbar\":{\"outlinewidth\":0,\"ticks\":\"\"},\"colorscale\":[[0.0,\"#0d0887\"],[0.1111111111111111,\"#46039f\"],[0.2222222222222222,\"#7201a8\"],[0.3333333333333333,\"#9c179e\"],[0.4444444444444444,\"#bd3786\"],[0.5555555555555556,\"#d8576b\"],[0.6666666666666666,\"#ed7953\"],[0.7777777777777778,\"#fb9f3a\"],[0.8888888888888888,\"#fdca26\"],[1.0,\"#f0f921\"]],\"type\":\"histogram2d\"}],\"histogram\":[{\"marker\":{\"pattern\":{\"fillmode\":\"overlay\",\"size\":10,\"solidity\":0.2}},\"type\":\"histogram\"}],\"mesh3d\":[{\"colorbar\":{\"outlinewidth\":0,\"ticks\":\"\"},\"type\":\"mesh3d\"}],\"parcoords\":[{\"line\":{\"colorbar\":{\"outlinewidth\":0,\"ticks\":\"\"}},\"type\":\"parcoords\"}],\"pie\":[{\"automargin\":true,\"type\":\"pie\"}],\"scatter3d\":[{\"line\":{\"colorbar\":{\"outlinewidth\":0,\"ticks\":\"\"}},\"marker\":{\"colorbar\":{\"outlinewidth\":0,\"ticks\":\"\"}},\"type\":\"scatter3d\"}],\"scattercarpet\":[{\"marker\":{\"colorbar\":{\"outlinewidth\":0,\"ticks\":\"\"}},\"type\":\"scattercarpet\"}],\"scattergeo\":[{\"marker\":{\"colorbar\":{\"outlinewidth\":0,\"ticks\":\"\"}},\"type\":\"scattergeo\"}],\"scattergl\":[{\"marker\":{\"colorbar\":{\"outlinewidth\":0,\"ticks\":\"\"}},\"type\":\"scattergl\"}],\"scattermapbox\":[{\"marker\":{\"colorbar\":{\"outlinewidth\":0,\"ticks\":\"\"}},\"type\":\"scattermapbox\"}],\"scatterpolargl\":[{\"marker\":{\"colorbar\":{\"outlinewidth\":0,\"ticks\":\"\"}},\"type\":\"scatterpolargl\"}],\"scatterpolar\":[{\"marker\":{\"colorbar\":{\"outlinewidth\":0,\"ticks\":\"\"}},\"type\":\"scatterpolar\"}],\"scatter\":[{\"fillpattern\":{\"fillmode\":\"overlay\",\"size\":10,\"solidity\":0.2},\"type\":\"scatter\"}],\"scatterternary\":[{\"marker\":{\"colorbar\":{\"outlinewidth\":0,\"ticks\":\"\"}},\"type\":\"scatterternary\"}],\"surface\":[{\"colorbar\":{\"outlinewidth\":0,\"ticks\":\"\"},\"colorscale\":[[0.0,\"#0d0887\"],[0.1111111111111111,\"#46039f\"],[0.2222222222222222,\"#7201a8\"],[0.3333333333333333,\"#9c179e\"],[0.4444444444444444,\"#bd3786\"],[0.5555555555555556,\"#d8576b\"],[0.6666666666666666,\"#ed7953\"],[0.7777777777777778,\"#fb9f3a\"],[0.8888888888888888,\"#fdca26\"],[1.0,\"#f0f921\"]],\"type\":\"surface\"}],\"table\":[{\"cells\":{\"fill\":{\"color\":\"#EBF0F8\"},\"line\":{\"color\":\"white\"}},\"header\":{\"fill\":{\"color\":\"#C8D4E3\"},\"line\":{\"color\":\"white\"}},\"type\":\"table\"}]},\"layout\":{\"annotationdefaults\":{\"arrowcolor\":\"#2a3f5f\",\"arrowhead\":0,\"arrowwidth\":1},\"autotypenumbers\":\"strict\",\"coloraxis\":{\"colorbar\":{\"outlinewidth\":0,\"ticks\":\"\"}},\"colorscale\":{\"diverging\":[[0,\"#8e0152\"],[0.1,\"#c51b7d\"],[0.2,\"#de77ae\"],[0.3,\"#f1b6da\"],[0.4,\"#fde0ef\"],[0.5,\"#f7f7f7\"],[0.6,\"#e6f5d0\"],[0.7,\"#b8e186\"],[0.8,\"#7fbc41\"],[0.9,\"#4d9221\"],[1,\"#276419\"]],\"sequential\":[[0.0,\"#0d0887\"],[0.1111111111111111,\"#46039f\"],[0.2222222222222222,\"#7201a8\"],[0.3333333333333333,\"#9c179e\"],[0.4444444444444444,\"#bd3786\"],[0.5555555555555556,\"#d8576b\"],[0.6666666666666666,\"#ed7953\"],[0.7777777777777778,\"#fb9f3a\"],[0.8888888888888888,\"#fdca26\"],[1.0,\"#f0f921\"]],\"sequentialminus\":[[0.0,\"#0d0887\"],[0.1111111111111111,\"#46039f\"],[0.2222222222222222,\"#7201a8\"],[0.3333333333333333,\"#9c179e\"],[0.4444444444444444,\"#bd3786\"],[0.5555555555555556,\"#d8576b\"],[0.6666666666666666,\"#ed7953\"],[0.7777777777777778,\"#fb9f3a\"],[0.8888888888888888,\"#fdca26\"],[1.0,\"#f0f921\"]]},\"colorway\":[\"#636efa\",\"#EF553B\",\"#00cc96\",\"#ab63fa\",\"#FFA15A\",\"#19d3f3\",\"#FF6692\",\"#B6E880\",\"#FF97FF\",\"#FECB52\"],\"font\":{\"color\":\"#2a3f5f\"},\"geo\":{\"bgcolor\":\"white\",\"lakecolor\":\"white\",\"landcolor\":\"#E5ECF6\",\"showlakes\":true,\"showland\":true,\"subunitcolor\":\"white\"},\"hoverlabel\":{\"align\":\"left\"},\"hovermode\":\"closest\",\"mapbox\":{\"style\":\"light\"},\"paper_bgcolor\":\"white\",\"plot_bgcolor\":\"#E5ECF6\",\"polar\":{\"angularaxis\":{\"gridcolor\":\"white\",\"linecolor\":\"white\",\"ticks\":\"\"},\"bgcolor\":\"#E5ECF6\",\"radialaxis\":{\"gridcolor\":\"white\",\"linecolor\":\"white\",\"ticks\":\"\"}},\"scene\":{\"xaxis\":{\"backgroundcolor\":\"#E5ECF6\",\"gridcolor\":\"white\",\"gridwidth\":2,\"linecolor\":\"white\",\"showbackground\":true,\"ticks\":\"\",\"zerolinecolor\":\"white\"},\"yaxis\":{\"backgroundcolor\":\"#E5ECF6\",\"gridcolor\":\"white\",\"gridwidth\":2,\"linecolor\":\"white\",\"showbackground\":true,\"ticks\":\"\",\"zerolinecolor\":\"white\"},\"zaxis\":{\"backgroundcolor\":\"#E5ECF6\",\"gridcolor\":\"white\",\"gridwidth\":2,\"linecolor\":\"white\",\"showbackground\":true,\"ticks\":\"\",\"zerolinecolor\":\"white\"}},\"shapedefaults\":{\"line\":{\"color\":\"#2a3f5f\"}},\"ternary\":{\"aaxis\":{\"gridcolor\":\"white\",\"linecolor\":\"white\",\"ticks\":\"\"},\"baxis\":{\"gridcolor\":\"white\",\"linecolor\":\"white\",\"ticks\":\"\"},\"bgcolor\":\"#E5ECF6\",\"caxis\":{\"gridcolor\":\"white\",\"linecolor\":\"white\",\"ticks\":\"\"}},\"title\":{\"x\":0.05},\"xaxis\":{\"automargin\":true,\"gridcolor\":\"white\",\"linecolor\":\"white\",\"ticks\":\"\",\"title\":{\"standoff\":15},\"zerolinecolor\":\"white\",\"zerolinewidth\":2},\"yaxis\":{\"automargin\":true,\"gridcolor\":\"white\",\"linecolor\":\"white\",\"ticks\":\"\",\"title\":{\"standoff\":15},\"zerolinecolor\":\"white\",\"zerolinewidth\":2}}},\"title\":{\"font\":{\"color\":\"#4D5663\"},\"text\":\"Top 20 words in hotel description before removing stop words\"},\"xaxis\":{\"gridcolor\":\"#E1E5ED\",\"linecolor\":\"black\",\"showgrid\":true,\"tickfont\":{\"color\":\"#4D5663\"},\"title\":{\"font\":{\"color\":\"#4D5663\"},\"text\":\"\"},\"zerolinecolor\":\"#E1E5ED\"},\"yaxis\":{\"gridcolor\":\"#E1E5ED\",\"linecolor\":\"black\",\"showgrid\":true,\"tickfont\":{\"color\":\"#4D5663\"},\"title\":{\"font\":{\"color\":\"#4D5663\"},\"text\":\"Count\"},\"zerolinecolor\":\"#E1E5ED\"}},                        {\"showLink\": true, \"linkText\": \"Export to plot.ly\", \"plotlyServerURL\": \"https://plot.ly\", \"responsive\": true}                    ).then(function(){\n",
       "                            \n",
       "var gd = document.getElementById('f0bb920f-3af8-4749-9569-5f0f202b607b');\n",
       "var x = new MutationObserver(function (mutations, observer) {{\n",
       "        var display = window.getComputedStyle(gd).display;\n",
       "        if (!display || display === 'none') {{\n",
       "            console.log([gd, 'removed!']);\n",
       "            Plotly.purge(gd);\n",
       "            observer.disconnect();\n",
       "        }}\n",
       "}});\n",
       "\n",
       "// Listen for the removal of the full notebook cells\n",
       "var notebookContainer = gd.closest('#notebook-container');\n",
       "if (notebookContainer) {{\n",
       "    x.observe(notebookContainer, {childList: true});\n",
       "}}\n",
       "\n",
       "// Listen for the clearing of the current output cell\n",
       "var outputEl = gd.closest('.output');\n",
       "if (outputEl) {{\n",
       "    x.observe(outputEl, {childList: true});\n",
       "}}\n",
       "\n",
       "                        })                };                });            </script>        </div>"
      ]
     },
     "metadata": {},
     "output_type": "display_data"
    }
   ],
   "source": [
    "common_words = get_top_n_words(hotel_review['review_text'], 20,y=(1,1))\n",
    "df3 = pd.DataFrame(common_words, columns = ['review_text' , 'count'])\n",
    "df3.groupby('review_text').sum()['count'].sort_values().iplot(kind='barh', yTitle='Count', linecolor='black', title='Top 20 words in hotel description before removing stop words')\n"
   ]
  },
  {
   "cell_type": "markdown",
   "metadata": {},
   "source": [
    "### With Stopwords"
   ]
  },
  {
   "cell_type": "code",
   "execution_count": 14,
   "metadata": {},
   "outputs": [
    {
     "data": {
      "application/vnd.plotly.v1+json": {
       "config": {
        "linkText": "Export to plot.ly",
        "plotlyServerURL": "https://plot.ly",
        "showLink": true
       },
       "data": [
        {
         "marker": {
          "color": "rgba(255, 153, 51, 0.6)",
          "line": {
           "color": "rgba(255, 153, 51, 1.0)",
           "width": 1
          }
         },
         "name": "count",
         "orientation": "h",
         "text": "",
         "type": "bar",
         "x": [
          43762,
          44439,
          44951,
          49167,
          61223,
          64187,
          65064,
          74638,
          74860,
          78707,
          79356,
          80025,
          89412,
          114819,
          131948,
          141658,
          198490,
          202475,
          232715,
          314653
         ],
         "y": [
          "bathroom",
          "really",
          "service",
          "stay",
          "small",
          "excellent",
          "comfortable",
          "rooms",
          "clean",
          "nice",
          "bed",
          "helpful",
          "friendly",
          "great",
          "good",
          "breakfast",
          "hotel",
          "location",
          "staff",
          "room"
         ]
        }
       ],
       "layout": {
        "legend": {
         "bgcolor": "#F5F6F9",
         "font": {
          "color": "#4D5663"
         }
        },
        "paper_bgcolor": "#F5F6F9",
        "plot_bgcolor": "#F5F6F9",
        "template": {
         "data": {
          "bar": [
           {
            "error_x": {
             "color": "#2a3f5f"
            },
            "error_y": {
             "color": "#2a3f5f"
            },
            "marker": {
             "line": {
              "color": "#E5ECF6",
              "width": 0.5
             },
             "pattern": {
              "fillmode": "overlay",
              "size": 10,
              "solidity": 0.2
             }
            },
            "type": "bar"
           }
          ],
          "barpolar": [
           {
            "marker": {
             "line": {
              "color": "#E5ECF6",
              "width": 0.5
             },
             "pattern": {
              "fillmode": "overlay",
              "size": 10,
              "solidity": 0.2
             }
            },
            "type": "barpolar"
           }
          ],
          "carpet": [
           {
            "aaxis": {
             "endlinecolor": "#2a3f5f",
             "gridcolor": "white",
             "linecolor": "white",
             "minorgridcolor": "white",
             "startlinecolor": "#2a3f5f"
            },
            "baxis": {
             "endlinecolor": "#2a3f5f",
             "gridcolor": "white",
             "linecolor": "white",
             "minorgridcolor": "white",
             "startlinecolor": "#2a3f5f"
            },
            "type": "carpet"
           }
          ],
          "choropleth": [
           {
            "colorbar": {
             "outlinewidth": 0,
             "ticks": ""
            },
            "type": "choropleth"
           }
          ],
          "contour": [
           {
            "colorbar": {
             "outlinewidth": 0,
             "ticks": ""
            },
            "colorscale": [
             [
              0,
              "#0d0887"
             ],
             [
              0.1111111111111111,
              "#46039f"
             ],
             [
              0.2222222222222222,
              "#7201a8"
             ],
             [
              0.3333333333333333,
              "#9c179e"
             ],
             [
              0.4444444444444444,
              "#bd3786"
             ],
             [
              0.5555555555555556,
              "#d8576b"
             ],
             [
              0.6666666666666666,
              "#ed7953"
             ],
             [
              0.7777777777777778,
              "#fb9f3a"
             ],
             [
              0.8888888888888888,
              "#fdca26"
             ],
             [
              1,
              "#f0f921"
             ]
            ],
            "type": "contour"
           }
          ],
          "contourcarpet": [
           {
            "colorbar": {
             "outlinewidth": 0,
             "ticks": ""
            },
            "type": "contourcarpet"
           }
          ],
          "heatmap": [
           {
            "colorbar": {
             "outlinewidth": 0,
             "ticks": ""
            },
            "colorscale": [
             [
              0,
              "#0d0887"
             ],
             [
              0.1111111111111111,
              "#46039f"
             ],
             [
              0.2222222222222222,
              "#7201a8"
             ],
             [
              0.3333333333333333,
              "#9c179e"
             ],
             [
              0.4444444444444444,
              "#bd3786"
             ],
             [
              0.5555555555555556,
              "#d8576b"
             ],
             [
              0.6666666666666666,
              "#ed7953"
             ],
             [
              0.7777777777777778,
              "#fb9f3a"
             ],
             [
              0.8888888888888888,
              "#fdca26"
             ],
             [
              1,
              "#f0f921"
             ]
            ],
            "type": "heatmap"
           }
          ],
          "heatmapgl": [
           {
            "colorbar": {
             "outlinewidth": 0,
             "ticks": ""
            },
            "colorscale": [
             [
              0,
              "#0d0887"
             ],
             [
              0.1111111111111111,
              "#46039f"
             ],
             [
              0.2222222222222222,
              "#7201a8"
             ],
             [
              0.3333333333333333,
              "#9c179e"
             ],
             [
              0.4444444444444444,
              "#bd3786"
             ],
             [
              0.5555555555555556,
              "#d8576b"
             ],
             [
              0.6666666666666666,
              "#ed7953"
             ],
             [
              0.7777777777777778,
              "#fb9f3a"
             ],
             [
              0.8888888888888888,
              "#fdca26"
             ],
             [
              1,
              "#f0f921"
             ]
            ],
            "type": "heatmapgl"
           }
          ],
          "histogram": [
           {
            "marker": {
             "pattern": {
              "fillmode": "overlay",
              "size": 10,
              "solidity": 0.2
             }
            },
            "type": "histogram"
           }
          ],
          "histogram2d": [
           {
            "colorbar": {
             "outlinewidth": 0,
             "ticks": ""
            },
            "colorscale": [
             [
              0,
              "#0d0887"
             ],
             [
              0.1111111111111111,
              "#46039f"
             ],
             [
              0.2222222222222222,
              "#7201a8"
             ],
             [
              0.3333333333333333,
              "#9c179e"
             ],
             [
              0.4444444444444444,
              "#bd3786"
             ],
             [
              0.5555555555555556,
              "#d8576b"
             ],
             [
              0.6666666666666666,
              "#ed7953"
             ],
             [
              0.7777777777777778,
              "#fb9f3a"
             ],
             [
              0.8888888888888888,
              "#fdca26"
             ],
             [
              1,
              "#f0f921"
             ]
            ],
            "type": "histogram2d"
           }
          ],
          "histogram2dcontour": [
           {
            "colorbar": {
             "outlinewidth": 0,
             "ticks": ""
            },
            "colorscale": [
             [
              0,
              "#0d0887"
             ],
             [
              0.1111111111111111,
              "#46039f"
             ],
             [
              0.2222222222222222,
              "#7201a8"
             ],
             [
              0.3333333333333333,
              "#9c179e"
             ],
             [
              0.4444444444444444,
              "#bd3786"
             ],
             [
              0.5555555555555556,
              "#d8576b"
             ],
             [
              0.6666666666666666,
              "#ed7953"
             ],
             [
              0.7777777777777778,
              "#fb9f3a"
             ],
             [
              0.8888888888888888,
              "#fdca26"
             ],
             [
              1,
              "#f0f921"
             ]
            ],
            "type": "histogram2dcontour"
           }
          ],
          "mesh3d": [
           {
            "colorbar": {
             "outlinewidth": 0,
             "ticks": ""
            },
            "type": "mesh3d"
           }
          ],
          "parcoords": [
           {
            "line": {
             "colorbar": {
              "outlinewidth": 0,
              "ticks": ""
             }
            },
            "type": "parcoords"
           }
          ],
          "pie": [
           {
            "automargin": true,
            "type": "pie"
           }
          ],
          "scatter": [
           {
            "fillpattern": {
             "fillmode": "overlay",
             "size": 10,
             "solidity": 0.2
            },
            "type": "scatter"
           }
          ],
          "scatter3d": [
           {
            "line": {
             "colorbar": {
              "outlinewidth": 0,
              "ticks": ""
             }
            },
            "marker": {
             "colorbar": {
              "outlinewidth": 0,
              "ticks": ""
             }
            },
            "type": "scatter3d"
           }
          ],
          "scattercarpet": [
           {
            "marker": {
             "colorbar": {
              "outlinewidth": 0,
              "ticks": ""
             }
            },
            "type": "scattercarpet"
           }
          ],
          "scattergeo": [
           {
            "marker": {
             "colorbar": {
              "outlinewidth": 0,
              "ticks": ""
             }
            },
            "type": "scattergeo"
           }
          ],
          "scattergl": [
           {
            "marker": {
             "colorbar": {
              "outlinewidth": 0,
              "ticks": ""
             }
            },
            "type": "scattergl"
           }
          ],
          "scattermapbox": [
           {
            "marker": {
             "colorbar": {
              "outlinewidth": 0,
              "ticks": ""
             }
            },
            "type": "scattermapbox"
           }
          ],
          "scatterpolar": [
           {
            "marker": {
             "colorbar": {
              "outlinewidth": 0,
              "ticks": ""
             }
            },
            "type": "scatterpolar"
           }
          ],
          "scatterpolargl": [
           {
            "marker": {
             "colorbar": {
              "outlinewidth": 0,
              "ticks": ""
             }
            },
            "type": "scatterpolargl"
           }
          ],
          "scatterternary": [
           {
            "marker": {
             "colorbar": {
              "outlinewidth": 0,
              "ticks": ""
             }
            },
            "type": "scatterternary"
           }
          ],
          "surface": [
           {
            "colorbar": {
             "outlinewidth": 0,
             "ticks": ""
            },
            "colorscale": [
             [
              0,
              "#0d0887"
             ],
             [
              0.1111111111111111,
              "#46039f"
             ],
             [
              0.2222222222222222,
              "#7201a8"
             ],
             [
              0.3333333333333333,
              "#9c179e"
             ],
             [
              0.4444444444444444,
              "#bd3786"
             ],
             [
              0.5555555555555556,
              "#d8576b"
             ],
             [
              0.6666666666666666,
              "#ed7953"
             ],
             [
              0.7777777777777778,
              "#fb9f3a"
             ],
             [
              0.8888888888888888,
              "#fdca26"
             ],
             [
              1,
              "#f0f921"
             ]
            ],
            "type": "surface"
           }
          ],
          "table": [
           {
            "cells": {
             "fill": {
              "color": "#EBF0F8"
             },
             "line": {
              "color": "white"
             }
            },
            "header": {
             "fill": {
              "color": "#C8D4E3"
             },
             "line": {
              "color": "white"
             }
            },
            "type": "table"
           }
          ]
         },
         "layout": {
          "annotationdefaults": {
           "arrowcolor": "#2a3f5f",
           "arrowhead": 0,
           "arrowwidth": 1
          },
          "autotypenumbers": "strict",
          "coloraxis": {
           "colorbar": {
            "outlinewidth": 0,
            "ticks": ""
           }
          },
          "colorscale": {
           "diverging": [
            [
             0,
             "#8e0152"
            ],
            [
             0.1,
             "#c51b7d"
            ],
            [
             0.2,
             "#de77ae"
            ],
            [
             0.3,
             "#f1b6da"
            ],
            [
             0.4,
             "#fde0ef"
            ],
            [
             0.5,
             "#f7f7f7"
            ],
            [
             0.6,
             "#e6f5d0"
            ],
            [
             0.7,
             "#b8e186"
            ],
            [
             0.8,
             "#7fbc41"
            ],
            [
             0.9,
             "#4d9221"
            ],
            [
             1,
             "#276419"
            ]
           ],
           "sequential": [
            [
             0,
             "#0d0887"
            ],
            [
             0.1111111111111111,
             "#46039f"
            ],
            [
             0.2222222222222222,
             "#7201a8"
            ],
            [
             0.3333333333333333,
             "#9c179e"
            ],
            [
             0.4444444444444444,
             "#bd3786"
            ],
            [
             0.5555555555555556,
             "#d8576b"
            ],
            [
             0.6666666666666666,
             "#ed7953"
            ],
            [
             0.7777777777777778,
             "#fb9f3a"
            ],
            [
             0.8888888888888888,
             "#fdca26"
            ],
            [
             1,
             "#f0f921"
            ]
           ],
           "sequentialminus": [
            [
             0,
             "#0d0887"
            ],
            [
             0.1111111111111111,
             "#46039f"
            ],
            [
             0.2222222222222222,
             "#7201a8"
            ],
            [
             0.3333333333333333,
             "#9c179e"
            ],
            [
             0.4444444444444444,
             "#bd3786"
            ],
            [
             0.5555555555555556,
             "#d8576b"
            ],
            [
             0.6666666666666666,
             "#ed7953"
            ],
            [
             0.7777777777777778,
             "#fb9f3a"
            ],
            [
             0.8888888888888888,
             "#fdca26"
            ],
            [
             1,
             "#f0f921"
            ]
           ]
          },
          "colorway": [
           "#636efa",
           "#EF553B",
           "#00cc96",
           "#ab63fa",
           "#FFA15A",
           "#19d3f3",
           "#FF6692",
           "#B6E880",
           "#FF97FF",
           "#FECB52"
          ],
          "font": {
           "color": "#2a3f5f"
          },
          "geo": {
           "bgcolor": "white",
           "lakecolor": "white",
           "landcolor": "#E5ECF6",
           "showlakes": true,
           "showland": true,
           "subunitcolor": "white"
          },
          "hoverlabel": {
           "align": "left"
          },
          "hovermode": "closest",
          "mapbox": {
           "style": "light"
          },
          "paper_bgcolor": "white",
          "plot_bgcolor": "#E5ECF6",
          "polar": {
           "angularaxis": {
            "gridcolor": "white",
            "linecolor": "white",
            "ticks": ""
           },
           "bgcolor": "#E5ECF6",
           "radialaxis": {
            "gridcolor": "white",
            "linecolor": "white",
            "ticks": ""
           }
          },
          "scene": {
           "xaxis": {
            "backgroundcolor": "#E5ECF6",
            "gridcolor": "white",
            "gridwidth": 2,
            "linecolor": "white",
            "showbackground": true,
            "ticks": "",
            "zerolinecolor": "white"
           },
           "yaxis": {
            "backgroundcolor": "#E5ECF6",
            "gridcolor": "white",
            "gridwidth": 2,
            "linecolor": "white",
            "showbackground": true,
            "ticks": "",
            "zerolinecolor": "white"
           },
           "zaxis": {
            "backgroundcolor": "#E5ECF6",
            "gridcolor": "white",
            "gridwidth": 2,
            "linecolor": "white",
            "showbackground": true,
            "ticks": "",
            "zerolinecolor": "white"
           }
          },
          "shapedefaults": {
           "line": {
            "color": "#2a3f5f"
           }
          },
          "ternary": {
           "aaxis": {
            "gridcolor": "white",
            "linecolor": "white",
            "ticks": ""
           },
           "baxis": {
            "gridcolor": "white",
            "linecolor": "white",
            "ticks": ""
           },
           "bgcolor": "#E5ECF6",
           "caxis": {
            "gridcolor": "white",
            "linecolor": "white",
            "ticks": ""
           }
          },
          "title": {
           "x": 0.05
          },
          "xaxis": {
           "automargin": true,
           "gridcolor": "white",
           "linecolor": "white",
           "ticks": "",
           "title": {
            "standoff": 15
           },
           "zerolinecolor": "white",
           "zerolinewidth": 2
          },
          "yaxis": {
           "automargin": true,
           "gridcolor": "white",
           "linecolor": "white",
           "ticks": "",
           "title": {
            "standoff": 15
           },
           "zerolinecolor": "white",
           "zerolinewidth": 2
          }
         }
        },
        "title": {
         "font": {
          "color": "#4D5663"
         },
         "text": "Top 20 words in hotel description after removing stop words"
        },
        "xaxis": {
         "gridcolor": "#E1E5ED",
         "linecolor": "black",
         "showgrid": true,
         "tickfont": {
          "color": "#4D5663"
         },
         "title": {
          "font": {
           "color": "#4D5663"
          },
          "text": ""
         },
         "zerolinecolor": "#E1E5ED"
        },
        "yaxis": {
         "gridcolor": "#E1E5ED",
         "linecolor": "black",
         "showgrid": true,
         "tickfont": {
          "color": "#4D5663"
         },
         "title": {
          "font": {
           "color": "#4D5663"
          },
          "text": "Count"
         },
         "zerolinecolor": "#E1E5ED"
        }
       }
      },
      "text/html": [
       "<div>                            <div id=\"29d0bd86-b0d7-4cf1-9460-f0e9aeee96ba\" class=\"plotly-graph-div\" style=\"height:525px; width:100%;\"></div>            <script type=\"text/javascript\">                require([\"plotly\"], function(Plotly) {                    window.PLOTLYENV=window.PLOTLYENV || {};\n",
       "                    window.PLOTLYENV.BASE_URL='https://plot.ly';                                    if (document.getElementById(\"29d0bd86-b0d7-4cf1-9460-f0e9aeee96ba\")) {                    Plotly.newPlot(                        \"29d0bd86-b0d7-4cf1-9460-f0e9aeee96ba\",                        [{\"marker\":{\"color\":\"rgba(255, 153, 51, 0.6)\",\"line\":{\"color\":\"rgba(255, 153, 51, 1.0)\",\"width\":1}},\"name\":\"count\",\"orientation\":\"h\",\"text\":\"\",\"x\":[43762,44439,44951,49167,61223,64187,65064,74638,74860,78707,79356,80025,89412,114819,131948,141658,198490,202475,232715,314653],\"y\":[\"bathroom\",\"really\",\"service\",\"stay\",\"small\",\"excellent\",\"comfortable\",\"rooms\",\"clean\",\"nice\",\"bed\",\"helpful\",\"friendly\",\"great\",\"good\",\"breakfast\",\"hotel\",\"location\",\"staff\",\"room\"],\"type\":\"bar\"}],                        {\"legend\":{\"bgcolor\":\"#F5F6F9\",\"font\":{\"color\":\"#4D5663\"}},\"paper_bgcolor\":\"#F5F6F9\",\"plot_bgcolor\":\"#F5F6F9\",\"template\":{\"data\":{\"barpolar\":[{\"marker\":{\"line\":{\"color\":\"#E5ECF6\",\"width\":0.5},\"pattern\":{\"fillmode\":\"overlay\",\"size\":10,\"solidity\":0.2}},\"type\":\"barpolar\"}],\"bar\":[{\"error_x\":{\"color\":\"#2a3f5f\"},\"error_y\":{\"color\":\"#2a3f5f\"},\"marker\":{\"line\":{\"color\":\"#E5ECF6\",\"width\":0.5},\"pattern\":{\"fillmode\":\"overlay\",\"size\":10,\"solidity\":0.2}},\"type\":\"bar\"}],\"carpet\":[{\"aaxis\":{\"endlinecolor\":\"#2a3f5f\",\"gridcolor\":\"white\",\"linecolor\":\"white\",\"minorgridcolor\":\"white\",\"startlinecolor\":\"#2a3f5f\"},\"baxis\":{\"endlinecolor\":\"#2a3f5f\",\"gridcolor\":\"white\",\"linecolor\":\"white\",\"minorgridcolor\":\"white\",\"startlinecolor\":\"#2a3f5f\"},\"type\":\"carpet\"}],\"choropleth\":[{\"colorbar\":{\"outlinewidth\":0,\"ticks\":\"\"},\"type\":\"choropleth\"}],\"contourcarpet\":[{\"colorbar\":{\"outlinewidth\":0,\"ticks\":\"\"},\"type\":\"contourcarpet\"}],\"contour\":[{\"colorbar\":{\"outlinewidth\":0,\"ticks\":\"\"},\"colorscale\":[[0.0,\"#0d0887\"],[0.1111111111111111,\"#46039f\"],[0.2222222222222222,\"#7201a8\"],[0.3333333333333333,\"#9c179e\"],[0.4444444444444444,\"#bd3786\"],[0.5555555555555556,\"#d8576b\"],[0.6666666666666666,\"#ed7953\"],[0.7777777777777778,\"#fb9f3a\"],[0.8888888888888888,\"#fdca26\"],[1.0,\"#f0f921\"]],\"type\":\"contour\"}],\"heatmapgl\":[{\"colorbar\":{\"outlinewidth\":0,\"ticks\":\"\"},\"colorscale\":[[0.0,\"#0d0887\"],[0.1111111111111111,\"#46039f\"],[0.2222222222222222,\"#7201a8\"],[0.3333333333333333,\"#9c179e\"],[0.4444444444444444,\"#bd3786\"],[0.5555555555555556,\"#d8576b\"],[0.6666666666666666,\"#ed7953\"],[0.7777777777777778,\"#fb9f3a\"],[0.8888888888888888,\"#fdca26\"],[1.0,\"#f0f921\"]],\"type\":\"heatmapgl\"}],\"heatmap\":[{\"colorbar\":{\"outlinewidth\":0,\"ticks\":\"\"},\"colorscale\":[[0.0,\"#0d0887\"],[0.1111111111111111,\"#46039f\"],[0.2222222222222222,\"#7201a8\"],[0.3333333333333333,\"#9c179e\"],[0.4444444444444444,\"#bd3786\"],[0.5555555555555556,\"#d8576b\"],[0.6666666666666666,\"#ed7953\"],[0.7777777777777778,\"#fb9f3a\"],[0.8888888888888888,\"#fdca26\"],[1.0,\"#f0f921\"]],\"type\":\"heatmap\"}],\"histogram2dcontour\":[{\"colorbar\":{\"outlinewidth\":0,\"ticks\":\"\"},\"colorscale\":[[0.0,\"#0d0887\"],[0.1111111111111111,\"#46039f\"],[0.2222222222222222,\"#7201a8\"],[0.3333333333333333,\"#9c179e\"],[0.4444444444444444,\"#bd3786\"],[0.5555555555555556,\"#d8576b\"],[0.6666666666666666,\"#ed7953\"],[0.7777777777777778,\"#fb9f3a\"],[0.8888888888888888,\"#fdca26\"],[1.0,\"#f0f921\"]],\"type\":\"histogram2dcontour\"}],\"histogram2d\":[{\"colorbar\":{\"outlinewidth\":0,\"ticks\":\"\"},\"colorscale\":[[0.0,\"#0d0887\"],[0.1111111111111111,\"#46039f\"],[0.2222222222222222,\"#7201a8\"],[0.3333333333333333,\"#9c179e\"],[0.4444444444444444,\"#bd3786\"],[0.5555555555555556,\"#d8576b\"],[0.6666666666666666,\"#ed7953\"],[0.7777777777777778,\"#fb9f3a\"],[0.8888888888888888,\"#fdca26\"],[1.0,\"#f0f921\"]],\"type\":\"histogram2d\"}],\"histogram\":[{\"marker\":{\"pattern\":{\"fillmode\":\"overlay\",\"size\":10,\"solidity\":0.2}},\"type\":\"histogram\"}],\"mesh3d\":[{\"colorbar\":{\"outlinewidth\":0,\"ticks\":\"\"},\"type\":\"mesh3d\"}],\"parcoords\":[{\"line\":{\"colorbar\":{\"outlinewidth\":0,\"ticks\":\"\"}},\"type\":\"parcoords\"}],\"pie\":[{\"automargin\":true,\"type\":\"pie\"}],\"scatter3d\":[{\"line\":{\"colorbar\":{\"outlinewidth\":0,\"ticks\":\"\"}},\"marker\":{\"colorbar\":{\"outlinewidth\":0,\"ticks\":\"\"}},\"type\":\"scatter3d\"}],\"scattercarpet\":[{\"marker\":{\"colorbar\":{\"outlinewidth\":0,\"ticks\":\"\"}},\"type\":\"scattercarpet\"}],\"scattergeo\":[{\"marker\":{\"colorbar\":{\"outlinewidth\":0,\"ticks\":\"\"}},\"type\":\"scattergeo\"}],\"scattergl\":[{\"marker\":{\"colorbar\":{\"outlinewidth\":0,\"ticks\":\"\"}},\"type\":\"scattergl\"}],\"scattermapbox\":[{\"marker\":{\"colorbar\":{\"outlinewidth\":0,\"ticks\":\"\"}},\"type\":\"scattermapbox\"}],\"scatterpolargl\":[{\"marker\":{\"colorbar\":{\"outlinewidth\":0,\"ticks\":\"\"}},\"type\":\"scatterpolargl\"}],\"scatterpolar\":[{\"marker\":{\"colorbar\":{\"outlinewidth\":0,\"ticks\":\"\"}},\"type\":\"scatterpolar\"}],\"scatter\":[{\"fillpattern\":{\"fillmode\":\"overlay\",\"size\":10,\"solidity\":0.2},\"type\":\"scatter\"}],\"scatterternary\":[{\"marker\":{\"colorbar\":{\"outlinewidth\":0,\"ticks\":\"\"}},\"type\":\"scatterternary\"}],\"surface\":[{\"colorbar\":{\"outlinewidth\":0,\"ticks\":\"\"},\"colorscale\":[[0.0,\"#0d0887\"],[0.1111111111111111,\"#46039f\"],[0.2222222222222222,\"#7201a8\"],[0.3333333333333333,\"#9c179e\"],[0.4444444444444444,\"#bd3786\"],[0.5555555555555556,\"#d8576b\"],[0.6666666666666666,\"#ed7953\"],[0.7777777777777778,\"#fb9f3a\"],[0.8888888888888888,\"#fdca26\"],[1.0,\"#f0f921\"]],\"type\":\"surface\"}],\"table\":[{\"cells\":{\"fill\":{\"color\":\"#EBF0F8\"},\"line\":{\"color\":\"white\"}},\"header\":{\"fill\":{\"color\":\"#C8D4E3\"},\"line\":{\"color\":\"white\"}},\"type\":\"table\"}]},\"layout\":{\"annotationdefaults\":{\"arrowcolor\":\"#2a3f5f\",\"arrowhead\":0,\"arrowwidth\":1},\"autotypenumbers\":\"strict\",\"coloraxis\":{\"colorbar\":{\"outlinewidth\":0,\"ticks\":\"\"}},\"colorscale\":{\"diverging\":[[0,\"#8e0152\"],[0.1,\"#c51b7d\"],[0.2,\"#de77ae\"],[0.3,\"#f1b6da\"],[0.4,\"#fde0ef\"],[0.5,\"#f7f7f7\"],[0.6,\"#e6f5d0\"],[0.7,\"#b8e186\"],[0.8,\"#7fbc41\"],[0.9,\"#4d9221\"],[1,\"#276419\"]],\"sequential\":[[0.0,\"#0d0887\"],[0.1111111111111111,\"#46039f\"],[0.2222222222222222,\"#7201a8\"],[0.3333333333333333,\"#9c179e\"],[0.4444444444444444,\"#bd3786\"],[0.5555555555555556,\"#d8576b\"],[0.6666666666666666,\"#ed7953\"],[0.7777777777777778,\"#fb9f3a\"],[0.8888888888888888,\"#fdca26\"],[1.0,\"#f0f921\"]],\"sequentialminus\":[[0.0,\"#0d0887\"],[0.1111111111111111,\"#46039f\"],[0.2222222222222222,\"#7201a8\"],[0.3333333333333333,\"#9c179e\"],[0.4444444444444444,\"#bd3786\"],[0.5555555555555556,\"#d8576b\"],[0.6666666666666666,\"#ed7953\"],[0.7777777777777778,\"#fb9f3a\"],[0.8888888888888888,\"#fdca26\"],[1.0,\"#f0f921\"]]},\"colorway\":[\"#636efa\",\"#EF553B\",\"#00cc96\",\"#ab63fa\",\"#FFA15A\",\"#19d3f3\",\"#FF6692\",\"#B6E880\",\"#FF97FF\",\"#FECB52\"],\"font\":{\"color\":\"#2a3f5f\"},\"geo\":{\"bgcolor\":\"white\",\"lakecolor\":\"white\",\"landcolor\":\"#E5ECF6\",\"showlakes\":true,\"showland\":true,\"subunitcolor\":\"white\"},\"hoverlabel\":{\"align\":\"left\"},\"hovermode\":\"closest\",\"mapbox\":{\"style\":\"light\"},\"paper_bgcolor\":\"white\",\"plot_bgcolor\":\"#E5ECF6\",\"polar\":{\"angularaxis\":{\"gridcolor\":\"white\",\"linecolor\":\"white\",\"ticks\":\"\"},\"bgcolor\":\"#E5ECF6\",\"radialaxis\":{\"gridcolor\":\"white\",\"linecolor\":\"white\",\"ticks\":\"\"}},\"scene\":{\"xaxis\":{\"backgroundcolor\":\"#E5ECF6\",\"gridcolor\":\"white\",\"gridwidth\":2,\"linecolor\":\"white\",\"showbackground\":true,\"ticks\":\"\",\"zerolinecolor\":\"white\"},\"yaxis\":{\"backgroundcolor\":\"#E5ECF6\",\"gridcolor\":\"white\",\"gridwidth\":2,\"linecolor\":\"white\",\"showbackground\":true,\"ticks\":\"\",\"zerolinecolor\":\"white\"},\"zaxis\":{\"backgroundcolor\":\"#E5ECF6\",\"gridcolor\":\"white\",\"gridwidth\":2,\"linecolor\":\"white\",\"showbackground\":true,\"ticks\":\"\",\"zerolinecolor\":\"white\"}},\"shapedefaults\":{\"line\":{\"color\":\"#2a3f5f\"}},\"ternary\":{\"aaxis\":{\"gridcolor\":\"white\",\"linecolor\":\"white\",\"ticks\":\"\"},\"baxis\":{\"gridcolor\":\"white\",\"linecolor\":\"white\",\"ticks\":\"\"},\"bgcolor\":\"#E5ECF6\",\"caxis\":{\"gridcolor\":\"white\",\"linecolor\":\"white\",\"ticks\":\"\"}},\"title\":{\"x\":0.05},\"xaxis\":{\"automargin\":true,\"gridcolor\":\"white\",\"linecolor\":\"white\",\"ticks\":\"\",\"title\":{\"standoff\":15},\"zerolinecolor\":\"white\",\"zerolinewidth\":2},\"yaxis\":{\"automargin\":true,\"gridcolor\":\"white\",\"linecolor\":\"white\",\"ticks\":\"\",\"title\":{\"standoff\":15},\"zerolinecolor\":\"white\",\"zerolinewidth\":2}}},\"title\":{\"font\":{\"color\":\"#4D5663\"},\"text\":\"Top 20 words in hotel description after removing stop words\"},\"xaxis\":{\"gridcolor\":\"#E1E5ED\",\"linecolor\":\"black\",\"showgrid\":true,\"tickfont\":{\"color\":\"#4D5663\"},\"title\":{\"font\":{\"color\":\"#4D5663\"},\"text\":\"\"},\"zerolinecolor\":\"#E1E5ED\"},\"yaxis\":{\"gridcolor\":\"#E1E5ED\",\"linecolor\":\"black\",\"showgrid\":true,\"tickfont\":{\"color\":\"#4D5663\"},\"title\":{\"font\":{\"color\":\"#4D5663\"},\"text\":\"Count\"},\"zerolinecolor\":\"#E1E5ED\"}},                        {\"showLink\": true, \"linkText\": \"Export to plot.ly\", \"plotlyServerURL\": \"https://plot.ly\", \"responsive\": true}                    ).then(function(){\n",
       "                            \n",
       "var gd = document.getElementById('29d0bd86-b0d7-4cf1-9460-f0e9aeee96ba');\n",
       "var x = new MutationObserver(function (mutations, observer) {{\n",
       "        var display = window.getComputedStyle(gd).display;\n",
       "        if (!display || display === 'none') {{\n",
       "            console.log([gd, 'removed!']);\n",
       "            Plotly.purge(gd);\n",
       "            observer.disconnect();\n",
       "        }}\n",
       "}});\n",
       "\n",
       "// Listen for the removal of the full notebook cells\n",
       "var notebookContainer = gd.closest('#notebook-container');\n",
       "if (notebookContainer) {{\n",
       "    x.observe(notebookContainer, {childList: true});\n",
       "}}\n",
       "\n",
       "// Listen for the clearing of the current output cell\n",
       "var outputEl = gd.closest('.output');\n",
       "if (outputEl) {{\n",
       "    x.observe(outputEl, {childList: true});\n",
       "}}\n",
       "\n",
       "                        })                };                });            </script>        </div>"
      ]
     },
     "metadata": {},
     "output_type": "display_data"
    }
   ],
   "source": [
    "def get_top_n_words_with_stop_words(corpus, n=None, y=None):\n",
    "    vec = CountVectorizer(ngram_range=y, stop_words='english').fit(corpus)\n",
    "    bag_of_words = vec.transform(corpus)\n",
    "    sum_words = bag_of_words.sum(axis=0)\n",
    "    words_freq = [(word, sum_words[0, idx]) for word, idx in vec.vocabulary_.items()]\n",
    "    words_freq = sorted(words_freq, key=lambda x: x[1], reverse=True)\n",
    "    return words_freq[:n]\n",
    "\n",
    "common_words = get_top_n_words_with_stop_words(hotel_review['review_text'], 20, y=(1, 1))\n",
    "df4 = pd.DataFrame(common_words, columns=['review_text', 'count'])\n",
    "df4.groupby('review_text').sum()['count'].sort_values().iplot(kind='barh', yTitle='Count', linecolor='black', title='Top 20 words in hotel description after removing stop words')\n"
   ]
  },
  {
   "cell_type": "markdown",
   "metadata": {},
   "source": [
    "## Bi-gram Text Visualisation\n",
    "### Without Stopwords"
   ]
  },
  {
   "cell_type": "code",
   "execution_count": 15,
   "metadata": {},
   "outputs": [
    {
     "data": {
      "application/vnd.plotly.v1+json": {
       "config": {
        "linkText": "Export to plot.ly",
        "plotlyServerURL": "https://plot.ly",
        "showLink": true
       },
       "data": [
        {
         "marker": {
          "color": "rgba(255, 153, 51, 0.6)",
          "line": {
           "color": "rgba(255, 153, 51, 1.0)",
           "width": 1
          }
         },
         "name": "count",
         "orientation": "v",
         "text": "",
         "type": "bar",
         "x": [
          "in the",
          "the room",
          "the hotel",
          "room was",
          "of the",
          "and the",
          "the staff",
          "to the",
          "it was",
          "was very",
          "no no",
          "staff were",
          "on the",
          "the location",
          "from the",
          "great location",
          "breakfast was",
          "friendly and",
          "for the",
          "close to"
         ],
         "y": [
          103751,
          98746,
          84106,
          67170,
          66797,
          65117,
          59455,
          52935,
          50956,
          49446,
          48127,
          46334,
          36466,
          35955,
          33183,
          30571,
          30569,
          29930,
          28342,
          28317
         ]
        }
       ],
       "layout": {
        "legend": {
         "bgcolor": "#F5F6F9",
         "font": {
          "color": "#4D5663"
         }
        },
        "paper_bgcolor": "#F5F6F9",
        "plot_bgcolor": "#F5F6F9",
        "template": {
         "data": {
          "bar": [
           {
            "error_x": {
             "color": "#2a3f5f"
            },
            "error_y": {
             "color": "#2a3f5f"
            },
            "marker": {
             "line": {
              "color": "#E5ECF6",
              "width": 0.5
             },
             "pattern": {
              "fillmode": "overlay",
              "size": 10,
              "solidity": 0.2
             }
            },
            "type": "bar"
           }
          ],
          "barpolar": [
           {
            "marker": {
             "line": {
              "color": "#E5ECF6",
              "width": 0.5
             },
             "pattern": {
              "fillmode": "overlay",
              "size": 10,
              "solidity": 0.2
             }
            },
            "type": "barpolar"
           }
          ],
          "carpet": [
           {
            "aaxis": {
             "endlinecolor": "#2a3f5f",
             "gridcolor": "white",
             "linecolor": "white",
             "minorgridcolor": "white",
             "startlinecolor": "#2a3f5f"
            },
            "baxis": {
             "endlinecolor": "#2a3f5f",
             "gridcolor": "white",
             "linecolor": "white",
             "minorgridcolor": "white",
             "startlinecolor": "#2a3f5f"
            },
            "type": "carpet"
           }
          ],
          "choropleth": [
           {
            "colorbar": {
             "outlinewidth": 0,
             "ticks": ""
            },
            "type": "choropleth"
           }
          ],
          "contour": [
           {
            "colorbar": {
             "outlinewidth": 0,
             "ticks": ""
            },
            "colorscale": [
             [
              0,
              "#0d0887"
             ],
             [
              0.1111111111111111,
              "#46039f"
             ],
             [
              0.2222222222222222,
              "#7201a8"
             ],
             [
              0.3333333333333333,
              "#9c179e"
             ],
             [
              0.4444444444444444,
              "#bd3786"
             ],
             [
              0.5555555555555556,
              "#d8576b"
             ],
             [
              0.6666666666666666,
              "#ed7953"
             ],
             [
              0.7777777777777778,
              "#fb9f3a"
             ],
             [
              0.8888888888888888,
              "#fdca26"
             ],
             [
              1,
              "#f0f921"
             ]
            ],
            "type": "contour"
           }
          ],
          "contourcarpet": [
           {
            "colorbar": {
             "outlinewidth": 0,
             "ticks": ""
            },
            "type": "contourcarpet"
           }
          ],
          "heatmap": [
           {
            "colorbar": {
             "outlinewidth": 0,
             "ticks": ""
            },
            "colorscale": [
             [
              0,
              "#0d0887"
             ],
             [
              0.1111111111111111,
              "#46039f"
             ],
             [
              0.2222222222222222,
              "#7201a8"
             ],
             [
              0.3333333333333333,
              "#9c179e"
             ],
             [
              0.4444444444444444,
              "#bd3786"
             ],
             [
              0.5555555555555556,
              "#d8576b"
             ],
             [
              0.6666666666666666,
              "#ed7953"
             ],
             [
              0.7777777777777778,
              "#fb9f3a"
             ],
             [
              0.8888888888888888,
              "#fdca26"
             ],
             [
              1,
              "#f0f921"
             ]
            ],
            "type": "heatmap"
           }
          ],
          "heatmapgl": [
           {
            "colorbar": {
             "outlinewidth": 0,
             "ticks": ""
            },
            "colorscale": [
             [
              0,
              "#0d0887"
             ],
             [
              0.1111111111111111,
              "#46039f"
             ],
             [
              0.2222222222222222,
              "#7201a8"
             ],
             [
              0.3333333333333333,
              "#9c179e"
             ],
             [
              0.4444444444444444,
              "#bd3786"
             ],
             [
              0.5555555555555556,
              "#d8576b"
             ],
             [
              0.6666666666666666,
              "#ed7953"
             ],
             [
              0.7777777777777778,
              "#fb9f3a"
             ],
             [
              0.8888888888888888,
              "#fdca26"
             ],
             [
              1,
              "#f0f921"
             ]
            ],
            "type": "heatmapgl"
           }
          ],
          "histogram": [
           {
            "marker": {
             "pattern": {
              "fillmode": "overlay",
              "size": 10,
              "solidity": 0.2
             }
            },
            "type": "histogram"
           }
          ],
          "histogram2d": [
           {
            "colorbar": {
             "outlinewidth": 0,
             "ticks": ""
            },
            "colorscale": [
             [
              0,
              "#0d0887"
             ],
             [
              0.1111111111111111,
              "#46039f"
             ],
             [
              0.2222222222222222,
              "#7201a8"
             ],
             [
              0.3333333333333333,
              "#9c179e"
             ],
             [
              0.4444444444444444,
              "#bd3786"
             ],
             [
              0.5555555555555556,
              "#d8576b"
             ],
             [
              0.6666666666666666,
              "#ed7953"
             ],
             [
              0.7777777777777778,
              "#fb9f3a"
             ],
             [
              0.8888888888888888,
              "#fdca26"
             ],
             [
              1,
              "#f0f921"
             ]
            ],
            "type": "histogram2d"
           }
          ],
          "histogram2dcontour": [
           {
            "colorbar": {
             "outlinewidth": 0,
             "ticks": ""
            },
            "colorscale": [
             [
              0,
              "#0d0887"
             ],
             [
              0.1111111111111111,
              "#46039f"
             ],
             [
              0.2222222222222222,
              "#7201a8"
             ],
             [
              0.3333333333333333,
              "#9c179e"
             ],
             [
              0.4444444444444444,
              "#bd3786"
             ],
             [
              0.5555555555555556,
              "#d8576b"
             ],
             [
              0.6666666666666666,
              "#ed7953"
             ],
             [
              0.7777777777777778,
              "#fb9f3a"
             ],
             [
              0.8888888888888888,
              "#fdca26"
             ],
             [
              1,
              "#f0f921"
             ]
            ],
            "type": "histogram2dcontour"
           }
          ],
          "mesh3d": [
           {
            "colorbar": {
             "outlinewidth": 0,
             "ticks": ""
            },
            "type": "mesh3d"
           }
          ],
          "parcoords": [
           {
            "line": {
             "colorbar": {
              "outlinewidth": 0,
              "ticks": ""
             }
            },
            "type": "parcoords"
           }
          ],
          "pie": [
           {
            "automargin": true,
            "type": "pie"
           }
          ],
          "scatter": [
           {
            "fillpattern": {
             "fillmode": "overlay",
             "size": 10,
             "solidity": 0.2
            },
            "type": "scatter"
           }
          ],
          "scatter3d": [
           {
            "line": {
             "colorbar": {
              "outlinewidth": 0,
              "ticks": ""
             }
            },
            "marker": {
             "colorbar": {
              "outlinewidth": 0,
              "ticks": ""
             }
            },
            "type": "scatter3d"
           }
          ],
          "scattercarpet": [
           {
            "marker": {
             "colorbar": {
              "outlinewidth": 0,
              "ticks": ""
             }
            },
            "type": "scattercarpet"
           }
          ],
          "scattergeo": [
           {
            "marker": {
             "colorbar": {
              "outlinewidth": 0,
              "ticks": ""
             }
            },
            "type": "scattergeo"
           }
          ],
          "scattergl": [
           {
            "marker": {
             "colorbar": {
              "outlinewidth": 0,
              "ticks": ""
             }
            },
            "type": "scattergl"
           }
          ],
          "scattermapbox": [
           {
            "marker": {
             "colorbar": {
              "outlinewidth": 0,
              "ticks": ""
             }
            },
            "type": "scattermapbox"
           }
          ],
          "scatterpolar": [
           {
            "marker": {
             "colorbar": {
              "outlinewidth": 0,
              "ticks": ""
             }
            },
            "type": "scatterpolar"
           }
          ],
          "scatterpolargl": [
           {
            "marker": {
             "colorbar": {
              "outlinewidth": 0,
              "ticks": ""
             }
            },
            "type": "scatterpolargl"
           }
          ],
          "scatterternary": [
           {
            "marker": {
             "colorbar": {
              "outlinewidth": 0,
              "ticks": ""
             }
            },
            "type": "scatterternary"
           }
          ],
          "surface": [
           {
            "colorbar": {
             "outlinewidth": 0,
             "ticks": ""
            },
            "colorscale": [
             [
              0,
              "#0d0887"
             ],
             [
              0.1111111111111111,
              "#46039f"
             ],
             [
              0.2222222222222222,
              "#7201a8"
             ],
             [
              0.3333333333333333,
              "#9c179e"
             ],
             [
              0.4444444444444444,
              "#bd3786"
             ],
             [
              0.5555555555555556,
              "#d8576b"
             ],
             [
              0.6666666666666666,
              "#ed7953"
             ],
             [
              0.7777777777777778,
              "#fb9f3a"
             ],
             [
              0.8888888888888888,
              "#fdca26"
             ],
             [
              1,
              "#f0f921"
             ]
            ],
            "type": "surface"
           }
          ],
          "table": [
           {
            "cells": {
             "fill": {
              "color": "#EBF0F8"
             },
             "line": {
              "color": "white"
             }
            },
            "header": {
             "fill": {
              "color": "#C8D4E3"
             },
             "line": {
              "color": "white"
             }
            },
            "type": "table"
           }
          ]
         },
         "layout": {
          "annotationdefaults": {
           "arrowcolor": "#2a3f5f",
           "arrowhead": 0,
           "arrowwidth": 1
          },
          "autotypenumbers": "strict",
          "coloraxis": {
           "colorbar": {
            "outlinewidth": 0,
            "ticks": ""
           }
          },
          "colorscale": {
           "diverging": [
            [
             0,
             "#8e0152"
            ],
            [
             0.1,
             "#c51b7d"
            ],
            [
             0.2,
             "#de77ae"
            ],
            [
             0.3,
             "#f1b6da"
            ],
            [
             0.4,
             "#fde0ef"
            ],
            [
             0.5,
             "#f7f7f7"
            ],
            [
             0.6,
             "#e6f5d0"
            ],
            [
             0.7,
             "#b8e186"
            ],
            [
             0.8,
             "#7fbc41"
            ],
            [
             0.9,
             "#4d9221"
            ],
            [
             1,
             "#276419"
            ]
           ],
           "sequential": [
            [
             0,
             "#0d0887"
            ],
            [
             0.1111111111111111,
             "#46039f"
            ],
            [
             0.2222222222222222,
             "#7201a8"
            ],
            [
             0.3333333333333333,
             "#9c179e"
            ],
            [
             0.4444444444444444,
             "#bd3786"
            ],
            [
             0.5555555555555556,
             "#d8576b"
            ],
            [
             0.6666666666666666,
             "#ed7953"
            ],
            [
             0.7777777777777778,
             "#fb9f3a"
            ],
            [
             0.8888888888888888,
             "#fdca26"
            ],
            [
             1,
             "#f0f921"
            ]
           ],
           "sequentialminus": [
            [
             0,
             "#0d0887"
            ],
            [
             0.1111111111111111,
             "#46039f"
            ],
            [
             0.2222222222222222,
             "#7201a8"
            ],
            [
             0.3333333333333333,
             "#9c179e"
            ],
            [
             0.4444444444444444,
             "#bd3786"
            ],
            [
             0.5555555555555556,
             "#d8576b"
            ],
            [
             0.6666666666666666,
             "#ed7953"
            ],
            [
             0.7777777777777778,
             "#fb9f3a"
            ],
            [
             0.8888888888888888,
             "#fdca26"
            ],
            [
             1,
             "#f0f921"
            ]
           ]
          },
          "colorway": [
           "#636efa",
           "#EF553B",
           "#00cc96",
           "#ab63fa",
           "#FFA15A",
           "#19d3f3",
           "#FF6692",
           "#B6E880",
           "#FF97FF",
           "#FECB52"
          ],
          "font": {
           "color": "#2a3f5f"
          },
          "geo": {
           "bgcolor": "white",
           "lakecolor": "white",
           "landcolor": "#E5ECF6",
           "showlakes": true,
           "showland": true,
           "subunitcolor": "white"
          },
          "hoverlabel": {
           "align": "left"
          },
          "hovermode": "closest",
          "mapbox": {
           "style": "light"
          },
          "paper_bgcolor": "white",
          "plot_bgcolor": "#E5ECF6",
          "polar": {
           "angularaxis": {
            "gridcolor": "white",
            "linecolor": "white",
            "ticks": ""
           },
           "bgcolor": "#E5ECF6",
           "radialaxis": {
            "gridcolor": "white",
            "linecolor": "white",
            "ticks": ""
           }
          },
          "scene": {
           "xaxis": {
            "backgroundcolor": "#E5ECF6",
            "gridcolor": "white",
            "gridwidth": 2,
            "linecolor": "white",
            "showbackground": true,
            "ticks": "",
            "zerolinecolor": "white"
           },
           "yaxis": {
            "backgroundcolor": "#E5ECF6",
            "gridcolor": "white",
            "gridwidth": 2,
            "linecolor": "white",
            "showbackground": true,
            "ticks": "",
            "zerolinecolor": "white"
           },
           "zaxis": {
            "backgroundcolor": "#E5ECF6",
            "gridcolor": "white",
            "gridwidth": 2,
            "linecolor": "white",
            "showbackground": true,
            "ticks": "",
            "zerolinecolor": "white"
           }
          },
          "shapedefaults": {
           "line": {
            "color": "#2a3f5f"
           }
          },
          "ternary": {
           "aaxis": {
            "gridcolor": "white",
            "linecolor": "white",
            "ticks": ""
           },
           "baxis": {
            "gridcolor": "white",
            "linecolor": "white",
            "ticks": ""
           },
           "bgcolor": "#E5ECF6",
           "caxis": {
            "gridcolor": "white",
            "linecolor": "white",
            "ticks": ""
           }
          },
          "title": {
           "x": 0.05
          },
          "xaxis": {
           "automargin": true,
           "gridcolor": "white",
           "linecolor": "white",
           "ticks": "",
           "title": {
            "standoff": 15
           },
           "zerolinecolor": "white",
           "zerolinewidth": 2
          },
          "yaxis": {
           "automargin": true,
           "gridcolor": "white",
           "linecolor": "white",
           "ticks": "",
           "title": {
            "standoff": 15
           },
           "zerolinecolor": "white",
           "zerolinewidth": 2
          }
         }
        },
        "title": {
         "font": {
          "color": "#4D5663"
         },
         "text": "Top 20 bigrams in hotel description before removing stop words"
        },
        "xaxis": {
         "gridcolor": "#E1E5ED",
         "linecolor": "black",
         "showgrid": true,
         "tickfont": {
          "color": "#4D5663"
         },
         "title": {
          "font": {
           "color": "#4D5663"
          },
          "text": ""
         },
         "zerolinecolor": "#E1E5ED"
        },
        "yaxis": {
         "gridcolor": "#E1E5ED",
         "linecolor": "black",
         "showgrid": true,
         "tickfont": {
          "color": "#4D5663"
         },
         "title": {
          "font": {
           "color": "#4D5663"
          },
          "text": "Count"
         },
         "zerolinecolor": "#E1E5ED"
        }
       }
      },
      "text/html": [
       "<div>                            <div id=\"4a19cd64-6a32-4899-bbf8-9151635c7be5\" class=\"plotly-graph-div\" style=\"height:525px; width:100%;\"></div>            <script type=\"text/javascript\">                require([\"plotly\"], function(Plotly) {                    window.PLOTLYENV=window.PLOTLYENV || {};\n",
       "                    window.PLOTLYENV.BASE_URL='https://plot.ly';                                    if (document.getElementById(\"4a19cd64-6a32-4899-bbf8-9151635c7be5\")) {                    Plotly.newPlot(                        \"4a19cd64-6a32-4899-bbf8-9151635c7be5\",                        [{\"marker\":{\"color\":\"rgba(255, 153, 51, 0.6)\",\"line\":{\"color\":\"rgba(255, 153, 51, 1.0)\",\"width\":1}},\"name\":\"count\",\"orientation\":\"v\",\"text\":\"\",\"x\":[\"in the\",\"the room\",\"the hotel\",\"room was\",\"of the\",\"and the\",\"the staff\",\"to the\",\"it was\",\"was very\",\"no no\",\"staff were\",\"on the\",\"the location\",\"from the\",\"great location\",\"breakfast was\",\"friendly and\",\"for the\",\"close to\"],\"y\":[103751,98746,84106,67170,66797,65117,59455,52935,50956,49446,48127,46334,36466,35955,33183,30571,30569,29930,28342,28317],\"type\":\"bar\"}],                        {\"legend\":{\"bgcolor\":\"#F5F6F9\",\"font\":{\"color\":\"#4D5663\"}},\"paper_bgcolor\":\"#F5F6F9\",\"plot_bgcolor\":\"#F5F6F9\",\"template\":{\"data\":{\"barpolar\":[{\"marker\":{\"line\":{\"color\":\"#E5ECF6\",\"width\":0.5},\"pattern\":{\"fillmode\":\"overlay\",\"size\":10,\"solidity\":0.2}},\"type\":\"barpolar\"}],\"bar\":[{\"error_x\":{\"color\":\"#2a3f5f\"},\"error_y\":{\"color\":\"#2a3f5f\"},\"marker\":{\"line\":{\"color\":\"#E5ECF6\",\"width\":0.5},\"pattern\":{\"fillmode\":\"overlay\",\"size\":10,\"solidity\":0.2}},\"type\":\"bar\"}],\"carpet\":[{\"aaxis\":{\"endlinecolor\":\"#2a3f5f\",\"gridcolor\":\"white\",\"linecolor\":\"white\",\"minorgridcolor\":\"white\",\"startlinecolor\":\"#2a3f5f\"},\"baxis\":{\"endlinecolor\":\"#2a3f5f\",\"gridcolor\":\"white\",\"linecolor\":\"white\",\"minorgridcolor\":\"white\",\"startlinecolor\":\"#2a3f5f\"},\"type\":\"carpet\"}],\"choropleth\":[{\"colorbar\":{\"outlinewidth\":0,\"ticks\":\"\"},\"type\":\"choropleth\"}],\"contourcarpet\":[{\"colorbar\":{\"outlinewidth\":0,\"ticks\":\"\"},\"type\":\"contourcarpet\"}],\"contour\":[{\"colorbar\":{\"outlinewidth\":0,\"ticks\":\"\"},\"colorscale\":[[0.0,\"#0d0887\"],[0.1111111111111111,\"#46039f\"],[0.2222222222222222,\"#7201a8\"],[0.3333333333333333,\"#9c179e\"],[0.4444444444444444,\"#bd3786\"],[0.5555555555555556,\"#d8576b\"],[0.6666666666666666,\"#ed7953\"],[0.7777777777777778,\"#fb9f3a\"],[0.8888888888888888,\"#fdca26\"],[1.0,\"#f0f921\"]],\"type\":\"contour\"}],\"heatmapgl\":[{\"colorbar\":{\"outlinewidth\":0,\"ticks\":\"\"},\"colorscale\":[[0.0,\"#0d0887\"],[0.1111111111111111,\"#46039f\"],[0.2222222222222222,\"#7201a8\"],[0.3333333333333333,\"#9c179e\"],[0.4444444444444444,\"#bd3786\"],[0.5555555555555556,\"#d8576b\"],[0.6666666666666666,\"#ed7953\"],[0.7777777777777778,\"#fb9f3a\"],[0.8888888888888888,\"#fdca26\"],[1.0,\"#f0f921\"]],\"type\":\"heatmapgl\"}],\"heatmap\":[{\"colorbar\":{\"outlinewidth\":0,\"ticks\":\"\"},\"colorscale\":[[0.0,\"#0d0887\"],[0.1111111111111111,\"#46039f\"],[0.2222222222222222,\"#7201a8\"],[0.3333333333333333,\"#9c179e\"],[0.4444444444444444,\"#bd3786\"],[0.5555555555555556,\"#d8576b\"],[0.6666666666666666,\"#ed7953\"],[0.7777777777777778,\"#fb9f3a\"],[0.8888888888888888,\"#fdca26\"],[1.0,\"#f0f921\"]],\"type\":\"heatmap\"}],\"histogram2dcontour\":[{\"colorbar\":{\"outlinewidth\":0,\"ticks\":\"\"},\"colorscale\":[[0.0,\"#0d0887\"],[0.1111111111111111,\"#46039f\"],[0.2222222222222222,\"#7201a8\"],[0.3333333333333333,\"#9c179e\"],[0.4444444444444444,\"#bd3786\"],[0.5555555555555556,\"#d8576b\"],[0.6666666666666666,\"#ed7953\"],[0.7777777777777778,\"#fb9f3a\"],[0.8888888888888888,\"#fdca26\"],[1.0,\"#f0f921\"]],\"type\":\"histogram2dcontour\"}],\"histogram2d\":[{\"colorbar\":{\"outlinewidth\":0,\"ticks\":\"\"},\"colorscale\":[[0.0,\"#0d0887\"],[0.1111111111111111,\"#46039f\"],[0.2222222222222222,\"#7201a8\"],[0.3333333333333333,\"#9c179e\"],[0.4444444444444444,\"#bd3786\"],[0.5555555555555556,\"#d8576b\"],[0.6666666666666666,\"#ed7953\"],[0.7777777777777778,\"#fb9f3a\"],[0.8888888888888888,\"#fdca26\"],[1.0,\"#f0f921\"]],\"type\":\"histogram2d\"}],\"histogram\":[{\"marker\":{\"pattern\":{\"fillmode\":\"overlay\",\"size\":10,\"solidity\":0.2}},\"type\":\"histogram\"}],\"mesh3d\":[{\"colorbar\":{\"outlinewidth\":0,\"ticks\":\"\"},\"type\":\"mesh3d\"}],\"parcoords\":[{\"line\":{\"colorbar\":{\"outlinewidth\":0,\"ticks\":\"\"}},\"type\":\"parcoords\"}],\"pie\":[{\"automargin\":true,\"type\":\"pie\"}],\"scatter3d\":[{\"line\":{\"colorbar\":{\"outlinewidth\":0,\"ticks\":\"\"}},\"marker\":{\"colorbar\":{\"outlinewidth\":0,\"ticks\":\"\"}},\"type\":\"scatter3d\"}],\"scattercarpet\":[{\"marker\":{\"colorbar\":{\"outlinewidth\":0,\"ticks\":\"\"}},\"type\":\"scattercarpet\"}],\"scattergeo\":[{\"marker\":{\"colorbar\":{\"outlinewidth\":0,\"ticks\":\"\"}},\"type\":\"scattergeo\"}],\"scattergl\":[{\"marker\":{\"colorbar\":{\"outlinewidth\":0,\"ticks\":\"\"}},\"type\":\"scattergl\"}],\"scattermapbox\":[{\"marker\":{\"colorbar\":{\"outlinewidth\":0,\"ticks\":\"\"}},\"type\":\"scattermapbox\"}],\"scatterpolargl\":[{\"marker\":{\"colorbar\":{\"outlinewidth\":0,\"ticks\":\"\"}},\"type\":\"scatterpolargl\"}],\"scatterpolar\":[{\"marker\":{\"colorbar\":{\"outlinewidth\":0,\"ticks\":\"\"}},\"type\":\"scatterpolar\"}],\"scatter\":[{\"fillpattern\":{\"fillmode\":\"overlay\",\"size\":10,\"solidity\":0.2},\"type\":\"scatter\"}],\"scatterternary\":[{\"marker\":{\"colorbar\":{\"outlinewidth\":0,\"ticks\":\"\"}},\"type\":\"scatterternary\"}],\"surface\":[{\"colorbar\":{\"outlinewidth\":0,\"ticks\":\"\"},\"colorscale\":[[0.0,\"#0d0887\"],[0.1111111111111111,\"#46039f\"],[0.2222222222222222,\"#7201a8\"],[0.3333333333333333,\"#9c179e\"],[0.4444444444444444,\"#bd3786\"],[0.5555555555555556,\"#d8576b\"],[0.6666666666666666,\"#ed7953\"],[0.7777777777777778,\"#fb9f3a\"],[0.8888888888888888,\"#fdca26\"],[1.0,\"#f0f921\"]],\"type\":\"surface\"}],\"table\":[{\"cells\":{\"fill\":{\"color\":\"#EBF0F8\"},\"line\":{\"color\":\"white\"}},\"header\":{\"fill\":{\"color\":\"#C8D4E3\"},\"line\":{\"color\":\"white\"}},\"type\":\"table\"}]},\"layout\":{\"annotationdefaults\":{\"arrowcolor\":\"#2a3f5f\",\"arrowhead\":0,\"arrowwidth\":1},\"autotypenumbers\":\"strict\",\"coloraxis\":{\"colorbar\":{\"outlinewidth\":0,\"ticks\":\"\"}},\"colorscale\":{\"diverging\":[[0,\"#8e0152\"],[0.1,\"#c51b7d\"],[0.2,\"#de77ae\"],[0.3,\"#f1b6da\"],[0.4,\"#fde0ef\"],[0.5,\"#f7f7f7\"],[0.6,\"#e6f5d0\"],[0.7,\"#b8e186\"],[0.8,\"#7fbc41\"],[0.9,\"#4d9221\"],[1,\"#276419\"]],\"sequential\":[[0.0,\"#0d0887\"],[0.1111111111111111,\"#46039f\"],[0.2222222222222222,\"#7201a8\"],[0.3333333333333333,\"#9c179e\"],[0.4444444444444444,\"#bd3786\"],[0.5555555555555556,\"#d8576b\"],[0.6666666666666666,\"#ed7953\"],[0.7777777777777778,\"#fb9f3a\"],[0.8888888888888888,\"#fdca26\"],[1.0,\"#f0f921\"]],\"sequentialminus\":[[0.0,\"#0d0887\"],[0.1111111111111111,\"#46039f\"],[0.2222222222222222,\"#7201a8\"],[0.3333333333333333,\"#9c179e\"],[0.4444444444444444,\"#bd3786\"],[0.5555555555555556,\"#d8576b\"],[0.6666666666666666,\"#ed7953\"],[0.7777777777777778,\"#fb9f3a\"],[0.8888888888888888,\"#fdca26\"],[1.0,\"#f0f921\"]]},\"colorway\":[\"#636efa\",\"#EF553B\",\"#00cc96\",\"#ab63fa\",\"#FFA15A\",\"#19d3f3\",\"#FF6692\",\"#B6E880\",\"#FF97FF\",\"#FECB52\"],\"font\":{\"color\":\"#2a3f5f\"},\"geo\":{\"bgcolor\":\"white\",\"lakecolor\":\"white\",\"landcolor\":\"#E5ECF6\",\"showlakes\":true,\"showland\":true,\"subunitcolor\":\"white\"},\"hoverlabel\":{\"align\":\"left\"},\"hovermode\":\"closest\",\"mapbox\":{\"style\":\"light\"},\"paper_bgcolor\":\"white\",\"plot_bgcolor\":\"#E5ECF6\",\"polar\":{\"angularaxis\":{\"gridcolor\":\"white\",\"linecolor\":\"white\",\"ticks\":\"\"},\"bgcolor\":\"#E5ECF6\",\"radialaxis\":{\"gridcolor\":\"white\",\"linecolor\":\"white\",\"ticks\":\"\"}},\"scene\":{\"xaxis\":{\"backgroundcolor\":\"#E5ECF6\",\"gridcolor\":\"white\",\"gridwidth\":2,\"linecolor\":\"white\",\"showbackground\":true,\"ticks\":\"\",\"zerolinecolor\":\"white\"},\"yaxis\":{\"backgroundcolor\":\"#E5ECF6\",\"gridcolor\":\"white\",\"gridwidth\":2,\"linecolor\":\"white\",\"showbackground\":true,\"ticks\":\"\",\"zerolinecolor\":\"white\"},\"zaxis\":{\"backgroundcolor\":\"#E5ECF6\",\"gridcolor\":\"white\",\"gridwidth\":2,\"linecolor\":\"white\",\"showbackground\":true,\"ticks\":\"\",\"zerolinecolor\":\"white\"}},\"shapedefaults\":{\"line\":{\"color\":\"#2a3f5f\"}},\"ternary\":{\"aaxis\":{\"gridcolor\":\"white\",\"linecolor\":\"white\",\"ticks\":\"\"},\"baxis\":{\"gridcolor\":\"white\",\"linecolor\":\"white\",\"ticks\":\"\"},\"bgcolor\":\"#E5ECF6\",\"caxis\":{\"gridcolor\":\"white\",\"linecolor\":\"white\",\"ticks\":\"\"}},\"title\":{\"x\":0.05},\"xaxis\":{\"automargin\":true,\"gridcolor\":\"white\",\"linecolor\":\"white\",\"ticks\":\"\",\"title\":{\"standoff\":15},\"zerolinecolor\":\"white\",\"zerolinewidth\":2},\"yaxis\":{\"automargin\":true,\"gridcolor\":\"white\",\"linecolor\":\"white\",\"ticks\":\"\",\"title\":{\"standoff\":15},\"zerolinecolor\":\"white\",\"zerolinewidth\":2}}},\"title\":{\"font\":{\"color\":\"#4D5663\"},\"text\":\"Top 20 bigrams in hotel description before removing stop words\"},\"xaxis\":{\"gridcolor\":\"#E1E5ED\",\"linecolor\":\"black\",\"showgrid\":true,\"tickfont\":{\"color\":\"#4D5663\"},\"title\":{\"font\":{\"color\":\"#4D5663\"},\"text\":\"\"},\"zerolinecolor\":\"#E1E5ED\"},\"yaxis\":{\"gridcolor\":\"#E1E5ED\",\"linecolor\":\"black\",\"showgrid\":true,\"tickfont\":{\"color\":\"#4D5663\"},\"title\":{\"font\":{\"color\":\"#4D5663\"},\"text\":\"Count\"},\"zerolinecolor\":\"#E1E5ED\"}},                        {\"showLink\": true, \"linkText\": \"Export to plot.ly\", \"plotlyServerURL\": \"https://plot.ly\", \"responsive\": true}                    ).then(function(){\n",
       "                            \n",
       "var gd = document.getElementById('4a19cd64-6a32-4899-bbf8-9151635c7be5');\n",
       "var x = new MutationObserver(function (mutations, observer) {{\n",
       "        var display = window.getComputedStyle(gd).display;\n",
       "        if (!display || display === 'none') {{\n",
       "            console.log([gd, 'removed!']);\n",
       "            Plotly.purge(gd);\n",
       "            observer.disconnect();\n",
       "        }}\n",
       "}});\n",
       "\n",
       "// Listen for the removal of the full notebook cells\n",
       "var notebookContainer = gd.closest('#notebook-container');\n",
       "if (notebookContainer) {{\n",
       "    x.observe(notebookContainer, {childList: true});\n",
       "}}\n",
       "\n",
       "// Listen for the clearing of the current output cell\n",
       "var outputEl = gd.closest('.output');\n",
       "if (outputEl) {{\n",
       "    x.observe(outputEl, {childList: true});\n",
       "}}\n",
       "\n",
       "                        })                };                });            </script>        </div>"
      ]
     },
     "metadata": {},
     "output_type": "display_data"
    }
   ],
   "source": [
    "# bi-gram without stop words\n",
    "\n",
    "common_words = get_top_n_words(hotel_review['review_text'], 20,y=(2,2))\n",
    "df5 = pd.DataFrame(common_words, columns = ['review_text' , 'count'])\n",
    "df5.groupby('review_text').sum()['count'].sort_values(ascending=False).iplot(kind='bar', yTitle='Count', linecolor='black', title='Top 20 bigrams in hotel description before removing stop words')\n"
   ]
  },
  {
   "cell_type": "markdown",
   "metadata": {},
   "source": [
    "### With Stopwords"
   ]
  },
  {
   "cell_type": "code",
   "execution_count": 16,
   "metadata": {
    "scrolled": true
   },
   "outputs": [
    {
     "data": {
      "application/vnd.plotly.v1+json": {
       "config": {
        "linkText": "Export to plot.ly",
        "plotlyServerURL": "https://plot.ly",
        "showLink": true
       },
       "data": [
        {
         "marker": {
          "color": "rgba(255, 153, 51, 0.6)",
          "line": {
           "color": "rgba(255, 153, 51, 1.0)",
           "width": 1
          }
         },
         "name": "count",
         "orientation": "v",
         "text": "",
         "type": "bar",
         "x": [
          "great location",
          "staff friendly",
          "friendly staff",
          "friendly helpful",
          "good location",
          "staff helpful",
          "helpful staff",
          "location great",
          "excellent location",
          "location good",
          "room small",
          "breakfast good",
          "room service",
          "good breakfast",
          "room clean",
          "location staff",
          "value money",
          "comfortable bed",
          "location excellent",
          "staff great"
         ],
         "y": [
          31284,
          26734,
          25406,
          21786,
          21431,
          18376,
          18091,
          13309,
          12975,
          12346,
          12214,
          11060,
          9825,
          9760,
          9714,
          9535,
          9231,
          9191,
          9158,
          9131
         ]
        }
       ],
       "layout": {
        "legend": {
         "bgcolor": "#F5F6F9",
         "font": {
          "color": "#4D5663"
         }
        },
        "paper_bgcolor": "#F5F6F9",
        "plot_bgcolor": "#F5F6F9",
        "template": {
         "data": {
          "bar": [
           {
            "error_x": {
             "color": "#2a3f5f"
            },
            "error_y": {
             "color": "#2a3f5f"
            },
            "marker": {
             "line": {
              "color": "#E5ECF6",
              "width": 0.5
             },
             "pattern": {
              "fillmode": "overlay",
              "size": 10,
              "solidity": 0.2
             }
            },
            "type": "bar"
           }
          ],
          "barpolar": [
           {
            "marker": {
             "line": {
              "color": "#E5ECF6",
              "width": 0.5
             },
             "pattern": {
              "fillmode": "overlay",
              "size": 10,
              "solidity": 0.2
             }
            },
            "type": "barpolar"
           }
          ],
          "carpet": [
           {
            "aaxis": {
             "endlinecolor": "#2a3f5f",
             "gridcolor": "white",
             "linecolor": "white",
             "minorgridcolor": "white",
             "startlinecolor": "#2a3f5f"
            },
            "baxis": {
             "endlinecolor": "#2a3f5f",
             "gridcolor": "white",
             "linecolor": "white",
             "minorgridcolor": "white",
             "startlinecolor": "#2a3f5f"
            },
            "type": "carpet"
           }
          ],
          "choropleth": [
           {
            "colorbar": {
             "outlinewidth": 0,
             "ticks": ""
            },
            "type": "choropleth"
           }
          ],
          "contour": [
           {
            "colorbar": {
             "outlinewidth": 0,
             "ticks": ""
            },
            "colorscale": [
             [
              0,
              "#0d0887"
             ],
             [
              0.1111111111111111,
              "#46039f"
             ],
             [
              0.2222222222222222,
              "#7201a8"
             ],
             [
              0.3333333333333333,
              "#9c179e"
             ],
             [
              0.4444444444444444,
              "#bd3786"
             ],
             [
              0.5555555555555556,
              "#d8576b"
             ],
             [
              0.6666666666666666,
              "#ed7953"
             ],
             [
              0.7777777777777778,
              "#fb9f3a"
             ],
             [
              0.8888888888888888,
              "#fdca26"
             ],
             [
              1,
              "#f0f921"
             ]
            ],
            "type": "contour"
           }
          ],
          "contourcarpet": [
           {
            "colorbar": {
             "outlinewidth": 0,
             "ticks": ""
            },
            "type": "contourcarpet"
           }
          ],
          "heatmap": [
           {
            "colorbar": {
             "outlinewidth": 0,
             "ticks": ""
            },
            "colorscale": [
             [
              0,
              "#0d0887"
             ],
             [
              0.1111111111111111,
              "#46039f"
             ],
             [
              0.2222222222222222,
              "#7201a8"
             ],
             [
              0.3333333333333333,
              "#9c179e"
             ],
             [
              0.4444444444444444,
              "#bd3786"
             ],
             [
              0.5555555555555556,
              "#d8576b"
             ],
             [
              0.6666666666666666,
              "#ed7953"
             ],
             [
              0.7777777777777778,
              "#fb9f3a"
             ],
             [
              0.8888888888888888,
              "#fdca26"
             ],
             [
              1,
              "#f0f921"
             ]
            ],
            "type": "heatmap"
           }
          ],
          "heatmapgl": [
           {
            "colorbar": {
             "outlinewidth": 0,
             "ticks": ""
            },
            "colorscale": [
             [
              0,
              "#0d0887"
             ],
             [
              0.1111111111111111,
              "#46039f"
             ],
             [
              0.2222222222222222,
              "#7201a8"
             ],
             [
              0.3333333333333333,
              "#9c179e"
             ],
             [
              0.4444444444444444,
              "#bd3786"
             ],
             [
              0.5555555555555556,
              "#d8576b"
             ],
             [
              0.6666666666666666,
              "#ed7953"
             ],
             [
              0.7777777777777778,
              "#fb9f3a"
             ],
             [
              0.8888888888888888,
              "#fdca26"
             ],
             [
              1,
              "#f0f921"
             ]
            ],
            "type": "heatmapgl"
           }
          ],
          "histogram": [
           {
            "marker": {
             "pattern": {
              "fillmode": "overlay",
              "size": 10,
              "solidity": 0.2
             }
            },
            "type": "histogram"
           }
          ],
          "histogram2d": [
           {
            "colorbar": {
             "outlinewidth": 0,
             "ticks": ""
            },
            "colorscale": [
             [
              0,
              "#0d0887"
             ],
             [
              0.1111111111111111,
              "#46039f"
             ],
             [
              0.2222222222222222,
              "#7201a8"
             ],
             [
              0.3333333333333333,
              "#9c179e"
             ],
             [
              0.4444444444444444,
              "#bd3786"
             ],
             [
              0.5555555555555556,
              "#d8576b"
             ],
             [
              0.6666666666666666,
              "#ed7953"
             ],
             [
              0.7777777777777778,
              "#fb9f3a"
             ],
             [
              0.8888888888888888,
              "#fdca26"
             ],
             [
              1,
              "#f0f921"
             ]
            ],
            "type": "histogram2d"
           }
          ],
          "histogram2dcontour": [
           {
            "colorbar": {
             "outlinewidth": 0,
             "ticks": ""
            },
            "colorscale": [
             [
              0,
              "#0d0887"
             ],
             [
              0.1111111111111111,
              "#46039f"
             ],
             [
              0.2222222222222222,
              "#7201a8"
             ],
             [
              0.3333333333333333,
              "#9c179e"
             ],
             [
              0.4444444444444444,
              "#bd3786"
             ],
             [
              0.5555555555555556,
              "#d8576b"
             ],
             [
              0.6666666666666666,
              "#ed7953"
             ],
             [
              0.7777777777777778,
              "#fb9f3a"
             ],
             [
              0.8888888888888888,
              "#fdca26"
             ],
             [
              1,
              "#f0f921"
             ]
            ],
            "type": "histogram2dcontour"
           }
          ],
          "mesh3d": [
           {
            "colorbar": {
             "outlinewidth": 0,
             "ticks": ""
            },
            "type": "mesh3d"
           }
          ],
          "parcoords": [
           {
            "line": {
             "colorbar": {
              "outlinewidth": 0,
              "ticks": ""
             }
            },
            "type": "parcoords"
           }
          ],
          "pie": [
           {
            "automargin": true,
            "type": "pie"
           }
          ],
          "scatter": [
           {
            "fillpattern": {
             "fillmode": "overlay",
             "size": 10,
             "solidity": 0.2
            },
            "type": "scatter"
           }
          ],
          "scatter3d": [
           {
            "line": {
             "colorbar": {
              "outlinewidth": 0,
              "ticks": ""
             }
            },
            "marker": {
             "colorbar": {
              "outlinewidth": 0,
              "ticks": ""
             }
            },
            "type": "scatter3d"
           }
          ],
          "scattercarpet": [
           {
            "marker": {
             "colorbar": {
              "outlinewidth": 0,
              "ticks": ""
             }
            },
            "type": "scattercarpet"
           }
          ],
          "scattergeo": [
           {
            "marker": {
             "colorbar": {
              "outlinewidth": 0,
              "ticks": ""
             }
            },
            "type": "scattergeo"
           }
          ],
          "scattergl": [
           {
            "marker": {
             "colorbar": {
              "outlinewidth": 0,
              "ticks": ""
             }
            },
            "type": "scattergl"
           }
          ],
          "scattermapbox": [
           {
            "marker": {
             "colorbar": {
              "outlinewidth": 0,
              "ticks": ""
             }
            },
            "type": "scattermapbox"
           }
          ],
          "scatterpolar": [
           {
            "marker": {
             "colorbar": {
              "outlinewidth": 0,
              "ticks": ""
             }
            },
            "type": "scatterpolar"
           }
          ],
          "scatterpolargl": [
           {
            "marker": {
             "colorbar": {
              "outlinewidth": 0,
              "ticks": ""
             }
            },
            "type": "scatterpolargl"
           }
          ],
          "scatterternary": [
           {
            "marker": {
             "colorbar": {
              "outlinewidth": 0,
              "ticks": ""
             }
            },
            "type": "scatterternary"
           }
          ],
          "surface": [
           {
            "colorbar": {
             "outlinewidth": 0,
             "ticks": ""
            },
            "colorscale": [
             [
              0,
              "#0d0887"
             ],
             [
              0.1111111111111111,
              "#46039f"
             ],
             [
              0.2222222222222222,
              "#7201a8"
             ],
             [
              0.3333333333333333,
              "#9c179e"
             ],
             [
              0.4444444444444444,
              "#bd3786"
             ],
             [
              0.5555555555555556,
              "#d8576b"
             ],
             [
              0.6666666666666666,
              "#ed7953"
             ],
             [
              0.7777777777777778,
              "#fb9f3a"
             ],
             [
              0.8888888888888888,
              "#fdca26"
             ],
             [
              1,
              "#f0f921"
             ]
            ],
            "type": "surface"
           }
          ],
          "table": [
           {
            "cells": {
             "fill": {
              "color": "#EBF0F8"
             },
             "line": {
              "color": "white"
             }
            },
            "header": {
             "fill": {
              "color": "#C8D4E3"
             },
             "line": {
              "color": "white"
             }
            },
            "type": "table"
           }
          ]
         },
         "layout": {
          "annotationdefaults": {
           "arrowcolor": "#2a3f5f",
           "arrowhead": 0,
           "arrowwidth": 1
          },
          "autotypenumbers": "strict",
          "coloraxis": {
           "colorbar": {
            "outlinewidth": 0,
            "ticks": ""
           }
          },
          "colorscale": {
           "diverging": [
            [
             0,
             "#8e0152"
            ],
            [
             0.1,
             "#c51b7d"
            ],
            [
             0.2,
             "#de77ae"
            ],
            [
             0.3,
             "#f1b6da"
            ],
            [
             0.4,
             "#fde0ef"
            ],
            [
             0.5,
             "#f7f7f7"
            ],
            [
             0.6,
             "#e6f5d0"
            ],
            [
             0.7,
             "#b8e186"
            ],
            [
             0.8,
             "#7fbc41"
            ],
            [
             0.9,
             "#4d9221"
            ],
            [
             1,
             "#276419"
            ]
           ],
           "sequential": [
            [
             0,
             "#0d0887"
            ],
            [
             0.1111111111111111,
             "#46039f"
            ],
            [
             0.2222222222222222,
             "#7201a8"
            ],
            [
             0.3333333333333333,
             "#9c179e"
            ],
            [
             0.4444444444444444,
             "#bd3786"
            ],
            [
             0.5555555555555556,
             "#d8576b"
            ],
            [
             0.6666666666666666,
             "#ed7953"
            ],
            [
             0.7777777777777778,
             "#fb9f3a"
            ],
            [
             0.8888888888888888,
             "#fdca26"
            ],
            [
             1,
             "#f0f921"
            ]
           ],
           "sequentialminus": [
            [
             0,
             "#0d0887"
            ],
            [
             0.1111111111111111,
             "#46039f"
            ],
            [
             0.2222222222222222,
             "#7201a8"
            ],
            [
             0.3333333333333333,
             "#9c179e"
            ],
            [
             0.4444444444444444,
             "#bd3786"
            ],
            [
             0.5555555555555556,
             "#d8576b"
            ],
            [
             0.6666666666666666,
             "#ed7953"
            ],
            [
             0.7777777777777778,
             "#fb9f3a"
            ],
            [
             0.8888888888888888,
             "#fdca26"
            ],
            [
             1,
             "#f0f921"
            ]
           ]
          },
          "colorway": [
           "#636efa",
           "#EF553B",
           "#00cc96",
           "#ab63fa",
           "#FFA15A",
           "#19d3f3",
           "#FF6692",
           "#B6E880",
           "#FF97FF",
           "#FECB52"
          ],
          "font": {
           "color": "#2a3f5f"
          },
          "geo": {
           "bgcolor": "white",
           "lakecolor": "white",
           "landcolor": "#E5ECF6",
           "showlakes": true,
           "showland": true,
           "subunitcolor": "white"
          },
          "hoverlabel": {
           "align": "left"
          },
          "hovermode": "closest",
          "mapbox": {
           "style": "light"
          },
          "paper_bgcolor": "white",
          "plot_bgcolor": "#E5ECF6",
          "polar": {
           "angularaxis": {
            "gridcolor": "white",
            "linecolor": "white",
            "ticks": ""
           },
           "bgcolor": "#E5ECF6",
           "radialaxis": {
            "gridcolor": "white",
            "linecolor": "white",
            "ticks": ""
           }
          },
          "scene": {
           "xaxis": {
            "backgroundcolor": "#E5ECF6",
            "gridcolor": "white",
            "gridwidth": 2,
            "linecolor": "white",
            "showbackground": true,
            "ticks": "",
            "zerolinecolor": "white"
           },
           "yaxis": {
            "backgroundcolor": "#E5ECF6",
            "gridcolor": "white",
            "gridwidth": 2,
            "linecolor": "white",
            "showbackground": true,
            "ticks": "",
            "zerolinecolor": "white"
           },
           "zaxis": {
            "backgroundcolor": "#E5ECF6",
            "gridcolor": "white",
            "gridwidth": 2,
            "linecolor": "white",
            "showbackground": true,
            "ticks": "",
            "zerolinecolor": "white"
           }
          },
          "shapedefaults": {
           "line": {
            "color": "#2a3f5f"
           }
          },
          "ternary": {
           "aaxis": {
            "gridcolor": "white",
            "linecolor": "white",
            "ticks": ""
           },
           "baxis": {
            "gridcolor": "white",
            "linecolor": "white",
            "ticks": ""
           },
           "bgcolor": "#E5ECF6",
           "caxis": {
            "gridcolor": "white",
            "linecolor": "white",
            "ticks": ""
           }
          },
          "title": {
           "x": 0.05
          },
          "xaxis": {
           "automargin": true,
           "gridcolor": "white",
           "linecolor": "white",
           "ticks": "",
           "title": {
            "standoff": 15
           },
           "zerolinecolor": "white",
           "zerolinewidth": 2
          },
          "yaxis": {
           "automargin": true,
           "gridcolor": "white",
           "linecolor": "white",
           "ticks": "",
           "title": {
            "standoff": 15
           },
           "zerolinecolor": "white",
           "zerolinewidth": 2
          }
         }
        },
        "title": {
         "font": {
          "color": "#4D5663"
         },
         "text": "Top 20 bigrams in hotel description After removing stop words"
        },
        "xaxis": {
         "gridcolor": "#E1E5ED",
         "linecolor": "black",
         "showgrid": true,
         "tickfont": {
          "color": "#4D5663"
         },
         "title": {
          "font": {
           "color": "#4D5663"
          },
          "text": ""
         },
         "zerolinecolor": "#E1E5ED"
        },
        "yaxis": {
         "gridcolor": "#E1E5ED",
         "linecolor": "black",
         "showgrid": true,
         "tickfont": {
          "color": "#4D5663"
         },
         "title": {
          "font": {
           "color": "#4D5663"
          },
          "text": "Count"
         },
         "zerolinecolor": "#E1E5ED"
        }
       }
      },
      "text/html": [
       "<div>                            <div id=\"94a71207-cac2-4315-88cc-0ca8339396ad\" class=\"plotly-graph-div\" style=\"height:525px; width:100%;\"></div>            <script type=\"text/javascript\">                require([\"plotly\"], function(Plotly) {                    window.PLOTLYENV=window.PLOTLYENV || {};\n",
       "                    window.PLOTLYENV.BASE_URL='https://plot.ly';                                    if (document.getElementById(\"94a71207-cac2-4315-88cc-0ca8339396ad\")) {                    Plotly.newPlot(                        \"94a71207-cac2-4315-88cc-0ca8339396ad\",                        [{\"marker\":{\"color\":\"rgba(255, 153, 51, 0.6)\",\"line\":{\"color\":\"rgba(255, 153, 51, 1.0)\",\"width\":1}},\"name\":\"count\",\"orientation\":\"v\",\"text\":\"\",\"x\":[\"great location\",\"staff friendly\",\"friendly staff\",\"friendly helpful\",\"good location\",\"staff helpful\",\"helpful staff\",\"location great\",\"excellent location\",\"location good\",\"room small\",\"breakfast good\",\"room service\",\"good breakfast\",\"room clean\",\"location staff\",\"value money\",\"comfortable bed\",\"location excellent\",\"staff great\"],\"y\":[31284,26734,25406,21786,21431,18376,18091,13309,12975,12346,12214,11060,9825,9760,9714,9535,9231,9191,9158,9131],\"type\":\"bar\"}],                        {\"legend\":{\"bgcolor\":\"#F5F6F9\",\"font\":{\"color\":\"#4D5663\"}},\"paper_bgcolor\":\"#F5F6F9\",\"plot_bgcolor\":\"#F5F6F9\",\"template\":{\"data\":{\"barpolar\":[{\"marker\":{\"line\":{\"color\":\"#E5ECF6\",\"width\":0.5},\"pattern\":{\"fillmode\":\"overlay\",\"size\":10,\"solidity\":0.2}},\"type\":\"barpolar\"}],\"bar\":[{\"error_x\":{\"color\":\"#2a3f5f\"},\"error_y\":{\"color\":\"#2a3f5f\"},\"marker\":{\"line\":{\"color\":\"#E5ECF6\",\"width\":0.5},\"pattern\":{\"fillmode\":\"overlay\",\"size\":10,\"solidity\":0.2}},\"type\":\"bar\"}],\"carpet\":[{\"aaxis\":{\"endlinecolor\":\"#2a3f5f\",\"gridcolor\":\"white\",\"linecolor\":\"white\",\"minorgridcolor\":\"white\",\"startlinecolor\":\"#2a3f5f\"},\"baxis\":{\"endlinecolor\":\"#2a3f5f\",\"gridcolor\":\"white\",\"linecolor\":\"white\",\"minorgridcolor\":\"white\",\"startlinecolor\":\"#2a3f5f\"},\"type\":\"carpet\"}],\"choropleth\":[{\"colorbar\":{\"outlinewidth\":0,\"ticks\":\"\"},\"type\":\"choropleth\"}],\"contourcarpet\":[{\"colorbar\":{\"outlinewidth\":0,\"ticks\":\"\"},\"type\":\"contourcarpet\"}],\"contour\":[{\"colorbar\":{\"outlinewidth\":0,\"ticks\":\"\"},\"colorscale\":[[0.0,\"#0d0887\"],[0.1111111111111111,\"#46039f\"],[0.2222222222222222,\"#7201a8\"],[0.3333333333333333,\"#9c179e\"],[0.4444444444444444,\"#bd3786\"],[0.5555555555555556,\"#d8576b\"],[0.6666666666666666,\"#ed7953\"],[0.7777777777777778,\"#fb9f3a\"],[0.8888888888888888,\"#fdca26\"],[1.0,\"#f0f921\"]],\"type\":\"contour\"}],\"heatmapgl\":[{\"colorbar\":{\"outlinewidth\":0,\"ticks\":\"\"},\"colorscale\":[[0.0,\"#0d0887\"],[0.1111111111111111,\"#46039f\"],[0.2222222222222222,\"#7201a8\"],[0.3333333333333333,\"#9c179e\"],[0.4444444444444444,\"#bd3786\"],[0.5555555555555556,\"#d8576b\"],[0.6666666666666666,\"#ed7953\"],[0.7777777777777778,\"#fb9f3a\"],[0.8888888888888888,\"#fdca26\"],[1.0,\"#f0f921\"]],\"type\":\"heatmapgl\"}],\"heatmap\":[{\"colorbar\":{\"outlinewidth\":0,\"ticks\":\"\"},\"colorscale\":[[0.0,\"#0d0887\"],[0.1111111111111111,\"#46039f\"],[0.2222222222222222,\"#7201a8\"],[0.3333333333333333,\"#9c179e\"],[0.4444444444444444,\"#bd3786\"],[0.5555555555555556,\"#d8576b\"],[0.6666666666666666,\"#ed7953\"],[0.7777777777777778,\"#fb9f3a\"],[0.8888888888888888,\"#fdca26\"],[1.0,\"#f0f921\"]],\"type\":\"heatmap\"}],\"histogram2dcontour\":[{\"colorbar\":{\"outlinewidth\":0,\"ticks\":\"\"},\"colorscale\":[[0.0,\"#0d0887\"],[0.1111111111111111,\"#46039f\"],[0.2222222222222222,\"#7201a8\"],[0.3333333333333333,\"#9c179e\"],[0.4444444444444444,\"#bd3786\"],[0.5555555555555556,\"#d8576b\"],[0.6666666666666666,\"#ed7953\"],[0.7777777777777778,\"#fb9f3a\"],[0.8888888888888888,\"#fdca26\"],[1.0,\"#f0f921\"]],\"type\":\"histogram2dcontour\"}],\"histogram2d\":[{\"colorbar\":{\"outlinewidth\":0,\"ticks\":\"\"},\"colorscale\":[[0.0,\"#0d0887\"],[0.1111111111111111,\"#46039f\"],[0.2222222222222222,\"#7201a8\"],[0.3333333333333333,\"#9c179e\"],[0.4444444444444444,\"#bd3786\"],[0.5555555555555556,\"#d8576b\"],[0.6666666666666666,\"#ed7953\"],[0.7777777777777778,\"#fb9f3a\"],[0.8888888888888888,\"#fdca26\"],[1.0,\"#f0f921\"]],\"type\":\"histogram2d\"}],\"histogram\":[{\"marker\":{\"pattern\":{\"fillmode\":\"overlay\",\"size\":10,\"solidity\":0.2}},\"type\":\"histogram\"}],\"mesh3d\":[{\"colorbar\":{\"outlinewidth\":0,\"ticks\":\"\"},\"type\":\"mesh3d\"}],\"parcoords\":[{\"line\":{\"colorbar\":{\"outlinewidth\":0,\"ticks\":\"\"}},\"type\":\"parcoords\"}],\"pie\":[{\"automargin\":true,\"type\":\"pie\"}],\"scatter3d\":[{\"line\":{\"colorbar\":{\"outlinewidth\":0,\"ticks\":\"\"}},\"marker\":{\"colorbar\":{\"outlinewidth\":0,\"ticks\":\"\"}},\"type\":\"scatter3d\"}],\"scattercarpet\":[{\"marker\":{\"colorbar\":{\"outlinewidth\":0,\"ticks\":\"\"}},\"type\":\"scattercarpet\"}],\"scattergeo\":[{\"marker\":{\"colorbar\":{\"outlinewidth\":0,\"ticks\":\"\"}},\"type\":\"scattergeo\"}],\"scattergl\":[{\"marker\":{\"colorbar\":{\"outlinewidth\":0,\"ticks\":\"\"}},\"type\":\"scattergl\"}],\"scattermapbox\":[{\"marker\":{\"colorbar\":{\"outlinewidth\":0,\"ticks\":\"\"}},\"type\":\"scattermapbox\"}],\"scatterpolargl\":[{\"marker\":{\"colorbar\":{\"outlinewidth\":0,\"ticks\":\"\"}},\"type\":\"scatterpolargl\"}],\"scatterpolar\":[{\"marker\":{\"colorbar\":{\"outlinewidth\":0,\"ticks\":\"\"}},\"type\":\"scatterpolar\"}],\"scatter\":[{\"fillpattern\":{\"fillmode\":\"overlay\",\"size\":10,\"solidity\":0.2},\"type\":\"scatter\"}],\"scatterternary\":[{\"marker\":{\"colorbar\":{\"outlinewidth\":0,\"ticks\":\"\"}},\"type\":\"scatterternary\"}],\"surface\":[{\"colorbar\":{\"outlinewidth\":0,\"ticks\":\"\"},\"colorscale\":[[0.0,\"#0d0887\"],[0.1111111111111111,\"#46039f\"],[0.2222222222222222,\"#7201a8\"],[0.3333333333333333,\"#9c179e\"],[0.4444444444444444,\"#bd3786\"],[0.5555555555555556,\"#d8576b\"],[0.6666666666666666,\"#ed7953\"],[0.7777777777777778,\"#fb9f3a\"],[0.8888888888888888,\"#fdca26\"],[1.0,\"#f0f921\"]],\"type\":\"surface\"}],\"table\":[{\"cells\":{\"fill\":{\"color\":\"#EBF0F8\"},\"line\":{\"color\":\"white\"}},\"header\":{\"fill\":{\"color\":\"#C8D4E3\"},\"line\":{\"color\":\"white\"}},\"type\":\"table\"}]},\"layout\":{\"annotationdefaults\":{\"arrowcolor\":\"#2a3f5f\",\"arrowhead\":0,\"arrowwidth\":1},\"autotypenumbers\":\"strict\",\"coloraxis\":{\"colorbar\":{\"outlinewidth\":0,\"ticks\":\"\"}},\"colorscale\":{\"diverging\":[[0,\"#8e0152\"],[0.1,\"#c51b7d\"],[0.2,\"#de77ae\"],[0.3,\"#f1b6da\"],[0.4,\"#fde0ef\"],[0.5,\"#f7f7f7\"],[0.6,\"#e6f5d0\"],[0.7,\"#b8e186\"],[0.8,\"#7fbc41\"],[0.9,\"#4d9221\"],[1,\"#276419\"]],\"sequential\":[[0.0,\"#0d0887\"],[0.1111111111111111,\"#46039f\"],[0.2222222222222222,\"#7201a8\"],[0.3333333333333333,\"#9c179e\"],[0.4444444444444444,\"#bd3786\"],[0.5555555555555556,\"#d8576b\"],[0.6666666666666666,\"#ed7953\"],[0.7777777777777778,\"#fb9f3a\"],[0.8888888888888888,\"#fdca26\"],[1.0,\"#f0f921\"]],\"sequentialminus\":[[0.0,\"#0d0887\"],[0.1111111111111111,\"#46039f\"],[0.2222222222222222,\"#7201a8\"],[0.3333333333333333,\"#9c179e\"],[0.4444444444444444,\"#bd3786\"],[0.5555555555555556,\"#d8576b\"],[0.6666666666666666,\"#ed7953\"],[0.7777777777777778,\"#fb9f3a\"],[0.8888888888888888,\"#fdca26\"],[1.0,\"#f0f921\"]]},\"colorway\":[\"#636efa\",\"#EF553B\",\"#00cc96\",\"#ab63fa\",\"#FFA15A\",\"#19d3f3\",\"#FF6692\",\"#B6E880\",\"#FF97FF\",\"#FECB52\"],\"font\":{\"color\":\"#2a3f5f\"},\"geo\":{\"bgcolor\":\"white\",\"lakecolor\":\"white\",\"landcolor\":\"#E5ECF6\",\"showlakes\":true,\"showland\":true,\"subunitcolor\":\"white\"},\"hoverlabel\":{\"align\":\"left\"},\"hovermode\":\"closest\",\"mapbox\":{\"style\":\"light\"},\"paper_bgcolor\":\"white\",\"plot_bgcolor\":\"#E5ECF6\",\"polar\":{\"angularaxis\":{\"gridcolor\":\"white\",\"linecolor\":\"white\",\"ticks\":\"\"},\"bgcolor\":\"#E5ECF6\",\"radialaxis\":{\"gridcolor\":\"white\",\"linecolor\":\"white\",\"ticks\":\"\"}},\"scene\":{\"xaxis\":{\"backgroundcolor\":\"#E5ECF6\",\"gridcolor\":\"white\",\"gridwidth\":2,\"linecolor\":\"white\",\"showbackground\":true,\"ticks\":\"\",\"zerolinecolor\":\"white\"},\"yaxis\":{\"backgroundcolor\":\"#E5ECF6\",\"gridcolor\":\"white\",\"gridwidth\":2,\"linecolor\":\"white\",\"showbackground\":true,\"ticks\":\"\",\"zerolinecolor\":\"white\"},\"zaxis\":{\"backgroundcolor\":\"#E5ECF6\",\"gridcolor\":\"white\",\"gridwidth\":2,\"linecolor\":\"white\",\"showbackground\":true,\"ticks\":\"\",\"zerolinecolor\":\"white\"}},\"shapedefaults\":{\"line\":{\"color\":\"#2a3f5f\"}},\"ternary\":{\"aaxis\":{\"gridcolor\":\"white\",\"linecolor\":\"white\",\"ticks\":\"\"},\"baxis\":{\"gridcolor\":\"white\",\"linecolor\":\"white\",\"ticks\":\"\"},\"bgcolor\":\"#E5ECF6\",\"caxis\":{\"gridcolor\":\"white\",\"linecolor\":\"white\",\"ticks\":\"\"}},\"title\":{\"x\":0.05},\"xaxis\":{\"automargin\":true,\"gridcolor\":\"white\",\"linecolor\":\"white\",\"ticks\":\"\",\"title\":{\"standoff\":15},\"zerolinecolor\":\"white\",\"zerolinewidth\":2},\"yaxis\":{\"automargin\":true,\"gridcolor\":\"white\",\"linecolor\":\"white\",\"ticks\":\"\",\"title\":{\"standoff\":15},\"zerolinecolor\":\"white\",\"zerolinewidth\":2}}},\"title\":{\"font\":{\"color\":\"#4D5663\"},\"text\":\"Top 20 bigrams in hotel description After removing stop words\"},\"xaxis\":{\"gridcolor\":\"#E1E5ED\",\"linecolor\":\"black\",\"showgrid\":true,\"tickfont\":{\"color\":\"#4D5663\"},\"title\":{\"font\":{\"color\":\"#4D5663\"},\"text\":\"\"},\"zerolinecolor\":\"#E1E5ED\"},\"yaxis\":{\"gridcolor\":\"#E1E5ED\",\"linecolor\":\"black\",\"showgrid\":true,\"tickfont\":{\"color\":\"#4D5663\"},\"title\":{\"font\":{\"color\":\"#4D5663\"},\"text\":\"Count\"},\"zerolinecolor\":\"#E1E5ED\"}},                        {\"showLink\": true, \"linkText\": \"Export to plot.ly\", \"plotlyServerURL\": \"https://plot.ly\", \"responsive\": true}                    ).then(function(){\n",
       "                            \n",
       "var gd = document.getElementById('94a71207-cac2-4315-88cc-0ca8339396ad');\n",
       "var x = new MutationObserver(function (mutations, observer) {{\n",
       "        var display = window.getComputedStyle(gd).display;\n",
       "        if (!display || display === 'none') {{\n",
       "            console.log([gd, 'removed!']);\n",
       "            Plotly.purge(gd);\n",
       "            observer.disconnect();\n",
       "        }}\n",
       "}});\n",
       "\n",
       "// Listen for the removal of the full notebook cells\n",
       "var notebookContainer = gd.closest('#notebook-container');\n",
       "if (notebookContainer) {{\n",
       "    x.observe(notebookContainer, {childList: true});\n",
       "}}\n",
       "\n",
       "// Listen for the clearing of the current output cell\n",
       "var outputEl = gd.closest('.output');\n",
       "if (outputEl) {{\n",
       "    x.observe(outputEl, {childList: true});\n",
       "}}\n",
       "\n",
       "                        })                };                });            </script>        </div>"
      ]
     },
     "metadata": {},
     "output_type": "display_data"
    }
   ],
   "source": [
    "common_words = get_top_n_words_with_stop_words(hotel_review['review_text'], 20,y=(2,2))\n",
    "df6 = pd.DataFrame(common_words, columns = ['review_text' , 'count'])\n",
    "df6.groupby('review_text').sum()['count'].sort_values(ascending=False).iplot(kind='bar', yTitle='Count', linecolor='black', title='Top 20 bigrams in hotel description After removing stop words')"
   ]
  },
  {
   "cell_type": "markdown",
   "metadata": {},
   "source": [
    "## Tri-gram Text Visualisation\n",
    "\n",
    "### Without stopwords"
   ]
  },
  {
   "cell_type": "code",
   "execution_count": 17,
   "metadata": {},
   "outputs": [
    {
     "data": {
      "application/vnd.plotly.v1+json": {
       "config": {
        "linkText": "Export to plot.ly",
        "plotlyServerURL": "https://plot.ly",
        "showLink": true
       },
       "data": [
        {
         "marker": {
          "color": "rgba(255, 153, 51, 0.6)",
          "line": {
           "color": "rgba(255, 153, 51, 1.0)",
           "width": 1
          }
         },
         "name": "count",
         "orientation": "v",
         "text": "",
         "type": "bar",
         "x": [
          "the room was",
          "in the room",
          "the staff were",
          "friendly and helpful",
          "no no no",
          "the hotel is",
          "of the hotel",
          "staff were very",
          "the bed was",
          "very friendly and",
          "the hotel was",
          "the location is",
          "room was very",
          "the location was",
          "the breakfast was",
          "value for money",
          "close to the",
          "the staff was",
          "and the staff",
          "very helpful and"
         ],
         "y": [
          33448,
          25670,
          21417,
          16433,
          16407,
          14753,
          13915,
          12879,
          12491,
          11577,
          11491,
          10074,
          10008,
          9481,
          8717,
          8492,
          8399,
          8137,
          6949,
          6736
         ]
        }
       ],
       "layout": {
        "legend": {
         "bgcolor": "#F5F6F9",
         "font": {
          "color": "#4D5663"
         }
        },
        "paper_bgcolor": "#F5F6F9",
        "plot_bgcolor": "#F5F6F9",
        "template": {
         "data": {
          "bar": [
           {
            "error_x": {
             "color": "#2a3f5f"
            },
            "error_y": {
             "color": "#2a3f5f"
            },
            "marker": {
             "line": {
              "color": "#E5ECF6",
              "width": 0.5
             },
             "pattern": {
              "fillmode": "overlay",
              "size": 10,
              "solidity": 0.2
             }
            },
            "type": "bar"
           }
          ],
          "barpolar": [
           {
            "marker": {
             "line": {
              "color": "#E5ECF6",
              "width": 0.5
             },
             "pattern": {
              "fillmode": "overlay",
              "size": 10,
              "solidity": 0.2
             }
            },
            "type": "barpolar"
           }
          ],
          "carpet": [
           {
            "aaxis": {
             "endlinecolor": "#2a3f5f",
             "gridcolor": "white",
             "linecolor": "white",
             "minorgridcolor": "white",
             "startlinecolor": "#2a3f5f"
            },
            "baxis": {
             "endlinecolor": "#2a3f5f",
             "gridcolor": "white",
             "linecolor": "white",
             "minorgridcolor": "white",
             "startlinecolor": "#2a3f5f"
            },
            "type": "carpet"
           }
          ],
          "choropleth": [
           {
            "colorbar": {
             "outlinewidth": 0,
             "ticks": ""
            },
            "type": "choropleth"
           }
          ],
          "contour": [
           {
            "colorbar": {
             "outlinewidth": 0,
             "ticks": ""
            },
            "colorscale": [
             [
              0,
              "#0d0887"
             ],
             [
              0.1111111111111111,
              "#46039f"
             ],
             [
              0.2222222222222222,
              "#7201a8"
             ],
             [
              0.3333333333333333,
              "#9c179e"
             ],
             [
              0.4444444444444444,
              "#bd3786"
             ],
             [
              0.5555555555555556,
              "#d8576b"
             ],
             [
              0.6666666666666666,
              "#ed7953"
             ],
             [
              0.7777777777777778,
              "#fb9f3a"
             ],
             [
              0.8888888888888888,
              "#fdca26"
             ],
             [
              1,
              "#f0f921"
             ]
            ],
            "type": "contour"
           }
          ],
          "contourcarpet": [
           {
            "colorbar": {
             "outlinewidth": 0,
             "ticks": ""
            },
            "type": "contourcarpet"
           }
          ],
          "heatmap": [
           {
            "colorbar": {
             "outlinewidth": 0,
             "ticks": ""
            },
            "colorscale": [
             [
              0,
              "#0d0887"
             ],
             [
              0.1111111111111111,
              "#46039f"
             ],
             [
              0.2222222222222222,
              "#7201a8"
             ],
             [
              0.3333333333333333,
              "#9c179e"
             ],
             [
              0.4444444444444444,
              "#bd3786"
             ],
             [
              0.5555555555555556,
              "#d8576b"
             ],
             [
              0.6666666666666666,
              "#ed7953"
             ],
             [
              0.7777777777777778,
              "#fb9f3a"
             ],
             [
              0.8888888888888888,
              "#fdca26"
             ],
             [
              1,
              "#f0f921"
             ]
            ],
            "type": "heatmap"
           }
          ],
          "heatmapgl": [
           {
            "colorbar": {
             "outlinewidth": 0,
             "ticks": ""
            },
            "colorscale": [
             [
              0,
              "#0d0887"
             ],
             [
              0.1111111111111111,
              "#46039f"
             ],
             [
              0.2222222222222222,
              "#7201a8"
             ],
             [
              0.3333333333333333,
              "#9c179e"
             ],
             [
              0.4444444444444444,
              "#bd3786"
             ],
             [
              0.5555555555555556,
              "#d8576b"
             ],
             [
              0.6666666666666666,
              "#ed7953"
             ],
             [
              0.7777777777777778,
              "#fb9f3a"
             ],
             [
              0.8888888888888888,
              "#fdca26"
             ],
             [
              1,
              "#f0f921"
             ]
            ],
            "type": "heatmapgl"
           }
          ],
          "histogram": [
           {
            "marker": {
             "pattern": {
              "fillmode": "overlay",
              "size": 10,
              "solidity": 0.2
             }
            },
            "type": "histogram"
           }
          ],
          "histogram2d": [
           {
            "colorbar": {
             "outlinewidth": 0,
             "ticks": ""
            },
            "colorscale": [
             [
              0,
              "#0d0887"
             ],
             [
              0.1111111111111111,
              "#46039f"
             ],
             [
              0.2222222222222222,
              "#7201a8"
             ],
             [
              0.3333333333333333,
              "#9c179e"
             ],
             [
              0.4444444444444444,
              "#bd3786"
             ],
             [
              0.5555555555555556,
              "#d8576b"
             ],
             [
              0.6666666666666666,
              "#ed7953"
             ],
             [
              0.7777777777777778,
              "#fb9f3a"
             ],
             [
              0.8888888888888888,
              "#fdca26"
             ],
             [
              1,
              "#f0f921"
             ]
            ],
            "type": "histogram2d"
           }
          ],
          "histogram2dcontour": [
           {
            "colorbar": {
             "outlinewidth": 0,
             "ticks": ""
            },
            "colorscale": [
             [
              0,
              "#0d0887"
             ],
             [
              0.1111111111111111,
              "#46039f"
             ],
             [
              0.2222222222222222,
              "#7201a8"
             ],
             [
              0.3333333333333333,
              "#9c179e"
             ],
             [
              0.4444444444444444,
              "#bd3786"
             ],
             [
              0.5555555555555556,
              "#d8576b"
             ],
             [
              0.6666666666666666,
              "#ed7953"
             ],
             [
              0.7777777777777778,
              "#fb9f3a"
             ],
             [
              0.8888888888888888,
              "#fdca26"
             ],
             [
              1,
              "#f0f921"
             ]
            ],
            "type": "histogram2dcontour"
           }
          ],
          "mesh3d": [
           {
            "colorbar": {
             "outlinewidth": 0,
             "ticks": ""
            },
            "type": "mesh3d"
           }
          ],
          "parcoords": [
           {
            "line": {
             "colorbar": {
              "outlinewidth": 0,
              "ticks": ""
             }
            },
            "type": "parcoords"
           }
          ],
          "pie": [
           {
            "automargin": true,
            "type": "pie"
           }
          ],
          "scatter": [
           {
            "fillpattern": {
             "fillmode": "overlay",
             "size": 10,
             "solidity": 0.2
            },
            "type": "scatter"
           }
          ],
          "scatter3d": [
           {
            "line": {
             "colorbar": {
              "outlinewidth": 0,
              "ticks": ""
             }
            },
            "marker": {
             "colorbar": {
              "outlinewidth": 0,
              "ticks": ""
             }
            },
            "type": "scatter3d"
           }
          ],
          "scattercarpet": [
           {
            "marker": {
             "colorbar": {
              "outlinewidth": 0,
              "ticks": ""
             }
            },
            "type": "scattercarpet"
           }
          ],
          "scattergeo": [
           {
            "marker": {
             "colorbar": {
              "outlinewidth": 0,
              "ticks": ""
             }
            },
            "type": "scattergeo"
           }
          ],
          "scattergl": [
           {
            "marker": {
             "colorbar": {
              "outlinewidth": 0,
              "ticks": ""
             }
            },
            "type": "scattergl"
           }
          ],
          "scattermapbox": [
           {
            "marker": {
             "colorbar": {
              "outlinewidth": 0,
              "ticks": ""
             }
            },
            "type": "scattermapbox"
           }
          ],
          "scatterpolar": [
           {
            "marker": {
             "colorbar": {
              "outlinewidth": 0,
              "ticks": ""
             }
            },
            "type": "scatterpolar"
           }
          ],
          "scatterpolargl": [
           {
            "marker": {
             "colorbar": {
              "outlinewidth": 0,
              "ticks": ""
             }
            },
            "type": "scatterpolargl"
           }
          ],
          "scatterternary": [
           {
            "marker": {
             "colorbar": {
              "outlinewidth": 0,
              "ticks": ""
             }
            },
            "type": "scatterternary"
           }
          ],
          "surface": [
           {
            "colorbar": {
             "outlinewidth": 0,
             "ticks": ""
            },
            "colorscale": [
             [
              0,
              "#0d0887"
             ],
             [
              0.1111111111111111,
              "#46039f"
             ],
             [
              0.2222222222222222,
              "#7201a8"
             ],
             [
              0.3333333333333333,
              "#9c179e"
             ],
             [
              0.4444444444444444,
              "#bd3786"
             ],
             [
              0.5555555555555556,
              "#d8576b"
             ],
             [
              0.6666666666666666,
              "#ed7953"
             ],
             [
              0.7777777777777778,
              "#fb9f3a"
             ],
             [
              0.8888888888888888,
              "#fdca26"
             ],
             [
              1,
              "#f0f921"
             ]
            ],
            "type": "surface"
           }
          ],
          "table": [
           {
            "cells": {
             "fill": {
              "color": "#EBF0F8"
             },
             "line": {
              "color": "white"
             }
            },
            "header": {
             "fill": {
              "color": "#C8D4E3"
             },
             "line": {
              "color": "white"
             }
            },
            "type": "table"
           }
          ]
         },
         "layout": {
          "annotationdefaults": {
           "arrowcolor": "#2a3f5f",
           "arrowhead": 0,
           "arrowwidth": 1
          },
          "autotypenumbers": "strict",
          "coloraxis": {
           "colorbar": {
            "outlinewidth": 0,
            "ticks": ""
           }
          },
          "colorscale": {
           "diverging": [
            [
             0,
             "#8e0152"
            ],
            [
             0.1,
             "#c51b7d"
            ],
            [
             0.2,
             "#de77ae"
            ],
            [
             0.3,
             "#f1b6da"
            ],
            [
             0.4,
             "#fde0ef"
            ],
            [
             0.5,
             "#f7f7f7"
            ],
            [
             0.6,
             "#e6f5d0"
            ],
            [
             0.7,
             "#b8e186"
            ],
            [
             0.8,
             "#7fbc41"
            ],
            [
             0.9,
             "#4d9221"
            ],
            [
             1,
             "#276419"
            ]
           ],
           "sequential": [
            [
             0,
             "#0d0887"
            ],
            [
             0.1111111111111111,
             "#46039f"
            ],
            [
             0.2222222222222222,
             "#7201a8"
            ],
            [
             0.3333333333333333,
             "#9c179e"
            ],
            [
             0.4444444444444444,
             "#bd3786"
            ],
            [
             0.5555555555555556,
             "#d8576b"
            ],
            [
             0.6666666666666666,
             "#ed7953"
            ],
            [
             0.7777777777777778,
             "#fb9f3a"
            ],
            [
             0.8888888888888888,
             "#fdca26"
            ],
            [
             1,
             "#f0f921"
            ]
           ],
           "sequentialminus": [
            [
             0,
             "#0d0887"
            ],
            [
             0.1111111111111111,
             "#46039f"
            ],
            [
             0.2222222222222222,
             "#7201a8"
            ],
            [
             0.3333333333333333,
             "#9c179e"
            ],
            [
             0.4444444444444444,
             "#bd3786"
            ],
            [
             0.5555555555555556,
             "#d8576b"
            ],
            [
             0.6666666666666666,
             "#ed7953"
            ],
            [
             0.7777777777777778,
             "#fb9f3a"
            ],
            [
             0.8888888888888888,
             "#fdca26"
            ],
            [
             1,
             "#f0f921"
            ]
           ]
          },
          "colorway": [
           "#636efa",
           "#EF553B",
           "#00cc96",
           "#ab63fa",
           "#FFA15A",
           "#19d3f3",
           "#FF6692",
           "#B6E880",
           "#FF97FF",
           "#FECB52"
          ],
          "font": {
           "color": "#2a3f5f"
          },
          "geo": {
           "bgcolor": "white",
           "lakecolor": "white",
           "landcolor": "#E5ECF6",
           "showlakes": true,
           "showland": true,
           "subunitcolor": "white"
          },
          "hoverlabel": {
           "align": "left"
          },
          "hovermode": "closest",
          "mapbox": {
           "style": "light"
          },
          "paper_bgcolor": "white",
          "plot_bgcolor": "#E5ECF6",
          "polar": {
           "angularaxis": {
            "gridcolor": "white",
            "linecolor": "white",
            "ticks": ""
           },
           "bgcolor": "#E5ECF6",
           "radialaxis": {
            "gridcolor": "white",
            "linecolor": "white",
            "ticks": ""
           }
          },
          "scene": {
           "xaxis": {
            "backgroundcolor": "#E5ECF6",
            "gridcolor": "white",
            "gridwidth": 2,
            "linecolor": "white",
            "showbackground": true,
            "ticks": "",
            "zerolinecolor": "white"
           },
           "yaxis": {
            "backgroundcolor": "#E5ECF6",
            "gridcolor": "white",
            "gridwidth": 2,
            "linecolor": "white",
            "showbackground": true,
            "ticks": "",
            "zerolinecolor": "white"
           },
           "zaxis": {
            "backgroundcolor": "#E5ECF6",
            "gridcolor": "white",
            "gridwidth": 2,
            "linecolor": "white",
            "showbackground": true,
            "ticks": "",
            "zerolinecolor": "white"
           }
          },
          "shapedefaults": {
           "line": {
            "color": "#2a3f5f"
           }
          },
          "ternary": {
           "aaxis": {
            "gridcolor": "white",
            "linecolor": "white",
            "ticks": ""
           },
           "baxis": {
            "gridcolor": "white",
            "linecolor": "white",
            "ticks": ""
           },
           "bgcolor": "#E5ECF6",
           "caxis": {
            "gridcolor": "white",
            "linecolor": "white",
            "ticks": ""
           }
          },
          "title": {
           "x": 0.05
          },
          "xaxis": {
           "automargin": true,
           "gridcolor": "white",
           "linecolor": "white",
           "ticks": "",
           "title": {
            "standoff": 15
           },
           "zerolinecolor": "white",
           "zerolinewidth": 2
          },
          "yaxis": {
           "automargin": true,
           "gridcolor": "white",
           "linecolor": "white",
           "ticks": "",
           "title": {
            "standoff": 15
           },
           "zerolinecolor": "white",
           "zerolinewidth": 2
          }
         }
        },
        "title": {
         "font": {
          "color": "#4D5663"
         },
         "text": "Top 20 trigrams in hotel description before removing stop words"
        },
        "xaxis": {
         "gridcolor": "#E1E5ED",
         "linecolor": "black",
         "showgrid": true,
         "tickfont": {
          "color": "#4D5663"
         },
         "title": {
          "font": {
           "color": "#4D5663"
          },
          "text": ""
         },
         "zerolinecolor": "#E1E5ED"
        },
        "yaxis": {
         "gridcolor": "#E1E5ED",
         "linecolor": "black",
         "showgrid": true,
         "tickfont": {
          "color": "#4D5663"
         },
         "title": {
          "font": {
           "color": "#4D5663"
          },
          "text": "Count"
         },
         "zerolinecolor": "#E1E5ED"
        }
       }
      },
      "text/html": [
       "<div>                            <div id=\"96a0635e-e2bb-4761-842f-befa66aad3e6\" class=\"plotly-graph-div\" style=\"height:525px; width:100%;\"></div>            <script type=\"text/javascript\">                require([\"plotly\"], function(Plotly) {                    window.PLOTLYENV=window.PLOTLYENV || {};\n",
       "                    window.PLOTLYENV.BASE_URL='https://plot.ly';                                    if (document.getElementById(\"96a0635e-e2bb-4761-842f-befa66aad3e6\")) {                    Plotly.newPlot(                        \"96a0635e-e2bb-4761-842f-befa66aad3e6\",                        [{\"marker\":{\"color\":\"rgba(255, 153, 51, 0.6)\",\"line\":{\"color\":\"rgba(255, 153, 51, 1.0)\",\"width\":1}},\"name\":\"count\",\"orientation\":\"v\",\"text\":\"\",\"x\":[\"the room was\",\"in the room\",\"the staff were\",\"friendly and helpful\",\"no no no\",\"the hotel is\",\"of the hotel\",\"staff were very\",\"the bed was\",\"very friendly and\",\"the hotel was\",\"the location is\",\"room was very\",\"the location was\",\"the breakfast was\",\"value for money\",\"close to the\",\"the staff was\",\"and the staff\",\"very helpful and\"],\"y\":[33448,25670,21417,16433,16407,14753,13915,12879,12491,11577,11491,10074,10008,9481,8717,8492,8399,8137,6949,6736],\"type\":\"bar\"}],                        {\"legend\":{\"bgcolor\":\"#F5F6F9\",\"font\":{\"color\":\"#4D5663\"}},\"paper_bgcolor\":\"#F5F6F9\",\"plot_bgcolor\":\"#F5F6F9\",\"template\":{\"data\":{\"barpolar\":[{\"marker\":{\"line\":{\"color\":\"#E5ECF6\",\"width\":0.5},\"pattern\":{\"fillmode\":\"overlay\",\"size\":10,\"solidity\":0.2}},\"type\":\"barpolar\"}],\"bar\":[{\"error_x\":{\"color\":\"#2a3f5f\"},\"error_y\":{\"color\":\"#2a3f5f\"},\"marker\":{\"line\":{\"color\":\"#E5ECF6\",\"width\":0.5},\"pattern\":{\"fillmode\":\"overlay\",\"size\":10,\"solidity\":0.2}},\"type\":\"bar\"}],\"carpet\":[{\"aaxis\":{\"endlinecolor\":\"#2a3f5f\",\"gridcolor\":\"white\",\"linecolor\":\"white\",\"minorgridcolor\":\"white\",\"startlinecolor\":\"#2a3f5f\"},\"baxis\":{\"endlinecolor\":\"#2a3f5f\",\"gridcolor\":\"white\",\"linecolor\":\"white\",\"minorgridcolor\":\"white\",\"startlinecolor\":\"#2a3f5f\"},\"type\":\"carpet\"}],\"choropleth\":[{\"colorbar\":{\"outlinewidth\":0,\"ticks\":\"\"},\"type\":\"choropleth\"}],\"contourcarpet\":[{\"colorbar\":{\"outlinewidth\":0,\"ticks\":\"\"},\"type\":\"contourcarpet\"}],\"contour\":[{\"colorbar\":{\"outlinewidth\":0,\"ticks\":\"\"},\"colorscale\":[[0.0,\"#0d0887\"],[0.1111111111111111,\"#46039f\"],[0.2222222222222222,\"#7201a8\"],[0.3333333333333333,\"#9c179e\"],[0.4444444444444444,\"#bd3786\"],[0.5555555555555556,\"#d8576b\"],[0.6666666666666666,\"#ed7953\"],[0.7777777777777778,\"#fb9f3a\"],[0.8888888888888888,\"#fdca26\"],[1.0,\"#f0f921\"]],\"type\":\"contour\"}],\"heatmapgl\":[{\"colorbar\":{\"outlinewidth\":0,\"ticks\":\"\"},\"colorscale\":[[0.0,\"#0d0887\"],[0.1111111111111111,\"#46039f\"],[0.2222222222222222,\"#7201a8\"],[0.3333333333333333,\"#9c179e\"],[0.4444444444444444,\"#bd3786\"],[0.5555555555555556,\"#d8576b\"],[0.6666666666666666,\"#ed7953\"],[0.7777777777777778,\"#fb9f3a\"],[0.8888888888888888,\"#fdca26\"],[1.0,\"#f0f921\"]],\"type\":\"heatmapgl\"}],\"heatmap\":[{\"colorbar\":{\"outlinewidth\":0,\"ticks\":\"\"},\"colorscale\":[[0.0,\"#0d0887\"],[0.1111111111111111,\"#46039f\"],[0.2222222222222222,\"#7201a8\"],[0.3333333333333333,\"#9c179e\"],[0.4444444444444444,\"#bd3786\"],[0.5555555555555556,\"#d8576b\"],[0.6666666666666666,\"#ed7953\"],[0.7777777777777778,\"#fb9f3a\"],[0.8888888888888888,\"#fdca26\"],[1.0,\"#f0f921\"]],\"type\":\"heatmap\"}],\"histogram2dcontour\":[{\"colorbar\":{\"outlinewidth\":0,\"ticks\":\"\"},\"colorscale\":[[0.0,\"#0d0887\"],[0.1111111111111111,\"#46039f\"],[0.2222222222222222,\"#7201a8\"],[0.3333333333333333,\"#9c179e\"],[0.4444444444444444,\"#bd3786\"],[0.5555555555555556,\"#d8576b\"],[0.6666666666666666,\"#ed7953\"],[0.7777777777777778,\"#fb9f3a\"],[0.8888888888888888,\"#fdca26\"],[1.0,\"#f0f921\"]],\"type\":\"histogram2dcontour\"}],\"histogram2d\":[{\"colorbar\":{\"outlinewidth\":0,\"ticks\":\"\"},\"colorscale\":[[0.0,\"#0d0887\"],[0.1111111111111111,\"#46039f\"],[0.2222222222222222,\"#7201a8\"],[0.3333333333333333,\"#9c179e\"],[0.4444444444444444,\"#bd3786\"],[0.5555555555555556,\"#d8576b\"],[0.6666666666666666,\"#ed7953\"],[0.7777777777777778,\"#fb9f3a\"],[0.8888888888888888,\"#fdca26\"],[1.0,\"#f0f921\"]],\"type\":\"histogram2d\"}],\"histogram\":[{\"marker\":{\"pattern\":{\"fillmode\":\"overlay\",\"size\":10,\"solidity\":0.2}},\"type\":\"histogram\"}],\"mesh3d\":[{\"colorbar\":{\"outlinewidth\":0,\"ticks\":\"\"},\"type\":\"mesh3d\"}],\"parcoords\":[{\"line\":{\"colorbar\":{\"outlinewidth\":0,\"ticks\":\"\"}},\"type\":\"parcoords\"}],\"pie\":[{\"automargin\":true,\"type\":\"pie\"}],\"scatter3d\":[{\"line\":{\"colorbar\":{\"outlinewidth\":0,\"ticks\":\"\"}},\"marker\":{\"colorbar\":{\"outlinewidth\":0,\"ticks\":\"\"}},\"type\":\"scatter3d\"}],\"scattercarpet\":[{\"marker\":{\"colorbar\":{\"outlinewidth\":0,\"ticks\":\"\"}},\"type\":\"scattercarpet\"}],\"scattergeo\":[{\"marker\":{\"colorbar\":{\"outlinewidth\":0,\"ticks\":\"\"}},\"type\":\"scattergeo\"}],\"scattergl\":[{\"marker\":{\"colorbar\":{\"outlinewidth\":0,\"ticks\":\"\"}},\"type\":\"scattergl\"}],\"scattermapbox\":[{\"marker\":{\"colorbar\":{\"outlinewidth\":0,\"ticks\":\"\"}},\"type\":\"scattermapbox\"}],\"scatterpolargl\":[{\"marker\":{\"colorbar\":{\"outlinewidth\":0,\"ticks\":\"\"}},\"type\":\"scatterpolargl\"}],\"scatterpolar\":[{\"marker\":{\"colorbar\":{\"outlinewidth\":0,\"ticks\":\"\"}},\"type\":\"scatterpolar\"}],\"scatter\":[{\"fillpattern\":{\"fillmode\":\"overlay\",\"size\":10,\"solidity\":0.2},\"type\":\"scatter\"}],\"scatterternary\":[{\"marker\":{\"colorbar\":{\"outlinewidth\":0,\"ticks\":\"\"}},\"type\":\"scatterternary\"}],\"surface\":[{\"colorbar\":{\"outlinewidth\":0,\"ticks\":\"\"},\"colorscale\":[[0.0,\"#0d0887\"],[0.1111111111111111,\"#46039f\"],[0.2222222222222222,\"#7201a8\"],[0.3333333333333333,\"#9c179e\"],[0.4444444444444444,\"#bd3786\"],[0.5555555555555556,\"#d8576b\"],[0.6666666666666666,\"#ed7953\"],[0.7777777777777778,\"#fb9f3a\"],[0.8888888888888888,\"#fdca26\"],[1.0,\"#f0f921\"]],\"type\":\"surface\"}],\"table\":[{\"cells\":{\"fill\":{\"color\":\"#EBF0F8\"},\"line\":{\"color\":\"white\"}},\"header\":{\"fill\":{\"color\":\"#C8D4E3\"},\"line\":{\"color\":\"white\"}},\"type\":\"table\"}]},\"layout\":{\"annotationdefaults\":{\"arrowcolor\":\"#2a3f5f\",\"arrowhead\":0,\"arrowwidth\":1},\"autotypenumbers\":\"strict\",\"coloraxis\":{\"colorbar\":{\"outlinewidth\":0,\"ticks\":\"\"}},\"colorscale\":{\"diverging\":[[0,\"#8e0152\"],[0.1,\"#c51b7d\"],[0.2,\"#de77ae\"],[0.3,\"#f1b6da\"],[0.4,\"#fde0ef\"],[0.5,\"#f7f7f7\"],[0.6,\"#e6f5d0\"],[0.7,\"#b8e186\"],[0.8,\"#7fbc41\"],[0.9,\"#4d9221\"],[1,\"#276419\"]],\"sequential\":[[0.0,\"#0d0887\"],[0.1111111111111111,\"#46039f\"],[0.2222222222222222,\"#7201a8\"],[0.3333333333333333,\"#9c179e\"],[0.4444444444444444,\"#bd3786\"],[0.5555555555555556,\"#d8576b\"],[0.6666666666666666,\"#ed7953\"],[0.7777777777777778,\"#fb9f3a\"],[0.8888888888888888,\"#fdca26\"],[1.0,\"#f0f921\"]],\"sequentialminus\":[[0.0,\"#0d0887\"],[0.1111111111111111,\"#46039f\"],[0.2222222222222222,\"#7201a8\"],[0.3333333333333333,\"#9c179e\"],[0.4444444444444444,\"#bd3786\"],[0.5555555555555556,\"#d8576b\"],[0.6666666666666666,\"#ed7953\"],[0.7777777777777778,\"#fb9f3a\"],[0.8888888888888888,\"#fdca26\"],[1.0,\"#f0f921\"]]},\"colorway\":[\"#636efa\",\"#EF553B\",\"#00cc96\",\"#ab63fa\",\"#FFA15A\",\"#19d3f3\",\"#FF6692\",\"#B6E880\",\"#FF97FF\",\"#FECB52\"],\"font\":{\"color\":\"#2a3f5f\"},\"geo\":{\"bgcolor\":\"white\",\"lakecolor\":\"white\",\"landcolor\":\"#E5ECF6\",\"showlakes\":true,\"showland\":true,\"subunitcolor\":\"white\"},\"hoverlabel\":{\"align\":\"left\"},\"hovermode\":\"closest\",\"mapbox\":{\"style\":\"light\"},\"paper_bgcolor\":\"white\",\"plot_bgcolor\":\"#E5ECF6\",\"polar\":{\"angularaxis\":{\"gridcolor\":\"white\",\"linecolor\":\"white\",\"ticks\":\"\"},\"bgcolor\":\"#E5ECF6\",\"radialaxis\":{\"gridcolor\":\"white\",\"linecolor\":\"white\",\"ticks\":\"\"}},\"scene\":{\"xaxis\":{\"backgroundcolor\":\"#E5ECF6\",\"gridcolor\":\"white\",\"gridwidth\":2,\"linecolor\":\"white\",\"showbackground\":true,\"ticks\":\"\",\"zerolinecolor\":\"white\"},\"yaxis\":{\"backgroundcolor\":\"#E5ECF6\",\"gridcolor\":\"white\",\"gridwidth\":2,\"linecolor\":\"white\",\"showbackground\":true,\"ticks\":\"\",\"zerolinecolor\":\"white\"},\"zaxis\":{\"backgroundcolor\":\"#E5ECF6\",\"gridcolor\":\"white\",\"gridwidth\":2,\"linecolor\":\"white\",\"showbackground\":true,\"ticks\":\"\",\"zerolinecolor\":\"white\"}},\"shapedefaults\":{\"line\":{\"color\":\"#2a3f5f\"}},\"ternary\":{\"aaxis\":{\"gridcolor\":\"white\",\"linecolor\":\"white\",\"ticks\":\"\"},\"baxis\":{\"gridcolor\":\"white\",\"linecolor\":\"white\",\"ticks\":\"\"},\"bgcolor\":\"#E5ECF6\",\"caxis\":{\"gridcolor\":\"white\",\"linecolor\":\"white\",\"ticks\":\"\"}},\"title\":{\"x\":0.05},\"xaxis\":{\"automargin\":true,\"gridcolor\":\"white\",\"linecolor\":\"white\",\"ticks\":\"\",\"title\":{\"standoff\":15},\"zerolinecolor\":\"white\",\"zerolinewidth\":2},\"yaxis\":{\"automargin\":true,\"gridcolor\":\"white\",\"linecolor\":\"white\",\"ticks\":\"\",\"title\":{\"standoff\":15},\"zerolinecolor\":\"white\",\"zerolinewidth\":2}}},\"title\":{\"font\":{\"color\":\"#4D5663\"},\"text\":\"Top 20 trigrams in hotel description before removing stop words\"},\"xaxis\":{\"gridcolor\":\"#E1E5ED\",\"linecolor\":\"black\",\"showgrid\":true,\"tickfont\":{\"color\":\"#4D5663\"},\"title\":{\"font\":{\"color\":\"#4D5663\"},\"text\":\"\"},\"zerolinecolor\":\"#E1E5ED\"},\"yaxis\":{\"gridcolor\":\"#E1E5ED\",\"linecolor\":\"black\",\"showgrid\":true,\"tickfont\":{\"color\":\"#4D5663\"},\"title\":{\"font\":{\"color\":\"#4D5663\"},\"text\":\"Count\"},\"zerolinecolor\":\"#E1E5ED\"}},                        {\"showLink\": true, \"linkText\": \"Export to plot.ly\", \"plotlyServerURL\": \"https://plot.ly\", \"responsive\": true}                    ).then(function(){\n",
       "                            \n",
       "var gd = document.getElementById('96a0635e-e2bb-4761-842f-befa66aad3e6');\n",
       "var x = new MutationObserver(function (mutations, observer) {{\n",
       "        var display = window.getComputedStyle(gd).display;\n",
       "        if (!display || display === 'none') {{\n",
       "            console.log([gd, 'removed!']);\n",
       "            Plotly.purge(gd);\n",
       "            observer.disconnect();\n",
       "        }}\n",
       "}});\n",
       "\n",
       "// Listen for the removal of the full notebook cells\n",
       "var notebookContainer = gd.closest('#notebook-container');\n",
       "if (notebookContainer) {{\n",
       "    x.observe(notebookContainer, {childList: true});\n",
       "}}\n",
       "\n",
       "// Listen for the clearing of the current output cell\n",
       "var outputEl = gd.closest('.output');\n",
       "if (outputEl) {{\n",
       "    x.observe(outputEl, {childList: true});\n",
       "}}\n",
       "\n",
       "                        })                };                });            </script>        </div>"
      ]
     },
     "metadata": {},
     "output_type": "display_data"
    }
   ],
   "source": [
    "#tri-gram before stop words\n",
    "\n",
    "\n",
    "common_words = get_top_n_words(hotel_review['review_text'], 20,y=(3,3))\n",
    "df7 = pd.DataFrame(common_words, columns = ['review_text' , 'count'])\n",
    "df7.groupby('review_text').sum()['count'].sort_values(ascending=False).iplot(kind='bar', yTitle='Count', linecolor='black', title='Top 20 trigrams in hotel description before removing stop words')\n"
   ]
  },
  {
   "cell_type": "markdown",
   "metadata": {},
   "source": [
    "### With stopwords"
   ]
  },
  {
   "cell_type": "code",
   "execution_count": 18,
   "metadata": {},
   "outputs": [
    {
     "data": {
      "application/vnd.plotly.v1+json": {
       "config": {
        "linkText": "Export to plot.ly",
        "plotlyServerURL": "https://plot.ly",
        "showLink": true
       },
       "data": [
        {
         "marker": {
          "color": "rgba(255, 153, 51, 0.6)",
          "line": {
           "color": "rgba(255, 153, 51, 1.0)",
           "width": 1
          }
         },
         "name": "count",
         "orientation": "v",
         "text": "",
         "type": "bar",
         "x": [
          "staff friendly helpful",
          "friendly helpful staff",
          "location friendly staff",
          "staff helpful friendly",
          "staff great location",
          "good value money",
          "hotel great location",
          "friendly staff good",
          "staff good location",
          "friendly staff great",
          "helpful friendly staff",
          "staff extremely helpful",
          "location great location",
          "great location friendly",
          "hotel good location",
          "location great staff",
          "great location great",
          "location location location",
          "friendly staff location",
          "location staff friendly"
         ],
         "y": [
          10069,
          7272,
          4139,
          3362,
          3222,
          2935,
          2878,
          2125,
          2065,
          2030,
          2026,
          2000,
          1873,
          1757,
          1596,
          1546,
          1536,
          1512,
          1511,
          1468
         ]
        }
       ],
       "layout": {
        "legend": {
         "bgcolor": "#F5F6F9",
         "font": {
          "color": "#4D5663"
         }
        },
        "paper_bgcolor": "#F5F6F9",
        "plot_bgcolor": "#F5F6F9",
        "template": {
         "data": {
          "bar": [
           {
            "error_x": {
             "color": "#2a3f5f"
            },
            "error_y": {
             "color": "#2a3f5f"
            },
            "marker": {
             "line": {
              "color": "#E5ECF6",
              "width": 0.5
             },
             "pattern": {
              "fillmode": "overlay",
              "size": 10,
              "solidity": 0.2
             }
            },
            "type": "bar"
           }
          ],
          "barpolar": [
           {
            "marker": {
             "line": {
              "color": "#E5ECF6",
              "width": 0.5
             },
             "pattern": {
              "fillmode": "overlay",
              "size": 10,
              "solidity": 0.2
             }
            },
            "type": "barpolar"
           }
          ],
          "carpet": [
           {
            "aaxis": {
             "endlinecolor": "#2a3f5f",
             "gridcolor": "white",
             "linecolor": "white",
             "minorgridcolor": "white",
             "startlinecolor": "#2a3f5f"
            },
            "baxis": {
             "endlinecolor": "#2a3f5f",
             "gridcolor": "white",
             "linecolor": "white",
             "minorgridcolor": "white",
             "startlinecolor": "#2a3f5f"
            },
            "type": "carpet"
           }
          ],
          "choropleth": [
           {
            "colorbar": {
             "outlinewidth": 0,
             "ticks": ""
            },
            "type": "choropleth"
           }
          ],
          "contour": [
           {
            "colorbar": {
             "outlinewidth": 0,
             "ticks": ""
            },
            "colorscale": [
             [
              0,
              "#0d0887"
             ],
             [
              0.1111111111111111,
              "#46039f"
             ],
             [
              0.2222222222222222,
              "#7201a8"
             ],
             [
              0.3333333333333333,
              "#9c179e"
             ],
             [
              0.4444444444444444,
              "#bd3786"
             ],
             [
              0.5555555555555556,
              "#d8576b"
             ],
             [
              0.6666666666666666,
              "#ed7953"
             ],
             [
              0.7777777777777778,
              "#fb9f3a"
             ],
             [
              0.8888888888888888,
              "#fdca26"
             ],
             [
              1,
              "#f0f921"
             ]
            ],
            "type": "contour"
           }
          ],
          "contourcarpet": [
           {
            "colorbar": {
             "outlinewidth": 0,
             "ticks": ""
            },
            "type": "contourcarpet"
           }
          ],
          "heatmap": [
           {
            "colorbar": {
             "outlinewidth": 0,
             "ticks": ""
            },
            "colorscale": [
             [
              0,
              "#0d0887"
             ],
             [
              0.1111111111111111,
              "#46039f"
             ],
             [
              0.2222222222222222,
              "#7201a8"
             ],
             [
              0.3333333333333333,
              "#9c179e"
             ],
             [
              0.4444444444444444,
              "#bd3786"
             ],
             [
              0.5555555555555556,
              "#d8576b"
             ],
             [
              0.6666666666666666,
              "#ed7953"
             ],
             [
              0.7777777777777778,
              "#fb9f3a"
             ],
             [
              0.8888888888888888,
              "#fdca26"
             ],
             [
              1,
              "#f0f921"
             ]
            ],
            "type": "heatmap"
           }
          ],
          "heatmapgl": [
           {
            "colorbar": {
             "outlinewidth": 0,
             "ticks": ""
            },
            "colorscale": [
             [
              0,
              "#0d0887"
             ],
             [
              0.1111111111111111,
              "#46039f"
             ],
             [
              0.2222222222222222,
              "#7201a8"
             ],
             [
              0.3333333333333333,
              "#9c179e"
             ],
             [
              0.4444444444444444,
              "#bd3786"
             ],
             [
              0.5555555555555556,
              "#d8576b"
             ],
             [
              0.6666666666666666,
              "#ed7953"
             ],
             [
              0.7777777777777778,
              "#fb9f3a"
             ],
             [
              0.8888888888888888,
              "#fdca26"
             ],
             [
              1,
              "#f0f921"
             ]
            ],
            "type": "heatmapgl"
           }
          ],
          "histogram": [
           {
            "marker": {
             "pattern": {
              "fillmode": "overlay",
              "size": 10,
              "solidity": 0.2
             }
            },
            "type": "histogram"
           }
          ],
          "histogram2d": [
           {
            "colorbar": {
             "outlinewidth": 0,
             "ticks": ""
            },
            "colorscale": [
             [
              0,
              "#0d0887"
             ],
             [
              0.1111111111111111,
              "#46039f"
             ],
             [
              0.2222222222222222,
              "#7201a8"
             ],
             [
              0.3333333333333333,
              "#9c179e"
             ],
             [
              0.4444444444444444,
              "#bd3786"
             ],
             [
              0.5555555555555556,
              "#d8576b"
             ],
             [
              0.6666666666666666,
              "#ed7953"
             ],
             [
              0.7777777777777778,
              "#fb9f3a"
             ],
             [
              0.8888888888888888,
              "#fdca26"
             ],
             [
              1,
              "#f0f921"
             ]
            ],
            "type": "histogram2d"
           }
          ],
          "histogram2dcontour": [
           {
            "colorbar": {
             "outlinewidth": 0,
             "ticks": ""
            },
            "colorscale": [
             [
              0,
              "#0d0887"
             ],
             [
              0.1111111111111111,
              "#46039f"
             ],
             [
              0.2222222222222222,
              "#7201a8"
             ],
             [
              0.3333333333333333,
              "#9c179e"
             ],
             [
              0.4444444444444444,
              "#bd3786"
             ],
             [
              0.5555555555555556,
              "#d8576b"
             ],
             [
              0.6666666666666666,
              "#ed7953"
             ],
             [
              0.7777777777777778,
              "#fb9f3a"
             ],
             [
              0.8888888888888888,
              "#fdca26"
             ],
             [
              1,
              "#f0f921"
             ]
            ],
            "type": "histogram2dcontour"
           }
          ],
          "mesh3d": [
           {
            "colorbar": {
             "outlinewidth": 0,
             "ticks": ""
            },
            "type": "mesh3d"
           }
          ],
          "parcoords": [
           {
            "line": {
             "colorbar": {
              "outlinewidth": 0,
              "ticks": ""
             }
            },
            "type": "parcoords"
           }
          ],
          "pie": [
           {
            "automargin": true,
            "type": "pie"
           }
          ],
          "scatter": [
           {
            "fillpattern": {
             "fillmode": "overlay",
             "size": 10,
             "solidity": 0.2
            },
            "type": "scatter"
           }
          ],
          "scatter3d": [
           {
            "line": {
             "colorbar": {
              "outlinewidth": 0,
              "ticks": ""
             }
            },
            "marker": {
             "colorbar": {
              "outlinewidth": 0,
              "ticks": ""
             }
            },
            "type": "scatter3d"
           }
          ],
          "scattercarpet": [
           {
            "marker": {
             "colorbar": {
              "outlinewidth": 0,
              "ticks": ""
             }
            },
            "type": "scattercarpet"
           }
          ],
          "scattergeo": [
           {
            "marker": {
             "colorbar": {
              "outlinewidth": 0,
              "ticks": ""
             }
            },
            "type": "scattergeo"
           }
          ],
          "scattergl": [
           {
            "marker": {
             "colorbar": {
              "outlinewidth": 0,
              "ticks": ""
             }
            },
            "type": "scattergl"
           }
          ],
          "scattermapbox": [
           {
            "marker": {
             "colorbar": {
              "outlinewidth": 0,
              "ticks": ""
             }
            },
            "type": "scattermapbox"
           }
          ],
          "scatterpolar": [
           {
            "marker": {
             "colorbar": {
              "outlinewidth": 0,
              "ticks": ""
             }
            },
            "type": "scatterpolar"
           }
          ],
          "scatterpolargl": [
           {
            "marker": {
             "colorbar": {
              "outlinewidth": 0,
              "ticks": ""
             }
            },
            "type": "scatterpolargl"
           }
          ],
          "scatterternary": [
           {
            "marker": {
             "colorbar": {
              "outlinewidth": 0,
              "ticks": ""
             }
            },
            "type": "scatterternary"
           }
          ],
          "surface": [
           {
            "colorbar": {
             "outlinewidth": 0,
             "ticks": ""
            },
            "colorscale": [
             [
              0,
              "#0d0887"
             ],
             [
              0.1111111111111111,
              "#46039f"
             ],
             [
              0.2222222222222222,
              "#7201a8"
             ],
             [
              0.3333333333333333,
              "#9c179e"
             ],
             [
              0.4444444444444444,
              "#bd3786"
             ],
             [
              0.5555555555555556,
              "#d8576b"
             ],
             [
              0.6666666666666666,
              "#ed7953"
             ],
             [
              0.7777777777777778,
              "#fb9f3a"
             ],
             [
              0.8888888888888888,
              "#fdca26"
             ],
             [
              1,
              "#f0f921"
             ]
            ],
            "type": "surface"
           }
          ],
          "table": [
           {
            "cells": {
             "fill": {
              "color": "#EBF0F8"
             },
             "line": {
              "color": "white"
             }
            },
            "header": {
             "fill": {
              "color": "#C8D4E3"
             },
             "line": {
              "color": "white"
             }
            },
            "type": "table"
           }
          ]
         },
         "layout": {
          "annotationdefaults": {
           "arrowcolor": "#2a3f5f",
           "arrowhead": 0,
           "arrowwidth": 1
          },
          "autotypenumbers": "strict",
          "coloraxis": {
           "colorbar": {
            "outlinewidth": 0,
            "ticks": ""
           }
          },
          "colorscale": {
           "diverging": [
            [
             0,
             "#8e0152"
            ],
            [
             0.1,
             "#c51b7d"
            ],
            [
             0.2,
             "#de77ae"
            ],
            [
             0.3,
             "#f1b6da"
            ],
            [
             0.4,
             "#fde0ef"
            ],
            [
             0.5,
             "#f7f7f7"
            ],
            [
             0.6,
             "#e6f5d0"
            ],
            [
             0.7,
             "#b8e186"
            ],
            [
             0.8,
             "#7fbc41"
            ],
            [
             0.9,
             "#4d9221"
            ],
            [
             1,
             "#276419"
            ]
           ],
           "sequential": [
            [
             0,
             "#0d0887"
            ],
            [
             0.1111111111111111,
             "#46039f"
            ],
            [
             0.2222222222222222,
             "#7201a8"
            ],
            [
             0.3333333333333333,
             "#9c179e"
            ],
            [
             0.4444444444444444,
             "#bd3786"
            ],
            [
             0.5555555555555556,
             "#d8576b"
            ],
            [
             0.6666666666666666,
             "#ed7953"
            ],
            [
             0.7777777777777778,
             "#fb9f3a"
            ],
            [
             0.8888888888888888,
             "#fdca26"
            ],
            [
             1,
             "#f0f921"
            ]
           ],
           "sequentialminus": [
            [
             0,
             "#0d0887"
            ],
            [
             0.1111111111111111,
             "#46039f"
            ],
            [
             0.2222222222222222,
             "#7201a8"
            ],
            [
             0.3333333333333333,
             "#9c179e"
            ],
            [
             0.4444444444444444,
             "#bd3786"
            ],
            [
             0.5555555555555556,
             "#d8576b"
            ],
            [
             0.6666666666666666,
             "#ed7953"
            ],
            [
             0.7777777777777778,
             "#fb9f3a"
            ],
            [
             0.8888888888888888,
             "#fdca26"
            ],
            [
             1,
             "#f0f921"
            ]
           ]
          },
          "colorway": [
           "#636efa",
           "#EF553B",
           "#00cc96",
           "#ab63fa",
           "#FFA15A",
           "#19d3f3",
           "#FF6692",
           "#B6E880",
           "#FF97FF",
           "#FECB52"
          ],
          "font": {
           "color": "#2a3f5f"
          },
          "geo": {
           "bgcolor": "white",
           "lakecolor": "white",
           "landcolor": "#E5ECF6",
           "showlakes": true,
           "showland": true,
           "subunitcolor": "white"
          },
          "hoverlabel": {
           "align": "left"
          },
          "hovermode": "closest",
          "mapbox": {
           "style": "light"
          },
          "paper_bgcolor": "white",
          "plot_bgcolor": "#E5ECF6",
          "polar": {
           "angularaxis": {
            "gridcolor": "white",
            "linecolor": "white",
            "ticks": ""
           },
           "bgcolor": "#E5ECF6",
           "radialaxis": {
            "gridcolor": "white",
            "linecolor": "white",
            "ticks": ""
           }
          },
          "scene": {
           "xaxis": {
            "backgroundcolor": "#E5ECF6",
            "gridcolor": "white",
            "gridwidth": 2,
            "linecolor": "white",
            "showbackground": true,
            "ticks": "",
            "zerolinecolor": "white"
           },
           "yaxis": {
            "backgroundcolor": "#E5ECF6",
            "gridcolor": "white",
            "gridwidth": 2,
            "linecolor": "white",
            "showbackground": true,
            "ticks": "",
            "zerolinecolor": "white"
           },
           "zaxis": {
            "backgroundcolor": "#E5ECF6",
            "gridcolor": "white",
            "gridwidth": 2,
            "linecolor": "white",
            "showbackground": true,
            "ticks": "",
            "zerolinecolor": "white"
           }
          },
          "shapedefaults": {
           "line": {
            "color": "#2a3f5f"
           }
          },
          "ternary": {
           "aaxis": {
            "gridcolor": "white",
            "linecolor": "white",
            "ticks": ""
           },
           "baxis": {
            "gridcolor": "white",
            "linecolor": "white",
            "ticks": ""
           },
           "bgcolor": "#E5ECF6",
           "caxis": {
            "gridcolor": "white",
            "linecolor": "white",
            "ticks": ""
           }
          },
          "title": {
           "x": 0.05
          },
          "xaxis": {
           "automargin": true,
           "gridcolor": "white",
           "linecolor": "white",
           "ticks": "",
           "title": {
            "standoff": 15
           },
           "zerolinecolor": "white",
           "zerolinewidth": 2
          },
          "yaxis": {
           "automargin": true,
           "gridcolor": "white",
           "linecolor": "white",
           "ticks": "",
           "title": {
            "standoff": 15
           },
           "zerolinecolor": "white",
           "zerolinewidth": 2
          }
         }
        },
        "title": {
         "font": {
          "color": "#4D5663"
         },
         "text": "Top 20 trigrams in hotel description after removing stop words"
        },
        "xaxis": {
         "gridcolor": "#E1E5ED",
         "linecolor": "black",
         "showgrid": true,
         "tickfont": {
          "color": "#4D5663"
         },
         "title": {
          "font": {
           "color": "#4D5663"
          },
          "text": ""
         },
         "zerolinecolor": "#E1E5ED"
        },
        "yaxis": {
         "gridcolor": "#E1E5ED",
         "linecolor": "black",
         "showgrid": true,
         "tickfont": {
          "color": "#4D5663"
         },
         "title": {
          "font": {
           "color": "#4D5663"
          },
          "text": "Count"
         },
         "zerolinecolor": "#E1E5ED"
        }
       }
      },
      "text/html": [
       "<div>                            <div id=\"c0fd3c03-89c8-4a2d-aa72-8618b9a2f243\" class=\"plotly-graph-div\" style=\"height:525px; width:100%;\"></div>            <script type=\"text/javascript\">                require([\"plotly\"], function(Plotly) {                    window.PLOTLYENV=window.PLOTLYENV || {};\n",
       "                    window.PLOTLYENV.BASE_URL='https://plot.ly';                                    if (document.getElementById(\"c0fd3c03-89c8-4a2d-aa72-8618b9a2f243\")) {                    Plotly.newPlot(                        \"c0fd3c03-89c8-4a2d-aa72-8618b9a2f243\",                        [{\"marker\":{\"color\":\"rgba(255, 153, 51, 0.6)\",\"line\":{\"color\":\"rgba(255, 153, 51, 1.0)\",\"width\":1}},\"name\":\"count\",\"orientation\":\"v\",\"text\":\"\",\"x\":[\"staff friendly helpful\",\"friendly helpful staff\",\"location friendly staff\",\"staff helpful friendly\",\"staff great location\",\"good value money\",\"hotel great location\",\"friendly staff good\",\"staff good location\",\"friendly staff great\",\"helpful friendly staff\",\"staff extremely helpful\",\"location great location\",\"great location friendly\",\"hotel good location\",\"location great staff\",\"great location great\",\"location location location\",\"friendly staff location\",\"location staff friendly\"],\"y\":[10069,7272,4139,3362,3222,2935,2878,2125,2065,2030,2026,2000,1873,1757,1596,1546,1536,1512,1511,1468],\"type\":\"bar\"}],                        {\"legend\":{\"bgcolor\":\"#F5F6F9\",\"font\":{\"color\":\"#4D5663\"}},\"paper_bgcolor\":\"#F5F6F9\",\"plot_bgcolor\":\"#F5F6F9\",\"template\":{\"data\":{\"barpolar\":[{\"marker\":{\"line\":{\"color\":\"#E5ECF6\",\"width\":0.5},\"pattern\":{\"fillmode\":\"overlay\",\"size\":10,\"solidity\":0.2}},\"type\":\"barpolar\"}],\"bar\":[{\"error_x\":{\"color\":\"#2a3f5f\"},\"error_y\":{\"color\":\"#2a3f5f\"},\"marker\":{\"line\":{\"color\":\"#E5ECF6\",\"width\":0.5},\"pattern\":{\"fillmode\":\"overlay\",\"size\":10,\"solidity\":0.2}},\"type\":\"bar\"}],\"carpet\":[{\"aaxis\":{\"endlinecolor\":\"#2a3f5f\",\"gridcolor\":\"white\",\"linecolor\":\"white\",\"minorgridcolor\":\"white\",\"startlinecolor\":\"#2a3f5f\"},\"baxis\":{\"endlinecolor\":\"#2a3f5f\",\"gridcolor\":\"white\",\"linecolor\":\"white\",\"minorgridcolor\":\"white\",\"startlinecolor\":\"#2a3f5f\"},\"type\":\"carpet\"}],\"choropleth\":[{\"colorbar\":{\"outlinewidth\":0,\"ticks\":\"\"},\"type\":\"choropleth\"}],\"contourcarpet\":[{\"colorbar\":{\"outlinewidth\":0,\"ticks\":\"\"},\"type\":\"contourcarpet\"}],\"contour\":[{\"colorbar\":{\"outlinewidth\":0,\"ticks\":\"\"},\"colorscale\":[[0.0,\"#0d0887\"],[0.1111111111111111,\"#46039f\"],[0.2222222222222222,\"#7201a8\"],[0.3333333333333333,\"#9c179e\"],[0.4444444444444444,\"#bd3786\"],[0.5555555555555556,\"#d8576b\"],[0.6666666666666666,\"#ed7953\"],[0.7777777777777778,\"#fb9f3a\"],[0.8888888888888888,\"#fdca26\"],[1.0,\"#f0f921\"]],\"type\":\"contour\"}],\"heatmapgl\":[{\"colorbar\":{\"outlinewidth\":0,\"ticks\":\"\"},\"colorscale\":[[0.0,\"#0d0887\"],[0.1111111111111111,\"#46039f\"],[0.2222222222222222,\"#7201a8\"],[0.3333333333333333,\"#9c179e\"],[0.4444444444444444,\"#bd3786\"],[0.5555555555555556,\"#d8576b\"],[0.6666666666666666,\"#ed7953\"],[0.7777777777777778,\"#fb9f3a\"],[0.8888888888888888,\"#fdca26\"],[1.0,\"#f0f921\"]],\"type\":\"heatmapgl\"}],\"heatmap\":[{\"colorbar\":{\"outlinewidth\":0,\"ticks\":\"\"},\"colorscale\":[[0.0,\"#0d0887\"],[0.1111111111111111,\"#46039f\"],[0.2222222222222222,\"#7201a8\"],[0.3333333333333333,\"#9c179e\"],[0.4444444444444444,\"#bd3786\"],[0.5555555555555556,\"#d8576b\"],[0.6666666666666666,\"#ed7953\"],[0.7777777777777778,\"#fb9f3a\"],[0.8888888888888888,\"#fdca26\"],[1.0,\"#f0f921\"]],\"type\":\"heatmap\"}],\"histogram2dcontour\":[{\"colorbar\":{\"outlinewidth\":0,\"ticks\":\"\"},\"colorscale\":[[0.0,\"#0d0887\"],[0.1111111111111111,\"#46039f\"],[0.2222222222222222,\"#7201a8\"],[0.3333333333333333,\"#9c179e\"],[0.4444444444444444,\"#bd3786\"],[0.5555555555555556,\"#d8576b\"],[0.6666666666666666,\"#ed7953\"],[0.7777777777777778,\"#fb9f3a\"],[0.8888888888888888,\"#fdca26\"],[1.0,\"#f0f921\"]],\"type\":\"histogram2dcontour\"}],\"histogram2d\":[{\"colorbar\":{\"outlinewidth\":0,\"ticks\":\"\"},\"colorscale\":[[0.0,\"#0d0887\"],[0.1111111111111111,\"#46039f\"],[0.2222222222222222,\"#7201a8\"],[0.3333333333333333,\"#9c179e\"],[0.4444444444444444,\"#bd3786\"],[0.5555555555555556,\"#d8576b\"],[0.6666666666666666,\"#ed7953\"],[0.7777777777777778,\"#fb9f3a\"],[0.8888888888888888,\"#fdca26\"],[1.0,\"#f0f921\"]],\"type\":\"histogram2d\"}],\"histogram\":[{\"marker\":{\"pattern\":{\"fillmode\":\"overlay\",\"size\":10,\"solidity\":0.2}},\"type\":\"histogram\"}],\"mesh3d\":[{\"colorbar\":{\"outlinewidth\":0,\"ticks\":\"\"},\"type\":\"mesh3d\"}],\"parcoords\":[{\"line\":{\"colorbar\":{\"outlinewidth\":0,\"ticks\":\"\"}},\"type\":\"parcoords\"}],\"pie\":[{\"automargin\":true,\"type\":\"pie\"}],\"scatter3d\":[{\"line\":{\"colorbar\":{\"outlinewidth\":0,\"ticks\":\"\"}},\"marker\":{\"colorbar\":{\"outlinewidth\":0,\"ticks\":\"\"}},\"type\":\"scatter3d\"}],\"scattercarpet\":[{\"marker\":{\"colorbar\":{\"outlinewidth\":0,\"ticks\":\"\"}},\"type\":\"scattercarpet\"}],\"scattergeo\":[{\"marker\":{\"colorbar\":{\"outlinewidth\":0,\"ticks\":\"\"}},\"type\":\"scattergeo\"}],\"scattergl\":[{\"marker\":{\"colorbar\":{\"outlinewidth\":0,\"ticks\":\"\"}},\"type\":\"scattergl\"}],\"scattermapbox\":[{\"marker\":{\"colorbar\":{\"outlinewidth\":0,\"ticks\":\"\"}},\"type\":\"scattermapbox\"}],\"scatterpolargl\":[{\"marker\":{\"colorbar\":{\"outlinewidth\":0,\"ticks\":\"\"}},\"type\":\"scatterpolargl\"}],\"scatterpolar\":[{\"marker\":{\"colorbar\":{\"outlinewidth\":0,\"ticks\":\"\"}},\"type\":\"scatterpolar\"}],\"scatter\":[{\"fillpattern\":{\"fillmode\":\"overlay\",\"size\":10,\"solidity\":0.2},\"type\":\"scatter\"}],\"scatterternary\":[{\"marker\":{\"colorbar\":{\"outlinewidth\":0,\"ticks\":\"\"}},\"type\":\"scatterternary\"}],\"surface\":[{\"colorbar\":{\"outlinewidth\":0,\"ticks\":\"\"},\"colorscale\":[[0.0,\"#0d0887\"],[0.1111111111111111,\"#46039f\"],[0.2222222222222222,\"#7201a8\"],[0.3333333333333333,\"#9c179e\"],[0.4444444444444444,\"#bd3786\"],[0.5555555555555556,\"#d8576b\"],[0.6666666666666666,\"#ed7953\"],[0.7777777777777778,\"#fb9f3a\"],[0.8888888888888888,\"#fdca26\"],[1.0,\"#f0f921\"]],\"type\":\"surface\"}],\"table\":[{\"cells\":{\"fill\":{\"color\":\"#EBF0F8\"},\"line\":{\"color\":\"white\"}},\"header\":{\"fill\":{\"color\":\"#C8D4E3\"},\"line\":{\"color\":\"white\"}},\"type\":\"table\"}]},\"layout\":{\"annotationdefaults\":{\"arrowcolor\":\"#2a3f5f\",\"arrowhead\":0,\"arrowwidth\":1},\"autotypenumbers\":\"strict\",\"coloraxis\":{\"colorbar\":{\"outlinewidth\":0,\"ticks\":\"\"}},\"colorscale\":{\"diverging\":[[0,\"#8e0152\"],[0.1,\"#c51b7d\"],[0.2,\"#de77ae\"],[0.3,\"#f1b6da\"],[0.4,\"#fde0ef\"],[0.5,\"#f7f7f7\"],[0.6,\"#e6f5d0\"],[0.7,\"#b8e186\"],[0.8,\"#7fbc41\"],[0.9,\"#4d9221\"],[1,\"#276419\"]],\"sequential\":[[0.0,\"#0d0887\"],[0.1111111111111111,\"#46039f\"],[0.2222222222222222,\"#7201a8\"],[0.3333333333333333,\"#9c179e\"],[0.4444444444444444,\"#bd3786\"],[0.5555555555555556,\"#d8576b\"],[0.6666666666666666,\"#ed7953\"],[0.7777777777777778,\"#fb9f3a\"],[0.8888888888888888,\"#fdca26\"],[1.0,\"#f0f921\"]],\"sequentialminus\":[[0.0,\"#0d0887\"],[0.1111111111111111,\"#46039f\"],[0.2222222222222222,\"#7201a8\"],[0.3333333333333333,\"#9c179e\"],[0.4444444444444444,\"#bd3786\"],[0.5555555555555556,\"#d8576b\"],[0.6666666666666666,\"#ed7953\"],[0.7777777777777778,\"#fb9f3a\"],[0.8888888888888888,\"#fdca26\"],[1.0,\"#f0f921\"]]},\"colorway\":[\"#636efa\",\"#EF553B\",\"#00cc96\",\"#ab63fa\",\"#FFA15A\",\"#19d3f3\",\"#FF6692\",\"#B6E880\",\"#FF97FF\",\"#FECB52\"],\"font\":{\"color\":\"#2a3f5f\"},\"geo\":{\"bgcolor\":\"white\",\"lakecolor\":\"white\",\"landcolor\":\"#E5ECF6\",\"showlakes\":true,\"showland\":true,\"subunitcolor\":\"white\"},\"hoverlabel\":{\"align\":\"left\"},\"hovermode\":\"closest\",\"mapbox\":{\"style\":\"light\"},\"paper_bgcolor\":\"white\",\"plot_bgcolor\":\"#E5ECF6\",\"polar\":{\"angularaxis\":{\"gridcolor\":\"white\",\"linecolor\":\"white\",\"ticks\":\"\"},\"bgcolor\":\"#E5ECF6\",\"radialaxis\":{\"gridcolor\":\"white\",\"linecolor\":\"white\",\"ticks\":\"\"}},\"scene\":{\"xaxis\":{\"backgroundcolor\":\"#E5ECF6\",\"gridcolor\":\"white\",\"gridwidth\":2,\"linecolor\":\"white\",\"showbackground\":true,\"ticks\":\"\",\"zerolinecolor\":\"white\"},\"yaxis\":{\"backgroundcolor\":\"#E5ECF6\",\"gridcolor\":\"white\",\"gridwidth\":2,\"linecolor\":\"white\",\"showbackground\":true,\"ticks\":\"\",\"zerolinecolor\":\"white\"},\"zaxis\":{\"backgroundcolor\":\"#E5ECF6\",\"gridcolor\":\"white\",\"gridwidth\":2,\"linecolor\":\"white\",\"showbackground\":true,\"ticks\":\"\",\"zerolinecolor\":\"white\"}},\"shapedefaults\":{\"line\":{\"color\":\"#2a3f5f\"}},\"ternary\":{\"aaxis\":{\"gridcolor\":\"white\",\"linecolor\":\"white\",\"ticks\":\"\"},\"baxis\":{\"gridcolor\":\"white\",\"linecolor\":\"white\",\"ticks\":\"\"},\"bgcolor\":\"#E5ECF6\",\"caxis\":{\"gridcolor\":\"white\",\"linecolor\":\"white\",\"ticks\":\"\"}},\"title\":{\"x\":0.05},\"xaxis\":{\"automargin\":true,\"gridcolor\":\"white\",\"linecolor\":\"white\",\"ticks\":\"\",\"title\":{\"standoff\":15},\"zerolinecolor\":\"white\",\"zerolinewidth\":2},\"yaxis\":{\"automargin\":true,\"gridcolor\":\"white\",\"linecolor\":\"white\",\"ticks\":\"\",\"title\":{\"standoff\":15},\"zerolinecolor\":\"white\",\"zerolinewidth\":2}}},\"title\":{\"font\":{\"color\":\"#4D5663\"},\"text\":\"Top 20 trigrams in hotel description after removing stop words\"},\"xaxis\":{\"gridcolor\":\"#E1E5ED\",\"linecolor\":\"black\",\"showgrid\":true,\"tickfont\":{\"color\":\"#4D5663\"},\"title\":{\"font\":{\"color\":\"#4D5663\"},\"text\":\"\"},\"zerolinecolor\":\"#E1E5ED\"},\"yaxis\":{\"gridcolor\":\"#E1E5ED\",\"linecolor\":\"black\",\"showgrid\":true,\"tickfont\":{\"color\":\"#4D5663\"},\"title\":{\"font\":{\"color\":\"#4D5663\"},\"text\":\"Count\"},\"zerolinecolor\":\"#E1E5ED\"}},                        {\"showLink\": true, \"linkText\": \"Export to plot.ly\", \"plotlyServerURL\": \"https://plot.ly\", \"responsive\": true}                    ).then(function(){\n",
       "                            \n",
       "var gd = document.getElementById('c0fd3c03-89c8-4a2d-aa72-8618b9a2f243');\n",
       "var x = new MutationObserver(function (mutations, observer) {{\n",
       "        var display = window.getComputedStyle(gd).display;\n",
       "        if (!display || display === 'none') {{\n",
       "            console.log([gd, 'removed!']);\n",
       "            Plotly.purge(gd);\n",
       "            observer.disconnect();\n",
       "        }}\n",
       "}});\n",
       "\n",
       "// Listen for the removal of the full notebook cells\n",
       "var notebookContainer = gd.closest('#notebook-container');\n",
       "if (notebookContainer) {{\n",
       "    x.observe(notebookContainer, {childList: true});\n",
       "}}\n",
       "\n",
       "// Listen for the clearing of the current output cell\n",
       "var outputEl = gd.closest('.output');\n",
       "if (outputEl) {{\n",
       "    x.observe(outputEl, {childList: true});\n",
       "}}\n",
       "\n",
       "                        })                };                });            </script>        </div>"
      ]
     },
     "metadata": {},
     "output_type": "display_data"
    }
   ],
   "source": [
    "\n",
    "common_words = get_top_n_words_with_stop_words(hotel_review['review_text'], 20,y=(3,3))\n",
    "df8 = pd.DataFrame(common_words, columns = ['review_text' , 'count'])\n",
    "df8.groupby('review_text').sum()['count'].sort_values(ascending=False).iplot(kind='bar', yTitle='Count', linecolor='black', title='Top 20 trigrams in hotel description after removing stop words')\n"
   ]
  },
  {
   "cell_type": "markdown",
   "metadata": {},
   "source": [
    "# Modelling"
   ]
  },
  {
   "cell_type": "markdown",
   "metadata": {},
   "source": [
    "Based on the visualisation, it is evident that bi-gram and tri-gram has more impact on the modelling process. Bi-gram and Tri-gram gives us more context of the reviews and it makes more sense for modelling recommender."
   ]
  },
  {
   "cell_type": "code",
   "execution_count": 19,
   "metadata": {},
   "outputs": [],
   "source": [
    "replace_space = re.compile('[/(){}\\[\\]\\|@,;]')\n",
    "symbol = re.compile('[^0-9a-z #+_]')\n",
    "stopwordset = stops_rev\n",
    "\n",
    "def clean_text(text):\n",
    "    # lowercase text\n",
    "    text = text.lower() \n",
    "    # replace replace_space symbols by space in text. substitute the matched string in replace_space with space.\n",
    "    text = replace_space.sub(' ', text) \n",
    "    # remove symbols which are in symbol from text. substitute the matched string in symbol with Nothing.\n",
    "    text = symbol.sub('', text)  \n",
    "    # remove stopwords from text\n",
    "    text = ' '.join(word for word in text.split() if word not in stopwordset) \n",
    "    return text\n",
    "    \n"
   ]
  },
  {
   "cell_type": "code",
   "execution_count": 32,
   "metadata": {},
   "outputs": [
    {
     "data": {
      "text/plain": [
       "' We were particularly impressed by the very warm welcome we received a lovely hotel in a superb location good size room with excellent bathroom We will come back and already have recommended it to friends and relatives ,  The atmosphere and staff were excellent just what you would expect from a small luxury hotel Breakfast and restaurant food delicious and reasonably priced ,  Bed was amazingly comfortable The building is Full of character and class The staff where excellent and most helpful I really enjoyed staying there and would stay again Didn t get the opportunity to enjoy the breakfast maybe another time ,  Lovely hotel,  Concierge service excellent Bed very comfortable and lux Lounges and bar very comfortable and elegantly furnished Location perfect ,  Customer service was above and beyond from all staff Richie Long is attentive and nothing was too much trouble in fact all the staff were amazing shout out to Richie Emerson and Christian,  Everything Most comfortable bed Extremely Clen Great Bathroom Staff beyond accommodating Very Posh Fantastic location close to everything Expensive but worth every penny Ordered room service Delicious food Oustanding overall ,  Egg white omelette for breakfast Concierge very helpful Different sitting areas Decor,  The bed was spacious and very comfy Loads of hangers in the wardrobe The staff were extremely polite and attentive Breakfast was a real treat This is a perfect hotel if you want a special treat ,  slightly older property but still very quaint staff were very attentive without being pushy perfect location for RHS Chelsea flower show also close to Hyde Park and if you desire the best designer shops, No,  The location so close to Sloane Square was excellent for us The bedroom was very comfortable and the staff most attentive and obliging The breakfast was also very good,  Staff friendly and professional,  the suite the location nearly all of the staff,  The omelet was superb The gym was small but the equipment and treadmill worked well Very service minded staff who recommended me some delicious Italian restaurants within walking distance of the hotel ,  So glad we chose 11 Cadogan Gardens for a very quick trip to London The staff were wonderful and nothing was ever too much trouble Very importantly our bed was a true king size and extremely comfortable The bathroom was a tad on the squeezy side but that is England We got used to it and found it charming The location is perfect walking distance to Sloane Square tube station and lots of fantastic restaurants nearby I really couldn t fault it and would highly recommend ,  Personal attention from all staff was exceptional Extremely well located for shopping and transport,  Nothing,  Location from which all the sights are walkable or easily approached via public transport or cheaply accessed via cab Excellent and luxurious amenities in room Professional and overwhelmingly friendly staff ,  Really good service A very nice accomodation,  The hotel staff were so friendly and helpful Nothing was too much trouble It was my little boys birthday and they went out of their way to spoil him The building was beautiful wish we could have stayed longer ,  Staff fantastic bed extremely comfy and sheets just gorgeous ,  Very good welcome and nice property The location is also perfect Will stay again if the price at the time of booking is right ,  Great location extremely comfortable room wonderful staff who couldn t do enough for you ,  I chose the hotel due this the location The coziness of the hotel and l personal service were very agreeable The room was small but confortable,  Pleasant staff We particularly like the location in this quiet backwater but still in the heart of things ,  Location is great Old place with history and charm , No,  The staff couldn t have been more helpful friendly and smiling The food was very good especially the fillet of beef which was melt in the mouth ,  The hotel is in a lovely 19th century red brick building in the up scale neighborhood near Cadogan Square on the edge of Knightsbridge The atmosphere is nice and the staff our outstanding The location is conveniently located for the underground and buses and Buckingham Palace is about a nice 20 minute walk from the hotel I was able to use a lovely hotel common area for a working brunch with a colleague with nice food at reasonable price,  The concierge Richie and the breakfast Manger were delightful and welcoming The location was perfect ,  Everything about this small luxury hotel meets and surpasses expectations staff very friendly and especially attentive to returning guests Room bed amenities very comfortable and top notch Food delicious Ambiance is romantic classic and modern all at the same time Can t wait to go back ,  Upgraded to a suite on arrival having not stayed before followed up with excellent standards throughout service was first rate definitely will be visiting again Having travelled repeatedly to London through work previously and never been a big fan the hotel has improved my outlook on the capital immensely great times We will certainly be returning ,  Bed is comfortable Breakfast is good Service is excellent from bar tender to concierge ,  Staff were fantastic room was generously sized gorgeous quiet and secluded location,  The bed was out of this world comfortable and the staff at the door were all fantastic Really tremendous service from those guys The hotel design in spectacular and will really amaze you everything is impeccably done up ,  Very comfortable room You might consider better lighter in the bathroom or a magnifying mirror that lights up Front staff was amazing ,  Jhony and the rest of the staff are really friendly They do not mind greeting you a 100 times per day 3,  Amazing staff homy atmosphere great location Complimentary high speed wifi Stayed at kings suite amd really liked it,  The room and location were absolutely brilliant And the staff went out of their way to be helpful Also I m a bit of a bathroom snob and I have to say it was pretty fantastic Small touches like umbrellas in the room turn down service with chocolate mint and the old cage elevator added to the charm ,  Very nice location nice room nice staff nice food Just a very welcoming and comfortable hotel Check in was lovely with red roses for my wife and some sweets on the room A rare treatment in times were many 5 hotels mostly value their profits rather than their guests We had a splendid stay ,  This boutique hotel is located in a very good location close to Knightsbridge and very close to Sloane square so in a walking distance to Harrods However it is hidden in a calm street so you are away from crowds and noise The interiors were comfy luxury and classy ,  We really appreciated the welcome and the very comfortable room The location is quiet and very pleasant and convenient We were jvery impressed with members of staff who were attentive and good their personal efforts we appreciate very much ,  Fantastic location in the heart of Chelsea but on the quietest street A small group of houses converted to a non stuffy 5 star hotel I was given a very large completely renovated room and think I scored a great price here Espresso maker in the room beautiful bath Spotless Thick towels turn down service quiet Great decor It was warm in London and the air conditioning was awesome cool quiet and didn t freeze you out Short walk to the tube Never used the common rooms or restaurant bar etc but they all looked cozy and high tea looked delicious from what I could tell Very friendly staff Will stay here again ,  From the second we stepped through the door to leaving 2 days later we felt nothing but pleasure staying here from the impeccable service to the interior of the building and the location It was a perfect 30th birthday trip ,  The bed was very comfortable Staff helpful friendly ,  Traveling with 2 kids was made especially easy by friendly and helpful staff Terrific food after sight seeing most of the day we ordered room service for dinner 3 nights in a row and were never disappointed Breakfast was also a real treat Great neighborhood All around a super experience ,  Attention to details staff were remarkable shout out to Sara riche paul not forgetting everyone else who made our stay fabulous This is my new home next time I visit London Location is perfect and very convenient ,  Found our experience generally good with helpful friendly staff Liked having the bar downstairs so that when we returned in the evening could have a drink ,  Very helpful staff willing to assist which always makes the difference For the busy location the room was quiet and comfy The lovely wallpaper is a standout giving the room an eclectic feel Appreciated the complimentary drinking water but that only appeared the 2nd night of my 3 night stay Comfy bed and excellent choice of pillows ,  The location is superb The staff is extremely friendly and helpful The hotel is gorgous and the room we stayed in is spacious and just fantastic overall We were very happy to find this hotel in London and plan to stay again next time we are in town We will be recommending it to everyone ,  Hotel design was lovely with great period features Great location in the heart of the city ,  Everything about this boutique hotel was just right from the moment I booked Attention to details and the service was out of this world My new hangout in London,  This is a classic old style English boutique hotel with a chic and modern update at least in the public spaces The service was impeccable the concierges were all so charming extra helpful and informed They knew what they were doing what we as tourists might need to know to go where we wanted to go how to make us feel extra comfortable ,  Very comfortable like an old club,  Lovely stay in a comfortable and cosy room The room was a little smaller than used to as had two large suitcases but beautiful otherwise Only stayed for two nights and didn t really explore the rest of the hotel until checking out Wish I had done this earlier as a beautiful establishment Concierge was extremely helpful and friendly ,  Stayed here for one night last month Fantastic location and beautiful building There was a minor maintenence issue which occurred during our stay and it was dealt with promptly and professionally by the lovely staff The concierge was also so friendly and nice to my son Would definitely recommend this hotel ,  Such a stunning small hotel we were greeted by porter luggage taken straight to our room The deluxe king upgrade was a surprise room was spacious lovely decor high ceilings and quiet from street view Beautifully renovated in the traditional English antique style nothing left well designed interior Breakfasts in restaurant were scrumptious especially the tasty sausages with full cooked English Fresh fruits and great selection of salmon pastries cheese al a carte menu options Wimbledon was setup for viewing in terrace bar nice area to chillax and e hoy a well deserved cocktail or bubbles I would totally recommend this hotel close to Kings rd for shopping in middle of Chelsea stunning part of London Heading back again in September with friends ,  Great location great bathroom ,  The staff is very welcoming and very nice I forgot my telephone they went to look for it advised that they had found my amex card as well and kept them for me to collect it later I like the look of the house so British and so far from those big palaces ,  The whole experience from start to finish was exceptional The service is second to none beautiful room and a fantastic breakfast You made my 30th birthday truly memorable a big thank you to all the team ,  Service was amazing staff were helpful friendly and couldn t do enough for us The rooms were beautiful and the hotel was just lovely ,  Large apartment very well equipped with traditional old British furniture Very convenient location nice bar in house and a good restaurant Really great place ,  Excellent comfortable bed Staff exceptionally good helpful ,  Unbelievable I have stayed in some of the best hotels in the world but and this was right up there with the best of them I could not fault anything nor did I want to ,  Fabulous location and exceptionally pleasant staff,  Breakfast amazing location perfect for west end Kings road area ,  the staff was friendly,  Stayed in presidential suite Amazing room So big and beautifully decorated Very friendly staff Amazing service and a brilliant time Will be returning highly recommended,  The hotel was unique the staff where friendly very approachable and couldn t do enough to make sure our stay was enjoyable and memorable,  Staff amazing very helpful and couldn t have done more for us,  The staff were as helpful as they could be under the circumstances,  Location is very good ,  I loved that it was unique sumptuous and full of character very comfortable bed and pillows magnificent breakfast and very helpful friendly staff ,  We stayed in a junior suite for 2 nights the room on arrival was absolutely amazing The second night was our wedding night and when we got back to the room after the wedding it was absolutely beautifully decorated with rose petals slippers either side of the bed and on the table they d placed champagne on ice AMAZING Also the cooked breakfast was delicious ,  They upgraded us to an incredible suite which was an amazing surprise after arriving there and feeling a little disappointed that we had not been told that it was in the process of being refurbished Think that maybe for the price of that hotel guests should be informed ,  FOOD WAS GOOD AND SERVICE,  We honeymooned here in 1986 and have stayed here any time we come to London since then It is a beautiful property in a serene yet convenient location and the service is impeccable Despite the current renovations we had a very enjoyable stay and never really noticed the construction ,  Staff was consistently helpful and engaged ,  Quietness and comfort Location Staff s smile ,  It was lovely x,  location,  Friendly staff and comfortable room,  Very small but well equipped bathroom Quiet air conditioning,  The staff and the quietness of the room and location plus the music,  The staff are so friendly and helpful,  Everything ,  Comfy bed lovely shower little extras nice outside terrace,  Everything was simply perfect ,  Excellent service from all staff Warm welcome sustained throughout ,  The staff were all incredible And i mean every single person we interacted with But Richie was a star ,  Staff and location and room,  The Greek manager in breakfast was exceptional Thank you Christos,  Very helpful staff Good location General ambience ,  Very trendy very quirky great interior,  Fantastic stay,  The staff so very helpful and friendly,  Excellent staff very clean and comfortable perfect location,  Staff are very nice,  The ambience is excellent,  The staff were wonderful the room and bed very comfortable ,  Friendly very helpful staff thank you,  Love the hotel decoration Staffs have always been helpful I always stay here when I have a chance to visit London ,  the Staff was very helpful and nice We enjoyed our stay at this hotel ,  Excellent staff facilities location breakfast room service etc etc,  Beautiful wood panelled old world interior,  It s like having your very own London accommodation and you re made to feel special,  Small boutique hotel with friendly staff in a superb neighborhood Excellent service and nice neighborhood feel ,  Very helpful staff Very comfy bed Quiet room Brilliant location , nothing,  Excellent hotel in very convenient location Very friendly and helpful staff Would stay again and probably will next time i visit London,  Staff very welcoming especially Emelsongreat,  Excellent location concierge staff very attentive,  The staff and concierge quietness location,  Very well trained and dedicated staff ,  The bed was great room was good,  The staff were so friendly and helpful ,  Staff were extremely attentive and friendly The service was luxury defined ,  Location extra comfy bed ,  Staff ambiance and location,  Great staff hotel and location ,  Outstanding service and staff A very memorable stay ,  The staff everything,  Friendly staff Excellent concierge Quiet location just a stones throw from the sophistication of Chelsea and Knightsbridge ,  Location Tea,  Wonderful staff beautiful view from the room and overall just a perfect stay ,  The room was exceptionally comfortable,  The staff are super friendly and helpful ,  The staff were wonderful from beginning to end nothing is any trouble for them Lovely room Tartufo restaurant was amazing ,  Location was excellent my room was on the top floor Newly decorated with a very comfy bed ,  Perfect location stylish place ,  Simply BEAUTIFUL great location and wonderful staff Stunning hotel , No,  Wonderful as always, No,  The welcome home feel ,  Location Overall quality Warm and attentive staff Very comfortable bed luxurious room and accessories ,  attention to small detail,  everything, No, No,  Location Potential ,  Excellent location The hotel staff are very helpful and friendly,  Brilliant restaurant and superb room,  I love the efficency of a modern hotel with the old world charm of an established building ,  The staff were excellent helpful and so friendly, nothing, No,  Location and style of the hotel ,  Leaving,  The room Fabulous experience The size of the bed comfort and the wonderful staff , No,  super staff and eye for detail went above and beyond without us even when we didnt ask ,  Location,  Location,  Rooms and attention to detail,  Staff,  Nice touch having a Nesspresso machine in the room,  Nice location good service nice facilities'"
      ]
     },
     "execution_count": 32,
     "metadata": {},
     "output_type": "execute_result"
    }
   ],
   "source": [
    "#applying function to clean_text\n",
    "hotel_review['review_text_clean'] = hotel_review['review_text'].apply(clean_text)\n",
    "hotel_review['positive_review'][0]"
   ]
  },
  {
   "cell_type": "code",
   "execution_count": 33,
   "metadata": {},
   "outputs": [
    {
     "data": {
      "text/html": [
       "<div>\n",
       "<style scoped>\n",
       "    .dataframe tbody tr th:only-of-type {\n",
       "        vertical-align: middle;\n",
       "    }\n",
       "\n",
       "    .dataframe tbody tr th {\n",
       "        vertical-align: top;\n",
       "    }\n",
       "\n",
       "    .dataframe thead th {\n",
       "        text-align: right;\n",
       "    }\n",
       "</style>\n",
       "<table border=\"1\" class=\"dataframe\">\n",
       "  <thead>\n",
       "    <tr style=\"text-align: right;\">\n",
       "      <th></th>\n",
       "      <th>hotel_name</th>\n",
       "      <th>positive_review</th>\n",
       "      <th>negative_review</th>\n",
       "      <th>city</th>\n",
       "      <th>lat_x</th>\n",
       "      <th>lng_x</th>\n",
       "      <th>review_text</th>\n",
       "      <th>lang</th>\n",
       "      <th>word_count</th>\n",
       "      <th>review_text_clean</th>\n",
       "    </tr>\n",
       "  </thead>\n",
       "  <tbody>\n",
       "    <tr>\n",
       "      <th>0</th>\n",
       "      <td>11 Cadogan Gardens</td>\n",
       "      <td>We were particularly impressed by the very wa...</td>\n",
       "      <td>Thought the prise of drinks at the bar a litt...</td>\n",
       "      <td>Chelsea</td>\n",
       "      <td>51.493616</td>\n",
       "      <td>-0.159235</td>\n",
       "      <td>We were particularly impressed by the very wa...</td>\n",
       "      <td>en</td>\n",
       "      <td>5437</td>\n",
       "      <td>particularly impressed warm welcome received l...</td>\n",
       "    </tr>\n",
       "    <tr>\n",
       "      <th>1</th>\n",
       "      <td>1K Hotel</td>\n",
       "      <td>Location good close to le Marais and 3e arron...</td>\n",
       "      <td>Air conditioning in room didn t work and desp...</td>\n",
       "      <td>Paris</td>\n",
       "      <td>48.863932</td>\n",
       "      <td>2.365874</td>\n",
       "      <td>Location good close to le Marais and 3e arron...</td>\n",
       "      <td>en</td>\n",
       "      <td>5777</td>\n",
       "      <td>location good close le marais 3e arrondissemen...</td>\n",
       "    </tr>\n",
       "    <tr>\n",
       "      <th>2</th>\n",
       "      <td>25hours Hotel beim MuseumsQuartier</td>\n",
       "      <td>Cool vintage style in the middle of the museu...</td>\n",
       "      <td>Breakfast not included and buffet really expe...</td>\n",
       "      <td>Vienna</td>\n",
       "      <td>48.206474</td>\n",
       "      <td>16.354630</td>\n",
       "      <td>Cool vintage style in the middle of the museu...</td>\n",
       "      <td>en</td>\n",
       "      <td>25370</td>\n",
       "      <td>cool vintage style middle museum quarter metro...</td>\n",
       "    </tr>\n",
       "    <tr>\n",
       "      <th>3</th>\n",
       "      <td>41</td>\n",
       "      <td>Its central proximity close to all services a...</td>\n",
       "      <td>There wasn t a thing that we didn t like , No...</td>\n",
       "      <td>West End of London</td>\n",
       "      <td>51.498147</td>\n",
       "      <td>-0.143649</td>\n",
       "      <td>Its central proximity close to all services a...</td>\n",
       "      <td>en</td>\n",
       "      <td>3411</td>\n",
       "      <td>central proximity close services restaurants s...</td>\n",
       "    </tr>\n",
       "    <tr>\n",
       "      <th>4</th>\n",
       "      <td>45 Park Lane Dorchester Collection</td>\n",
       "      <td>Everything here are almost perfect the staffs...</td>\n",
       "      <td>More kinds of fruit juice will make the mini ...</td>\n",
       "      <td>West End of London</td>\n",
       "      <td>51.506371</td>\n",
       "      <td>-0.151536</td>\n",
       "      <td>Everything here are almost perfect the staffs...</td>\n",
       "      <td>en</td>\n",
       "      <td>476</td>\n",
       "      <td>perfect staffs friendly room comfortable way s...</td>\n",
       "    </tr>\n",
       "    <tr>\n",
       "      <th>...</th>\n",
       "      <td>...</td>\n",
       "      <td>...</td>\n",
       "      <td>...</td>\n",
       "      <td>...</td>\n",
       "      <td>...</td>\n",
       "      <td>...</td>\n",
       "      <td>...</td>\n",
       "      <td>...</td>\n",
       "      <td>...</td>\n",
       "      <td>...</td>\n",
       "    </tr>\n",
       "    <tr>\n",
       "      <th>1469</th>\n",
       "      <td>citizenM London Bankside</td>\n",
       "      <td>No,  What an amazing and unique hotel A short ...</td>\n",
       "      <td>This was our third stay at this hotel and it ...</td>\n",
       "      <td>City of London</td>\n",
       "      <td>51.505151</td>\n",
       "      <td>-0.100472</td>\n",
       "      <td>No,  What an amazing and unique hotel A short ...</td>\n",
       "      <td>en</td>\n",
       "      <td>50772</td>\n",
       "      <td>amazing unique hotel short cab ride 15 minute ...</td>\n",
       "    </tr>\n",
       "    <tr>\n",
       "      <th>1470</th>\n",
       "      <td>citizenM London Shoreditch</td>\n",
       "      <td>Swift auto check in Good bar and lounge area ...</td>\n",
       "      <td>Lifts need reprogramming exasperating journey...</td>\n",
       "      <td>Barbican</td>\n",
       "      <td>51.524137</td>\n",
       "      <td>-0.078698</td>\n",
       "      <td>Swift auto check in Good bar and lounge area ...</td>\n",
       "      <td>en</td>\n",
       "      <td>29152</td>\n",
       "      <td>swift auto check good bar lounge area decent i...</td>\n",
       "    </tr>\n",
       "    <tr>\n",
       "      <th>1471</th>\n",
       "      <td>citizenM Tower of London</td>\n",
       "      <td>The use of technology was impressive UBS outl...</td>\n",
       "      <td>Rooms are small but well designed,  breakfast...</td>\n",
       "      <td>City of London</td>\n",
       "      <td>51.510237</td>\n",
       "      <td>-0.076443</td>\n",
       "      <td>The use of technology was impressive UBS outl...</td>\n",
       "      <td>en</td>\n",
       "      <td>65052</td>\n",
       "      <td>use technology impressive ubs outlets using ta...</td>\n",
       "    </tr>\n",
       "    <tr>\n",
       "      <th>1472</th>\n",
       "      <td>every hotel Piccadilly</td>\n",
       "      <td>The location was the only great aspect of thi...</td>\n",
       "      <td>The hotel overall requires an update furnitur...</td>\n",
       "      <td>London</td>\n",
       "      <td>51.510146</td>\n",
       "      <td>-0.131506</td>\n",
       "      <td>The location was the only great aspect of thi...</td>\n",
       "      <td>en</td>\n",
       "      <td>15926</td>\n",
       "      <td>location great aspect hotel central size rooms...</td>\n",
       "    </tr>\n",
       "    <tr>\n",
       "      <th>1473</th>\n",
       "      <td>pentahotel Vienna</td>\n",
       "      <td>The staff and room were fantastic The hotel i...</td>\n",
       "      <td>Slightly high prices at the bar and odd smell...</td>\n",
       "      <td>Vienna</td>\n",
       "      <td>48.189974</td>\n",
       "      <td>16.356701</td>\n",
       "      <td>The staff and room were fantastic The hotel i...</td>\n",
       "      <td>en</td>\n",
       "      <td>4220</td>\n",
       "      <td>staff room fantastic hotel right corner public...</td>\n",
       "    </tr>\n",
       "  </tbody>\n",
       "</table>\n",
       "<p>1474 rows × 10 columns</p>\n",
       "</div>"
      ],
      "text/plain": [
       "                              hotel_name   \n",
       "0                     11 Cadogan Gardens  \\\n",
       "1                               1K Hotel   \n",
       "2     25hours Hotel beim MuseumsQuartier   \n",
       "3                                     41   \n",
       "4     45 Park Lane Dorchester Collection   \n",
       "...                                  ...   \n",
       "1469            citizenM London Bankside   \n",
       "1470          citizenM London Shoreditch   \n",
       "1471            citizenM Tower of London   \n",
       "1472              every hotel Piccadilly   \n",
       "1473                   pentahotel Vienna   \n",
       "\n",
       "                                        positive_review   \n",
       "0      We were particularly impressed by the very wa...  \\\n",
       "1      Location good close to le Marais and 3e arron...   \n",
       "2      Cool vintage style in the middle of the museu...   \n",
       "3      Its central proximity close to all services a...   \n",
       "4      Everything here are almost perfect the staffs...   \n",
       "...                                                 ...   \n",
       "1469  No,  What an amazing and unique hotel A short ...   \n",
       "1470   Swift auto check in Good bar and lounge area ...   \n",
       "1471   The use of technology was impressive UBS outl...   \n",
       "1472   The location was the only great aspect of thi...   \n",
       "1473   The staff and room were fantastic The hotel i...   \n",
       "\n",
       "                                        negative_review                city   \n",
       "0      Thought the prise of drinks at the bar a litt...             Chelsea  \\\n",
       "1      Air conditioning in room didn t work and desp...               Paris   \n",
       "2      Breakfast not included and buffet really expe...              Vienna   \n",
       "3      There wasn t a thing that we didn t like , No...  West End of London   \n",
       "4      More kinds of fruit juice will make the mini ...  West End of London   \n",
       "...                                                 ...                 ...   \n",
       "1469   This was our third stay at this hotel and it ...      City of London   \n",
       "1470   Lifts need reprogramming exasperating journey...            Barbican   \n",
       "1471   Rooms are small but well designed,  breakfast...      City of London   \n",
       "1472   The hotel overall requires an update furnitur...              London   \n",
       "1473   Slightly high prices at the bar and odd smell...              Vienna   \n",
       "\n",
       "          lat_x      lng_x                                        review_text   \n",
       "0     51.493616  -0.159235   We were particularly impressed by the very wa...  \\\n",
       "1     48.863932   2.365874   Location good close to le Marais and 3e arron...   \n",
       "2     48.206474  16.354630   Cool vintage style in the middle of the museu...   \n",
       "3     51.498147  -0.143649   Its central proximity close to all services a...   \n",
       "4     51.506371  -0.151536   Everything here are almost perfect the staffs...   \n",
       "...         ...        ...                                                ...   \n",
       "1469  51.505151  -0.100472  No,  What an amazing and unique hotel A short ...   \n",
       "1470  51.524137  -0.078698   Swift auto check in Good bar and lounge area ...   \n",
       "1471  51.510237  -0.076443   The use of technology was impressive UBS outl...   \n",
       "1472  51.510146  -0.131506   The location was the only great aspect of thi...   \n",
       "1473  48.189974  16.356701   The staff and room were fantastic The hotel i...   \n",
       "\n",
       "     lang  word_count                                  review_text_clean  \n",
       "0      en        5437  particularly impressed warm welcome received l...  \n",
       "1      en        5777  location good close le marais 3e arrondissemen...  \n",
       "2      en       25370  cool vintage style middle museum quarter metro...  \n",
       "3      en        3411  central proximity close services restaurants s...  \n",
       "4      en         476  perfect staffs friendly room comfortable way s...  \n",
       "...   ...         ...                                                ...  \n",
       "1469   en       50772  amazing unique hotel short cab ride 15 minute ...  \n",
       "1470   en       29152  swift auto check good bar lounge area decent i...  \n",
       "1471   en       65052  use technology impressive ubs outlets using ta...  \n",
       "1472   en       15926  location great aspect hotel central size rooms...  \n",
       "1473   en        4220  staff room fantastic hotel right corner public...  \n",
       "\n",
       "[1474 rows x 10 columns]"
      ]
     },
     "execution_count": 33,
     "metadata": {},
     "output_type": "execute_result"
    }
   ],
   "source": [
    "hotel_review"
   ]
  },
  {
   "cell_type": "code",
   "execution_count": 48,
   "metadata": {},
   "outputs": [
    {
     "name": "stdout",
     "output_type": "stream",
     "text": [
      "Reviews for the hotel with the most positive reviews in Paris - Hotel Regina:\n",
      "\n",
      "Review 1: Building is very old but nicely maintained Bed quality was excellent and quality of toilettes are very good We booked family suite and there are three single beds in children room but we have a teenage daughter so they gave us two connecting rooms later which were much better The rooms are facing back of building which is better than facing road because it is more quiet and you can keep window open\n",
      "\n",
      "Review 2: Beautiful hotel in a great location We booked the Eiffel tower junior suite which was lovely with a great view The bed nice and big but very hard I know some prefer hard to soft Good and friendly staff on reception\n",
      "\n",
      "Review 3: THE CITY\n",
      "\n",
      "Review 4: This is my favorite hotel I have stayed here three times and never been disappointed It is located right next to the Louvre and the Tuileries Gardens near a stop on metro line 1 and within easy walking distance of the Paris Opera and the Musee d Orsay The hotel is in an original Haussmann building with decorations in Art Nouveau style An old world Parisian style pervades the building and the excellent service but a recent remodeling has made the rooms and the bathrooms state of the art Many of the rooms have Eiffel Tower views we were lucky enough to be upgraded to the Eiffel Tower suite with a table on a small balcony where we could have breakfast overlooking the Eiffel Tower the Louvre and many of the top Paris monuments Hotels in Paris can be expensive and this one is but we left with a feeling of money well spent\n",
      "\n",
      "Review 5: The bed was extremely comfortable and the view was unparalleled Staff very attentive Classy hotel\n",
      "\n",
      "Review 6: It s a great hotel Beautiful and the staff is awesome I lost my earrings and they did find them and kept them safe until I came back for them after one week\n",
      "\n",
      "Review 7: Perfect for those looking for the ultimate Paris experience The location decor and architectural design cannot be beat If you are looking for the hotel gym and buffet breakfast this is not it Wonderful staff Ask for a view of the park\n",
      "\n",
      "Review 8: We were lucky to have one of the few rooms with a view of the Eiffel Tower which was wonderful I liked that the windows were double paned and we could open them up for some fresh air and an even better view of the Eiffel Tower The location of this hotel centrally located for any traveler who is wanting to see the main and best highlights of Paris It s right next to the Louvre Museum and the Jardin des Tuileries and other prominent museums The bus and metro lines are very close with quick access to the other sites to see The concierge was helpful the night before we left to get us an early taxi to the airport The bar and terrace looked beautiful but we did not visit them\n",
      "\n",
      "Review 9: The staff was fantastic friendly and very helpful The property is absolutely beautiful\n",
      "\n",
      "Review 10: View\n",
      "\n",
      "Review 11: Closest hotel to lourve museum and gardens\n",
      "\n",
      "Review 12: I was a bit nervous traveling by myself not knowing much French From the few days before when I needed to arrange taxi service from the airport to when I arrived hours before checkin and the accommodations they made for me to the delicious room service albeit a bit expensive EXCELLENT The room itself was beautiful the bed extremely comfortable the bathroom well lit and very clean Every staff member I interacted with was SO KIND SO POLITE The location of the hotel is right in the heart of Paris across the street from the Louvre and walking distance to all the major Paris attractions I will definitely be back\n",
      "\n",
      "Review 13: Wonderful location near all the interesting sites especially the Louvre Lovely view from Eifel Tower junior suite Room and bathroom beautiful newly furnished and with all mod cons but in the old style Bed very comfortable Hotel kindly gave us a bottle of champagne to enjoy and delicious chocolates on the pillow at night a good old fashioned 5 star hotel as it should be Breakfast very good only had it once in the hotel but they forgot to charge us for it and when we pointed it out to Reception they waived it which I thought was very professional and much appreciated Great hotel on the whole\n",
      "\n",
      "Review 14: The Hotel Regina was in the perfect location to get to all the important sites in Paris The hotel staff was friendly and helpful The old world charm of this historic hotel was just what we wanted Our family room was perfect for us with our 2 children It had lots of room especially for a hotel in Paris and having the 2 fully fitted bathrooms was great Our room faced the Louvre but we had a view of the Eiffel Tower from our small balcony There was no noise from the street below thanks to the double windows The cleaning staff was excellent and our girls loved the turn down service at night The food at the restaurant was good and the bar stayed open late one evening so I could work\n",
      "\n",
      "Review 15: The view of the Eiffel Tower was amazing from the 6th floor The room had 3 small balconies\n",
      "\n",
      "Review 16: Lovely suite in a fabulous location Very comfortable Concierge service was wonderful\n",
      "\n",
      "Review 17: Everything start to finish was a 5 experience Allowing for my poor French the staff were delighted at my attempt to converse Completely unlike any other experience I ve had in Paris previously\n",
      "\n",
      "Review 18: It was simply amazing The room was breathtaking the quality of service superior the view dazzling the location perfect Across the street in one direction the Louvre in the other was the best pastry shop in Paris\n",
      "\n",
      "Review 19: Everything was great But the best part of my stay was the staff they treated you as part of the family Which has made my time at the Regina very memorable\n",
      "\n",
      "Review 20: Fabulous location and accommodations very luxurious The staff was very attentive The dining room was fantastic for dinner Next time we will upgrade for an outside view of Paris\n",
      "\n",
      "Review 21: An exceptional boutique hotel with beautiful period features transporting one back in time Centrally located to major tourist attractions metro boutique shopping this hotel offers the discerning traveler the complete package The rooms are large which is unusual for Paris the beds and pillows are luxurious ensuring a complete rest and the staff from the doorman to the management are friendly informative and helpful No request was too big or small from booking tickets to a local football match to booking a cooking class with a traditional French chef they can handle any request with ease Staffs local knowledge was extremely helpful assisting us to have the best experience possible This is one hotel you should not pass up if you are looking to book a total Parisian experience\n",
      "\n",
      "Review 22: The friendly service particularly at the Concierge Reception No matter too big or small to deal with Luxury at a different level Cleanliness comfort of the bedroom Best laundry service ever encountered Location no need for a taxi within a 15 minute walk or 5 km radius it s that central The Louvre and Musee l Orangerie are your neighbours My new home away from home in Paris\n",
      "\n",
      "Review 23: The hotel location The room is clean and the the staff are friendly\n",
      "\n",
      "Review 24: The room was beautiful The staff very friendly Very quiet and fantastic location\n",
      "\n",
      "Review 25: Staff was extremely pleasant and very helpful Accommodated all of our needs Our room had a view of the Eiffel Tower and the gardens across the avenue\n",
      "\n",
      "Review 26: Breakfast in the room Excellent and very friendly front of house overall a memorable experience From the Doorman Gildas who is fantastic to the housekeeping and room service staff Nothing like a happy staff complement This shows great leadership and that contributes to the ambience\n",
      "\n",
      "Review 27: Our room was magnificent a perfect view of the Eiffel Tower Paris Eye and of course all the beauty of Paris The staff were far exceeding even our expectations of a first class hotel They went out of their way to make us feel at home advising us to be sure to try the bar across from the hotel entrance on the corner And their restaurant is filled with staff that is at once unobtrusive yet attentive The service and food must be experienced to understand that without a doubt not a dinner but an epicurean delight of ambience and great food Across the street on the corner is a wonderful Bar Bistro that has scrumptious salads and main dishes that were less expensive than I would have expected for the quantity and quality of the food A must do when staying at the hotel Another tip grab the two day hop on hop off bus pass for around 40 euros and explore all of Paris The pass is far cheaper than trying to get a taxi in some areas My wife loved the shopping so guys wear comfy walking shoes and enjoy the people of Paris\n",
      "\n",
      "Review 28: Location and their friendly staff\n",
      "\n",
      "Review 29: Service excellent and impeccable Staff ALL attentive and extremely polite and helpful Hotel perfectly clean and comfortable Temperature easily regulated bed super comfortable with variety of pillows to choose from Always clean and crisp bed linen and towels Marvellous view of Tuileries and Eiffel Tower a dream to treasure All receptionists concierges and doormen extremely nice and helpful We were welcomed by manager and recognised from having been at the hotel before Addressed by name so very personalised treatment Ideal location central to all attractions and neighbourhoods Didn t use metro at all but had lovely walks all over Paris Then back to a super comfortable super clean room Can t wait to be back at the Regina Pyramides\n",
      "\n",
      "Review 30: The entire hotel is heaven The bed is a dream come true The rooms are amazing the staff is incredibly kind\n",
      "\n",
      "Review 31: A very beautiful and charming Hotel Staff are excellent always attentive to client needs and a pleasure to speak with Location is superb a short and enjoyable walk from major attractions otherwise metro taxi and bus service are easily accessible Restaurant and Bar offer both a wonderful service and delicious menu Already planning a return trip thank you for the perfect stay\n",
      "\n",
      "Review 32: Concierge staff were very friendly and helpful\n",
      "\n",
      "Review 33: Great location with views to die for stayed here before a few years ago and compared to that trip they ve really spruced up the place Amazingly comfortable bed hotel also threw in a free bottle of champagne\n",
      "\n",
      "Review 34: Location is prefect very nice and professional staff no noise at all But only you have to ask the room service every day for the water and towels other than this was an excellent hotel for me Room 640\n",
      "\n",
      "Review 35: Best location right opposite the Tuileries garden Louvre and directly next to the Outlet Mall bus stop A grand hotel from the old glory days Corner rooms have stunning views of the Eiffel Tower across the gardens\n",
      "\n",
      "Review 36: Everything was perfect bed was really comfortable Breakfast was good and all the staffs were friendly and helpful\n",
      "\n",
      "Review 37: This is a gorgeous hotel directly across the street from the Louvre and within walking distance of most attractions The building is classic elegance with high ceilings ornate woodwork yet it has been updated with all the conveniences you d want It is very quiet even rooms looking out over a busy street are very quiet This is definitely where I ll stay when I return to Paris\n",
      "\n",
      "Review 38: I was taking my girlfriend on a surprise trip to Paris prior to deploying with the Army for 6 months I booked a normal room that stated it had a view of the Louvre I explained it was a special occasion during the booking and asked that if possible we could get a good view of the Louvre When we arrived we were greeted by the hotel staff and I was waiting for what I assumed would be the room I booked however we were informed that after seeing my request they had upgraded us which I thought was really lovely Little did I know that they had actually upgraded us to the Eiffel Tower Suite It was incredible and the room was laid out with petals etc on the bed and in the bathroom It had the most amazing view of the Eiffel Tower I could not praise this hotel and the staff enough It was absolutely fantastic in every way and I absolutely recommend anybody staying here My best hotel experience hands down\n",
      "\n",
      "Review 39: My daughter and I stayed for 3 nights and had a lovely stay in Paris The location was excellent directly across from the Louvre The front desk staff were helpful The beds were comfy and the room was well appointed Very nice bathroom with large walk in shower\n",
      "\n",
      "Review 40: Location is perfect Beds are really comfortable Staff were amazing\n",
      "\n",
      "Review 41: Lovely room Eiffel Suite Nice reception staff\n",
      "\n",
      "Review 42: Amazing location Walked everywhere from the Louvre to Pont des Invalides to the stores on Saint Honore Great and friendly staff especially the lovely Helen and Beligh\n",
      "\n",
      "Review 43: Our stay at the Hotel regina was excellent in every way The hotel is beautifully renovated modern amenities but with traditional charm My bedroom was a good size not particularly big but roomy by Parisian standards with a magnificent view There was complimentary instant coffee and a coffee pot so I could fix myself a cup of coffee before starting the day The bed was very comfortable and the room extremely clean The bathroom was a very good size with soft big towels not commonly to find in french hotels and a good sized shower The staff was extremely courteous and accommodating The hotel s location is perfect within walking distance of many famous sites and great neighborhoods and very close to metro stops And all this came with the most reasonably priced rate I have ever seen I would have expected this experience to cost deservedly so at least three times what my room cost I can t rate this hotel highly enough I would go back there in a heartbeat A beautiful hotel in a fantastic location with superior staff\n",
      "\n",
      "Review 44: I went to Paris on a special occasion and let the staff know so they could help me prepare a surprise for my fianc e I must say the staff was 5 stars very friendly and always ready to help They made the whole experience better than I could have imagined it We travel a lot and always stay at 4 or 5 stars Hotels and I can say this was one of the best Hotels we stayed on Will definitely stay there again on my next trip to Paris\n",
      "\n",
      "Review 45: Friendly and professional staff Good sized room and well equipped bathroom Bar and restaurant service was very good also and at breakfast an excellent selection\n",
      "\n",
      "Review 46: The hotel is stunning The staff were exceptional and couldn t do enough A truly memorable stay So much so that I m going back very soon\n",
      "\n",
      "Review 47: Great hotel and very courteous and helpful staff always willing to go the extra mile to anticipate on your needs Beds were gorgeous rooms very large and the location near the Louvre s entrance and within walking distance of a number of the city s landmarks is top\n",
      "\n",
      "Review 48: The staff went out of their way to provide us with everything we requested They were always pleasant and happy Everything was clean and presentation was a 10\n",
      "\n",
      "Review 49: Luxurious hotel Quiet clean spacious room Prime location Excellent breakfast first rate lounge What really makes the hotel is its superior staff who are gracious accommodating thoughtful and attentive to detail\n",
      "\n",
      "Review 50: We stayed in Junior suite We loved spaciousness abundant cupboard space cleanliness and organization of the room and the facilities\n",
      "\n",
      "Review 51: This is a magnificent grande dame hotel situated right in the heart of the opera district directly across from the Louvre I am a Canadian and stayed in this hotel for eight nights during the Christmas season I don t speak fluent french but the staff were extremely accommodating with the English speaking guests everyone from front desk housekeeping to the concierge as well as the lounge and restaurant They are also all very accommodating and friendly The rooms are spacious and well kept very elegant and clean Every few days I would have a full bowl of fruit and chocolates left in my room clean fluffy robes and slippers a towel warmer in the bathroom and windows that open for fresh air and a beautiful view The concierge was extremely helpful in helping with tours directions Prices are surprisingly comparable to many other hotels that are more run down I would highly recommend this hotel to anyone wanting to stay in the heart of Paris in the lap of luxury I will definitely be booking this hotel again as I love the city of light\n",
      "\n",
      "Review 52: No\n",
      "\n",
      "Review 53: Reception is very nice and we feel very welcomed Room service is very considerate and in second day an extra bath salt is prepared Bed is comfortable with different size of pillows\n",
      "\n",
      "Review 54: Marvelous helpful staff Wonderful room with a lovely view Convenient to the Louvre block away at best Good hotel food Knew gluten free and accommodated it very nicely\n",
      "\n",
      "Review 55: The staff was courteous professional and friendly The hotel itself is a beautiful Art Nouveau building in a prime location across from the Louvre Good value for the money worth every penny\n",
      "\n",
      "Review 56: The room we stayed in looked over to the Eiffel Tower which was all lit up We had fresh fruit in our room and the room was amazing along with the hotel\n",
      "\n",
      "Review 57: Comfortable bed Excellent staff Will certainly return and would certainly recommend to others\n",
      "\n",
      "Review 58: One of the best place that can be picked in Paris as a 5 star hotel with these price levels Location staff approach cleanness amenities quality and atmosphere are good\n",
      "\n",
      "Review 59: The staff were exceptional and no request was too much trouble I really can t fault the hotel in any way from our bags being taken as we exited the taxi on arrival through to departure we were made to feel special The hotel is ideally located for the sights or fashion houses Well done Regina\n",
      "\n",
      "Review 60: Location and the structure of the hotel are precious\n",
      "\n",
      "Review 61: Great sound proofing even though room faced the road I could see the Eiffel tower from my room Staff were friendly and helpful The bed was also extremely comfortable one of the best I have slept in in a hotel Good restaurant recommendation\n",
      "\n",
      "Review 62: The in room dining experience and the comfortable rooms\n",
      "\n",
      "Review 63: Helena at the reception desk is very kind and very helpful She has an excellent personality and friendliness about her\n",
      "\n",
      "Review 64: Regina is a beautiful hotel in a perfect location Walking distance to The Louvre and with a view of the Eiffel Tower The staff was amazing Friendly helpful and very efficient They made our stay in Paris even more memorable\n",
      "\n",
      "Review 65: Great location to go everywhere by any transportation bus Metro PER Bike etc Staff are very nice Hotel looks awesome\n",
      "\n",
      "Review 66: No\n",
      "\n",
      "Review 67: Excellent location Our room had a view of the Eiffel Tower The entire staff was friendly and very efficient The concierge team was extremely helpful in arranging our activities\n",
      "\n",
      "Review 68: Beautiful hotel 5 star quality all the way through Everyone is very friendly and the attention to detail is spot on We had a view of the Eiffel Tower and was a great room In fact the family room was two connecting rooms which is great as the kids think they have a room of their own and bathroom but they are under easy watch still Concierge and doorman are so ready to help you on anything Location is 150m from the tuileries metro station That is good because you are sort of in the middle of all the main places to see Louvre is literally round the corner You cannot be better placed Rooms are spotless and wifi works impeccably Just have to do a relog in every 24 hours Expensive but it is 5 star and you get what you pay for Well recommended to anyone who wants to enjoy Paris in style\n",
      "\n",
      "Review 69: Location is directly across from the Louvre and a nice walk to so much more Booked the suite with view for special occasion and it was unforgettable\n",
      "\n",
      "Review 70: I loved my greetings from staff at Reception from the minute I arrived to the minute I got into my cab to leave The staff were wonderfully competent in both French and English and I can only thank them enormously for respecting my attempts at conversing with them in French They consistently praised my French pronunciation and encouraged me all the way to use my 2nd language I felt totally at home and very very welcomed My room was to die for with a magnificent little French balcony overlooking the beautiful Tuilleries Gardens as well as the Eiffel Tower even though the hotel is located in Arrondisement 1 Special thanks need to be given to Franck and to Delphine on Reception with whom I shared some delightful if somewhat broken on my part conversations in French A wonderful experience I highly recommend the hotel\n",
      "\n",
      "Review 71: No\n",
      "\n",
      "Review 72: nice room and nice people\n",
      "\n",
      "Review 73: The hotel was beautiful and the staff couldn t have been more helpful friendly or accommodating for the entirety of our stay Our room was upgraded to a prestige suite Absolutely wonderful\n",
      "\n",
      "Review 74: 1 Location Just face to Louvre many of touring spots are within walking distance 2 Room High ceiling classical elegant with comfortable bed 3 Staffs All staffs are kind polite always smiling Finally 5 star hotel but not so expensive\n",
      "\n",
      "Review 75: Location and helpfulness of staff Also asked for a balcony with view and it was given to us Thanks you\n",
      "\n",
      "Review 76: The suite was amazing like an apartment and was beautifully decorated The bed was huge and super comfy Even the slippers were super soft It was the most beautiful rooms we have ever stayed in The staff were excellent and nothing was too much trouble\n",
      "\n",
      "Review 77: The staff was incredibly nice The service was impeccable The location was perfect Had connecting rooms family room with a king 2 twins attached in one room and a queen in the other VERY hard to come by in Europe Also having 2 full bathrooms was great Highly recommend this beautiful boutique hotel and would absolutely stay there again\n",
      "\n",
      "Review 78: Location was very central right on the river breakfast was not worth having in the hotel\n",
      "\n",
      "Review 79: Comfy bed and helpful Staff Expensive but a drink in the bar was set apart from the bustle outside and very conducive to relaxation\n",
      "\n",
      "Review 80: From reception to housekeeping the staff was amazing Very friendly and efficient and went the extra mile to make your stay perfect The hotel itself is gorgeous and the rooms large and luxe especially for Paris The location was unbelievable I was traveling with a 3 year odl the most difficult of guests and it was very easy including special toiletries for her and a little robe WE stayed on the third floor and booked the delux and premium delux room One was slightly larger than the other but maybe not enough for a price difference They provided an iron on request and my mini bar stopped working and it was quickly replaced The hotel and rooms are like their official pictures so no worries there There are lots of cafes nearby so never opted for the breakfast there but ordered room service once fried eggs etc the eggs were oversalted the first time so just make sure you specify We will definitely stay here again\n",
      "\n",
      "Review 81: Position breakfast room staff Would stay here again Staff really looked after us and nothing was too much trouble\n",
      "\n",
      "Review 82: It was my 40th birthday and they upgraded us for free to this amazing suite overlooking the Tuilleries and the Effile Tower\n",
      "\n",
      "Review 83: Staff was pleasant Concierge was very pleasant Porters was splendid\n",
      "\n",
      "Review 84: Location could not be better room on Rivoli street facing Le Louvre well insulated from street noise\n",
      "\n",
      "Review 85: Lovely hotel in a great location close to everything and brilliant for sightseeing and of course shopping in the lovely boutiques Very close to some gorgeous restaurants so you can walk to everything\n",
      "\n",
      "Review 86: Perfect location comfortable bed good airconditioning everything you would expect from a highend hotel Staff very kind Most of all perfect view of Paris and the Eiffel tower\n",
      "\n",
      "Review 87: Location of the hotel Strong WiFi Beautiful hotel\n",
      "\n",
      "Review 88: Great location with amazing views We got to see the Bastille Day fireworks over the tower\n",
      "\n",
      "Review 89: The best Concierge we ve ever had Location next to the Louvre and so many other attractions was fabulous\n",
      "\n",
      "Review 90: the location is superb you can take a walk to Louvre or Tuileries and sit to enjoy a quiet sunset Room is spacious compared to normal Paris hotels We had two rooms and one of them facing the Eiffel Tower very nice\n",
      "\n",
      "Review 91: No\n",
      "\n",
      "Review 92: One of if not the best hotel staff I have ever encountered I could not find a fault in any way shape or form The hotel room was spacious and immaculate and the bed was fantastic Can you please let me know where you purchased this bed I need it in my home\n",
      "\n",
      "Review 93: Great location\n",
      "\n",
      "Review 94: Very nice staff Excellent location Overall the room is very comfortable Like the French style room I was put into Comfortable bed after a long day s walk\n",
      "\n",
      "Review 95: Location and personal professional service Everything works\n",
      "\n",
      "Review 96: The team was all of them nice helpful very polite professionals They smile they speak English and they are always there if you need anything The hotel is superb great no question about that but if there were no team so great you don t see the advantages of the hotel Interior design feeling the history excellent service and the location are the pros Thanks\n",
      "\n",
      "Review 97: The service was excellent The staff were more helpful then if they were married to my daughter The value to money ratio is terrific Additionally the humored me as I mangled their language encouraging me and easily switching to English when the discussion became too complicated Wonderful wonderful place\n",
      "\n",
      "Review 98: Perfect location near Luvre Opera and Madeleine ParisCityVision tour agency and its bus stop are right around the corner Nice view of Eifel Tower\n",
      "\n",
      "Review 99: The conseirge and reception were pleasant and friendly and helpful the room was lovely\n",
      "\n",
      "Review 100: The location is perfect\n",
      "\n",
      "Review 101: Great location next to the Louvres and overlooking Tuilleries garden with nice view of the eiffel tower The room is very nice and newly renovated still smell fresh\n",
      "\n",
      "Review 102: Helpful and friendly staff Excellent central location Could see Eiffel Tower and Ferris wheel from room Comfortable bed and bathroom Able to control own room temp Nice bar and wine bar\n",
      "\n",
      "Review 103: Excellent location\n",
      "\n",
      "Review 104: The bed and bedding Very comfortable\n",
      "\n",
      "Review 105: Beautiful hotel in a superb location next to The Louvre Handy for metro water bus and walking distance of many restaurants and cafes\n",
      "\n",
      "Review 106: location and room with a view Very friendly and helpful staff\n",
      "\n",
      "Review 107: I requested a room with nice view to eiffel tower for our honeymoon and they rely considered that and provide us an excellent room with spectacular view Also the bathroom has shower Muslim shattaf rinse which something we really appreciate They make up our room several time every day\n",
      "\n",
      "Review 108: The place and staff were superb Concierge helped us with restaurant reservations on couple of occasions The whole place screamed luxury even though the price as significantly low considering the place and the history of this family owned hotel Definitely coming back\n",
      "\n",
      "Review 109: They made our stay in Paris unforgettable Surprise us with a bottle of champagne for Rene s 50fh birthday Amazing views from our suite room Concierge service outstanding friendly and professional The experience was more than we expected Thank you Hope will come back\n",
      "\n",
      "Review 110: Front of house staff were excellent and nothing was too much trouble Great location\n",
      "\n",
      "Review 111: Staff were very helpful The prestige double room was a good size Location was great Ambience was nice\n",
      "\n",
      "Review 112: Excellent hotel wonderful staff all very nice and helpful Michael from reception showed us to our room and explained everything all staff always extremely polite and helpful especially the reception and doormen Lovely room with lovely view of Eiffel Tower very clean and comfortable excellent noiseless temperature control and very relaxing quiet Excellent location couldn t be better for all we wanted to see every attraction close or pleasant short walk away Great shopping and sites on Rue de Rivoli itself Must be the heart of Paris here Will definitely stay here again when in Paris It has topped our previous Paris hotel in service and location\n",
      "\n",
      "Review 113: Room with a view to the Eiffel Tower Excellent staff all friendly and extremely helpful Great position Lovely breakfast Ate in the restaurant which was delicious Wonderful English bar\n",
      "\n",
      "Review 114: Hotel Regina and its staff are excellent Hotel is beautiful and ideally situated I opted for a prestige room and was very pleasantly surprised at how spacious the room was unusual for Paris and how well appointed it was Looking forward to returning soon Thank you for a most pleasant stay\n",
      "\n",
      "Review 115: the bed was more than compfy the location is just amazing and the Eiffel Tower view was amazing the consierce is the best\n",
      "\n",
      "Review 116: th front desk staff were exceptional in language and information\n",
      "\n",
      "Review 117: Very good people on the front desk From the chef in time to check out people were very efficient and kind Special mention to Sylvia that was very competent when I fixed the late check out\n",
      "\n",
      "Review 118: Junior Suite Eiffel tower view was amazing the cleanest hotel room we have ever stayed in immaculately designed and furnished Building itself beautiful and ornate\n",
      "\n",
      "Review 119: We absolutely loved our stay Hotel staff were amazing They booked us a table in the Michelin star restaurant on a short notice and let us to check out one hour later which was fantastic as we like to lay in and not to be rushed out of the room in the morning The bed was so big and comfortable The bathroom was beautiful We will definitely come back\n",
      "\n",
      "Review 120: The view from the room was amazing the staff were very friendly and the hotel decor was stunning\n",
      "\n",
      "Review 121: Excellent location and comfortable elegant well furnished room better than the pictures Polite and professional reception and concierge services\n",
      "\n",
      "Review 122: That it had all been renovated lovely in keeping with the age off the hotel that it had been in the same family since opening\n",
      "\n",
      "Review 123: perfect location we booked junior suites room was very big bright and clean\n",
      "\n",
      "Review 124: Great location recently awarded 5 star status and easy to see why a very authentic Parisien hotel spacious rooms view of the Eiffel Tower is a must\n",
      "\n",
      "Review 125: 100 perfect for a romantic weekend Absolutely friendly and helpful staff Gorgeous room with stunningly beautiful view Nice breakfast Great location to explore the city\n",
      "\n",
      "Review 126: 1 location never to be better than here most historic place and museums are near from here and metro is also convenient 2 service was good and very kind\n",
      "\n",
      "Review 127: Staff at the hotel is very friendly and adequate My husband and I enjoyed the late night drinks at the Bar very good service with good wines The location is perfect with Louvre is just across the street Many dining options too Pretty easy to get breakfast from the McCafe which is at the other end of the street The whole family enjoyed our stay in Paris because of the hotel\n",
      "\n",
      "Review 128: We loved the view The staff efficiency helpfulness was superb The size comfort of the suite Nice touches like the coffe table books the travel adapters\n",
      "\n",
      "Review 129: The room was beautiful and the hotel itself is presented very elegantly It is a great hotel if you are interested in visiting the Louvre and the Mus e d Orsay the former being literally across the road The staff were helpful and friendly\n",
      "\n",
      "Review 130: Staff was extremely lovely and welcoming Location is perfect Free internet etc I would stay there again\n",
      "\n",
      "Review 131: Location of hotel is very good Room was very quiet with comfortable bed Staff polite and helpful Bathroom small and poorly designed\n",
      "\n",
      "Review 132: We like everything about this hotel The location staff comfort food value for the money are just simply perfect We were the most valuable customers and everyone wanted to let us know how important and precious we are\n",
      "\n",
      "Review 133: Lovely hotel Great location Very friendly staff overall\n",
      "\n",
      "Review 134: We did not really use the facilities so can not give it an excellent score Also the main entry revolving door was manual and it could have been automatic as it was heavy to push\n",
      "\n",
      "Review 135: Quietness stuff and location\n",
      "\n",
      "Review 136: I like the hotel location near almost everything in Paris The hotel is comfortable clean high class excellent services and anything you need is available Staff are wonderful since the time of arrival tell the checkout I thank Mr Hugu I think his name for his full support as well as Cellena for explaining everything I need Thank you guys\n",
      "\n",
      "Review 137: The place is a perfect combination of excellent location great Parisian atmosphere and very kind welcoming staff The rooms are spacious and spotless the hotel itself has a touch of the historical aura yet all the modern animates\n",
      "\n",
      "Review 138: Incredible location right opposite the louvre gardens also had a view of the Eiffel Tower which was very special\n",
      "\n",
      "Review 139: The staff was sooo amazing thank you for making our trip to Paris everything we dreamed of due to the terror attack on Friday the 13 we spent most of our Time in or around the hotel\n",
      "\n",
      "Review 140: The staff was amazing I became very ill just as I had arrived there and they called in a Concierge Doctor for me whom was there w in one hour then they rushed out and picked my meds up for me They made it so I could fly out the next A M and not have to spend another day in bed there They were all lifesavers The bed was so comfy too Room was small and there was some noisy construction going on below me but the way they helped me during my awful illness was remarkable\n",
      "\n",
      "Review 141: Great central location Situation and views could not have been much better Very convenient for sightseeing and business alike Very comfortable spacious interconnected family rooms Welcoming and tolerant to young children\n",
      "\n",
      "Review 142: This hotel was re decorated in 2014 and looked very nice and classic friendly and polite service our deluxe room has a little balcony to see the outside and love all the interior design also the location is so convenient that you can walk to all nice stores ON FOOT\n",
      "\n",
      "Review 143: Service was excellent and very friendly Not cheap but we were in the centre of Paris Would have marked it higher but no restaurant for evening meal in hotel\n",
      "\n",
      "Review 144: I had a fabulous stay for my birthday the staff were wonderful especially Helene who took me to my suite and let me know I had been upgraded and the gentleman who brought my room service who was very friendly My suite was lovely clean comfortable with fantastic views over the eiffel tower and the tuileries Room service was also great I do not normally stay in 5 hotels but I wanted somewhere special for my birthday and the Regina did not disappoint\n",
      "\n",
      "Review 145: Fantastic hotel Beautifully renovated I couldn t fault our stay The only thing to make it even better would be to have a more extensive restaurant menu but don t let that put you off Can t wait to go back again\n",
      "\n",
      "Review 146: Location is really perfect Rooms are clean and comfortable Helpful staff\n",
      "\n",
      "Review 147: Superbly located near Louve Tuleries gardens and Musee d Orsay Metro and restaurants nearby Staff was helpful and our room was spacious and luxurious\n",
      "\n",
      "Review 148: Iobby location great Staff very nice Lobby beautiful\n",
      "\n",
      "Review 149: Newly redone rooms\n",
      "\n",
      "Review 150: The location of the otel is perfect the most important streets and avenues are just 10 min by walking but also very silent and peaceful\n",
      "\n",
      "Review 151: Comfortable bed\n",
      "\n",
      "Review 152: Location and both helpfulness and friendliness of the staff\n",
      "\n",
      "Review 153: Loved the view of the Eiffel Tower from our room From the pics on the internet we thought there was a little balcony to walk out on but the windows did open nicely The room was a little cramped for two people couldn t pass each other but beautifully appointed which made up for the lack of space And the Tuileries across the road just perfect\n",
      "\n",
      "Review 154: Loved the ambience and the location Staff were most helpful and friendly\n",
      "\n",
      "Review 155: the location is good and the effiel suite we is super\n",
      "\n",
      "Review 156: The bed linen was lovely and the reception and manager were good\n",
      "\n",
      "Review 157: The hotel location is really convenient close to the Louvre and has great metro connection links The room was amazing The bed was extremely comfortable I would describe rooms as old french luxury I had a great view of the Eiffel tower also The staff and concierge were also extremely polite helpful and friendly Will definitely stay here again\n",
      "\n",
      "Review 158: Helene checked us in and was so warm and welcoming in a genuine way All the rest of the staff were also very professional and accommodating This hotel offers you a glimpse into the past a time were customer service really meant something The inherent sense of luxury that you get is very real The marble the art work decor If you want to experience the romance of Paris this is the only hotel for you\n",
      "\n",
      "Review 159: Staff very helpful and always smiling 2nd time here for 25th anniversary and still a great place to stay\n",
      "\n",
      "Review 160: effel tower view from the room large comfy bed\n",
      "\n",
      "Review 161: Family suites are big and very comfortable The staff is extremely kind and very helpful A chic classic hotel with modern amenities Great location\n",
      "\n",
      "Review 162: Marc concierge very helpful and friendly Made like the service of the hotel\n",
      "\n",
      "Review 163: Great air conditioning and service\n",
      "\n",
      "Review 164: The location is excellent and the staff are really helpful\n",
      "\n",
      "Review 165: Everything was excellent from the staff to the facilities and amenities My wife and I can t wait to return\n",
      "\n",
      "Review 166: Fine egg preparation with different styles\n",
      "\n",
      "Review 167: Exceptional hotel staff lovely very helpful accommodation wonderful location stunning\n",
      "\n",
      "Review 168: Champagne at arriving\n",
      "\n",
      "Review 169: Lavish Excellent Location View of Eiffel Tower\n",
      "\n",
      "Review 170: Everything was perfect\n",
      "\n",
      "Review 171: Room was modern and airy Great view and marvelous air conditioning\n",
      "\n",
      "Review 172: Location\n",
      "\n",
      "Review 173: A great hotel\n",
      "\n",
      "Review 174: The location is very good\n",
      "\n",
      "Review 175: Nice breakfast Excellent staff Location was good\n",
      "\n",
      "Review 176: No\n",
      "\n",
      "Review 177: Excellent hotel room was very comfortable Walking distance to Louvre Museum\n",
      "\n",
      "Review 178: No\n",
      "\n",
      "Review 179: Impeccably run by the staff and beautifully kept building\n",
      "\n",
      "Review 180: Friendly and helpful staff\n",
      "\n",
      "Review 181: Great location and athmosphere Large and confortable room especially in the context of Paris\n",
      "\n",
      "Review 182: The Parisian charm and staff amazing\n",
      "\n",
      "Review 183: Location\n",
      "\n",
      "Review 184: The service was brilliant and very helpful staff\n",
      "\n",
      "Review 185: Best location in Paris Oposite the Louvre with many great restaurants very close by\n",
      "\n",
      "Review 186: Just location\n",
      "\n",
      "Review 187: The view from my room was incredible and the room was gorgeous\n",
      "\n",
      "Review 188: Very comfy bed excellent location\n",
      "\n",
      "Review 189: The staff felt like family The hotel felt like home\n",
      "\n",
      "Review 190: Food was excellent if a little expensive The bar was very comfortable\n",
      "\n",
      "Review 191: really beautiful comfy local hotel with super staff\n",
      "\n",
      "Review 192: Beautiful property in the heart of Paris\n",
      "\n",
      "Review 193: Great staff Great location\n",
      "\n",
      "Review 194: Didnt have breakfast the most comfortable bed\n",
      "\n",
      "Review 195: Central location\n",
      "\n",
      "Review 196: Just everything\n",
      "\n",
      "Review 197: All the staff were very friendly and helpful Location is excelent for nearl every where and just a short boat trip from the tower\n",
      "\n",
      "Review 198: The room was super big and super comfortable\n",
      "\n",
      "Review 199: Staff were very accommodating\n",
      "\n",
      "Review 200: Location architecture and features of the property cleanliness and service provided by the staff\n",
      "\n",
      "Review 201: location and staff were superb\n",
      "\n",
      "Review 202: Quiet but extremely convenient amazing views over the park and Eiffel Tower Spacious room\n",
      "\n",
      "Review 203: Location\n",
      "\n",
      "Review 204: Great loacation huge rooms\n",
      "\n",
      "Review 205: No\n",
      "\n",
      "Review 206: No\n",
      "\n",
      "Review 207: No\n",
      "\n",
      "Review 208: The staff are perfect\n",
      "\n",
      "Review 209: Friendly staff Excellent service\n",
      "\n",
      "Review 210: No\n",
      "\n",
      "Review 211: All good\n",
      "\n",
      "Review 212: Staff were friendly great to deal with Breakfast was delicious\n",
      "\n",
      "Review 213: Room decoration high ceiling direct Eiffel Tower view from bedroom and living room\n",
      "\n",
      "Review 214: The location was perfect\n",
      "\n",
      "Review 215: The staff were very helpful which along with the setting made a very special trip a fantastic one\n",
      "\n",
      "Review 216: The preservation of the old style\n",
      "\n",
      "Review 217: The view of the Eiffel Tower from the very comfortable room It was nice and I d stay again\n",
      "\n",
      "Review 218: Everything\n",
      "\n",
      "Review 219: No\n",
      "\n",
      "Review 220: location staff elegance room\n",
      "\n",
      "Review 221: The bar area is very welcoming for a hotel\n",
      "\n",
      "Review 222: Had a lovely stay this really is a great place to stay Great staff and location\n",
      "\n",
      "Review 223: good location Room is big\n",
      "\n",
      "Review 224: Location is ideal Bed was very comfy\n",
      "\n",
      "Review 225: Size of the room\n",
      "\n",
      "Review 226: What croissants\n",
      "\n",
      "Review 227: The staff was wonderful and accommodating to our every need Our room was spacious and comfortable\n",
      "\n",
      "Review 228: the fantastic view on Paris\n",
      "\n",
      "Review 229: Great room service\n",
      "\n",
      "Review 230: Service and room amazing\n",
      "\n",
      "Review 231: Great very large corner room with a wonderful view\n",
      "\n",
      "Review 232: The location was amazing for us Across the street from the Louvre and Tulieres Gardens Great food around the location as well\n",
      "\n",
      "Review 233: Fabulous suite and excellant service\n",
      "\n",
      "Review 234: Excellent hotel I m looking forward to another visit\n",
      "\n",
      "Review 235: location is perfect\n",
      "\n",
      "Review 236: fantastic staff always attentive a wonderful view and great location\n",
      "\n",
      "Review 237: The room\n",
      "\n",
      "Review 238: A great room and perfect hotel\n",
      "\n",
      "Review 239: The Regina is simply superb in all aspects The location is excellent\n",
      "\n",
      "Review 240: location and stuff\n",
      "\n",
      "Review 241: The Regina Hotel made our entire trip relaxing No need went unattended Will stay again when back in Paris\n",
      "\n",
      "Review 242: Staff were extremely helpful and courteous room were very comfortable and view amazing\n",
      "\n",
      "Review 243: Consierge are wonderful Beautiful hotel\n",
      "\n",
      "Review 244: Concierge is amazing Hotel is lovely\n",
      "\n",
      "Review 245: Location staff and facilities\n",
      "\n",
      "Review 246: Sound proof Windows\n",
      "\n",
      "Review 247: View of the Eiffel tower from the room was amazing\n",
      "\n",
      "Review 248: Location Staff\n",
      "\n",
      "Review 249: Location Excellent staff\n",
      "\n",
      "Review 250: The staff were amazing the location was incredible and I have never had a better stay anywhere We will be returning every time we go to Paris\n",
      "\n",
      "Review 251: Great hospitality very service oriented hotel Thank you\n",
      "\n",
      "Review 252: bed very comfy\n",
      "\n",
      "Review 253: The hotel is beautiful great location great staff\n",
      "\n",
      "Review 254: Beautiful and elegant place Excellent location\n",
      "\n",
      "Review 255: Totaly pleasant staff made us feel very welcomed comfortable room and specious public space Classic decor with beatifull original details\n",
      "\n",
      "Review 256: Elegance of hotel and kindness of staff\n",
      "\n",
      "Review 257: Over all it was not worth the money\n",
      "\n",
      "Review 258: No\n",
      "\n",
      "Review 259: The location is excellent Very comfortable beds pillows and linen\n",
      "\n",
      "Review 260: Location perfect Staff very friendly and helpful\n",
      "\n",
      "Review 261: View location\n",
      "\n",
      "Review 262: The staff was lovely and helpful The location was fabulous\n",
      "\n",
      "Review 263: Excellent hotel staff great\n",
      "\n",
      "Review 264: Fabulous location just 2 minutes walk from the Louvre Staff were very friendly Hotel was very clean and comfortable\n",
      "\n",
      "Review 265: Rooms are renovated and very comfortable nice view to the Tour Eifel from the juniour suit Very good for sightseeing\n",
      "\n",
      "Review 266: The staff were excellent Very friendly and attentative We arrived and recieved an upgraded room to junior suite Great location as well\n",
      "\n",
      "Review 267: The staff were very friendly\n",
      "\n",
      "Review 268: No\n",
      "\n",
      "Review 269: Charming hotel very quiet room lovely and fresh d cor Staff very friendly\n",
      "\n",
      "Review 270: The beds were fabulous the staff very friendly and the bar very cosy\n",
      "\n",
      "Review 271: Friendly and kind staff\n",
      "\n",
      "Review 272: Staff were really friendly room was excellent and the location couldn t be any more central\n",
      "\n",
      "Review 273: Staff was amazing Location to the Lourve was more than ideal\n",
      "\n",
      "Review 274: The beds are extremely comfortable and the staff very attentive and friendly Concierge recommended restaurants were excellent\n",
      "\n",
      "Review 275: Good location luxury tradition hotel\n",
      "\n",
      "Review 276: Staff\n",
      "\n",
      "Review 277: Loved the stay and best location The staff gave us great advice and were very helpful\n",
      "\n",
      "Review 278: Very comfortable bed great view from bedroom noise proof\n",
      "\n",
      "Review 279: Rooms were beautifully furnished extremely comfortable beds Staff were excellent and very friendly For us the position of the hotel was perfect\n",
      "\n",
      "Review 280: The staff was friendly and efficient The hotel has been renovated\n",
      "\n",
      "Review 281: Excellent location and staff Beautiful authentically French hotel\n",
      "\n",
      "Review 282: we got an upgrade to a very spacious room with view on Jardin des Tuileries\n",
      "\n",
      "Review 283: Location\n",
      "\n",
      "Review 284: Very helpful concierge\n",
      "\n",
      "Review 285: The top class service They actually care bout people\n",
      "\n",
      "Review 286: The location and the English speaking staff\n",
      "\n",
      "Review 287: A classic Old World hotel updated immenities but with Old World hospitality Great and convenient location\n",
      "\n",
      "Review 288: Great location beautiful hotel and room very helpful staff\n",
      "\n",
      "Review 289: Staff charming in fantastic location will definatly book again\n",
      "\n",
      "Review 290: Wonderful kind and thorough staff Made you feel like you were family\n",
      "\n",
      "Review 291: Excellent staff room and location\n",
      "\n",
      "Review 292: Excellent service Very friendly staff Very comfortable room\n",
      "\n",
      "Review 293: Great position great view great service\n",
      "\n",
      "Review 294: No\n",
      "\n",
      "Review 295: friendly hotel staff location is great cleanliness is good nothing to spot on my eyes\n",
      "\n",
      "Review 296: place was perfect\n",
      "\n",
      "Review 297: Very attentive staff Excellent room junior suite\n",
      "\n",
      "Review 298: Staff so helpful and friendly Lovely sized room especially for Central Paris\n",
      "\n",
      "Review 299: The property was almost fairytale like It was just a sublimely beautiful hotel with the most amazing views of Paris\n",
      "\n",
      "Review 300: The service and attention to detail was great\n",
      "\n",
      "Review 301: Location was great room was upgraded and staff were very friendly\n",
      "\n",
      "Review 302: Valet Car Park Service\n",
      "\n",
      "Review 303: Very good location Very welcoming The size of the room is just right and functional Excellent over all We ll come back again next time to Paris\n",
      "\n",
      "Review 304: Free WiFi Very comfortable bed\n",
      "\n",
      "Review 305: Very good staff very helpful and kind\n",
      "\n",
      "Review 306: The location is fantastic\n",
      "\n",
      "Review 307: Good location Friendly staff\n",
      "\n",
      "Review 308: Excellent Service and views of Eiffel Tower the location is also very convenient\n",
      "\n",
      "Review 309: Efficient and friendliness of the staff\n",
      "\n",
      "Review 310: The comfort in the rooms\n",
      "\n",
      "Review 311: The staff were amazing So helpful Fantastic bar and lovely breakfast area Would go back without hesitation\n",
      "\n",
      "Review 312: Beautifull hotel great services Love it\n",
      "\n",
      "Review 313: Staff were all so helpful and cheery\n",
      "\n",
      "Review 314: Great hotel a Perfect Valentines weekend venue\n",
      "\n",
      "Review 315: The staff The location The view and room\n",
      "\n",
      "Review 316: excellent service and very attentive\n",
      "\n",
      "Review 317: All hotel superb\n",
      "\n",
      "Review 318: No\n",
      "\n",
      "Review 319: Great location helpful staff everything was beyond perfect\n",
      "\n",
      "Review 320: The hotel decor was beautiful I especially liked the bar it was a perfect setting to unwind after a day of exploring\n",
      "\n",
      "Review 321: Great staff always went one step ahead to provide the best service Even allowed us to stay for 2 hours more without charge\n",
      "\n",
      "Review 322: Elegance and Location were fantastic Close to metro and fantastic views The hotel was upscale and staff was excellent\n",
      "\n",
      "Review 323: Beautiful building with unique atmosphere right by the Louvre\n",
      "\n",
      "Review 324: Location staff and clean room\n",
      "\n",
      "Review 325: Incredible view of Eiffel Tower Arc de Triomphe and Tuileries Amazing and friendly staff particularly Celine Spacious room\n",
      "\n",
      "Review 326: Location and the size of the room is very good Good value for what you have paid for\n",
      "\n",
      "Review 327: Location\n",
      "\n",
      "Review 328: Fantastic location and very friendly staff\n",
      "\n",
      "Review 329: location history and service\n",
      "\n",
      "Review 330: Excellent location Staff are all very kind Rooms are newly decorated Parking available infront of The building\n",
      "\n",
      "Review 331: The Location and the Staff are great\n",
      "\n",
      "Review 332: Beautiful individual hotel comfortable rooms in a great location Staff were very friendly and helpful\n",
      "\n",
      "Review 333: Servie and location was really good\n",
      "\n",
      "Review 334: Very Nice rooms just renewed Good Location\n",
      "\n",
      "Review 335: Location\n",
      "\n",
      "Review 336: Position staff\n",
      "\n",
      "Review 337: Centrally located comfortable rooms impeccable staff Great Concierge\n",
      "\n",
      "Review 338: Location excellent Staff wonderful\n",
      "\n",
      "Review 339: good location cozy and luxurious room good breakfast very clean I recommend this hotel highly\n",
      "\n",
      "Review 340: Fantastic location Upgrate room Heritage building and emotion\n",
      "\n",
      "Review 341: No\n",
      "\n",
      "Review 342: Delightfull staff and perfect location Very stylish building\n",
      "\n",
      "Review 343: No\n",
      "\n",
      "Review 344: excellent location helpful staff\n",
      "\n",
      "Review 345: Fabulous location Lovely room with view\n",
      "\n",
      "Review 346: the Staff was excellent small boutique hotel but was good for my son and I\n",
      "\n",
      "Review 347: wonderfull location perfect and kind and helpfull staff nice hotel with old french style\n",
      "\n",
      "Review 348: good\n",
      "\n",
      "Review 349: Everything was perfect Your staff was excellent\n",
      "\n",
      "Review 350: Location\n",
      "\n",
      "Review 351: The hotel staff went out of their way to make our stay special as it was our anniversary The location is great walking distance to most museums\n",
      "\n",
      "Review 352: I liked everything there\n",
      "\n",
      "Review 353: Staff where very helpful especially the concierge\n",
      "\n",
      "Review 354: Location\n",
      "\n",
      "Review 355: Location and friendliness helpfulness of ALL the staff no exceptions\n",
      "\n",
      "Review 356: Location and quality of furnishings Great view\n",
      "\n",
      "Review 357: Location Cleanliness\n",
      "\n",
      "Review 358: Everything was breath taking The hotel itself was so beautiful but the staff were so helpful and welcoming\n",
      "\n",
      "Review 359: Location staff and food was all amazing Plus the whole environment was exquisite but still relaxed\n",
      "\n",
      "Review 360: Great reception staff particularly Helene Friendly greeting very helpful\n",
      "\n",
      "Review 361: Ambience is superb staff are professional and friendly location is unbeatable for a visit to Paris\n",
      "\n",
      "Review 362: The location The staff The lobby\n",
      "\n",
      "Review 363: Just a great hotel beautiful clean comfortable and perfectly located\n",
      "\n",
      "Review 364: Unbelievable location very clean and comfortable\n",
      "\n",
      "Review 365: All staff very helpful and welcoming Excellent location\n",
      "\n",
      "Review 366: everything\n",
      "\n",
      "Review 367: Location nice view\n",
      "\n",
      "Review 368: No\n",
      "\n",
      "Review 369: The staff were wonderful from the word go Nothing was too much bother The decor was superb and facilities excellent Would highly recommend it\n",
      "\n",
      "Review 370: Staff was very kind\n",
      "\n",
      "Review 371: The reception and conceirge were all excellent very helpful to me with my two young daughters\n",
      "\n",
      "Review 372: Very comfortable\n",
      "\n",
      "Review 373: Beautiful hotel Very helpful staff GREAT location right off La Rambla but still quiet Rooms are great well equipped nice bathrooms comfy bed\n",
      "\n",
      "Review 374: The hotel was modern and clean The location was excellent right next to the shops and cafes and a 10 minute walk down to the port 20 minutes to the beach There are excellent restaurants with 5 10 minute walking distance All travel links 2 minutes around the corner from the hotel there is the metro trains buses and taxied Being in a busy area you can t hear any noise from outside at night The hotel staff were friendly and helpful Would highly recommend staying here well worth every penny\n",
      "\n",
      "Review 375: The location was great Walking distance to many attractions\n",
      "\n",
      "Review 376: We stayed in this area only one day We visited all the attractions that we planned to see so for us everything was perfect Also the staff was very kind and friendly The room was big and clean\n",
      "\n",
      "Review 377: hotel is nice\n",
      "\n",
      "Review 378: The staff at the front desk was very accommodating and friendly The room is nicely done and decent in size the location is so central a stone throw from the metro station\n",
      "\n",
      "Review 379: Perfect location within walking distance of shops and Las Ramblas area Breakfast food was nice Staff were great and very helpful at front desk Room clean and very comfortable I would definitely return to this hotel next time i come to Barcelona\n",
      "\n",
      "Review 380: Comfortable family room with comfy beds and a great bathroom Great location steps from Plaza Catalunya Las Ramblas and Shopping All tours originate close by and many places for coffee and food Loved the location and the staff was very helpful\n",
      "\n",
      "Review 381: The center of the center Everything is in a walk distance The bad is the most comfortable one I had in an hotel room The body shampoo is extremely good\n",
      "\n",
      "Review 382: The room was pretty and clear facilities were new and in good shape The crew was perfect and gave an excellent service\n",
      "\n",
      "Review 383: Clean tidy room with comfy beds Staff knew who we were and even that we d been there last year Nothing was any trouble to them and they were attentive but unobtrusive Attention to detail very good and we were made to feel like they were glad to have us staying with them\n",
      "\n",
      "Review 384: balcony rooms are terrific super staff ask them for assistance they will gladly help you great breakfast close to everywhere along Las Ramblas easy access to car rentals airport museums and points of interest all close highly recommended\n",
      "\n",
      "Review 385: Location\n",
      "\n",
      "Review 386: The Staff especially Elena who was very helpful and accommodating when I requested my room to be changed when I realised I was staying next door to a Stag do They were at capacity and I know that I was lucky that they were able to find me another room\n",
      "\n",
      "Review 387: The location was great the staff was very friendly and it was exactly what was needed for our stay\n",
      "\n",
      "Review 388: Very friendly and helpfull staff I checked in at night 2 am i was not happy with my room and hotel was completely full but they helped me and changed my room Also they have arranged special morning early breakfast for me\n",
      "\n",
      "Review 389: In general the hotel is pretty much ordinary nothing too special The room was nice and the service was good But by far the best thing about the hotel were the staff All the desk people were very kind and helpful Especially one girl called Marta She was absolutely great Very helpful with everything I asked Great advice and suggestions And she s just so nice and charming\n",
      "\n",
      "Review 390: Staff were great Food is healthy with no extra sugars\n",
      "\n",
      "Review 391: The location close to Placa Catalunya makes it so easy for transport and meeting point for the tours The aerobus from the airport drop you directly there so its cheap to come and go from the airport to the hotel We got welcoming cookies at the arriving It was my birthday during the stay and they bring a cake and a birthday card to the room The room was cleaned each day\n",
      "\n",
      "Review 392: Thoroughly enjoyed our stay at the Regina Hotel We had 3 adults in our room and we could not fault our 7 night stay Staff bedding breakfast location facilities absolutely excellent\n",
      "\n",
      "Review 393: Wonderful comfortable bed extremely quiet room perfect for sleeping Room small by North American standards but very comfortable\n",
      "\n",
      "Review 394: central location practically on Catalunia Squ friendly staff\n",
      "\n",
      "Review 395: Location\n",
      "\n",
      "Review 396: Almost perfect location within walking distance to loads of sights and good restaurants Really friendly and helpful staff\n",
      "\n",
      "Review 397: The staff were very helpful friendly And the breakfast had a good selection of food The room wasn t huge but enough space for the amount of time you are in it\n",
      "\n",
      "Review 398: great location next to pla a catalunya Close to Metro station and buses Many restaurants and shops around the hotel Right at the beginning of the Rambla street Tasty breakfast Clean and comfort room free wifi and printer nice staff very recommended\n",
      "\n",
      "Review 399: The family room was HUGE The staff fpund out it was my son s birthday and had a birthday card cake and candle waiting for him in our room after a day out sighseeing The staff are super friendly and helpful they arranged a fantastic night out to see some authentic flamenco\n",
      "\n",
      "Review 400: Most of the rooms do not have windows to the exterior that make them very dark last day it was a problem with the odor of the water excess of Clorox I was wearing a silver ring that became dark and took me a week to get rid of the smell mostly in my hair Other customers were complaining too\n",
      "\n",
      "Review 401: We asked to change the room after our first night as we couldn t see out of the window The staff were very accommodating and changed our room without fuss There is a really good breakfast with a selection of cold meats fresh fruit pastries and hot food The bar in the hotel is pleasant and is nice and comfortable after a long day\n",
      "\n",
      "Review 402: We had a wonderful stay at Hotal Regina The location was excellent with easy access to various sights and transport options The staff was friendly and attentive from greeting the kids with balloon animals on arrival to providing excellent restaurant recommendations the breakfast was great best bacon we ve ever had Would certainly stay here again if visiting Barcelona\n",
      "\n",
      "Review 403: Very very good location friendly staff and nice choice of breakfast\n",
      "\n",
      "Review 404: The room was comfortable and the hotel staff were very helpful They booked a trip to Montserrat for us over the phone and it was all very smooth The location is also excellent both for transport from the airport and local exploring\n",
      "\n",
      "Review 405: The room was thorougly cleaned with fresh towels every day We got coffee and tea in the room loved the bathroom\n",
      "\n",
      "Review 406: Good location and access to Ramblas and Metro Easy walking distance to quite a few sights Friendly staff and clean rooms Tea making facilities in room\n",
      "\n",
      "Review 407: We were fortunate to have a room at the front of the hotel with a good view and a balcony which was a bonus The room was small but well proportioned comfortable bed and very nice shower Excellent location and 1 minute from Catalunya metro station The breakfast was very good with a great selection\n",
      "\n",
      "Review 408: Location is very close to shopping malls and tourist locations Staff were very helpful and friendly When we were leaving early they manage to give us a picnic pack\n",
      "\n",
      "Review 409: Location location location And bathroom and breakfast was very good tasty and healthy and with very good service\n",
      "\n",
      "Review 410: The bed was amazing I wish I could take it back to London with me The tea was delicious Best cups of tea I ve ever had Perfect distance from all attractions Staff were beautiful people\n",
      "\n",
      "Review 411: Lovely room fragrance and chillout music in Reception areas Very good variety quality of food at breakfast Very clean nice room decent size and good bathroom\n",
      "\n",
      "Review 412: Great location near the Placa Catalunya area Walking distance to La Ramblas Gothic quarter La Bouqeria and other tourist spots Cheapest and comfortable way to arrive is to take the Aerobus from the aiport to get to Placa Catalunya and walk 3 min to the hotel Underground metro bus station etc is very nearby with lots of shops and restaurants to choose from You can contact the hotel and they will arrange a rental car if you need one for your Monserat trip\n",
      "\n",
      "Review 413: The room was spacious clean and comfortable Internet is fast Location is great near to subway and La Rambla Right in front of the hotel there is a taxi stand with lots of taxi queuing\n",
      "\n",
      "Review 414: Location was perfect we got the Aerobes from the Airport which stopped at the back of the Hotel The hotel was lovely clean and room was nice staff were friendly and helpful\n",
      "\n",
      "Review 415: Very comfortable bed excellent location and friendly staff Good value overall\n",
      "\n",
      "Review 416: Staff and location were perfect\n",
      "\n",
      "Review 417: Staff were wonderfully and very friendly Everything is in walking distance of the hotel so perfect\n",
      "\n",
      "Review 418: Very friendly staff\n",
      "\n",
      "Review 419: Location Lobby is nicely done\n",
      "\n",
      "Review 420: Perfect location beautiful hotel comfortable bed and the friendliest most helpful staff I ve encountered at any hotel especially Laura Absolute fantastic hotel\n",
      "\n",
      "Review 421: The location Really great next to subway lines the rambla shops the tourist busses\n",
      "\n",
      "Review 422: Hotel location is amazing right in centre of Barcelona everything is walking distance Public Transport facilities are superb Hotel itself is very clean staff is polite very good breakfast\n",
      "\n",
      "Review 423: The location is perfect for shopping restaurant and hop and hop off Staff was friendly\n",
      "\n",
      "Review 424: The location the staff and facilities were excellent The hotel is very clean our family room was large and the breakfast very good\n",
      "\n",
      "Review 425: I liked the location of this hotel it s near everything\n",
      "\n",
      "Review 426: Staff v helpful Good location for skiing\n",
      "\n",
      "Review 427: The location was absolutely perfect Right by Plaza Catalunya with taxi rank outside and near main stores restaurants and close to local markets The free wifi was fast and didn t have any problems with it Staff were friendly and very accommodating and I would definitely stay here again\n",
      "\n",
      "Review 428: There are few hotels in Barcelona having family suites Hotel Regina is a perfect choice for families with its great location and friendly staff\n",
      "\n",
      "Review 429: The staff was very friendly The location was perfect for us A street away from the middle The room was modern and minimalistic We were 3 people staying in one room and we didn t feel overly crowded\n",
      "\n",
      "Review 430: I ve been to Barcelona multiple time and to different hotels all in the center but this stay was from far THE best the hotel has the perfect location for shopping visiting brunch restaurant bars The rooms are cosy and clean and the staff is adorable and helpful The couches at the reception are just perfectly comfortable I highly recommend it\n",
      "\n",
      "Review 431: Room was good plenty of choice for breakfast although the hot selection could have been slightly better E G Baked Bean s rather than steamed veg But apart from that it was perfectly adequate Staff were very helpful and the hotel was in a great location Would definitely recommend hotel\n",
      "\n",
      "Review 432: Perfect location very nice staff excellent breakfast nice and cosy interior in lobby bar Greetings to barman from lobby bar so kind and helpful person real gentleman\n",
      "\n",
      "Review 433: I loved the lobby and bar area really great to sit for a cup of tea or a drink and tapas felt like home\n",
      "\n",
      "Review 434: Bedroom nice and comfy bed and pillows Good choice at breakfast Polite and friendly staff Nice bar area\n",
      "\n",
      "Review 435: The bar staff were lovely\n",
      "\n",
      "Review 436: Overall a great stay Hotel was in a good Central location Hop On Hop Off Bus stops just across the road 25 Rooms had a traditional and interesting layout Staff were very friendly and helpful Being opposite Plaza Catalunya metro was handy when travelling to and from office and also to many other attractions like port and la ramblas Breakfast was very good\n",
      "\n",
      "Review 437: Lovely staff service location\n",
      "\n",
      "Review 438: Staff were good same as previous trip Even helped with request for balcony view Much appreciated I travel to Barcelona every year Regina is now my hotel of choice\n",
      "\n",
      "Review 439: 1 very friendly staffs they ve been extremely helpful 2 location is amazing it takes about 1 2 minutes from plaza catalunya by foot 3 very clean cozy room\n",
      "\n",
      "Review 440: Location Wifi Staffs Excellent Will stay there again\n",
      "\n",
      "Review 441: Fabulous location room with a Juliette balcony Staff very accommodating and helpful Perfect location\n",
      "\n",
      "Review 442: I ve been going here for 8 years now and they have very nicely renewed the hotel I know that I ll be going there again at least 2 times a year D\n",
      "\n",
      "Review 443: Lovely hotel in fantastic spot beds very comfortable\n",
      "\n",
      "Review 444: The staff were lovely\n",
      "\n",
      "Review 445: The staff at the reception was very helful the hotel is at great location I couldn t choose better Next time I will be staying at the same place\n",
      "\n",
      "Review 446: nicest gluten free bread cooked fresh on request at breakfast Location perfect room lovely and bed so so comfy struggled to get out of bed in the morning Dressing gown and slippers were a nice touch Shame toiletries were not replenished daily clean towels daily which was heaven\n",
      "\n",
      "Review 447: The staff was super helpful and kind and friendly the location is just amazing It s close to almost everything I really liked it\n",
      "\n",
      "Review 448: The position is excellent The breakfast was excellent You can use the hotel wi fi from the coffee shop on the corner The staff were helpful and pleasant\n",
      "\n",
      "Review 449: Really enjoyed our stay and will definitely consider staying there again and recommending it to our friends\n",
      "\n",
      "Review 450: Location is great friendly efficient staff\n",
      "\n",
      "Review 451: Staff was super friendly Location was great Hotel was clean and beds comfy Close to the shopping and the hop on hop off bus was 2 minutes up the street The breakfast that was included was very good\n",
      "\n",
      "Review 452: Location Clean lobby\n",
      "\n",
      "Review 453: Courteous staff newly renovated rooms great location good breakfast\n",
      "\n",
      "Review 454: It was a beautiful Hotel and it was in the perfect location to walk where we wanted to go The staff was very friendly and helpful I was traveling with my sister and we both had an excellent time We shopped a lot and did some sightseeing We loved it\n",
      "\n",
      "Review 455: My Daughter has a wheat allergy and for breakfast they went out of their way to make her gluten free breakfast items The staff were excellent and always helpful\n",
      "\n",
      "Review 456: Very good location friendly and helpful staff\n",
      "\n",
      "Review 457: Bad reception dirty room 9 square meters no heating super noisy bed for kids and certainly not two adults all in all not worth more that a cheap economic hotel we lost our money and came out sick b cause of the smell and the freezing room\n",
      "\n",
      "Review 458: Loved it was close to everthing very central to the city centre\n",
      "\n",
      "Review 459: Location great\n",
      "\n",
      "Review 460: Central location 2 minutes walk from La Rambla and hop on hop off bus stop Hotel staff and porter were very helpful in providing guidance to keep attraction Good selection on Continental Breakfast and plenty of food\n",
      "\n",
      "Review 461: Very helpful staff Well appointed room perfect for my sister and me traveling together\n",
      "\n",
      "Review 462: The hotel is very well located and staff is indeed friendly and helpful one can count on them Comfortable bed and clean bathroom\n",
      "\n",
      "Review 463: Breakfast buffet was good staff very helpful and room was impeccably cleaned each day\n",
      "\n",
      "Review 464: Staff were extremely helpful rooms were spacious clean and well serviced Have stayed here before and will definitely stay again and recommend it to others\n",
      "\n",
      "Review 465: Nice comfortable bed good location good wifi signal\n",
      "\n",
      "Review 466: The buffet breakfast had great variety delicious and excellent coffee The bedroom was spacious very quiet even though overlooking the front street air conditioning was very good and the beds very comfy Can t wait to go back\n",
      "\n",
      "Review 467: Fabulous location just off the Plata de Catalunya and the Rambles The staff were all very friendly Included breakfast was much appreciated\n",
      "\n",
      "Review 468: Clean comfortable room twin wash basins plenty of space we did book a superior room\n",
      "\n",
      "Review 469: Central location right next to Plaza Catalunya easy access to everything Modern and clean hotel room with a shower cladded in marbles to die for prompt service and grand looking Loved and enjoyed the stay thoroughly will definitely stay back at the same hotel the next time we are visiting Metro bus and taxi right on your doorstep\n",
      "\n",
      "Review 470: Really good location for transport to and from airport and around the city Room spacious quiet and air con worked like a dream which is how we slept\n",
      "\n",
      "Review 471: Staff friendly and helpful We got upgraded to a better room with no cost involved\n",
      "\n",
      "Review 472: Great location Very close to all public transports like bus metro taxi or city tours 24 hour open reseption Also breakfast is very good Personel is very helpful\n",
      "\n",
      "Review 473: Location is just steps away from Plaza Catalunya and the train line Very convenient Very clean simple yet comfortable facility Staff is very helpful accommodating and can speak English There were 4 of us in one room and the hotel prepared the details down from extra beds made ready to number of towels and bottled water We didn t have to call the front desk for any additional request We were well taken care of from quick and easy check in to a ready room for rest and relaxation Big plus after a very long day of traveling Would love to stay here again when in town\n",
      "\n",
      "Review 474: Staff was helpful and very pleasant room was comfortable for the money Very family positive feeling Breakfast was good\n",
      "\n",
      "Review 475: Confort staff and location were excelent\n",
      "\n",
      "Review 476: Excellent location at the head of la rambla within easy reach of the metro and tourist buses at place de cataluyna Nice sized room with very effective air con which was very welcome\n",
      "\n",
      "Review 477: The property is in an excellent location to LA Rambla and other places of interest Hotel good value for money and staff very friendly professional and he pful\n",
      "\n",
      "Review 478: Excellent location\n",
      "\n",
      "Review 479: From the attentive and well informed staff to the bartender the simple and clean decor of rooms and spaces to the well appointed breakfast buffet our stay was marvelous Will be back in November Can t leave out the great lovation as well as the reasonable costs We had two rooms I was envious of our teenagers double room the wife and I opted for the queen bed albeit a bit smaller room\n",
      "\n",
      "Review 480: Location\n",
      "\n",
      "Review 481: The Staff are the most helpful in the reception and they do it with pleasure to help you find locations or transport etc\n",
      "\n",
      "Review 482: Very comfortable stay two nights Great location for getting around Barcelona Wouldn t hesitate to stay again Recommended\n",
      "\n",
      "Review 483: No\n",
      "\n",
      "Review 484: Great location Comfortable bed and pillows Friendly staff Good facilities Clean\n",
      "\n",
      "Review 485: No\n",
      "\n",
      "Review 486: The cleanliness of the place no carpet wood floor loved it The room design was totally our style It was apparently renovated earlier this year they did a great job Staff was very helpful anytime\n",
      "\n",
      "Review 487: The Staff are very friendly and accommodating Reception assisted with making dinner reservations and arranged shuttles to La Rocca shopping village They also provided us with valuable information to get around the city with ease and also provided great tips on the best beaches in Barcelona The hotel is located in a quieter part of Plaka Catalunya but conveniently situated near la ramblas and all boutique stores and restaurants The hotel still maintained its Spanish authenticity while still creating a modern feel\n",
      "\n",
      "Review 488: Hard to beat the location just off Plaza Catalunya within easy walking distance of many of Barcelonas main attractions and this more than compensated for small shortcomings Taxis are quite cheap and plentiful and are a good way to save tired legs\n",
      "\n",
      "Review 489: it had facilities that I have not had at other hotels\n",
      "\n",
      "Review 490: I will have opportunity to highly recommend your hotel Particularly friendly staff and much appreciated as senior solo guest Excellent service and very professional and will stay again in future Excellent location Lovely breakfast and good value for rate Personal cheers to you all Patricia australia\n",
      "\n",
      "Review 491: Helpful staff especially Michel Very central Great rooms comfy beds good size rooms Very quiet and fabulous air con Breakfast tortilla espanyol delicious\n",
      "\n",
      "Review 492: Close to the gothic quarter but not on top of it so less noisy A quaint little cafe around the corner great for breakfast The hotel has been retrofitted to be totally modern inside A taxi stand outside the hotel made getting to the port easy\n",
      "\n",
      "Review 493: The location and the staff were very nice\n",
      "\n",
      "Review 494: Staff very helpful and well informed about the city and local events Appreciated the hotel s proximity to restaurants shopping metro stations and airport shuttle Great breakfast buffet Quiet comfortable and clean accommodations\n",
      "\n",
      "Review 495: The hotel is at a very good location At the heart of Barcelona The toilets showers were clean also they were renovated The hotel was very clean and the staff was over welcomed My friends had the best holidays Highly recommended\n",
      "\n",
      "Review 496: Clean modern hotel in excellent location close to all main transport links in Barcelona Very comfy beds with lots of space in bedrooms Staff on reception desk very helpful with checking us in and answering any questions\n",
      "\n",
      "Review 497: perfect location\n",
      "\n",
      "Review 498: Staffs are very helpful I booked this hotel for my parents trip to EU They don t speak any English and I am not with them I asked the hotel staffs to help them finding taxi to airport and lead them to restaurant by a simple phone call and they showed me what a good hotel service is\n",
      "\n",
      "Review 499: location clean family hotel\n",
      "\n",
      "Review 500: Hotel Regina is a gem located in the perfect spot for a few days in Barcelona whether coming in for a cruise or just to visit this great city on your own The beds were very comfortable best on our trip The cubby for hanging clothes and shelving cubes were great for getting organized The bathroom was large and nice to have 2 separate sinks outside the tub toilet area Nice high quality soap dispensers with upgraded soaps Also liked having a bathtub to relax after a full day of sightseeing The pull out sofa bed was newer and had a decent mattress for our teen The hotel had a lobby to relax upon return and a bar Staff were very pleasant\n",
      "\n",
      "Review 501: Location is very centre Room is very good size Like the his and her sink Coffee tea maker safe and fridge are all very usurious Free wifi is definitely a must Reception staff are so friendly\n",
      "\n",
      "Review 502: I have never seen such a large bed in my entire life And it was comfy too We had a triple room and our son had a little privacy being in an alcove area off the main room Sheets and towels changed often and lovely toiletries provided\n",
      "\n",
      "Review 503: Excellent breakfast though it had to be paid extra Very helpful and friendly staff Right in the centre off Plaza Catalunya Many interesting places in walking distance\n",
      "\n",
      "Review 504: excellent location and the hotel was very beautiful the room was a nice size bathroom was modern with marble and decor was great which made for a comfortable stay\n",
      "\n",
      "Review 505: Breakfast setup was very good\n",
      "\n",
      "Review 506: Receptionist at the hotel is very friendly\n",
      "\n",
      "Review 507: Great location Nice modern hotel great bar breakfast area also\n",
      "\n",
      "Review 508: Great location so close to Plaza Catalu a and the Ramblas Buses and taxis are available all the time Also Paseo de Gracia is within walking distance There s a Starbuck s right around the corner and many good places to eat are also within walking distance\n",
      "\n",
      "Review 509: Great location modern minimalistic room design great old style lobby excellent service at the reception friendly helpfull Superb beds like a cloud and exquisite marble bathrooms mmmm\n",
      "\n",
      "Review 510: Location is amazing Right in the heart of the best shopping restaurants and transport within 2 min walk Breakfast was good\n",
      "\n",
      "Review 511: Great location room was clean staff at the reception was lovely Breakfast was ok\n",
      "\n",
      "Review 512: The location is perfect Superior room size was big\n",
      "\n",
      "Review 513: Hotel Regina is the sister hotel to Hotel Pulitzer and right next door Regina presents a beautiful lobby as well as Pulitzer and staff are just as professional Regina s rooms are a bit larger bit slightly older The hotel has all the comforts you need and get next door The location cannot be beat for being central in Barcelona We could get to even the beach with 10 15 minutes walking Plus most tours start near the Placa Catalunya so it s convenient when meeting up As well the Metro and train is easily accessible from this hotel\n",
      "\n",
      "Review 514: We live 20 minutes away in a town and we spent a night here for our anniversary to get some alone time from our children and busy lifestyle Even though we are very familiar with the city our one night stay here really felt like a great little vacation It is in a great spot very central and we had a room that looked over a very busy street but it was very well insulated from the noise The bed was very comfortable room was very clean the staff was really friendly we didn t try the restaurant because we had reservations elsewhere at night and we tried a great little breakfast joint that was a short walk away Barcelona is full of great restaurants and there are so many close by to Hotel Regina but we did take a look in the restaurant and it looked like a comfortable setting\n",
      "\n",
      "Review 515: Great location next to placa de catalunya\n",
      "\n",
      "Review 516: The location and the friendliness of the staff The room was adequate\n",
      "\n",
      "Review 517: Very warm and helpful staff Best possible location bang in the centre of everything\n",
      "\n",
      "Review 518: Staff so nice Location super Super quiet room as requested\n",
      "\n",
      "Review 519: Location was central near the hop on and hop off buses\n",
      "\n",
      "Review 520: Location\n",
      "\n",
      "Review 521: The beds and the interiers in the room was modern and very nice We 4 girls would recomend this hotel to others that want a pleasant stay at a beautiful hotel in Barcelona\n",
      "\n",
      "Review 522: Wonderful location and lovely rooms Everything was clean Staff helped us get a rental car for two days when we couldn t find a good deal online Very helpful and cheerful\n",
      "\n",
      "Review 523: The location just off the square greatly contributed to the peaceful character of the hotel The staff was friendly and helpful without being overly informative\n",
      "\n",
      "Review 524: All was very good staff excellent helpful even though several rainy days taxi driver from airport ripped us off he added and added to 47 Europe Took my credit card since did not have euros And made it come up to 47 Pouring rain did not get receipt and could not get to change it Hotel was very sad\n",
      "\n",
      "Review 525: 1st class location handy for shopping and La Rambla Extremely helpful and friendly staff very welcoming Great breakfast Comfy bed\n",
      "\n",
      "Review 526: Very comfy Nice warm shower bathrobe and slippers The bed was great Personal was very polite and nice\n",
      "\n",
      "Review 527: We liked the location which was absolutely perfect and the hotel kindly upgraded our room 219 because the one we had booked wasn t ready when we arrived which was well before the official check in time It was spacious spotlessly clean had a very large comfortable bed and excellent bed linen It didn t have a view but there was a fantastic shower in the clean bright marble bathroom and very efficient quiet air con so all in all we were pleased with our room\n",
      "\n",
      "Review 528: Excellent location cannot beat it Staff was very friendly beds were comfortable Room size was good we were a family of three\n",
      "\n",
      "Review 529: Regina is well located with just a minute walk to the city square P Catalunya Hotel room was cozy and clean Our special thanks to David San Nicol s for helping us with early check in Breakfast was a sufficient spread and good We enjoyed Barcelona and recommend this hotel highly\n",
      "\n",
      "Review 530: We loved the room the fact that even though we were sharing a room there was a sliding door between the kids and us\n",
      "\n",
      "Review 531: The concierge was extremely helpful in advising us how to plan our weekend with what we wanted to do extra consideration taken due to St George s book day in Barcelona\n",
      "\n",
      "Review 532: The staff were extremely friendly They catered to the needs of the travellers The location of the hotel is great It s close to the subway station and numerous bus stops The restaurants and shopping areas around the hotel was great I highly recommend this hotel\n",
      "\n",
      "Review 533: Central location with a central location noise All round a good hotel for weekend break\n",
      "\n",
      "Review 534: Location accessible to transport and to main areas in center of the city e g Ramblas Gothic neighborhood The hotel is very clean and comfortable and staff is friendly and helpful\n",
      "\n",
      "Review 535: The Regina is an old hotel but very well kept up The room was very clean and the bed was comfortable The ceiling was unusually high which lent it an elegant air The location was great about 100 yards from La Rambla The bartender made these wonderful sangria drinks for us We highly recommend them\n",
      "\n",
      "Review 536: The check in is Quick and professional The room was clean proportionate to its space and the TV and internet services worked great\n",
      "\n",
      "Review 537: really nice clean hotel comfortable bed excellent bathroom little balcony with no view but nice to be able to step outside\n",
      "\n",
      "Review 538: The location\n",
      "\n",
      "Review 539: the family room was spacious and designed in such a way as to be almost in two parts which was perfect for the two that wanted to watch tv and the two that didn t\n",
      "\n",
      "Review 540: Modern rooms with an old touch Location is very central Satff id very helpfull\n",
      "\n",
      "Review 541: Location Very nice person at the check out\n",
      "\n",
      "Review 542: Fast repair of toilet lavabo Clean toilet n bathroom Two elevators Good size room Good breakfastircon\n",
      "\n",
      "Review 543: The position close to Plaza de Catalunya The Room was confortable and quiet The staff was very professional and helpfull Very good ratio quality money\n",
      "\n",
      "Review 544: Reception staff most helpful with booking football tickets and advising us on trips and the Metro Other staff very pleasant and friendly Excellent shower Location near to Place de Catalunya hop on off buses shops taxis Metro and La Rambla\n",
      "\n",
      "Review 545: The hotel is just a couple of minutes walk from La Rambla and is in a very central location without being disturbed by traffic noise Reception staff were extremely helpful the room was large comfortable and cleaned beautifully each day Can t comment on the food here as we ate out\n",
      "\n",
      "Review 546: Nice breakfast Close to Ramble and city center\n",
      "\n",
      "Review 547: Excellent location Room updated and clean Fairly good but basic breakfast\n",
      "\n",
      "Review 548: Perfect location for a spending a few days in Barcelona Friendly staff Room is very clean\n",
      "\n",
      "Review 549: Accesible location to the best parts of town Walking distance from the Ramblas Old Town restaurants etc Wonderful staff Room service was good Room was refurbished in good taste\n",
      "\n",
      "Review 550: This hotel was in a great location and friendly staff\n",
      "\n",
      "Review 551: Excellent location very close to Placa Catalunya Friendly staff who gave us a free upgrade to a spacious room on the top floor Great breakfast and trendy interior Also the room was suprisingly quiet for such a prime location and busy square close by\n",
      "\n",
      "Review 552: The hotel staff are courteous and helpful the reception staff are exceptionally helpful and they all speak good English the cleaning ladies clean the room s every day leaving fresh clean towels bed linen and the room immaculate\n",
      "\n",
      "Review 553: The Staff were welcoming on arrival The building is pretty\n",
      "\n",
      "Review 554: Location is fantastic 2 mins walk from the Plaza Catalunya metro station and the bus stops for the aerobus to from the airport Nice modern rooms currently refurbishing the rooms but the work is only done during the day when you are out exploring Staff were friendly and gave us advice map to help us\n",
      "\n",
      "Review 555: The staff is absolutely the best and friendliest The rooms are clean and the quad is huge with 4 real and comfortable beds Location is perfect near Plaza Catalu a were all transportation buses depart It is at the top of La Rambla but not too close which was perfect\n",
      "\n",
      "Review 556: The location was great Right by the square\n",
      "\n",
      "Review 557: Location close to Placa Catalunya Excellent breakfast Fresh juice lots of sweets and savoury dishes Nice bathroom with rain shower nice view kind staff Have a cocktail at Milano Cocktail bar just 3 minutes away from the Regina Live music pefect drinks and to an affordable price Favorite restaurant Les Quinze Nits Placa Reial I booked with high discount there was some maintenance painting no problem for me\n",
      "\n",
      "Review 558: hotel location is just off Placa de Catalunya and central to bus underground train stations all shops sites etc rooms spacious spacious lounge area\n",
      "\n",
      "Review 559: Location best Staff attitude excellent For person persons who come to visit Barcelona for business or for tour if they can afford Regina hotel is best at reasonable price its location at the Catalu a place is fantastic The hotel is very clean\n",
      "\n",
      "Review 560: The location of the hotel is very good The reception employies were very helpfull and kind\n",
      "\n",
      "Review 561: The staff is extremely helpful and always happy to help us with reccommendations of places where to go not to go I asked for an extra welcoming upon the arrival and everything went extra smoothly thanks to Jose at the reception The location is perfect within walking distance to heart of the city so you do not need to travel a lot to see the sights\n",
      "\n",
      "Review 562: The location is perfect you are in the centre and close to public transport The breakfast is delicious and the breakfast room is in lovely design and staff is friendly and helpful\n",
      "\n",
      "Review 563: It was a great location Staff were very helpful and friendly\n",
      "\n",
      "Review 564: All the staff were very helpful and happy to help you with anything the hotel was very clean and tidy which I thought was exceptional due to them having a renervation work The location was perfect You are walking distance to las rambles sight seeing buses and shops\n",
      "\n",
      "Review 565: We stayed at Regina 1 night as there were renovation works Management was kind to shift us to the next door hotel as the noise was unbearable We stayed the 4 remaining nights there Location is great staff are helpful rooms are good\n",
      "\n",
      "Review 566: Very central close to buses and metro Staff friendly and helpful on arrival\n",
      "\n",
      "Review 567: The staff was friendley and helped us a lot They know alot about the city and recommenedd us about a lot of cool places to eat and see\n",
      "\n",
      "Review 568: Location was good Room was reasonably clean\n",
      "\n",
      "Review 569: the staff is very pleasant and helping they even upgraded us to a better room because of our honeymoon location is super good and the rooms are great\n",
      "\n",
      "Review 570: Great location\n",
      "\n",
      "Review 571: Good location only few steps from Catalunia Plaza Nice and clean room with a small balcony Good breakfast buffet Helpful and friendly staff\n",
      "\n",
      "Review 572: Excellent location for exploring city Near busses and metro\n",
      "\n",
      "Review 573: No\n",
      "\n",
      "Review 574: The price was good for the location being very close to the ramblas This was also due to the fact that they just started to re new the hotel for the next 3 months\n",
      "\n",
      "Review 575: Location Clean\n",
      "\n",
      "Review 576: It s location is ideal since it is just a little walking distance from plaze de catslunyia All tourist coaches start and end there\n",
      "\n",
      "Review 577: The location is super fantastic the stuff are really helpful when there s anything you need from them They ll give you the right places to visit the right restaurants to go and the right decisions to make Really enjoyed my stay\n",
      "\n",
      "Review 578: Easy and fast check in Friendly and very helpful staff Good buffet breakfast\n",
      "\n",
      "Review 579: The location was excellent for us Really central and very convenient and as our room was in the back very quiet at night which is unusual in a city centre hotel\n",
      "\n",
      "Review 580: Exceptionally close to the La Ramblas Great places to visit eat and drink within a short walk The staff are friendly and helpful The double room was very clean and comfortable\n",
      "\n",
      "Review 581: Location is unbeatable Barman was attentive and friendly Felt safe and secure as solo female traveling alone\n",
      "\n",
      "Review 582: There s is nothing good in this hotel\n",
      "\n",
      "Review 583: The staffed were very kind and they try to help for any request The location was very central\n",
      "\n",
      "Review 584: The location was great safe and very central The room I had was recently renovated very clean and modern All the staffs were kind\n",
      "\n",
      "Review 585: Localization\n",
      "\n",
      "Review 586: Location near Plaza Cataluyna is perfect metro taxi bars and restaurants are around every corner Lots of sites are in walking distance\n",
      "\n",
      "Review 587: Very nice hotel just in the middle of the city centre We have been in many hotels in Barcelona and this we liked Good service nica bar nice surroundings\n",
      "\n",
      "Review 588: location wifi staff very nice and helpful the air conditioning is very good advanced climate control system supermarkets including 24 hrs and restaurants everywhere and nearby\n",
      "\n",
      "Review 589: The location\n",
      "\n",
      "Review 590: Excellent location The beds were very comfortable airconditioning good Bathroom well equipped Excellent breakfast Staff helped to book tickets but no help with luggage\n",
      "\n",
      "Review 591: the staff was very cordial and professional especially Guillermo who was extremely helpful with the air conditioning issue\n",
      "\n",
      "Review 592: Excellent location Perfect to catch public transport and many nice restaurants nearby\n",
      "\n",
      "Review 593: The front desk staff were amazing They were so helpful and provided us with all of the information we needed and more\n",
      "\n",
      "Review 594: Location was good\n",
      "\n",
      "Review 595: we stayed at this hotel because it was close to the airport bus departure point for our early morning flight Staff were great and there was a kettle in the room which was not in our previous hotel in Barcelona Lovely cafe and relaxation area on ground floor\n",
      "\n",
      "Review 596: Excellent location the hotel is exactly in the heart of Barcelona All staff is very well educated polite Everywhere is clean Has a rich breakfast buffet Very well working high speed WiFi Bathrobes are standart in the rooms Very comfortable bed and pillows Possible to have coffee and tea in the room\n",
      "\n",
      "Review 597: The location hotel facilities and staff were superb for a city break The metro runs at the end of the short road to access the dancing fountains and the football stadium Have stayed here twice and would definitely stay again\n",
      "\n",
      "Review 598: The location of the hotel was very convenient to the Passeig de Gracia and Las Ramblas Being near Catyluna Plaza was a great help as we were able to use the airport bus to and from the airport The staff were excellent personable professional and helpful One gentleman at the front desk for example helped us with directions to a recommended restaurant and printed out a map for us On another day he helped us figure out a good route to the Sagrada Familia and showed us other Gaudi structures nearby Breakfast was super The room was bigger than expected and had an alcove with an extra bed The room was quiet All in all our stay was most enjoyable\n",
      "\n",
      "Review 599: Great location the room was extremely quiet no street or out of hours noise the breakfast was a really good mix of European foods and on weekends the breakfast service doesnt close until midday\n",
      "\n",
      "Review 600: Great location our room was very spacious for 4 of us but my 25year old daughter had a single room which was very small for price paid\n",
      "\n",
      "Review 601: only the location\n",
      "\n",
      "Review 602: The staff was very helpful I was trying to check in online and print my boarding passes but everything on the AirEuropa website was in Spanish A man from the front desk came over to the computer with me and translated for me He was very polite and patient with me Also I loved that it was an older building with some history behind it\n",
      "\n",
      "Review 603: A lovely boutique hotel in a central location The staff were friendly sn willing to help\n",
      "\n",
      "Review 604: Clean beautiful and friendly service\n",
      "\n",
      "Review 605: Very surprised with the location and quality of the room\n",
      "\n",
      "Review 606: Air conditioned room with big bed and bathroom\n",
      "\n",
      "Review 607: Great Location\n",
      "\n",
      "Review 608: Excellent location Comfortable hotel Great breakfast\n",
      "\n",
      "Review 609: Loacation very clean helpful staff\n",
      "\n",
      "Review 610: Breakfast very good staff very friendly and helpful\n",
      "\n",
      "Review 611: Perfect location super friendly staff small but beautiful room Great experience\n",
      "\n",
      "Review 612: No\n",
      "\n",
      "Review 613: The location of the hotel The breakfast buffet\n",
      "\n",
      "Review 614: rooms are very clean\n",
      "\n",
      "Review 615: Nice location central\n",
      "\n",
      "Review 616: The staff were amazing and even gave my daughter a balloon she was so excited\n",
      "\n",
      "Review 617: Everything was super and the staff was super kind and helping with everything Goog breakfast until late hours\n",
      "\n",
      "Review 618: Breakfast\n",
      "\n",
      "Review 619: Wonderful staff Best location Great room good facilities fabulous breakfast\n",
      "\n",
      "Review 620: nothing\n",
      "\n",
      "Review 621: Great location Fiendly staff Good bathroom\n",
      "\n",
      "Review 622: Location very Close to La Rambla\n",
      "\n",
      "Review 623: Cleaniness of rooms and friendliness of staff\n",
      "\n",
      "Review 624: Very polite and helpful staffs great room great lunch at the greenhouse room is newly furnished and cozy\n",
      "\n",
      "Review 625: Place us very cute but small location was fantastic\n",
      "\n",
      "Review 626: Very good location\n",
      "\n",
      "Review 627: Breakfast Toiletries Atmosphere\n",
      "\n",
      "Review 628: Set up of room\n",
      "\n",
      "Review 629: Great location comfortable beds\n",
      "\n",
      "Review 630: Location\n",
      "\n",
      "Review 631: good staff lovely place near to monuments\n",
      "\n",
      "Review 632: The breakfast was too expensive so didn t purchase anything\n",
      "\n",
      "Review 633: the location amazing the staff friendly the room for 3 of us was very spacious and nice bedding and bathroom very clean hotel\n",
      "\n",
      "Review 634: Staff\n",
      "\n",
      "Review 635: Location and the room\n",
      "\n",
      "Review 636: Everything was perfect Personnel at recepci n were awesome and very cooperative and helpful\n",
      "\n",
      "Review 637: Location\n",
      "\n",
      "Review 638: The staff was very helpful They gave us maps directions and local insghts I would stay there again\n",
      "\n",
      "Review 639: The property had a fabulous central location Plenty of choice and excellent breakfast Staff were super friendly and helpful\n",
      "\n",
      "Review 640: The breakfast was very good\n",
      "\n",
      "Review 641: Great location but quite pricey compared to the services offered\n",
      "\n",
      "Review 642: nice place\n",
      "\n",
      "Review 643: Beds were very comfortable\n",
      "\n",
      "Review 644: Very cool decor Good service but also left alone which is nice Great breakfast fiscrete good service\n",
      "\n",
      "Review 645: No\n",
      "\n",
      "Review 646: The staff were very friendly and always helpful They couldn t do enough for you especially the staff on reception and in the bar\n",
      "\n",
      "Review 647: I loved all of it Location people all of it\n",
      "\n",
      "Review 648: Location\n",
      "\n",
      "Review 649: Greater staff and location\n",
      "\n",
      "Review 650: The average was good and amenities were really nice\n",
      "\n",
      "Review 651: amazing bathroom cleanliness and nice smell throughout the hotel friendly staff excellent location\n",
      "\n",
      "Review 652: the location is very nice stuff are so lovely\n",
      "\n",
      "Review 653: The staff was very kind and sincere A room is clean and comfortable Access to Catalonia Station is the best\n",
      "\n",
      "Review 654: The location was excellent in the heart of Barcelona very close to all kind of public transport The staff was very cooperative and friendly\n",
      "\n",
      "Review 655: Anything\n",
      "\n",
      "Review 656: There is a Chinese restaurant across the hotel\n",
      "\n",
      "Review 657: Location lounge bar\n",
      "\n",
      "Review 658: The city\n",
      "\n",
      "Review 659: Location Friendly staff\n",
      "\n",
      "Review 660: Staff\n",
      "\n",
      "Review 661: Great hotel in a central location\n",
      "\n",
      "Review 662: Location of the hotel was perfect\n",
      "\n",
      "Review 663: Quality service decor and staff\n",
      "\n",
      "Review 664: No\n",
      "\n",
      "Review 665: Excellent location\n",
      "\n",
      "Review 666: Fantastic helpful staff made our visit stress free\n",
      "\n",
      "Review 667: Staff were all great\n",
      "\n",
      "Review 668: Best breakfast we ve had in Spanish hotel\n",
      "\n",
      "Review 669: Central location with a great bedroom\n",
      "\n",
      "Review 670: Good size bathroom and good light in room\n",
      "\n",
      "Review 671: Reception staff were very helpful on arrival and offered an upgraded room\n",
      "\n",
      "Review 672: Nice location just a few steps from Catalunia Plaza\n",
      "\n",
      "Review 673: The staff The were just so professional and honestly friendly\n",
      "\n",
      "Review 674: Breakfast was great really varied selection of choices Hotel staff very helpful\n",
      "\n",
      "Review 675: Everything\n",
      "\n",
      "Review 676: everything is great next time we ll stay at the same hotel\n",
      "\n",
      "Review 677: Nice and clean very elegant staff was very attentive and courteous Location is perfect\n",
      "\n",
      "Review 678: Food was find Location was great Staff very helpful\n",
      "\n",
      "Review 679: Location and very helpful employees\n",
      "\n",
      "Review 680: No\n",
      "\n",
      "Review 681: The bed was extremely comfortsble\n",
      "\n",
      "Review 682: No\n",
      "\n",
      "Review 683: Excellent location Very helpful staff Spacious rooms\n",
      "\n",
      "Review 684: No\n",
      "\n",
      "Review 685: How close is was to everythingexcellent\n",
      "\n",
      "Review 686: PERFECT LOCATION\n",
      "\n",
      "Review 687: EXCELLENT PLACE\n",
      "\n",
      "Review 688: Location simplicity\n",
      "\n",
      "Review 689: BED COMFORT\n",
      "\n",
      "Review 690: Excellent shower with plenty of hot water and crisp and clean bedding Tea and coffee making facilities\n",
      "\n",
      "Review 691: Fab hotel in excellent location\n",
      "\n",
      "Review 692: Clean and nice room good location friendly staff\n",
      "\n",
      "Review 693: This is my second time at this hotel Everything is good Location perfect\n",
      "\n",
      "Review 694: Location to tourist sites Friendly helpful staff\n",
      "\n",
      "Review 695: Great location friendly professional staff nice rooms clean\n",
      "\n",
      "Review 696: the staff were amazing good quality and spacious room with nice view great location and super price\n",
      "\n",
      "Review 697: Location Staff\n",
      "\n",
      "Review 698: No\n",
      "\n",
      "Review 699: Really good location Friendly and helpful front desk Close to everything\n",
      "\n",
      "Review 700: No\n",
      "\n",
      "Review 701: Staff and location were excellent\n",
      "\n",
      "Review 702: Very central location to get around Barcelona\n",
      "\n",
      "Review 703: Very helpful and friendly staffs\n",
      "\n",
      "Review 704: Staff super helpful Location superb Family spacious for three\n",
      "\n",
      "Review 705: Staff was very helpfull and friendly Location is perfect\n",
      "\n",
      "Review 706: Location and room\n",
      "\n",
      "Review 707: Location\n",
      "\n",
      "Review 708: Near to Cataloneya squire\n",
      "\n",
      "Review 709: Location\n",
      "\n",
      "Review 710: Location comfort and all\n",
      "\n",
      "Review 711: Atmosphere of the hotel was very good and had a sense of luxury\n",
      "\n",
      "Review 712: Location\n",
      "\n",
      "Review 713: Location is ideal and rooms are great\n",
      "\n",
      "Review 714: Staff\n",
      "\n",
      "Review 715: No\n",
      "\n",
      "Review 716: Very central\n",
      "\n",
      "Review 717: Nice breakfast and comfortable bed\n",
      "\n",
      "Review 718: The location was ideal and staff were friendly\n",
      "\n",
      "Review 719: No\n",
      "\n",
      "Review 720: Excellent location Comfortable room\n",
      "\n",
      "Review 721: Extremely good and firm beds Close to city centre\n",
      "\n",
      "Review 722: Location\n",
      "\n",
      "Review 723: The barman very friendly\n",
      "\n",
      "Review 724: No\n",
      "\n",
      "Review 725: Being so close to La Rambla and Metro station to get everywhere\n",
      "\n",
      "Review 726: the staff at the desk were outstanding accessible knowledgable and friendly\n",
      "\n",
      "Review 727: Good breakfast in very comfortable location Not a modern hotel noisy street under windows\n",
      "\n",
      "Review 728: Friendly helpful staff great location can t fault the hotel\n",
      "\n",
      "Review 729: Excellent location Nice breakfast Helpful staff\n",
      "\n",
      "Review 730: Good location\n",
      "\n",
      "Review 731: Arrived early and they upgraded the room so we could check in\n",
      "\n",
      "Review 732: Best location Very comfortable bed\n",
      "\n",
      "Review 733: Team location\n",
      "\n",
      "Review 734: Location breakfast and friendly staff\n",
      "\n",
      "Review 735: Staff vey helpful\n",
      "\n",
      "Review 736: Good location near the heart of Barcelona\n",
      "\n",
      "Review 737: Excellent all round experience Most impressed\n",
      "\n",
      "Review 738: Fantastic location Great staff went overboard to help in every way\n",
      "\n",
      "Review 739: The staff was very helpful and extremely happy\n",
      "\n",
      "Review 740: Clean cosy modern\n",
      "\n",
      "Review 741: Clean modern cosy\n",
      "\n",
      "Review 742: Big room with very confortable bed Very good temperature in room and very quiet\n",
      "\n",
      "Review 743: Love the location and the service of the staff\n",
      "\n",
      "Review 744: We were upgraded to a better room It was a great location Big room\n",
      "\n",
      "Review 745: The room was grat the bed very comfortable the stuff very friendly but the position is the best\n",
      "\n",
      "Review 746: Great location and very helpful staff\n",
      "\n",
      "Review 747: Very close to everything\n",
      "\n",
      "Review 748: Fabulous location comfortable room for three singles\n",
      "\n",
      "Review 749: Location was perfect Breakfast is Okay Wifi was huge fast\n",
      "\n",
      "Review 750: Comfortable bed\n",
      "\n",
      "Review 751: The staff is friendly and gave us lots of help The location is great\n",
      "\n",
      "Review 752: Great location huge bedroom tv tea coffee\n",
      "\n",
      "Review 753: The staff was very helpfull and smiling Great service\n",
      "\n",
      "Review 754: Bed comfy excellent location didn t actually spend much time in the hotel\n",
      "\n",
      "Review 755: Location was great so we re all the facilities It was beautifully clean\n",
      "\n",
      "Review 756: Staff was very helpful Concierge Jose arranged all our restaurants Front desk is just amazing Location is perfect Lovely hotel\n",
      "\n",
      "Review 757: Location is great\n",
      "\n",
      "Review 758: excellent hotel\n",
      "\n",
      "Review 759: perfect location professional staff clean nice\n",
      "\n",
      "Review 760: The location was perfect close to the metro and shopping street\n",
      "\n",
      "Review 761: THE PLACE AND HOSPITATY OF THE RECEPTION\n",
      "\n",
      "Review 762: EVERYTHING WAS GOOD\n",
      "\n",
      "Review 763: Beds super comfy\n",
      "\n",
      "Review 764: Loved everything here\n",
      "\n",
      "Review 765: Location near ramblas\n",
      "\n",
      "Review 766: breakfast was really basic and some staff unfriendly room needs repainting location was great\n",
      "\n",
      "Review 767: Staff were excellent\n",
      "\n",
      "Review 768: Perfect location near to anywhere\n",
      "\n",
      "Review 769: Wonderful location Stayed there many times before\n",
      "\n",
      "Review 770: great location friendly staff\n",
      "\n",
      "Review 771: Large room with high ceiling very nice\n",
      "\n",
      "Review 772: good good location\n",
      "\n",
      "Review 773: Location\n",
      "\n",
      "Review 774: Good location for sightseeing Really easy to look around Barcelona\n",
      "\n",
      "Review 775: Location and friendly staff\n",
      "\n",
      "Review 776: location and stuff\n",
      "\n",
      "Review 777: Location\n",
      "\n",
      "Review 778: Friendly staff The rooms were plush and comfortable\n",
      "\n",
      "Review 779: No\n",
      "\n",
      "Review 780: Lovely hotel Well located Friendly helpful staff\n",
      "\n",
      "Review 781: Wonderful location in barcelona downtown center Contain all the facilities I need\n",
      "\n",
      "Review 782: lovely hotel and staff great location room perfect for 2 adults and 2 children only complaint was the breakfast very poor\n",
      "\n",
      "Review 783: centrally located modern decoration in vintage building airy and spacey family room\n",
      "\n",
      "Review 784: location location location location\n",
      "\n",
      "Review 785: Great location and nice comfortable spacey rooms\n",
      "\n",
      "Review 786: Location and the bed was good\n",
      "\n",
      "Review 787: Location very comfortable great decor in lobby\n",
      "\n",
      "Review 788: Location Value for money\n",
      "\n",
      "Review 789: Location staff and cleanliness\n",
      "\n",
      "Review 790: The proximity to Las Ramblas makes this hotel really worth it Very helpful staff as well\n",
      "\n",
      "Review 791: Location was perfect Really quiet inside Lovely minimalist decor with luxuries such as dressing gowns and slippers\n",
      "\n",
      "Review 792: Great position and secure\n",
      "\n",
      "Review 793: Great hotel in a great location\n",
      "\n",
      "Review 794: I liked my bedroom amenites lobby and location\n",
      "\n",
      "Review 795: No\n",
      "\n",
      "Review 796: All great but hairs in the bathroom sink and room had no real window but apart from that great will be back\n",
      "\n",
      "Review 797: Awesome location 5 mins walk from the airport bus stop\n",
      "\n",
      "Review 798: Great location\n",
      "\n",
      "Review 799: Friendly clean Good value I suppose for location Breakfast is nice\n",
      "\n",
      "Review 800: No\n",
      "\n",
      "Review 801: No\n",
      "\n",
      "Review 802: Very close to Plaza Catalunya Big rooms renewed and very clean Staff very kind\n",
      "\n",
      "Review 803: No\n",
      "\n",
      "Review 804: Air conditioning was top notch Breakfast provided a huge selection of appropriate hot and cold foods Friendly and informative hotel staff\n",
      "\n",
      "Review 805: Excellent location An extensive breakfast\n",
      "\n",
      "Review 806: Helpful staff\n",
      "\n",
      "Review 807: Really good breakfast\n",
      "\n",
      "Review 808: Nice decor and ambiance of common spaces Good location by plaza catalunya\n",
      "\n",
      "Review 809: Nice breakfast and fantastic location\n",
      "\n",
      "Review 810: No\n",
      "\n",
      "Review 811: Bed so good breakfast soso\n",
      "\n",
      "Review 812: location\n",
      "\n",
      "Review 813: Excellent bed and room quality\n",
      "\n",
      "Review 814: Very good hotel but the lobby bar is limited\n",
      "\n",
      "Review 815: Room and bathroom small but perfect\n",
      "\n",
      "Review 816: Breakfast was good\n",
      "\n",
      "Review 817: Location was good\n",
      "\n",
      "Review 818: Staff went over and above to make sure everything was okay\n",
      "\n",
      "Review 819: Friendly helpful staff clean rooms and great breakfast\n",
      "\n",
      "Review 820: Good Location\n",
      "\n",
      "Review 821: Perfect location Staff was amazing\n",
      "\n",
      "Review 822: Location is extremely good\n",
      "\n",
      "Review 823: Location\n",
      "\n",
      "Review 824: Location Good clean rooms\n",
      "\n",
      "Review 825: hotel was great saff all very helpful lovely and clean hotel right in centre would definitely go again\n",
      "\n",
      "Review 826: Staff were extremely helpful and room was beautiful Hotel is walking distance to all the sights and restaurants of the best of Barcelona\n",
      "\n",
      "Review 827: The beds were very comfortable and the location is superb\n",
      "\n",
      "Review 828: Great breakfast buffet Very helpful staff Great location\n",
      "\n",
      "Review 829: No\n",
      "\n",
      "Review 830: location\n",
      "\n",
      "Review 831: Location was amazing and friendly staff\n",
      "\n",
      "Review 832: Friendly helpful staff Family room layout Great location\n",
      "\n",
      "Review 833: Very helpful our flight was delayed so we didn t get in until 3 am and they were very friendly\n",
      "\n",
      "Review 834: Great located hotel with a very friendly and helpful staff Comfortable rooms even though there was no view\n",
      "\n",
      "Review 835: Very good position to discover Barcelona\n",
      "\n",
      "Review 836: No\n",
      "\n",
      "Review 837: No\n",
      "\n",
      "Review 838: Awesome location awesome staff awesome hotel\n",
      "\n",
      "Review 839: good location I like the breakfast room\n",
      "\n",
      "Review 840: No\n",
      "\n",
      "Review 841: great location really nice 4 staff very friendly\n",
      "\n",
      "Review 842: Location and staff\n",
      "\n",
      "Review 843: Friendly and helpful staff\n",
      "\n",
      "Review 844: great staff everyone helpful excellent breakfast good restaurant nearby\n",
      "\n",
      "Review 845: Free upgrade to supreme\n",
      "\n",
      "Review 846: Super stay\n",
      "\n",
      "Review 847: location close to places to eat metro stations aerobus pick up location comfy beds Their immediate response to my needs to move to another room\n",
      "\n",
      "Review 848: the space of the rooms are quiet and calm the location is fabolous\n",
      "\n",
      "Review 849: No\n",
      "\n",
      "Review 850: Bed was great Breakfast was good\n",
      "\n",
      "Review 851: The location was excellent for the airport bus and helpful staff on reception\n",
      "\n",
      "Review 852: The location is amazing The staff are super friendly Room size was perfect\n",
      "\n",
      "Review 853: The location is ideal and the hotel is very nice Small rooms\n",
      "\n",
      "Review 854: The location is excellent Just beside Catalunya station where you can find any bus\n",
      "\n",
      "Review 855: Spacious rooms Perfect size for our group size Lovely and clean Great location\n",
      "\n",
      "Review 856: Breakfast was excellent\n",
      "\n",
      "Review 857: No\n",
      "\n",
      "Review 858: location\n",
      "\n",
      "Review 859: Location and service\n",
      "\n",
      "Review 860: clean staff was helpfull excellent location\n",
      "\n",
      "Review 861: Nice staff very good location\n",
      "\n",
      "Review 862: Nice sized room bed\n",
      "\n",
      "Review 863: Room were very spacious\n",
      "\n",
      "Review 864: Location\n",
      "\n",
      "Review 865: Beds extremely comfortable Room spacious Great location\n",
      "\n",
      "Review 866: Very modern comfy room\n",
      "\n",
      "Review 867: location\n",
      "\n",
      "Review 868: Nothing was to much trouble Outstanding service\n",
      "\n",
      "Review 869: The room seemed newly renovated great shower and bathroom\n",
      "\n",
      "Review 870: good location and friendly staff\n",
      "\n",
      "Review 871: Location is great 1 2 block from Plaza de Catalunia Staff very friendly\n",
      "\n",
      "Review 872: No\n",
      "\n",
      "Review 873: No\n",
      "\n",
      "Review 874: Location\n",
      "\n",
      "Review 875: Location\n",
      "\n",
      "Review 876: Great location excellent room\n",
      "\n",
      "Review 877: The reception staff are really friendly and gave us a lot of valuable suggestions The location is great\n",
      "\n",
      "Review 878: Only few steps to Placa Catalunya and the Ramblas\n",
      "\n",
      "Review 879: Great location Friendly staff Room had a small balcony\n",
      "\n",
      "Review 880: Great staff great location\n",
      "\n",
      "Review 881: No\n",
      "\n",
      "Review 882: Location\n",
      "\n",
      "Review 883: Very quiet room\n",
      "\n",
      "Review 884: Location helpful staff\n",
      "\n",
      "Review 885: Some staff are very good house keeping\n",
      "\n",
      "Review 886: Location Location Location\n",
      "\n",
      "Review 887: Great location and large rooms with comfort\n",
      "\n",
      "Review 888: Good location Few steps to Catalunya plaza Spacious room for 3 people Friendly staff\n",
      "\n",
      "Review 889: They helped me change rooms 3 times\n",
      "\n",
      "Review 890: Excellent location and efficient friendly staff\n",
      "\n",
      "Review 891: The staff were exceptional Very helpful when we were in need Location was perfect\n",
      "\n",
      "Review 892: Service friendly staff nice breakfast perfect location\n",
      "\n",
      "Review 893: We loved it It very well located Every thing we wanted to do was near by\n",
      "\n",
      "Review 894: No\n",
      "\n",
      "Review 895: excellent location to center of city\n",
      "\n",
      "Review 896: Very nice location Some of stuff are very good like Danial And some of them are very bad like Jose V Good clean but the service is OK\n",
      "\n",
      "Review 897: Location cleanest staff\n",
      "\n",
      "Review 898: The staff was most friendly\n",
      "\n",
      "Review 899: Brilliant location so close to Catalunya Plaza and La Rambla The staff were super friendly and helpful Great breakfast with plenty of choices\n",
      "\n",
      "Review 900: Reception\n",
      "\n",
      "Review 901: The personnel very nice\n",
      "\n",
      "Review 902: Location\n",
      "\n",
      "Review 903: Staff were friendly informative Room was comfortable\n",
      "\n",
      "Review 904: The staff was very inviting and helpful\n",
      "\n",
      "Review 905: Location of hotel\n",
      "\n",
      "Review 906: Excellent location and friendly staff\n",
      "\n",
      "Review 907: Great hotel in a perfect location Included breakfast was brilliant Could not ask for more\n",
      "\n",
      "Review 908: the staff at the front desk very nice and helpful\n",
      "\n",
      "Review 909: Location\n",
      "\n",
      "Review 910: The staff at check in were all outstanding Location was convenient both for shopping and sightseeing with cabs always adjacent to the entrance\n",
      "\n",
      "Review 911: Good location Comfortable room\n",
      "\n",
      "Review 912: excellent location very friendly staff\n",
      "\n",
      "Review 913: Staff were helpful\n",
      "\n",
      "Review 914: Great location\n",
      "\n",
      "Review 915: Location staff excellent\n",
      "\n",
      "Review 916: The location\n",
      "\n",
      "Review 917: Central to all parts of the city Helpful staff\n",
      "\n",
      "Review 918: No\n",
      "\n",
      "Review 919: Location\n",
      "\n",
      "Review 920: Location\n",
      "\n",
      "Review 921: Excellent location very friendly staff and very clean An excellent value for money\n",
      "\n",
      "Review 922: Best location Excellent service\n",
      "\n",
      "Review 923: The location\n",
      "\n",
      "Review 924: No\n",
      "\n",
      "Review 925: No\n",
      "\n",
      "Review 926: Location Hotel that offers Fridge and free safe Facilities are well maintained\n",
      "\n",
      "Review 927: Location\n",
      "\n",
      "Review 928: good location\n",
      "\n",
      "Review 929: staff are welcome\n",
      "\n",
      "Review 930: The whole hotel was lovely\n",
      "\n",
      "Review 931: Location staff\n",
      "\n",
      "Review 932: No\n",
      "\n",
      "Review 933: Very kind and helpful staff\n",
      "\n",
      "Review 934: The staff were friendly and very helpful\n",
      "\n",
      "Review 935: The breakfast at the Hotel was excellent and the staff very friendly\n",
      "\n",
      "Review 936: Friendly informative and helpful staff efficient check in and check out process Excellent central location\n",
      "\n",
      "Review 937: Location Wi fi strength Friendly staff Room size Impeccable cleanliness\n",
      "\n",
      "Review 938: Ideal location with friendly helpful staff\n",
      "\n",
      "Review 939: You cannot fault Hotel Regina for location It is as central as you can get for Barcelona walking distance from the metro and La Rambla\n",
      "\n",
      "Review 940: No\n",
      "\n",
      "Review 941: A for comfort\n",
      "\n",
      "Review 942: The location was excellent and beds were really comfortable\n",
      "\n",
      "Review 943: location location location Cleanliness friendly staff\n",
      "\n",
      "Review 944: Location was execlent\n",
      "\n",
      "Review 945: Not soundproof in the rooms\n",
      "\n",
      "Review 946: Perfect Location in centre of town Ideal for all transport links and amenities\n",
      "\n",
      "Review 947: Perfect location\n",
      "\n",
      "Review 948: Location\n",
      "\n",
      "Review 949: Excellent location Excellent staff Fair value\n",
      "\n",
      "Review 950: Nothing not to like\n",
      "\n",
      "Review 951: Friendly staff and unbeatable location\n",
      "\n",
      "Review 952: Convenient location spacious clean comfortable room\n",
      "\n",
      "Review 953: Bed shower and location\n",
      "\n",
      "Review 954: nothing\n",
      "\n",
      "Review 955: Absolutely the best location Nice seating areas in lobby\n",
      "\n",
      "Review 956: Excellent location and friendly staff\n",
      "\n",
      "Review 957: The location the new rooms\n",
      "\n",
      "Review 958: No\n",
      "\n",
      "Review 959: Very friendly helpful staff\n",
      "\n",
      "Review 960: clean place\n",
      "\n",
      "Review 961: Great location nice staff very good bed\n",
      "\n",
      "Review 962: Friendly staff clean modern rooms Great location and centrally located\n",
      "\n",
      "Review 963: Many breakfast choices with table service for coffee Caught a sunny day and was sitting outside with a view on the park nothing too spectacular but much better than sitting indoors Friendly staff and central location only some 2 minutes from a U Bahn U2 line subway stop which made arrival via Wien Hauptbahnhof Vienna Central Station easy From the hotel it is also only minutes to walk into the 1 Bezirk First District downtown to enjoy coffee and Sachertorte at Hotel Cafe Sacher Cafe Demel or other Kaffeehaeuser coffee shops and to visit museums or just stroll through the streets Around the corner is the Charly P s Irish Pub which has fantastic food with several awards The fish chips are stunning\n",
      "\n",
      "Review 964: My favorite Wien hotel in the moment superb localization super professional and freandly stuff and something really unusual in that kind of hotel atmosphere\n",
      "\n",
      "Review 965: Location was great right next to the U Bahn Easy walking to the centre of the city Overall freindly and knowledgable staff Easy and discounted car parking Prices at the bar and resturant reaaly good for a 4 star Hotel not overpriced\n",
      "\n",
      "Review 966: The atmosphere is lovely like stepping back in history Hallways are twisty and filled with old family photos Rooms had long windows dark drapes plenty of space Staff recognizes faces of guests Great location seriously right next to the Votivekirche and 2 3 blocks from metro I would tell friends to stay and stay here again myself\n",
      "\n",
      "Review 967: Good location and easy to find by driving to hotel The hotel is historic and comforable our room is on the top with spacious space to put extra bed for our 4years kid bathroom is a bit small but very clean breakfast is fabulous and many options to choose We arrived hotel at Friday evening and good to know it s free parking from 10pm till next monday morning I specially thanks for hotel manager Mr Daniel I left 2pairs shoes in hotel and he s very helpful and easy to communicate he called UPS team on behalf of me requested them to collect the shoes and sent it to my next journey hotel propertly so that I d received them in short time and bring back home\n",
      "\n",
      "Review 968: This was a hotel with all an excellent complete breakfast buffe a nice restaurant high ceiling comfort beds minibar etc Close to public transports U2 38 1 etc The silent surroundings with the park and the church was nice Almost direct access to the garage\n",
      "\n",
      "Review 969: As usual I like staying in Regina always was positive experience\n",
      "\n",
      "Review 970: Room was tiny but perfect tiny because the hotel is old and I think these rooms were the old servants quarters The room was modern but you still had the feeling you were staying in a part of history Personally I really liked it\n",
      "\n",
      "Review 971: Loved everything about this hotel the room was very nice clean and cosy I had a beautiful view from my windows overlooking the Volkskirche The location was very good some waking distance from the centre but that was a pleasant walk and the metro station just 3 min away\n",
      "\n",
      "Review 972: Location was great\n",
      "\n",
      "Review 973: Hotel is close enough to the city centre Personnel is friendly room was big enough and comfortable Breakfast was very good\n",
      "\n",
      "Review 974: loved the opening door to veranda in room breakfast plentiful and tasty dinner in restaurant excellent staff very nice and advised on menu and wine\n",
      "\n",
      "Review 975: No\n",
      "\n",
      "Review 976: The place is great The accessibility to the transportation is very good The staff is ausgezeichnet They are just great Everything is all right including neighbooring with the Beatidul Votivkirche The restaurant is good and the special chokolate tort is worth to taste\n",
      "\n",
      "Review 977: location\n",
      "\n",
      "Review 978: The staff at the hotel was very friendly Lovely breakfast lot of choice Room was very clean Good location public transport close by and you can even walk to a lot of sights like Rathaus Parlament Hofsburg and Maria Theresien Platz\n",
      "\n",
      "Review 979: The room had a comfortable bed a desk a chair a tea table an armchair can be opened sofa and kettle Wardrobe was large enough The bathroom had enough shelf Good breakfast Easy connection to metro tram and bus\n",
      "\n",
      "Review 980: We booked at a time we knew the hotel was being refurbished but we had zero disruption to our break Staff are exceptional The bed was extremely comfortable The linen and towels were fresh and soft The receptionist was hugely helpful and polite booking restaurants for us showing us routes and explaining transport links\n",
      "\n",
      "Review 981: No\n",
      "\n",
      "Review 982: The beds were the most comfortable one among all what i used before Enough space good view and nice breakfast The tram and subway stations are located like 5 minutes away by feet Not all staffs were kind but mostly they were helpful\n",
      "\n",
      "Review 983: location footsteps from Rathaus K rtnerstra e Medizinische Uni Wien elegant Staff memorizing which room to every guest\n",
      "\n",
      "Review 984: The location was good although not right in the centre of the city everything was easy to get to The hotel was also very clean and good value for money\n",
      "\n",
      "Review 985: Localization best professional staff pet friendliness overall feeling nice place to relax\n",
      "\n",
      "Review 986: Staff was cooperative Hotel was nicely decorated as 4 star facility Nice location Reception staff mr jeremy and ms Maria were similing and available at all times to assist in best manner I will visit again and recommend too\n",
      "\n",
      "Review 987: Breakfast water pressure steady water heat steady clean wifi reasonably fast and signal strong\n",
      "\n",
      "Review 988: Located next to the City Hall Very nice staff Interior and exterior looked imperialistic\n",
      "\n",
      "Review 989: I chose this hotel because of its location close to public transport and because of the substantial discount that was offered Wifi open and free without any fuss The staff was reasonably friendly\n",
      "\n",
      "Review 990: room was given to me before the checkin hour due to the time of my flight\n",
      "\n",
      "Review 991: Good location adjacent to Ringstrasse and transport connections 10 min walk into town centre stop for hop on bus Excellent breakfast Very clean and very helpful staff\n",
      "\n",
      "Review 992: Restaurant was excellent for both breakfast and dinner Fantastic staff in both restaurant and desk Very clean\n",
      "\n",
      "Review 993: Big and clean bathroom with all needed stuff like dryer Delicious breakfirst with a lot of food options Friendly and helpfull staff We stayed during December and the hotel had amazing and beatiful Christmas decorations in the lobby and in the restaurant Short walk to the metro station which brings you accross the city\n",
      "\n",
      "Review 994: breakfast comfortable bed excellent location nice cozy building\n",
      "\n",
      "Review 995: Cleanliness and location\n",
      "\n",
      "Review 996: Given half an hour more for late checkout request\n",
      "\n",
      "Review 997: Rich breakfast very polite personnel Great location next to the Votivkirche\n",
      "\n",
      "Review 998: Nice location 5 10 min walk to Stephan dom and Rathaus Friendly staff they changed the room per our request with better view Restaurant was also good\n",
      "\n",
      "Review 999: The rooms were nice and reasonably big Bathroom was very nice We had one with a bath tub Our hotel was on the first floor with view on the courtyard not so nice but nothing to complain about Breakfast was good Serving personnel was friendly and there was never the issue of too less food The room was clean and very nicely heated Personnel in general was very friendly and helpful The location of the hotel is very good About 200 meters away from the underground and bus station I can recommend this hotel for shorter and longer visits\n",
      "\n",
      "Review 1000: No\n",
      "\n",
      "Review 1001: Hotel was well heated and room comfortable Generous breakfast buffet and efficient staff Central location and hotel had style and elegance\n",
      "\n",
      "Review 1002: I ve had a great time at Hotel Regina this year The hotel has a unique timeless and classical charm to it The staff and the facilities are very warm and welcoming The breakfast is a highlight the best I ve ever had in a hotel in Europe\n",
      "\n",
      "Review 1003: Great location Very close to the Rathaus Christmas market and the metro station Within walking distance to the city centre Great breakfast but too crowded at times\n",
      "\n",
      "Review 1004: Good breakfast The WiFi was reasonably fast good for work Chocolate on the pillow Small cake at entrance\n",
      "\n",
      "Review 1005: The historic building\n",
      "\n",
      "Review 1006: Everything was perfect Rooms was not that big but clean and comfortable Breakfast was good and the staff also helpful\n",
      "\n",
      "Review 1007: Staff was very kind and the breakfast was great Free wifi worked quite well too Subway tram are 3 minute s walking distance from the hotel If you like walking you could also walk to the most tourists places too\n",
      "\n",
      "Review 1008: Location is good breakfast also good although no sparkling wine or fresh juices on breakfast Wi Fi was good Room were quite big and well furnished My windows were looking right on Sigmund Freud park and it was not noisy\n",
      "\n",
      "Review 1009: Location is amazing and 10 minutes away from every thing Breakfast was lots of varieties and very fresh with a good selection of Tea\n",
      "\n",
      "Review 1010: I am globally satisfied by the stay at Hotel Regina it represents a good compromise between quality and price The standard double room was not very big and the one in which we stayed had just a view on an internal cavedio but it was clean and quiet Breakfast is more than appropriate The Hotel is in a very good location to reach the city center well connected to metro and tram at walking distance A car parking is at a walking distance as well The wifi sometimes does not work properly but it is ok for a short stay\n",
      "\n",
      "Review 1011: Beautiful 1920s style hotel All speak in German and English perfectly Offered to store luggage on your last day Very clean\n",
      "\n",
      "Review 1012: Perfectly placed for exploring Vienna The underground station is a few minutes from the hotel Wonderful view of the votiv church from our window The taxi we booked to take us to the airport phoned to say it was a little behind time and actually arrived bang on time Excellent restaurant too\n",
      "\n",
      "Review 1013: In city center close to the famouse places\n",
      "\n",
      "Review 1014: The location Close to city centre\n",
      "\n",
      "Review 1015: Location The location is perfect its in the center and just next to a magnificent Cathedral Votivkirche Breathtaking The hotel is very clean and the staff are nice and helpful\n",
      "\n",
      "Review 1016: Bed was comfortable airconditioned room was well appreciated shower was very good as was also the breakfast and last but not least the staff was really friendly\n",
      "\n",
      "Review 1017: Best air conditioning for a hotel ever I would sleep in a freezer if I could and the fact that I could cool my room right down was aces Quality of the food in the restaurant was great the museum like displays on all the floors were interesting beds were comfortable location was right next to Sigmund Freud Park and was just out of the way of the main hustle so as to make the nights quiet for a city centre Would definitely come back\n",
      "\n",
      "Review 1018: breakfast was fine\n",
      "\n",
      "Review 1019: The staff were helpful That makes your stay and your trip\n",
      "\n",
      "Review 1020: Excellent location ideal for exploring the city\n",
      "\n",
      "Review 1021: Location was perfect for access to the old town of Vienna Breakfast the odd evening meals we had were very good excellent choice\n",
      "\n",
      "Review 1022: The location is centric and well communicated the room was clean and the bed comfortable the facilities small fridge Wifi etc were useful The staff is efficient and helpful\n",
      "\n",
      "Review 1023: We stayed in August 2016 We enjoyed the location view from the room and old world charm of the hotel Eating breakfast outside was a pleasure\n",
      "\n",
      "Review 1024: The staff is very polite and helpful breakfast was very good room was very big and clean Wireless works great and it s for free We told them it is our honeymoon and they baked us a cake very nice of them\n",
      "\n",
      "Review 1025: Our room was beautiful and we enjoyed the meals at the restaurant Staff were also very helpful and knowledgeable\n",
      "\n",
      "Review 1026: Grand building Staff very helpful Pickup from hotel for trips Convenient to transport Great selection for breakfast Restaurant served good food for dinner\n",
      "\n",
      "Review 1027: location room service and breakfast\n",
      "\n",
      "Review 1028: The location was excellent for a conference at the University as well as for walking or taking a very convenient tram to major sights The breakfast buffet was good The hotel was comfortable and I would certainly stay again\n",
      "\n",
      "Review 1029: From the outside the hotel looked very well Even though the rooms were nicely decorated the baths were very small The hotel was well located\n",
      "\n",
      "Review 1030: nothing\n",
      "\n",
      "Review 1031: We booked early and got a cheap deal for this hotel which is a standard we would not normally stay in for leisure Good location for accessing trams and the Ubahn Great breakfast in elegant surroundings\n",
      "\n",
      "Review 1032: The hotel is almost in the city center 15 min from town hall and 20 from the opera The breakfest was rich\n",
      "\n",
      "Review 1033: The only one advantage of this hotel is its location\n",
      "\n",
      "Review 1034: Location location location Walking distance to the center of town public transport right in front For that alone the hotel prices are reasonable Nice staff a little bit run down and old fashioned But one does get free wifi\n",
      "\n",
      "Review 1035: Very good breakfasts Very close to tram underground stations Good location ideal for exploring old city on a foot Clean Quiet Good view from the window in my case\n",
      "\n",
      "Review 1036: the position was good I also liked the historical nature of the hotel The staff in the resturant at night were good\n",
      "\n",
      "Review 1037: Breakfast was good and well organised\n",
      "\n",
      "Review 1038: It is good for the money I paid They give only one pillow if you book single They need new pillows I ordered two extra to make it feel like one You only get one small soap You need to call if it is used by the end of the day Good breakfast Location is good Walking distance to most places Metro is close too I would stay again\n",
      "\n",
      "Review 1039: Very convenient location Nice old style hotel with clean wooden floors instead of dirty carpets Good breakfast We got a room with view and sufficient space Decent bathroom\n",
      "\n",
      "Review 1040: Location is excellent breakfast was very good\n",
      "\n",
      "Review 1041: Generally I got all what I expected I did not have a feeling it was something very special but I would not mind to go back there The was ok I would rather use the term professional then friendly\n",
      "\n",
      "Review 1042: Nice decor Nice staff Good location close to public transport and just 10 minutes straight walking to Hofburg Michaelerplatz Very good breakfast except for the coffee The room was totally soundproofed The view from my window was the courtyard but I had only booked a standard room The restaurant in the hotel Roth serves very good Wiener Schnitzel at an average price You really don t have to look elsewhere to try the Wiener Schnitzel I have tried quite a few hotels in Vienna So far this has been the best\n",
      "\n",
      "Review 1043: Good location friendly staff on reception\n",
      "\n",
      "Review 1044: Location acceptable rate Breakfast Restaurant Overall standing of common areas\n",
      "\n",
      "Review 1045: The staff was very nice giving good tips for the surrounding we forgot our adaptator so they borrowed us one very kindly The breakfast is great the rooms are very clean the location is perfect\n",
      "\n",
      "Review 1046: Great location a 2 minute walk from tube and tram station and a 10 minute walk from the museum quarter and city centre Room was clean and quiet breakfast good and staff friendly Would definately stay here again\n",
      "\n",
      "Review 1047: Satisfactory rich breakfast in a nice and decent setting The extra padded door prevents much of the noise otherwise would come from the corridors Very close to the metro station\n",
      "\n",
      "Review 1048: Location interior staff breakfast view from window\n",
      "\n",
      "Review 1049: style and climate of regina hotel if you like saher but you think its to much for every stay just chose regina\n",
      "\n",
      "Review 1050: Pleasure to stay there smallish but really comfortable room under the roof with a stunning view over the inner city of Vienna Really friendly forthcoming and we ll trained staff who fulfilled all our wishes\n",
      "\n",
      "Review 1051: Staff was very helpful and polite Hotel was very clean and the size of the room for 3 persons was very good Breakfast with lots of variations\n",
      "\n",
      "Review 1052: Lovely location beside the beautiful Votivkirche and a 5 minute walk to the Rathaus Ready access to the trams and Ubahn making getting around the city a breeze\n",
      "\n",
      "Review 1053: We loved the location especially next to the beautiful Votive church and within walking distance to the Inner Stadt We did like the breakfast\n",
      "\n",
      "Review 1054: Lovely hotel helpful and kind staff room had a great view of a beautiful Gothic church brilliant location\n",
      "\n",
      "Review 1055: The location is key and you can walk anywhere in the city center This hotel has that viennese royal charm plus a nice breakfast\n",
      "\n",
      "Review 1056: The building is great Breakfast great also Try the marmalade in a jar with a guy with a big moustache awesome Subway is very close 10 min walking to 2 of the greatest coffees The Landtmann and Cafe Central Viena is not so big in 20 to 30 min walking you can get everywhere I m sure I would be back to Vienna and to The Regina Hotel\n",
      "\n",
      "Review 1057: Excellent location restaurant staff and cleanliness If you like old chique and good cake this really is the place to be The bell boy even is aware of the police checking for wrong parking The hotel offers specials rates for the public parking just across\n",
      "\n",
      "Review 1058: Very clean room and bathroom Outstanding view from the window to the church If you are with a car you can park sunday and saturday around the hotel for free there are sufficient parking places and not to use the offered closed paid parking\n",
      "\n",
      "Review 1059: Location was excellent and the rooms were clean They were a little small but that was ok All else was excellent The staff was very nice and helpful\n",
      "\n",
      "Review 1060: Location and the staff very friendly\n",
      "\n",
      "Review 1061: We where working at the Messe and this hotel is a 5 minute walk to the underground Uber and 4 stops Excellent location for us Bar staff were also ace\n",
      "\n",
      "Review 1062: Characterful quite grand old hotel nicely located on a busy street but not particularly noisy even with top window open Good bar restaurant and breakfast clean with helpful staff I booked a single but was given a large double with a bath and a soundproofing door to the corridor Very pleasant stay\n",
      "\n",
      "Review 1063: The Regina Hotel has a long history and is still part of the Krenslehner Family which owns 4 Hotels in Vienna nowadays The Deluxe room was more than lovely And the breakfast was OK Here stops our positive experience\n",
      "\n",
      "Review 1064: Convenient location helpful staff high quality breakfast and cleanness\n",
      "\n",
      "Review 1065: The Location and the hotel\n",
      "\n",
      "Review 1066: The Location is perfect Everything else was not so important\n",
      "\n",
      "Review 1067: The room was nice daily room service fantastic view from our room towards the town center The hotel is in a nice location only 5 10 walk from town center all the sights are around and there is tram and metro station 2 walk only I never had in my life so far so good quality of food the breakfast was superb and the staff very friendly I definitely recommend this hotel and if I go to Vienna again I will stay in hotel Regina\n",
      "\n",
      "Review 1068: Location was brilliant nice restaurants nearby and metro station nearby Area also feels very safe at night\n",
      "\n",
      "Review 1069: Location Also very helpful staff I had no problem in communication with any of them unlike other places outside the hotel where English speaking people were very less\n",
      "\n",
      "Review 1070: Firstly the location was excellent and secondly the staff was very friendly and helpful It was my first time in Vienna the staff patiently listened to all the questions I had and happily helped me with whatever I needed This made my visit to Vienna even more enjoyable and comfortable\n",
      "\n",
      "Review 1071: Great location retro style friendly stuff AC airconditioner Smooth Wifi network\n",
      "\n",
      "Review 1072: The hotel was amazing and the staff polite and helpful\n",
      "\n",
      "Review 1073: I liked best that there was a restaurant in the hotel with very good food and excellent customer service\n",
      "\n",
      "Review 1074: I like the view of my window I like the food even though for the breakfast is the same everyday but it was find cause I loved it I need to get those vegetables\n",
      "\n",
      "Review 1075: The hotel was in a great location close to metro and walking distance to many monuments and churches It was a little old but clean We got an older room maybe because we stayed only one night We had already been in Vienna and stayed at another hotel which was to my opinion much better The photos on the internet look great Maybe if it was for a longer stay the hotel would have giving me a larger room But for one night it was fine The staff was nice and the breakfast was nice also\n",
      "\n",
      "Review 1076: The location is the best thing by far about this hotel Close to the Schottentor subway station Vienna University Votiv kirche and generally within the walking distance from many landmarks The room is quite small yet clean However it is highly overpriced for Vienna\n",
      "\n",
      "Review 1077: The location of the Hotel is perfect\n",
      "\n",
      "Review 1078: The location is great Very close to the metro and other public transport Our room had an amazing view of the church and park\n",
      "\n",
      "Review 1079: Ideal location Old style like you are in a film Friendly and helpful staff Great breakfast View from the window wonderful cathedral Clean and comfortable room Wi Fi Good signal I think they have improved it in August Perfect Air conditioning\n",
      "\n",
      "Review 1080: It felt spacious well ordered comfortable no unnecessary frills Big windows view over park Warm smooth wooden floors\n",
      "\n",
      "Review 1081: Excellent location Old style but comfy Breakfast is good albeit a standard hotel breakfast which doesn t change much Price also good if booked well in advance\n",
      "\n",
      "Review 1082: Friendly staff breakfast was good but nothing special location was convenient for me but it s far from city center\n",
      "\n",
      "Review 1083: Great place to stay The staff is very friendly and helpful I asked in advanced about gluten free bread for my breakfast and they provided Great breakfast buffet with some traditional choices and home made delicious marmalades Good food also in their restaurant The room was comfortable and clean Also free good speed WiFi\n",
      "\n",
      "Review 1084: I stayed for a week the breakfast was perfect and Staff efficient and friendly\n",
      "\n",
      "Review 1085: Location is excelent\n",
      "\n",
      "Review 1086: Next to a beautiful church By a tram stop Excellent breakfast Lovely outdoor area\n",
      "\n",
      "Review 1087: Nice breakfast good air conditioning helpful staff\n",
      "\n",
      "Review 1088: I liked the location of the hotel The hotel has a good quality about everything\n",
      "\n",
      "Review 1089: Excellent location and staff\n",
      "\n",
      "Review 1090: Staff and location\n",
      "\n",
      "Review 1091: Location sevice building arches in front of hotel where you can eat have breakfast\n",
      "\n",
      "Review 1092: Great central location step away from public transport a couple of minutes away from city centre\n",
      "\n",
      "Review 1093: Everything Largish but quaint Historical Comfortable Amazing staff Delicious breakfast Clean room Restaurant is great and affordable\n",
      "\n",
      "Review 1094: No\n",
      "\n",
      "Review 1095: I liked it a lot and it is one of my favorite hotels till now\n",
      "\n",
      "Review 1096: Very nice breakfast excellent location\n",
      "\n",
      "Review 1097: The room was tiny up in the eves I think in the old servants quarters It was perfect and the staff super nice\n",
      "\n",
      "Review 1098: The breakfast\n",
      "\n",
      "Review 1099: Everything especially location and no vis vis\n",
      "\n",
      "Review 1100: Room featured a full bath a real luxury in this day and age\n",
      "\n",
      "Review 1101: The reception smile\n",
      "\n",
      "Review 1102: Good Breakfest\n",
      "\n",
      "Review 1103: Location of the place is very good Nice breakfast\n",
      "\n",
      "Review 1104: Best location ever\n",
      "\n",
      "Review 1105: Great Building location\n",
      "\n",
      "Review 1106: No\n",
      "\n",
      "Review 1107: food and staff were delightful\n",
      "\n",
      "Review 1108: the property was under refreshing but they were very nice and helpful\n",
      "\n",
      "Review 1109: Good hotel with charm and history in a perfect location\n",
      "\n",
      "Review 1110: Close to the Uni nice and helpful staff close to the city center and a lot of coffee shops\n",
      "\n",
      "Review 1111: No\n",
      "\n",
      "Review 1112: chocolates on pillows quiet good breakfast easily accessible safe area supermarket nearby\n",
      "\n",
      "Review 1113: Friendly and helpful staff overall nice hotel in a good location to explore the city\n",
      "\n",
      "Review 1114: very good food very clean\n",
      "\n",
      "Review 1115: Very clean room very silent noise proof windows and door abundant breakfast buffet great location\n",
      "\n",
      "Review 1116: Staff are so friendly and professional Lovely old hotel\n",
      "\n",
      "Review 1117: Location is perfect\n",
      "\n",
      "Review 1118: No\n",
      "\n",
      "Review 1119: Breakfast was lovely and provided great variety\n",
      "\n",
      "Review 1120: Location nice size room very clean\n",
      "\n",
      "Review 1121: Hotel is right place near city center exactly what is needed\n",
      "\n",
      "Review 1122: Bfast was excellent staff friendly service was very good\n",
      "\n",
      "Review 1123: Staff are very friendly We were a Short walk to so many fantastic places We loved Vienna and staying at Hotel Regina topped it off\n",
      "\n",
      "Review 1124: The single room was comfortable and the staff were overall welcoming\n",
      "\n",
      "Review 1125: Excellent buffet Good eggs croissants fruit etc\n",
      "\n",
      "Review 1126: Everything\n",
      "\n",
      "Review 1127: Great location breakfast selection nice breakfast staff restaurant food cleanliness\n",
      "\n",
      "Review 1128: Everything was perfect Location breakfast room Staff were all very kind and helpful\n",
      "\n",
      "Review 1129: Location\n",
      "\n",
      "Review 1130: Location and breakfast\n",
      "\n",
      "Review 1131: Comfortable friendly and idealylocated\n",
      "\n",
      "Review 1132: Location and friendly staff\n",
      "\n",
      "Review 1133: Excellent breakfast\n",
      "\n",
      "Review 1134: Great location\n",
      "\n",
      "Review 1135: Old world charm\n",
      "\n",
      "Review 1136: cream cheese for breakfast\n",
      "\n",
      "Review 1137: Staff were very helpfull very clean hotel with high standards great location Irish bar about 30 seconds away\n",
      "\n",
      "Review 1138: facilities staff and breakfast was so nice and amazing got a bedroom with a great balcony view of Vienna A\n",
      "\n",
      "Review 1139: Location\n",
      "\n",
      "Review 1140: No\n",
      "\n",
      "Review 1141: Location price cleanliness\n",
      "\n",
      "Review 1142: Great location\n",
      "\n",
      "Review 1143: The atmosphere of this classic hotel\n",
      "\n",
      "Review 1144: Location was excellent Breakfast choice also very good\n",
      "\n",
      "Review 1145: They offer an excellent breakfast included with the room Great location\n",
      "\n",
      "Review 1146: Excellent location close to tram and subway 15 min to walk to city center Nice personnel Beautiful view over the park\n",
      "\n",
      "Review 1147: The austrian touch and the friendly staff\n",
      "\n",
      "Review 1148: Breakfast OK good location close to center\n",
      "\n",
      "Review 1149: No\n",
      "\n",
      "Review 1150: breakfast was excellent great choices\n",
      "\n",
      "Review 1151: very nicely decorated cozy near to metro station\n",
      "\n",
      "Review 1152: Lage and parking opportunity air conditioning building is a historical hotel\n",
      "\n",
      "Review 1153: Great breakfasts and very professional and friendly staff\n",
      "\n",
      "Review 1154: The location the breakfast the helpfull staff\n",
      "\n",
      "Review 1155: Great location Close to city center\n",
      "\n",
      "Review 1156: Location was good\n",
      "\n",
      "Review 1157: Nice property and at a walkable distance from metro station\n",
      "\n",
      "Review 1158: Lovely hotel within walking distance or short underground ride to everything Nice breakfast and restaurant\n",
      "\n",
      "Review 1159: The Breakfast was good and even the location\n",
      "\n",
      "Review 1160: Excellent location close to tram and subway 15 min to walk to city center Nice personnel Beautiful view over the park\n",
      "\n",
      "Review 1161: Very nice view of the church from guest room Wide range of choices at breakfast buffet Excellent location\n",
      "\n",
      "Review 1162: very nice and friendly Service\n",
      "\n",
      "Review 1163: Near to city center\n",
      "\n",
      "Review 1164: Excellent breakfast Nice staff Great location\n",
      "\n",
      "Review 1165: Great location and atmosphere Fine breakfast\n",
      "\n",
      "Review 1166: Everything Good Breakfast\n",
      "\n",
      "Review 1167: Great breakfast before easy reach of all interesting places\n",
      "\n",
      "Review 1168: Your location hotel\n",
      "\n",
      "Review 1169: Very clean good breakfast buffet efficient staff good location restaurant food good\n",
      "\n",
      "Review 1170: Perfect location wonderful breakfast buffet Very comfortable beds\n",
      "\n",
      "Review 1171: Good aircondition Friendly and profational stuff Very good location Good breakfast we were very sutisfeid\n",
      "\n",
      "Review 1172: No\n",
      "\n",
      "Review 1173: everything\n",
      "\n",
      "Review 1174: Great location 10 min walk to the city center Friendly staff nice breakfast\n",
      "\n",
      "Review 1175: Quiet good breakfast and helpful staff The bar downstairs is a great place to wind down in the evening\n",
      "\n",
      "Review 1176: Location is good\n",
      "\n",
      "Review 1177: Good shower very important\n",
      "\n",
      "Review 1178: No\n",
      "\n",
      "Review 1179: Excellent location beautiful view very friendly personnel\n",
      "\n",
      "Review 1180: Location breakfast and room to be recommended\n",
      "\n",
      "Review 1181: No\n",
      "\n",
      "Review 1182: perfect location\n",
      "\n",
      "Review 1183: Great location super room\n",
      "\n",
      "Review 1184: Everything about the Regina is traditional it s a place you go back to again and again\n",
      "\n",
      "Review 1185: Great Hotel Great location Great Staff Reception staff went beyond their duty to accommodate my requests\n",
      "\n",
      "Review 1186: Staffs are friendly Nice location with a view Breakfast is delicious and fresh\n",
      "\n",
      "Review 1187: Great location\n",
      "\n",
      "Review 1188: Very tasty bread jam tea cake selection at breakfast\n",
      "\n",
      "Review 1189: Courteous and helpful staff comfortable accommodations proximity to university\n",
      "\n",
      "Review 1190: Location\n",
      "\n",
      "Review 1191: Great premises and location great rooms and breakfast Attentive staff\n",
      "\n",
      "Review 1192: t was very safe and bathroom very comfortable and hot water leak rotundly it is important for me because my hair is so long\n",
      "\n",
      "Review 1193: everything in the hotel\n",
      "\n",
      "Review 1194: The hotel is very convenient to transportation and to walking to the Graben The staff is very nice and the hotel is clean Nothing exceptional\n",
      "\n",
      "Review 1195: overall old vienna style friendlinesd of staff breakfast\n",
      "\n",
      "Review 1196: I liked elegant architecture of the building historical furniture proximity of tram and metro good breakfast buffet\n",
      "\n",
      "Review 1197: Breakfast was fantastic Staff very helpful and spoke english very well very accomodating and couldnt do enough\n",
      "\n",
      "Review 1198: Wonderful d coration\n",
      "\n",
      "Review 1199: Just an extremely well run hotel we enjoyed evey minute\n",
      "\n",
      "Review 1200: Excellent position in Vienna very spacious rooms nice breakfast rather fast internet for a hotel\n",
      "\n",
      "Review 1201: good breakfast purity\n",
      "\n",
      "Review 1202: No\n",
      "\n",
      "Review 1203: location looks\n",
      "\n",
      "Review 1204: Amazing Hotel staff were friendly and very helpful Very clean Would defiantly go again\n",
      "\n",
      "Review 1205: Nice hotel Walking distance to train station and bus stop Next to a nice church\n",
      "\n",
      "Review 1206: No\n",
      "\n",
      "Review 1207: Great position for exploring the city\n",
      "\n",
      "Review 1208: friendly personel fullfiled reqest\n",
      "\n",
      "Review 1209: The location is perfect just a two minute walk to the Rathaus\n",
      "\n",
      "Review 1210: The room big high ceiling Location just a few minutes walk to Stephanplatz\n",
      "\n",
      "Review 1211: Location is nice near of the center clean friendly staff good breakfast but the same every day\n",
      "\n",
      "Review 1212: Nice location friendly staff\n",
      "\n",
      "Review 1213: near to christmas market 3 min by food great old hotel\n",
      "\n",
      "Review 1214: nice location amazing view separate toilet and bathroom reasonable price\n",
      "\n",
      "Review 1215: Great location easy access by train metro from airport Breakfast was great\n",
      "\n",
      "Review 1216: Wonderful position good breakfast room was big\n",
      "\n",
      "Review 1217: Friendly staff great location\n",
      "\n",
      "Review 1218: A very nice big room with view of a park Not far from the Rathaus with the Christmas markets or the old city\n",
      "\n",
      "Review 1219: very friendly helpful staff\n",
      "\n",
      "Review 1220: Location great breakfast\n",
      "\n",
      "Review 1221: Great location\n",
      "\n",
      "Review 1222: Nice staff helpful food good and location good\n",
      "\n",
      "Review 1223: Good location fast internet friendly staff Beautiful surrounding especially Votive Church view\n",
      "\n",
      "Review 1224: A hotel with real character plus all the comfort you need\n",
      "\n",
      "Review 1225: Beautiful looking hotel spacious room Great location Breakfast was excellent Service was brilliant\n",
      "\n",
      "Review 1226: Atmosphere of history good breakfast and dinner Very close to all main sightseeings\n",
      "\n",
      "Review 1227: Thank you for the Viennese birthday treat\n",
      "\n",
      "Review 1228: Location is great and I loved the breakfast\n",
      "\n",
      "Review 1229: friendly staff Ok breakfast\n",
      "\n",
      "Review 1230: Reception Bellboy staff were good Jeremy Michael were exceptional really excellent\n",
      "\n",
      "Review 1231: Amazing view Beautiful antique furniture Very quiet despite central location Rich breakfast esp coffee and bagels\n",
      "\n",
      "Review 1232: No\n",
      "\n",
      "Review 1233: Very nice hotel\n",
      "\n",
      "Review 1234: Excellent area and great hotel\n",
      "\n",
      "Review 1235: Great location goof view to votiv church and park\n",
      "\n",
      "Review 1236: Locaation\n",
      "\n",
      "Review 1237: breakfast and location\n",
      "\n",
      "Review 1238: Fantastic location friendly helpful staff great breakfast\n",
      "\n",
      "Review 1239: Everything\n",
      "\n",
      "Review 1240: Ideal location would stay again excellent value Great breakfast\n",
      "\n",
      "Review 1241: Location helpful staff good breakfast\n",
      "\n",
      "Review 1242: Everything was as prescript in booking Location staff and facilities\n",
      "\n",
      "Review 1243: Service was great Loved the location The room was clean and quiet\n",
      "\n",
      "Review 1244: Spacious rooms Period features\n",
      "\n",
      "Review 1245: Good location 15 minutes walk to cafe central 5 mins to film and food festival\n",
      "\n",
      "Review 1246: Perfect breakfast super service Ask for own parking next to hotel underground\n",
      "\n",
      "Review 1247: I stayed entire month at the hotel every single day was perfect Home atmosphere great location great stuff good breakfest I Loved absolutely everything\n",
      "\n",
      "Review 1248: Check in out took 2 mins very helpfull staff Maria from the restaurant was really cute and my 2 years baby loved her Tasty breakfast 10 mins walk from Il Duomo You can borrow an umbrella in case of rain Nearby supermkt pizzeria and pharmacy\n",
      "\n",
      "Review 1249: We picked this hotel for its central location and were able to walk to all the major sites Nice size rooms even the single rooms and the beds were comfy Trams do run outside the hotel but our rooms overlooked the courtyard so were nice and quiet Staff were very friendly and helpful\n",
      "\n",
      "Review 1250: The lady at reception was very kind and helpful Also the lady serving breakfast extremely warm and friendly The breakfast was excellent\n",
      "\n",
      "Review 1251: breakfast comfort of beds breakfast staff cleanliness shower\n",
      "\n",
      "Review 1252: Great location very close to Duomo Hotel itself was all right nothing fancy but ok Breakfast was very good lot to chose from Helpful staff\n",
      "\n",
      "Review 1253: The Hotel Regina is beautifully kept and decorated in a more traditional Italian style Our room reeked of cigarette smoke however the staff immediately changed our room to the 5th Floor The second room was excellent and looked over a quaint courtyard The location is perfect near the Duomo and excellent restaurants The breakfasts were ample and delicious with beautiful service in the downstairs dining room We would definitely return when staying in Milan\n",
      "\n",
      "Review 1254: This is my second time staying at the hotel Regina and I would stay the next time I go too Love the location because it is central to everything About 7 mins walk away from duomo 15 from brera and 15 from navigli The street that it is located on has lots of shops and some good ones too so you don t have to always go to the duomo area to find something The breakfast buffet in the morning is fantastic The food is delicious and there are also gluten free options Overall my experience at hotel Regina made my stay in Milan wonderful The service is excellent the rooms and nice and clean and the location is superb\n",
      "\n",
      "Review 1255: Eco friendly small scale high quality good coffee at breakfast free wifi Everything worked and was all smooth and easy Staff excellent All around I just loved it\n",
      "\n",
      "Review 1256: Hotel is very well situated rooms are clean and not tiny Bathroom is very well equiped It s quite calm and not nozy at all Air conditioner worked perfectly well\n",
      "\n",
      "Review 1257: Location right on the shopping area near to tourist locations Big room with all the amenities you look for in a 4 star hotel\n",
      "\n",
      "Review 1258: Great location\n",
      "\n",
      "Review 1259: The place is lovely clean with attentive staff and our room was very comfortable We lost one of our two nights because a flight was cancelled which was a disappointment\n",
      "\n",
      "Review 1260: Staff are wonderful rooms are cosy and perfectly adequate Clean and tidy and super cute boutique hotel with great art and perfect location The breakfast is wonderful it s a perfect stay\n",
      "\n",
      "Review 1261: The location is excellent for exploring the historical centre of Milan and around The tram is right out the front and a metro station not far away The hotel is comfortable\n",
      "\n",
      "Review 1262: Great Location in the city Comfy enough bedroom\n",
      "\n",
      "Review 1263: Great location friendly very helpful staff Nice hotel and a good breakfast selection\n",
      "\n",
      "Review 1264: The staff were more than helpful and nice the hotel itself is charming lobby is beautifully decorated and inviting the courtyard is cozy ask for a room facing the courtyard quiet and a great view Mine was room 508 on the small side but very comfortable The complimentary breakfast was very nice Lots of fruit cereal yogurts breads and cakes Clean great location highly recommend for a traveler who wants local charm insists upon cleanliness not fussy or wishing to be pampered\n",
      "\n",
      "Review 1265: Hotel was in a good location about 15min walk to Duomo Some nice shops along the way Some great little restaurants tucked in along the way good to explore Offered a very good breakfast keep an eye out for the adorabile Maria who greets you like family every day Walking distance from Cadorna station but taxi from Milan Central about 12 Euro\n",
      "\n",
      "Review 1266: Great location very comfortable bed I left very early in the morning only stayed one night so didn t try the breakfast however a food bag was organised for me which was great\n",
      "\n",
      "Review 1267: No\n",
      "\n",
      "Review 1268: No\n",
      "\n",
      "Review 1269: Great location\n",
      "\n",
      "Review 1270: Bed bed linen robe towels\n",
      "\n",
      "Review 1271: breakfast and location\n",
      "\n",
      "Review 1272: Alls well\n",
      "\n",
      "Review 1273: Clean quiet and close to the Duomo Very nice bathrooms\n",
      "\n",
      "Review 1274: Everything\n",
      "\n",
      "Review 1275: Everything\n",
      "\n",
      "Review 1276: Breakfast staff location\n",
      "\n",
      "Review 1277: Great location and great place Super breakfast\n",
      "\n",
      "Review 1278: very good central location very comfortable bed nice breakfast\n",
      "\n",
      "Review 1279: Location is very good Not bad breakfast\n",
      "\n",
      "Review 1280: Great location breakfast and good single rooms Staff were lovely very helpful and friendly\n",
      "\n",
      "Review 1281: The location\n",
      "\n",
      "Review 1282: The location is very close to the Dome and to the shopping area\n",
      "\n",
      "Review 1283: Perfect location with walking distance to city center Good breakfast and clean rooms\n",
      "\n",
      "Review 1284: Lovely court yard Large windows that open\n",
      "\n",
      "Review 1285: i m always welcomed at the Regina great people great location\n",
      "\n",
      "Review 1286: Friendly staff in the hotel\n",
      "\n",
      "Review 1287: Great location excellent staff special thanks to the lady in charge for the breakfast\n",
      "\n",
      "Review 1288: No\n",
      "\n",
      "Review 1289: Very central location friendly staff good value for money for Milan\n",
      "\n",
      "Review 1290: Location and quality\n",
      "\n",
      "Review 1291: Great location\n",
      "\n",
      "Review 1292: the location location location it was 10 min walk to Duomo and close to the bars and shopping area Also perfect for solo travellers\n",
      "\n",
      "Review 1293: No\n",
      "\n",
      "Review 1294: The location\n",
      "\n",
      "Review 1295: Clean Italian great location friendly staff\n",
      "\n",
      "Review 1296: No\n",
      "\n",
      "Review 1297: Breakfast was good\n",
      "\n",
      "Review 1298: Location in the City centre\n",
      "\n",
      "Review 1299: Close to Duomo Clean\n",
      "\n",
      "Review 1300: Great location Tram stop almost at door and metro 5 mins walk Very clean\n",
      "\n",
      "Review 1301: Almost everything\n",
      "\n",
      "Review 1302: Vergy good location 5 mins walking from Duomo cathedral Breakfast very good with a huge variety\n",
      "\n",
      "Review 1303: good location close to the city centre nice clean rooms friendly staff\n",
      "\n",
      "Review 1304: Staff was amazing\n",
      "\n",
      "Review 1305: Great location Really close to the Duomo Nice and helpful staff Good breakfast\n",
      "\n",
      "Review 1306: Helpful staff providing advice on transport to train station fixing an issue with the hotel computer\n",
      "\n"
     ]
    }
   ],
   "source": [
    "# Show All reviews\n",
    "\n",
    "def get_individual_reviews_for_city(city, hotel_data):\n",
    "    city_hotels = hotel_data[hotel_data['city'] == city]\n",
    "\n",
    "    if city_hotels.empty:\n",
    "        return None, [f\"No hotels found in {city}.\"]\n",
    "\n",
    "    # Find the hotel with the most positive reviews\n",
    "    max_positive_reviews_index = city_hotels['positive_review'].apply(lambda x: len(x)).idxmax()\n",
    "    hotel_name = city_hotels.loc[max_positive_reviews_index, 'hotel_name']\n",
    "\n",
    "    try:\n",
    "        hotel_row = hotel_data.loc[hotel_data['hotel_name'] == hotel_name].iloc[0]\n",
    "    except IndexError:\n",
    "        return None, [f\"Hotel {hotel_name} not found.\"]\n",
    "\n",
    "    reviews_text = hotel_row['positive_review']\n",
    "    reviews_phrases = [phrase.strip() for phrase in reviews_text.split(', ')]\n",
    "\n",
    "    if not reviews_phrases:\n",
    "        return hotel_name, [f\"No reviews found for {hotel_name}.\"]\n",
    "\n",
    "    return hotel_name, reviews_phrases\n",
    "\n",
    "# Example usage\n",
    "city_to_check = 'Paris'\n",
    "hotel_name_most, reviews_for_city = get_individual_reviews_for_city(city_to_check, hotel_review)\n",
    "\n",
    "if reviews_for_city is None:\n",
    "    print(f\"No reviews found for hotels in {city_to_check}.\")\n",
    "else:\n",
    "    print(f\"Reviews for the hotel with the most positive reviews in {city_to_check} - {hotel_name_most}:\\n\")\n",
    "\n",
    "    for index, review_text in enumerate(reviews_for_city, start=1):\n",
    "        print(f\"Review {index}: {review_text}\\n\")\n"
   ]
  },
  {
   "cell_type": "code",
   "execution_count": 59,
   "metadata": {},
   "outputs": [
    {
     "name": "stdout",
     "output_type": "stream",
     "text": [
      "Reviews for the hotel with the most positive reviews in Paris - Hotel Regina:\n",
      "\n",
      "Review 1: The staff were very helpful which along with the setting made a very special trip a fantastic one\n",
      "\n",
      "Review 2: Location and friendly staff\n",
      "\n",
      "Review 3: The hotel is just a couple of minutes walk from La Rambla and is in a very central location without being disturbed by traffic noise Reception staff were extremely helpful the room was large comfortable and cleaned beautifully each day Can t comment on the food here as we ate out\n",
      "\n",
      "Review 4: Great very large corner room with a wonderful view\n",
      "\n",
      "Review 5: The location is excellent for exploring the historical centre of Milan and around The tram is right out the front and a metro station not far away The hotel is comfortable\n",
      "\n",
      "Review 6: Staff where very helpful especially the concierge\n",
      "\n",
      "Review 7: The staff was very helpfull and smiling Great service\n",
      "\n",
      "Review 8: Good breakfast The WiFi was reasonably fast good for work Chocolate on the pillow Small cake at entrance\n",
      "\n",
      "Review 9: Bed shower and location\n",
      "\n",
      "Review 10: Great location recently awarded 5 star status and easy to see why a very authentic Parisien hotel spacious rooms view of the Eiffel Tower is a must\n",
      "\n"
     ]
    }
   ],
   "source": [
    "# Show Random Reviews \n",
    "\n",
    "import random\n",
    "\n",
    "def get_individual_reviews_for_city(city, hotel_data, num_reviews=10):\n",
    "    city_hotels = hotel_data[hotel_data['city'] == city]\n",
    "\n",
    "    if city_hotels.empty:\n",
    "        return None, [f\"No hotels found in {city}.\"]\n",
    "\n",
    "    # Find the hotel with the most positive reviews\n",
    "    max_positive_reviews_index = city_hotels['positive_review'].apply(lambda x: len(x)).idxmax()\n",
    "    hotel_name = city_hotels.loc[max_positive_reviews_index, 'hotel_name']\n",
    "\n",
    "    try:\n",
    "        hotel_row = hotel_data.loc[hotel_data['hotel_name'] == hotel_name].iloc[0]\n",
    "    except IndexError:\n",
    "        return None, [f\"Hotel {hotel_name} not found.\"]\n",
    "\n",
    "    reviews_text = hotel_row['positive_review']\n",
    "    reviews_phrases = [phrase.strip() for phrase in reviews_text.split(', ')]\n",
    "\n",
    "    if not reviews_phrases:\n",
    "        return hotel_name, [f\"No reviews found for {hotel_name}.\"]\n",
    "\n",
    "    # Display only a random subset of reviews\n",
    "    selected_reviews = random.sample(reviews_phrases, min(num_reviews, len(reviews_phrases)))\n",
    "\n",
    "    return hotel_name, selected_reviews\n",
    "\n",
    "# Example usage\n",
    "city_to_check = 'Paris'\n",
    "hotel_name, reviews_for_city = get_individual_reviews_for_city(city_to_check, hotel_review, num_reviews=10)\n",
    "\n",
    "if reviews_for_city is None:\n",
    "    print(f\"No reviews found for hotels in {city_to_check}.\")\n",
    "else:\n",
    "    print(f\"Reviews for the hotel with the most positive reviews in {city_to_check} - {hotel_name}:\\n\")\n",
    "\n",
    "    for index, review_text in enumerate(reviews_for_city, start=1):\n",
    "        print(f\"Review {index}: {review_text}\\n\")\n"
   ]
  },
  {
   "cell_type": "code",
   "execution_count": 58,
   "metadata": {},
   "outputs": [
    {
     "name": "stdout",
     "output_type": "stream",
     "text": [
      "Reviews for the hotel with the most positive reviews in Paris - Hotel Regina:\n",
      "\n",
      "Review 1: Building is very old but nicely maintained Bed quality was excellent and quality of toilettes are very good We booked family suite and there are three single beds in children room but we have a teenage daughter so they gave us two connecting rooms later which were much better The rooms are facing back of building which is better than facing road because it is more quiet and you can keep window open\n",
      "\n",
      "Review 2: Beautiful hotel in a great location We booked the Eiffel tower junior suite which was lovely with a great view The bed nice and big but very hard I know some prefer hard to soft Good and friendly staff on reception\n",
      "\n",
      "Review 3: THE CITY\n",
      "\n",
      "Review 4: This is my favorite hotel I have stayed here three times and never been disappointed It is located right next to the Louvre and the Tuileries Gardens near a stop on metro line 1 and within easy walking distance of the Paris Opera and the Musee d Orsay The hotel is in an original Haussmann building with decorations in Art Nouveau style An old world Parisian style pervades the building and the excellent service but a recent remodeling has made the rooms and the bathrooms state of the art Many of the rooms have Eiffel Tower views we were lucky enough to be upgraded to the Eiffel Tower suite with a table on a small balcony where we could have breakfast overlooking the Eiffel Tower the Louvre and many of the top Paris monuments Hotels in Paris can be expensive and this one is but we left with a feeling of money well spent\n",
      "\n",
      "Review 5: The bed was extremely comfortable and the view was unparalleled Staff very attentive Classy hotel\n",
      "\n",
      "Review 6: It s a great hotel Beautiful and the staff is awesome I lost my earrings and they did find them and kept them safe until I came back for them after one week\n",
      "\n",
      "Review 7: Perfect for those looking for the ultimate Paris experience The location decor and architectural design cannot be beat If you are looking for the hotel gym and buffet breakfast this is not it Wonderful staff Ask for a view of the park\n",
      "\n",
      "Review 8: We were lucky to have one of the few rooms with a view of the Eiffel Tower which was wonderful I liked that the windows were double paned and we could open them up for some fresh air and an even better view of the Eiffel Tower The location of this hotel centrally located for any traveler who is wanting to see the main and best highlights of Paris It s right next to the Louvre Museum and the Jardin des Tuileries and other prominent museums The bus and metro lines are very close with quick access to the other sites to see The concierge was helpful the night before we left to get us an early taxi to the airport The bar and terrace looked beautiful but we did not visit them\n",
      "\n",
      "Review 9: The staff was fantastic friendly and very helpful The property is absolutely beautiful\n",
      "\n",
      "Review 10: View\n",
      "\n"
     ]
    }
   ],
   "source": [
    "# Show First 10 reviews\n",
    "\n",
    "def get_individual_reviews_for_city(city, hotel_data, num_reviews=10):\n",
    "    city_hotels = hotel_data[hotel_data['city'] == city]\n",
    "\n",
    "    if city_hotels.empty:\n",
    "        return None, [f\"No hotels found in {city}.\"]\n",
    "\n",
    "    # Find the hotel with the most positive reviews\n",
    "    max_positive_reviews_index = city_hotels['positive_review'].apply(lambda x: len(x)).idxmax()\n",
    "    hotel_name = city_hotels.loc[max_positive_reviews_index, 'hotel_name']\n",
    "\n",
    "    try:\n",
    "        hotel_row = hotel_data.loc[hotel_data['hotel_name'] == hotel_name].iloc[0]\n",
    "    except IndexError:\n",
    "        return None, [f\"Hotel {hotel_name} not found.\"]\n",
    "\n",
    "    reviews_text = hotel_row['positive_review']\n",
    "    reviews_phrases = [phrase.strip() for phrase in reviews_text.split(', ')]\n",
    "\n",
    "    if not reviews_phrases:\n",
    "        return hotel_name, [f\"No reviews found for {hotel_name}.\"]\n",
    "\n",
    "    return hotel_name, reviews_phrases[:num_reviews]\n",
    "\n",
    "# Example usage\n",
    "city_to_check = 'Paris'\n",
    "hotel_name, reviews_for_city = get_individual_reviews_for_city(city_to_check, hotel_review, num_reviews=10)\n",
    "\n",
    "if reviews_for_city is None:\n",
    "    print(f\"No reviews found for hotels in {city_to_check}.\")\n",
    "else:\n",
    "    print(f\"Reviews for the hotel with the most positive reviews in {city_to_check} - {hotel_name}:\\n\")\n",
    "\n",
    "    for index, review_text in enumerate(reviews_for_city, start=1):\n",
    "        print(f\"Review {index}: {review_text}\\n\")\n"
   ]
  },
  {
   "cell_type": "markdown",
   "metadata": {},
   "source": [
    "In the sklearn library, there are many other functions you can use, to find cosine similarities between documents. You can directly use TfidfVectorizer in the sklearn’s feature_extraction.text class to Vectorize the words. It will calculate TF_IDF normalization.In sklearn, we can perform the dot product of the vector by using a linear kernel.Here the linear kernel is the same as the cosine similarity, but faster"
   ]
  },
  {
   "cell_type": "code",
   "execution_count": 21,
   "metadata": {},
   "outputs": [],
   "source": [
    "tf = TfidfVectorizer(analyzer='word', ngram_range=(2, 3), min_df=0, stop_words='english')\n",
    "tfidf_matrix = tf.fit_transform(hotel_review['review_text_clean'])\n"
   ]
  },
  {
   "cell_type": "code",
   "execution_count": 22,
   "metadata": {},
   "outputs": [],
   "source": [
    "# function that will find us the top n similar papers based on cosine similarity:\n",
    "\n",
    "cosine_similarities = linear_kernel(tfidf_matrix, tfidf_matrix)\n"
   ]
  },
  {
   "cell_type": "code",
   "execution_count": 23,
   "metadata": {},
   "outputs": [],
   "source": [
    "# function to generate maps\n",
    "def new_recommendations(name,city, cosine_similarities):\n",
    "    \n",
    "    recommended_hotels = []\n",
    "    \n",
    "    #get input city index\n",
    "    city_index= list(hotel_review[hotel_review.city==city].index)\n",
    "    \n",
    "    # gettin the index of the hotel that matches the name\n",
    "    idx = hotel_review[(hotel_review.hotel_name == name)].index[0]\n",
    "    \n",
    "    # creating a Series with the similarity scores in descending order\n",
    "    score_series = pd.Series(cosine_similarities[idx]).sort_values(ascending = False)\n",
    "\n",
    "    # getting the indexes of  similar hotels list\n",
    "    top_10_indexes = list(score_series.index)\n",
    "    \n",
    "    # populating the list with the names of hotels\n",
    "    for i in range(len(top_10_indexes)):\n",
    "        if top_10_indexes[i] not in city_index:\n",
    "            pass\n",
    "        else:\n",
    "            recommended_hotels.append(hotel_review[hotel_review.index==top_10_indexes[i]]['hotel_name'].values[0])\n",
    "\n",
    "    #getting the list of hotels based on the lat and long\n",
    "    h = hotel_review[['hotel_name','lat_x','lng_x']].to_dict(orient='records')\n",
    "    l = {k['hotel_name']: [k['lat_x'], k['lng_x']] for k in h}\n",
    "    if {hotel: l[hotel] for hotel in recommended_hotels }=={}:\n",
    "        print(\"There are no hotels of similar hotel\")\n",
    "    else:\n",
    "        output= {hotel: l[hotel] for hotel in recommended_hotels[:10]}\n",
    "        newoutput={i:output for i in range(1,len(output)+1)}\n",
    "        return newoutput"
   ]
  },
  {
   "cell_type": "code",
   "execution_count": 24,
   "metadata": {},
   "outputs": [
    {
     "data": {
      "text/plain": [
       "' Location good close to le Marais and 3e arrondissement Fitness room not great but adequate,  Comfortable beds welcoming staff cleanliness was very good,  The hotel is good The personal was nice and the installation very good The breakfast time interval excellent ,  Great location almost next to the metro station a ten minute metro journey to the centre of Paris,  Nice staff clean rooms with a decent service Close to metro and bus to reach the main tourist areas of the city but not much else nearby Well equipped gym that almost nobody uses ,  The position for public transport was excellent the metro is right there So we could get around Paris super easy the room was very small but had everything we could need the staff where very helpful and even arranged to change our room as the first one was on the road and we like to open our windows at night while we sleep There where quick to change and the new room was perfect they had an awesome restaurant on the premises and a funky little night club at the back which was an awesome surprise ,  Room design was very nice good bed and nice bathroom However showering in the bathtub is a bit old fashioned Plus the shower head holder didn t work All in all ok room,  The staff at this hotel were very friendly and helpful Room was quite spacious for Europe our room faced the courtyard which was nice and allowed us to leave our window open at night The location is excellent metro station is just outside lot s of good restaurants in walking distance We really enjoyed the La Marais district it s safe and close to most major sites I would definitely stay here again ,  Very friendly staff Nice breakfast buffet Clean modern room,  A nice small hotel in the 3rd arrondissement which is a great area to explore with lots of small restaurants nice bars The market place in the area is an absolute must go to grab an amazing lunch amongst the Parisiens The staff in the hotel is without exception all very polite and ensure your stay will be very comfortable The rooms are equipped with large comfortable beds and the bathroom has got all one needs when traveling ,  Great location Wonderful hotel Loved the lizard in the lobby Room was spacious and very comfortable ,  The location is great very central and easy access to the public transportation The fitness center is just a small room but adequate if you know what to do with the equipment The food was an amazing experience ,  Quiet,  huge rooms beautiful natural light big lobby i stayed in three different hotels on the same trip to paris and found that this hotel was the best by far even though the other ones were more expensive and better ranked ,  The lighting in the rooms were my favourite it was just a lovely extra touch ,  The staff were excellent very accommodating and knowledgeable The location is also great very close to the Metro and in the Marais yet quite close Le Bastille ,  The staff is helpful ,  Nice rooms good size Amazing location would definitely stay again and have stayed before ,  The location is ideal close to metro and taxi Very clean and large rooms quiet good value for money decent breakfast,  Close to the beautiful streets and some good restaurants around,  Cool speak easy cocktailbar Great location for shopping restaurants and Republique subway station is a great hub to take you in any direction , No,  Location is great central walking distance to Marais district front desk staff very friendly ,  Good location and reasonable price of the room This hotel is on a bissy street so wonderful what the big windows isolated traffic sounds Very friendly staff Best coffee we had in Paris for breakfast ,  ,  The staff where amazing especially phillipe who checked us in nothing seemed to be a problem for them and they seemed to be able to answer our questions before we could ask them 10 10 best hotel I ve ever used ,  My room was nice and big for Paris and very modern and clean The area is great with loads of nice restaurants and close to Republique,  big spacious rooms,  Staff was very friendly Convenient bar with lively atmosphere Great location ,  The excellent reception service who were very accommodating and friendly Hotel decor is quirky features on the cover of Hip Hotels ,  Friendly and helpful staff Very clean Quiet room after we complained about the first not so quiet room we were given ,  The hotel is in a great location my room was very comfortable and large for Paris The bathroom was well sized with a large bath tub The room rate when I stayed was also very good value for money I liked the decor of the hotel and they have gone to some effort to have clean modern rooms ,  Location design concept of the hotel and the size of the rooms especially knowing how small are the hotel rooms in Paris ,  Very easy to access the centre Friendly and helpful staff A little poor for breakfast but we were late down I loved the theme Thanks for having us ,  The location it s the only reason i staid there otherwise there is nothing else make you to go there maybe also the size of the room,  Great location for visiting Paris,  Room size was very good ,  The staff were lovely and the location was fantastic The rooms are very modern but have everything you need Great showers ,  Modern room decoration Enough space in the room Location Clean Kind personal,  Location staff friendliness,  Rooms were large bright and clean 2 sinks in bathroom and lots of mirrors Good lighting and lots of well lit wardrobe space Good room temp control options Friendly and helpful staff and good service at breakfast Lovely selection of food for breakfast and not too busy Well located being minutes from subway and a few stops from Gare du Nord ,  The staff at the hotel offered a supperior service They were very helpful and effective in all matters ,  Modern design room Was given a upgrade on arrival Clean,  Loved everything The staff are really helpful venue and location is superb and everything was of a high standard We were made to feel very welcome food was great and the rooms are amazing I will definitely stay here again ,  The location is great In the Marais area between Republique Bastille Very convenient,  Room was very clean good facilities available ,  I enjoyed the new design of this hotel it has a very interesting theme yet the bedrooms are spacious neat and sleek It is perfectly located at the entrance of Le Marais and I walked everywhere I did not use the tube or a cab once I really enjoyed my stay in this hotel Worth it ,  Central location and stylish comfortable bedroom,  The room is clean Great TV Internet good,  The location was just perfect close to a metro station as well as walking distance from good restaurants bars and stores The room was big and very comfortable,  TVs are very good at all and 3 D A lot more space for the value in this hotel versus a place like the Crowne Plaza ,  Location is fine quirky interior design concept,  The location of the hotel ,  Good location and next to the metro Good decoration and good space in room Staff is friendly ,  The excellent sophisticated baths and the oh so comfy bed ,  Spacious room for paris standards king sizee bed lux bath,  Stylish hotel The room was quiet and unusually spacious compared to hotel rooms in Paris the bed was comfortable the bathroom simply wonderful The dark corridors were in stark contradiction with the bright room Overall experience was very good ,  Location friendly personnel ,  Room was large ,  ,  happy helpful reception staff spoke more English than I did French comfortable clean modern white rooms upgraded as they knew it was a special anniversary,  Incredible location and value for money The rooms were clean bright and modern with big windows For this price in the center of Paris where hotels of this caliber are often dark old and pokey I will 100 return ,  Room Size Modern Facilities Amenities Friendly Staff Latin Flavour Decor,  Great service upon arrival Elisa and Diogo were very friendly and professional They managed to explain details of the hotel This is brand new hotel for 1 year now with great concept We stayed for 4 nights and feel so comfortable with the large bed they have It is highly recommended if your preference is Le Marais district The hotel has great concept Bright rooms and with dark coridors Fabulous front desk and reservation hotel staffs ,  Staff were extremely professional and nice Welcoming Even I though non of them french ,  Great very helpful staff lovely food and peruvian chic decor,  Rooms are really spacious with a great shower bath Wifi is separated for each room Location is good next to a couple of metro stations ,  Differently not value for money,  Big rooms and modern,  Good location,  Great location Very close to the Carreau du Temple convention space ,  the room and the bathroom were extremely big luxury facilities such as dressing gown all very well presented,  Location good mattress good room size and cleanliness great and very good staff,  Great hotel my favorite in Paris so far for the price you feel luxury I recommend to pay extra for the upgrade The rooms are HUGE,  nice duplex breakfast buffet,  Large rooms,  Breakfast friendly staff room size ,  Stay there for a week Wonderful Great large room sunny Front desk Philip was extremely helpful Highly recommended ,  Really helpful staff well equipped room bathroom in junior suite was great ,  Everything is perfect Thank you so much see you soon next time Erez Egilmez,  Great place great location , No,  Brunch,  The room was clean but Light bulbs out Tv channels didn t work Silicon hanging off in the shower Door keep was Broken not very sercure ,  Decoration of the rooms overall and the spacious contemporary bathroom,  Super comfortable incredible location very quiet,  The hotel would be improved if it had coffee and tea making facilities Also the TV facilities did not work effectively ,  Nice feel and relaxed atmosphere,  location,  Play of colours in the room good breakfast ,  The deco was original and amusing from the lights to the furniture to the overall combination,  Bar fridge was reasonably priced with a good selection ,  staff very helpful great location,  Excellent bathroom Good breakfast Second pillows available Bar prices reasonable , No,  The restaurant is excellent,  Bed comfy Nice courtyard view , No, No,  The style of the hotel was beautiful and the room was stunning,  great location, No, No, No,  Wi Fi clean quiet at night,  A very nice hotel at a central location Very helpful staff and a nice modern clean room ,  Good location and clean rooms ,  The atmosphere the design the team the room bathroom the wifi gym,  Very helpful staff,  Revitalized property very helpful staff stored my luggage before and between stays close to Metro spacious room , No,  Very upscale design ,  Great beds generously sized bathrooms which tend to be rare in Parisian hotels Good location , No,  Fantastic location ,  Bed was comfortable Location was great,  Almost nothing,  Design das cadeiras, No,  If you like the Marais than I would suggest you stay at the 1K It s a sweet modern hotel we will be back Thanks,  The staff are great the rooms are nice i never tried the food but it smelled wonderful ,  Location staff mezcaler a,  Great little hotel would use it again Facilities were well appointed rooms were clean and fresh ,  Good bathroom facilities smart rooms well looked after ,  The clandestine Bar at the back of the kitchen ,  Loved the tequila bar at the back of the hotel ,  The breakfast was good and the personnel very friendly and resourceful ,  Friendly helpfull staff Nice rooms Barh,  Funky civilised,  A great hotel in a beautiful area of the city ,  Great location fancy design and big rooms for Paris standards friendly staff,  Friendly Staff,  Location was great room was spacious ,  location room size ,  Unique place in a fun hipster neighbourhood ,  Location good,  Great bar area and a good selection of drinks,  Friendly staff stylish rooms mezcaleria,  very comfortable well located nice breakfast,  great hotel great staff thank you for making us safe during this difficult moment,  Location extremely helpful staff style ,  Great staff excellent location close to all the sites we wanted to see,  Location was excellent ,  Bedroom and bathroom Also opening window s,  Bedroom was fantastic ,  The room, No,  clean room spacious quiet'"
      ]
     },
     "execution_count": 24,
     "metadata": {},
     "output_type": "execute_result"
    }
   ],
   "source": [
    "positivismodoone = hotel_review['positive_review'][1]\n",
    "positivismodoone"
   ]
  },
  {
   "cell_type": "code",
   "execution_count": 25,
   "metadata": {},
   "outputs": [
    {
     "data": {
      "text/plain": [
       "{1: {'Hotel Regina': [48.8637503, 2.3320406],\n",
       "  'Holiday Inn Paris Gare de l Est': [48.8758981, 2.3590504],\n",
       "  'Hotel Saint Petersbourg Opera': [48.872174, 2.328075],\n",
       "  'Best Western Premier Op ra Faubourg Ex Hotel Jules ': [48.8753359,\n",
       "   2.3414617],\n",
       "  'K K Hotel Cayr Saint Germain des Pr s': [48.8553117, 2.3254628],\n",
       "  'Saint James Albany Paris Hotel Spa': [48.8642689, 2.3308179],\n",
       "  'Little Palace Hotel': [48.8675674, 2.3539896],\n",
       "  'Acad mie Hotel Saint Germain': [48.855263, 2.3305901],\n",
       "  'Hotel Horset Op ra Best Western Premier Collection': [48.8691686,\n",
       "   2.3337818],\n",
       "  'Novotel Paris Les Halles': [48.8607299, 2.3465326]},\n",
       " 2: {'Hotel Regina': [48.8637503, 2.3320406],\n",
       "  'Holiday Inn Paris Gare de l Est': [48.8758981, 2.3590504],\n",
       "  'Hotel Saint Petersbourg Opera': [48.872174, 2.328075],\n",
       "  'Best Western Premier Op ra Faubourg Ex Hotel Jules ': [48.8753359,\n",
       "   2.3414617],\n",
       "  'K K Hotel Cayr Saint Germain des Pr s': [48.8553117, 2.3254628],\n",
       "  'Saint James Albany Paris Hotel Spa': [48.8642689, 2.3308179],\n",
       "  'Little Palace Hotel': [48.8675674, 2.3539896],\n",
       "  'Acad mie Hotel Saint Germain': [48.855263, 2.3305901],\n",
       "  'Hotel Horset Op ra Best Western Premier Collection': [48.8691686,\n",
       "   2.3337818],\n",
       "  'Novotel Paris Les Halles': [48.8607299, 2.3465326]},\n",
       " 3: {'Hotel Regina': [48.8637503, 2.3320406],\n",
       "  'Holiday Inn Paris Gare de l Est': [48.8758981, 2.3590504],\n",
       "  'Hotel Saint Petersbourg Opera': [48.872174, 2.328075],\n",
       "  'Best Western Premier Op ra Faubourg Ex Hotel Jules ': [48.8753359,\n",
       "   2.3414617],\n",
       "  'K K Hotel Cayr Saint Germain des Pr s': [48.8553117, 2.3254628],\n",
       "  'Saint James Albany Paris Hotel Spa': [48.8642689, 2.3308179],\n",
       "  'Little Palace Hotel': [48.8675674, 2.3539896],\n",
       "  'Acad mie Hotel Saint Germain': [48.855263, 2.3305901],\n",
       "  'Hotel Horset Op ra Best Western Premier Collection': [48.8691686,\n",
       "   2.3337818],\n",
       "  'Novotel Paris Les Halles': [48.8607299, 2.3465326]},\n",
       " 4: {'Hotel Regina': [48.8637503, 2.3320406],\n",
       "  'Holiday Inn Paris Gare de l Est': [48.8758981, 2.3590504],\n",
       "  'Hotel Saint Petersbourg Opera': [48.872174, 2.328075],\n",
       "  'Best Western Premier Op ra Faubourg Ex Hotel Jules ': [48.8753359,\n",
       "   2.3414617],\n",
       "  'K K Hotel Cayr Saint Germain des Pr s': [48.8553117, 2.3254628],\n",
       "  'Saint James Albany Paris Hotel Spa': [48.8642689, 2.3308179],\n",
       "  'Little Palace Hotel': [48.8675674, 2.3539896],\n",
       "  'Acad mie Hotel Saint Germain': [48.855263, 2.3305901],\n",
       "  'Hotel Horset Op ra Best Western Premier Collection': [48.8691686,\n",
       "   2.3337818],\n",
       "  'Novotel Paris Les Halles': [48.8607299, 2.3465326]},\n",
       " 5: {'Hotel Regina': [48.8637503, 2.3320406],\n",
       "  'Holiday Inn Paris Gare de l Est': [48.8758981, 2.3590504],\n",
       "  'Hotel Saint Petersbourg Opera': [48.872174, 2.328075],\n",
       "  'Best Western Premier Op ra Faubourg Ex Hotel Jules ': [48.8753359,\n",
       "   2.3414617],\n",
       "  'K K Hotel Cayr Saint Germain des Pr s': [48.8553117, 2.3254628],\n",
       "  'Saint James Albany Paris Hotel Spa': [48.8642689, 2.3308179],\n",
       "  'Little Palace Hotel': [48.8675674, 2.3539896],\n",
       "  'Acad mie Hotel Saint Germain': [48.855263, 2.3305901],\n",
       "  'Hotel Horset Op ra Best Western Premier Collection': [48.8691686,\n",
       "   2.3337818],\n",
       "  'Novotel Paris Les Halles': [48.8607299, 2.3465326]},\n",
       " 6: {'Hotel Regina': [48.8637503, 2.3320406],\n",
       "  'Holiday Inn Paris Gare de l Est': [48.8758981, 2.3590504],\n",
       "  'Hotel Saint Petersbourg Opera': [48.872174, 2.328075],\n",
       "  'Best Western Premier Op ra Faubourg Ex Hotel Jules ': [48.8753359,\n",
       "   2.3414617],\n",
       "  'K K Hotel Cayr Saint Germain des Pr s': [48.8553117, 2.3254628],\n",
       "  'Saint James Albany Paris Hotel Spa': [48.8642689, 2.3308179],\n",
       "  'Little Palace Hotel': [48.8675674, 2.3539896],\n",
       "  'Acad mie Hotel Saint Germain': [48.855263, 2.3305901],\n",
       "  'Hotel Horset Op ra Best Western Premier Collection': [48.8691686,\n",
       "   2.3337818],\n",
       "  'Novotel Paris Les Halles': [48.8607299, 2.3465326]},\n",
       " 7: {'Hotel Regina': [48.8637503, 2.3320406],\n",
       "  'Holiday Inn Paris Gare de l Est': [48.8758981, 2.3590504],\n",
       "  'Hotel Saint Petersbourg Opera': [48.872174, 2.328075],\n",
       "  'Best Western Premier Op ra Faubourg Ex Hotel Jules ': [48.8753359,\n",
       "   2.3414617],\n",
       "  'K K Hotel Cayr Saint Germain des Pr s': [48.8553117, 2.3254628],\n",
       "  'Saint James Albany Paris Hotel Spa': [48.8642689, 2.3308179],\n",
       "  'Little Palace Hotel': [48.8675674, 2.3539896],\n",
       "  'Acad mie Hotel Saint Germain': [48.855263, 2.3305901],\n",
       "  'Hotel Horset Op ra Best Western Premier Collection': [48.8691686,\n",
       "   2.3337818],\n",
       "  'Novotel Paris Les Halles': [48.8607299, 2.3465326]},\n",
       " 8: {'Hotel Regina': [48.8637503, 2.3320406],\n",
       "  'Holiday Inn Paris Gare de l Est': [48.8758981, 2.3590504],\n",
       "  'Hotel Saint Petersbourg Opera': [48.872174, 2.328075],\n",
       "  'Best Western Premier Op ra Faubourg Ex Hotel Jules ': [48.8753359,\n",
       "   2.3414617],\n",
       "  'K K Hotel Cayr Saint Germain des Pr s': [48.8553117, 2.3254628],\n",
       "  'Saint James Albany Paris Hotel Spa': [48.8642689, 2.3308179],\n",
       "  'Little Palace Hotel': [48.8675674, 2.3539896],\n",
       "  'Acad mie Hotel Saint Germain': [48.855263, 2.3305901],\n",
       "  'Hotel Horset Op ra Best Western Premier Collection': [48.8691686,\n",
       "   2.3337818],\n",
       "  'Novotel Paris Les Halles': [48.8607299, 2.3465326]},\n",
       " 9: {'Hotel Regina': [48.8637503, 2.3320406],\n",
       "  'Holiday Inn Paris Gare de l Est': [48.8758981, 2.3590504],\n",
       "  'Hotel Saint Petersbourg Opera': [48.872174, 2.328075],\n",
       "  'Best Western Premier Op ra Faubourg Ex Hotel Jules ': [48.8753359,\n",
       "   2.3414617],\n",
       "  'K K Hotel Cayr Saint Germain des Pr s': [48.8553117, 2.3254628],\n",
       "  'Saint James Albany Paris Hotel Spa': [48.8642689, 2.3308179],\n",
       "  'Little Palace Hotel': [48.8675674, 2.3539896],\n",
       "  'Acad mie Hotel Saint Germain': [48.855263, 2.3305901],\n",
       "  'Hotel Horset Op ra Best Western Premier Collection': [48.8691686,\n",
       "   2.3337818],\n",
       "  'Novotel Paris Les Halles': [48.8607299, 2.3465326]},\n",
       " 10: {'Hotel Regina': [48.8637503, 2.3320406],\n",
       "  'Holiday Inn Paris Gare de l Est': [48.8758981, 2.3590504],\n",
       "  'Hotel Saint Petersbourg Opera': [48.872174, 2.328075],\n",
       "  'Best Western Premier Op ra Faubourg Ex Hotel Jules ': [48.8753359,\n",
       "   2.3414617],\n",
       "  'K K Hotel Cayr Saint Germain des Pr s': [48.8553117, 2.3254628],\n",
       "  'Saint James Albany Paris Hotel Spa': [48.8642689, 2.3308179],\n",
       "  'Little Palace Hotel': [48.8675674, 2.3539896],\n",
       "  'Acad mie Hotel Saint Germain': [48.855263, 2.3305901],\n",
       "  'Hotel Horset Op ra Best Western Premier Collection': [48.8691686,\n",
       "   2.3337818],\n",
       "  'Novotel Paris Les Halles': [48.8607299, 2.3465326]}}"
      ]
     },
     "execution_count": 25,
     "metadata": {},
     "output_type": "execute_result"
    }
   ],
   "source": [
    "new_recommendations('The Belgrave Hotel','Paris',cosine_similarities)"
   ]
  },
  {
   "cell_type": "code",
   "execution_count": 26,
   "metadata": {},
   "outputs": [],
   "source": [
    "#function to generate folium map based on ideal location\n",
    "def get_hotel_fn_pin(mydict,city):\n",
    "    loc2 = geocoder.osm(city)\n",
    "\n",
    "    # map\n",
    "    main_map = folium.Map(location=[loc2.lat, loc2.lng], zoom_start=13)\n",
    "    folium.raster_layers.TileLayer('Open Street Map').add_to(main_map)\n",
    "\n",
    "    # loop through dict\n",
    "    for i in range (1,len(mydict)+1):\n",
    "        folium.Marker(location=list(mydict[i].values())[i-1],tooltip=list(mydict[i].keys())[i-1]\n",
    "                      ,popup=list(mydict[i].keys())[i-1],\n",
    "                     icon=plugins.BeautifyIcon(number=i,\n",
    "                                               icon='bus',\n",
    "                                            border_color='blue',\n",
    "                                            border_width=0.5,\n",
    "                                            text_color='red',\n",
    "                                            inner_icon_style='margin-top:0px;')).add_to(main_map)\n",
    "     \n",
    "    return main_map\n"
   ]
  },
  {
   "cell_type": "code",
   "execution_count": 27,
   "metadata": {},
   "outputs": [],
   "source": [
    "#saving a html in image\n",
    "get_hotel_fn_pin(new_recommendations('The Belgrave Hotel','Paris',cosine_similarities),'Paris').save(os.path.join('../image', 'reviews.html'))\n"
   ]
  },
  {
   "cell_type": "code",
   "execution_count": 28,
   "metadata": {
    "scrolled": true
   },
   "outputs": [
    {
     "data": {
      "text/html": [
       "<div style=\"width:100%;\"><div style=\"position:relative;width:100%;height:0;padding-bottom:60%;\"><span style=\"color:#565656\">Make this Notebook Trusted to load map: File -> Trust Notebook</span><iframe srcdoc=\"&lt;!DOCTYPE html&gt;\n",
       "&lt;html&gt;\n",
       "&lt;head&gt;\n",
       "    \n",
       "    &lt;meta http-equiv=&quot;content-type&quot; content=&quot;text/html; charset=UTF-8&quot; /&gt;\n",
       "    \n",
       "        &lt;script&gt;\n",
       "            L_NO_TOUCH = false;\n",
       "            L_DISABLE_3D = false;\n",
       "        &lt;/script&gt;\n",
       "    \n",
       "    &lt;style&gt;html, body {width: 100%;height: 100%;margin: 0;padding: 0;}&lt;/style&gt;\n",
       "    &lt;style&gt;#map {position:absolute;top:0;bottom:0;right:0;left:0;}&lt;/style&gt;\n",
       "    &lt;script src=&quot;https://cdn.jsdelivr.net/npm/leaflet@1.9.3/dist/leaflet.js&quot;&gt;&lt;/script&gt;\n",
       "    &lt;script src=&quot;https://code.jquery.com/jquery-1.12.4.min.js&quot;&gt;&lt;/script&gt;\n",
       "    &lt;script src=&quot;https://cdn.jsdelivr.net/npm/bootstrap@5.2.2/dist/js/bootstrap.bundle.min.js&quot;&gt;&lt;/script&gt;\n",
       "    &lt;script src=&quot;https://cdnjs.cloudflare.com/ajax/libs/Leaflet.awesome-markers/2.0.2/leaflet.awesome-markers.js&quot;&gt;&lt;/script&gt;\n",
       "    &lt;link rel=&quot;stylesheet&quot; href=&quot;https://cdn.jsdelivr.net/npm/leaflet@1.9.3/dist/leaflet.css&quot;/&gt;\n",
       "    &lt;link rel=&quot;stylesheet&quot; href=&quot;https://cdn.jsdelivr.net/npm/bootstrap@5.2.2/dist/css/bootstrap.min.css&quot;/&gt;\n",
       "    &lt;link rel=&quot;stylesheet&quot; href=&quot;https://netdna.bootstrapcdn.com/bootstrap/3.0.0/css/bootstrap.min.css&quot;/&gt;\n",
       "    &lt;link rel=&quot;stylesheet&quot; href=&quot;https://cdn.jsdelivr.net/npm/@fortawesome/fontawesome-free@6.2.0/css/all.min.css&quot;/&gt;\n",
       "    &lt;link rel=&quot;stylesheet&quot; href=&quot;https://cdnjs.cloudflare.com/ajax/libs/Leaflet.awesome-markers/2.0.2/leaflet.awesome-markers.css&quot;/&gt;\n",
       "    &lt;link rel=&quot;stylesheet&quot; href=&quot;https://cdn.jsdelivr.net/gh/python-visualization/folium/folium/templates/leaflet.awesome.rotate.min.css&quot;/&gt;\n",
       "    \n",
       "            &lt;meta name=&quot;viewport&quot; content=&quot;width=device-width,\n",
       "                initial-scale=1.0, maximum-scale=1.0, user-scalable=no&quot; /&gt;\n",
       "            &lt;style&gt;\n",
       "                #map_5c93267360dc2bcff2da6fd79f0fa4ad {\n",
       "                    position: relative;\n",
       "                    width: 100.0%;\n",
       "                    height: 100.0%;\n",
       "                    left: 0.0%;\n",
       "                    top: 0.0%;\n",
       "                }\n",
       "                .leaflet-container { font-size: 1rem; }\n",
       "            &lt;/style&gt;\n",
       "        \n",
       "    &lt;script src=&quot;https://cdn.jsdelivr.net/gh/marslan390/BeautifyMarker/leaflet-beautify-marker-icon.min.js&quot;&gt;&lt;/script&gt;\n",
       "    &lt;link rel=&quot;stylesheet&quot; href=&quot;https://cdn.jsdelivr.net/gh/marslan390/BeautifyMarker/leaflet-beautify-marker-icon.min.css&quot;/&gt;\n",
       "&lt;/head&gt;\n",
       "&lt;body&gt;\n",
       "    \n",
       "    \n",
       "            &lt;div class=&quot;folium-map&quot; id=&quot;map_5c93267360dc2bcff2da6fd79f0fa4ad&quot; &gt;&lt;/div&gt;\n",
       "        \n",
       "&lt;/body&gt;\n",
       "&lt;script&gt;\n",
       "    \n",
       "    \n",
       "            var map_5c93267360dc2bcff2da6fd79f0fa4ad = L.map(\n",
       "                &quot;map_5c93267360dc2bcff2da6fd79f0fa4ad&quot;,\n",
       "                {\n",
       "                    center: [48.2083537, 16.3725042],\n",
       "                    crs: L.CRS.EPSG3857,\n",
       "                    zoom: 13,\n",
       "                    zoomControl: true,\n",
       "                    preferCanvas: false,\n",
       "                }\n",
       "            );\n",
       "\n",
       "            \n",
       "\n",
       "        \n",
       "    \n",
       "            var tile_layer_d8cab6864b7365156c87456f05bfc1dd = L.tileLayer(\n",
       "                &quot;https://{s}.tile.openstreetmap.org/{z}/{x}/{y}.png&quot;,\n",
       "                {&quot;attribution&quot;: &quot;Data by \\u0026copy; \\u003ca target=\\&quot;_blank\\&quot; href=\\&quot;http://openstreetmap.org\\&quot;\\u003eOpenStreetMap\\u003c/a\\u003e, under \\u003ca target=\\&quot;_blank\\&quot; href=\\&quot;http://www.openstreetmap.org/copyright\\&quot;\\u003eODbL\\u003c/a\\u003e.&quot;, &quot;detectRetina&quot;: false, &quot;maxNativeZoom&quot;: 18, &quot;maxZoom&quot;: 18, &quot;minZoom&quot;: 0, &quot;noWrap&quot;: false, &quot;opacity&quot;: 1, &quot;subdomains&quot;: &quot;abc&quot;, &quot;tms&quot;: false}\n",
       "            ).addTo(map_5c93267360dc2bcff2da6fd79f0fa4ad);\n",
       "        \n",
       "    \n",
       "            var tile_layer_96d93a319862f9b806ee33622915f9f5 = L.tileLayer(\n",
       "                &quot;https://{s}.tile.openstreetmap.org/{z}/{x}/{y}.png&quot;,\n",
       "                {&quot;attribution&quot;: &quot;Data by \\u0026copy; \\u003ca target=\\&quot;_blank\\&quot; href=\\&quot;http://openstreetmap.org\\&quot;\\u003eOpenStreetMap\\u003c/a\\u003e, under \\u003ca target=\\&quot;_blank\\&quot; href=\\&quot;http://www.openstreetmap.org/copyright\\&quot;\\u003eODbL\\u003c/a\\u003e.&quot;, &quot;detectRetina&quot;: false, &quot;maxNativeZoom&quot;: 18, &quot;maxZoom&quot;: 18, &quot;minZoom&quot;: 0, &quot;noWrap&quot;: false, &quot;opacity&quot;: 1, &quot;subdomains&quot;: &quot;abc&quot;, &quot;tms&quot;: false}\n",
       "            ).addTo(map_5c93267360dc2bcff2da6fd79f0fa4ad);\n",
       "        \n",
       "    \n",
       "            var marker_8b0530ff6b7036cb9f844ea2ffc7d554 = L.marker(\n",
       "                [48.2142766, 16.3801779],\n",
       "                {}\n",
       "            ).addTo(map_5c93267360dc2bcff2da6fd79f0fa4ad);\n",
       "        \n",
       "    \n",
       "            var beautify_icon_28e7756503fd4b0a2c976613cab3f7a3 = new L.BeautifyIcon.icon(\n",
       "                {&quot;backgroundColor&quot;: &quot;#FFF&quot;, &quot;borderColor&quot;: &quot;blue&quot;, &quot;borderWidth&quot;: 0.5, &quot;icon&quot;: &quot;bus&quot;, &quot;innerIconStyle&quot;: &quot;margin-top:0px;&quot;, &quot;isAlphaNumericIcon&quot;: true, &quot;spin&quot;: false, &quot;text&quot;: 1, &quot;textColor&quot;: &quot;red&quot;}\n",
       "            )\n",
       "            marker_8b0530ff6b7036cb9f844ea2ffc7d554.setIcon(beautify_icon_28e7756503fd4b0a2c976613cab3f7a3);\n",
       "        \n",
       "    \n",
       "        var popup_dea5ae8832c4f9bec3d8b473827d279b = L.popup({&quot;maxWidth&quot;: &quot;100%&quot;});\n",
       "\n",
       "        \n",
       "            \n",
       "                var html_0ce8935fbbbe1b996383eb080fc79f6f = $(`&lt;div id=&quot;html_0ce8935fbbbe1b996383eb080fc79f6f&quot; style=&quot;width: 100.0%; height: 100.0%;&quot;&gt;Hotel Stefanie&lt;/div&gt;`)[0];\n",
       "                popup_dea5ae8832c4f9bec3d8b473827d279b.setContent(html_0ce8935fbbbe1b996383eb080fc79f6f);\n",
       "            \n",
       "        \n",
       "\n",
       "        marker_8b0530ff6b7036cb9f844ea2ffc7d554.bindPopup(popup_dea5ae8832c4f9bec3d8b473827d279b)\n",
       "        ;\n",
       "\n",
       "        \n",
       "    \n",
       "    \n",
       "            marker_8b0530ff6b7036cb9f844ea2ffc7d554.bindTooltip(\n",
       "                `&lt;div&gt;\n",
       "                     Hotel Stefanie\n",
       "                 &lt;/div&gt;`,\n",
       "                {&quot;sticky&quot;: true}\n",
       "            );\n",
       "        \n",
       "    \n",
       "            var marker_ae54be17788f951a9f0df29e665804db = L.marker(\n",
       "                [48.2146623, 16.3627994],\n",
       "                {}\n",
       "            ).addTo(map_5c93267360dc2bcff2da6fd79f0fa4ad);\n",
       "        \n",
       "    \n",
       "            var beautify_icon_85bdf68aaa3c504a5b52d3192e734d9d = new L.BeautifyIcon.icon(\n",
       "                {&quot;backgroundColor&quot;: &quot;#FFF&quot;, &quot;borderColor&quot;: &quot;blue&quot;, &quot;borderWidth&quot;: 0.5, &quot;icon&quot;: &quot;bus&quot;, &quot;innerIconStyle&quot;: &quot;margin-top:0px;&quot;, &quot;isAlphaNumericIcon&quot;: true, &quot;spin&quot;: false, &quot;text&quot;: 2, &quot;textColor&quot;: &quot;red&quot;}\n",
       "            )\n",
       "            marker_ae54be17788f951a9f0df29e665804db.setIcon(beautify_icon_85bdf68aaa3c504a5b52d3192e734d9d);\n",
       "        \n",
       "    \n",
       "        var popup_0f29e9f10fb60f654150bb53baa0ad2e = L.popup({&quot;maxWidth&quot;: &quot;100%&quot;});\n",
       "\n",
       "        \n",
       "            \n",
       "                var html_4dbe2f86c2c7a875c3b39ea1809eea28 = $(`&lt;div id=&quot;html_4dbe2f86c2c7a875c3b39ea1809eea28&quot; style=&quot;width: 100.0%; height: 100.0%;&quot;&gt;Hotel de France Wien&lt;/div&gt;`)[0];\n",
       "                popup_0f29e9f10fb60f654150bb53baa0ad2e.setContent(html_4dbe2f86c2c7a875c3b39ea1809eea28);\n",
       "            \n",
       "        \n",
       "\n",
       "        marker_ae54be17788f951a9f0df29e665804db.bindPopup(popup_0f29e9f10fb60f654150bb53baa0ad2e)\n",
       "        ;\n",
       "\n",
       "        \n",
       "    \n",
       "    \n",
       "            marker_ae54be17788f951a9f0df29e665804db.bindTooltip(\n",
       "                `&lt;div&gt;\n",
       "                     Hotel de France Wien\n",
       "                 &lt;/div&gt;`,\n",
       "                {&quot;sticky&quot;: true}\n",
       "            );\n",
       "        \n",
       "    \n",
       "            var marker_f56c23e98a475a7157f4f954846c442a = L.marker(\n",
       "                [48.1953229, 16.3672882],\n",
       "                {}\n",
       "            ).addTo(map_5c93267360dc2bcff2da6fd79f0fa4ad);\n",
       "        \n",
       "    \n",
       "            var beautify_icon_0293a19262076d5fea9490077f1ce9b4 = new L.BeautifyIcon.icon(\n",
       "                {&quot;backgroundColor&quot;: &quot;#FFF&quot;, &quot;borderColor&quot;: &quot;blue&quot;, &quot;borderWidth&quot;: 0.5, &quot;icon&quot;: &quot;bus&quot;, &quot;innerIconStyle&quot;: &quot;margin-top:0px;&quot;, &quot;isAlphaNumericIcon&quot;: true, &quot;spin&quot;: false, &quot;text&quot;: 3, &quot;textColor&quot;: &quot;red&quot;}\n",
       "            )\n",
       "            marker_f56c23e98a475a7157f4f954846c442a.setIcon(beautify_icon_0293a19262076d5fea9490077f1ce9b4);\n",
       "        \n",
       "    \n",
       "        var popup_181f3e505fe75ad44f079c98a06cab35 = L.popup({&quot;maxWidth&quot;: &quot;100%&quot;});\n",
       "\n",
       "        \n",
       "            \n",
       "                var html_1b98112ea056a614863ae6df09fbca1e = $(`&lt;div id=&quot;html_1b98112ea056a614863ae6df09fbca1e&quot; style=&quot;width: 100.0%; height: 100.0%;&quot;&gt;Hotel Erzherzog Rainer&lt;/div&gt;`)[0];\n",
       "                popup_181f3e505fe75ad44f079c98a06cab35.setContent(html_1b98112ea056a614863ae6df09fbca1e);\n",
       "            \n",
       "        \n",
       "\n",
       "        marker_f56c23e98a475a7157f4f954846c442a.bindPopup(popup_181f3e505fe75ad44f079c98a06cab35)\n",
       "        ;\n",
       "\n",
       "        \n",
       "    \n",
       "    \n",
       "            marker_f56c23e98a475a7157f4f954846c442a.bindTooltip(\n",
       "                `&lt;div&gt;\n",
       "                     Hotel Erzherzog Rainer\n",
       "                 &lt;/div&gt;`,\n",
       "                {&quot;sticky&quot;: true}\n",
       "            );\n",
       "        \n",
       "    \n",
       "            var marker_e72d1a204992ad91b341316390256375 = L.marker(\n",
       "                [48.2111522, 16.3788631],\n",
       "                {}\n",
       "            ).addTo(map_5c93267360dc2bcff2da6fd79f0fa4ad);\n",
       "        \n",
       "    \n",
       "            var beautify_icon_40bc51e1b1be1b1c647550ca664c23ae = new L.BeautifyIcon.icon(\n",
       "                {&quot;backgroundColor&quot;: &quot;#FFF&quot;, &quot;borderColor&quot;: &quot;blue&quot;, &quot;borderWidth&quot;: 0.5, &quot;icon&quot;: &quot;bus&quot;, &quot;innerIconStyle&quot;: &quot;margin-top:0px;&quot;, &quot;isAlphaNumericIcon&quot;: true, &quot;spin&quot;: false, &quot;text&quot;: 4, &quot;textColor&quot;: &quot;red&quot;}\n",
       "            )\n",
       "            marker_e72d1a204992ad91b341316390256375.setIcon(beautify_icon_40bc51e1b1be1b1c647550ca664c23ae);\n",
       "        \n",
       "    \n",
       "        var popup_03e999a799979bb42cc3434daed84144 = L.popup({&quot;maxWidth&quot;: &quot;100%&quot;});\n",
       "\n",
       "        \n",
       "            \n",
       "                var html_46ca388bb11f7045e019fd6b1672c417 = $(`&lt;div id=&quot;html_46ca388bb11f7045e019fd6b1672c417&quot; style=&quot;width: 100.0%; height: 100.0%;&quot;&gt;Hotel Capricorno&lt;/div&gt;`)[0];\n",
       "                popup_03e999a799979bb42cc3434daed84144.setContent(html_46ca388bb11f7045e019fd6b1672c417);\n",
       "            \n",
       "        \n",
       "\n",
       "        marker_e72d1a204992ad91b341316390256375.bindPopup(popup_03e999a799979bb42cc3434daed84144)\n",
       "        ;\n",
       "\n",
       "        \n",
       "    \n",
       "    \n",
       "            marker_e72d1a204992ad91b341316390256375.bindTooltip(\n",
       "                `&lt;div&gt;\n",
       "                     Hotel Capricorno\n",
       "                 &lt;/div&gt;`,\n",
       "                {&quot;sticky&quot;: true}\n",
       "            );\n",
       "        \n",
       "    \n",
       "            var marker_44c789555d1b1a2dd0f8cf1ba355956f = L.marker(\n",
       "                [48.2031622, 16.3561999],\n",
       "                {}\n",
       "            ).addTo(map_5c93267360dc2bcff2da6fd79f0fa4ad);\n",
       "        \n",
       "    \n",
       "            var beautify_icon_30e9415850fc1e7b53b087594ceb50bb = new L.BeautifyIcon.icon(\n",
       "                {&quot;backgroundColor&quot;: &quot;#FFF&quot;, &quot;borderColor&quot;: &quot;blue&quot;, &quot;borderWidth&quot;: 0.5, &quot;icon&quot;: &quot;bus&quot;, &quot;innerIconStyle&quot;: &quot;margin-top:0px;&quot;, &quot;isAlphaNumericIcon&quot;: true, &quot;spin&quot;: false, &quot;text&quot;: 5, &quot;textColor&quot;: &quot;red&quot;}\n",
       "            )\n",
       "            marker_44c789555d1b1a2dd0f8cf1ba355956f.setIcon(beautify_icon_30e9415850fc1e7b53b087594ceb50bb);\n",
       "        \n",
       "    \n",
       "        var popup_cd89067a18e3e31b9070a9e17d373126 = L.popup({&quot;maxWidth&quot;: &quot;100%&quot;});\n",
       "\n",
       "        \n",
       "            \n",
       "                var html_9f0ae4f1a5176bd31c792d1ca4a29595 = $(`&lt;div id=&quot;html_9f0ae4f1a5176bd31c792d1ca4a29595&quot; style=&quot;width: 100.0%; height: 100.0%;&quot;&gt;K K Hotel Maria Theresia&lt;/div&gt;`)[0];\n",
       "                popup_cd89067a18e3e31b9070a9e17d373126.setContent(html_9f0ae4f1a5176bd31c792d1ca4a29595);\n",
       "            \n",
       "        \n",
       "\n",
       "        marker_44c789555d1b1a2dd0f8cf1ba355956f.bindPopup(popup_cd89067a18e3e31b9070a9e17d373126)\n",
       "        ;\n",
       "\n",
       "        \n",
       "    \n",
       "    \n",
       "            marker_44c789555d1b1a2dd0f8cf1ba355956f.bindTooltip(\n",
       "                `&lt;div&gt;\n",
       "                     K K Hotel Maria Theresia\n",
       "                 &lt;/div&gt;`,\n",
       "                {&quot;sticky&quot;: true}\n",
       "            );\n",
       "        \n",
       "    \n",
       "            var marker_3e09a10a5188d5654651afa4bd019eca = L.marker(\n",
       "                [48.1945297, 16.340327],\n",
       "                {}\n",
       "            ).addTo(map_5c93267360dc2bcff2da6fd79f0fa4ad);\n",
       "        \n",
       "    \n",
       "            var beautify_icon_1e847026332e7ecdb40e4867b311d4d4 = new L.BeautifyIcon.icon(\n",
       "                {&quot;backgroundColor&quot;: &quot;#FFF&quot;, &quot;borderColor&quot;: &quot;blue&quot;, &quot;borderWidth&quot;: 0.5, &quot;icon&quot;: &quot;bus&quot;, &quot;innerIconStyle&quot;: &quot;margin-top:0px;&quot;, &quot;isAlphaNumericIcon&quot;: true, &quot;spin&quot;: false, &quot;text&quot;: 6, &quot;textColor&quot;: &quot;red&quot;}\n",
       "            )\n",
       "            marker_3e09a10a5188d5654651afa4bd019eca.setIcon(beautify_icon_1e847026332e7ecdb40e4867b311d4d4);\n",
       "        \n",
       "    \n",
       "        var popup_8bfe1c3babbac3de8abfe561745039f8 = L.popup({&quot;maxWidth&quot;: &quot;100%&quot;});\n",
       "\n",
       "        \n",
       "            \n",
       "                var html_0a479fa5bac4fabd3428b53d2c9b1ba2 = $(`&lt;div id=&quot;html_0a479fa5bac4fabd3428b53d2c9b1ba2&quot; style=&quot;width: 100.0%; height: 100.0%;&quot;&gt;Leonardo Hotel Vienna&lt;/div&gt;`)[0];\n",
       "                popup_8bfe1c3babbac3de8abfe561745039f8.setContent(html_0a479fa5bac4fabd3428b53d2c9b1ba2);\n",
       "            \n",
       "        \n",
       "\n",
       "        marker_3e09a10a5188d5654651afa4bd019eca.bindPopup(popup_8bfe1c3babbac3de8abfe561745039f8)\n",
       "        ;\n",
       "\n",
       "        \n",
       "    \n",
       "    \n",
       "            marker_3e09a10a5188d5654651afa4bd019eca.bindTooltip(\n",
       "                `&lt;div&gt;\n",
       "                     Leonardo Hotel Vienna\n",
       "                 &lt;/div&gt;`,\n",
       "                {&quot;sticky&quot;: true}\n",
       "            );\n",
       "        \n",
       "    \n",
       "            var marker_34465ca916caaf512315564ffbb24f09 = L.marker(\n",
       "                [48.1877258, 16.3781454],\n",
       "                {}\n",
       "            ).addTo(map_5c93267360dc2bcff2da6fd79f0fa4ad);\n",
       "        \n",
       "    \n",
       "            var beautify_icon_5deb4a84890dbe832044c723f033c682 = new L.BeautifyIcon.icon(\n",
       "                {&quot;backgroundColor&quot;: &quot;#FFF&quot;, &quot;borderColor&quot;: &quot;blue&quot;, &quot;borderWidth&quot;: 0.5, &quot;icon&quot;: &quot;bus&quot;, &quot;innerIconStyle&quot;: &quot;margin-top:0px;&quot;, &quot;isAlphaNumericIcon&quot;: true, &quot;spin&quot;: false, &quot;text&quot;: 7, &quot;textColor&quot;: &quot;red&quot;}\n",
       "            )\n",
       "            marker_34465ca916caaf512315564ffbb24f09.setIcon(beautify_icon_5deb4a84890dbe832044c723f033c682);\n",
       "        \n",
       "    \n",
       "        var popup_9ced5e8b0f8282e887e7090dcccc6180 = L.popup({&quot;maxWidth&quot;: &quot;100%&quot;});\n",
       "\n",
       "        \n",
       "            \n",
       "                var html_d74f0398c7e0d5a3ca6313ce94a04984 = $(`&lt;div id=&quot;html_d74f0398c7e0d5a3ca6313ce94a04984&quot; style=&quot;width: 100.0%; height: 100.0%;&quot;&gt;Hotel Prinz Eugen&lt;/div&gt;`)[0];\n",
       "                popup_9ced5e8b0f8282e887e7090dcccc6180.setContent(html_d74f0398c7e0d5a3ca6313ce94a04984);\n",
       "            \n",
       "        \n",
       "\n",
       "        marker_34465ca916caaf512315564ffbb24f09.bindPopup(popup_9ced5e8b0f8282e887e7090dcccc6180)\n",
       "        ;\n",
       "\n",
       "        \n",
       "    \n",
       "    \n",
       "            marker_34465ca916caaf512315564ffbb24f09.bindTooltip(\n",
       "                `&lt;div&gt;\n",
       "                     Hotel Prinz Eugen\n",
       "                 &lt;/div&gt;`,\n",
       "                {&quot;sticky&quot;: true}\n",
       "            );\n",
       "        \n",
       "    \n",
       "            var marker_55ba61bf168aecca3c344fd8130585ce = L.marker(\n",
       "                [48.2097958, 16.3658705],\n",
       "                {}\n",
       "            ).addTo(map_5c93267360dc2bcff2da6fd79f0fa4ad);\n",
       "        \n",
       "    \n",
       "            var beautify_icon_e5ad494dd112527362815822d0a0321a = new L.BeautifyIcon.icon(\n",
       "                {&quot;backgroundColor&quot;: &quot;#FFF&quot;, &quot;borderColor&quot;: &quot;blue&quot;, &quot;borderWidth&quot;: 0.5, &quot;icon&quot;: &quot;bus&quot;, &quot;innerIconStyle&quot;: &quot;margin-top:0px;&quot;, &quot;isAlphaNumericIcon&quot;: true, &quot;spin&quot;: false, &quot;text&quot;: 8, &quot;textColor&quot;: &quot;red&quot;}\n",
       "            )\n",
       "            marker_55ba61bf168aecca3c344fd8130585ce.setIcon(beautify_icon_e5ad494dd112527362815822d0a0321a);\n",
       "        \n",
       "    \n",
       "        var popup_a2a7931d710b8014358505dd637c2c56 = L.popup({&quot;maxWidth&quot;: &quot;100%&quot;});\n",
       "\n",
       "        \n",
       "            \n",
       "                var html_e9c13c3c2467dabbbd9bd6ed7d61205e = $(`&lt;div id=&quot;html_e9c13c3c2467dabbbd9bd6ed7d61205e&quot; style=&quot;width: 100.0%; height: 100.0%;&quot;&gt;Steigenberger Hotel Herrenhof&lt;/div&gt;`)[0];\n",
       "                popup_a2a7931d710b8014358505dd637c2c56.setContent(html_e9c13c3c2467dabbbd9bd6ed7d61205e);\n",
       "            \n",
       "        \n",
       "\n",
       "        marker_55ba61bf168aecca3c344fd8130585ce.bindPopup(popup_a2a7931d710b8014358505dd637c2c56)\n",
       "        ;\n",
       "\n",
       "        \n",
       "    \n",
       "    \n",
       "            marker_55ba61bf168aecca3c344fd8130585ce.bindTooltip(\n",
       "                `&lt;div&gt;\n",
       "                     Steigenberger Hotel Herrenhof\n",
       "                 &lt;/div&gt;`,\n",
       "                {&quot;sticky&quot;: true}\n",
       "            );\n",
       "        \n",
       "    \n",
       "            var marker_d25e4257dde2f7f5bdceb2fc80b50c4c = L.marker(\n",
       "                [48.1950444, 16.3844751],\n",
       "                {}\n",
       "            ).addTo(map_5c93267360dc2bcff2da6fd79f0fa4ad);\n",
       "        \n",
       "    \n",
       "            var beautify_icon_b91122f424015cc8725b3deb6a9efbdf = new L.BeautifyIcon.icon(\n",
       "                {&quot;backgroundColor&quot;: &quot;#FFF&quot;, &quot;borderColor&quot;: &quot;blue&quot;, &quot;borderWidth&quot;: 0.5, &quot;icon&quot;: &quot;bus&quot;, &quot;innerIconStyle&quot;: &quot;margin-top:0px;&quot;, &quot;isAlphaNumericIcon&quot;: true, &quot;spin&quot;: false, &quot;text&quot;: 9, &quot;textColor&quot;: &quot;red&quot;}\n",
       "            )\n",
       "            marker_d25e4257dde2f7f5bdceb2fc80b50c4c.setIcon(beautify_icon_b91122f424015cc8725b3deb6a9efbdf);\n",
       "        \n",
       "    \n",
       "        var popup_f8078bd1786b293fc8ec5b70b0f93b4c = L.popup({&quot;maxWidth&quot;: &quot;100%&quot;});\n",
       "\n",
       "        \n",
       "            \n",
       "                var html_561311e98ee129ae881db65e846a65a0 = $(`&lt;div id=&quot;html_561311e98ee129ae881db65e846a65a0&quot; style=&quot;width: 100.0%; height: 100.0%;&quot;&gt;Austria Trend Hotel Savoyen Vienna&lt;/div&gt;`)[0];\n",
       "                popup_f8078bd1786b293fc8ec5b70b0f93b4c.setContent(html_561311e98ee129ae881db65e846a65a0);\n",
       "            \n",
       "        \n",
       "\n",
       "        marker_d25e4257dde2f7f5bdceb2fc80b50c4c.bindPopup(popup_f8078bd1786b293fc8ec5b70b0f93b4c)\n",
       "        ;\n",
       "\n",
       "        \n",
       "    \n",
       "    \n",
       "            marker_d25e4257dde2f7f5bdceb2fc80b50c4c.bindTooltip(\n",
       "                `&lt;div&gt;\n",
       "                     Austria Trend Hotel Savoyen Vienna\n",
       "                 &lt;/div&gt;`,\n",
       "                {&quot;sticky&quot;: true}\n",
       "            );\n",
       "        \n",
       "    \n",
       "            var marker_7dee61ce6378fcab51065acb814f53cf = L.marker(\n",
       "                [48.2121772, 16.3680771],\n",
       "                {}\n",
       "            ).addTo(map_5c93267360dc2bcff2da6fd79f0fa4ad);\n",
       "        \n",
       "    \n",
       "            var beautify_icon_6684108f6b3fb74cce750485b8021bc0 = new L.BeautifyIcon.icon(\n",
       "                {&quot;backgroundColor&quot;: &quot;#FFF&quot;, &quot;borderColor&quot;: &quot;blue&quot;, &quot;borderWidth&quot;: 0.5, &quot;icon&quot;: &quot;bus&quot;, &quot;innerIconStyle&quot;: &quot;margin-top:0px;&quot;, &quot;isAlphaNumericIcon&quot;: true, &quot;spin&quot;: false, &quot;text&quot;: 10, &quot;textColor&quot;: &quot;red&quot;}\n",
       "            )\n",
       "            marker_7dee61ce6378fcab51065acb814f53cf.setIcon(beautify_icon_6684108f6b3fb74cce750485b8021bc0);\n",
       "        \n",
       "    \n",
       "        var popup_1c955cd9a7d77e26da24835924d9f2e4 = L.popup({&quot;maxWidth&quot;: &quot;100%&quot;});\n",
       "\n",
       "        \n",
       "            \n",
       "                var html_437c4b8b1ba8401cd3dc988b2d5d1970 = $(`&lt;div id=&quot;html_437c4b8b1ba8401cd3dc988b2d5d1970&quot; style=&quot;width: 100.0%; height: 100.0%;&quot;&gt;Hotel Das Tigra&lt;/div&gt;`)[0];\n",
       "                popup_1c955cd9a7d77e26da24835924d9f2e4.setContent(html_437c4b8b1ba8401cd3dc988b2d5d1970);\n",
       "            \n",
       "        \n",
       "\n",
       "        marker_7dee61ce6378fcab51065acb814f53cf.bindPopup(popup_1c955cd9a7d77e26da24835924d9f2e4)\n",
       "        ;\n",
       "\n",
       "        \n",
       "    \n",
       "    \n",
       "            marker_7dee61ce6378fcab51065acb814f53cf.bindTooltip(\n",
       "                `&lt;div&gt;\n",
       "                     Hotel Das Tigra\n",
       "                 &lt;/div&gt;`,\n",
       "                {&quot;sticky&quot;: true}\n",
       "            );\n",
       "        \n",
       "&lt;/script&gt;\n",
       "&lt;/html&gt;\" style=\"position:absolute;width:100%;height:100%;left:0;top:0;border:none !important;\" allowfullscreen webkitallowfullscreen mozallowfullscreen></iframe></div></div>"
      ],
      "text/plain": [
       "<folium.folium.Map at 0x286b95b50>"
      ]
     },
     "execution_count": 28,
     "metadata": {},
     "output_type": "execute_result"
    }
   ],
   "source": [
    "# to populate and pin locations of recommended hotels\n",
    "get_hotel_fn_pin(new_recommendations('The Belgrave Hotel','Vienna',cosine_similarities),'Vienna')"
   ]
  }
 ],
 "metadata": {
  "kernelspec": {
   "display_name": "Python 3",
   "language": "python",
   "name": "python3"
  },
  "language_info": {
   "codemirror_mode": {
    "name": "ipython",
    "version": 3
   },
   "file_extension": ".py",
   "mimetype": "text/x-python",
   "name": "python",
   "nbconvert_exporter": "python",
   "pygments_lexer": "ipython3",
   "version": "3.9.6"
  }
 },
 "nbformat": 4,
 "nbformat_minor": 2
}
