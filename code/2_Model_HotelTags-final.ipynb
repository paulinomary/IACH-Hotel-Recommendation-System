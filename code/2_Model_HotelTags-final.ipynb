{
 "cells": [
  {
   "cell_type": "markdown",
   "metadata": {},
   "source": [
    "## EDA and Modelling Based on Hotel Attributes\n",
    "\n",
    "\n",
    "In this section, we will investigate and dive deeper into the data based on the hotel reviews and geolocation."
   ]
  },
  {
   "cell_type": "code",
   "execution_count": 42,
   "metadata": {},
   "outputs": [
    {
     "data": {
      "text/html": [
       "        <script type=\"text/javascript\">\n",
       "        window.PlotlyConfig = {MathJaxConfig: 'local'};\n",
       "        if (window.MathJax && window.MathJax.Hub && window.MathJax.Hub.Config) {window.MathJax.Hub.Config({SVG: {font: \"STIX-Web\"}});}\n",
       "        if (typeof require !== 'undefined') {\n",
       "        require.undef(\"plotly\");\n",
       "        requirejs.config({\n",
       "            paths: {\n",
       "                'plotly': ['https://cdn.plot.ly/plotly-2.20.0.min']\n",
       "            }\n",
       "        });\n",
       "        require(['plotly'], function(Plotly) {\n",
       "            window._Plotly = Plotly;\n",
       "        });\n",
       "        }\n",
       "        </script>\n",
       "        "
      ]
     },
     "metadata": {},
     "output_type": "display_data"
    }
   ],
   "source": [
    "\n",
    "import pandas as pd\n",
    "import numpy as np\n",
    "from langdetect import detect\n",
    "from sklearn.feature_extraction.text import ENGLISH_STOP_WORDS\n",
    "import re\n",
    "from nltk.corpus import stopwords\n",
    "import geocoder\n",
    "import folium\n",
    "from folium import plugins\n",
    "import warnings\n",
    "warnings.simplefilter(action='ignore', category=FutureWarning)\n",
    "import string\n",
    "from sklearn.metrics.pairwise import cosine_similarity\n",
    "import cufflinks as cf\n",
    "cf.go_offline()\n",
    "cf.set_config_file(offline=False, world_readable=True)"
   ]
  },
  {
   "cell_type": "code",
   "execution_count": 43,
   "metadata": {},
   "outputs": [],
   "source": [
    "#importing data \n",
    "hoteltags=pd.read_pickle('../data/hoteltag.pkl')\n",
    "geocode=pd.read_pickle('../data/geocode.pkl')"
   ]
  },
  {
   "cell_type": "code",
   "execution_count": 44,
   "metadata": {},
   "outputs": [],
   "source": [
    "# merging geocode into dataset\n",
    "hoteltags_geo= pd.merge(hoteltags,geocode,on='hotel_name',how='outer')"
   ]
  },
  {
   "cell_type": "code",
   "execution_count": 45,
   "metadata": {},
   "outputs": [
    {
     "data": {
      "text/html": [
       "<div>\n",
       "<style scoped>\n",
       "    .dataframe tbody tr th:only-of-type {\n",
       "        vertical-align: middle;\n",
       "    }\n",
       "\n",
       "    .dataframe tbody tr th {\n",
       "        vertical-align: top;\n",
       "    }\n",
       "\n",
       "    .dataframe thead th {\n",
       "        text-align: right;\n",
       "    }\n",
       "</style>\n",
       "<table border=\"1\" class=\"dataframe\">\n",
       "  <thead>\n",
       "    <tr style=\"text-align: right;\">\n",
       "      <th></th>\n",
       "      <th>hotel_name</th>\n",
       "      <th>tags</th>\n",
       "      <th>lat_x</th>\n",
       "      <th>lng_x</th>\n",
       "      <th>lat_y</th>\n",
       "      <th>lng_y</th>\n",
       "      <th>location</th>\n",
       "      <th>country</th>\n",
       "      <th>city</th>\n",
       "    </tr>\n",
       "  </thead>\n",
       "  <tbody>\n",
       "    <tr>\n",
       "      <th>0</th>\n",
       "      <td>11 Cadogan Gardens</td>\n",
       "      <td>[' Leisure trip ', ' Couple ', ' Superior Quee...</td>\n",
       "      <td>51.493616</td>\n",
       "      <td>-0.159235</td>\n",
       "      <td>51.493616</td>\n",
       "      <td>-0.159235</td>\n",
       "      <td>[{'country_code': 'GB', 'city': 'Chelsea', 'co...</td>\n",
       "      <td>United Kingdom</td>\n",
       "      <td>Chelsea</td>\n",
       "    </tr>\n",
       "    <tr>\n",
       "      <th>1</th>\n",
       "      <td>1K Hotel</td>\n",
       "      <td>[' Leisure trip ', ' Couple ', ' Superior M Do...</td>\n",
       "      <td>48.863932</td>\n",
       "      <td>2.365874</td>\n",
       "      <td>48.863932</td>\n",
       "      <td>2.365874</td>\n",
       "      <td>[{'country_code': 'FR', 'city': 'Paris', 'coun...</td>\n",
       "      <td>France</td>\n",
       "      <td>Paris</td>\n",
       "    </tr>\n",
       "    <tr>\n",
       "      <th>2</th>\n",
       "      <td>25hours Hotel beim MuseumsQuartier</td>\n",
       "      <td>[' Leisure trip ', ' Solo traveler ', ' Standa...</td>\n",
       "      <td>48.206474</td>\n",
       "      <td>16.354630</td>\n",
       "      <td>48.206474</td>\n",
       "      <td>16.354630</td>\n",
       "      <td>[{'country_code': 'AT', 'city': 'Vienna', 'cou...</td>\n",
       "      <td>Austria</td>\n",
       "      <td>Vienna</td>\n",
       "    </tr>\n",
       "    <tr>\n",
       "      <th>3</th>\n",
       "      <td>41</td>\n",
       "      <td>[' Leisure trip ', ' Couple ', ' Executive Kin...</td>\n",
       "      <td>51.498147</td>\n",
       "      <td>-0.143649</td>\n",
       "      <td>51.498147</td>\n",
       "      <td>-0.143649</td>\n",
       "      <td>[{'country_code': 'GB', 'city': 'West End of L...</td>\n",
       "      <td>United Kingdom</td>\n",
       "      <td>West End of London</td>\n",
       "    </tr>\n",
       "    <tr>\n",
       "      <th>4</th>\n",
       "      <td>45 Park Lane Dorchester Collection</td>\n",
       "      <td>[' Leisure trip ', ' Solo traveler ', ' Execut...</td>\n",
       "      <td>51.506371</td>\n",
       "      <td>-0.151536</td>\n",
       "      <td>51.506371</td>\n",
       "      <td>-0.151536</td>\n",
       "      <td>[{'country_code': 'GB', 'city': 'West End of L...</td>\n",
       "      <td>United Kingdom</td>\n",
       "      <td>West End of London</td>\n",
       "    </tr>\n",
       "  </tbody>\n",
       "</table>\n",
       "</div>"
      ],
      "text/plain": [
       "                           hotel_name   \n",
       "0                  11 Cadogan Gardens  \\\n",
       "1                            1K Hotel   \n",
       "2  25hours Hotel beim MuseumsQuartier   \n",
       "3                                  41   \n",
       "4  45 Park Lane Dorchester Collection   \n",
       "\n",
       "                                                tags      lat_x      lng_x   \n",
       "0  [' Leisure trip ', ' Couple ', ' Superior Quee...  51.493616  -0.159235  \\\n",
       "1  [' Leisure trip ', ' Couple ', ' Superior M Do...  48.863932   2.365874   \n",
       "2  [' Leisure trip ', ' Solo traveler ', ' Standa...  48.206474  16.354630   \n",
       "3  [' Leisure trip ', ' Couple ', ' Executive Kin...  51.498147  -0.143649   \n",
       "4  [' Leisure trip ', ' Solo traveler ', ' Execut...  51.506371  -0.151536   \n",
       "\n",
       "       lat_y      lng_y                                           location   \n",
       "0  51.493616  -0.159235  [{'country_code': 'GB', 'city': 'Chelsea', 'co...  \\\n",
       "1  48.863932   2.365874  [{'country_code': 'FR', 'city': 'Paris', 'coun...   \n",
       "2  48.206474  16.354630  [{'country_code': 'AT', 'city': 'Vienna', 'cou...   \n",
       "3  51.498147  -0.143649  [{'country_code': 'GB', 'city': 'West End of L...   \n",
       "4  51.506371  -0.151536  [{'country_code': 'GB', 'city': 'West End of L...   \n",
       "\n",
       "          country                city  \n",
       "0  United Kingdom             Chelsea  \n",
       "1          France               Paris  \n",
       "2         Austria              Vienna  \n",
       "3  United Kingdom  West End of London  \n",
       "4  United Kingdom  West End of London  "
      ]
     },
     "execution_count": 45,
     "metadata": {},
     "output_type": "execute_result"
    }
   ],
   "source": [
    "hoteltags_geo.head()"
   ]
  },
  {
   "cell_type": "code",
   "execution_count": 46,
   "metadata": {},
   "outputs": [],
   "source": [
    "#subsetting dataset\n",
    "hoteltags_geo=hoteltags_geo[['hotel_name','tags','lat_x','lng_x','city']]"
   ]
  },
  {
   "cell_type": "markdown",
   "metadata": {},
   "source": [
    "The hotel tags are saved as string. We will need to write a function to extract each attribute and store in tags."
   ]
  },
  {
   "cell_type": "code",
   "execution_count": 47,
   "metadata": {},
   "outputs": [],
   "source": [
    "exclude = set(string.punctuation)\n",
    "def clean(x):\n",
    "    return set([''.join(ch for ch in i.lower() if ch not in exclude).strip() for i in x[2:][:-2].split(',')])"
   ]
  },
  {
   "cell_type": "code",
   "execution_count": 48,
   "metadata": {},
   "outputs": [],
   "source": [
    "# applying to clean the tags and assigning them to a new column\n",
    "hoteltags_geo['new_tags'] = hoteltags_geo['tags'].map(clean)\n"
   ]
  },
  {
   "cell_type": "markdown",
   "metadata": {},
   "source": [
    "## Feature Engineering\n",
    "\n",
    "This encoding is needed for feeding categorical data. We store every different attributes in columns that contain either 1 or 0. 1 indicates that a hotel has that attribute and 0 shows that it doesn’t. \n",
    "\n",
    "In order to understand what are the key attributes in the dataframe, set was used to store respective hotel's attributes. This allows us to not keep duplicating attributes."
   ]
  },
  {
   "cell_type": "code",
   "execution_count": 49,
   "metadata": {},
   "outputs": [
    {
     "name": "stdout",
     "output_type": "stream",
     "text": [
      "{'superior double or twin room 1 2 adults', 'double deluxe room', 'deluxe double or twin room with landmark view', 'junior king suite with view 3 adults', 'club king room with view and lounge access', 'deluxe triple room with view', 'double or twin room 1 adult', 'executive deluxe studio suite', 'superior double or twin room with pool spa access', 'quality single room', 'luxury two bedroom apartment', 'comfort quadruple room', 'suite with city view', 'suite with terrace', 'economy quadruple room', 'deluxe room with 1 king bed', 'large canal view queen', 'two connecting double rooms 5 adults', 'executive double or twin room canal view', 'superior double room with balcony', 'design one bedroom suite', 'one bedroom suite with city view', 'deluxe', 'deluxe twin room with city view', 'large penthouse suite with terrace and city view', 'universitat double or twin room', 'travelers with friends', 'twin hilton room plus', 'superior room with 1 double bed and 1 sofa bed 3 adults', 'deluxe double room or twin room', 'grand suite', 'triple room disability access', 'king one bedroom suite', 'one bedroom king suite with sofa bed', 'executive triple room with garden view', 'studio with courtyard view', 'twin suite', 'quality double or twin room with extra bed', 'superior double or twin room with courtyard view', 'executive family room', 'twin room disability access', 'privilege room with hammam', 'special offer double room with parking', 'classic double room for single use', 'executive triple room 2 adults 1 child', 'apartment 4 adults', 'suite deluxe', 'delightful king twin room', 'luxury double room', 'suite with river view', 'deluxe double studio', 'queen guest room with sofa bed', 'superior room', 'double room 3 adults', 'special offer classic room with parking', 'suite with hot tub', 'family room with two double beds', 'modern double room narcisse', 'executive double room with air conditioning', 'standard room with 1 kingsize bed', 'superior double room with city view', 'executive queen room with sofa', 'grand executive room', 'stayed 28 nights', 'standard room with spa access', 'suite avenue', 'lm club double or twin room', 'three bedroom suite', 'two connecting double and twin rooms', 'privilege room with 1 kingsize bed', 'balcony suite with executive lounge access', 'luxury king room with river view', 'superior deluxe room', 'luxury room 1 queensize bed twin bedded room on request', 'souterrain triple room', 'deluxe room with two single beds', 'superior room with queen size bed and double sofa bed', 'triple room with spa access', 'two connecting superior twin rooms', 'double family guestroom', 'studio disability access', 'executive studio apartment 2 adults 1 child', 'executive with two double beds', 'souterrain comfort room', 'suite with garden view and parking', 'superior double or twin room xl with extra bed 3 adults', 'accessible twin guest room', 'studio attrape r ve', 'executive double room with double bed and sofa bed', 'privilege top floor with terrace', 'basic double room', 'executive queen room with eiffel tower view', 'luxury family room', 'deluxe double room with spa access free wifi', 'penta playerpad suite', 'deluxe eiffel tower twin room', 'signature suite', 'deluxe double room canal view', 'executive double room with square view', 'single room with private bathroom', 'premium double or twin room', 'regency king suite with lounge access', 'king cathedral view room', 'family queen room', 'two double adjoining rooms', 'junior suite with balcony', 'secret room with spa access', 'executive junior suite with sea view', 'suite with city view and parking', 'king deluxe family room', 'luxury twin room solarium', 'junior room', 'king guest room', 'superior double room with free access to hamman', 'king room with sofa bed', 'double room non smoking', 'double room with canal view', 'deluxe one bedroom suite', 'premium double or twin room with garden view', 'superior room with a shower or a bath', 'solo room', 'double room with street view', 'garden view queen', 'luxury suite with whirlpool', 'suite with free pool and hammam access', 'executive queen room 2 adults', 'standard double', 'double or twin room with spa access', 'luxury room', 'deluxe king room with balcony', 'rooftop suite', 'wonderful sky room', 'marina suite with canal view', 'halkin room', 'standard double room with view', 'superior room with 1 queen bed and sofa 3 adults', 'superior room with 2 double beds', 'andaz double room', 'deluxe king room with paris view', 'twin hilton guest room', 'luxury room club sofitel with spa access', 'standard single room', 'classic double room with private terrace', 'superior room with 1 queen bed', 'studio apartment', 'double room with arc de triomphe view a glass of champagne', 'special offer double or twin room with parking', 'tower suite with lounge access', 'deluxe double room with free access to steam bath', 'queen guestroom', 'double room disability access tub', 'apartment for 3 to 4 people with kitchenette', 'king room or twin room disability access', 'junior suite 4 adults', 'twin room with cathedral view', 'standard twin room with arc de triomphe view', 'double or twin room with extra bed with balcony', 'executive king suite', '2 connecting rooms 5 adults', 'king hilton waterfront', 'superior suite', 'king executive room', 'deluxe with garden', 'deluxe room 3 adults', 'chic twin or double room', 'superior triple room xl', 'double room with shower', 'executive studio city view', 'classic double room with balcony', 'garden cottage', 'comfort double or twin room 1 2 adults', 'premium double or twin room xl with view', 'marvelous suite exchange', 'deluxe double room with extra bed', 'queen suite with balcony and city view', 'king room mobility accessible', 'compact double room', 'deluxe double or twin room light my fire', 'superior double room with 1 double bed and 1 sofa bed 2 places', 'junior suite with queen size bed', 'urban deluxe', 'stayed 30 nights', 'marvellous suite', 'executive double or twin room with view of big ben and lounge access', 'double room lady soul', 'exclusive suite', 'standard room sopi', 'standard double room with panoramic view', 'budget single room', 'superior double or twin room with city view', 'double room with terrace', 'classic double or single room', 'corner twin room', 'twin hilton deluxe room', 'two connecting double rooms 2 adults 2 children', 'prestige king room non smoking', 'superior suite water front', 'treat your partner package double room', 'junior suite with gallery view', 'prestige double room with view', 'triple room relax', 'romantic double room', 'grand superior king or twin room', 'cozy room', 'spectacular room', 'twin room with partial sea view', 'king room with city view top floors', 'executive king or twin room', 'superior double or twin room with canal view', 'double or twin room with view', 'junior suite with river view', 'stayed 24 nights', 'corner view suite', 'fabulous bank canal', 'queen room with two queen beds 4 adults', 'deluxe queen guestroom', 'park deluxe suite', 'deluxe double or twin room with opera view', 'double room op ra garnier with spa bath', 'residence suite', 'comfort plus twin room', 'hansen suite', 'double room with club lounge access', 'family room annex', 'junior suite with spa access free wifi', 'park deluxe view twin', 'deluxe triple suite', 'prestige suite with private terrace', 'suite superior', 'standard room with 1 queen bed', 'double room free wi fi', 'deluxe double or twin room 2 adults 1 child', 'luxury room 2 adults with canal view', 'large canal view king', 'executive suite 2 adults', 'privilege room with 1 double bed', 'one bedroom studio suite', 'queen room disability access non smoking', 'large comfort twin room disability access', 'guest room with balcony', 'superior twin room with two double beds', 'standard double room without window', 'deluxe twin room', 'superior king', 'deluxe double or twin room with panoramic sea view', 'executive suite with free airport shuttle service from 5 00am to 00 30am', 'executive double or twin room with harbour view', 'executive room with 1 queen bed', 'executive queen room with balcony', 'queen room with mobility access', 'suite with spa access', 'double or twin room in dite', 'comfort club double or twin room', 'privilege room with a double bed', 'prestige double or twin room', 'twin room with city view top floor', 'king suite with executive lounge access', 'deluxe double or twin room with spa access', 'deluxe double room with view and disability access', 'double room with city view 1 2 adults', 'double room crash pad', 'superior double or twin room with sauna access', 'luxury suite patio', 'double or twin room with garden view', 'suite with harbour view', 'comfort double or twin room for single use', 'premier deluxe double room', 'superior executive room with executive lounge access', 'studio my little haussmann', 'standard double room with park view', 'couture deluxe double room', 'superior room with 1 double bed and sofa', 'double room d couverte', 'the duplex', 'elegance double or twin room', 'double deluxe plus room', 'suite with free bottle of champagne and spa fitness access', 'family room sleeps four', 'double hilton guestroom', 'luxury double room large', 'double room audacieuse', 'superior double room with balcony and city view', 'deluxe double room with panoramic view', 'prestige twin room', 'stayed 4 nights', 'deluxe room with 1 queen bed', 'deluxe double or twin room 1 2 adults', 'deluxe double room with eiffel tower view', 'privilege king room', 'small studio', 'junior suite canal view', 'superior king room with iconic view', 'family room 4 people', 'penta standard room', 'junior suite double 1 2 adults', 'family room two connecting rooms', 'grand superior room', 'luxury triple room with garden view', 'two adjacent classic double rooms', 'superior family room 2 adults 2 children', 'junior suite 3 adults', 'cool corner exchange', 'sextuple room', 'executive suite with spa bath', 'supreme double room', 'two adjacent double rooms', 'standard king room non smoking', 'family room free wifi', 'executive room swimming pool hammam access upon reservation', 'standard', 'superior room with 1 double bed and 1 sofa bed 2 places', 'twin room with executive lounge access', 'camper room', 'executive double twin city view', 'deluxe king room with garden view', 'urban double or twin room', 'junior suite double or twin', 'deluxe room with city view', 'club king room non smoking with executive lounge access', 'superior double or twin room with terrace', 'junior suite immersive art experience', 'executive double or twin room with club lounge access', 'canal view queens', 'marvelous suite', 'double room tour eiffel with shower', 'superior double room with terrace and cathedral view', 'king room non smoking', '2 connecting rooms 4 people', 'double room atelier d artiste with spa bath', 'classic triple room', 'privilege junior suite with spa access', 'ring suite', 'king room with knightsbridge view', 'special offer deluxe room', 'executive room with terrace', 'superior twin room 2 adults', 'executive double room with eiffel tower view', 'superior triple room with 1 double bed 1 single bed', 'quintuple room 5 adults', 'la rouge suite', 'classic double or twin room with pool access', 'superior room with 1 double bed and 1 sofa bed 1 place', 'one bedroom river view suite', 'bunk bed room', 'standard room with two single beds renovated', 'club queen room', 'gallery suite with spa access free wifi', 'deluxe king room with club lounge access', 'budget double room second floor', 'superior double or twin room with balcony', 'family room 4 guest', 'family room 6 adults', 'classic double room', 'small double room canal view', 'luxury suite triple', 'double room with eiffel tower view', 'superior king or twin room', 'executive room with queen size bed and double sofa bed 2 adults 2 children', 'superior double room ground floor', 'suite free executive lounge access', 'executive queen room', 'two adjacent double or twin rooms', 'suite with garden view', 'standard room with 2 zip beds', 'superior apartment 3 adults', 'suite duplex', 'deluxe room barlow wing', 'family with young children', 'marina twin suite', 'stayed 11 nights', 'junior suite with lounge access', 'andaz king twin room', 'queen bed leisure', 'deluxe king', 'one bedroom city suite', 'kings deluxe junior suite', 'basic twin room', 'superior room with queen size bed and sofa bed 2 adults', 'classic king view', 'eiffel tower junior suite', 'two bedroom family room', 'privilege room with double bed and single sofa bed', 'executive room with queen bed renovated', 'standard double room with sofa bed 3 adults', 'k suite', 'standard twin room with 2 single beds', 'premium double or twin room xl', 'double room with four poster bed', 'corner larger executive room with executive lounge access free wifi', 'king magistrate suite', 'standard double room with two double beds', 'stayed 12 nights', 'business apartment with public transport ticket', 'solo traveler', 'deluxe metropolitan city double room', 'grande suite', 'executive double room with access to the level lounge', 'double or twin room with pool view', 'deluxe double or twin room with ramblas view', 'executive king room with city view', 'junior suite twin', 'comfort room', 'junior suite courtyard', 'classic double room with breakfast', 'stayed 3 nights', 'queen room mobility access', 'double room 1 adult', 'single room with double bed', 'large room', 'duplex family suite with spa bath', 'minsters deluxe two bedroom suite', 'studio suite with club lounge access', 'superior double room with spa access free wifi', 'deluxe with two double beds', 'family executive room 2 adults 2 children', 'executive deluxe double room', 'ma tre superior double or twin room with street view', 'king room with sofa bed and balcony', 'basic double', 'delightful queen room', 'suite with balcony and spa access', '2 twin beds guest room', 'studio suite', 'champs elys es prestige room', 'drop dead gorgeous splash suite', 'luxury suite superior', 'standard room 1 2 adults', 'superior queen room non smoking', 'deluxe junior suite with spa bath', 'superior double room with terrace', 'souterrain double room', 'deluxe king plus', 'premier single room', 'king grand premier with canal view', 'suite designer', 'junior suite with free bottle of champagne', 'superior executive room', 'suite split level', 'apartment suite', 'suite with eiffel tower view', 'bridal suite with view', 'queen room with sofa bed non smoking', 'superior room with spa fitness access', 'signature room', 'junior suite 2 adults', 'triple studio', 'suite with duomo view', 'superior double room single use', 'superior double or twin room with parking', 'single room with shared bathroom', 'superior queen room with courtyard garden or city view', 'premium double or twin room with sea view', 'champagne shopping package twin room', 'classic single room with spa access', 'executive queen room with sofa bed 3 adults', 'club twin room with lounge access', 'premier double or twin room with extra bed', 'single room joy', 'king deluxe family room connecting doors', 'standard triple room with queen bed and sofa bed', 'twin room 1 2 adults', 'art deco room terrace', 'premium junior suite with king size bed', 'twin room non smoking', 'mezzanine room', 'suite king', 'ambassador suite', 'deluxe double room with private access to pool and spa', 'imperial club double room with access to the club lounge', 'superior room queen size bed and double sofa bed', 'twin room with free airport shuttle service from 5 00am to 00 30am', 'twin room with spa bath', 'classic double room la parisienne', 'junior suite 2 adults with free airport shuttle service from 5 00am to 00 30am', 'la reflet junior suite', 'premium double room with views', 'quadruple room 2 adults 2 children', 'skylight deluxe executive room', 'privilege double room 2 adults 1 child', 'king room disability access non smoking', 'single hilton guest room', 'stayed 21 nights', 'standard double or twin room with balcony', 'standard room with queen bed and sofa', 'two connecting superior double rooms', 'deluxe queen room with view', 'executive suite', 'penthouse suite family', 'quadruple room annex', 'superior room with city view', 'double room with extra bed', 'comfort family room', 'standard duplex room 3 adults', 'deluxe premium double room', 'luxury suite conservatory with lounge access', 'park studio king', 'royal duplex suite', 'two adjoining rooms', 'king plaza executive room', 'superior room non smoking', 'single studio', 'privilege room with double bed and single sofa bed 3 adults', 'mus e d orsay double room', 'junior suite with double bed', 'standard double room no window', 'andaz large suite', 'park suite view', 'studio double family', 'standard twin room with bridge view', 'small single room', 'palais suite', 'superior triple room with 3 single beds', 'double room disability access non smoking', 'one bedroom suite with lounge access', 'duplex room', 'special offer double or twin room', 'premium room 3 adults', 'classic cosy room', 'special room', 'double or twin room business advantage', 'king hilton deluxe room', 'executive double room river view', 'standard double room 2 adults', 'terrace junior suite', '3 connecting rooms', 'queen or twin room', 'one bedroom deluxe suite', 'souterraine double or twin room', 'family apartment 4 adults with spa access', 'superior double bedroom', 'superior double room with queen size bed', 'single room tea time wine tasting included', 'family with older children', 'double room cosy', 'accessible double guest room', 'privilege room with extra bed 3 adults', 'studio twin', 'stayed 29 nights', 'art deco deluxe room patio and terrace', '4 person suite', 'executive double room non smoking', 'twin room mobility access', 'superior room queen bed', 'one bedroom suite with kitchen', 'executive four poster room', 'deluxe twin room 3 adults', 'superior double room 2 adults 1 child', 'superior twin room', 'gallery suite', 'comfort room with extra bed', 'king family room', 'parisian suite', 'loft double room with terrace', 'classic twin room', 'single room with spa access', 'city king room', 'small double room without window', 'privilege room with a double bed upper floors', 'deluxe king room with terrace', '2 connecting rooms 5 people', 'executive premium queen room', 'xscape king', 'double room with sofa bed', 'park suite with executive lounge access', 'executive room', 'hilton superior twin room', 'amsterdam street art double guest room', 'double room with st stephen s cathedral view', 'double or twin room with extra bed 3 adults with free airport shuttle service from 5 00am to 00 30am', 'double or twin room with extra bed', 'superior king room with pool view', 'one bedroom suite with courtyard view', 'junior suite with extra bed', 'classic twin or double room', 'park view studio', 'superior triple room 3 adults', 'executive room with two double beds and executive lounge access', 'hyatt queen room', 'hilton relaxation room', 'suite 1 2 adults', 'landmark junior suite', 'junior suite', 'one bedroom suite with executive lounge access', 'large triple room', 'executive suite 1 king', 'superior double or twin room xl', 'presidential suite', 'business double or twin room facing the sea', 'premium double room', 'superior twin room with extra bed', 'twin superior room', 'pasha suite', 'premium triple room', 'deluxe pantheon room', 'premium king room with view', 'junior suite parisienne', 'premium lafayette', 'premier shard suite', 'classic double or twin room with city view', 'king executive suite with lounge access', 'guest queen room with two queen beds', 'wonderful double or twin room', 'superior deluxe double room', 'executive double room with two double beds with lounge access', 'superior double room free wi fi', 'two connecting rooms 3 persons', 'executive twin room with lounge access', 'triple room with spa bath', 'junior suite with access to the club lounge', 'junior suite with executive lounge access and free wifi', 'classic double room with shower', 'suite family room 2 adults 2 children', 'executive double or twin room 3 adults', 'fabulous bank king', 'fabulous sky room', 'comfort double room courtyard side', 'classic double room with view', 'double or twin ground floor', 'junior suite 1 2 adults', 'the rooks nest', 'hyatt twin room with view', 'hilton deluxe king room', 'single room with bathroom', 'garden king room', 'superior garden view room', 'congress suite', 'deluxe king room with stadium view', 'family suite with two connecting rooms', 'townhouse suite', 'deluxe eiffel twin', 'twin hilton guestroom', 'squint splash suite', 'luxury double room mezzanine', 'group', 'classique double room', 'courtyard suite with st stephen s cathedral view', 'two connecting rooms with free access to hamman', 'family room with balcony', 'hypoallergenic double or twin room', 'standard double room with view terrace', 'double room luxury xxl king size bed', 'classic double room les pop', 'penthouse suite with view', 'superior one bedroom apartment', 'embassy suite', 'luxury twin room', 'royal double room', 'superior twin room with internal view', 'deluxe family room with 1 double and 2 single beds', 'business trip', 'stayed 13 nights', 'superior suite 4 adults', 'standard twin room 2 adults 1 child', 'junior suite with river view and balcony', 'park suite', 'standard room with queen bed', 'privilege room with 1 queen size bed', 'executive room with 1 queen bed and 1 sofa 2 adults', 'family room with spa access', 'deluxe family room with 1 double and 2 single beds 3 adults', 'nadler deluxe double room', 'double or twin room with extra bed 2 adults 1 child', 'superior metropolitan park double room', 'superior room with 2 single beds', 'deluxe double room with canal view', 'comfort twin double room', 'deluxe double room with bath', 'special offer comfort double room with parking', 'double or twin room with sofa bed', 'queen room with sofa bed', 'junior suite xl', 'two connecting double rooms 4 adults', 'premium family room', 'luxury suite antique theme', 'deluxe guest room 1 king or 2 twin single bed s', 'accessible studio suite', 'executive queen suite', 'double room large heritage', 'king double room', '2 double rooms next to each other', 'superior double room with garden view', 'double room single use', 'executive double room with sofa bed', 'executive king', 'king studio', 'superior room with garden view', 'suite with executive lounge access', 'penta plus room', 'club junior suite', 'superior two bedroom apartment', 'confort queen room', 'twin room with private bathroom', 'la mathurin suite', 'deluxe double', 'privilege double room with saint germain des pr s church view', 'budget single room non smoking', 'queen or two double beds room', 'superior double or twin room xl with extra bed 2 adults 1 child', 'superior twin room with cathedral view', 'comfort triple room with spa bath', 'classic twin room with view', 'queen guest room with terrace', 'superior double room 3 adults', 'junior suite 5 adults', 'executive queen room with two queen beds with lounge access', 'premier king room barlow wing', 'double room with extra bed 2 adults 1 child with ramblas view', 'deluxe room with pool access', 'royal suite split level with spa bath annex building', 'family room free wi fi', 'nhow double or twin room', 'superior king room with sofa bed', 'cabine single room', 'classic family room', 'executive queen room non smoking', 'deluxe room with 1 double bed', 'park deluxe queen', 'superior queen suite with sofa', 'single room', 'queen room', 'superior queen room with extra bed 3 adults', 'luxury suite music theme', 'twin deluxe with canal view', 'junior suite sans mod ration', 'junior deluxe double room', 'luxury junior suite', 'junior suite with vip services', 'panorama suite', 'executive double or twin room with private terrace', 'hilton superior double room', 'eiffel tower view twin room', 'secret double room', 'classic room with one queen bed', 'deluxe king room with water view', 'deluxe junior suite', 'stayed 22 nights', 'single cabin room', 'superior double or twin room xl with view', 'deluxe double room with garden view', 'large comfort double or twin room', 'junior suite premium with spa access', 'premium double or twin room with view', 'special offer double room park and sleep inklusive breakfast', 'superior double room with spa access', 'privilege junior suite with terrace and spa access', 'spare room double', 'superior double or twin room with view', 'superior room with view of big ben', 'stayed 6 nights', 'superior premium room with queen bed sofa', 'double or twin room', 'junior deluxe twin room', 'new amsterdam suite', 'one bedroom suite with park view', 'deluxe double room with courtyard view', 'hoxton family suite', 'superior room design style free wifi', 'double guest room', 'executive room with queen bed', 'family plan', 'king room second floor', 'observatory king', 'standard queen room with sofa bed', 'deluxe single room with view', 'club double or twin room', 'premium superior queen room', 'double or twin room with terrace and panoramic view', 'junior suite with pool access', 'four poster suite', 'twin junior suite city view with access to executive lounge', 'weekend offer standard studio', 'twin room with pool view', 'fabulous exchange king', 'executive double room with free access to steam bath', 'deluxe twin room with eiffel tower view', 'stayed 27 nights', 'standard double or twin room with view', 'deluxe suite 2 adults with paris view', 'deluxe double room non smoking', 'superior double or twin room with eiffel tower partial view', 'stayed 17 nights', 'family junior suite 4 adults', 'the level executive service room', 'suite with panoramic view', 'deluxe triple room swimming pool hammam access upon reservation', 'executive studio', 'panoramic suite', 'privilege double room with free pool and hammam access', 'suite without window', 'superior', 'premium double room with balcony', 'suite with view', 'junior suite with free access to steam bath', 'executive twin room with access to executive lounge', 'economy double or twin room', 'king guestroom', 'superior queen room with double sofa', 'exclusive double or twin room la mondaine', 'grand premium double or twin with city view', 'deluxe suite with executive lounge access', 'deluxe double or twin room with vip services', 'deluxe double room with separate lounge area', 'double room mus e d orsay with spa bath', 'superior double room with street view', 'standard double room with queen bed', 'special offer single room with continental breakfast', 'privilege twin room', 'ruyschen suite', 'luxury 1 bed suite', 'junior double room', 'premier deluxe twin room', 'duomo suite', 'privil ge suite with 1 double bed and sofa', 'double hilton deluxe', 'double room with single bed', 'executive room with executive lounge access free wifi', 'superior twin room with extra bed 2 adults 1 child', 'business king room', 'junior suite royal', 'king room', 'double family guest room', 'stayed 26 nights', 'double or twin room with park view', 'standard 1 bedroom apartment', 'supreme twin room', 'classic double room with free access to hamman', 'superior double room with sofa', 'comfort twin room', 'junior suite high floor', 'classic double room with garden view', 'one bedroom classic suite', 'family room 2 adults 3 children', 'suite family and friends', 'twin room with courtyard view', 'superior room with sofa bed 3 adults', 'two adjacent rooms', 'grand executive king room', 'superior duplex room', 'large deluxe room', 'executive double room with access to executive lounge', 'premier king room with city view', 'double room with view', 'four seasons twin junior suite', 'suite with spa access 4 adults', 'room assigned at check in', 'superior king with balcony', 'junior suite saint honor', 'standard double room with bath', 'the level room with executive lounge access', 'club deluxe room', 'duke of monmouth suite', 'superior room with balcony and opera garnier view', 'couture junior suite', 'studio 2 adults', 'superior queen room with single sofa bed', 'emotion room with terrace', 'canal view superior deluxe room with spa bath', 'river view deluxe', 'cosy twin room', 'standard guest room', 'four seasons suite', 'suite couture', 'deluxe double room with state opera view', 'superior room with 1 queensize bed canal view', 'accessible twin room', '5 rooms', 'superior double room with tea time included', 'privilege room with double bed', 'business single room', 'quality double or twin room', 'standard double room pigalle 15', 'family room', 'river view balcony suite', 'privilege double room', 'superior room with spa access free wifi', 'double room large', 'superior double room les artys les fifties', 'art king room', 'junior suite with lounge access and city view', 'one bedroom queen suite', 'junior suite free wifi', 'deluxe double or twin room 3 adults', 'superior room with balcony with spa access', 'executive triple room', 'standard double or twin room with extra bed 3 adults', 'royal mews view king room', 'superior double room with terrace and city view', 'apartments 4 adults', 'double accessible guest room', 'standard double room with sofa bed', 'twin hilton deluxe', 'double room 1 adult with free airport shuttle service from 5 00am to 00 30am', 'accessible queen guest room', 'family room with king bed and sofa bed', 'junior king suite with view 2 adults', 'deluxe double or twin room disability access', 'superior twin room with pool access', 'senior suite 1 3 adults', 'junior suite cathedral view with access to executive lounge', 'family room with bathroom', 'family 2 connecting rooms', 'double room with sofa bed non smoking', 'small deluxe room with canal view', 'executive double', 'superior room with club lounge access free wifi', 'camper suite', 'business double or twin room', 'deluxe barcelona city view', 'octagon suite with lounge access', 'superior suite with garden view', 'comfort single room with window and double bed', 'luxury double or twin room', 'privilege room 3 adults', 'executive suite 3 adults', 'canal view deluxe triple room with spa bath annex building', 'special offer twin room', 'comfort plus double room', 'view twin', 'double room relax', 'superior twin room with sofa bed non smoking', 'superior queen room with 2 single sofa beds', 'emotion room', 'standard apartment', 'townhouse apartment', 'double or twin junior suite', 'king loft', 'superior double room with duomo view', 'stayed 1 night', 'queen suite with lounge access', 'loft suite', 'superior double studio', 'junior suite with city view', 'top deluxe room', 'superior double room with free pool access', 'superior double or twin room with extra bed 3 adults', 'club superking room', 'shoreditch suite', 'executive twin room', 'king corner room', 'family room 2 adults 1 children', 'double or twin room with bathroom', 'one bedroom king suite', 'standard double room with sea view', '2 connecting deluxe rooms with vip service for kids', 'comfort single room with shower', 'queen hilton superior room', 'small double room', 'twin plaza executive room', 'maisonette', 'luxury room with spa access', 'fabulous double or twin room', 'classic guest room 1 king or 2 twin single bed s', 'junior suite 2 adults 2 children', 'superior room pigalle', 'eiffel tower suite', 'prestige family room', 'special offer only for cruise passengers', 'superior twin room with city view', 'executive studio suite', 'penthouse junior suite with access to executive lounge', 'duplex junior suite with spa access', 'two connecting double rooms', 'couture suite', 'deluxe family room 4 adults', 'junior suite with access to executive lounge', 'luxury suite', 'premium king room', 'suite with balcony', 'executive suite with balcony', 'townhouse deluxe', 'executive club room', 'studio king 3 adults', 'standard double room', 'superior queen single room', 'principle double', 'tiny single room', 'classic designer', 'twin grand deluxe room', 'double room gwr tower', 'junior suite 2 adults and 1 child free wi fi', 'superior triple room', 'superior room with queen bed and sofa', 'deluxe suite with river view', 'double studio', 'one room suite with kitchenette', 'double room 1 2 adults', 'suite with spa access 1 adult', 'privilege double room with eiffel tower view', 'spectacular double room', 'prestige triple room', 'grand premier king room', 'superior king room with river view', 'junior suite executive', 'premium king or queen room', 'deluxe king room balcony with eiffel tower view', 'double room 1 or 2 people', 'two bedroom suite with private access to pool and spa', 'luxury four poster', 'classic room breakfast included', 'one bedroom suite with kitchenette', 'executive double room with spa bath', 'apartement', 'king atrium suite with lounge access', 'master suite with club lounge access', 'double room with garden view', 'kube double or twin room', 'standard room with one double bed and single sofa bed', 'room sous les toits 18m with montmartre view', 'queen suite', 'deluxe single room with shared bathroom', 'ren room free wifi', 'dorsett double room', 'executive master suite', 'executive deluxe room', 'mandarin double or twin room', 'family room two connecting rooms vip welcome for kids', 'club twin room', 'superior room with two double beds and balcony', 'double room for single use', 'deluxe double room with two double beds', 'double room with french bed', 'king room with courtyard view', 'intuition room', 'superior double room with internal view', 'superior double room pigalle 17', 'triple room luxury xxl king size bed', 'classic suite', 'junior triple suite', 'traditional double room', 'nelson double room', 'superior double room with sea view', 'triple hilton family room', 'one bedroom suite with sea view', 'double room baronne', 'suite with spa bath', 'junior family suite 2 adults', 'eiffel loft', 'smart double or twin room', 'special offer room with continental breakfast', 'king guest room wheelchair accessible', 'superior double twin room', 'suite with sofa bed', 'deluxe room with terrace', 'deluxe king room with city view', 'double room with free airport shuttle service from 5 00am to 00 30am', 'tradition double room', 'large family suite', 'executive room 2 adults 2 children', 'superior double room with terrace and private pool', 'two adjacent double room', 'chambers grand junior suite with club lounge access', 'standard room with queen size bed and double sofa bed', 'loft junior suite', 'standard double twin room', 'belgravia suite', 'superior double', 'superior junior suite single use', 'studio double room', 'business double room with courtyard view and public transport ticket', 'eiffel suite with partial view', 'executive king or twin room with lounge access', 'king deluxe one bedroom suite with lounge access', 'standard queen room with two queen beds', 'apartment attic', 'junior suite my ch rie amour', 'standard room with 1 double bed', 'triple room', 'privilege suite', 'king double or twin room', 'wonderful exchange king', 'room with ramblas view', 'superior double room with 1 extra bed', 'superior double or twin room tea time wine tasting included', 'deluxe premium king room', 'deluxe queen room with sofa', 'panorama guest room 1 king or 2 twin single bed s', 'deluxe double room with balcony and free pool access', 'montcalm club room', 'executive premium room with a queen bed', 'deluxe double or twin room annex', 'suite with rambla view', 'level room with executive lounge access', 'art deco deluxe room', 'standard double room with sofa', 'king junior suite with view', 'luxury single room', 'executive king room with sofa bed non smoking', 'business room', 'superior suite 2 adults', 'standard double or twin with view', 'suite canal view', 'executive single room', 'executive room with garden view', 'superior twin room with courtyard garden or city view', 'business single room with courtyard view', 'privilege room with 2 double beds', 'deluxe family room 3 adults', 'deluxe double room with terrace and private pool', 'superior suite junior', 'comfort triple room', 'superior studio', 'one bedroom apartment', 'duplex twin room', 'double room with extra bed 3 adults', 'double room intemporelle', 'king room with pool view', 'penthouse plaza suite with access to executive lounge', 'triple junior suite', 'standard room with 2 single beds', 'classic triple room 2 adults', 'deluxe room 2 adults', 'classic double or twin room with spa access', 'stayed 9 nights', 'superior room with 1 queensize bed and double sofa bed', 'king room with balcony', 'standard family room', 'prestige double room', 'deluxe double room', 'king one bedroom suite with lounge access', 'single room with courtyard view', 'standard double room with bridge view', 'superior family room', 'premier shard king room', 'room with river view main deck', 'superior deluxe double or twin room', 'comfort double or twin room with rambla view', 'king premier room', 'suite trocadero balcony with eiffel tower view', 'king grand deluxe room', 'large double room', 'executive apartment', 'city suite', 'suite reloj', 'comfort suite', 'deluxe quadruple room with paris view', 'standard room with queen bed and sofa bed', 'standard room with double bed and sofa bed', 'deluxe double room with balcony', 'twin hilton sea view', 'double or twin room with terrace and spa access', 'family room 2 adults 2 children', 'twin executive room', 'superior double room disability access', 'deluxe family room with spa access', 'double room courtyard', 'executive suite with view', 'quadruple apartment', 'queen superior room', 'urban suite', 'prestige room with garden view free wifi', 'double room crash pad under 30s', 'deluxe king room disability access', 'deluxe double room with balcony non smoking', 'wonderful bank with canal view', 'standard twin room', 'deluxe double with terrace', 'studio king', 'king deluxe room', 'premier double room', 'budget double room', 'eiffel suite', 'hyatt king room', 'grand deluxe double room', 'executive double room eiffel tower view with 1 queensize and sofa bed', 'king suite non smoking with executive lounge access', 'deluxe king guestroom with view', 'twin executive plus room', 'suite 1 2 adults with spa access', 'mega room', 'art deco double room', 'superior double double', 'deluxe double room with free access to hamman', 'andaz large king room', 'king room with city view', 'room with dock view upper deck', 'privilege room with view', 'chelsea double suite', 'executive king room', 'superior queen room with paris view', 'queen guest room with river view', 'prestige suite', 'twin hilton executive room with access to executive lounge', 'superior double or twin room with landmark view', 'deluxe queen room', 'king room with view', 'deluxe twin room balcony with eiffel tower view', 'family quadruple room', 'standard twin room with sofa', 'king or double room with panoramic view', 'view queen', 'signature luxury king with balcony', 'three bedroom apartment', 'superior queen room', 'family studio', 'bobo queen or twin room with spa access', 'chelsea twin suite', 'triple room 3 adults', 'double room with spa bath', 'compact double room shared bathroom', 'deluxe double room pigalle 21', 'king superior room', 'family room two connecting rooms 3 adults', 'superior twin room with park view', 'king room with sea view', 'large double or twin room', 'standard room with 1 queen bed and sofa', 'single room with arc de triomphe view', 'superior double or twin room', 'superior quadruple room with balcony', 'superior double or twin room with patio', 'executive king room with view', 'quadruple room with sauna access', 'family junior suite 3 adults 1 child', 'deluxe double room with lounge access', 'standard triple room', 'executive king room with executive lounge access', 'premium view double room', 'junior suite attic', 'two double bed guest room', 'junior suite blue', 'deluxe studio', 'deluxe suite 4 adults', 'luxury triple room', 'executive double room with park view', 'double or twin room with parking', 'two bedroom suite', 'double room medium', 'double room with small double bed', 'club king room', 'two interconnecting rooms', 'classic room with 1 queen bed', 'hilton superior king room', 'junior suite with bath', 'double or twin room with terrace', 'deluxe accessible twin room with view', 'room with view', 'suite pigalle 35', 'junior suite basement', 'wonderful room', 'executive double room with city view', 'king junior suite city view with access to executive lounge', 'double or twin room 1 2 adults', 'superior capucines room', 'family room 2 adults 1 child', 'double room with city view 1 adult', 'single room with free airport shuttle service from 5 00am to 00 30am', 'superior double or twin room with terrace spa acces', 'premier river king room', 'duplex junior suite', 'suite vip welcome', 'superior double room', 'junior suite with club lounge access', 'ambassadors room', 'deluxe double or twin room with pool access', '2 adjacent superior rooms', 'family premium room 2 adults 2 children', 'luxury suite with garden view', 'twin guest room plus', 'double for single use', 'stayed 15 nights', 'executive queen room with lounge access mobility access', 'premium double twin room', 'superior room with canal view', 'twin studio', 'junior suite 3 adults with spa access', 'junior suite with private pool spa access', 'small double or twin room', 'loft suite disability access', 'executive double or twin room with city view', 'suite with st stephen s cathedral view', 'large double room with garden view', 'double or twin room with extra bed 3 adults', 'classic room with 2 double beds', 'superior room with double bed and sofa bed', 'city twin room', 'deluxe double room with terrace and eiffel tower view', 'classic adjacent rooms', 'elisabeth suite', 'club double or twin room with club lounge access', 'deluxe double room with city view', 'double room trocad ro with spa bath', 'universitat single room', 'apartment 3 adults', 'queensgate triple room', 'executive room free executive lounge access', 'deluxe room with courtyard view', 'superior suite 3 adults', 'classic double or twin room', 'junior alcove suite with access to executive lounge', 'basic double or twin room', 'superior shard king', '2 rooms', 'superior room with balcony', 'double or twin room with city view', 'suite cocotte', 'double twin rooms next to each other', 'double room with parking', 'single room lower ground floor', 'amsterdam street art queen guest room', 'king waterfront suite with access to executive lounge', 'stayed 8 nights', 'superior room with sofa bed', 'two connecting double rooms with pool access', 'twin room with public transport ticket', 'leisure trip', 'standard room with 1 double bed and 1 sofa bed', 'suite with spa access 3 adults', 'family room 5 adults', 'deluxe double or twin room with spa bath', 'deluxe single room', 'small queen room', 'classic single room', 'king junior suite with lounge access', 'king room balcony with view on eiffel tower view free wi fi', 'double room ground floor', 'club double room', 'three bedroom luxury apartment', 'mansart executive room', 'small double room with canal view', 'discovery double room', 'club double room with free internet and breakfast', 'double or twin room with courtyard view', 'queen room with executive lounge access', 'deluxe double or twin room with parking', 'deluxe apartment', 'classic apartment', 'deluxe king room 2 adults', 'grand premier suite', 'superior double room with london eye view', 'master bedroom double', 'deluxe double plus single bed', 'double room with balcony', 'family room 2 connected double rooms', 'junior suite with kingsize bed 3 persons', 'superior twin room with paris view', 'king junior suite', 'grand deluxe imperial room', 'family suite with adjoining rooms', 'privilege family room', 'executive suite with queen bed and sofa bed 2 adults', 'deluxe king room', 'interior facing double room with natural light', 'double room attic', 'twin guest room', 'canal view king', 'junior king suite with lounge access', 'superior junior suite', 'junior suite with extra bed 3 adults', 'small double room annex building', 'cozy exchange king', 'executive room with canal view', 'premier twin room', 'fantastic suite', 'park deluxe executive king', 'deluxe double room 3 adult', 'twin room with view', 'four connecting rooms', 'executive room with double bed', 'deluxe twin room annex', 'double room with fitness equipment', 'suite tea time wine tasting included', 'club double room with club lounge access', 'deluxe king room with club lounge access and balcony', 'loft suite with terrace', 'deluxe double room corner', 'marina double suite', 'twin executive room with lounge access', 'king room with river view', 'luxury king room 3 adults', 'room with park view', 'superior double room new style', 'superior double room with free pool and hammam access', 'twin bed suite', 'standard duplex room 1 2 adults', 'green park suite', 'park executive suite', 'original double room', 'superior room swimming pool hammam access upon reservation', 'junior suite with private garden', 'deluxe plus double room', 'double room with extra bed 2 adults 1 child', 'atrium', 'queen single room', 'deluxe suite', 'superior double room breakfast included', 'standard double room with parking', 'paris style queen or twin room with spa access', 'superior room with double bed', 'king executive room with lounge access', 'deluxe contemporary room', 'superior double or twin room with extra bed', 'basic double or twin room with parking', 'large king room', 'king room with disability access non smoking', 'double room medium heritage', 'connecting double rooms', 'standard room with queen size bed and double sofa bed 3 adults', 'curve suite with lounge access', 'one bedroom family suite', 'cabin single room', 'junior suite with view and disability access', 'adjacent rooms', 'standard double room with tea time included', 'classic room with queen bed', 'executive king room with air conditioning', 'family room 3 adults 1 child', 'executive double room with spa access', 'double room', 'executive double or twin room with spa access', 'deluxe designer', 'superior twin room with free pool access', 'deluxe queen room with two queen beds', 'superior double or twin room for single use', 'hilton deluxe twin room plus', 'luxury duplex room', 'suite elys e', 'stayed 14 nights', 'family two bedroom suite', 'superior room for 1 2 people with kitchenette', 'deluxe family room', 'executive deluxe', 'city twin room with surprise package', 'two bedroom deluxe suite', 'executive queen room with sofa bed', 'stayed 10 nights', 'champagne shopping package double room', 'special offer classic double room', 'triple room annex', 'deluxe executive room', 'superior double room with extra bed', 'junior queen suite with sofa bed', 'luxury room 3 adults with canal view', 'family superior room', 'studio twin room', 'cool corner room', 'deluxe one bedroom apartment', 'executive double or twin room', 'suite with private pool', 'double or twin room ladies special', 'stayed 20 nights', 'executive king room with lounge access', 'superior room with 1 queen bed and sofa', 'club double room with lounge access', 'exclusive guest room 1 king or 2 twin single bed s', 'superior room with two double beds and view', 'deluxe quadruple room with canal view', 'large garden view king', 'studio', 'double room disability access', 'suite with glass of champagne', 'knightsbridge suite', 'executive club twin room', 'special offer queen room', 'double room city', 'superior executive twin room', 'deluxe room', 'condal double or twin room', 'large single room', 'twin city view room', 'special offer double room 3 nights minimum', 'superior king room non smoking', 'one bedroom suite with sofa bed', 'art twin room', 'superior king room with balcony', 'loft', 'one bed feature room', 'executive room with one queensize bed with balcony', 'economy single room basement no window', 'executive double or twin room with executive lounge access', 'junior suite jungle fever with hot tub', 'deluxe family room with two double beds with paris view', 'classic double room with free pool and hammam access', 'cosmopolitan suite', 'suite with club lounge access', 'executive deluxe king room', 'ground floor queen room disability access', 'deluxe double or twin room with balcony', 'family suite', 'superior business room with a double bed and sofa bed', 'king master suite', 'executive room with 1 queen bed and 1 sofa 3 adults', 'standard room with 2 double beds', 'special offer princess relax', 'classic king twin room', 'stayed 19 nights', 'double room comtesse', 'premier suite', 'suite 1 3 adults', 'double or twin room 2 adult 1 children', 'park twin', 'superior queen room with pool access', 'classic double or twin room with extra bed', 'standard double or twin room with extra bed 2 adults 1 child', 'executive king suite with lounge access', 'deluxe garden room', 'queen room upper floors', 'superior room with one double bed', 'premium room grand pigalle', 'special offer superior double room', 'urban junior suite', 'standard quad room', 'stayed 25 nights', 'superior room with 1 kingsize bed', 'standard guestroom', 'queen one bedroom suite', 'stayed 23 nights', 'executive room queen size bed', 'superior four poster room', 'duplex deluxe triple room 2 adults 1 child', 'duplex room 4 adults', 'suite grand lit', 'sensation room', 'single room city', 'special offer executive double twin room with access to nagomi health', 'superior premium room with queen bed and sofa bed', 'business studio suite', 'king suite non smoking', 'superior room with queen bed', 'superior double or twin room with free wifi', 'queen family room', 'deluxe double room annex', 'double or twin room with sea view', 'tradition twin room', 'large suite', 'aldwych double twin room', 'classic quadruple room', 'deluxe king or queen room', 'deluxe double room with two single beds', 'luxury double room with balcony', 'king or queen studio', 'deluxe double room with connecting doors', 'the level grand premium double or twin room with city view', 'bunk bed in twin room pigalle 12', 'montcalm club twin room', 'junior suite with spa access 3 adults', 'junior suite with view of the eiffel tower', 'twin hilton plaza room', 'superior double room with two double beds', 'studio twin room 3 adults', 'double room with shared bathroom', 'junior suite with private pool', 'superior designer', 'superior twin double room', 'executive double room studio d artiste', 'collection suite', '2 connecting rooms 4 adults', 'executive club double room', 'superior double room with massage chair', 'duplex suite', 'cool corner suite', 'superior double room with sofa bed and pool view', 'deluxe queen room with pool view', 'triple room with city view', 'boudoir double room', 'super deluxe double room', 'comfort double room with extra bed', 'family room 3 adults', 'deluxe double or twin room with sea view', 'suite family room', 'queen suite with city view', 'attic suite 1 or 2 people', 'deluxe double and single room', 'with a pet', 'superior apartment 2 adults', 'double or twin room with balcony', 'studio triple', 'superior deluxe double room pigalle 22', 'superior twin room with view', 'single room annex', 'double or twin room non smoking', 'executive studio with london eye view', 'deluxe twin room souterrain basement', 'double guest room with river view', 'double room with private bathroom', 'suite aurore', 'deluxe duplex room', 'superior double room with sofa bed', 'artist s studio king junior suite with spa access', 'family room with king bed', 'double standard', '2 connecting rooms', 'double executive room', 'double room curieuse', 'double room xl', 'deluxe one bedroom suite with river view', 'king room with hyde park view', 'grand premier family room', 'art room with iconic view', 'queen hilton guest room', 'deluxe family room with 1 double and 2 single beds 4 adults', 'park deluxe view', 'executive room with two queen beds', 'executive room with river view', 'junior suite with sea view', 'room with river view upper deck', 'superior room with queensize bed and single sofa bed 2 adults 1 child', 'executive penthouse with canal view', 'prestige one bedroom suite with river view', 'executive king room non smoking with executive lounge access', 'single guest room', 'exclusive double room', 'oscar wilde room', 'family room three bedrooms communicating', 'two adjoining superior suite', 'superior double room loge sup rieure', 'queen room with balcony', 'family apartment', 'double junior suite', 'superior queen suite with sofa bed', 'superior double room with terrace and jacuzzi', 'grand deluxe room', 'king guest room with sofa bed', 'one bedroom suite 1 2 adults', 'king hilton sea view', 'twin premier room', 'superior suite 3 adults 1 child', 'club double or twin room with executive lounge access', 'luxury double room with balcony and river view', 'quadruple room', 'corner suite with lounge access', 'two connected double rooms', 'double suite', 'classic double single use', 'two connecting double or twin rooms', 'penthouse', 'executive room with 1 queensize bed', 'studio suite bank', 'junior suite with queen bed 3 adults', 'superior double room 1 2 adults', 'superior premium queen room', 'stayed 7 nights', 'executive double or twin room with terrace', 'penta junior suite', 'double room annex', 'falconers two bedroom suite', 'queen guest room mobility accessible', 'standard twin room non smoking', 'large twin room', 'exclusive suite eiffel', 'junior suite 1 3 adults', 'executive business room with double bed', 'classic room', 'duplex suite with sofa bed', 'premier room with balcony', 'amiral single room', 'classic room with 2 double beds 4 adults', 'superior double room with free unlimited wifi', 'junior suite 3 adults with paris view', 'duplex double room', 'twin junior suite', 'executive twin room with city view', 'superior double room with view', 'grand premium double or twin with sea view', 'single room with park view', 'park deluxe twin', 'double room marquise', 'standard queen room', 'standard room with 1 queen bed and sofa 3 adults', 'terrace suite with lounge access', 'deluxe eiffel tower king room', '2 adjacent rooms', 'master suite', 'junior suite blue sunshine', 'junior suite with 1 king size bed', 'deluxe studio suite', 'luxury quadruple room', 'family apartment 2 adults 2 children', 'king one bedroom suite with living room', 'deluxe double room with gallery view', 'standard king room', 'two connecting executive rooms', 'romantic special offer', 'junior suite with mountain view', 'townhouse club', 'business double room', 'queen room with roll in shower mobility access non smoking', 'superior double or twin room with free airport shuttle service from 5 00am to 00 30am', 'comfort double or twin room non smoking', 'junior suite with living room', 'superior one bedroom suite', 'twin room with sea view', 'delegate deluxe double room', 'deluxe triple room', 'king room with partial sea view', 'exclusive double or twin room', 'privilege superior room', 'grand suite with canal view', 'classic king room', 'special offer deluxe double or twin room', 'comfort double or twin room with balcony', 'junior suite split level with lounge access', 'queen hilton deluxe', 'suite oc ane', 'queen junior suite', 'apartment 6 adults', 'dalston king', 'prestige double room with eiffel tower view', 'quadruple room with shower', 'wonderful double room', 'twin room with city view', 'deluxe double or twin room', 'junior family suite 3 adults', 'penthouse king executive room with access to executive lounge', 'deluxe boulevard double room', 'junior king suite', 'kings junior suite', 'double room duchesse', 'comfort double room', 'executive room city view', 'park suite king', 'executive double or twin room la ravissante', 'premier king room', 'standard compact double room', 'hilton executive suite with lounge access', 'westminster suite with king bed', 'economy single room', 'king suite with lounge access', 'hyatt twin room', 'deluxe double twin room', 'one bedroom apsley suite', 'wonderful bank king', '4 rooms', 'business double room 1 adult', 'superior king suite', 'double room 2 adults', 'triple room with park view', '1 king bed guest room', 'standard double or twin room 1 2 adults', 'classic triple room 3 adults', 'premium double room with garden view', 'junior suite double', 'superior queen room 2 adults', 'classic twin view', 'river double suite', 'stunning city studio', 'two connecting classic double rooms', 'triple family guestroom', 'deluxe king studio suite', 'king size double room', 'romantic offer double room', 'superior double or twin room with garden view', 'superior apartment 4 adults', 'executive queen room mobility access with lounge access', 'park deluxe king or twin', 'king room mobility accessible non smoking', 'superior room 3 adults', 'regency suite', 'privilege twin king room', 'comfort double room with sacr coeur view', 'superior suite with city view', 'executive double room eiffel studio d artiste with view of paris', 'king or twin room with river view', 'loft double room', 'double room capricieuse', 'twin room 1 2 people', 'mandarin room', 'deluxe double room without window', 'superior double or twin room non smoking', 'double or twin room 2 adults', 'double without credit card', 'premium deluxe double room', 'family suite with balcony', 'junior suite with hydromassage shower', 'economy twin room', 'business class room', 'family king room', 'club room with club lounge access free wifi', 'standard double or twin room 3 adults', 'attach suite', 'twin room with extra bed', 'penthouse suite', 'classic double room with courtyard view', 'double room 1 adult with eiffel tower view', 'superior deluxe double room with canal view', 'premium twin room', 'op ra junior suite', 'king accessible superior room', 'comfort single room', 'jimmie martin penthouse suite', 'prestige room swimming pool hammam access upon reservation', 'family room with view 2 adults 2 children', 'deluxe double room with club lounge access', 'special offer double room park and sleep', 'standard room', 'standard quadruple room', 'superior king room barlow wing', 'souterrain executive double room', 'garden view king', 'suite', 'double room insolite', 'twin grand premier room', 'standard double room non smoking', 'double executive room with lounge access', 'junior suite 3 adults or 2 adults 1 child', 'premier double or twin room', 'deluxe king guestroom', 'executive room 1 queen size bed 1 sofa bed balcony', 'deluxe imperial room', 'superior double or twin room with balcony 1 adult', 'superior room with queen bed sofa', 'two bedroom family', 'deluxe double room with view', 'king hilton executive room with access to executive lounge', 'stayed 2 nights', 'fabulous room', 'deluxe double or twin room with city view', 'city room', 'standard double studio', 'executive king twin room', 'deluxe king with balcony', 'triple apartment', 'classic double room with city view', 'family room xl', 'river twin suite', 'hyatt queen room with view', 'classic twin room with garden view', 'duplex triple room', 'superior deluxe double or twin room with spa access', 'double double room', 'two bedroom superior suite', 'champs elys es prestige junior suite', 'urban queen room with spa access', 'royal mews view classic double', 'small double room with extra bed annex building', 'two connecting basic rooms', 'junior suite with courtyard view', 'junior suite avenue', 'standard room with terrace', 'classique square', 'two adjacent classic rooms', 'minsters deluxe one bedroom suite', 'suite room 1 or 2 people', 'interior double or twin room', 'plaza club room', 'comfort king or twin room', 'twin or double room with terrace', 'city king or twin room', 'standard double room with terrace', 'double room rouge epic e', 'junior conservatory with king bed', 'deluxe king room with canary wharf view', 'double room 2 adults 1 child', 'superior room with 2 zip beds', 'triple executive room', 'cosy single room', 'standard double room ground floor', 'apartment 1 2 adults', 'easter special executive king room', 'park deluxe room', 'superior double room with private patio', 'deluxe queen room with river view', 'deluxe family room with view', 'junior suite give me the night', 'hoxton studio suite', 'comfort double room with terrace', 'junior suite with private access to pool and spa', 'grand historique suite', 'grand deluxe double or twin room', 'premium superior double room', 'double room with courtyard view', 'deluxe room with view', 'executive room with views of paris queen size bed and double sofa bed 2 adults 2 children', 'classic double room with street view', 'deluxe double room 2 adults 1 child', 'small twin room', 'premium double room with terrace', 'double room radieuse', 'small double room 1 2 adults', 'standard double room disability access', 'deluxe king suite', 'souterrain twin room', 'standard double room with two single beds', 'superior double room with free access to steam bath', 'superior suite 2 adults 2 children', 'superior double or twin room with spa access', 'two adjoining double rooms', 'view king room', 'art deco room balcony', 'one bedroom suite with air conditioning', 'double room with park view', 'privilege double or twin room', 'superior romantic double room', 'regency suite king', 'garden view twins', 'single hilton guestroom', 'grand suite duplex', 'junior double suite', 'double or twin room allergy free', 'junior suite twin 1 2 adults', 'deluxe twin room with view', 'two adjoining rooms with dock view upper deck', 'family room 4 adults', 'family duplex room', 'junior suite with spa bath', 'apartment', 'privilege double or twin room with spa access', 'mezzanine suite', 'junior suite triple', 'family junior suite', 'superior double room 1 adult', 'king suite with sofa bed 4 adults', 'superior room with 1 queen bed 1 sofa bed', 'deluxe twin room with terrace and eiffel tower view', 'kings three bedroom suite', 'executive black suite', 'hilton queen family room', 'executive suite 2 adults 2 children', 'montcalm club double room', 'stanhope suite', 'duplex king suite 2 adults 2 children', 'double queen executive waterfront with access to executive lounge', 'superior queen suite with sofa 3 adults', 'executive family room 2 adults and 2 children', 'premium double or twin room with terrace and spa access', 'deluxe twin or single room', 'luxury king room', 'executive king room non smoking', 'executive double room with spa fitness access', 'classic room with 2 double beds 2 adults', 'smart triple room', 'park deluxe king', 'cosy room', 'business double room ground floor', 'duplex apartment 6 adults', 'standard double or twin room with extra bed', 'family suite 2 adults 2 children', 'double deluxe room with roman bath', 'classic studio', 'club suite with club lounge access', 'double or twin room with panoramic view', 'junior suite with eiffel tower view', 'deluxe room with spa access free wifi', 'special offer twin double room stay and park', 'marquise superior double or twin room', 'stayed 18 nights', 'classic double room 1 adult', 'deluxe double room with patio', 'twin deluxe guest room', 'room with paris view', 'junior suite with view', 'two adjacent double rooms with free pool and hammam access', 'standard room for 1 or 2 people with kitchenette', 'business double room with wifi and breakfast', 'large double room with champs elysees view', 'junior suite lavender', 'luxury one bedroom apartment', 'deluxe room 1 or 2 people', 'classic queen room', 'deluxe room with spa access', 'small single room with balcony', 'executive vend me triple room', 'queen deluxe room', 'deluxe triple room with tea time included', 'superior family room 2 adults 1 child', 'chambers junior suite with club lounge access', 'andaz suite', 'executive twin room with river view', 'x ordinary room', 'king hilton guest room', 'twin room with extra bed 3 adults', 'deluxe room with spa fitness access', 'superior deluxe room with spa bath', 'standard studio', 'superior king suite 3 adults', 'deluxe double room with hammam', 'superior plus room', 'one bedroom executive suite with lounge access', 'one bedroom king suite with garden view', 'superior room with sofa bed 4 adults', 'double room with two double beds', 'executive suite with lounge access', 'special offer standard double or twin room', 'corner suite 2 adults 1 child', 'superior room with 1 double bed', 'deluxe double or twin room with canal view annex building', 'deluxe two bedroom apartment', 'junior suite with twin beds', 'deluxe guest room', 'double room with city view top floor', 'premier twin room with city view', 'executive double or twin room with no view', 'two adjacent rooms 6 persons', 'kings one bedroom suite', 'queen double room', 'suite with eiffel tower view vip welcome', 'superior single room', 'executive double room with whirlpool', 'club single room', 'premier double room with panoramic view and executive lounge access', 'two adjacent rooms 5 adults', 'executive double room with terrace', 'double room with patio view', 'double room l', 'economy double room basement no window', 'superior room with 1 double bed and sofa 3 adults', 'family room with view', 'deluxe one bedroom park suite', 'premier junior suite 1 2 adults', 'business suite', 'two bedroom suite with two bathrooms', 'standard double or twin room tea time wine tasting included', 'deluxe twin room with spa access', 'standard studio suite', 'special offer double room', 'non smoking standard room with 1 double bed', 'junior suite with spa access', 'special offer double twin room stay and park', 'junior double', '2 adjacent non communicating rooms', 'double room with sauna access', 'penthouse suite with balcony', 'superior double room with park view', 'triple room free wi fi', 'deluxe plus double or twin room', 'superior double room with saint germain des pr s church view', 'royal penthouse with canal view', 'executive double room single use', 'executive room with view and lounge access', 'park junior suite', 'queen room with eiffel tower view', 'single room with bath', '3 rooms', 'junior suite with park view', 'superior double room la s duisante', 'superior double or twin room xl with extra bed', 'horizon suite with dock view', 'double room with 2 tickets for a cruise on the seine river', 'basic double room nr', 'studio deluxe suite', 'squint penthouse suite', 'deluxe double room with 1 extra bed', 'family suite 4 adults', 'club level classic rooms', 'superior studio with city view', 'executive deluxe double room with spa access', 'privilege double or twin room courtyard side', 'deluxe room with club lounge access', 'twin deluxe room', 'double room moulin rouge with shower', 'superior room with 1 single bed', 'double room with river view', 'suite 2 adults 1 child', 'deluxe room with whirlpool', 'deluxe twin', 'deluxe triple room with canal view', 'deluxe double room 1 2 adults', 'corner suite', 'standard queen or twin room lower ground floor', 'comfort single room with view', 'superior studio apartment', 'suite breakfast and bottle of champagne included', 'suite room', 'saint honor double suite', 'studio room', 'studio suite with lounge access', 'superior plus double room', 'quintuple room', 'junior suite with executive lounge access', 'deluxe two bedroom suite', 'superior twin room barlow wing', 'ambassador junior suite', 'interconnecting rooms', 'superior suite with 1 double bed and 2 single beds', 'deluxe double room with river view', 'superior queen suite with sofa bed 2 adults', 'royal suite with canal view', 'premium double or twin room with view and terrace', 'superior m double room', 'single room with sauna access', 'paseo de gracia double or twin room', 'deluxe double room with private pool', 'room selected at check in', 'trash city suite', 'two bedroom penthouse apartment', 'design double or twin room', 'one bedroom apartment penthouse', 'park king', 'deluxe park view', 'iconic king room with city view', 'ashburn suite', 'hyatt king room with view', 'modern double room echo', 'suite marignan eiffel', 'superior king or double room', 'junior suite 2 adults 1 child', 'double or twin room with balcony or terrace', 'superior deluxe king or double room', 'classic junior suite', 'executive double room with lounge access', 'small double room with terrace', 'junior suite with bath and shower', 'couple', 'double hilton guest room plus', 'deluxe twin room 2 adults', 'art deco deluxe room view and terrace', 'executive twin room 1 2 adults', 'privilege room with king bed', 'cabaret junior suite', 'studio with spa access', 'superior guest room 1 king or 2 twin single bed s', 'double or twin room select', 'city garden room', 'superior twin room with terrace', 'superior suite with view', 'suite with spa access 2 adults', 'imperial suite', 'executive room selected at check in', 'magistrate king', 'standard double room with city view', 'deluxe king room wheelchair accessible', 'luxury double room small', 'superior twin room with private pool', 'club room', 'standard room with 1 double bed and 1 double sofa bed', 'deluxe double room 1 adult', 'mayfair suite with lounge access', 'executive room with queen size bed and single sofa bed 2 adults 1 child', 'duplex king suite 3 adults', 'club suite', 'king city view room', 'suite parisienne', 'superior suite with 1 double bed and 1 single bed', 'deluxe l double room', 'executive room with queen size bed and single sofa bed 3 adults', 'executive queen room with lounge access', 'junior suite with shower', 'deluxe double room with spa bath', 'superior room with garden view free wifi', 'superior double room with view non smoking', 'executive room with queen size bed and single sofa bed', 'queensgate twin room', 'executive suite free executive lounge access', 'standard double or twin room annex building', 'royal room with ramblas view', 'eiffel tower view king room', 'mosaic double room', 'comfort double or twin room with extra bed', 'director s double room', 'superior king room eiffel tower view', 'vend me deluxe room', 'superior king room', 'economy double room', 'classic master suite', 'executive room with two double beds', 'grand deluxe contemporary room', 'superior double room with terrace and view', 'premium suite', 'standard room with 1 single bed', 'double queen waterfront', 'double room with city view', 'deluxe studio apartment 2 adults', 'privilege super king or twin room', 'signature double room', 'deluxe boulevard twin room', 'suite juliana', 'twin room', 'duplex suite with spa access', 'deluxe twin studio', 'comfort double or twin room', 'deluxe double or twin room with terrace', 'premier room', 'suite with knightsbridge view', 'executive room with queen bed and a sofa non smoking', 'double deluxe suite', 'deluxe double room with city view and spa access', 'executive premium queen room with sofa bed', 'grand deluxe king or twin room', 'executive studio city view family', 'art room xl with iconic view', 'deluxe room henry monnier', 'one bedroom park suite', 'petite double room', 'exception room', 'club king room with lounge access', 'deluxe room with two double beds', 'queen room non smoking', 'standard suite', 'duplex suite with state opera view top floor', 'mini room', 'suite 2 adults 2 children', 'superior classic double room', 'twin room with city view 1 2 adults', 'luxury studio suite', 'quadruple suite', 'twin guestroom', 'park room', 'executive double room with executive lounge access', 'special offer classic room', 'luxury double room medium', 'king deluxe room with canal view', 'superior double room non smoking', 'superior pantheon room', 'deluxe queen room with balcony', 'standard family suite with two connecting rooms', 'four seasons king junior suite', 'double superior room', 'superior king room with lounge access', 'apartment with city view top floor', 'lower ground double room', 'executive twin room with access to the level lounge', 'stayed 31 nights', 'triple room 2 adults 1 child', 'executive king room with panoramic view', 'superior quadruple room', 'superior double room with sofa bed 3 adults', 'junior suite with cathedral view', 'double room with public transport ticket', 'duplex', 'garden room', 'regency executive suite with lounge access', 'junior suite with terrace and city view', 'superior room with spa access', 'classic double or twin room 1 2 adults', 'stayed 16 nights', 'double hilton deluxe room', 'submitted from a mobile device', 'superior queen room with sofa bed', 'king duplex suite', 'superior queen room with sofa bed non smoking', 'superior room with king bed', 'accessible king room with lounge access', 'superior plus twin room', 'premium quadruple room', 'superior double room with roll in shower disability access', 'deluxe junior partial river view', 'twin grand premier with canal view', 'la petite maison', 'parisian junior suite', 'executive junior suite', 'deluxe double or twin room with canal view', 'king executive plus room', 'two connecting rooms 2 adults 2 children', 'suite champs lys es', 'premium room 2 adults', 'deluxe double room swimming pool hammam access upon reservation', 'deluxe twin or double room', 'king room with executive lounge access', 'special offer double room with continental breakfast', 'interconnecting double rooms', 'panoramic room', 'hyde park junior suite with park view', 'deluxe club double room', 'executive suite with river view', 'deluxe balcony room', 'cozy double or twin room', 'cosy family', 'royal suite', 'club eiffel tower king room', 'superior twin room with tea time included', 'superior queen suite with sofa bed 3 adults', 'one bedroom suite', 'suite 4 adults', 'falconers one bedroom suite', 'special offer comfort double room with breakfast and parking included', 'executive double room', 'business double room with 500 frequent flyer miles', 'master bedroom suite', 'emperor suite', 'stayed 5 nights', 'prestige suite 2 adults with canal view', 'superior room 3 persons', 'king hilton guestroom', 'two connecting rooms', 'standard double or twin room', 'one double suite nonsmoking', 'standard double or twin room with balcony 1 adult', 'urban triple room', 'premium room', 'junior king suite 3 adults', 'deluxe double room with terrace', 'club suite with executive lounge access', 'deluxe king room with river view', 'executive room non smoking', 'superior room with queensize bed and single sofa bed 3 adults', 'penthouse suite with terrace and city view', 'corner double room', 'double twin superior room', 'suite 2 adults', 'one bedroom king suite 2 adults', 'king suite', 'junior king suite with pool access', 'privilege room', 'triple room with terrace', 'grand executive club room', 'queen guest room', 'king junior suite with executive lounge access', 'deluxe apartment 4 adults 2 children', 'grand duplex suite', 'superior twin room with airconditioning', 'king suite with sofa bed non smoking', 'king executive waterfront with access to executive lounge', 'superior one bedroom suite with executive lounge access', 'suite terasse eiffel', 'two adjacent superior double rooms', 'king room with eiffel tower view', 'superior oversized queen room', 'privilege double room with terrace', 'classic room with courtyard view', 'superior double or twin room moon blue', 'double queen family suite with access to executive lounge', 'superior double or twin room with extra bed 2 adults 1 child', 'executive double room top floor', 'superior double twin room with free parking', 'principe suite', 'junior triple room', 'deluxe family room 2 adults 2 children', 'executive double room with turkish bath', 'adjacent double rooms', 'classic room with garden view', 'grand junior suite', 'compact double room with private bathroom', 'two bedroom suite with terrace', 'room with dock view main deck', 'business twin room with courtyard view and public transport ticket', 'suite 5 adults', 'king deluxe guest room', 'park queen', 'superior room 2 single beds', 'single room non smoking', 'superior room with queensize bed and double couch 2 adults 2 children', 'single room with shower', 'junior suite with terrace', 'superior room with queensize bed and single sofa bed', 'superior twin room with eiffel tower view', 'autentic double room', 'deluxe suite with city view', 'comfort double room with park view', 'deluxe junior suite with lounge access', '2 connecting double rooms', 'superior room with 1 double bed and 1 single bed', 'club room with club lounge access', 'nhow premium double or twin room', 'deluxe quadruple room', 'superior double room plus l insolente', 'deluxe double room with four poster bed', 'standard room with queensize bed and single sofa bed', 'double or twin room with bath', 'superior double room with terrace and mountain view', 'classic double room loge classique', 'premium deluxe double room with river view', 'two adjacent deluxe rooms', 'presidential suite with view terrace', 'superior double room with courtyard view', 'mandarin junior suite', 'basic single room', 'two bedroom apartment', 'suite with hammam', 'standard room with queen bed renovated', 'special offer sleep park fly', 'executive room with city view', 'two adjoining rooms with dock view main deck', 'superior queen room with extra bed 2 adults', 'deluxe triple room with spa access', 'deluxe double room with spa access', 'duplex king suite', 'junior suite with canal view', 'king hilton plaza room', 'superior twin or double room', 'family room with sofa bed', 'superior premium queen room with sofa bed', 'king suite with sofa bed 3 adults', 'large one bedroom apartment', 'family communicating rooms', 'spring package deluxe double or twin room', 'junior suite tendre ros e', 'double or twin room 1 or 2 adults', 'suite 3 adults', 'superior room with extra bed 3 adults', 'garden twin room', 'suite with extra bed', 'park king or twin', 'king grand premier room', 'classic single room with garden view', 'standard twin room with tea time included', 'deluxe double or twin room with mountain view', 'family room 2 adults 2 children with access to nagomi health', 'special offer superior queen room', 'grand executive room with city view', 'deluxe room 2 adults 1 child', 'deluxe king or twin room', 'superior queen room with sofa', 'deluxe triple room with paris view', 'twin room with park view', 'queensgate double room', 'one bedroom apartment with city view', 'deluxe double room with private patio', 'double or twin room single use', 'cosy double room', '2 double connecting rooms', 'four seasons executive king suite', 'design suite', 'standard double room single use', 'studio king family', 'deluxe double with winter garden view', 'superior room with queen size bed and sofa bed', 'standard family suite with two connecting rooms 4 adults', 'executive twin room with whirlpool', 'special offer deluxe double room', 'king superior plus room', 'executive king or twin room with lounge access and park view'}\n"
     ]
    },
    {
     "data": {
      "text/plain": [
       "2400"
      ]
     },
     "execution_count": 49,
     "metadata": {},
     "output_type": "execute_result"
    }
   ],
   "source": [
    "\n",
    "# global variable\n",
    "tag_sum_list = []\n",
    "\n",
    "def get_tag_sum_elems(tag_sum_string):\n",
    "    global tag_sum_list # use the global variable\n",
    "    # extend the global variable with this_list\n",
    "    tag_sum_list.extend(tag_sum_string)\n",
    "    return True\n",
    "\n",
    "for i in hoteltags_geo['new_tags']:\n",
    "    get_tag_sum_elems(i)\n",
    "\n",
    "tag_sum_set = set(tag_sum_list)\n",
    "print(tag_sum_set)\n",
    "len(tag_sum_set)"
   ]
  },
  {
   "cell_type": "code",
   "execution_count": 50,
   "metadata": {},
   "outputs": [
    {
     "data": {
      "text/plain": [
       "0       None\n",
       "1       None\n",
       "2       None\n",
       "3       None\n",
       "4       None\n",
       "        ... \n",
       "1469    None\n",
       "1470    None\n",
       "1471    None\n",
       "1472    None\n",
       "1473    None\n",
       "Name: new_tags, Length: 1474, dtype: object"
      ]
     },
     "execution_count": 50,
     "metadata": {},
     "output_type": "execute_result"
    }
   ],
   "source": [
    "# removing 'submitted from a mobile device' since this attribute has contributing factor to our investigation\n",
    "hoteltags_geo['new_tags'].apply(lambda x: x.remove('submitted from a mobile device'))"
   ]
  },
  {
   "cell_type": "code",
   "execution_count": 51,
   "metadata": {},
   "outputs": [],
   "source": [
    "#function to output the list of hotel with the respective attribute\n",
    "def get_special(s):\n",
    "    spike_cols = [col for col in tag_sum_set if s in col]\n",
    "    hotel_list = set()\n",
    "    for i in range(0, len(hoteltags_geo.tags)):\n",
    "        for j in range(0,len(spike_cols)):\n",
    "            if spike_cols[j] in hoteltags_geo.new_tags[i]:\n",
    "                hotel_list.add(hoteltags_geo[hoteltags_geo.index==i]['hotel_name'][i])\n",
    "                \n",
    "    return hoteltags_geo[hoteltags_geo.hotel_name.isin(list(hotel_list))][['hotel_name','lat_x','lng_x','city']]\n"
   ]
  },
  {
   "cell_type": "code",
   "execution_count": 52,
   "metadata": {},
   "outputs": [],
   "source": [
    "#plotting function to map out the location\n",
    "def get_map(df,imagepath):\n",
    "    if df.shape[0]<15:\n",
    "            map2 = folium.Map(location=[df.iloc[0].lat_x,df.iloc[0].lng_x], zoom_start=12)\n",
    "    elif df.shape[0]>15:\n",
    "        map2 = folium.Map(location=[df.iloc[0].lat_x,df.iloc[0].lng_x], zoom_start=2)\n",
    "\n",
    "    #generate folium\n",
    "    map2 = folium.Map(location=[df.iloc[0].lat_x,df.iloc[0].lng_x], zoom_start=12)\n",
    "    folium.raster_layers.TileLayer('Open Street Map').add_to(map2)\n",
    "    for i in range(0,len(df)):\n",
    "        folium.Marker(\n",
    "        location=[df.iloc[i].lat_x,df.iloc[i].lng_x],\n",
    "            tooltip=df.iloc[i].hotel_name,\n",
    "        icon=folium.Icon(icon_color='white')\n",
    "    ).add_to(map2)\n",
    "    map2.save(imagepath)\n",
    "    return map2\n"
   ]
  },
  {
   "cell_type": "markdown",
   "metadata": {},
   "source": [
    "In the following section, I will be refactoring the attributes. \n",
    "1. I will be collating the attributes into a array. \n",
    "2. Introduce relabelled attribute to indicate its presence in each hotel. \n",
    "3. Remove the grouped attributes and we will achieve the refactored attributes."
   ]
  },
  {
   "cell_type": "code",
   "execution_count": 53,
   "metadata": {},
   "outputs": [],
   "source": [
    "grp_col=['single room','river view','private pool','breakfast','spa bath','twin room','double room'\n",
    "       ,'superior room','king room','executive room','city view','sea view','stayed '\n",
    "       ,'eiffel twin','eiffel tower view','suite','triple room','penthouse','standard room','wheelchair accessible',\n",
    "      'family room ','deluxe room','apartment','terrace']\n",
    "newarray=[]\n",
    "\n",
    "for i in grp_col:\n",
    "    newarray.extend([col for col in tag_sum_set if i in col])"
   ]
  },
  {
   "cell_type": "code",
   "execution_count": 54,
   "metadata": {},
   "outputs": [],
   "source": [
    "grp_col=['single room','river view','private pool','breakfast','spa bath','twin room','double room'\n",
    "       ,'superior room','king room','executive room','city view','sea view','stayed '\n",
    "       ,'eiffel twin','eiffel tower view','suite','triple room','penthouse','standard room','wheelchair accessible',\n",
    "      'family room ','deluxe room','guest room','apartment','terrace']"
   ]
  },
  {
   "cell_type": "code",
   "execution_count": 55,
   "metadata": {},
   "outputs": [],
   "source": [
    "#function to refactor the attributes\n",
    "def new_fn(a,b):\n",
    "    efv= list(get_special(a).index)\n",
    "    for i in efv:\n",
    "        hoteltags_geo.iloc[i].new_tags.add(b)"
   ]
  },
  {
   "cell_type": "code",
   "execution_count": 56,
   "metadata": {},
   "outputs": [
    {
     "data": {
      "text/plain": [
       "{'2 rooms',\n",
       " '4 rooms',\n",
       " 'business trip',\n",
       " 'classic double room',\n",
       " 'classic single room',\n",
       " 'classic twin room',\n",
       " 'comfort double room',\n",
       " 'couple',\n",
       " 'deluxe double room with eiffel tower view',\n",
       " 'deluxe eiffel twin',\n",
       " 'deluxe twin room with eiffel tower view',\n",
       " 'family with older children',\n",
       " 'family with young children',\n",
       " 'group',\n",
       " 'leisure trip',\n",
       " 'solo traveler',\n",
       " 'stayed 1 night',\n",
       " 'stayed 2 nights',\n",
       " 'stayed 3 nights',\n",
       " 'stayed 4 nights',\n",
       " 'stayed 5 nights',\n",
       " 'stayed 6 nights',\n",
       " 'suite',\n",
       " 'suite with eiffel tower view',\n",
       " 'superior double room',\n",
       " 'travelers with friends'}"
      ]
     },
     "execution_count": 56,
     "metadata": {},
     "output_type": "execute_result"
    }
   ],
   "source": [
    "hoteltags_geo.iloc[323].new_tags"
   ]
  },
  {
   "cell_type": "code",
   "execution_count": 57,
   "metadata": {},
   "outputs": [],
   "source": [
    "# to group/refactor hotel attributes to new attributes\n",
    "new_fn(\"single room\",\"single_room\")\n",
    "new_fn(\"river view\",\"river_view\")\n",
    "new_fn(\"private pool\",\"private_pool\")\n",
    "new_fn(\"breakfast\",\"break_fast\")\n",
    "new_fn(\"spa bath\",\"spa_bath\")\n",
    "new_fn(\"twin room\",\"twin_room\")\n",
    "new_fn(\"double room\",\"double_room\")\n",
    "new_fn(\"superior room\",\"superior_room\")\n",
    "new_fn(\"king room\",\"king_room\")\n",
    "new_fn(\"executive room\",\"executive_room\")\n",
    "new_fn(\"city view\",\"city_view\")\n",
    "new_fn(\"sea view\",\"sea_view\")\n",
    "new_fn(\"eiffel tower view\",\"eiffel_tower_view\")\n",
    "new_fn(\"suite\",'_suite_')\n",
    "new_fn(\"triple room\",'triple_room')\n",
    "new_fn(\"penthouse\",'_penthouse_')\n",
    "new_fn(\"standard room\",'standard_room')\n",
    "new_fn(\"wheelchair accessible\",'wheelchair_accessible')\n",
    "new_fn(\"family room \",'family_room')\n",
    "new_fn(\"deluxe room\",'deluxe_room')\n",
    "new_fn(\"guest room\",'guest_room')\n",
    "new_fn(\"apartment\",'_apartment_')\n",
    "new_fn(\"terrace\",'_terrace')\n"
   ]
  },
  {
   "cell_type": "code",
   "execution_count": 58,
   "metadata": {},
   "outputs": [],
   "source": [
    "# to remove attributes which are not used after replacing with generic attribute\n",
    "for i in range(0, len(hoteltags_geo.new_tags)):\n",
    "    for j in range(0,len(newarray)):\n",
    "        if newarray[j] in hoteltags_geo.new_tags[i]:\n",
    "            hoteltags_geo.new_tags[i].remove(newarray[j])"
   ]
  },
  {
   "cell_type": "code",
   "execution_count": 59,
   "metadata": {},
   "outputs": [
    {
     "data": {
      "text/plain": [
       "514"
      ]
     },
     "execution_count": 59,
     "metadata": {},
     "output_type": "execute_result"
    }
   ],
   "source": [
    "# global variable\n",
    "tag_sum_list = []\n",
    "\n",
    "def get_tag_sum_elems(tag_sum_string):\n",
    "    global tag_sum_list # use the global variable\n",
    "    # extend the global variable with this_list\n",
    "    tag_sum_list.extend(tag_sum_string)\n",
    "    return True\n",
    "\n",
    "for i in hoteltags_geo['new_tags']:\n",
    "    get_tag_sum_elems(i)\n",
    "\n",
    "tag_sum_set = set(tag_sum_list)\n",
    "len(tag_sum_set)"
   ]
  },
  {
   "cell_type": "code",
   "execution_count": 60,
   "metadata": {},
   "outputs": [
    {
     "name": "stderr",
     "output_type": "stream",
     "text": [
      "/var/folders/s8/zqdvt79d34nd7fs16cr64b7r0000gn/T/ipykernel_98289/2576507773.py:2: PerformanceWarning:\n",
      "\n",
      "DataFrame is highly fragmented.  This is usually the result of calling `frame.insert` many times, which has poor performance.  Consider joining all columns at once using pd.concat(axis=1) instead. To get a de-fragmented frame, use `newframe = frame.copy()`\n",
      "\n",
      "/var/folders/s8/zqdvt79d34nd7fs16cr64b7r0000gn/T/ipykernel_98289/2576507773.py:2: PerformanceWarning:\n",
      "\n",
      "DataFrame is highly fragmented.  This is usually the result of calling `frame.insert` many times, which has poor performance.  Consider joining all columns at once using pd.concat(axis=1) instead. To get a de-fragmented frame, use `newframe = frame.copy()`\n",
      "\n",
      "/var/folders/s8/zqdvt79d34nd7fs16cr64b7r0000gn/T/ipykernel_98289/2576507773.py:2: PerformanceWarning:\n",
      "\n",
      "DataFrame is highly fragmented.  This is usually the result of calling `frame.insert` many times, which has poor performance.  Consider joining all columns at once using pd.concat(axis=1) instead. To get a de-fragmented frame, use `newframe = frame.copy()`\n",
      "\n",
      "/var/folders/s8/zqdvt79d34nd7fs16cr64b7r0000gn/T/ipykernel_98289/2576507773.py:2: PerformanceWarning:\n",
      "\n",
      "DataFrame is highly fragmented.  This is usually the result of calling `frame.insert` many times, which has poor performance.  Consider joining all columns at once using pd.concat(axis=1) instead. To get a de-fragmented frame, use `newframe = frame.copy()`\n",
      "\n",
      "/var/folders/s8/zqdvt79d34nd7fs16cr64b7r0000gn/T/ipykernel_98289/2576507773.py:2: PerformanceWarning:\n",
      "\n",
      "DataFrame is highly fragmented.  This is usually the result of calling `frame.insert` many times, which has poor performance.  Consider joining all columns at once using pd.concat(axis=1) instead. To get a de-fragmented frame, use `newframe = frame.copy()`\n",
      "\n",
      "/var/folders/s8/zqdvt79d34nd7fs16cr64b7r0000gn/T/ipykernel_98289/2576507773.py:2: PerformanceWarning:\n",
      "\n",
      "DataFrame is highly fragmented.  This is usually the result of calling `frame.insert` many times, which has poor performance.  Consider joining all columns at once using pd.concat(axis=1) instead. To get a de-fragmented frame, use `newframe = frame.copy()`\n",
      "\n",
      "/var/folders/s8/zqdvt79d34nd7fs16cr64b7r0000gn/T/ipykernel_98289/2576507773.py:2: PerformanceWarning:\n",
      "\n",
      "DataFrame is highly fragmented.  This is usually the result of calling `frame.insert` many times, which has poor performance.  Consider joining all columns at once using pd.concat(axis=1) instead. To get a de-fragmented frame, use `newframe = frame.copy()`\n",
      "\n",
      "/var/folders/s8/zqdvt79d34nd7fs16cr64b7r0000gn/T/ipykernel_98289/2576507773.py:2: PerformanceWarning:\n",
      "\n",
      "DataFrame is highly fragmented.  This is usually the result of calling `frame.insert` many times, which has poor performance.  Consider joining all columns at once using pd.concat(axis=1) instead. To get a de-fragmented frame, use `newframe = frame.copy()`\n",
      "\n",
      "/var/folders/s8/zqdvt79d34nd7fs16cr64b7r0000gn/T/ipykernel_98289/2576507773.py:2: PerformanceWarning:\n",
      "\n",
      "DataFrame is highly fragmented.  This is usually the result of calling `frame.insert` many times, which has poor performance.  Consider joining all columns at once using pd.concat(axis=1) instead. To get a de-fragmented frame, use `newframe = frame.copy()`\n",
      "\n",
      "/var/folders/s8/zqdvt79d34nd7fs16cr64b7r0000gn/T/ipykernel_98289/2576507773.py:2: PerformanceWarning:\n",
      "\n",
      "DataFrame is highly fragmented.  This is usually the result of calling `frame.insert` many times, which has poor performance.  Consider joining all columns at once using pd.concat(axis=1) instead. To get a de-fragmented frame, use `newframe = frame.copy()`\n",
      "\n",
      "/var/folders/s8/zqdvt79d34nd7fs16cr64b7r0000gn/T/ipykernel_98289/2576507773.py:2: PerformanceWarning:\n",
      "\n",
      "DataFrame is highly fragmented.  This is usually the result of calling `frame.insert` many times, which has poor performance.  Consider joining all columns at once using pd.concat(axis=1) instead. To get a de-fragmented frame, use `newframe = frame.copy()`\n",
      "\n",
      "/var/folders/s8/zqdvt79d34nd7fs16cr64b7r0000gn/T/ipykernel_98289/2576507773.py:2: PerformanceWarning:\n",
      "\n",
      "DataFrame is highly fragmented.  This is usually the result of calling `frame.insert` many times, which has poor performance.  Consider joining all columns at once using pd.concat(axis=1) instead. To get a de-fragmented frame, use `newframe = frame.copy()`\n",
      "\n",
      "/var/folders/s8/zqdvt79d34nd7fs16cr64b7r0000gn/T/ipykernel_98289/2576507773.py:2: PerformanceWarning:\n",
      "\n",
      "DataFrame is highly fragmented.  This is usually the result of calling `frame.insert` many times, which has poor performance.  Consider joining all columns at once using pd.concat(axis=1) instead. To get a de-fragmented frame, use `newframe = frame.copy()`\n",
      "\n",
      "/var/folders/s8/zqdvt79d34nd7fs16cr64b7r0000gn/T/ipykernel_98289/2576507773.py:2: PerformanceWarning:\n",
      "\n",
      "DataFrame is highly fragmented.  This is usually the result of calling `frame.insert` many times, which has poor performance.  Consider joining all columns at once using pd.concat(axis=1) instead. To get a de-fragmented frame, use `newframe = frame.copy()`\n",
      "\n",
      "/var/folders/s8/zqdvt79d34nd7fs16cr64b7r0000gn/T/ipykernel_98289/2576507773.py:2: PerformanceWarning:\n",
      "\n",
      "DataFrame is highly fragmented.  This is usually the result of calling `frame.insert` many times, which has poor performance.  Consider joining all columns at once using pd.concat(axis=1) instead. To get a de-fragmented frame, use `newframe = frame.copy()`\n",
      "\n",
      "/var/folders/s8/zqdvt79d34nd7fs16cr64b7r0000gn/T/ipykernel_98289/2576507773.py:2: PerformanceWarning:\n",
      "\n",
      "DataFrame is highly fragmented.  This is usually the result of calling `frame.insert` many times, which has poor performance.  Consider joining all columns at once using pd.concat(axis=1) instead. To get a de-fragmented frame, use `newframe = frame.copy()`\n",
      "\n",
      "/var/folders/s8/zqdvt79d34nd7fs16cr64b7r0000gn/T/ipykernel_98289/2576507773.py:2: PerformanceWarning:\n",
      "\n",
      "DataFrame is highly fragmented.  This is usually the result of calling `frame.insert` many times, which has poor performance.  Consider joining all columns at once using pd.concat(axis=1) instead. To get a de-fragmented frame, use `newframe = frame.copy()`\n",
      "\n",
      "/var/folders/s8/zqdvt79d34nd7fs16cr64b7r0000gn/T/ipykernel_98289/2576507773.py:2: PerformanceWarning:\n",
      "\n",
      "DataFrame is highly fragmented.  This is usually the result of calling `frame.insert` many times, which has poor performance.  Consider joining all columns at once using pd.concat(axis=1) instead. To get a de-fragmented frame, use `newframe = frame.copy()`\n",
      "\n",
      "/var/folders/s8/zqdvt79d34nd7fs16cr64b7r0000gn/T/ipykernel_98289/2576507773.py:2: PerformanceWarning:\n",
      "\n",
      "DataFrame is highly fragmented.  This is usually the result of calling `frame.insert` many times, which has poor performance.  Consider joining all columns at once using pd.concat(axis=1) instead. To get a de-fragmented frame, use `newframe = frame.copy()`\n",
      "\n",
      "/var/folders/s8/zqdvt79d34nd7fs16cr64b7r0000gn/T/ipykernel_98289/2576507773.py:2: PerformanceWarning:\n",
      "\n",
      "DataFrame is highly fragmented.  This is usually the result of calling `frame.insert` many times, which has poor performance.  Consider joining all columns at once using pd.concat(axis=1) instead. To get a de-fragmented frame, use `newframe = frame.copy()`\n",
      "\n",
      "/var/folders/s8/zqdvt79d34nd7fs16cr64b7r0000gn/T/ipykernel_98289/2576507773.py:2: PerformanceWarning:\n",
      "\n",
      "DataFrame is highly fragmented.  This is usually the result of calling `frame.insert` many times, which has poor performance.  Consider joining all columns at once using pd.concat(axis=1) instead. To get a de-fragmented frame, use `newframe = frame.copy()`\n",
      "\n",
      "/var/folders/s8/zqdvt79d34nd7fs16cr64b7r0000gn/T/ipykernel_98289/2576507773.py:2: PerformanceWarning:\n",
      "\n",
      "DataFrame is highly fragmented.  This is usually the result of calling `frame.insert` many times, which has poor performance.  Consider joining all columns at once using pd.concat(axis=1) instead. To get a de-fragmented frame, use `newframe = frame.copy()`\n",
      "\n",
      "/var/folders/s8/zqdvt79d34nd7fs16cr64b7r0000gn/T/ipykernel_98289/2576507773.py:2: PerformanceWarning:\n",
      "\n",
      "DataFrame is highly fragmented.  This is usually the result of calling `frame.insert` many times, which has poor performance.  Consider joining all columns at once using pd.concat(axis=1) instead. To get a de-fragmented frame, use `newframe = frame.copy()`\n",
      "\n",
      "/var/folders/s8/zqdvt79d34nd7fs16cr64b7r0000gn/T/ipykernel_98289/2576507773.py:2: PerformanceWarning:\n",
      "\n",
      "DataFrame is highly fragmented.  This is usually the result of calling `frame.insert` many times, which has poor performance.  Consider joining all columns at once using pd.concat(axis=1) instead. To get a de-fragmented frame, use `newframe = frame.copy()`\n",
      "\n",
      "/var/folders/s8/zqdvt79d34nd7fs16cr64b7r0000gn/T/ipykernel_98289/2576507773.py:2: PerformanceWarning:\n",
      "\n",
      "DataFrame is highly fragmented.  This is usually the result of calling `frame.insert` many times, which has poor performance.  Consider joining all columns at once using pd.concat(axis=1) instead. To get a de-fragmented frame, use `newframe = frame.copy()`\n",
      "\n",
      "/var/folders/s8/zqdvt79d34nd7fs16cr64b7r0000gn/T/ipykernel_98289/2576507773.py:2: PerformanceWarning:\n",
      "\n",
      "DataFrame is highly fragmented.  This is usually the result of calling `frame.insert` many times, which has poor performance.  Consider joining all columns at once using pd.concat(axis=1) instead. To get a de-fragmented frame, use `newframe = frame.copy()`\n",
      "\n",
      "/var/folders/s8/zqdvt79d34nd7fs16cr64b7r0000gn/T/ipykernel_98289/2576507773.py:2: PerformanceWarning:\n",
      "\n",
      "DataFrame is highly fragmented.  This is usually the result of calling `frame.insert` many times, which has poor performance.  Consider joining all columns at once using pd.concat(axis=1) instead. To get a de-fragmented frame, use `newframe = frame.copy()`\n",
      "\n",
      "/var/folders/s8/zqdvt79d34nd7fs16cr64b7r0000gn/T/ipykernel_98289/2576507773.py:2: PerformanceWarning:\n",
      "\n",
      "DataFrame is highly fragmented.  This is usually the result of calling `frame.insert` many times, which has poor performance.  Consider joining all columns at once using pd.concat(axis=1) instead. To get a de-fragmented frame, use `newframe = frame.copy()`\n",
      "\n",
      "/var/folders/s8/zqdvt79d34nd7fs16cr64b7r0000gn/T/ipykernel_98289/2576507773.py:2: PerformanceWarning:\n",
      "\n",
      "DataFrame is highly fragmented.  This is usually the result of calling `frame.insert` many times, which has poor performance.  Consider joining all columns at once using pd.concat(axis=1) instead. To get a de-fragmented frame, use `newframe = frame.copy()`\n",
      "\n",
      "/var/folders/s8/zqdvt79d34nd7fs16cr64b7r0000gn/T/ipykernel_98289/2576507773.py:2: PerformanceWarning:\n",
      "\n",
      "DataFrame is highly fragmented.  This is usually the result of calling `frame.insert` many times, which has poor performance.  Consider joining all columns at once using pd.concat(axis=1) instead. To get a de-fragmented frame, use `newframe = frame.copy()`\n",
      "\n",
      "/var/folders/s8/zqdvt79d34nd7fs16cr64b7r0000gn/T/ipykernel_98289/2576507773.py:2: PerformanceWarning:\n",
      "\n",
      "DataFrame is highly fragmented.  This is usually the result of calling `frame.insert` many times, which has poor performance.  Consider joining all columns at once using pd.concat(axis=1) instead. To get a de-fragmented frame, use `newframe = frame.copy()`\n",
      "\n",
      "/var/folders/s8/zqdvt79d34nd7fs16cr64b7r0000gn/T/ipykernel_98289/2576507773.py:2: PerformanceWarning:\n",
      "\n",
      "DataFrame is highly fragmented.  This is usually the result of calling `frame.insert` many times, which has poor performance.  Consider joining all columns at once using pd.concat(axis=1) instead. To get a de-fragmented frame, use `newframe = frame.copy()`\n",
      "\n",
      "/var/folders/s8/zqdvt79d34nd7fs16cr64b7r0000gn/T/ipykernel_98289/2576507773.py:2: PerformanceWarning:\n",
      "\n",
      "DataFrame is highly fragmented.  This is usually the result of calling `frame.insert` many times, which has poor performance.  Consider joining all columns at once using pd.concat(axis=1) instead. To get a de-fragmented frame, use `newframe = frame.copy()`\n",
      "\n",
      "/var/folders/s8/zqdvt79d34nd7fs16cr64b7r0000gn/T/ipykernel_98289/2576507773.py:2: PerformanceWarning:\n",
      "\n",
      "DataFrame is highly fragmented.  This is usually the result of calling `frame.insert` many times, which has poor performance.  Consider joining all columns at once using pd.concat(axis=1) instead. To get a de-fragmented frame, use `newframe = frame.copy()`\n",
      "\n",
      "/var/folders/s8/zqdvt79d34nd7fs16cr64b7r0000gn/T/ipykernel_98289/2576507773.py:2: PerformanceWarning:\n",
      "\n",
      "DataFrame is highly fragmented.  This is usually the result of calling `frame.insert` many times, which has poor performance.  Consider joining all columns at once using pd.concat(axis=1) instead. To get a de-fragmented frame, use `newframe = frame.copy()`\n",
      "\n",
      "/var/folders/s8/zqdvt79d34nd7fs16cr64b7r0000gn/T/ipykernel_98289/2576507773.py:2: PerformanceWarning:\n",
      "\n",
      "DataFrame is highly fragmented.  This is usually the result of calling `frame.insert` many times, which has poor performance.  Consider joining all columns at once using pd.concat(axis=1) instead. To get a de-fragmented frame, use `newframe = frame.copy()`\n",
      "\n",
      "/var/folders/s8/zqdvt79d34nd7fs16cr64b7r0000gn/T/ipykernel_98289/2576507773.py:2: PerformanceWarning:\n",
      "\n",
      "DataFrame is highly fragmented.  This is usually the result of calling `frame.insert` many times, which has poor performance.  Consider joining all columns at once using pd.concat(axis=1) instead. To get a de-fragmented frame, use `newframe = frame.copy()`\n",
      "\n",
      "/var/folders/s8/zqdvt79d34nd7fs16cr64b7r0000gn/T/ipykernel_98289/2576507773.py:2: PerformanceWarning:\n",
      "\n",
      "DataFrame is highly fragmented.  This is usually the result of calling `frame.insert` many times, which has poor performance.  Consider joining all columns at once using pd.concat(axis=1) instead. To get a de-fragmented frame, use `newframe = frame.copy()`\n",
      "\n",
      "/var/folders/s8/zqdvt79d34nd7fs16cr64b7r0000gn/T/ipykernel_98289/2576507773.py:2: PerformanceWarning:\n",
      "\n",
      "DataFrame is highly fragmented.  This is usually the result of calling `frame.insert` many times, which has poor performance.  Consider joining all columns at once using pd.concat(axis=1) instead. To get a de-fragmented frame, use `newframe = frame.copy()`\n",
      "\n",
      "/var/folders/s8/zqdvt79d34nd7fs16cr64b7r0000gn/T/ipykernel_98289/2576507773.py:2: PerformanceWarning:\n",
      "\n",
      "DataFrame is highly fragmented.  This is usually the result of calling `frame.insert` many times, which has poor performance.  Consider joining all columns at once using pd.concat(axis=1) instead. To get a de-fragmented frame, use `newframe = frame.copy()`\n",
      "\n",
      "/var/folders/s8/zqdvt79d34nd7fs16cr64b7r0000gn/T/ipykernel_98289/2576507773.py:2: PerformanceWarning:\n",
      "\n",
      "DataFrame is highly fragmented.  This is usually the result of calling `frame.insert` many times, which has poor performance.  Consider joining all columns at once using pd.concat(axis=1) instead. To get a de-fragmented frame, use `newframe = frame.copy()`\n",
      "\n",
      "/var/folders/s8/zqdvt79d34nd7fs16cr64b7r0000gn/T/ipykernel_98289/2576507773.py:2: PerformanceWarning:\n",
      "\n",
      "DataFrame is highly fragmented.  This is usually the result of calling `frame.insert` many times, which has poor performance.  Consider joining all columns at once using pd.concat(axis=1) instead. To get a de-fragmented frame, use `newframe = frame.copy()`\n",
      "\n",
      "/var/folders/s8/zqdvt79d34nd7fs16cr64b7r0000gn/T/ipykernel_98289/2576507773.py:2: PerformanceWarning:\n",
      "\n",
      "DataFrame is highly fragmented.  This is usually the result of calling `frame.insert` many times, which has poor performance.  Consider joining all columns at once using pd.concat(axis=1) instead. To get a de-fragmented frame, use `newframe = frame.copy()`\n",
      "\n",
      "/var/folders/s8/zqdvt79d34nd7fs16cr64b7r0000gn/T/ipykernel_98289/2576507773.py:2: PerformanceWarning:\n",
      "\n",
      "DataFrame is highly fragmented.  This is usually the result of calling `frame.insert` many times, which has poor performance.  Consider joining all columns at once using pd.concat(axis=1) instead. To get a de-fragmented frame, use `newframe = frame.copy()`\n",
      "\n",
      "/var/folders/s8/zqdvt79d34nd7fs16cr64b7r0000gn/T/ipykernel_98289/2576507773.py:2: PerformanceWarning:\n",
      "\n",
      "DataFrame is highly fragmented.  This is usually the result of calling `frame.insert` many times, which has poor performance.  Consider joining all columns at once using pd.concat(axis=1) instead. To get a de-fragmented frame, use `newframe = frame.copy()`\n",
      "\n",
      "/var/folders/s8/zqdvt79d34nd7fs16cr64b7r0000gn/T/ipykernel_98289/2576507773.py:2: PerformanceWarning:\n",
      "\n",
      "DataFrame is highly fragmented.  This is usually the result of calling `frame.insert` many times, which has poor performance.  Consider joining all columns at once using pd.concat(axis=1) instead. To get a de-fragmented frame, use `newframe = frame.copy()`\n",
      "\n",
      "/var/folders/s8/zqdvt79d34nd7fs16cr64b7r0000gn/T/ipykernel_98289/2576507773.py:2: PerformanceWarning:\n",
      "\n",
      "DataFrame is highly fragmented.  This is usually the result of calling `frame.insert` many times, which has poor performance.  Consider joining all columns at once using pd.concat(axis=1) instead. To get a de-fragmented frame, use `newframe = frame.copy()`\n",
      "\n",
      "/var/folders/s8/zqdvt79d34nd7fs16cr64b7r0000gn/T/ipykernel_98289/2576507773.py:2: PerformanceWarning:\n",
      "\n",
      "DataFrame is highly fragmented.  This is usually the result of calling `frame.insert` many times, which has poor performance.  Consider joining all columns at once using pd.concat(axis=1) instead. To get a de-fragmented frame, use `newframe = frame.copy()`\n",
      "\n",
      "/var/folders/s8/zqdvt79d34nd7fs16cr64b7r0000gn/T/ipykernel_98289/2576507773.py:2: PerformanceWarning:\n",
      "\n",
      "DataFrame is highly fragmented.  This is usually the result of calling `frame.insert` many times, which has poor performance.  Consider joining all columns at once using pd.concat(axis=1) instead. To get a de-fragmented frame, use `newframe = frame.copy()`\n",
      "\n",
      "/var/folders/s8/zqdvt79d34nd7fs16cr64b7r0000gn/T/ipykernel_98289/2576507773.py:2: PerformanceWarning:\n",
      "\n",
      "DataFrame is highly fragmented.  This is usually the result of calling `frame.insert` many times, which has poor performance.  Consider joining all columns at once using pd.concat(axis=1) instead. To get a de-fragmented frame, use `newframe = frame.copy()`\n",
      "\n",
      "/var/folders/s8/zqdvt79d34nd7fs16cr64b7r0000gn/T/ipykernel_98289/2576507773.py:2: PerformanceWarning:\n",
      "\n",
      "DataFrame is highly fragmented.  This is usually the result of calling `frame.insert` many times, which has poor performance.  Consider joining all columns at once using pd.concat(axis=1) instead. To get a de-fragmented frame, use `newframe = frame.copy()`\n",
      "\n",
      "/var/folders/s8/zqdvt79d34nd7fs16cr64b7r0000gn/T/ipykernel_98289/2576507773.py:2: PerformanceWarning:\n",
      "\n",
      "DataFrame is highly fragmented.  This is usually the result of calling `frame.insert` many times, which has poor performance.  Consider joining all columns at once using pd.concat(axis=1) instead. To get a de-fragmented frame, use `newframe = frame.copy()`\n",
      "\n",
      "/var/folders/s8/zqdvt79d34nd7fs16cr64b7r0000gn/T/ipykernel_98289/2576507773.py:2: PerformanceWarning:\n",
      "\n",
      "DataFrame is highly fragmented.  This is usually the result of calling `frame.insert` many times, which has poor performance.  Consider joining all columns at once using pd.concat(axis=1) instead. To get a de-fragmented frame, use `newframe = frame.copy()`\n",
      "\n",
      "/var/folders/s8/zqdvt79d34nd7fs16cr64b7r0000gn/T/ipykernel_98289/2576507773.py:2: PerformanceWarning:\n",
      "\n",
      "DataFrame is highly fragmented.  This is usually the result of calling `frame.insert` many times, which has poor performance.  Consider joining all columns at once using pd.concat(axis=1) instead. To get a de-fragmented frame, use `newframe = frame.copy()`\n",
      "\n",
      "/var/folders/s8/zqdvt79d34nd7fs16cr64b7r0000gn/T/ipykernel_98289/2576507773.py:2: PerformanceWarning:\n",
      "\n",
      "DataFrame is highly fragmented.  This is usually the result of calling `frame.insert` many times, which has poor performance.  Consider joining all columns at once using pd.concat(axis=1) instead. To get a de-fragmented frame, use `newframe = frame.copy()`\n",
      "\n",
      "/var/folders/s8/zqdvt79d34nd7fs16cr64b7r0000gn/T/ipykernel_98289/2576507773.py:2: PerformanceWarning:\n",
      "\n",
      "DataFrame is highly fragmented.  This is usually the result of calling `frame.insert` many times, which has poor performance.  Consider joining all columns at once using pd.concat(axis=1) instead. To get a de-fragmented frame, use `newframe = frame.copy()`\n",
      "\n",
      "/var/folders/s8/zqdvt79d34nd7fs16cr64b7r0000gn/T/ipykernel_98289/2576507773.py:2: PerformanceWarning:\n",
      "\n",
      "DataFrame is highly fragmented.  This is usually the result of calling `frame.insert` many times, which has poor performance.  Consider joining all columns at once using pd.concat(axis=1) instead. To get a de-fragmented frame, use `newframe = frame.copy()`\n",
      "\n",
      "/var/folders/s8/zqdvt79d34nd7fs16cr64b7r0000gn/T/ipykernel_98289/2576507773.py:2: PerformanceWarning:\n",
      "\n",
      "DataFrame is highly fragmented.  This is usually the result of calling `frame.insert` many times, which has poor performance.  Consider joining all columns at once using pd.concat(axis=1) instead. To get a de-fragmented frame, use `newframe = frame.copy()`\n",
      "\n",
      "/var/folders/s8/zqdvt79d34nd7fs16cr64b7r0000gn/T/ipykernel_98289/2576507773.py:2: PerformanceWarning:\n",
      "\n",
      "DataFrame is highly fragmented.  This is usually the result of calling `frame.insert` many times, which has poor performance.  Consider joining all columns at once using pd.concat(axis=1) instead. To get a de-fragmented frame, use `newframe = frame.copy()`\n",
      "\n",
      "/var/folders/s8/zqdvt79d34nd7fs16cr64b7r0000gn/T/ipykernel_98289/2576507773.py:2: PerformanceWarning:\n",
      "\n",
      "DataFrame is highly fragmented.  This is usually the result of calling `frame.insert` many times, which has poor performance.  Consider joining all columns at once using pd.concat(axis=1) instead. To get a de-fragmented frame, use `newframe = frame.copy()`\n",
      "\n",
      "/var/folders/s8/zqdvt79d34nd7fs16cr64b7r0000gn/T/ipykernel_98289/2576507773.py:2: PerformanceWarning:\n",
      "\n",
      "DataFrame is highly fragmented.  This is usually the result of calling `frame.insert` many times, which has poor performance.  Consider joining all columns at once using pd.concat(axis=1) instead. To get a de-fragmented frame, use `newframe = frame.copy()`\n",
      "\n",
      "/var/folders/s8/zqdvt79d34nd7fs16cr64b7r0000gn/T/ipykernel_98289/2576507773.py:2: PerformanceWarning:\n",
      "\n",
      "DataFrame is highly fragmented.  This is usually the result of calling `frame.insert` many times, which has poor performance.  Consider joining all columns at once using pd.concat(axis=1) instead. To get a de-fragmented frame, use `newframe = frame.copy()`\n",
      "\n",
      "/var/folders/s8/zqdvt79d34nd7fs16cr64b7r0000gn/T/ipykernel_98289/2576507773.py:2: PerformanceWarning:\n",
      "\n",
      "DataFrame is highly fragmented.  This is usually the result of calling `frame.insert` many times, which has poor performance.  Consider joining all columns at once using pd.concat(axis=1) instead. To get a de-fragmented frame, use `newframe = frame.copy()`\n",
      "\n",
      "/var/folders/s8/zqdvt79d34nd7fs16cr64b7r0000gn/T/ipykernel_98289/2576507773.py:2: PerformanceWarning:\n",
      "\n",
      "DataFrame is highly fragmented.  This is usually the result of calling `frame.insert` many times, which has poor performance.  Consider joining all columns at once using pd.concat(axis=1) instead. To get a de-fragmented frame, use `newframe = frame.copy()`\n",
      "\n",
      "/var/folders/s8/zqdvt79d34nd7fs16cr64b7r0000gn/T/ipykernel_98289/2576507773.py:2: PerformanceWarning:\n",
      "\n",
      "DataFrame is highly fragmented.  This is usually the result of calling `frame.insert` many times, which has poor performance.  Consider joining all columns at once using pd.concat(axis=1) instead. To get a de-fragmented frame, use `newframe = frame.copy()`\n",
      "\n",
      "/var/folders/s8/zqdvt79d34nd7fs16cr64b7r0000gn/T/ipykernel_98289/2576507773.py:2: PerformanceWarning:\n",
      "\n",
      "DataFrame is highly fragmented.  This is usually the result of calling `frame.insert` many times, which has poor performance.  Consider joining all columns at once using pd.concat(axis=1) instead. To get a de-fragmented frame, use `newframe = frame.copy()`\n",
      "\n",
      "/var/folders/s8/zqdvt79d34nd7fs16cr64b7r0000gn/T/ipykernel_98289/2576507773.py:2: PerformanceWarning:\n",
      "\n",
      "DataFrame is highly fragmented.  This is usually the result of calling `frame.insert` many times, which has poor performance.  Consider joining all columns at once using pd.concat(axis=1) instead. To get a de-fragmented frame, use `newframe = frame.copy()`\n",
      "\n",
      "/var/folders/s8/zqdvt79d34nd7fs16cr64b7r0000gn/T/ipykernel_98289/2576507773.py:2: PerformanceWarning:\n",
      "\n",
      "DataFrame is highly fragmented.  This is usually the result of calling `frame.insert` many times, which has poor performance.  Consider joining all columns at once using pd.concat(axis=1) instead. To get a de-fragmented frame, use `newframe = frame.copy()`\n",
      "\n",
      "/var/folders/s8/zqdvt79d34nd7fs16cr64b7r0000gn/T/ipykernel_98289/2576507773.py:2: PerformanceWarning:\n",
      "\n",
      "DataFrame is highly fragmented.  This is usually the result of calling `frame.insert` many times, which has poor performance.  Consider joining all columns at once using pd.concat(axis=1) instead. To get a de-fragmented frame, use `newframe = frame.copy()`\n",
      "\n",
      "/var/folders/s8/zqdvt79d34nd7fs16cr64b7r0000gn/T/ipykernel_98289/2576507773.py:2: PerformanceWarning:\n",
      "\n",
      "DataFrame is highly fragmented.  This is usually the result of calling `frame.insert` many times, which has poor performance.  Consider joining all columns at once using pd.concat(axis=1) instead. To get a de-fragmented frame, use `newframe = frame.copy()`\n",
      "\n",
      "/var/folders/s8/zqdvt79d34nd7fs16cr64b7r0000gn/T/ipykernel_98289/2576507773.py:2: PerformanceWarning:\n",
      "\n",
      "DataFrame is highly fragmented.  This is usually the result of calling `frame.insert` many times, which has poor performance.  Consider joining all columns at once using pd.concat(axis=1) instead. To get a de-fragmented frame, use `newframe = frame.copy()`\n",
      "\n",
      "/var/folders/s8/zqdvt79d34nd7fs16cr64b7r0000gn/T/ipykernel_98289/2576507773.py:2: PerformanceWarning:\n",
      "\n",
      "DataFrame is highly fragmented.  This is usually the result of calling `frame.insert` many times, which has poor performance.  Consider joining all columns at once using pd.concat(axis=1) instead. To get a de-fragmented frame, use `newframe = frame.copy()`\n",
      "\n",
      "/var/folders/s8/zqdvt79d34nd7fs16cr64b7r0000gn/T/ipykernel_98289/2576507773.py:2: PerformanceWarning:\n",
      "\n",
      "DataFrame is highly fragmented.  This is usually the result of calling `frame.insert` many times, which has poor performance.  Consider joining all columns at once using pd.concat(axis=1) instead. To get a de-fragmented frame, use `newframe = frame.copy()`\n",
      "\n",
      "/var/folders/s8/zqdvt79d34nd7fs16cr64b7r0000gn/T/ipykernel_98289/2576507773.py:2: PerformanceWarning:\n",
      "\n",
      "DataFrame is highly fragmented.  This is usually the result of calling `frame.insert` many times, which has poor performance.  Consider joining all columns at once using pd.concat(axis=1) instead. To get a de-fragmented frame, use `newframe = frame.copy()`\n",
      "\n",
      "/var/folders/s8/zqdvt79d34nd7fs16cr64b7r0000gn/T/ipykernel_98289/2576507773.py:2: PerformanceWarning:\n",
      "\n",
      "DataFrame is highly fragmented.  This is usually the result of calling `frame.insert` many times, which has poor performance.  Consider joining all columns at once using pd.concat(axis=1) instead. To get a de-fragmented frame, use `newframe = frame.copy()`\n",
      "\n",
      "/var/folders/s8/zqdvt79d34nd7fs16cr64b7r0000gn/T/ipykernel_98289/2576507773.py:2: PerformanceWarning:\n",
      "\n",
      "DataFrame is highly fragmented.  This is usually the result of calling `frame.insert` many times, which has poor performance.  Consider joining all columns at once using pd.concat(axis=1) instead. To get a de-fragmented frame, use `newframe = frame.copy()`\n",
      "\n",
      "/var/folders/s8/zqdvt79d34nd7fs16cr64b7r0000gn/T/ipykernel_98289/2576507773.py:2: PerformanceWarning:\n",
      "\n",
      "DataFrame is highly fragmented.  This is usually the result of calling `frame.insert` many times, which has poor performance.  Consider joining all columns at once using pd.concat(axis=1) instead. To get a de-fragmented frame, use `newframe = frame.copy()`\n",
      "\n",
      "/var/folders/s8/zqdvt79d34nd7fs16cr64b7r0000gn/T/ipykernel_98289/2576507773.py:2: PerformanceWarning:\n",
      "\n",
      "DataFrame is highly fragmented.  This is usually the result of calling `frame.insert` many times, which has poor performance.  Consider joining all columns at once using pd.concat(axis=1) instead. To get a de-fragmented frame, use `newframe = frame.copy()`\n",
      "\n",
      "/var/folders/s8/zqdvt79d34nd7fs16cr64b7r0000gn/T/ipykernel_98289/2576507773.py:2: PerformanceWarning:\n",
      "\n",
      "DataFrame is highly fragmented.  This is usually the result of calling `frame.insert` many times, which has poor performance.  Consider joining all columns at once using pd.concat(axis=1) instead. To get a de-fragmented frame, use `newframe = frame.copy()`\n",
      "\n",
      "/var/folders/s8/zqdvt79d34nd7fs16cr64b7r0000gn/T/ipykernel_98289/2576507773.py:2: PerformanceWarning:\n",
      "\n",
      "DataFrame is highly fragmented.  This is usually the result of calling `frame.insert` many times, which has poor performance.  Consider joining all columns at once using pd.concat(axis=1) instead. To get a de-fragmented frame, use `newframe = frame.copy()`\n",
      "\n",
      "/var/folders/s8/zqdvt79d34nd7fs16cr64b7r0000gn/T/ipykernel_98289/2576507773.py:2: PerformanceWarning:\n",
      "\n",
      "DataFrame is highly fragmented.  This is usually the result of calling `frame.insert` many times, which has poor performance.  Consider joining all columns at once using pd.concat(axis=1) instead. To get a de-fragmented frame, use `newframe = frame.copy()`\n",
      "\n",
      "/var/folders/s8/zqdvt79d34nd7fs16cr64b7r0000gn/T/ipykernel_98289/2576507773.py:2: PerformanceWarning:\n",
      "\n",
      "DataFrame is highly fragmented.  This is usually the result of calling `frame.insert` many times, which has poor performance.  Consider joining all columns at once using pd.concat(axis=1) instead. To get a de-fragmented frame, use `newframe = frame.copy()`\n",
      "\n",
      "/var/folders/s8/zqdvt79d34nd7fs16cr64b7r0000gn/T/ipykernel_98289/2576507773.py:2: PerformanceWarning:\n",
      "\n",
      "DataFrame is highly fragmented.  This is usually the result of calling `frame.insert` many times, which has poor performance.  Consider joining all columns at once using pd.concat(axis=1) instead. To get a de-fragmented frame, use `newframe = frame.copy()`\n",
      "\n",
      "/var/folders/s8/zqdvt79d34nd7fs16cr64b7r0000gn/T/ipykernel_98289/2576507773.py:2: PerformanceWarning:\n",
      "\n",
      "DataFrame is highly fragmented.  This is usually the result of calling `frame.insert` many times, which has poor performance.  Consider joining all columns at once using pd.concat(axis=1) instead. To get a de-fragmented frame, use `newframe = frame.copy()`\n",
      "\n",
      "/var/folders/s8/zqdvt79d34nd7fs16cr64b7r0000gn/T/ipykernel_98289/2576507773.py:2: PerformanceWarning:\n",
      "\n",
      "DataFrame is highly fragmented.  This is usually the result of calling `frame.insert` many times, which has poor performance.  Consider joining all columns at once using pd.concat(axis=1) instead. To get a de-fragmented frame, use `newframe = frame.copy()`\n",
      "\n",
      "/var/folders/s8/zqdvt79d34nd7fs16cr64b7r0000gn/T/ipykernel_98289/2576507773.py:2: PerformanceWarning:\n",
      "\n",
      "DataFrame is highly fragmented.  This is usually the result of calling `frame.insert` many times, which has poor performance.  Consider joining all columns at once using pd.concat(axis=1) instead. To get a de-fragmented frame, use `newframe = frame.copy()`\n",
      "\n",
      "/var/folders/s8/zqdvt79d34nd7fs16cr64b7r0000gn/T/ipykernel_98289/2576507773.py:2: PerformanceWarning:\n",
      "\n",
      "DataFrame is highly fragmented.  This is usually the result of calling `frame.insert` many times, which has poor performance.  Consider joining all columns at once using pd.concat(axis=1) instead. To get a de-fragmented frame, use `newframe = frame.copy()`\n",
      "\n",
      "/var/folders/s8/zqdvt79d34nd7fs16cr64b7r0000gn/T/ipykernel_98289/2576507773.py:2: PerformanceWarning:\n",
      "\n",
      "DataFrame is highly fragmented.  This is usually the result of calling `frame.insert` many times, which has poor performance.  Consider joining all columns at once using pd.concat(axis=1) instead. To get a de-fragmented frame, use `newframe = frame.copy()`\n",
      "\n",
      "/var/folders/s8/zqdvt79d34nd7fs16cr64b7r0000gn/T/ipykernel_98289/2576507773.py:2: PerformanceWarning:\n",
      "\n",
      "DataFrame is highly fragmented.  This is usually the result of calling `frame.insert` many times, which has poor performance.  Consider joining all columns at once using pd.concat(axis=1) instead. To get a de-fragmented frame, use `newframe = frame.copy()`\n",
      "\n",
      "/var/folders/s8/zqdvt79d34nd7fs16cr64b7r0000gn/T/ipykernel_98289/2576507773.py:2: PerformanceWarning:\n",
      "\n",
      "DataFrame is highly fragmented.  This is usually the result of calling `frame.insert` many times, which has poor performance.  Consider joining all columns at once using pd.concat(axis=1) instead. To get a de-fragmented frame, use `newframe = frame.copy()`\n",
      "\n",
      "/var/folders/s8/zqdvt79d34nd7fs16cr64b7r0000gn/T/ipykernel_98289/2576507773.py:2: PerformanceWarning:\n",
      "\n",
      "DataFrame is highly fragmented.  This is usually the result of calling `frame.insert` many times, which has poor performance.  Consider joining all columns at once using pd.concat(axis=1) instead. To get a de-fragmented frame, use `newframe = frame.copy()`\n",
      "\n",
      "/var/folders/s8/zqdvt79d34nd7fs16cr64b7r0000gn/T/ipykernel_98289/2576507773.py:2: PerformanceWarning:\n",
      "\n",
      "DataFrame is highly fragmented.  This is usually the result of calling `frame.insert` many times, which has poor performance.  Consider joining all columns at once using pd.concat(axis=1) instead. To get a de-fragmented frame, use `newframe = frame.copy()`\n",
      "\n",
      "/var/folders/s8/zqdvt79d34nd7fs16cr64b7r0000gn/T/ipykernel_98289/2576507773.py:2: PerformanceWarning:\n",
      "\n",
      "DataFrame is highly fragmented.  This is usually the result of calling `frame.insert` many times, which has poor performance.  Consider joining all columns at once using pd.concat(axis=1) instead. To get a de-fragmented frame, use `newframe = frame.copy()`\n",
      "\n",
      "/var/folders/s8/zqdvt79d34nd7fs16cr64b7r0000gn/T/ipykernel_98289/2576507773.py:2: PerformanceWarning:\n",
      "\n",
      "DataFrame is highly fragmented.  This is usually the result of calling `frame.insert` many times, which has poor performance.  Consider joining all columns at once using pd.concat(axis=1) instead. To get a de-fragmented frame, use `newframe = frame.copy()`\n",
      "\n",
      "/var/folders/s8/zqdvt79d34nd7fs16cr64b7r0000gn/T/ipykernel_98289/2576507773.py:2: PerformanceWarning:\n",
      "\n",
      "DataFrame is highly fragmented.  This is usually the result of calling `frame.insert` many times, which has poor performance.  Consider joining all columns at once using pd.concat(axis=1) instead. To get a de-fragmented frame, use `newframe = frame.copy()`\n",
      "\n",
      "/var/folders/s8/zqdvt79d34nd7fs16cr64b7r0000gn/T/ipykernel_98289/2576507773.py:2: PerformanceWarning:\n",
      "\n",
      "DataFrame is highly fragmented.  This is usually the result of calling `frame.insert` many times, which has poor performance.  Consider joining all columns at once using pd.concat(axis=1) instead. To get a de-fragmented frame, use `newframe = frame.copy()`\n",
      "\n",
      "/var/folders/s8/zqdvt79d34nd7fs16cr64b7r0000gn/T/ipykernel_98289/2576507773.py:2: PerformanceWarning:\n",
      "\n",
      "DataFrame is highly fragmented.  This is usually the result of calling `frame.insert` many times, which has poor performance.  Consider joining all columns at once using pd.concat(axis=1) instead. To get a de-fragmented frame, use `newframe = frame.copy()`\n",
      "\n",
      "/var/folders/s8/zqdvt79d34nd7fs16cr64b7r0000gn/T/ipykernel_98289/2576507773.py:2: PerformanceWarning:\n",
      "\n",
      "DataFrame is highly fragmented.  This is usually the result of calling `frame.insert` many times, which has poor performance.  Consider joining all columns at once using pd.concat(axis=1) instead. To get a de-fragmented frame, use `newframe = frame.copy()`\n",
      "\n",
      "/var/folders/s8/zqdvt79d34nd7fs16cr64b7r0000gn/T/ipykernel_98289/2576507773.py:2: PerformanceWarning:\n",
      "\n",
      "DataFrame is highly fragmented.  This is usually the result of calling `frame.insert` many times, which has poor performance.  Consider joining all columns at once using pd.concat(axis=1) instead. To get a de-fragmented frame, use `newframe = frame.copy()`\n",
      "\n",
      "/var/folders/s8/zqdvt79d34nd7fs16cr64b7r0000gn/T/ipykernel_98289/2576507773.py:2: PerformanceWarning:\n",
      "\n",
      "DataFrame is highly fragmented.  This is usually the result of calling `frame.insert` many times, which has poor performance.  Consider joining all columns at once using pd.concat(axis=1) instead. To get a de-fragmented frame, use `newframe = frame.copy()`\n",
      "\n",
      "/var/folders/s8/zqdvt79d34nd7fs16cr64b7r0000gn/T/ipykernel_98289/2576507773.py:2: PerformanceWarning:\n",
      "\n",
      "DataFrame is highly fragmented.  This is usually the result of calling `frame.insert` many times, which has poor performance.  Consider joining all columns at once using pd.concat(axis=1) instead. To get a de-fragmented frame, use `newframe = frame.copy()`\n",
      "\n",
      "/var/folders/s8/zqdvt79d34nd7fs16cr64b7r0000gn/T/ipykernel_98289/2576507773.py:2: PerformanceWarning:\n",
      "\n",
      "DataFrame is highly fragmented.  This is usually the result of calling `frame.insert` many times, which has poor performance.  Consider joining all columns at once using pd.concat(axis=1) instead. To get a de-fragmented frame, use `newframe = frame.copy()`\n",
      "\n",
      "/var/folders/s8/zqdvt79d34nd7fs16cr64b7r0000gn/T/ipykernel_98289/2576507773.py:2: PerformanceWarning:\n",
      "\n",
      "DataFrame is highly fragmented.  This is usually the result of calling `frame.insert` many times, which has poor performance.  Consider joining all columns at once using pd.concat(axis=1) instead. To get a de-fragmented frame, use `newframe = frame.copy()`\n",
      "\n",
      "/var/folders/s8/zqdvt79d34nd7fs16cr64b7r0000gn/T/ipykernel_98289/2576507773.py:2: PerformanceWarning:\n",
      "\n",
      "DataFrame is highly fragmented.  This is usually the result of calling `frame.insert` many times, which has poor performance.  Consider joining all columns at once using pd.concat(axis=1) instead. To get a de-fragmented frame, use `newframe = frame.copy()`\n",
      "\n",
      "/var/folders/s8/zqdvt79d34nd7fs16cr64b7r0000gn/T/ipykernel_98289/2576507773.py:2: PerformanceWarning:\n",
      "\n",
      "DataFrame is highly fragmented.  This is usually the result of calling `frame.insert` many times, which has poor performance.  Consider joining all columns at once using pd.concat(axis=1) instead. To get a de-fragmented frame, use `newframe = frame.copy()`\n",
      "\n",
      "/var/folders/s8/zqdvt79d34nd7fs16cr64b7r0000gn/T/ipykernel_98289/2576507773.py:2: PerformanceWarning:\n",
      "\n",
      "DataFrame is highly fragmented.  This is usually the result of calling `frame.insert` many times, which has poor performance.  Consider joining all columns at once using pd.concat(axis=1) instead. To get a de-fragmented frame, use `newframe = frame.copy()`\n",
      "\n",
      "/var/folders/s8/zqdvt79d34nd7fs16cr64b7r0000gn/T/ipykernel_98289/2576507773.py:2: PerformanceWarning:\n",
      "\n",
      "DataFrame is highly fragmented.  This is usually the result of calling `frame.insert` many times, which has poor performance.  Consider joining all columns at once using pd.concat(axis=1) instead. To get a de-fragmented frame, use `newframe = frame.copy()`\n",
      "\n",
      "/var/folders/s8/zqdvt79d34nd7fs16cr64b7r0000gn/T/ipykernel_98289/2576507773.py:2: PerformanceWarning:\n",
      "\n",
      "DataFrame is highly fragmented.  This is usually the result of calling `frame.insert` many times, which has poor performance.  Consider joining all columns at once using pd.concat(axis=1) instead. To get a de-fragmented frame, use `newframe = frame.copy()`\n",
      "\n",
      "/var/folders/s8/zqdvt79d34nd7fs16cr64b7r0000gn/T/ipykernel_98289/2576507773.py:2: PerformanceWarning:\n",
      "\n",
      "DataFrame is highly fragmented.  This is usually the result of calling `frame.insert` many times, which has poor performance.  Consider joining all columns at once using pd.concat(axis=1) instead. To get a de-fragmented frame, use `newframe = frame.copy()`\n",
      "\n",
      "/var/folders/s8/zqdvt79d34nd7fs16cr64b7r0000gn/T/ipykernel_98289/2576507773.py:2: PerformanceWarning:\n",
      "\n",
      "DataFrame is highly fragmented.  This is usually the result of calling `frame.insert` many times, which has poor performance.  Consider joining all columns at once using pd.concat(axis=1) instead. To get a de-fragmented frame, use `newframe = frame.copy()`\n",
      "\n",
      "/var/folders/s8/zqdvt79d34nd7fs16cr64b7r0000gn/T/ipykernel_98289/2576507773.py:2: PerformanceWarning:\n",
      "\n",
      "DataFrame is highly fragmented.  This is usually the result of calling `frame.insert` many times, which has poor performance.  Consider joining all columns at once using pd.concat(axis=1) instead. To get a de-fragmented frame, use `newframe = frame.copy()`\n",
      "\n",
      "/var/folders/s8/zqdvt79d34nd7fs16cr64b7r0000gn/T/ipykernel_98289/2576507773.py:2: PerformanceWarning:\n",
      "\n",
      "DataFrame is highly fragmented.  This is usually the result of calling `frame.insert` many times, which has poor performance.  Consider joining all columns at once using pd.concat(axis=1) instead. To get a de-fragmented frame, use `newframe = frame.copy()`\n",
      "\n",
      "/var/folders/s8/zqdvt79d34nd7fs16cr64b7r0000gn/T/ipykernel_98289/2576507773.py:2: PerformanceWarning:\n",
      "\n",
      "DataFrame is highly fragmented.  This is usually the result of calling `frame.insert` many times, which has poor performance.  Consider joining all columns at once using pd.concat(axis=1) instead. To get a de-fragmented frame, use `newframe = frame.copy()`\n",
      "\n",
      "/var/folders/s8/zqdvt79d34nd7fs16cr64b7r0000gn/T/ipykernel_98289/2576507773.py:2: PerformanceWarning:\n",
      "\n",
      "DataFrame is highly fragmented.  This is usually the result of calling `frame.insert` many times, which has poor performance.  Consider joining all columns at once using pd.concat(axis=1) instead. To get a de-fragmented frame, use `newframe = frame.copy()`\n",
      "\n",
      "/var/folders/s8/zqdvt79d34nd7fs16cr64b7r0000gn/T/ipykernel_98289/2576507773.py:2: PerformanceWarning:\n",
      "\n",
      "DataFrame is highly fragmented.  This is usually the result of calling `frame.insert` many times, which has poor performance.  Consider joining all columns at once using pd.concat(axis=1) instead. To get a de-fragmented frame, use `newframe = frame.copy()`\n",
      "\n",
      "/var/folders/s8/zqdvt79d34nd7fs16cr64b7r0000gn/T/ipykernel_98289/2576507773.py:2: PerformanceWarning:\n",
      "\n",
      "DataFrame is highly fragmented.  This is usually the result of calling `frame.insert` many times, which has poor performance.  Consider joining all columns at once using pd.concat(axis=1) instead. To get a de-fragmented frame, use `newframe = frame.copy()`\n",
      "\n",
      "/var/folders/s8/zqdvt79d34nd7fs16cr64b7r0000gn/T/ipykernel_98289/2576507773.py:2: PerformanceWarning:\n",
      "\n",
      "DataFrame is highly fragmented.  This is usually the result of calling `frame.insert` many times, which has poor performance.  Consider joining all columns at once using pd.concat(axis=1) instead. To get a de-fragmented frame, use `newframe = frame.copy()`\n",
      "\n",
      "/var/folders/s8/zqdvt79d34nd7fs16cr64b7r0000gn/T/ipykernel_98289/2576507773.py:2: PerformanceWarning:\n",
      "\n",
      "DataFrame is highly fragmented.  This is usually the result of calling `frame.insert` many times, which has poor performance.  Consider joining all columns at once using pd.concat(axis=1) instead. To get a de-fragmented frame, use `newframe = frame.copy()`\n",
      "\n",
      "/var/folders/s8/zqdvt79d34nd7fs16cr64b7r0000gn/T/ipykernel_98289/2576507773.py:2: PerformanceWarning:\n",
      "\n",
      "DataFrame is highly fragmented.  This is usually the result of calling `frame.insert` many times, which has poor performance.  Consider joining all columns at once using pd.concat(axis=1) instead. To get a de-fragmented frame, use `newframe = frame.copy()`\n",
      "\n",
      "/var/folders/s8/zqdvt79d34nd7fs16cr64b7r0000gn/T/ipykernel_98289/2576507773.py:2: PerformanceWarning:\n",
      "\n",
      "DataFrame is highly fragmented.  This is usually the result of calling `frame.insert` many times, which has poor performance.  Consider joining all columns at once using pd.concat(axis=1) instead. To get a de-fragmented frame, use `newframe = frame.copy()`\n",
      "\n",
      "/var/folders/s8/zqdvt79d34nd7fs16cr64b7r0000gn/T/ipykernel_98289/2576507773.py:2: PerformanceWarning:\n",
      "\n",
      "DataFrame is highly fragmented.  This is usually the result of calling `frame.insert` many times, which has poor performance.  Consider joining all columns at once using pd.concat(axis=1) instead. To get a de-fragmented frame, use `newframe = frame.copy()`\n",
      "\n",
      "/var/folders/s8/zqdvt79d34nd7fs16cr64b7r0000gn/T/ipykernel_98289/2576507773.py:2: PerformanceWarning:\n",
      "\n",
      "DataFrame is highly fragmented.  This is usually the result of calling `frame.insert` many times, which has poor performance.  Consider joining all columns at once using pd.concat(axis=1) instead. To get a de-fragmented frame, use `newframe = frame.copy()`\n",
      "\n",
      "/var/folders/s8/zqdvt79d34nd7fs16cr64b7r0000gn/T/ipykernel_98289/2576507773.py:2: PerformanceWarning:\n",
      "\n",
      "DataFrame is highly fragmented.  This is usually the result of calling `frame.insert` many times, which has poor performance.  Consider joining all columns at once using pd.concat(axis=1) instead. To get a de-fragmented frame, use `newframe = frame.copy()`\n",
      "\n",
      "/var/folders/s8/zqdvt79d34nd7fs16cr64b7r0000gn/T/ipykernel_98289/2576507773.py:2: PerformanceWarning:\n",
      "\n",
      "DataFrame is highly fragmented.  This is usually the result of calling `frame.insert` many times, which has poor performance.  Consider joining all columns at once using pd.concat(axis=1) instead. To get a de-fragmented frame, use `newframe = frame.copy()`\n",
      "\n",
      "/var/folders/s8/zqdvt79d34nd7fs16cr64b7r0000gn/T/ipykernel_98289/2576507773.py:2: PerformanceWarning:\n",
      "\n",
      "DataFrame is highly fragmented.  This is usually the result of calling `frame.insert` many times, which has poor performance.  Consider joining all columns at once using pd.concat(axis=1) instead. To get a de-fragmented frame, use `newframe = frame.copy()`\n",
      "\n",
      "/var/folders/s8/zqdvt79d34nd7fs16cr64b7r0000gn/T/ipykernel_98289/2576507773.py:2: PerformanceWarning:\n",
      "\n",
      "DataFrame is highly fragmented.  This is usually the result of calling `frame.insert` many times, which has poor performance.  Consider joining all columns at once using pd.concat(axis=1) instead. To get a de-fragmented frame, use `newframe = frame.copy()`\n",
      "\n",
      "/var/folders/s8/zqdvt79d34nd7fs16cr64b7r0000gn/T/ipykernel_98289/2576507773.py:2: PerformanceWarning:\n",
      "\n",
      "DataFrame is highly fragmented.  This is usually the result of calling `frame.insert` many times, which has poor performance.  Consider joining all columns at once using pd.concat(axis=1) instead. To get a de-fragmented frame, use `newframe = frame.copy()`\n",
      "\n",
      "/var/folders/s8/zqdvt79d34nd7fs16cr64b7r0000gn/T/ipykernel_98289/2576507773.py:2: PerformanceWarning:\n",
      "\n",
      "DataFrame is highly fragmented.  This is usually the result of calling `frame.insert` many times, which has poor performance.  Consider joining all columns at once using pd.concat(axis=1) instead. To get a de-fragmented frame, use `newframe = frame.copy()`\n",
      "\n",
      "/var/folders/s8/zqdvt79d34nd7fs16cr64b7r0000gn/T/ipykernel_98289/2576507773.py:2: PerformanceWarning:\n",
      "\n",
      "DataFrame is highly fragmented.  This is usually the result of calling `frame.insert` many times, which has poor performance.  Consider joining all columns at once using pd.concat(axis=1) instead. To get a de-fragmented frame, use `newframe = frame.copy()`\n",
      "\n",
      "/var/folders/s8/zqdvt79d34nd7fs16cr64b7r0000gn/T/ipykernel_98289/2576507773.py:2: PerformanceWarning:\n",
      "\n",
      "DataFrame is highly fragmented.  This is usually the result of calling `frame.insert` many times, which has poor performance.  Consider joining all columns at once using pd.concat(axis=1) instead. To get a de-fragmented frame, use `newframe = frame.copy()`\n",
      "\n",
      "/var/folders/s8/zqdvt79d34nd7fs16cr64b7r0000gn/T/ipykernel_98289/2576507773.py:2: PerformanceWarning:\n",
      "\n",
      "DataFrame is highly fragmented.  This is usually the result of calling `frame.insert` many times, which has poor performance.  Consider joining all columns at once using pd.concat(axis=1) instead. To get a de-fragmented frame, use `newframe = frame.copy()`\n",
      "\n",
      "/var/folders/s8/zqdvt79d34nd7fs16cr64b7r0000gn/T/ipykernel_98289/2576507773.py:2: PerformanceWarning:\n",
      "\n",
      "DataFrame is highly fragmented.  This is usually the result of calling `frame.insert` many times, which has poor performance.  Consider joining all columns at once using pd.concat(axis=1) instead. To get a de-fragmented frame, use `newframe = frame.copy()`\n",
      "\n",
      "/var/folders/s8/zqdvt79d34nd7fs16cr64b7r0000gn/T/ipykernel_98289/2576507773.py:2: PerformanceWarning:\n",
      "\n",
      "DataFrame is highly fragmented.  This is usually the result of calling `frame.insert` many times, which has poor performance.  Consider joining all columns at once using pd.concat(axis=1) instead. To get a de-fragmented frame, use `newframe = frame.copy()`\n",
      "\n",
      "/var/folders/s8/zqdvt79d34nd7fs16cr64b7r0000gn/T/ipykernel_98289/2576507773.py:2: PerformanceWarning:\n",
      "\n",
      "DataFrame is highly fragmented.  This is usually the result of calling `frame.insert` many times, which has poor performance.  Consider joining all columns at once using pd.concat(axis=1) instead. To get a de-fragmented frame, use `newframe = frame.copy()`\n",
      "\n",
      "/var/folders/s8/zqdvt79d34nd7fs16cr64b7r0000gn/T/ipykernel_98289/2576507773.py:2: PerformanceWarning:\n",
      "\n",
      "DataFrame is highly fragmented.  This is usually the result of calling `frame.insert` many times, which has poor performance.  Consider joining all columns at once using pd.concat(axis=1) instead. To get a de-fragmented frame, use `newframe = frame.copy()`\n",
      "\n",
      "/var/folders/s8/zqdvt79d34nd7fs16cr64b7r0000gn/T/ipykernel_98289/2576507773.py:2: PerformanceWarning:\n",
      "\n",
      "DataFrame is highly fragmented.  This is usually the result of calling `frame.insert` many times, which has poor performance.  Consider joining all columns at once using pd.concat(axis=1) instead. To get a de-fragmented frame, use `newframe = frame.copy()`\n",
      "\n",
      "/var/folders/s8/zqdvt79d34nd7fs16cr64b7r0000gn/T/ipykernel_98289/2576507773.py:2: PerformanceWarning:\n",
      "\n",
      "DataFrame is highly fragmented.  This is usually the result of calling `frame.insert` many times, which has poor performance.  Consider joining all columns at once using pd.concat(axis=1) instead. To get a de-fragmented frame, use `newframe = frame.copy()`\n",
      "\n",
      "/var/folders/s8/zqdvt79d34nd7fs16cr64b7r0000gn/T/ipykernel_98289/2576507773.py:2: PerformanceWarning:\n",
      "\n",
      "DataFrame is highly fragmented.  This is usually the result of calling `frame.insert` many times, which has poor performance.  Consider joining all columns at once using pd.concat(axis=1) instead. To get a de-fragmented frame, use `newframe = frame.copy()`\n",
      "\n",
      "/var/folders/s8/zqdvt79d34nd7fs16cr64b7r0000gn/T/ipykernel_98289/2576507773.py:2: PerformanceWarning:\n",
      "\n",
      "DataFrame is highly fragmented.  This is usually the result of calling `frame.insert` many times, which has poor performance.  Consider joining all columns at once using pd.concat(axis=1) instead. To get a de-fragmented frame, use `newframe = frame.copy()`\n",
      "\n",
      "/var/folders/s8/zqdvt79d34nd7fs16cr64b7r0000gn/T/ipykernel_98289/2576507773.py:2: PerformanceWarning:\n",
      "\n",
      "DataFrame is highly fragmented.  This is usually the result of calling `frame.insert` many times, which has poor performance.  Consider joining all columns at once using pd.concat(axis=1) instead. To get a de-fragmented frame, use `newframe = frame.copy()`\n",
      "\n",
      "/var/folders/s8/zqdvt79d34nd7fs16cr64b7r0000gn/T/ipykernel_98289/2576507773.py:2: PerformanceWarning:\n",
      "\n",
      "DataFrame is highly fragmented.  This is usually the result of calling `frame.insert` many times, which has poor performance.  Consider joining all columns at once using pd.concat(axis=1) instead. To get a de-fragmented frame, use `newframe = frame.copy()`\n",
      "\n",
      "/var/folders/s8/zqdvt79d34nd7fs16cr64b7r0000gn/T/ipykernel_98289/2576507773.py:2: PerformanceWarning:\n",
      "\n",
      "DataFrame is highly fragmented.  This is usually the result of calling `frame.insert` many times, which has poor performance.  Consider joining all columns at once using pd.concat(axis=1) instead. To get a de-fragmented frame, use `newframe = frame.copy()`\n",
      "\n",
      "/var/folders/s8/zqdvt79d34nd7fs16cr64b7r0000gn/T/ipykernel_98289/2576507773.py:2: PerformanceWarning:\n",
      "\n",
      "DataFrame is highly fragmented.  This is usually the result of calling `frame.insert` many times, which has poor performance.  Consider joining all columns at once using pd.concat(axis=1) instead. To get a de-fragmented frame, use `newframe = frame.copy()`\n",
      "\n",
      "/var/folders/s8/zqdvt79d34nd7fs16cr64b7r0000gn/T/ipykernel_98289/2576507773.py:2: PerformanceWarning:\n",
      "\n",
      "DataFrame is highly fragmented.  This is usually the result of calling `frame.insert` many times, which has poor performance.  Consider joining all columns at once using pd.concat(axis=1) instead. To get a de-fragmented frame, use `newframe = frame.copy()`\n",
      "\n",
      "/var/folders/s8/zqdvt79d34nd7fs16cr64b7r0000gn/T/ipykernel_98289/2576507773.py:2: PerformanceWarning:\n",
      "\n",
      "DataFrame is highly fragmented.  This is usually the result of calling `frame.insert` many times, which has poor performance.  Consider joining all columns at once using pd.concat(axis=1) instead. To get a de-fragmented frame, use `newframe = frame.copy()`\n",
      "\n",
      "/var/folders/s8/zqdvt79d34nd7fs16cr64b7r0000gn/T/ipykernel_98289/2576507773.py:2: PerformanceWarning:\n",
      "\n",
      "DataFrame is highly fragmented.  This is usually the result of calling `frame.insert` many times, which has poor performance.  Consider joining all columns at once using pd.concat(axis=1) instead. To get a de-fragmented frame, use `newframe = frame.copy()`\n",
      "\n",
      "/var/folders/s8/zqdvt79d34nd7fs16cr64b7r0000gn/T/ipykernel_98289/2576507773.py:2: PerformanceWarning:\n",
      "\n",
      "DataFrame is highly fragmented.  This is usually the result of calling `frame.insert` many times, which has poor performance.  Consider joining all columns at once using pd.concat(axis=1) instead. To get a de-fragmented frame, use `newframe = frame.copy()`\n",
      "\n",
      "/var/folders/s8/zqdvt79d34nd7fs16cr64b7r0000gn/T/ipykernel_98289/2576507773.py:2: PerformanceWarning:\n",
      "\n",
      "DataFrame is highly fragmented.  This is usually the result of calling `frame.insert` many times, which has poor performance.  Consider joining all columns at once using pd.concat(axis=1) instead. To get a de-fragmented frame, use `newframe = frame.copy()`\n",
      "\n",
      "/var/folders/s8/zqdvt79d34nd7fs16cr64b7r0000gn/T/ipykernel_98289/2576507773.py:2: PerformanceWarning:\n",
      "\n",
      "DataFrame is highly fragmented.  This is usually the result of calling `frame.insert` many times, which has poor performance.  Consider joining all columns at once using pd.concat(axis=1) instead. To get a de-fragmented frame, use `newframe = frame.copy()`\n",
      "\n",
      "/var/folders/s8/zqdvt79d34nd7fs16cr64b7r0000gn/T/ipykernel_98289/2576507773.py:2: PerformanceWarning:\n",
      "\n",
      "DataFrame is highly fragmented.  This is usually the result of calling `frame.insert` many times, which has poor performance.  Consider joining all columns at once using pd.concat(axis=1) instead. To get a de-fragmented frame, use `newframe = frame.copy()`\n",
      "\n",
      "/var/folders/s8/zqdvt79d34nd7fs16cr64b7r0000gn/T/ipykernel_98289/2576507773.py:2: PerformanceWarning:\n",
      "\n",
      "DataFrame is highly fragmented.  This is usually the result of calling `frame.insert` many times, which has poor performance.  Consider joining all columns at once using pd.concat(axis=1) instead. To get a de-fragmented frame, use `newframe = frame.copy()`\n",
      "\n",
      "/var/folders/s8/zqdvt79d34nd7fs16cr64b7r0000gn/T/ipykernel_98289/2576507773.py:2: PerformanceWarning:\n",
      "\n",
      "DataFrame is highly fragmented.  This is usually the result of calling `frame.insert` many times, which has poor performance.  Consider joining all columns at once using pd.concat(axis=1) instead. To get a de-fragmented frame, use `newframe = frame.copy()`\n",
      "\n",
      "/var/folders/s8/zqdvt79d34nd7fs16cr64b7r0000gn/T/ipykernel_98289/2576507773.py:2: PerformanceWarning:\n",
      "\n",
      "DataFrame is highly fragmented.  This is usually the result of calling `frame.insert` many times, which has poor performance.  Consider joining all columns at once using pd.concat(axis=1) instead. To get a de-fragmented frame, use `newframe = frame.copy()`\n",
      "\n",
      "/var/folders/s8/zqdvt79d34nd7fs16cr64b7r0000gn/T/ipykernel_98289/2576507773.py:2: PerformanceWarning:\n",
      "\n",
      "DataFrame is highly fragmented.  This is usually the result of calling `frame.insert` many times, which has poor performance.  Consider joining all columns at once using pd.concat(axis=1) instead. To get a de-fragmented frame, use `newframe = frame.copy()`\n",
      "\n",
      "/var/folders/s8/zqdvt79d34nd7fs16cr64b7r0000gn/T/ipykernel_98289/2576507773.py:2: PerformanceWarning:\n",
      "\n",
      "DataFrame is highly fragmented.  This is usually the result of calling `frame.insert` many times, which has poor performance.  Consider joining all columns at once using pd.concat(axis=1) instead. To get a de-fragmented frame, use `newframe = frame.copy()`\n",
      "\n",
      "/var/folders/s8/zqdvt79d34nd7fs16cr64b7r0000gn/T/ipykernel_98289/2576507773.py:2: PerformanceWarning:\n",
      "\n",
      "DataFrame is highly fragmented.  This is usually the result of calling `frame.insert` many times, which has poor performance.  Consider joining all columns at once using pd.concat(axis=1) instead. To get a de-fragmented frame, use `newframe = frame.copy()`\n",
      "\n",
      "/var/folders/s8/zqdvt79d34nd7fs16cr64b7r0000gn/T/ipykernel_98289/2576507773.py:2: PerformanceWarning:\n",
      "\n",
      "DataFrame is highly fragmented.  This is usually the result of calling `frame.insert` many times, which has poor performance.  Consider joining all columns at once using pd.concat(axis=1) instead. To get a de-fragmented frame, use `newframe = frame.copy()`\n",
      "\n",
      "/var/folders/s8/zqdvt79d34nd7fs16cr64b7r0000gn/T/ipykernel_98289/2576507773.py:2: PerformanceWarning:\n",
      "\n",
      "DataFrame is highly fragmented.  This is usually the result of calling `frame.insert` many times, which has poor performance.  Consider joining all columns at once using pd.concat(axis=1) instead. To get a de-fragmented frame, use `newframe = frame.copy()`\n",
      "\n",
      "/var/folders/s8/zqdvt79d34nd7fs16cr64b7r0000gn/T/ipykernel_98289/2576507773.py:2: PerformanceWarning:\n",
      "\n",
      "DataFrame is highly fragmented.  This is usually the result of calling `frame.insert` many times, which has poor performance.  Consider joining all columns at once using pd.concat(axis=1) instead. To get a de-fragmented frame, use `newframe = frame.copy()`\n",
      "\n",
      "/var/folders/s8/zqdvt79d34nd7fs16cr64b7r0000gn/T/ipykernel_98289/2576507773.py:2: PerformanceWarning:\n",
      "\n",
      "DataFrame is highly fragmented.  This is usually the result of calling `frame.insert` many times, which has poor performance.  Consider joining all columns at once using pd.concat(axis=1) instead. To get a de-fragmented frame, use `newframe = frame.copy()`\n",
      "\n",
      "/var/folders/s8/zqdvt79d34nd7fs16cr64b7r0000gn/T/ipykernel_98289/2576507773.py:2: PerformanceWarning:\n",
      "\n",
      "DataFrame is highly fragmented.  This is usually the result of calling `frame.insert` many times, which has poor performance.  Consider joining all columns at once using pd.concat(axis=1) instead. To get a de-fragmented frame, use `newframe = frame.copy()`\n",
      "\n",
      "/var/folders/s8/zqdvt79d34nd7fs16cr64b7r0000gn/T/ipykernel_98289/2576507773.py:2: PerformanceWarning:\n",
      "\n",
      "DataFrame is highly fragmented.  This is usually the result of calling `frame.insert` many times, which has poor performance.  Consider joining all columns at once using pd.concat(axis=1) instead. To get a de-fragmented frame, use `newframe = frame.copy()`\n",
      "\n",
      "/var/folders/s8/zqdvt79d34nd7fs16cr64b7r0000gn/T/ipykernel_98289/2576507773.py:2: PerformanceWarning:\n",
      "\n",
      "DataFrame is highly fragmented.  This is usually the result of calling `frame.insert` many times, which has poor performance.  Consider joining all columns at once using pd.concat(axis=1) instead. To get a de-fragmented frame, use `newframe = frame.copy()`\n",
      "\n",
      "/var/folders/s8/zqdvt79d34nd7fs16cr64b7r0000gn/T/ipykernel_98289/2576507773.py:2: PerformanceWarning:\n",
      "\n",
      "DataFrame is highly fragmented.  This is usually the result of calling `frame.insert` many times, which has poor performance.  Consider joining all columns at once using pd.concat(axis=1) instead. To get a de-fragmented frame, use `newframe = frame.copy()`\n",
      "\n",
      "/var/folders/s8/zqdvt79d34nd7fs16cr64b7r0000gn/T/ipykernel_98289/2576507773.py:2: PerformanceWarning:\n",
      "\n",
      "DataFrame is highly fragmented.  This is usually the result of calling `frame.insert` many times, which has poor performance.  Consider joining all columns at once using pd.concat(axis=1) instead. To get a de-fragmented frame, use `newframe = frame.copy()`\n",
      "\n",
      "/var/folders/s8/zqdvt79d34nd7fs16cr64b7r0000gn/T/ipykernel_98289/2576507773.py:2: PerformanceWarning:\n",
      "\n",
      "DataFrame is highly fragmented.  This is usually the result of calling `frame.insert` many times, which has poor performance.  Consider joining all columns at once using pd.concat(axis=1) instead. To get a de-fragmented frame, use `newframe = frame.copy()`\n",
      "\n",
      "/var/folders/s8/zqdvt79d34nd7fs16cr64b7r0000gn/T/ipykernel_98289/2576507773.py:2: PerformanceWarning:\n",
      "\n",
      "DataFrame is highly fragmented.  This is usually the result of calling `frame.insert` many times, which has poor performance.  Consider joining all columns at once using pd.concat(axis=1) instead. To get a de-fragmented frame, use `newframe = frame.copy()`\n",
      "\n",
      "/var/folders/s8/zqdvt79d34nd7fs16cr64b7r0000gn/T/ipykernel_98289/2576507773.py:2: PerformanceWarning:\n",
      "\n",
      "DataFrame is highly fragmented.  This is usually the result of calling `frame.insert` many times, which has poor performance.  Consider joining all columns at once using pd.concat(axis=1) instead. To get a de-fragmented frame, use `newframe = frame.copy()`\n",
      "\n",
      "/var/folders/s8/zqdvt79d34nd7fs16cr64b7r0000gn/T/ipykernel_98289/2576507773.py:2: PerformanceWarning:\n",
      "\n",
      "DataFrame is highly fragmented.  This is usually the result of calling `frame.insert` many times, which has poor performance.  Consider joining all columns at once using pd.concat(axis=1) instead. To get a de-fragmented frame, use `newframe = frame.copy()`\n",
      "\n",
      "/var/folders/s8/zqdvt79d34nd7fs16cr64b7r0000gn/T/ipykernel_98289/2576507773.py:2: PerformanceWarning:\n",
      "\n",
      "DataFrame is highly fragmented.  This is usually the result of calling `frame.insert` many times, which has poor performance.  Consider joining all columns at once using pd.concat(axis=1) instead. To get a de-fragmented frame, use `newframe = frame.copy()`\n",
      "\n",
      "/var/folders/s8/zqdvt79d34nd7fs16cr64b7r0000gn/T/ipykernel_98289/2576507773.py:2: PerformanceWarning:\n",
      "\n",
      "DataFrame is highly fragmented.  This is usually the result of calling `frame.insert` many times, which has poor performance.  Consider joining all columns at once using pd.concat(axis=1) instead. To get a de-fragmented frame, use `newframe = frame.copy()`\n",
      "\n",
      "/var/folders/s8/zqdvt79d34nd7fs16cr64b7r0000gn/T/ipykernel_98289/2576507773.py:2: PerformanceWarning:\n",
      "\n",
      "DataFrame is highly fragmented.  This is usually the result of calling `frame.insert` many times, which has poor performance.  Consider joining all columns at once using pd.concat(axis=1) instead. To get a de-fragmented frame, use `newframe = frame.copy()`\n",
      "\n",
      "/var/folders/s8/zqdvt79d34nd7fs16cr64b7r0000gn/T/ipykernel_98289/2576507773.py:2: PerformanceWarning:\n",
      "\n",
      "DataFrame is highly fragmented.  This is usually the result of calling `frame.insert` many times, which has poor performance.  Consider joining all columns at once using pd.concat(axis=1) instead. To get a de-fragmented frame, use `newframe = frame.copy()`\n",
      "\n",
      "/var/folders/s8/zqdvt79d34nd7fs16cr64b7r0000gn/T/ipykernel_98289/2576507773.py:2: PerformanceWarning:\n",
      "\n",
      "DataFrame is highly fragmented.  This is usually the result of calling `frame.insert` many times, which has poor performance.  Consider joining all columns at once using pd.concat(axis=1) instead. To get a de-fragmented frame, use `newframe = frame.copy()`\n",
      "\n",
      "/var/folders/s8/zqdvt79d34nd7fs16cr64b7r0000gn/T/ipykernel_98289/2576507773.py:2: PerformanceWarning:\n",
      "\n",
      "DataFrame is highly fragmented.  This is usually the result of calling `frame.insert` many times, which has poor performance.  Consider joining all columns at once using pd.concat(axis=1) instead. To get a de-fragmented frame, use `newframe = frame.copy()`\n",
      "\n",
      "/var/folders/s8/zqdvt79d34nd7fs16cr64b7r0000gn/T/ipykernel_98289/2576507773.py:2: PerformanceWarning:\n",
      "\n",
      "DataFrame is highly fragmented.  This is usually the result of calling `frame.insert` many times, which has poor performance.  Consider joining all columns at once using pd.concat(axis=1) instead. To get a de-fragmented frame, use `newframe = frame.copy()`\n",
      "\n",
      "/var/folders/s8/zqdvt79d34nd7fs16cr64b7r0000gn/T/ipykernel_98289/2576507773.py:2: PerformanceWarning:\n",
      "\n",
      "DataFrame is highly fragmented.  This is usually the result of calling `frame.insert` many times, which has poor performance.  Consider joining all columns at once using pd.concat(axis=1) instead. To get a de-fragmented frame, use `newframe = frame.copy()`\n",
      "\n",
      "/var/folders/s8/zqdvt79d34nd7fs16cr64b7r0000gn/T/ipykernel_98289/2576507773.py:2: PerformanceWarning:\n",
      "\n",
      "DataFrame is highly fragmented.  This is usually the result of calling `frame.insert` many times, which has poor performance.  Consider joining all columns at once using pd.concat(axis=1) instead. To get a de-fragmented frame, use `newframe = frame.copy()`\n",
      "\n",
      "/var/folders/s8/zqdvt79d34nd7fs16cr64b7r0000gn/T/ipykernel_98289/2576507773.py:2: PerformanceWarning:\n",
      "\n",
      "DataFrame is highly fragmented.  This is usually the result of calling `frame.insert` many times, which has poor performance.  Consider joining all columns at once using pd.concat(axis=1) instead. To get a de-fragmented frame, use `newframe = frame.copy()`\n",
      "\n",
      "/var/folders/s8/zqdvt79d34nd7fs16cr64b7r0000gn/T/ipykernel_98289/2576507773.py:2: PerformanceWarning:\n",
      "\n",
      "DataFrame is highly fragmented.  This is usually the result of calling `frame.insert` many times, which has poor performance.  Consider joining all columns at once using pd.concat(axis=1) instead. To get a de-fragmented frame, use `newframe = frame.copy()`\n",
      "\n",
      "/var/folders/s8/zqdvt79d34nd7fs16cr64b7r0000gn/T/ipykernel_98289/2576507773.py:2: PerformanceWarning:\n",
      "\n",
      "DataFrame is highly fragmented.  This is usually the result of calling `frame.insert` many times, which has poor performance.  Consider joining all columns at once using pd.concat(axis=1) instead. To get a de-fragmented frame, use `newframe = frame.copy()`\n",
      "\n",
      "/var/folders/s8/zqdvt79d34nd7fs16cr64b7r0000gn/T/ipykernel_98289/2576507773.py:2: PerformanceWarning:\n",
      "\n",
      "DataFrame is highly fragmented.  This is usually the result of calling `frame.insert` many times, which has poor performance.  Consider joining all columns at once using pd.concat(axis=1) instead. To get a de-fragmented frame, use `newframe = frame.copy()`\n",
      "\n",
      "/var/folders/s8/zqdvt79d34nd7fs16cr64b7r0000gn/T/ipykernel_98289/2576507773.py:2: PerformanceWarning:\n",
      "\n",
      "DataFrame is highly fragmented.  This is usually the result of calling `frame.insert` many times, which has poor performance.  Consider joining all columns at once using pd.concat(axis=1) instead. To get a de-fragmented frame, use `newframe = frame.copy()`\n",
      "\n",
      "/var/folders/s8/zqdvt79d34nd7fs16cr64b7r0000gn/T/ipykernel_98289/2576507773.py:2: PerformanceWarning:\n",
      "\n",
      "DataFrame is highly fragmented.  This is usually the result of calling `frame.insert` many times, which has poor performance.  Consider joining all columns at once using pd.concat(axis=1) instead. To get a de-fragmented frame, use `newframe = frame.copy()`\n",
      "\n",
      "/var/folders/s8/zqdvt79d34nd7fs16cr64b7r0000gn/T/ipykernel_98289/2576507773.py:2: PerformanceWarning:\n",
      "\n",
      "DataFrame is highly fragmented.  This is usually the result of calling `frame.insert` many times, which has poor performance.  Consider joining all columns at once using pd.concat(axis=1) instead. To get a de-fragmented frame, use `newframe = frame.copy()`\n",
      "\n",
      "/var/folders/s8/zqdvt79d34nd7fs16cr64b7r0000gn/T/ipykernel_98289/2576507773.py:2: PerformanceWarning:\n",
      "\n",
      "DataFrame is highly fragmented.  This is usually the result of calling `frame.insert` many times, which has poor performance.  Consider joining all columns at once using pd.concat(axis=1) instead. To get a de-fragmented frame, use `newframe = frame.copy()`\n",
      "\n",
      "/var/folders/s8/zqdvt79d34nd7fs16cr64b7r0000gn/T/ipykernel_98289/2576507773.py:2: PerformanceWarning:\n",
      "\n",
      "DataFrame is highly fragmented.  This is usually the result of calling `frame.insert` many times, which has poor performance.  Consider joining all columns at once using pd.concat(axis=1) instead. To get a de-fragmented frame, use `newframe = frame.copy()`\n",
      "\n",
      "/var/folders/s8/zqdvt79d34nd7fs16cr64b7r0000gn/T/ipykernel_98289/2576507773.py:2: PerformanceWarning:\n",
      "\n",
      "DataFrame is highly fragmented.  This is usually the result of calling `frame.insert` many times, which has poor performance.  Consider joining all columns at once using pd.concat(axis=1) instead. To get a de-fragmented frame, use `newframe = frame.copy()`\n",
      "\n",
      "/var/folders/s8/zqdvt79d34nd7fs16cr64b7r0000gn/T/ipykernel_98289/2576507773.py:2: PerformanceWarning:\n",
      "\n",
      "DataFrame is highly fragmented.  This is usually the result of calling `frame.insert` many times, which has poor performance.  Consider joining all columns at once using pd.concat(axis=1) instead. To get a de-fragmented frame, use `newframe = frame.copy()`\n",
      "\n",
      "/var/folders/s8/zqdvt79d34nd7fs16cr64b7r0000gn/T/ipykernel_98289/2576507773.py:2: PerformanceWarning:\n",
      "\n",
      "DataFrame is highly fragmented.  This is usually the result of calling `frame.insert` many times, which has poor performance.  Consider joining all columns at once using pd.concat(axis=1) instead. To get a de-fragmented frame, use `newframe = frame.copy()`\n",
      "\n",
      "/var/folders/s8/zqdvt79d34nd7fs16cr64b7r0000gn/T/ipykernel_98289/2576507773.py:2: PerformanceWarning:\n",
      "\n",
      "DataFrame is highly fragmented.  This is usually the result of calling `frame.insert` many times, which has poor performance.  Consider joining all columns at once using pd.concat(axis=1) instead. To get a de-fragmented frame, use `newframe = frame.copy()`\n",
      "\n",
      "/var/folders/s8/zqdvt79d34nd7fs16cr64b7r0000gn/T/ipykernel_98289/2576507773.py:2: PerformanceWarning:\n",
      "\n",
      "DataFrame is highly fragmented.  This is usually the result of calling `frame.insert` many times, which has poor performance.  Consider joining all columns at once using pd.concat(axis=1) instead. To get a de-fragmented frame, use `newframe = frame.copy()`\n",
      "\n",
      "/var/folders/s8/zqdvt79d34nd7fs16cr64b7r0000gn/T/ipykernel_98289/2576507773.py:2: PerformanceWarning:\n",
      "\n",
      "DataFrame is highly fragmented.  This is usually the result of calling `frame.insert` many times, which has poor performance.  Consider joining all columns at once using pd.concat(axis=1) instead. To get a de-fragmented frame, use `newframe = frame.copy()`\n",
      "\n",
      "/var/folders/s8/zqdvt79d34nd7fs16cr64b7r0000gn/T/ipykernel_98289/2576507773.py:2: PerformanceWarning:\n",
      "\n",
      "DataFrame is highly fragmented.  This is usually the result of calling `frame.insert` many times, which has poor performance.  Consider joining all columns at once using pd.concat(axis=1) instead. To get a de-fragmented frame, use `newframe = frame.copy()`\n",
      "\n",
      "/var/folders/s8/zqdvt79d34nd7fs16cr64b7r0000gn/T/ipykernel_98289/2576507773.py:2: PerformanceWarning:\n",
      "\n",
      "DataFrame is highly fragmented.  This is usually the result of calling `frame.insert` many times, which has poor performance.  Consider joining all columns at once using pd.concat(axis=1) instead. To get a de-fragmented frame, use `newframe = frame.copy()`\n",
      "\n",
      "/var/folders/s8/zqdvt79d34nd7fs16cr64b7r0000gn/T/ipykernel_98289/2576507773.py:2: PerformanceWarning:\n",
      "\n",
      "DataFrame is highly fragmented.  This is usually the result of calling `frame.insert` many times, which has poor performance.  Consider joining all columns at once using pd.concat(axis=1) instead. To get a de-fragmented frame, use `newframe = frame.copy()`\n",
      "\n",
      "/var/folders/s8/zqdvt79d34nd7fs16cr64b7r0000gn/T/ipykernel_98289/2576507773.py:2: PerformanceWarning:\n",
      "\n",
      "DataFrame is highly fragmented.  This is usually the result of calling `frame.insert` many times, which has poor performance.  Consider joining all columns at once using pd.concat(axis=1) instead. To get a de-fragmented frame, use `newframe = frame.copy()`\n",
      "\n",
      "/var/folders/s8/zqdvt79d34nd7fs16cr64b7r0000gn/T/ipykernel_98289/2576507773.py:2: PerformanceWarning:\n",
      "\n",
      "DataFrame is highly fragmented.  This is usually the result of calling `frame.insert` many times, which has poor performance.  Consider joining all columns at once using pd.concat(axis=1) instead. To get a de-fragmented frame, use `newframe = frame.copy()`\n",
      "\n",
      "/var/folders/s8/zqdvt79d34nd7fs16cr64b7r0000gn/T/ipykernel_98289/2576507773.py:2: PerformanceWarning:\n",
      "\n",
      "DataFrame is highly fragmented.  This is usually the result of calling `frame.insert` many times, which has poor performance.  Consider joining all columns at once using pd.concat(axis=1) instead. To get a de-fragmented frame, use `newframe = frame.copy()`\n",
      "\n",
      "/var/folders/s8/zqdvt79d34nd7fs16cr64b7r0000gn/T/ipykernel_98289/2576507773.py:2: PerformanceWarning:\n",
      "\n",
      "DataFrame is highly fragmented.  This is usually the result of calling `frame.insert` many times, which has poor performance.  Consider joining all columns at once using pd.concat(axis=1) instead. To get a de-fragmented frame, use `newframe = frame.copy()`\n",
      "\n",
      "/var/folders/s8/zqdvt79d34nd7fs16cr64b7r0000gn/T/ipykernel_98289/2576507773.py:2: PerformanceWarning:\n",
      "\n",
      "DataFrame is highly fragmented.  This is usually the result of calling `frame.insert` many times, which has poor performance.  Consider joining all columns at once using pd.concat(axis=1) instead. To get a de-fragmented frame, use `newframe = frame.copy()`\n",
      "\n",
      "/var/folders/s8/zqdvt79d34nd7fs16cr64b7r0000gn/T/ipykernel_98289/2576507773.py:2: PerformanceWarning:\n",
      "\n",
      "DataFrame is highly fragmented.  This is usually the result of calling `frame.insert` many times, which has poor performance.  Consider joining all columns at once using pd.concat(axis=1) instead. To get a de-fragmented frame, use `newframe = frame.copy()`\n",
      "\n",
      "/var/folders/s8/zqdvt79d34nd7fs16cr64b7r0000gn/T/ipykernel_98289/2576507773.py:2: PerformanceWarning:\n",
      "\n",
      "DataFrame is highly fragmented.  This is usually the result of calling `frame.insert` many times, which has poor performance.  Consider joining all columns at once using pd.concat(axis=1) instead. To get a de-fragmented frame, use `newframe = frame.copy()`\n",
      "\n",
      "/var/folders/s8/zqdvt79d34nd7fs16cr64b7r0000gn/T/ipykernel_98289/2576507773.py:2: PerformanceWarning:\n",
      "\n",
      "DataFrame is highly fragmented.  This is usually the result of calling `frame.insert` many times, which has poor performance.  Consider joining all columns at once using pd.concat(axis=1) instead. To get a de-fragmented frame, use `newframe = frame.copy()`\n",
      "\n",
      "/var/folders/s8/zqdvt79d34nd7fs16cr64b7r0000gn/T/ipykernel_98289/2576507773.py:2: PerformanceWarning:\n",
      "\n",
      "DataFrame is highly fragmented.  This is usually the result of calling `frame.insert` many times, which has poor performance.  Consider joining all columns at once using pd.concat(axis=1) instead. To get a de-fragmented frame, use `newframe = frame.copy()`\n",
      "\n",
      "/var/folders/s8/zqdvt79d34nd7fs16cr64b7r0000gn/T/ipykernel_98289/2576507773.py:2: PerformanceWarning:\n",
      "\n",
      "DataFrame is highly fragmented.  This is usually the result of calling `frame.insert` many times, which has poor performance.  Consider joining all columns at once using pd.concat(axis=1) instead. To get a de-fragmented frame, use `newframe = frame.copy()`\n",
      "\n",
      "/var/folders/s8/zqdvt79d34nd7fs16cr64b7r0000gn/T/ipykernel_98289/2576507773.py:2: PerformanceWarning:\n",
      "\n",
      "DataFrame is highly fragmented.  This is usually the result of calling `frame.insert` many times, which has poor performance.  Consider joining all columns at once using pd.concat(axis=1) instead. To get a de-fragmented frame, use `newframe = frame.copy()`\n",
      "\n",
      "/var/folders/s8/zqdvt79d34nd7fs16cr64b7r0000gn/T/ipykernel_98289/2576507773.py:2: PerformanceWarning:\n",
      "\n",
      "DataFrame is highly fragmented.  This is usually the result of calling `frame.insert` many times, which has poor performance.  Consider joining all columns at once using pd.concat(axis=1) instead. To get a de-fragmented frame, use `newframe = frame.copy()`\n",
      "\n",
      "/var/folders/s8/zqdvt79d34nd7fs16cr64b7r0000gn/T/ipykernel_98289/2576507773.py:2: PerformanceWarning:\n",
      "\n",
      "DataFrame is highly fragmented.  This is usually the result of calling `frame.insert` many times, which has poor performance.  Consider joining all columns at once using pd.concat(axis=1) instead. To get a de-fragmented frame, use `newframe = frame.copy()`\n",
      "\n",
      "/var/folders/s8/zqdvt79d34nd7fs16cr64b7r0000gn/T/ipykernel_98289/2576507773.py:2: PerformanceWarning:\n",
      "\n",
      "DataFrame is highly fragmented.  This is usually the result of calling `frame.insert` many times, which has poor performance.  Consider joining all columns at once using pd.concat(axis=1) instead. To get a de-fragmented frame, use `newframe = frame.copy()`\n",
      "\n",
      "/var/folders/s8/zqdvt79d34nd7fs16cr64b7r0000gn/T/ipykernel_98289/2576507773.py:2: PerformanceWarning:\n",
      "\n",
      "DataFrame is highly fragmented.  This is usually the result of calling `frame.insert` many times, which has poor performance.  Consider joining all columns at once using pd.concat(axis=1) instead. To get a de-fragmented frame, use `newframe = frame.copy()`\n",
      "\n",
      "/var/folders/s8/zqdvt79d34nd7fs16cr64b7r0000gn/T/ipykernel_98289/2576507773.py:2: PerformanceWarning:\n",
      "\n",
      "DataFrame is highly fragmented.  This is usually the result of calling `frame.insert` many times, which has poor performance.  Consider joining all columns at once using pd.concat(axis=1) instead. To get a de-fragmented frame, use `newframe = frame.copy()`\n",
      "\n",
      "/var/folders/s8/zqdvt79d34nd7fs16cr64b7r0000gn/T/ipykernel_98289/2576507773.py:2: PerformanceWarning:\n",
      "\n",
      "DataFrame is highly fragmented.  This is usually the result of calling `frame.insert` many times, which has poor performance.  Consider joining all columns at once using pd.concat(axis=1) instead. To get a de-fragmented frame, use `newframe = frame.copy()`\n",
      "\n",
      "/var/folders/s8/zqdvt79d34nd7fs16cr64b7r0000gn/T/ipykernel_98289/2576507773.py:2: PerformanceWarning:\n",
      "\n",
      "DataFrame is highly fragmented.  This is usually the result of calling `frame.insert` many times, which has poor performance.  Consider joining all columns at once using pd.concat(axis=1) instead. To get a de-fragmented frame, use `newframe = frame.copy()`\n",
      "\n",
      "/var/folders/s8/zqdvt79d34nd7fs16cr64b7r0000gn/T/ipykernel_98289/2576507773.py:2: PerformanceWarning:\n",
      "\n",
      "DataFrame is highly fragmented.  This is usually the result of calling `frame.insert` many times, which has poor performance.  Consider joining all columns at once using pd.concat(axis=1) instead. To get a de-fragmented frame, use `newframe = frame.copy()`\n",
      "\n",
      "/var/folders/s8/zqdvt79d34nd7fs16cr64b7r0000gn/T/ipykernel_98289/2576507773.py:2: PerformanceWarning:\n",
      "\n",
      "DataFrame is highly fragmented.  This is usually the result of calling `frame.insert` many times, which has poor performance.  Consider joining all columns at once using pd.concat(axis=1) instead. To get a de-fragmented frame, use `newframe = frame.copy()`\n",
      "\n",
      "/var/folders/s8/zqdvt79d34nd7fs16cr64b7r0000gn/T/ipykernel_98289/2576507773.py:2: PerformanceWarning:\n",
      "\n",
      "DataFrame is highly fragmented.  This is usually the result of calling `frame.insert` many times, which has poor performance.  Consider joining all columns at once using pd.concat(axis=1) instead. To get a de-fragmented frame, use `newframe = frame.copy()`\n",
      "\n",
      "/var/folders/s8/zqdvt79d34nd7fs16cr64b7r0000gn/T/ipykernel_98289/2576507773.py:2: PerformanceWarning:\n",
      "\n",
      "DataFrame is highly fragmented.  This is usually the result of calling `frame.insert` many times, which has poor performance.  Consider joining all columns at once using pd.concat(axis=1) instead. To get a de-fragmented frame, use `newframe = frame.copy()`\n",
      "\n",
      "/var/folders/s8/zqdvt79d34nd7fs16cr64b7r0000gn/T/ipykernel_98289/2576507773.py:2: PerformanceWarning:\n",
      "\n",
      "DataFrame is highly fragmented.  This is usually the result of calling `frame.insert` many times, which has poor performance.  Consider joining all columns at once using pd.concat(axis=1) instead. To get a de-fragmented frame, use `newframe = frame.copy()`\n",
      "\n",
      "/var/folders/s8/zqdvt79d34nd7fs16cr64b7r0000gn/T/ipykernel_98289/2576507773.py:2: PerformanceWarning:\n",
      "\n",
      "DataFrame is highly fragmented.  This is usually the result of calling `frame.insert` many times, which has poor performance.  Consider joining all columns at once using pd.concat(axis=1) instead. To get a de-fragmented frame, use `newframe = frame.copy()`\n",
      "\n",
      "/var/folders/s8/zqdvt79d34nd7fs16cr64b7r0000gn/T/ipykernel_98289/2576507773.py:2: PerformanceWarning:\n",
      "\n",
      "DataFrame is highly fragmented.  This is usually the result of calling `frame.insert` many times, which has poor performance.  Consider joining all columns at once using pd.concat(axis=1) instead. To get a de-fragmented frame, use `newframe = frame.copy()`\n",
      "\n",
      "/var/folders/s8/zqdvt79d34nd7fs16cr64b7r0000gn/T/ipykernel_98289/2576507773.py:2: PerformanceWarning:\n",
      "\n",
      "DataFrame is highly fragmented.  This is usually the result of calling `frame.insert` many times, which has poor performance.  Consider joining all columns at once using pd.concat(axis=1) instead. To get a de-fragmented frame, use `newframe = frame.copy()`\n",
      "\n",
      "/var/folders/s8/zqdvt79d34nd7fs16cr64b7r0000gn/T/ipykernel_98289/2576507773.py:2: PerformanceWarning:\n",
      "\n",
      "DataFrame is highly fragmented.  This is usually the result of calling `frame.insert` many times, which has poor performance.  Consider joining all columns at once using pd.concat(axis=1) instead. To get a de-fragmented frame, use `newframe = frame.copy()`\n",
      "\n",
      "/var/folders/s8/zqdvt79d34nd7fs16cr64b7r0000gn/T/ipykernel_98289/2576507773.py:2: PerformanceWarning:\n",
      "\n",
      "DataFrame is highly fragmented.  This is usually the result of calling `frame.insert` many times, which has poor performance.  Consider joining all columns at once using pd.concat(axis=1) instead. To get a de-fragmented frame, use `newframe = frame.copy()`\n",
      "\n",
      "/var/folders/s8/zqdvt79d34nd7fs16cr64b7r0000gn/T/ipykernel_98289/2576507773.py:2: PerformanceWarning:\n",
      "\n",
      "DataFrame is highly fragmented.  This is usually the result of calling `frame.insert` many times, which has poor performance.  Consider joining all columns at once using pd.concat(axis=1) instead. To get a de-fragmented frame, use `newframe = frame.copy()`\n",
      "\n",
      "/var/folders/s8/zqdvt79d34nd7fs16cr64b7r0000gn/T/ipykernel_98289/2576507773.py:2: PerformanceWarning:\n",
      "\n",
      "DataFrame is highly fragmented.  This is usually the result of calling `frame.insert` many times, which has poor performance.  Consider joining all columns at once using pd.concat(axis=1) instead. To get a de-fragmented frame, use `newframe = frame.copy()`\n",
      "\n",
      "/var/folders/s8/zqdvt79d34nd7fs16cr64b7r0000gn/T/ipykernel_98289/2576507773.py:2: PerformanceWarning:\n",
      "\n",
      "DataFrame is highly fragmented.  This is usually the result of calling `frame.insert` many times, which has poor performance.  Consider joining all columns at once using pd.concat(axis=1) instead. To get a de-fragmented frame, use `newframe = frame.copy()`\n",
      "\n",
      "/var/folders/s8/zqdvt79d34nd7fs16cr64b7r0000gn/T/ipykernel_98289/2576507773.py:2: PerformanceWarning:\n",
      "\n",
      "DataFrame is highly fragmented.  This is usually the result of calling `frame.insert` many times, which has poor performance.  Consider joining all columns at once using pd.concat(axis=1) instead. To get a de-fragmented frame, use `newframe = frame.copy()`\n",
      "\n",
      "/var/folders/s8/zqdvt79d34nd7fs16cr64b7r0000gn/T/ipykernel_98289/2576507773.py:2: PerformanceWarning:\n",
      "\n",
      "DataFrame is highly fragmented.  This is usually the result of calling `frame.insert` many times, which has poor performance.  Consider joining all columns at once using pd.concat(axis=1) instead. To get a de-fragmented frame, use `newframe = frame.copy()`\n",
      "\n",
      "/var/folders/s8/zqdvt79d34nd7fs16cr64b7r0000gn/T/ipykernel_98289/2576507773.py:2: PerformanceWarning:\n",
      "\n",
      "DataFrame is highly fragmented.  This is usually the result of calling `frame.insert` many times, which has poor performance.  Consider joining all columns at once using pd.concat(axis=1) instead. To get a de-fragmented frame, use `newframe = frame.copy()`\n",
      "\n",
      "/var/folders/s8/zqdvt79d34nd7fs16cr64b7r0000gn/T/ipykernel_98289/2576507773.py:2: PerformanceWarning:\n",
      "\n",
      "DataFrame is highly fragmented.  This is usually the result of calling `frame.insert` many times, which has poor performance.  Consider joining all columns at once using pd.concat(axis=1) instead. To get a de-fragmented frame, use `newframe = frame.copy()`\n",
      "\n",
      "/var/folders/s8/zqdvt79d34nd7fs16cr64b7r0000gn/T/ipykernel_98289/2576507773.py:2: PerformanceWarning:\n",
      "\n",
      "DataFrame is highly fragmented.  This is usually the result of calling `frame.insert` many times, which has poor performance.  Consider joining all columns at once using pd.concat(axis=1) instead. To get a de-fragmented frame, use `newframe = frame.copy()`\n",
      "\n",
      "/var/folders/s8/zqdvt79d34nd7fs16cr64b7r0000gn/T/ipykernel_98289/2576507773.py:2: PerformanceWarning:\n",
      "\n",
      "DataFrame is highly fragmented.  This is usually the result of calling `frame.insert` many times, which has poor performance.  Consider joining all columns at once using pd.concat(axis=1) instead. To get a de-fragmented frame, use `newframe = frame.copy()`\n",
      "\n",
      "/var/folders/s8/zqdvt79d34nd7fs16cr64b7r0000gn/T/ipykernel_98289/2576507773.py:2: PerformanceWarning:\n",
      "\n",
      "DataFrame is highly fragmented.  This is usually the result of calling `frame.insert` many times, which has poor performance.  Consider joining all columns at once using pd.concat(axis=1) instead. To get a de-fragmented frame, use `newframe = frame.copy()`\n",
      "\n",
      "/var/folders/s8/zqdvt79d34nd7fs16cr64b7r0000gn/T/ipykernel_98289/2576507773.py:2: PerformanceWarning:\n",
      "\n",
      "DataFrame is highly fragmented.  This is usually the result of calling `frame.insert` many times, which has poor performance.  Consider joining all columns at once using pd.concat(axis=1) instead. To get a de-fragmented frame, use `newframe = frame.copy()`\n",
      "\n",
      "/var/folders/s8/zqdvt79d34nd7fs16cr64b7r0000gn/T/ipykernel_98289/2576507773.py:2: PerformanceWarning:\n",
      "\n",
      "DataFrame is highly fragmented.  This is usually the result of calling `frame.insert` many times, which has poor performance.  Consider joining all columns at once using pd.concat(axis=1) instead. To get a de-fragmented frame, use `newframe = frame.copy()`\n",
      "\n",
      "/var/folders/s8/zqdvt79d34nd7fs16cr64b7r0000gn/T/ipykernel_98289/2576507773.py:2: PerformanceWarning:\n",
      "\n",
      "DataFrame is highly fragmented.  This is usually the result of calling `frame.insert` many times, which has poor performance.  Consider joining all columns at once using pd.concat(axis=1) instead. To get a de-fragmented frame, use `newframe = frame.copy()`\n",
      "\n",
      "/var/folders/s8/zqdvt79d34nd7fs16cr64b7r0000gn/T/ipykernel_98289/2576507773.py:2: PerformanceWarning:\n",
      "\n",
      "DataFrame is highly fragmented.  This is usually the result of calling `frame.insert` many times, which has poor performance.  Consider joining all columns at once using pd.concat(axis=1) instead. To get a de-fragmented frame, use `newframe = frame.copy()`\n",
      "\n",
      "/var/folders/s8/zqdvt79d34nd7fs16cr64b7r0000gn/T/ipykernel_98289/2576507773.py:2: PerformanceWarning:\n",
      "\n",
      "DataFrame is highly fragmented.  This is usually the result of calling `frame.insert` many times, which has poor performance.  Consider joining all columns at once using pd.concat(axis=1) instead. To get a de-fragmented frame, use `newframe = frame.copy()`\n",
      "\n",
      "/var/folders/s8/zqdvt79d34nd7fs16cr64b7r0000gn/T/ipykernel_98289/2576507773.py:2: PerformanceWarning:\n",
      "\n",
      "DataFrame is highly fragmented.  This is usually the result of calling `frame.insert` many times, which has poor performance.  Consider joining all columns at once using pd.concat(axis=1) instead. To get a de-fragmented frame, use `newframe = frame.copy()`\n",
      "\n",
      "/var/folders/s8/zqdvt79d34nd7fs16cr64b7r0000gn/T/ipykernel_98289/2576507773.py:2: PerformanceWarning:\n",
      "\n",
      "DataFrame is highly fragmented.  This is usually the result of calling `frame.insert` many times, which has poor performance.  Consider joining all columns at once using pd.concat(axis=1) instead. To get a de-fragmented frame, use `newframe = frame.copy()`\n",
      "\n",
      "/var/folders/s8/zqdvt79d34nd7fs16cr64b7r0000gn/T/ipykernel_98289/2576507773.py:2: PerformanceWarning:\n",
      "\n",
      "DataFrame is highly fragmented.  This is usually the result of calling `frame.insert` many times, which has poor performance.  Consider joining all columns at once using pd.concat(axis=1) instead. To get a de-fragmented frame, use `newframe = frame.copy()`\n",
      "\n",
      "/var/folders/s8/zqdvt79d34nd7fs16cr64b7r0000gn/T/ipykernel_98289/2576507773.py:2: PerformanceWarning:\n",
      "\n",
      "DataFrame is highly fragmented.  This is usually the result of calling `frame.insert` many times, which has poor performance.  Consider joining all columns at once using pd.concat(axis=1) instead. To get a de-fragmented frame, use `newframe = frame.copy()`\n",
      "\n",
      "/var/folders/s8/zqdvt79d34nd7fs16cr64b7r0000gn/T/ipykernel_98289/2576507773.py:2: PerformanceWarning:\n",
      "\n",
      "DataFrame is highly fragmented.  This is usually the result of calling `frame.insert` many times, which has poor performance.  Consider joining all columns at once using pd.concat(axis=1) instead. To get a de-fragmented frame, use `newframe = frame.copy()`\n",
      "\n",
      "/var/folders/s8/zqdvt79d34nd7fs16cr64b7r0000gn/T/ipykernel_98289/2576507773.py:2: PerformanceWarning:\n",
      "\n",
      "DataFrame is highly fragmented.  This is usually the result of calling `frame.insert` many times, which has poor performance.  Consider joining all columns at once using pd.concat(axis=1) instead. To get a de-fragmented frame, use `newframe = frame.copy()`\n",
      "\n",
      "/var/folders/s8/zqdvt79d34nd7fs16cr64b7r0000gn/T/ipykernel_98289/2576507773.py:2: PerformanceWarning:\n",
      "\n",
      "DataFrame is highly fragmented.  This is usually the result of calling `frame.insert` many times, which has poor performance.  Consider joining all columns at once using pd.concat(axis=1) instead. To get a de-fragmented frame, use `newframe = frame.copy()`\n",
      "\n",
      "/var/folders/s8/zqdvt79d34nd7fs16cr64b7r0000gn/T/ipykernel_98289/2576507773.py:2: PerformanceWarning:\n",
      "\n",
      "DataFrame is highly fragmented.  This is usually the result of calling `frame.insert` many times, which has poor performance.  Consider joining all columns at once using pd.concat(axis=1) instead. To get a de-fragmented frame, use `newframe = frame.copy()`\n",
      "\n",
      "/var/folders/s8/zqdvt79d34nd7fs16cr64b7r0000gn/T/ipykernel_98289/2576507773.py:2: PerformanceWarning:\n",
      "\n",
      "DataFrame is highly fragmented.  This is usually the result of calling `frame.insert` many times, which has poor performance.  Consider joining all columns at once using pd.concat(axis=1) instead. To get a de-fragmented frame, use `newframe = frame.copy()`\n",
      "\n",
      "/var/folders/s8/zqdvt79d34nd7fs16cr64b7r0000gn/T/ipykernel_98289/2576507773.py:2: PerformanceWarning:\n",
      "\n",
      "DataFrame is highly fragmented.  This is usually the result of calling `frame.insert` many times, which has poor performance.  Consider joining all columns at once using pd.concat(axis=1) instead. To get a de-fragmented frame, use `newframe = frame.copy()`\n",
      "\n",
      "/var/folders/s8/zqdvt79d34nd7fs16cr64b7r0000gn/T/ipykernel_98289/2576507773.py:2: PerformanceWarning:\n",
      "\n",
      "DataFrame is highly fragmented.  This is usually the result of calling `frame.insert` many times, which has poor performance.  Consider joining all columns at once using pd.concat(axis=1) instead. To get a de-fragmented frame, use `newframe = frame.copy()`\n",
      "\n",
      "/var/folders/s8/zqdvt79d34nd7fs16cr64b7r0000gn/T/ipykernel_98289/2576507773.py:2: PerformanceWarning:\n",
      "\n",
      "DataFrame is highly fragmented.  This is usually the result of calling `frame.insert` many times, which has poor performance.  Consider joining all columns at once using pd.concat(axis=1) instead. To get a de-fragmented frame, use `newframe = frame.copy()`\n",
      "\n",
      "/var/folders/s8/zqdvt79d34nd7fs16cr64b7r0000gn/T/ipykernel_98289/2576507773.py:2: PerformanceWarning:\n",
      "\n",
      "DataFrame is highly fragmented.  This is usually the result of calling `frame.insert` many times, which has poor performance.  Consider joining all columns at once using pd.concat(axis=1) instead. To get a de-fragmented frame, use `newframe = frame.copy()`\n",
      "\n",
      "/var/folders/s8/zqdvt79d34nd7fs16cr64b7r0000gn/T/ipykernel_98289/2576507773.py:2: PerformanceWarning:\n",
      "\n",
      "DataFrame is highly fragmented.  This is usually the result of calling `frame.insert` many times, which has poor performance.  Consider joining all columns at once using pd.concat(axis=1) instead. To get a de-fragmented frame, use `newframe = frame.copy()`\n",
      "\n",
      "/var/folders/s8/zqdvt79d34nd7fs16cr64b7r0000gn/T/ipykernel_98289/2576507773.py:2: PerformanceWarning:\n",
      "\n",
      "DataFrame is highly fragmented.  This is usually the result of calling `frame.insert` many times, which has poor performance.  Consider joining all columns at once using pd.concat(axis=1) instead. To get a de-fragmented frame, use `newframe = frame.copy()`\n",
      "\n",
      "/var/folders/s8/zqdvt79d34nd7fs16cr64b7r0000gn/T/ipykernel_98289/2576507773.py:2: PerformanceWarning:\n",
      "\n",
      "DataFrame is highly fragmented.  This is usually the result of calling `frame.insert` many times, which has poor performance.  Consider joining all columns at once using pd.concat(axis=1) instead. To get a de-fragmented frame, use `newframe = frame.copy()`\n",
      "\n",
      "/var/folders/s8/zqdvt79d34nd7fs16cr64b7r0000gn/T/ipykernel_98289/2576507773.py:2: PerformanceWarning:\n",
      "\n",
      "DataFrame is highly fragmented.  This is usually the result of calling `frame.insert` many times, which has poor performance.  Consider joining all columns at once using pd.concat(axis=1) instead. To get a de-fragmented frame, use `newframe = frame.copy()`\n",
      "\n",
      "/var/folders/s8/zqdvt79d34nd7fs16cr64b7r0000gn/T/ipykernel_98289/2576507773.py:2: PerformanceWarning:\n",
      "\n",
      "DataFrame is highly fragmented.  This is usually the result of calling `frame.insert` many times, which has poor performance.  Consider joining all columns at once using pd.concat(axis=1) instead. To get a de-fragmented frame, use `newframe = frame.copy()`\n",
      "\n",
      "/var/folders/s8/zqdvt79d34nd7fs16cr64b7r0000gn/T/ipykernel_98289/2576507773.py:2: PerformanceWarning:\n",
      "\n",
      "DataFrame is highly fragmented.  This is usually the result of calling `frame.insert` many times, which has poor performance.  Consider joining all columns at once using pd.concat(axis=1) instead. To get a de-fragmented frame, use `newframe = frame.copy()`\n",
      "\n",
      "/var/folders/s8/zqdvt79d34nd7fs16cr64b7r0000gn/T/ipykernel_98289/2576507773.py:2: PerformanceWarning:\n",
      "\n",
      "DataFrame is highly fragmented.  This is usually the result of calling `frame.insert` many times, which has poor performance.  Consider joining all columns at once using pd.concat(axis=1) instead. To get a de-fragmented frame, use `newframe = frame.copy()`\n",
      "\n",
      "/var/folders/s8/zqdvt79d34nd7fs16cr64b7r0000gn/T/ipykernel_98289/2576507773.py:2: PerformanceWarning:\n",
      "\n",
      "DataFrame is highly fragmented.  This is usually the result of calling `frame.insert` many times, which has poor performance.  Consider joining all columns at once using pd.concat(axis=1) instead. To get a de-fragmented frame, use `newframe = frame.copy()`\n",
      "\n",
      "/var/folders/s8/zqdvt79d34nd7fs16cr64b7r0000gn/T/ipykernel_98289/2576507773.py:2: PerformanceWarning:\n",
      "\n",
      "DataFrame is highly fragmented.  This is usually the result of calling `frame.insert` many times, which has poor performance.  Consider joining all columns at once using pd.concat(axis=1) instead. To get a de-fragmented frame, use `newframe = frame.copy()`\n",
      "\n",
      "/var/folders/s8/zqdvt79d34nd7fs16cr64b7r0000gn/T/ipykernel_98289/2576507773.py:2: PerformanceWarning:\n",
      "\n",
      "DataFrame is highly fragmented.  This is usually the result of calling `frame.insert` many times, which has poor performance.  Consider joining all columns at once using pd.concat(axis=1) instead. To get a de-fragmented frame, use `newframe = frame.copy()`\n",
      "\n",
      "/var/folders/s8/zqdvt79d34nd7fs16cr64b7r0000gn/T/ipykernel_98289/2576507773.py:2: PerformanceWarning:\n",
      "\n",
      "DataFrame is highly fragmented.  This is usually the result of calling `frame.insert` many times, which has poor performance.  Consider joining all columns at once using pd.concat(axis=1) instead. To get a de-fragmented frame, use `newframe = frame.copy()`\n",
      "\n",
      "/var/folders/s8/zqdvt79d34nd7fs16cr64b7r0000gn/T/ipykernel_98289/2576507773.py:2: PerformanceWarning:\n",
      "\n",
      "DataFrame is highly fragmented.  This is usually the result of calling `frame.insert` many times, which has poor performance.  Consider joining all columns at once using pd.concat(axis=1) instead. To get a de-fragmented frame, use `newframe = frame.copy()`\n",
      "\n",
      "/var/folders/s8/zqdvt79d34nd7fs16cr64b7r0000gn/T/ipykernel_98289/2576507773.py:2: PerformanceWarning:\n",
      "\n",
      "DataFrame is highly fragmented.  This is usually the result of calling `frame.insert` many times, which has poor performance.  Consider joining all columns at once using pd.concat(axis=1) instead. To get a de-fragmented frame, use `newframe = frame.copy()`\n",
      "\n",
      "/var/folders/s8/zqdvt79d34nd7fs16cr64b7r0000gn/T/ipykernel_98289/2576507773.py:2: PerformanceWarning:\n",
      "\n",
      "DataFrame is highly fragmented.  This is usually the result of calling `frame.insert` many times, which has poor performance.  Consider joining all columns at once using pd.concat(axis=1) instead. To get a de-fragmented frame, use `newframe = frame.copy()`\n",
      "\n",
      "/var/folders/s8/zqdvt79d34nd7fs16cr64b7r0000gn/T/ipykernel_98289/2576507773.py:2: PerformanceWarning:\n",
      "\n",
      "DataFrame is highly fragmented.  This is usually the result of calling `frame.insert` many times, which has poor performance.  Consider joining all columns at once using pd.concat(axis=1) instead. To get a de-fragmented frame, use `newframe = frame.copy()`\n",
      "\n",
      "/var/folders/s8/zqdvt79d34nd7fs16cr64b7r0000gn/T/ipykernel_98289/2576507773.py:2: PerformanceWarning:\n",
      "\n",
      "DataFrame is highly fragmented.  This is usually the result of calling `frame.insert` many times, which has poor performance.  Consider joining all columns at once using pd.concat(axis=1) instead. To get a de-fragmented frame, use `newframe = frame.copy()`\n",
      "\n",
      "/var/folders/s8/zqdvt79d34nd7fs16cr64b7r0000gn/T/ipykernel_98289/2576507773.py:2: PerformanceWarning:\n",
      "\n",
      "DataFrame is highly fragmented.  This is usually the result of calling `frame.insert` many times, which has poor performance.  Consider joining all columns at once using pd.concat(axis=1) instead. To get a de-fragmented frame, use `newframe = frame.copy()`\n",
      "\n",
      "/var/folders/s8/zqdvt79d34nd7fs16cr64b7r0000gn/T/ipykernel_98289/2576507773.py:2: PerformanceWarning:\n",
      "\n",
      "DataFrame is highly fragmented.  This is usually the result of calling `frame.insert` many times, which has poor performance.  Consider joining all columns at once using pd.concat(axis=1) instead. To get a de-fragmented frame, use `newframe = frame.copy()`\n",
      "\n",
      "/var/folders/s8/zqdvt79d34nd7fs16cr64b7r0000gn/T/ipykernel_98289/2576507773.py:2: PerformanceWarning:\n",
      "\n",
      "DataFrame is highly fragmented.  This is usually the result of calling `frame.insert` many times, which has poor performance.  Consider joining all columns at once using pd.concat(axis=1) instead. To get a de-fragmented frame, use `newframe = frame.copy()`\n",
      "\n",
      "/var/folders/s8/zqdvt79d34nd7fs16cr64b7r0000gn/T/ipykernel_98289/2576507773.py:2: PerformanceWarning:\n",
      "\n",
      "DataFrame is highly fragmented.  This is usually the result of calling `frame.insert` many times, which has poor performance.  Consider joining all columns at once using pd.concat(axis=1) instead. To get a de-fragmented frame, use `newframe = frame.copy()`\n",
      "\n",
      "/var/folders/s8/zqdvt79d34nd7fs16cr64b7r0000gn/T/ipykernel_98289/2576507773.py:2: PerformanceWarning:\n",
      "\n",
      "DataFrame is highly fragmented.  This is usually the result of calling `frame.insert` many times, which has poor performance.  Consider joining all columns at once using pd.concat(axis=1) instead. To get a de-fragmented frame, use `newframe = frame.copy()`\n",
      "\n",
      "/var/folders/s8/zqdvt79d34nd7fs16cr64b7r0000gn/T/ipykernel_98289/2576507773.py:2: PerformanceWarning:\n",
      "\n",
      "DataFrame is highly fragmented.  This is usually the result of calling `frame.insert` many times, which has poor performance.  Consider joining all columns at once using pd.concat(axis=1) instead. To get a de-fragmented frame, use `newframe = frame.copy()`\n",
      "\n",
      "/var/folders/s8/zqdvt79d34nd7fs16cr64b7r0000gn/T/ipykernel_98289/2576507773.py:2: PerformanceWarning:\n",
      "\n",
      "DataFrame is highly fragmented.  This is usually the result of calling `frame.insert` many times, which has poor performance.  Consider joining all columns at once using pd.concat(axis=1) instead. To get a de-fragmented frame, use `newframe = frame.copy()`\n",
      "\n",
      "/var/folders/s8/zqdvt79d34nd7fs16cr64b7r0000gn/T/ipykernel_98289/2576507773.py:2: PerformanceWarning:\n",
      "\n",
      "DataFrame is highly fragmented.  This is usually the result of calling `frame.insert` many times, which has poor performance.  Consider joining all columns at once using pd.concat(axis=1) instead. To get a de-fragmented frame, use `newframe = frame.copy()`\n",
      "\n",
      "/var/folders/s8/zqdvt79d34nd7fs16cr64b7r0000gn/T/ipykernel_98289/2576507773.py:2: PerformanceWarning:\n",
      "\n",
      "DataFrame is highly fragmented.  This is usually the result of calling `frame.insert` many times, which has poor performance.  Consider joining all columns at once using pd.concat(axis=1) instead. To get a de-fragmented frame, use `newframe = frame.copy()`\n",
      "\n",
      "/var/folders/s8/zqdvt79d34nd7fs16cr64b7r0000gn/T/ipykernel_98289/2576507773.py:2: PerformanceWarning:\n",
      "\n",
      "DataFrame is highly fragmented.  This is usually the result of calling `frame.insert` many times, which has poor performance.  Consider joining all columns at once using pd.concat(axis=1) instead. To get a de-fragmented frame, use `newframe = frame.copy()`\n",
      "\n",
      "/var/folders/s8/zqdvt79d34nd7fs16cr64b7r0000gn/T/ipykernel_98289/2576507773.py:2: PerformanceWarning:\n",
      "\n",
      "DataFrame is highly fragmented.  This is usually the result of calling `frame.insert` many times, which has poor performance.  Consider joining all columns at once using pd.concat(axis=1) instead. To get a de-fragmented frame, use `newframe = frame.copy()`\n",
      "\n",
      "/var/folders/s8/zqdvt79d34nd7fs16cr64b7r0000gn/T/ipykernel_98289/2576507773.py:2: PerformanceWarning:\n",
      "\n",
      "DataFrame is highly fragmented.  This is usually the result of calling `frame.insert` many times, which has poor performance.  Consider joining all columns at once using pd.concat(axis=1) instead. To get a de-fragmented frame, use `newframe = frame.copy()`\n",
      "\n",
      "/var/folders/s8/zqdvt79d34nd7fs16cr64b7r0000gn/T/ipykernel_98289/2576507773.py:2: PerformanceWarning:\n",
      "\n",
      "DataFrame is highly fragmented.  This is usually the result of calling `frame.insert` many times, which has poor performance.  Consider joining all columns at once using pd.concat(axis=1) instead. To get a de-fragmented frame, use `newframe = frame.copy()`\n",
      "\n",
      "/var/folders/s8/zqdvt79d34nd7fs16cr64b7r0000gn/T/ipykernel_98289/2576507773.py:2: PerformanceWarning:\n",
      "\n",
      "DataFrame is highly fragmented.  This is usually the result of calling `frame.insert` many times, which has poor performance.  Consider joining all columns at once using pd.concat(axis=1) instead. To get a de-fragmented frame, use `newframe = frame.copy()`\n",
      "\n",
      "/var/folders/s8/zqdvt79d34nd7fs16cr64b7r0000gn/T/ipykernel_98289/2576507773.py:2: PerformanceWarning:\n",
      "\n",
      "DataFrame is highly fragmented.  This is usually the result of calling `frame.insert` many times, which has poor performance.  Consider joining all columns at once using pd.concat(axis=1) instead. To get a de-fragmented frame, use `newframe = frame.copy()`\n",
      "\n",
      "/var/folders/s8/zqdvt79d34nd7fs16cr64b7r0000gn/T/ipykernel_98289/2576507773.py:2: PerformanceWarning:\n",
      "\n",
      "DataFrame is highly fragmented.  This is usually the result of calling `frame.insert` many times, which has poor performance.  Consider joining all columns at once using pd.concat(axis=1) instead. To get a de-fragmented frame, use `newframe = frame.copy()`\n",
      "\n",
      "/var/folders/s8/zqdvt79d34nd7fs16cr64b7r0000gn/T/ipykernel_98289/2576507773.py:2: PerformanceWarning:\n",
      "\n",
      "DataFrame is highly fragmented.  This is usually the result of calling `frame.insert` many times, which has poor performance.  Consider joining all columns at once using pd.concat(axis=1) instead. To get a de-fragmented frame, use `newframe = frame.copy()`\n",
      "\n",
      "/var/folders/s8/zqdvt79d34nd7fs16cr64b7r0000gn/T/ipykernel_98289/2576507773.py:2: PerformanceWarning:\n",
      "\n",
      "DataFrame is highly fragmented.  This is usually the result of calling `frame.insert` many times, which has poor performance.  Consider joining all columns at once using pd.concat(axis=1) instead. To get a de-fragmented frame, use `newframe = frame.copy()`\n",
      "\n",
      "/var/folders/s8/zqdvt79d34nd7fs16cr64b7r0000gn/T/ipykernel_98289/2576507773.py:2: PerformanceWarning:\n",
      "\n",
      "DataFrame is highly fragmented.  This is usually the result of calling `frame.insert` many times, which has poor performance.  Consider joining all columns at once using pd.concat(axis=1) instead. To get a de-fragmented frame, use `newframe = frame.copy()`\n",
      "\n",
      "/var/folders/s8/zqdvt79d34nd7fs16cr64b7r0000gn/T/ipykernel_98289/2576507773.py:2: PerformanceWarning:\n",
      "\n",
      "DataFrame is highly fragmented.  This is usually the result of calling `frame.insert` many times, which has poor performance.  Consider joining all columns at once using pd.concat(axis=1) instead. To get a de-fragmented frame, use `newframe = frame.copy()`\n",
      "\n",
      "/var/folders/s8/zqdvt79d34nd7fs16cr64b7r0000gn/T/ipykernel_98289/2576507773.py:2: PerformanceWarning:\n",
      "\n",
      "DataFrame is highly fragmented.  This is usually the result of calling `frame.insert` many times, which has poor performance.  Consider joining all columns at once using pd.concat(axis=1) instead. To get a de-fragmented frame, use `newframe = frame.copy()`\n",
      "\n",
      "/var/folders/s8/zqdvt79d34nd7fs16cr64b7r0000gn/T/ipykernel_98289/2576507773.py:2: PerformanceWarning:\n",
      "\n",
      "DataFrame is highly fragmented.  This is usually the result of calling `frame.insert` many times, which has poor performance.  Consider joining all columns at once using pd.concat(axis=1) instead. To get a de-fragmented frame, use `newframe = frame.copy()`\n",
      "\n",
      "/var/folders/s8/zqdvt79d34nd7fs16cr64b7r0000gn/T/ipykernel_98289/2576507773.py:2: PerformanceWarning:\n",
      "\n",
      "DataFrame is highly fragmented.  This is usually the result of calling `frame.insert` many times, which has poor performance.  Consider joining all columns at once using pd.concat(axis=1) instead. To get a de-fragmented frame, use `newframe = frame.copy()`\n",
      "\n",
      "/var/folders/s8/zqdvt79d34nd7fs16cr64b7r0000gn/T/ipykernel_98289/2576507773.py:2: PerformanceWarning:\n",
      "\n",
      "DataFrame is highly fragmented.  This is usually the result of calling `frame.insert` many times, which has poor performance.  Consider joining all columns at once using pd.concat(axis=1) instead. To get a de-fragmented frame, use `newframe = frame.copy()`\n",
      "\n",
      "/var/folders/s8/zqdvt79d34nd7fs16cr64b7r0000gn/T/ipykernel_98289/2576507773.py:2: PerformanceWarning:\n",
      "\n",
      "DataFrame is highly fragmented.  This is usually the result of calling `frame.insert` many times, which has poor performance.  Consider joining all columns at once using pd.concat(axis=1) instead. To get a de-fragmented frame, use `newframe = frame.copy()`\n",
      "\n",
      "/var/folders/s8/zqdvt79d34nd7fs16cr64b7r0000gn/T/ipykernel_98289/2576507773.py:2: PerformanceWarning:\n",
      "\n",
      "DataFrame is highly fragmented.  This is usually the result of calling `frame.insert` many times, which has poor performance.  Consider joining all columns at once using pd.concat(axis=1) instead. To get a de-fragmented frame, use `newframe = frame.copy()`\n",
      "\n",
      "/var/folders/s8/zqdvt79d34nd7fs16cr64b7r0000gn/T/ipykernel_98289/2576507773.py:2: PerformanceWarning:\n",
      "\n",
      "DataFrame is highly fragmented.  This is usually the result of calling `frame.insert` many times, which has poor performance.  Consider joining all columns at once using pd.concat(axis=1) instead. To get a de-fragmented frame, use `newframe = frame.copy()`\n",
      "\n",
      "/var/folders/s8/zqdvt79d34nd7fs16cr64b7r0000gn/T/ipykernel_98289/2576507773.py:2: PerformanceWarning:\n",
      "\n",
      "DataFrame is highly fragmented.  This is usually the result of calling `frame.insert` many times, which has poor performance.  Consider joining all columns at once using pd.concat(axis=1) instead. To get a de-fragmented frame, use `newframe = frame.copy()`\n",
      "\n",
      "/var/folders/s8/zqdvt79d34nd7fs16cr64b7r0000gn/T/ipykernel_98289/2576507773.py:2: PerformanceWarning:\n",
      "\n",
      "DataFrame is highly fragmented.  This is usually the result of calling `frame.insert` many times, which has poor performance.  Consider joining all columns at once using pd.concat(axis=1) instead. To get a de-fragmented frame, use `newframe = frame.copy()`\n",
      "\n",
      "/var/folders/s8/zqdvt79d34nd7fs16cr64b7r0000gn/T/ipykernel_98289/2576507773.py:2: PerformanceWarning:\n",
      "\n",
      "DataFrame is highly fragmented.  This is usually the result of calling `frame.insert` many times, which has poor performance.  Consider joining all columns at once using pd.concat(axis=1) instead. To get a de-fragmented frame, use `newframe = frame.copy()`\n",
      "\n",
      "/var/folders/s8/zqdvt79d34nd7fs16cr64b7r0000gn/T/ipykernel_98289/2576507773.py:2: PerformanceWarning:\n",
      "\n",
      "DataFrame is highly fragmented.  This is usually the result of calling `frame.insert` many times, which has poor performance.  Consider joining all columns at once using pd.concat(axis=1) instead. To get a de-fragmented frame, use `newframe = frame.copy()`\n",
      "\n",
      "/var/folders/s8/zqdvt79d34nd7fs16cr64b7r0000gn/T/ipykernel_98289/2576507773.py:2: PerformanceWarning:\n",
      "\n",
      "DataFrame is highly fragmented.  This is usually the result of calling `frame.insert` many times, which has poor performance.  Consider joining all columns at once using pd.concat(axis=1) instead. To get a de-fragmented frame, use `newframe = frame.copy()`\n",
      "\n",
      "/var/folders/s8/zqdvt79d34nd7fs16cr64b7r0000gn/T/ipykernel_98289/2576507773.py:2: PerformanceWarning:\n",
      "\n",
      "DataFrame is highly fragmented.  This is usually the result of calling `frame.insert` many times, which has poor performance.  Consider joining all columns at once using pd.concat(axis=1) instead. To get a de-fragmented frame, use `newframe = frame.copy()`\n",
      "\n",
      "/var/folders/s8/zqdvt79d34nd7fs16cr64b7r0000gn/T/ipykernel_98289/2576507773.py:2: PerformanceWarning:\n",
      "\n",
      "DataFrame is highly fragmented.  This is usually the result of calling `frame.insert` many times, which has poor performance.  Consider joining all columns at once using pd.concat(axis=1) instead. To get a de-fragmented frame, use `newframe = frame.copy()`\n",
      "\n",
      "/var/folders/s8/zqdvt79d34nd7fs16cr64b7r0000gn/T/ipykernel_98289/2576507773.py:2: PerformanceWarning:\n",
      "\n",
      "DataFrame is highly fragmented.  This is usually the result of calling `frame.insert` many times, which has poor performance.  Consider joining all columns at once using pd.concat(axis=1) instead. To get a de-fragmented frame, use `newframe = frame.copy()`\n",
      "\n",
      "/var/folders/s8/zqdvt79d34nd7fs16cr64b7r0000gn/T/ipykernel_98289/2576507773.py:2: PerformanceWarning:\n",
      "\n",
      "DataFrame is highly fragmented.  This is usually the result of calling `frame.insert` many times, which has poor performance.  Consider joining all columns at once using pd.concat(axis=1) instead. To get a de-fragmented frame, use `newframe = frame.copy()`\n",
      "\n",
      "/var/folders/s8/zqdvt79d34nd7fs16cr64b7r0000gn/T/ipykernel_98289/2576507773.py:2: PerformanceWarning:\n",
      "\n",
      "DataFrame is highly fragmented.  This is usually the result of calling `frame.insert` many times, which has poor performance.  Consider joining all columns at once using pd.concat(axis=1) instead. To get a de-fragmented frame, use `newframe = frame.copy()`\n",
      "\n",
      "/var/folders/s8/zqdvt79d34nd7fs16cr64b7r0000gn/T/ipykernel_98289/2576507773.py:2: PerformanceWarning:\n",
      "\n",
      "DataFrame is highly fragmented.  This is usually the result of calling `frame.insert` many times, which has poor performance.  Consider joining all columns at once using pd.concat(axis=1) instead. To get a de-fragmented frame, use `newframe = frame.copy()`\n",
      "\n",
      "/var/folders/s8/zqdvt79d34nd7fs16cr64b7r0000gn/T/ipykernel_98289/2576507773.py:2: PerformanceWarning:\n",
      "\n",
      "DataFrame is highly fragmented.  This is usually the result of calling `frame.insert` many times, which has poor performance.  Consider joining all columns at once using pd.concat(axis=1) instead. To get a de-fragmented frame, use `newframe = frame.copy()`\n",
      "\n",
      "/var/folders/s8/zqdvt79d34nd7fs16cr64b7r0000gn/T/ipykernel_98289/2576507773.py:2: PerformanceWarning:\n",
      "\n",
      "DataFrame is highly fragmented.  This is usually the result of calling `frame.insert` many times, which has poor performance.  Consider joining all columns at once using pd.concat(axis=1) instead. To get a de-fragmented frame, use `newframe = frame.copy()`\n",
      "\n",
      "/var/folders/s8/zqdvt79d34nd7fs16cr64b7r0000gn/T/ipykernel_98289/2576507773.py:2: PerformanceWarning:\n",
      "\n",
      "DataFrame is highly fragmented.  This is usually the result of calling `frame.insert` many times, which has poor performance.  Consider joining all columns at once using pd.concat(axis=1) instead. To get a de-fragmented frame, use `newframe = frame.copy()`\n",
      "\n",
      "/var/folders/s8/zqdvt79d34nd7fs16cr64b7r0000gn/T/ipykernel_98289/2576507773.py:2: PerformanceWarning:\n",
      "\n",
      "DataFrame is highly fragmented.  This is usually the result of calling `frame.insert` many times, which has poor performance.  Consider joining all columns at once using pd.concat(axis=1) instead. To get a de-fragmented frame, use `newframe = frame.copy()`\n",
      "\n",
      "/var/folders/s8/zqdvt79d34nd7fs16cr64b7r0000gn/T/ipykernel_98289/2576507773.py:2: PerformanceWarning:\n",
      "\n",
      "DataFrame is highly fragmented.  This is usually the result of calling `frame.insert` many times, which has poor performance.  Consider joining all columns at once using pd.concat(axis=1) instead. To get a de-fragmented frame, use `newframe = frame.copy()`\n",
      "\n",
      "/var/folders/s8/zqdvt79d34nd7fs16cr64b7r0000gn/T/ipykernel_98289/2576507773.py:2: PerformanceWarning:\n",
      "\n",
      "DataFrame is highly fragmented.  This is usually the result of calling `frame.insert` many times, which has poor performance.  Consider joining all columns at once using pd.concat(axis=1) instead. To get a de-fragmented frame, use `newframe = frame.copy()`\n",
      "\n",
      "/var/folders/s8/zqdvt79d34nd7fs16cr64b7r0000gn/T/ipykernel_98289/2576507773.py:2: PerformanceWarning:\n",
      "\n",
      "DataFrame is highly fragmented.  This is usually the result of calling `frame.insert` many times, which has poor performance.  Consider joining all columns at once using pd.concat(axis=1) instead. To get a de-fragmented frame, use `newframe = frame.copy()`\n",
      "\n",
      "/var/folders/s8/zqdvt79d34nd7fs16cr64b7r0000gn/T/ipykernel_98289/2576507773.py:2: PerformanceWarning:\n",
      "\n",
      "DataFrame is highly fragmented.  This is usually the result of calling `frame.insert` many times, which has poor performance.  Consider joining all columns at once using pd.concat(axis=1) instead. To get a de-fragmented frame, use `newframe = frame.copy()`\n",
      "\n",
      "/var/folders/s8/zqdvt79d34nd7fs16cr64b7r0000gn/T/ipykernel_98289/2576507773.py:2: PerformanceWarning:\n",
      "\n",
      "DataFrame is highly fragmented.  This is usually the result of calling `frame.insert` many times, which has poor performance.  Consider joining all columns at once using pd.concat(axis=1) instead. To get a de-fragmented frame, use `newframe = frame.copy()`\n",
      "\n",
      "/var/folders/s8/zqdvt79d34nd7fs16cr64b7r0000gn/T/ipykernel_98289/2576507773.py:2: PerformanceWarning:\n",
      "\n",
      "DataFrame is highly fragmented.  This is usually the result of calling `frame.insert` many times, which has poor performance.  Consider joining all columns at once using pd.concat(axis=1) instead. To get a de-fragmented frame, use `newframe = frame.copy()`\n",
      "\n",
      "/var/folders/s8/zqdvt79d34nd7fs16cr64b7r0000gn/T/ipykernel_98289/2576507773.py:2: PerformanceWarning:\n",
      "\n",
      "DataFrame is highly fragmented.  This is usually the result of calling `frame.insert` many times, which has poor performance.  Consider joining all columns at once using pd.concat(axis=1) instead. To get a de-fragmented frame, use `newframe = frame.copy()`\n",
      "\n",
      "/var/folders/s8/zqdvt79d34nd7fs16cr64b7r0000gn/T/ipykernel_98289/2576507773.py:2: PerformanceWarning:\n",
      "\n",
      "DataFrame is highly fragmented.  This is usually the result of calling `frame.insert` many times, which has poor performance.  Consider joining all columns at once using pd.concat(axis=1) instead. To get a de-fragmented frame, use `newframe = frame.copy()`\n",
      "\n",
      "/var/folders/s8/zqdvt79d34nd7fs16cr64b7r0000gn/T/ipykernel_98289/2576507773.py:2: PerformanceWarning:\n",
      "\n",
      "DataFrame is highly fragmented.  This is usually the result of calling `frame.insert` many times, which has poor performance.  Consider joining all columns at once using pd.concat(axis=1) instead. To get a de-fragmented frame, use `newframe = frame.copy()`\n",
      "\n",
      "/var/folders/s8/zqdvt79d34nd7fs16cr64b7r0000gn/T/ipykernel_98289/2576507773.py:2: PerformanceWarning:\n",
      "\n",
      "DataFrame is highly fragmented.  This is usually the result of calling `frame.insert` many times, which has poor performance.  Consider joining all columns at once using pd.concat(axis=1) instead. To get a de-fragmented frame, use `newframe = frame.copy()`\n",
      "\n",
      "/var/folders/s8/zqdvt79d34nd7fs16cr64b7r0000gn/T/ipykernel_98289/2576507773.py:2: PerformanceWarning:\n",
      "\n",
      "DataFrame is highly fragmented.  This is usually the result of calling `frame.insert` many times, which has poor performance.  Consider joining all columns at once using pd.concat(axis=1) instead. To get a de-fragmented frame, use `newframe = frame.copy()`\n",
      "\n",
      "/var/folders/s8/zqdvt79d34nd7fs16cr64b7r0000gn/T/ipykernel_98289/2576507773.py:2: PerformanceWarning:\n",
      "\n",
      "DataFrame is highly fragmented.  This is usually the result of calling `frame.insert` many times, which has poor performance.  Consider joining all columns at once using pd.concat(axis=1) instead. To get a de-fragmented frame, use `newframe = frame.copy()`\n",
      "\n",
      "/var/folders/s8/zqdvt79d34nd7fs16cr64b7r0000gn/T/ipykernel_98289/2576507773.py:2: PerformanceWarning:\n",
      "\n",
      "DataFrame is highly fragmented.  This is usually the result of calling `frame.insert` many times, which has poor performance.  Consider joining all columns at once using pd.concat(axis=1) instead. To get a de-fragmented frame, use `newframe = frame.copy()`\n",
      "\n",
      "/var/folders/s8/zqdvt79d34nd7fs16cr64b7r0000gn/T/ipykernel_98289/2576507773.py:2: PerformanceWarning:\n",
      "\n",
      "DataFrame is highly fragmented.  This is usually the result of calling `frame.insert` many times, which has poor performance.  Consider joining all columns at once using pd.concat(axis=1) instead. To get a de-fragmented frame, use `newframe = frame.copy()`\n",
      "\n",
      "/var/folders/s8/zqdvt79d34nd7fs16cr64b7r0000gn/T/ipykernel_98289/2576507773.py:2: PerformanceWarning:\n",
      "\n",
      "DataFrame is highly fragmented.  This is usually the result of calling `frame.insert` many times, which has poor performance.  Consider joining all columns at once using pd.concat(axis=1) instead. To get a de-fragmented frame, use `newframe = frame.copy()`\n",
      "\n",
      "/var/folders/s8/zqdvt79d34nd7fs16cr64b7r0000gn/T/ipykernel_98289/2576507773.py:2: PerformanceWarning:\n",
      "\n",
      "DataFrame is highly fragmented.  This is usually the result of calling `frame.insert` many times, which has poor performance.  Consider joining all columns at once using pd.concat(axis=1) instead. To get a de-fragmented frame, use `newframe = frame.copy()`\n",
      "\n",
      "/var/folders/s8/zqdvt79d34nd7fs16cr64b7r0000gn/T/ipykernel_98289/2576507773.py:2: PerformanceWarning:\n",
      "\n",
      "DataFrame is highly fragmented.  This is usually the result of calling `frame.insert` many times, which has poor performance.  Consider joining all columns at once using pd.concat(axis=1) instead. To get a de-fragmented frame, use `newframe = frame.copy()`\n",
      "\n",
      "/var/folders/s8/zqdvt79d34nd7fs16cr64b7r0000gn/T/ipykernel_98289/2576507773.py:2: PerformanceWarning:\n",
      "\n",
      "DataFrame is highly fragmented.  This is usually the result of calling `frame.insert` many times, which has poor performance.  Consider joining all columns at once using pd.concat(axis=1) instead. To get a de-fragmented frame, use `newframe = frame.copy()`\n",
      "\n",
      "/var/folders/s8/zqdvt79d34nd7fs16cr64b7r0000gn/T/ipykernel_98289/2576507773.py:2: PerformanceWarning:\n",
      "\n",
      "DataFrame is highly fragmented.  This is usually the result of calling `frame.insert` many times, which has poor performance.  Consider joining all columns at once using pd.concat(axis=1) instead. To get a de-fragmented frame, use `newframe = frame.copy()`\n",
      "\n",
      "/var/folders/s8/zqdvt79d34nd7fs16cr64b7r0000gn/T/ipykernel_98289/2576507773.py:2: PerformanceWarning:\n",
      "\n",
      "DataFrame is highly fragmented.  This is usually the result of calling `frame.insert` many times, which has poor performance.  Consider joining all columns at once using pd.concat(axis=1) instead. To get a de-fragmented frame, use `newframe = frame.copy()`\n",
      "\n",
      "/var/folders/s8/zqdvt79d34nd7fs16cr64b7r0000gn/T/ipykernel_98289/2576507773.py:2: PerformanceWarning:\n",
      "\n",
      "DataFrame is highly fragmented.  This is usually the result of calling `frame.insert` many times, which has poor performance.  Consider joining all columns at once using pd.concat(axis=1) instead. To get a de-fragmented frame, use `newframe = frame.copy()`\n",
      "\n",
      "/var/folders/s8/zqdvt79d34nd7fs16cr64b7r0000gn/T/ipykernel_98289/2576507773.py:2: PerformanceWarning:\n",
      "\n",
      "DataFrame is highly fragmented.  This is usually the result of calling `frame.insert` many times, which has poor performance.  Consider joining all columns at once using pd.concat(axis=1) instead. To get a de-fragmented frame, use `newframe = frame.copy()`\n",
      "\n",
      "/var/folders/s8/zqdvt79d34nd7fs16cr64b7r0000gn/T/ipykernel_98289/2576507773.py:2: PerformanceWarning:\n",
      "\n",
      "DataFrame is highly fragmented.  This is usually the result of calling `frame.insert` many times, which has poor performance.  Consider joining all columns at once using pd.concat(axis=1) instead. To get a de-fragmented frame, use `newframe = frame.copy()`\n",
      "\n",
      "/var/folders/s8/zqdvt79d34nd7fs16cr64b7r0000gn/T/ipykernel_98289/2576507773.py:2: PerformanceWarning:\n",
      "\n",
      "DataFrame is highly fragmented.  This is usually the result of calling `frame.insert` many times, which has poor performance.  Consider joining all columns at once using pd.concat(axis=1) instead. To get a de-fragmented frame, use `newframe = frame.copy()`\n",
      "\n",
      "/var/folders/s8/zqdvt79d34nd7fs16cr64b7r0000gn/T/ipykernel_98289/2576507773.py:2: PerformanceWarning:\n",
      "\n",
      "DataFrame is highly fragmented.  This is usually the result of calling `frame.insert` many times, which has poor performance.  Consider joining all columns at once using pd.concat(axis=1) instead. To get a de-fragmented frame, use `newframe = frame.copy()`\n",
      "\n",
      "/var/folders/s8/zqdvt79d34nd7fs16cr64b7r0000gn/T/ipykernel_98289/2576507773.py:2: PerformanceWarning:\n",
      "\n",
      "DataFrame is highly fragmented.  This is usually the result of calling `frame.insert` many times, which has poor performance.  Consider joining all columns at once using pd.concat(axis=1) instead. To get a de-fragmented frame, use `newframe = frame.copy()`\n",
      "\n",
      "/var/folders/s8/zqdvt79d34nd7fs16cr64b7r0000gn/T/ipykernel_98289/2576507773.py:2: PerformanceWarning:\n",
      "\n",
      "DataFrame is highly fragmented.  This is usually the result of calling `frame.insert` many times, which has poor performance.  Consider joining all columns at once using pd.concat(axis=1) instead. To get a de-fragmented frame, use `newframe = frame.copy()`\n",
      "\n",
      "/var/folders/s8/zqdvt79d34nd7fs16cr64b7r0000gn/T/ipykernel_98289/2576507773.py:2: PerformanceWarning:\n",
      "\n",
      "DataFrame is highly fragmented.  This is usually the result of calling `frame.insert` many times, which has poor performance.  Consider joining all columns at once using pd.concat(axis=1) instead. To get a de-fragmented frame, use `newframe = frame.copy()`\n",
      "\n",
      "/var/folders/s8/zqdvt79d34nd7fs16cr64b7r0000gn/T/ipykernel_98289/2576507773.py:2: PerformanceWarning:\n",
      "\n",
      "DataFrame is highly fragmented.  This is usually the result of calling `frame.insert` many times, which has poor performance.  Consider joining all columns at once using pd.concat(axis=1) instead. To get a de-fragmented frame, use `newframe = frame.copy()`\n",
      "\n",
      "/var/folders/s8/zqdvt79d34nd7fs16cr64b7r0000gn/T/ipykernel_98289/2576507773.py:2: PerformanceWarning:\n",
      "\n",
      "DataFrame is highly fragmented.  This is usually the result of calling `frame.insert` many times, which has poor performance.  Consider joining all columns at once using pd.concat(axis=1) instead. To get a de-fragmented frame, use `newframe = frame.copy()`\n",
      "\n",
      "/var/folders/s8/zqdvt79d34nd7fs16cr64b7r0000gn/T/ipykernel_98289/2576507773.py:2: PerformanceWarning:\n",
      "\n",
      "DataFrame is highly fragmented.  This is usually the result of calling `frame.insert` many times, which has poor performance.  Consider joining all columns at once using pd.concat(axis=1) instead. To get a de-fragmented frame, use `newframe = frame.copy()`\n",
      "\n",
      "/var/folders/s8/zqdvt79d34nd7fs16cr64b7r0000gn/T/ipykernel_98289/2576507773.py:2: PerformanceWarning:\n",
      "\n",
      "DataFrame is highly fragmented.  This is usually the result of calling `frame.insert` many times, which has poor performance.  Consider joining all columns at once using pd.concat(axis=1) instead. To get a de-fragmented frame, use `newframe = frame.copy()`\n",
      "\n",
      "/var/folders/s8/zqdvt79d34nd7fs16cr64b7r0000gn/T/ipykernel_98289/2576507773.py:2: PerformanceWarning:\n",
      "\n",
      "DataFrame is highly fragmented.  This is usually the result of calling `frame.insert` many times, which has poor performance.  Consider joining all columns at once using pd.concat(axis=1) instead. To get a de-fragmented frame, use `newframe = frame.copy()`\n",
      "\n",
      "/var/folders/s8/zqdvt79d34nd7fs16cr64b7r0000gn/T/ipykernel_98289/2576507773.py:2: PerformanceWarning:\n",
      "\n",
      "DataFrame is highly fragmented.  This is usually the result of calling `frame.insert` many times, which has poor performance.  Consider joining all columns at once using pd.concat(axis=1) instead. To get a de-fragmented frame, use `newframe = frame.copy()`\n",
      "\n",
      "/var/folders/s8/zqdvt79d34nd7fs16cr64b7r0000gn/T/ipykernel_98289/2576507773.py:2: PerformanceWarning:\n",
      "\n",
      "DataFrame is highly fragmented.  This is usually the result of calling `frame.insert` many times, which has poor performance.  Consider joining all columns at once using pd.concat(axis=1) instead. To get a de-fragmented frame, use `newframe = frame.copy()`\n",
      "\n",
      "/var/folders/s8/zqdvt79d34nd7fs16cr64b7r0000gn/T/ipykernel_98289/2576507773.py:2: PerformanceWarning:\n",
      "\n",
      "DataFrame is highly fragmented.  This is usually the result of calling `frame.insert` many times, which has poor performance.  Consider joining all columns at once using pd.concat(axis=1) instead. To get a de-fragmented frame, use `newframe = frame.copy()`\n",
      "\n",
      "/var/folders/s8/zqdvt79d34nd7fs16cr64b7r0000gn/T/ipykernel_98289/2576507773.py:2: PerformanceWarning:\n",
      "\n",
      "DataFrame is highly fragmented.  This is usually the result of calling `frame.insert` many times, which has poor performance.  Consider joining all columns at once using pd.concat(axis=1) instead. To get a de-fragmented frame, use `newframe = frame.copy()`\n",
      "\n",
      "/var/folders/s8/zqdvt79d34nd7fs16cr64b7r0000gn/T/ipykernel_98289/2576507773.py:2: PerformanceWarning:\n",
      "\n",
      "DataFrame is highly fragmented.  This is usually the result of calling `frame.insert` many times, which has poor performance.  Consider joining all columns at once using pd.concat(axis=1) instead. To get a de-fragmented frame, use `newframe = frame.copy()`\n",
      "\n",
      "/var/folders/s8/zqdvt79d34nd7fs16cr64b7r0000gn/T/ipykernel_98289/2576507773.py:2: PerformanceWarning:\n",
      "\n",
      "DataFrame is highly fragmented.  This is usually the result of calling `frame.insert` many times, which has poor performance.  Consider joining all columns at once using pd.concat(axis=1) instead. To get a de-fragmented frame, use `newframe = frame.copy()`\n",
      "\n",
      "/var/folders/s8/zqdvt79d34nd7fs16cr64b7r0000gn/T/ipykernel_98289/2576507773.py:2: PerformanceWarning:\n",
      "\n",
      "DataFrame is highly fragmented.  This is usually the result of calling `frame.insert` many times, which has poor performance.  Consider joining all columns at once using pd.concat(axis=1) instead. To get a de-fragmented frame, use `newframe = frame.copy()`\n",
      "\n",
      "/var/folders/s8/zqdvt79d34nd7fs16cr64b7r0000gn/T/ipykernel_98289/2576507773.py:2: PerformanceWarning:\n",
      "\n",
      "DataFrame is highly fragmented.  This is usually the result of calling `frame.insert` many times, which has poor performance.  Consider joining all columns at once using pd.concat(axis=1) instead. To get a de-fragmented frame, use `newframe = frame.copy()`\n",
      "\n",
      "/var/folders/s8/zqdvt79d34nd7fs16cr64b7r0000gn/T/ipykernel_98289/2576507773.py:2: PerformanceWarning:\n",
      "\n",
      "DataFrame is highly fragmented.  This is usually the result of calling `frame.insert` many times, which has poor performance.  Consider joining all columns at once using pd.concat(axis=1) instead. To get a de-fragmented frame, use `newframe = frame.copy()`\n",
      "\n",
      "/var/folders/s8/zqdvt79d34nd7fs16cr64b7r0000gn/T/ipykernel_98289/2576507773.py:2: PerformanceWarning:\n",
      "\n",
      "DataFrame is highly fragmented.  This is usually the result of calling `frame.insert` many times, which has poor performance.  Consider joining all columns at once using pd.concat(axis=1) instead. To get a de-fragmented frame, use `newframe = frame.copy()`\n",
      "\n",
      "/var/folders/s8/zqdvt79d34nd7fs16cr64b7r0000gn/T/ipykernel_98289/2576507773.py:2: PerformanceWarning:\n",
      "\n",
      "DataFrame is highly fragmented.  This is usually the result of calling `frame.insert` many times, which has poor performance.  Consider joining all columns at once using pd.concat(axis=1) instead. To get a de-fragmented frame, use `newframe = frame.copy()`\n",
      "\n",
      "/var/folders/s8/zqdvt79d34nd7fs16cr64b7r0000gn/T/ipykernel_98289/2576507773.py:2: PerformanceWarning:\n",
      "\n",
      "DataFrame is highly fragmented.  This is usually the result of calling `frame.insert` many times, which has poor performance.  Consider joining all columns at once using pd.concat(axis=1) instead. To get a de-fragmented frame, use `newframe = frame.copy()`\n",
      "\n",
      "/var/folders/s8/zqdvt79d34nd7fs16cr64b7r0000gn/T/ipykernel_98289/2576507773.py:2: PerformanceWarning:\n",
      "\n",
      "DataFrame is highly fragmented.  This is usually the result of calling `frame.insert` many times, which has poor performance.  Consider joining all columns at once using pd.concat(axis=1) instead. To get a de-fragmented frame, use `newframe = frame.copy()`\n",
      "\n",
      "/var/folders/s8/zqdvt79d34nd7fs16cr64b7r0000gn/T/ipykernel_98289/2576507773.py:2: PerformanceWarning:\n",
      "\n",
      "DataFrame is highly fragmented.  This is usually the result of calling `frame.insert` many times, which has poor performance.  Consider joining all columns at once using pd.concat(axis=1) instead. To get a de-fragmented frame, use `newframe = frame.copy()`\n",
      "\n",
      "/var/folders/s8/zqdvt79d34nd7fs16cr64b7r0000gn/T/ipykernel_98289/2576507773.py:2: PerformanceWarning:\n",
      "\n",
      "DataFrame is highly fragmented.  This is usually the result of calling `frame.insert` many times, which has poor performance.  Consider joining all columns at once using pd.concat(axis=1) instead. To get a de-fragmented frame, use `newframe = frame.copy()`\n",
      "\n",
      "/var/folders/s8/zqdvt79d34nd7fs16cr64b7r0000gn/T/ipykernel_98289/2576507773.py:2: PerformanceWarning:\n",
      "\n",
      "DataFrame is highly fragmented.  This is usually the result of calling `frame.insert` many times, which has poor performance.  Consider joining all columns at once using pd.concat(axis=1) instead. To get a de-fragmented frame, use `newframe = frame.copy()`\n",
      "\n",
      "/var/folders/s8/zqdvt79d34nd7fs16cr64b7r0000gn/T/ipykernel_98289/2576507773.py:2: PerformanceWarning:\n",
      "\n",
      "DataFrame is highly fragmented.  This is usually the result of calling `frame.insert` many times, which has poor performance.  Consider joining all columns at once using pd.concat(axis=1) instead. To get a de-fragmented frame, use `newframe = frame.copy()`\n",
      "\n",
      "/var/folders/s8/zqdvt79d34nd7fs16cr64b7r0000gn/T/ipykernel_98289/2576507773.py:2: PerformanceWarning:\n",
      "\n",
      "DataFrame is highly fragmented.  This is usually the result of calling `frame.insert` many times, which has poor performance.  Consider joining all columns at once using pd.concat(axis=1) instead. To get a de-fragmented frame, use `newframe = frame.copy()`\n",
      "\n",
      "/var/folders/s8/zqdvt79d34nd7fs16cr64b7r0000gn/T/ipykernel_98289/2576507773.py:2: PerformanceWarning:\n",
      "\n",
      "DataFrame is highly fragmented.  This is usually the result of calling `frame.insert` many times, which has poor performance.  Consider joining all columns at once using pd.concat(axis=1) instead. To get a de-fragmented frame, use `newframe = frame.copy()`\n",
      "\n",
      "/var/folders/s8/zqdvt79d34nd7fs16cr64b7r0000gn/T/ipykernel_98289/2576507773.py:2: PerformanceWarning:\n",
      "\n",
      "DataFrame is highly fragmented.  This is usually the result of calling `frame.insert` many times, which has poor performance.  Consider joining all columns at once using pd.concat(axis=1) instead. To get a de-fragmented frame, use `newframe = frame.copy()`\n",
      "\n",
      "/var/folders/s8/zqdvt79d34nd7fs16cr64b7r0000gn/T/ipykernel_98289/2576507773.py:2: PerformanceWarning:\n",
      "\n",
      "DataFrame is highly fragmented.  This is usually the result of calling `frame.insert` many times, which has poor performance.  Consider joining all columns at once using pd.concat(axis=1) instead. To get a de-fragmented frame, use `newframe = frame.copy()`\n",
      "\n",
      "/var/folders/s8/zqdvt79d34nd7fs16cr64b7r0000gn/T/ipykernel_98289/2576507773.py:2: PerformanceWarning:\n",
      "\n",
      "DataFrame is highly fragmented.  This is usually the result of calling `frame.insert` many times, which has poor performance.  Consider joining all columns at once using pd.concat(axis=1) instead. To get a de-fragmented frame, use `newframe = frame.copy()`\n",
      "\n",
      "/var/folders/s8/zqdvt79d34nd7fs16cr64b7r0000gn/T/ipykernel_98289/2576507773.py:2: PerformanceWarning:\n",
      "\n",
      "DataFrame is highly fragmented.  This is usually the result of calling `frame.insert` many times, which has poor performance.  Consider joining all columns at once using pd.concat(axis=1) instead. To get a de-fragmented frame, use `newframe = frame.copy()`\n",
      "\n",
      "/var/folders/s8/zqdvt79d34nd7fs16cr64b7r0000gn/T/ipykernel_98289/2576507773.py:2: PerformanceWarning:\n",
      "\n",
      "DataFrame is highly fragmented.  This is usually the result of calling `frame.insert` many times, which has poor performance.  Consider joining all columns at once using pd.concat(axis=1) instead. To get a de-fragmented frame, use `newframe = frame.copy()`\n",
      "\n",
      "/var/folders/s8/zqdvt79d34nd7fs16cr64b7r0000gn/T/ipykernel_98289/2576507773.py:2: PerformanceWarning:\n",
      "\n",
      "DataFrame is highly fragmented.  This is usually the result of calling `frame.insert` many times, which has poor performance.  Consider joining all columns at once using pd.concat(axis=1) instead. To get a de-fragmented frame, use `newframe = frame.copy()`\n",
      "\n",
      "/var/folders/s8/zqdvt79d34nd7fs16cr64b7r0000gn/T/ipykernel_98289/2576507773.py:2: PerformanceWarning:\n",
      "\n",
      "DataFrame is highly fragmented.  This is usually the result of calling `frame.insert` many times, which has poor performance.  Consider joining all columns at once using pd.concat(axis=1) instead. To get a de-fragmented frame, use `newframe = frame.copy()`\n",
      "\n",
      "/var/folders/s8/zqdvt79d34nd7fs16cr64b7r0000gn/T/ipykernel_98289/2576507773.py:2: PerformanceWarning:\n",
      "\n",
      "DataFrame is highly fragmented.  This is usually the result of calling `frame.insert` many times, which has poor performance.  Consider joining all columns at once using pd.concat(axis=1) instead. To get a de-fragmented frame, use `newframe = frame.copy()`\n",
      "\n",
      "/var/folders/s8/zqdvt79d34nd7fs16cr64b7r0000gn/T/ipykernel_98289/2576507773.py:2: PerformanceWarning:\n",
      "\n",
      "DataFrame is highly fragmented.  This is usually the result of calling `frame.insert` many times, which has poor performance.  Consider joining all columns at once using pd.concat(axis=1) instead. To get a de-fragmented frame, use `newframe = frame.copy()`\n",
      "\n",
      "/var/folders/s8/zqdvt79d34nd7fs16cr64b7r0000gn/T/ipykernel_98289/2576507773.py:2: PerformanceWarning:\n",
      "\n",
      "DataFrame is highly fragmented.  This is usually the result of calling `frame.insert` many times, which has poor performance.  Consider joining all columns at once using pd.concat(axis=1) instead. To get a de-fragmented frame, use `newframe = frame.copy()`\n",
      "\n",
      "/var/folders/s8/zqdvt79d34nd7fs16cr64b7r0000gn/T/ipykernel_98289/2576507773.py:2: PerformanceWarning:\n",
      "\n",
      "DataFrame is highly fragmented.  This is usually the result of calling `frame.insert` many times, which has poor performance.  Consider joining all columns at once using pd.concat(axis=1) instead. To get a de-fragmented frame, use `newframe = frame.copy()`\n",
      "\n",
      "/var/folders/s8/zqdvt79d34nd7fs16cr64b7r0000gn/T/ipykernel_98289/2576507773.py:2: PerformanceWarning:\n",
      "\n",
      "DataFrame is highly fragmented.  This is usually the result of calling `frame.insert` many times, which has poor performance.  Consider joining all columns at once using pd.concat(axis=1) instead. To get a de-fragmented frame, use `newframe = frame.copy()`\n",
      "\n",
      "/var/folders/s8/zqdvt79d34nd7fs16cr64b7r0000gn/T/ipykernel_98289/2576507773.py:2: PerformanceWarning:\n",
      "\n",
      "DataFrame is highly fragmented.  This is usually the result of calling `frame.insert` many times, which has poor performance.  Consider joining all columns at once using pd.concat(axis=1) instead. To get a de-fragmented frame, use `newframe = frame.copy()`\n",
      "\n",
      "/var/folders/s8/zqdvt79d34nd7fs16cr64b7r0000gn/T/ipykernel_98289/2576507773.py:2: PerformanceWarning:\n",
      "\n",
      "DataFrame is highly fragmented.  This is usually the result of calling `frame.insert` many times, which has poor performance.  Consider joining all columns at once using pd.concat(axis=1) instead. To get a de-fragmented frame, use `newframe = frame.copy()`\n",
      "\n",
      "/var/folders/s8/zqdvt79d34nd7fs16cr64b7r0000gn/T/ipykernel_98289/2576507773.py:2: PerformanceWarning:\n",
      "\n",
      "DataFrame is highly fragmented.  This is usually the result of calling `frame.insert` many times, which has poor performance.  Consider joining all columns at once using pd.concat(axis=1) instead. To get a de-fragmented frame, use `newframe = frame.copy()`\n",
      "\n",
      "/var/folders/s8/zqdvt79d34nd7fs16cr64b7r0000gn/T/ipykernel_98289/2576507773.py:2: PerformanceWarning:\n",
      "\n",
      "DataFrame is highly fragmented.  This is usually the result of calling `frame.insert` many times, which has poor performance.  Consider joining all columns at once using pd.concat(axis=1) instead. To get a de-fragmented frame, use `newframe = frame.copy()`\n",
      "\n",
      "/var/folders/s8/zqdvt79d34nd7fs16cr64b7r0000gn/T/ipykernel_98289/2576507773.py:2: PerformanceWarning:\n",
      "\n",
      "DataFrame is highly fragmented.  This is usually the result of calling `frame.insert` many times, which has poor performance.  Consider joining all columns at once using pd.concat(axis=1) instead. To get a de-fragmented frame, use `newframe = frame.copy()`\n",
      "\n",
      "/var/folders/s8/zqdvt79d34nd7fs16cr64b7r0000gn/T/ipykernel_98289/2576507773.py:2: PerformanceWarning:\n",
      "\n",
      "DataFrame is highly fragmented.  This is usually the result of calling `frame.insert` many times, which has poor performance.  Consider joining all columns at once using pd.concat(axis=1) instead. To get a de-fragmented frame, use `newframe = frame.copy()`\n",
      "\n",
      "/var/folders/s8/zqdvt79d34nd7fs16cr64b7r0000gn/T/ipykernel_98289/2576507773.py:2: PerformanceWarning:\n",
      "\n",
      "DataFrame is highly fragmented.  This is usually the result of calling `frame.insert` many times, which has poor performance.  Consider joining all columns at once using pd.concat(axis=1) instead. To get a de-fragmented frame, use `newframe = frame.copy()`\n",
      "\n",
      "/var/folders/s8/zqdvt79d34nd7fs16cr64b7r0000gn/T/ipykernel_98289/2576507773.py:2: PerformanceWarning:\n",
      "\n",
      "DataFrame is highly fragmented.  This is usually the result of calling `frame.insert` many times, which has poor performance.  Consider joining all columns at once using pd.concat(axis=1) instead. To get a de-fragmented frame, use `newframe = frame.copy()`\n",
      "\n",
      "/var/folders/s8/zqdvt79d34nd7fs16cr64b7r0000gn/T/ipykernel_98289/2576507773.py:2: PerformanceWarning:\n",
      "\n",
      "DataFrame is highly fragmented.  This is usually the result of calling `frame.insert` many times, which has poor performance.  Consider joining all columns at once using pd.concat(axis=1) instead. To get a de-fragmented frame, use `newframe = frame.copy()`\n",
      "\n",
      "/var/folders/s8/zqdvt79d34nd7fs16cr64b7r0000gn/T/ipykernel_98289/2576507773.py:2: PerformanceWarning:\n",
      "\n",
      "DataFrame is highly fragmented.  This is usually the result of calling `frame.insert` many times, which has poor performance.  Consider joining all columns at once using pd.concat(axis=1) instead. To get a de-fragmented frame, use `newframe = frame.copy()`\n",
      "\n",
      "/var/folders/s8/zqdvt79d34nd7fs16cr64b7r0000gn/T/ipykernel_98289/2576507773.py:2: PerformanceWarning:\n",
      "\n",
      "DataFrame is highly fragmented.  This is usually the result of calling `frame.insert` many times, which has poor performance.  Consider joining all columns at once using pd.concat(axis=1) instead. To get a de-fragmented frame, use `newframe = frame.copy()`\n",
      "\n",
      "/var/folders/s8/zqdvt79d34nd7fs16cr64b7r0000gn/T/ipykernel_98289/2576507773.py:2: PerformanceWarning:\n",
      "\n",
      "DataFrame is highly fragmented.  This is usually the result of calling `frame.insert` many times, which has poor performance.  Consider joining all columns at once using pd.concat(axis=1) instead. To get a de-fragmented frame, use `newframe = frame.copy()`\n",
      "\n",
      "/var/folders/s8/zqdvt79d34nd7fs16cr64b7r0000gn/T/ipykernel_98289/2576507773.py:2: PerformanceWarning:\n",
      "\n",
      "DataFrame is highly fragmented.  This is usually the result of calling `frame.insert` many times, which has poor performance.  Consider joining all columns at once using pd.concat(axis=1) instead. To get a de-fragmented frame, use `newframe = frame.copy()`\n",
      "\n",
      "/var/folders/s8/zqdvt79d34nd7fs16cr64b7r0000gn/T/ipykernel_98289/2576507773.py:2: PerformanceWarning:\n",
      "\n",
      "DataFrame is highly fragmented.  This is usually the result of calling `frame.insert` many times, which has poor performance.  Consider joining all columns at once using pd.concat(axis=1) instead. To get a de-fragmented frame, use `newframe = frame.copy()`\n",
      "\n",
      "/var/folders/s8/zqdvt79d34nd7fs16cr64b7r0000gn/T/ipykernel_98289/2576507773.py:2: PerformanceWarning:\n",
      "\n",
      "DataFrame is highly fragmented.  This is usually the result of calling `frame.insert` many times, which has poor performance.  Consider joining all columns at once using pd.concat(axis=1) instead. To get a de-fragmented frame, use `newframe = frame.copy()`\n",
      "\n",
      "/var/folders/s8/zqdvt79d34nd7fs16cr64b7r0000gn/T/ipykernel_98289/2576507773.py:2: PerformanceWarning:\n",
      "\n",
      "DataFrame is highly fragmented.  This is usually the result of calling `frame.insert` many times, which has poor performance.  Consider joining all columns at once using pd.concat(axis=1) instead. To get a de-fragmented frame, use `newframe = frame.copy()`\n",
      "\n",
      "/var/folders/s8/zqdvt79d34nd7fs16cr64b7r0000gn/T/ipykernel_98289/2576507773.py:2: PerformanceWarning:\n",
      "\n",
      "DataFrame is highly fragmented.  This is usually the result of calling `frame.insert` many times, which has poor performance.  Consider joining all columns at once using pd.concat(axis=1) instead. To get a de-fragmented frame, use `newframe = frame.copy()`\n",
      "\n",
      "/var/folders/s8/zqdvt79d34nd7fs16cr64b7r0000gn/T/ipykernel_98289/2576507773.py:2: PerformanceWarning:\n",
      "\n",
      "DataFrame is highly fragmented.  This is usually the result of calling `frame.insert` many times, which has poor performance.  Consider joining all columns at once using pd.concat(axis=1) instead. To get a de-fragmented frame, use `newframe = frame.copy()`\n",
      "\n",
      "/var/folders/s8/zqdvt79d34nd7fs16cr64b7r0000gn/T/ipykernel_98289/2576507773.py:2: PerformanceWarning:\n",
      "\n",
      "DataFrame is highly fragmented.  This is usually the result of calling `frame.insert` many times, which has poor performance.  Consider joining all columns at once using pd.concat(axis=1) instead. To get a de-fragmented frame, use `newframe = frame.copy()`\n",
      "\n",
      "/var/folders/s8/zqdvt79d34nd7fs16cr64b7r0000gn/T/ipykernel_98289/2576507773.py:2: PerformanceWarning:\n",
      "\n",
      "DataFrame is highly fragmented.  This is usually the result of calling `frame.insert` many times, which has poor performance.  Consider joining all columns at once using pd.concat(axis=1) instead. To get a de-fragmented frame, use `newframe = frame.copy()`\n",
      "\n",
      "/var/folders/s8/zqdvt79d34nd7fs16cr64b7r0000gn/T/ipykernel_98289/2576507773.py:2: PerformanceWarning:\n",
      "\n",
      "DataFrame is highly fragmented.  This is usually the result of calling `frame.insert` many times, which has poor performance.  Consider joining all columns at once using pd.concat(axis=1) instead. To get a de-fragmented frame, use `newframe = frame.copy()`\n",
      "\n",
      "/var/folders/s8/zqdvt79d34nd7fs16cr64b7r0000gn/T/ipykernel_98289/2576507773.py:2: PerformanceWarning:\n",
      "\n",
      "DataFrame is highly fragmented.  This is usually the result of calling `frame.insert` many times, which has poor performance.  Consider joining all columns at once using pd.concat(axis=1) instead. To get a de-fragmented frame, use `newframe = frame.copy()`\n",
      "\n",
      "/var/folders/s8/zqdvt79d34nd7fs16cr64b7r0000gn/T/ipykernel_98289/2576507773.py:2: PerformanceWarning:\n",
      "\n",
      "DataFrame is highly fragmented.  This is usually the result of calling `frame.insert` many times, which has poor performance.  Consider joining all columns at once using pd.concat(axis=1) instead. To get a de-fragmented frame, use `newframe = frame.copy()`\n",
      "\n",
      "/var/folders/s8/zqdvt79d34nd7fs16cr64b7r0000gn/T/ipykernel_98289/2576507773.py:2: PerformanceWarning:\n",
      "\n",
      "DataFrame is highly fragmented.  This is usually the result of calling `frame.insert` many times, which has poor performance.  Consider joining all columns at once using pd.concat(axis=1) instead. To get a de-fragmented frame, use `newframe = frame.copy()`\n",
      "\n",
      "/var/folders/s8/zqdvt79d34nd7fs16cr64b7r0000gn/T/ipykernel_98289/2576507773.py:2: PerformanceWarning:\n",
      "\n",
      "DataFrame is highly fragmented.  This is usually the result of calling `frame.insert` many times, which has poor performance.  Consider joining all columns at once using pd.concat(axis=1) instead. To get a de-fragmented frame, use `newframe = frame.copy()`\n",
      "\n",
      "/var/folders/s8/zqdvt79d34nd7fs16cr64b7r0000gn/T/ipykernel_98289/2576507773.py:2: PerformanceWarning:\n",
      "\n",
      "DataFrame is highly fragmented.  This is usually the result of calling `frame.insert` many times, which has poor performance.  Consider joining all columns at once using pd.concat(axis=1) instead. To get a de-fragmented frame, use `newframe = frame.copy()`\n",
      "\n",
      "/var/folders/s8/zqdvt79d34nd7fs16cr64b7r0000gn/T/ipykernel_98289/2576507773.py:2: PerformanceWarning:\n",
      "\n",
      "DataFrame is highly fragmented.  This is usually the result of calling `frame.insert` many times, which has poor performance.  Consider joining all columns at once using pd.concat(axis=1) instead. To get a de-fragmented frame, use `newframe = frame.copy()`\n",
      "\n",
      "/var/folders/s8/zqdvt79d34nd7fs16cr64b7r0000gn/T/ipykernel_98289/2576507773.py:2: PerformanceWarning:\n",
      "\n",
      "DataFrame is highly fragmented.  This is usually the result of calling `frame.insert` many times, which has poor performance.  Consider joining all columns at once using pd.concat(axis=1) instead. To get a de-fragmented frame, use `newframe = frame.copy()`\n",
      "\n",
      "/var/folders/s8/zqdvt79d34nd7fs16cr64b7r0000gn/T/ipykernel_98289/2576507773.py:2: PerformanceWarning:\n",
      "\n",
      "DataFrame is highly fragmented.  This is usually the result of calling `frame.insert` many times, which has poor performance.  Consider joining all columns at once using pd.concat(axis=1) instead. To get a de-fragmented frame, use `newframe = frame.copy()`\n",
      "\n",
      "/var/folders/s8/zqdvt79d34nd7fs16cr64b7r0000gn/T/ipykernel_98289/2576507773.py:2: PerformanceWarning:\n",
      "\n",
      "DataFrame is highly fragmented.  This is usually the result of calling `frame.insert` many times, which has poor performance.  Consider joining all columns at once using pd.concat(axis=1) instead. To get a de-fragmented frame, use `newframe = frame.copy()`\n",
      "\n",
      "/var/folders/s8/zqdvt79d34nd7fs16cr64b7r0000gn/T/ipykernel_98289/2576507773.py:2: PerformanceWarning:\n",
      "\n",
      "DataFrame is highly fragmented.  This is usually the result of calling `frame.insert` many times, which has poor performance.  Consider joining all columns at once using pd.concat(axis=1) instead. To get a de-fragmented frame, use `newframe = frame.copy()`\n",
      "\n",
      "/var/folders/s8/zqdvt79d34nd7fs16cr64b7r0000gn/T/ipykernel_98289/2576507773.py:2: PerformanceWarning:\n",
      "\n",
      "DataFrame is highly fragmented.  This is usually the result of calling `frame.insert` many times, which has poor performance.  Consider joining all columns at once using pd.concat(axis=1) instead. To get a de-fragmented frame, use `newframe = frame.copy()`\n",
      "\n",
      "/var/folders/s8/zqdvt79d34nd7fs16cr64b7r0000gn/T/ipykernel_98289/2576507773.py:2: PerformanceWarning:\n",
      "\n",
      "DataFrame is highly fragmented.  This is usually the result of calling `frame.insert` many times, which has poor performance.  Consider joining all columns at once using pd.concat(axis=1) instead. To get a de-fragmented frame, use `newframe = frame.copy()`\n",
      "\n",
      "/var/folders/s8/zqdvt79d34nd7fs16cr64b7r0000gn/T/ipykernel_98289/2576507773.py:2: PerformanceWarning:\n",
      "\n",
      "DataFrame is highly fragmented.  This is usually the result of calling `frame.insert` many times, which has poor performance.  Consider joining all columns at once using pd.concat(axis=1) instead. To get a de-fragmented frame, use `newframe = frame.copy()`\n",
      "\n",
      "/var/folders/s8/zqdvt79d34nd7fs16cr64b7r0000gn/T/ipykernel_98289/2576507773.py:2: PerformanceWarning:\n",
      "\n",
      "DataFrame is highly fragmented.  This is usually the result of calling `frame.insert` many times, which has poor performance.  Consider joining all columns at once using pd.concat(axis=1) instead. To get a de-fragmented frame, use `newframe = frame.copy()`\n",
      "\n",
      "/var/folders/s8/zqdvt79d34nd7fs16cr64b7r0000gn/T/ipykernel_98289/2576507773.py:2: PerformanceWarning:\n",
      "\n",
      "DataFrame is highly fragmented.  This is usually the result of calling `frame.insert` many times, which has poor performance.  Consider joining all columns at once using pd.concat(axis=1) instead. To get a de-fragmented frame, use `newframe = frame.copy()`\n",
      "\n",
      "/var/folders/s8/zqdvt79d34nd7fs16cr64b7r0000gn/T/ipykernel_98289/2576507773.py:2: PerformanceWarning:\n",
      "\n",
      "DataFrame is highly fragmented.  This is usually the result of calling `frame.insert` many times, which has poor performance.  Consider joining all columns at once using pd.concat(axis=1) instead. To get a de-fragmented frame, use `newframe = frame.copy()`\n",
      "\n",
      "/var/folders/s8/zqdvt79d34nd7fs16cr64b7r0000gn/T/ipykernel_98289/2576507773.py:2: PerformanceWarning:\n",
      "\n",
      "DataFrame is highly fragmented.  This is usually the result of calling `frame.insert` many times, which has poor performance.  Consider joining all columns at once using pd.concat(axis=1) instead. To get a de-fragmented frame, use `newframe = frame.copy()`\n",
      "\n",
      "/var/folders/s8/zqdvt79d34nd7fs16cr64b7r0000gn/T/ipykernel_98289/2576507773.py:2: PerformanceWarning:\n",
      "\n",
      "DataFrame is highly fragmented.  This is usually the result of calling `frame.insert` many times, which has poor performance.  Consider joining all columns at once using pd.concat(axis=1) instead. To get a de-fragmented frame, use `newframe = frame.copy()`\n",
      "\n",
      "/var/folders/s8/zqdvt79d34nd7fs16cr64b7r0000gn/T/ipykernel_98289/2576507773.py:2: PerformanceWarning:\n",
      "\n",
      "DataFrame is highly fragmented.  This is usually the result of calling `frame.insert` many times, which has poor performance.  Consider joining all columns at once using pd.concat(axis=1) instead. To get a de-fragmented frame, use `newframe = frame.copy()`\n",
      "\n",
      "/var/folders/s8/zqdvt79d34nd7fs16cr64b7r0000gn/T/ipykernel_98289/2576507773.py:2: PerformanceWarning:\n",
      "\n",
      "DataFrame is highly fragmented.  This is usually the result of calling `frame.insert` many times, which has poor performance.  Consider joining all columns at once using pd.concat(axis=1) instead. To get a de-fragmented frame, use `newframe = frame.copy()`\n",
      "\n",
      "/var/folders/s8/zqdvt79d34nd7fs16cr64b7r0000gn/T/ipykernel_98289/2576507773.py:2: PerformanceWarning:\n",
      "\n",
      "DataFrame is highly fragmented.  This is usually the result of calling `frame.insert` many times, which has poor performance.  Consider joining all columns at once using pd.concat(axis=1) instead. To get a de-fragmented frame, use `newframe = frame.copy()`\n",
      "\n",
      "/var/folders/s8/zqdvt79d34nd7fs16cr64b7r0000gn/T/ipykernel_98289/2576507773.py:2: PerformanceWarning:\n",
      "\n",
      "DataFrame is highly fragmented.  This is usually the result of calling `frame.insert` many times, which has poor performance.  Consider joining all columns at once using pd.concat(axis=1) instead. To get a de-fragmented frame, use `newframe = frame.copy()`\n",
      "\n",
      "/var/folders/s8/zqdvt79d34nd7fs16cr64b7r0000gn/T/ipykernel_98289/2576507773.py:2: PerformanceWarning:\n",
      "\n",
      "DataFrame is highly fragmented.  This is usually the result of calling `frame.insert` many times, which has poor performance.  Consider joining all columns at once using pd.concat(axis=1) instead. To get a de-fragmented frame, use `newframe = frame.copy()`\n",
      "\n",
      "/var/folders/s8/zqdvt79d34nd7fs16cr64b7r0000gn/T/ipykernel_98289/2576507773.py:2: PerformanceWarning:\n",
      "\n",
      "DataFrame is highly fragmented.  This is usually the result of calling `frame.insert` many times, which has poor performance.  Consider joining all columns at once using pd.concat(axis=1) instead. To get a de-fragmented frame, use `newframe = frame.copy()`\n",
      "\n"
     ]
    }
   ],
   "source": [
    "for i in tag_sum_list:\n",
    "    hoteltags_geo[i] = 0"
   ]
  },
  {
   "cell_type": "code",
   "execution_count": 61,
   "metadata": {},
   "outputs": [
    {
     "data": {
      "text/html": [
       "<div>\n",
       "<style scoped>\n",
       "    .dataframe tbody tr th:only-of-type {\n",
       "        vertical-align: middle;\n",
       "    }\n",
       "\n",
       "    .dataframe tbody tr th {\n",
       "        vertical-align: top;\n",
       "    }\n",
       "\n",
       "    .dataframe thead th {\n",
       "        text-align: right;\n",
       "    }\n",
       "</style>\n",
       "<table border=\"1\" class=\"dataframe\">\n",
       "  <thead>\n",
       "    <tr style=\"text-align: right;\">\n",
       "      <th></th>\n",
       "      <th>hotel_name</th>\n",
       "      <th>tags</th>\n",
       "      <th>lat_x</th>\n",
       "      <th>lng_x</th>\n",
       "      <th>city</th>\n",
       "      <th>new_tags</th>\n",
       "      <th>family with older children</th>\n",
       "      <th>king_room</th>\n",
       "      <th>family with young children</th>\n",
       "      <th>couple</th>\n",
       "      <th>...</th>\n",
       "      <th>twin grand premier room</th>\n",
       "      <th>king premier room</th>\n",
       "      <th>twin premier room</th>\n",
       "      <th>king loft</th>\n",
       "      <th>king superior plus room</th>\n",
       "      <th>large room</th>\n",
       "      <th>luxury quadruple room</th>\n",
       "      <th>art room xl with iconic view</th>\n",
       "      <th>art room with iconic view</th>\n",
       "      <th>penta plus room</th>\n",
       "    </tr>\n",
       "  </thead>\n",
       "  <tbody>\n",
       "    <tr>\n",
       "      <th>0</th>\n",
       "      <td>11 Cadogan Gardens</td>\n",
       "      <td>[' Leisure trip ', ' Couple ', ' Superior Quee...</td>\n",
       "      <td>51.493616</td>\n",
       "      <td>-0.159235</td>\n",
       "      <td>Chelsea</td>\n",
       "      <td>{family with older children, king_room, family...</td>\n",
       "      <td>0</td>\n",
       "      <td>0</td>\n",
       "      <td>0</td>\n",
       "      <td>0</td>\n",
       "      <td>...</td>\n",
       "      <td>0</td>\n",
       "      <td>0</td>\n",
       "      <td>0</td>\n",
       "      <td>0</td>\n",
       "      <td>0</td>\n",
       "      <td>0</td>\n",
       "      <td>0</td>\n",
       "      <td>0</td>\n",
       "      <td>0</td>\n",
       "      <td>0</td>\n",
       "    </tr>\n",
       "    <tr>\n",
       "      <th>1</th>\n",
       "      <td>1K Hotel</td>\n",
       "      <td>[' Leisure trip ', ' Couple ', ' Superior M Do...</td>\n",
       "      <td>48.863932</td>\n",
       "      <td>2.365874</td>\n",
       "      <td>Paris</td>\n",
       "      <td>{double_room, family with young children, coup...</td>\n",
       "      <td>0</td>\n",
       "      <td>0</td>\n",
       "      <td>0</td>\n",
       "      <td>0</td>\n",
       "      <td>...</td>\n",
       "      <td>0</td>\n",
       "      <td>0</td>\n",
       "      <td>0</td>\n",
       "      <td>0</td>\n",
       "      <td>0</td>\n",
       "      <td>0</td>\n",
       "      <td>0</td>\n",
       "      <td>0</td>\n",
       "      <td>0</td>\n",
       "      <td>0</td>\n",
       "    </tr>\n",
       "    <tr>\n",
       "      <th>2</th>\n",
       "      <td>25hours Hotel beim MuseumsQuartier</td>\n",
       "      <td>[' Leisure trip ', ' Solo traveler ', ' Standa...</td>\n",
       "      <td>48.206474</td>\n",
       "      <td>16.354630</td>\n",
       "      <td>Vienna</td>\n",
       "      <td>{family with older children, double_room, with...</td>\n",
       "      <td>0</td>\n",
       "      <td>0</td>\n",
       "      <td>0</td>\n",
       "      <td>0</td>\n",
       "      <td>...</td>\n",
       "      <td>0</td>\n",
       "      <td>0</td>\n",
       "      <td>0</td>\n",
       "      <td>0</td>\n",
       "      <td>0</td>\n",
       "      <td>0</td>\n",
       "      <td>0</td>\n",
       "      <td>0</td>\n",
       "      <td>0</td>\n",
       "      <td>0</td>\n",
       "    </tr>\n",
       "    <tr>\n",
       "      <th>3</th>\n",
       "      <td>41</td>\n",
       "      <td>[' Leisure trip ', ' Couple ', ' Executive Kin...</td>\n",
       "      <td>51.498147</td>\n",
       "      <td>-0.143649</td>\n",
       "      <td>West End of London</td>\n",
       "      <td>{family with older children, king_room, family...</td>\n",
       "      <td>0</td>\n",
       "      <td>0</td>\n",
       "      <td>0</td>\n",
       "      <td>0</td>\n",
       "      <td>...</td>\n",
       "      <td>0</td>\n",
       "      <td>0</td>\n",
       "      <td>0</td>\n",
       "      <td>0</td>\n",
       "      <td>0</td>\n",
       "      <td>0</td>\n",
       "      <td>0</td>\n",
       "      <td>0</td>\n",
       "      <td>0</td>\n",
       "      <td>0</td>\n",
       "    </tr>\n",
       "    <tr>\n",
       "      <th>4</th>\n",
       "      <td>45 Park Lane Dorchester Collection</td>\n",
       "      <td>[' Leisure trip ', ' Solo traveler ', ' Execut...</td>\n",
       "      <td>51.506371</td>\n",
       "      <td>-0.151536</td>\n",
       "      <td>West End of London</td>\n",
       "      <td>{family with young children, executive queen r...</td>\n",
       "      <td>0</td>\n",
       "      <td>0</td>\n",
       "      <td>0</td>\n",
       "      <td>0</td>\n",
       "      <td>...</td>\n",
       "      <td>0</td>\n",
       "      <td>0</td>\n",
       "      <td>0</td>\n",
       "      <td>0</td>\n",
       "      <td>0</td>\n",
       "      <td>0</td>\n",
       "      <td>0</td>\n",
       "      <td>0</td>\n",
       "      <td>0</td>\n",
       "      <td>0</td>\n",
       "    </tr>\n",
       "  </tbody>\n",
       "</table>\n",
       "<p>5 rows × 520 columns</p>\n",
       "</div>"
      ],
      "text/plain": [
       "                           hotel_name   \n",
       "0                  11 Cadogan Gardens  \\\n",
       "1                            1K Hotel   \n",
       "2  25hours Hotel beim MuseumsQuartier   \n",
       "3                                  41   \n",
       "4  45 Park Lane Dorchester Collection   \n",
       "\n",
       "                                                tags      lat_x      lng_x   \n",
       "0  [' Leisure trip ', ' Couple ', ' Superior Quee...  51.493616  -0.159235  \\\n",
       "1  [' Leisure trip ', ' Couple ', ' Superior M Do...  48.863932   2.365874   \n",
       "2  [' Leisure trip ', ' Solo traveler ', ' Standa...  48.206474  16.354630   \n",
       "3  [' Leisure trip ', ' Couple ', ' Executive Kin...  51.498147  -0.143649   \n",
       "4  [' Leisure trip ', ' Solo traveler ', ' Execut...  51.506371  -0.151536   \n",
       "\n",
       "                 city                                           new_tags   \n",
       "0             Chelsea  {family with older children, king_room, family...  \\\n",
       "1               Paris  {double_room, family with young children, coup...   \n",
       "2              Vienna  {family with older children, double_room, with...   \n",
       "3  West End of London  {family with older children, king_room, family...   \n",
       "4  West End of London  {family with young children, executive queen r...   \n",
       "\n",
       "   family with older children  king_room  family with young children  couple   \n",
       "0                           0          0                           0       0  \\\n",
       "1                           0          0                           0       0   \n",
       "2                           0          0                           0       0   \n",
       "3                           0          0                           0       0   \n",
       "4                           0          0                           0       0   \n",
       "\n",
       "   ...  twin grand premier room  king premier room  twin premier room   \n",
       "0  ...                        0                  0                  0  \\\n",
       "1  ...                        0                  0                  0   \n",
       "2  ...                        0                  0                  0   \n",
       "3  ...                        0                  0                  0   \n",
       "4  ...                        0                  0                  0   \n",
       "\n",
       "   king loft  king superior plus room  large room  luxury quadruple room   \n",
       "0          0                        0           0                      0  \\\n",
       "1          0                        0           0                      0   \n",
       "2          0                        0           0                      0   \n",
       "3          0                        0           0                      0   \n",
       "4          0                        0           0                      0   \n",
       "\n",
       "   art room xl with iconic view  art room with iconic view  penta plus room  \n",
       "0                             0                          0                0  \n",
       "1                             0                          0                0  \n",
       "2                             0                          0                0  \n",
       "3                             0                          0                0  \n",
       "4                             0                          0                0  \n",
       "\n",
       "[5 rows x 520 columns]"
      ]
     },
     "execution_count": 61,
     "metadata": {},
     "output_type": "execute_result"
    }
   ],
   "source": [
    "hoteltags_geo.head()"
   ]
  },
  {
   "cell_type": "code",
   "execution_count": 62,
   "metadata": {},
   "outputs": [],
   "source": [
    "#iterating through the columns comparing if attribtues in is presence in new_tags, assign 1 \n",
    "only_new_tags=pd.DataFrame(hoteltags_geo.new_tags.loc[:])\n",
    "\n",
    "for index, row in only_new_tags.iterrows():\n",
    "    cs_list = set(row['new_tags'])\n",
    "    \n",
    "    for j in cs_list:\n",
    "        #set corresponding column to 1\n",
    "        if j in tag_sum_set:\n",
    "            hoteltags_geo.loc[index,j]=1"
   ]
  },
  {
   "cell_type": "markdown",
   "metadata": {},
   "source": [
    "#### Visualisation of type of rooms in the dataset"
   ]
  },
  {
   "cell_type": "code",
   "execution_count": 63,
   "metadata": {},
   "outputs": [],
   "source": [
    "index_room = ['single_room','twin_room','double_room','superior_room'\n",
    "        ,'king_room','executive_room','_suite_','triple_room',\n",
    "        '_penthouse_','standard_room','family_room','deluxe_room','guest_room','_apartment_',\n",
    "        '_terrace_']\n",
    "room_count=[]\n",
    "\n",
    "for i in index_room:\n",
    "    room_count.append(get_special(i).shape[0])\n"
   ]
  },
  {
   "cell_type": "code",
   "execution_count": 64,
   "metadata": {},
   "outputs": [],
   "source": [
    "import plotly.io as pio\n"
   ]
  },
  {
   "cell_type": "code",
   "execution_count": 65,
   "metadata": {
    "scrolled": true
   },
   "outputs": [
    {
     "data": {
      "application/vnd.plotly.v1+json": {
       "config": {
        "linkText": "Export to plot.ly",
        "plotlyServerURL": "https://plot.ly",
        "showLink": true
       },
       "data": [
        {
         "marker": {
          "color": "rgba(255, 153, 51, 0.6)",
          "line": {
           "color": "rgba(255, 153, 51, 1.0)",
           "width": 1
          }
         },
         "name": "No.of Hotel",
         "orientation": "h",
         "text": "",
         "type": "bar",
         "x": [
          486,
          896,
          1046,
          137,
          204,
          78,
          827,
          288,
          17,
          46,
          89,
          124,
          29,
          59,
          0
         ],
         "y": [
          "single_room",
          "twin_room",
          "double_room",
          "superior_room",
          "king_room",
          "executive_room",
          "_suite_",
          "triple_room",
          "_penthouse_",
          "standard_room",
          "family_room",
          "deluxe_room",
          "guest_room",
          "_apartment_",
          "_terrace_"
         ]
        }
       ],
       "layout": {
        "legend": {
         "bgcolor": "#F5F6F9",
         "font": {
          "color": "#4D5663"
         }
        },
        "paper_bgcolor": "#F5F6F9",
        "plot_bgcolor": "#F5F6F9",
        "template": {
         "data": {
          "bar": [
           {
            "error_x": {
             "color": "#2a3f5f"
            },
            "error_y": {
             "color": "#2a3f5f"
            },
            "marker": {
             "line": {
              "color": "#E5ECF6",
              "width": 0.5
             },
             "pattern": {
              "fillmode": "overlay",
              "size": 10,
              "solidity": 0.2
             }
            },
            "type": "bar"
           }
          ],
          "barpolar": [
           {
            "marker": {
             "line": {
              "color": "#E5ECF6",
              "width": 0.5
             },
             "pattern": {
              "fillmode": "overlay",
              "size": 10,
              "solidity": 0.2
             }
            },
            "type": "barpolar"
           }
          ],
          "carpet": [
           {
            "aaxis": {
             "endlinecolor": "#2a3f5f",
             "gridcolor": "white",
             "linecolor": "white",
             "minorgridcolor": "white",
             "startlinecolor": "#2a3f5f"
            },
            "baxis": {
             "endlinecolor": "#2a3f5f",
             "gridcolor": "white",
             "linecolor": "white",
             "minorgridcolor": "white",
             "startlinecolor": "#2a3f5f"
            },
            "type": "carpet"
           }
          ],
          "choropleth": [
           {
            "colorbar": {
             "outlinewidth": 0,
             "ticks": ""
            },
            "type": "choropleth"
           }
          ],
          "contour": [
           {
            "colorbar": {
             "outlinewidth": 0,
             "ticks": ""
            },
            "colorscale": [
             [
              0,
              "#0d0887"
             ],
             [
              0.1111111111111111,
              "#46039f"
             ],
             [
              0.2222222222222222,
              "#7201a8"
             ],
             [
              0.3333333333333333,
              "#9c179e"
             ],
             [
              0.4444444444444444,
              "#bd3786"
             ],
             [
              0.5555555555555556,
              "#d8576b"
             ],
             [
              0.6666666666666666,
              "#ed7953"
             ],
             [
              0.7777777777777778,
              "#fb9f3a"
             ],
             [
              0.8888888888888888,
              "#fdca26"
             ],
             [
              1,
              "#f0f921"
             ]
            ],
            "type": "contour"
           }
          ],
          "contourcarpet": [
           {
            "colorbar": {
             "outlinewidth": 0,
             "ticks": ""
            },
            "type": "contourcarpet"
           }
          ],
          "heatmap": [
           {
            "colorbar": {
             "outlinewidth": 0,
             "ticks": ""
            },
            "colorscale": [
             [
              0,
              "#0d0887"
             ],
             [
              0.1111111111111111,
              "#46039f"
             ],
             [
              0.2222222222222222,
              "#7201a8"
             ],
             [
              0.3333333333333333,
              "#9c179e"
             ],
             [
              0.4444444444444444,
              "#bd3786"
             ],
             [
              0.5555555555555556,
              "#d8576b"
             ],
             [
              0.6666666666666666,
              "#ed7953"
             ],
             [
              0.7777777777777778,
              "#fb9f3a"
             ],
             [
              0.8888888888888888,
              "#fdca26"
             ],
             [
              1,
              "#f0f921"
             ]
            ],
            "type": "heatmap"
           }
          ],
          "heatmapgl": [
           {
            "colorbar": {
             "outlinewidth": 0,
             "ticks": ""
            },
            "colorscale": [
             [
              0,
              "#0d0887"
             ],
             [
              0.1111111111111111,
              "#46039f"
             ],
             [
              0.2222222222222222,
              "#7201a8"
             ],
             [
              0.3333333333333333,
              "#9c179e"
             ],
             [
              0.4444444444444444,
              "#bd3786"
             ],
             [
              0.5555555555555556,
              "#d8576b"
             ],
             [
              0.6666666666666666,
              "#ed7953"
             ],
             [
              0.7777777777777778,
              "#fb9f3a"
             ],
             [
              0.8888888888888888,
              "#fdca26"
             ],
             [
              1,
              "#f0f921"
             ]
            ],
            "type": "heatmapgl"
           }
          ],
          "histogram": [
           {
            "marker": {
             "pattern": {
              "fillmode": "overlay",
              "size": 10,
              "solidity": 0.2
             }
            },
            "type": "histogram"
           }
          ],
          "histogram2d": [
           {
            "colorbar": {
             "outlinewidth": 0,
             "ticks": ""
            },
            "colorscale": [
             [
              0,
              "#0d0887"
             ],
             [
              0.1111111111111111,
              "#46039f"
             ],
             [
              0.2222222222222222,
              "#7201a8"
             ],
             [
              0.3333333333333333,
              "#9c179e"
             ],
             [
              0.4444444444444444,
              "#bd3786"
             ],
             [
              0.5555555555555556,
              "#d8576b"
             ],
             [
              0.6666666666666666,
              "#ed7953"
             ],
             [
              0.7777777777777778,
              "#fb9f3a"
             ],
             [
              0.8888888888888888,
              "#fdca26"
             ],
             [
              1,
              "#f0f921"
             ]
            ],
            "type": "histogram2d"
           }
          ],
          "histogram2dcontour": [
           {
            "colorbar": {
             "outlinewidth": 0,
             "ticks": ""
            },
            "colorscale": [
             [
              0,
              "#0d0887"
             ],
             [
              0.1111111111111111,
              "#46039f"
             ],
             [
              0.2222222222222222,
              "#7201a8"
             ],
             [
              0.3333333333333333,
              "#9c179e"
             ],
             [
              0.4444444444444444,
              "#bd3786"
             ],
             [
              0.5555555555555556,
              "#d8576b"
             ],
             [
              0.6666666666666666,
              "#ed7953"
             ],
             [
              0.7777777777777778,
              "#fb9f3a"
             ],
             [
              0.8888888888888888,
              "#fdca26"
             ],
             [
              1,
              "#f0f921"
             ]
            ],
            "type": "histogram2dcontour"
           }
          ],
          "mesh3d": [
           {
            "colorbar": {
             "outlinewidth": 0,
             "ticks": ""
            },
            "type": "mesh3d"
           }
          ],
          "parcoords": [
           {
            "line": {
             "colorbar": {
              "outlinewidth": 0,
              "ticks": ""
             }
            },
            "type": "parcoords"
           }
          ],
          "pie": [
           {
            "automargin": true,
            "type": "pie"
           }
          ],
          "scatter": [
           {
            "fillpattern": {
             "fillmode": "overlay",
             "size": 10,
             "solidity": 0.2
            },
            "type": "scatter"
           }
          ],
          "scatter3d": [
           {
            "line": {
             "colorbar": {
              "outlinewidth": 0,
              "ticks": ""
             }
            },
            "marker": {
             "colorbar": {
              "outlinewidth": 0,
              "ticks": ""
             }
            },
            "type": "scatter3d"
           }
          ],
          "scattercarpet": [
           {
            "marker": {
             "colorbar": {
              "outlinewidth": 0,
              "ticks": ""
             }
            },
            "type": "scattercarpet"
           }
          ],
          "scattergeo": [
           {
            "marker": {
             "colorbar": {
              "outlinewidth": 0,
              "ticks": ""
             }
            },
            "type": "scattergeo"
           }
          ],
          "scattergl": [
           {
            "marker": {
             "colorbar": {
              "outlinewidth": 0,
              "ticks": ""
             }
            },
            "type": "scattergl"
           }
          ],
          "scattermapbox": [
           {
            "marker": {
             "colorbar": {
              "outlinewidth": 0,
              "ticks": ""
             }
            },
            "type": "scattermapbox"
           }
          ],
          "scatterpolar": [
           {
            "marker": {
             "colorbar": {
              "outlinewidth": 0,
              "ticks": ""
             }
            },
            "type": "scatterpolar"
           }
          ],
          "scatterpolargl": [
           {
            "marker": {
             "colorbar": {
              "outlinewidth": 0,
              "ticks": ""
             }
            },
            "type": "scatterpolargl"
           }
          ],
          "scatterternary": [
           {
            "marker": {
             "colorbar": {
              "outlinewidth": 0,
              "ticks": ""
             }
            },
            "type": "scatterternary"
           }
          ],
          "surface": [
           {
            "colorbar": {
             "outlinewidth": 0,
             "ticks": ""
            },
            "colorscale": [
             [
              0,
              "#0d0887"
             ],
             [
              0.1111111111111111,
              "#46039f"
             ],
             [
              0.2222222222222222,
              "#7201a8"
             ],
             [
              0.3333333333333333,
              "#9c179e"
             ],
             [
              0.4444444444444444,
              "#bd3786"
             ],
             [
              0.5555555555555556,
              "#d8576b"
             ],
             [
              0.6666666666666666,
              "#ed7953"
             ],
             [
              0.7777777777777778,
              "#fb9f3a"
             ],
             [
              0.8888888888888888,
              "#fdca26"
             ],
             [
              1,
              "#f0f921"
             ]
            ],
            "type": "surface"
           }
          ],
          "table": [
           {
            "cells": {
             "fill": {
              "color": "#EBF0F8"
             },
             "line": {
              "color": "white"
             }
            },
            "header": {
             "fill": {
              "color": "#C8D4E3"
             },
             "line": {
              "color": "white"
             }
            },
            "type": "table"
           }
          ]
         },
         "layout": {
          "annotationdefaults": {
           "arrowcolor": "#2a3f5f",
           "arrowhead": 0,
           "arrowwidth": 1
          },
          "autotypenumbers": "strict",
          "coloraxis": {
           "colorbar": {
            "outlinewidth": 0,
            "ticks": ""
           }
          },
          "colorscale": {
           "diverging": [
            [
             0,
             "#8e0152"
            ],
            [
             0.1,
             "#c51b7d"
            ],
            [
             0.2,
             "#de77ae"
            ],
            [
             0.3,
             "#f1b6da"
            ],
            [
             0.4,
             "#fde0ef"
            ],
            [
             0.5,
             "#f7f7f7"
            ],
            [
             0.6,
             "#e6f5d0"
            ],
            [
             0.7,
             "#b8e186"
            ],
            [
             0.8,
             "#7fbc41"
            ],
            [
             0.9,
             "#4d9221"
            ],
            [
             1,
             "#276419"
            ]
           ],
           "sequential": [
            [
             0,
             "#0d0887"
            ],
            [
             0.1111111111111111,
             "#46039f"
            ],
            [
             0.2222222222222222,
             "#7201a8"
            ],
            [
             0.3333333333333333,
             "#9c179e"
            ],
            [
             0.4444444444444444,
             "#bd3786"
            ],
            [
             0.5555555555555556,
             "#d8576b"
            ],
            [
             0.6666666666666666,
             "#ed7953"
            ],
            [
             0.7777777777777778,
             "#fb9f3a"
            ],
            [
             0.8888888888888888,
             "#fdca26"
            ],
            [
             1,
             "#f0f921"
            ]
           ],
           "sequentialminus": [
            [
             0,
             "#0d0887"
            ],
            [
             0.1111111111111111,
             "#46039f"
            ],
            [
             0.2222222222222222,
             "#7201a8"
            ],
            [
             0.3333333333333333,
             "#9c179e"
            ],
            [
             0.4444444444444444,
             "#bd3786"
            ],
            [
             0.5555555555555556,
             "#d8576b"
            ],
            [
             0.6666666666666666,
             "#ed7953"
            ],
            [
             0.7777777777777778,
             "#fb9f3a"
            ],
            [
             0.8888888888888888,
             "#fdca26"
            ],
            [
             1,
             "#f0f921"
            ]
           ]
          },
          "colorway": [
           "#636efa",
           "#EF553B",
           "#00cc96",
           "#ab63fa",
           "#FFA15A",
           "#19d3f3",
           "#FF6692",
           "#B6E880",
           "#FF97FF",
           "#FECB52"
          ],
          "font": {
           "color": "#2a3f5f"
          },
          "geo": {
           "bgcolor": "white",
           "lakecolor": "white",
           "landcolor": "#E5ECF6",
           "showlakes": true,
           "showland": true,
           "subunitcolor": "white"
          },
          "hoverlabel": {
           "align": "left"
          },
          "hovermode": "closest",
          "mapbox": {
           "style": "light"
          },
          "paper_bgcolor": "white",
          "plot_bgcolor": "#E5ECF6",
          "polar": {
           "angularaxis": {
            "gridcolor": "white",
            "linecolor": "white",
            "ticks": ""
           },
           "bgcolor": "#E5ECF6",
           "radialaxis": {
            "gridcolor": "white",
            "linecolor": "white",
            "ticks": ""
           }
          },
          "scene": {
           "xaxis": {
            "backgroundcolor": "#E5ECF6",
            "gridcolor": "white",
            "gridwidth": 2,
            "linecolor": "white",
            "showbackground": true,
            "ticks": "",
            "zerolinecolor": "white"
           },
           "yaxis": {
            "backgroundcolor": "#E5ECF6",
            "gridcolor": "white",
            "gridwidth": 2,
            "linecolor": "white",
            "showbackground": true,
            "ticks": "",
            "zerolinecolor": "white"
           },
           "zaxis": {
            "backgroundcolor": "#E5ECF6",
            "gridcolor": "white",
            "gridwidth": 2,
            "linecolor": "white",
            "showbackground": true,
            "ticks": "",
            "zerolinecolor": "white"
           }
          },
          "shapedefaults": {
           "line": {
            "color": "#2a3f5f"
           }
          },
          "ternary": {
           "aaxis": {
            "gridcolor": "white",
            "linecolor": "white",
            "ticks": ""
           },
           "baxis": {
            "gridcolor": "white",
            "linecolor": "white",
            "ticks": ""
           },
           "bgcolor": "#E5ECF6",
           "caxis": {
            "gridcolor": "white",
            "linecolor": "white",
            "ticks": ""
           }
          },
          "title": {
           "x": 0.05
          },
          "xaxis": {
           "automargin": true,
           "gridcolor": "white",
           "linecolor": "white",
           "ticks": "",
           "title": {
            "standoff": 15
           },
           "zerolinecolor": "white",
           "zerolinewidth": 2
          },
          "yaxis": {
           "automargin": true,
           "gridcolor": "white",
           "linecolor": "white",
           "ticks": "",
           "title": {
            "standoff": 15
           },
           "zerolinecolor": "white",
           "zerolinewidth": 2
          }
         }
        },
        "title": {
         "font": {
          "color": "#4D5663"
         },
         "text": "Number of hotels by Room Types"
        },
        "xaxis": {
         "gridcolor": "#E1E5ED",
         "linecolor": "black",
         "showgrid": true,
         "tickfont": {
          "color": "#4D5663"
         },
         "title": {
          "font": {
           "color": "#4D5663"
          },
          "text": ""
         },
         "zerolinecolor": "#E1E5ED"
        },
        "yaxis": {
         "gridcolor": "#E1E5ED",
         "linecolor": "black",
         "showgrid": true,
         "tickfont": {
          "color": "#4D5663"
         },
         "title": {
          "font": {
           "color": "#4D5663"
          },
          "text": "Room Types"
         },
         "zerolinecolor": "#E1E5ED"
        }
       }
      },
      "text/html": [
       "<div>                            <div id=\"38be1777-58e9-41b7-8f1d-1263a68d59e6\" class=\"plotly-graph-div\" style=\"height:525px; width:100%;\"></div>            <script type=\"text/javascript\">                require([\"plotly\"], function(Plotly) {                    window.PLOTLYENV=window.PLOTLYENV || {};\n",
       "                    window.PLOTLYENV.BASE_URL='https://plot.ly';                                    if (document.getElementById(\"38be1777-58e9-41b7-8f1d-1263a68d59e6\")) {                    Plotly.newPlot(                        \"38be1777-58e9-41b7-8f1d-1263a68d59e6\",                        [{\"marker\":{\"color\":\"rgba(255, 153, 51, 0.6)\",\"line\":{\"color\":\"rgba(255, 153, 51, 1.0)\",\"width\":1}},\"name\":\"No.of Hotel\",\"orientation\":\"h\",\"text\":\"\",\"x\":[486,896,1046,137,204,78,827,288,17,46,89,124,29,59,0],\"y\":[\"single_room\",\"twin_room\",\"double_room\",\"superior_room\",\"king_room\",\"executive_room\",\"_suite_\",\"triple_room\",\"_penthouse_\",\"standard_room\",\"family_room\",\"deluxe_room\",\"guest_room\",\"_apartment_\",\"_terrace_\"],\"type\":\"bar\"}],                        {\"legend\":{\"bgcolor\":\"#F5F6F9\",\"font\":{\"color\":\"#4D5663\"}},\"paper_bgcolor\":\"#F5F6F9\",\"plot_bgcolor\":\"#F5F6F9\",\"template\":{\"data\":{\"barpolar\":[{\"marker\":{\"line\":{\"color\":\"#E5ECF6\",\"width\":0.5},\"pattern\":{\"fillmode\":\"overlay\",\"size\":10,\"solidity\":0.2}},\"type\":\"barpolar\"}],\"bar\":[{\"error_x\":{\"color\":\"#2a3f5f\"},\"error_y\":{\"color\":\"#2a3f5f\"},\"marker\":{\"line\":{\"color\":\"#E5ECF6\",\"width\":0.5},\"pattern\":{\"fillmode\":\"overlay\",\"size\":10,\"solidity\":0.2}},\"type\":\"bar\"}],\"carpet\":[{\"aaxis\":{\"endlinecolor\":\"#2a3f5f\",\"gridcolor\":\"white\",\"linecolor\":\"white\",\"minorgridcolor\":\"white\",\"startlinecolor\":\"#2a3f5f\"},\"baxis\":{\"endlinecolor\":\"#2a3f5f\",\"gridcolor\":\"white\",\"linecolor\":\"white\",\"minorgridcolor\":\"white\",\"startlinecolor\":\"#2a3f5f\"},\"type\":\"carpet\"}],\"choropleth\":[{\"colorbar\":{\"outlinewidth\":0,\"ticks\":\"\"},\"type\":\"choropleth\"}],\"contourcarpet\":[{\"colorbar\":{\"outlinewidth\":0,\"ticks\":\"\"},\"type\":\"contourcarpet\"}],\"contour\":[{\"colorbar\":{\"outlinewidth\":0,\"ticks\":\"\"},\"colorscale\":[[0.0,\"#0d0887\"],[0.1111111111111111,\"#46039f\"],[0.2222222222222222,\"#7201a8\"],[0.3333333333333333,\"#9c179e\"],[0.4444444444444444,\"#bd3786\"],[0.5555555555555556,\"#d8576b\"],[0.6666666666666666,\"#ed7953\"],[0.7777777777777778,\"#fb9f3a\"],[0.8888888888888888,\"#fdca26\"],[1.0,\"#f0f921\"]],\"type\":\"contour\"}],\"heatmapgl\":[{\"colorbar\":{\"outlinewidth\":0,\"ticks\":\"\"},\"colorscale\":[[0.0,\"#0d0887\"],[0.1111111111111111,\"#46039f\"],[0.2222222222222222,\"#7201a8\"],[0.3333333333333333,\"#9c179e\"],[0.4444444444444444,\"#bd3786\"],[0.5555555555555556,\"#d8576b\"],[0.6666666666666666,\"#ed7953\"],[0.7777777777777778,\"#fb9f3a\"],[0.8888888888888888,\"#fdca26\"],[1.0,\"#f0f921\"]],\"type\":\"heatmapgl\"}],\"heatmap\":[{\"colorbar\":{\"outlinewidth\":0,\"ticks\":\"\"},\"colorscale\":[[0.0,\"#0d0887\"],[0.1111111111111111,\"#46039f\"],[0.2222222222222222,\"#7201a8\"],[0.3333333333333333,\"#9c179e\"],[0.4444444444444444,\"#bd3786\"],[0.5555555555555556,\"#d8576b\"],[0.6666666666666666,\"#ed7953\"],[0.7777777777777778,\"#fb9f3a\"],[0.8888888888888888,\"#fdca26\"],[1.0,\"#f0f921\"]],\"type\":\"heatmap\"}],\"histogram2dcontour\":[{\"colorbar\":{\"outlinewidth\":0,\"ticks\":\"\"},\"colorscale\":[[0.0,\"#0d0887\"],[0.1111111111111111,\"#46039f\"],[0.2222222222222222,\"#7201a8\"],[0.3333333333333333,\"#9c179e\"],[0.4444444444444444,\"#bd3786\"],[0.5555555555555556,\"#d8576b\"],[0.6666666666666666,\"#ed7953\"],[0.7777777777777778,\"#fb9f3a\"],[0.8888888888888888,\"#fdca26\"],[1.0,\"#f0f921\"]],\"type\":\"histogram2dcontour\"}],\"histogram2d\":[{\"colorbar\":{\"outlinewidth\":0,\"ticks\":\"\"},\"colorscale\":[[0.0,\"#0d0887\"],[0.1111111111111111,\"#46039f\"],[0.2222222222222222,\"#7201a8\"],[0.3333333333333333,\"#9c179e\"],[0.4444444444444444,\"#bd3786\"],[0.5555555555555556,\"#d8576b\"],[0.6666666666666666,\"#ed7953\"],[0.7777777777777778,\"#fb9f3a\"],[0.8888888888888888,\"#fdca26\"],[1.0,\"#f0f921\"]],\"type\":\"histogram2d\"}],\"histogram\":[{\"marker\":{\"pattern\":{\"fillmode\":\"overlay\",\"size\":10,\"solidity\":0.2}},\"type\":\"histogram\"}],\"mesh3d\":[{\"colorbar\":{\"outlinewidth\":0,\"ticks\":\"\"},\"type\":\"mesh3d\"}],\"parcoords\":[{\"line\":{\"colorbar\":{\"outlinewidth\":0,\"ticks\":\"\"}},\"type\":\"parcoords\"}],\"pie\":[{\"automargin\":true,\"type\":\"pie\"}],\"scatter3d\":[{\"line\":{\"colorbar\":{\"outlinewidth\":0,\"ticks\":\"\"}},\"marker\":{\"colorbar\":{\"outlinewidth\":0,\"ticks\":\"\"}},\"type\":\"scatter3d\"}],\"scattercarpet\":[{\"marker\":{\"colorbar\":{\"outlinewidth\":0,\"ticks\":\"\"}},\"type\":\"scattercarpet\"}],\"scattergeo\":[{\"marker\":{\"colorbar\":{\"outlinewidth\":0,\"ticks\":\"\"}},\"type\":\"scattergeo\"}],\"scattergl\":[{\"marker\":{\"colorbar\":{\"outlinewidth\":0,\"ticks\":\"\"}},\"type\":\"scattergl\"}],\"scattermapbox\":[{\"marker\":{\"colorbar\":{\"outlinewidth\":0,\"ticks\":\"\"}},\"type\":\"scattermapbox\"}],\"scatterpolargl\":[{\"marker\":{\"colorbar\":{\"outlinewidth\":0,\"ticks\":\"\"}},\"type\":\"scatterpolargl\"}],\"scatterpolar\":[{\"marker\":{\"colorbar\":{\"outlinewidth\":0,\"ticks\":\"\"}},\"type\":\"scatterpolar\"}],\"scatter\":[{\"fillpattern\":{\"fillmode\":\"overlay\",\"size\":10,\"solidity\":0.2},\"type\":\"scatter\"}],\"scatterternary\":[{\"marker\":{\"colorbar\":{\"outlinewidth\":0,\"ticks\":\"\"}},\"type\":\"scatterternary\"}],\"surface\":[{\"colorbar\":{\"outlinewidth\":0,\"ticks\":\"\"},\"colorscale\":[[0.0,\"#0d0887\"],[0.1111111111111111,\"#46039f\"],[0.2222222222222222,\"#7201a8\"],[0.3333333333333333,\"#9c179e\"],[0.4444444444444444,\"#bd3786\"],[0.5555555555555556,\"#d8576b\"],[0.6666666666666666,\"#ed7953\"],[0.7777777777777778,\"#fb9f3a\"],[0.8888888888888888,\"#fdca26\"],[1.0,\"#f0f921\"]],\"type\":\"surface\"}],\"table\":[{\"cells\":{\"fill\":{\"color\":\"#EBF0F8\"},\"line\":{\"color\":\"white\"}},\"header\":{\"fill\":{\"color\":\"#C8D4E3\"},\"line\":{\"color\":\"white\"}},\"type\":\"table\"}]},\"layout\":{\"annotationdefaults\":{\"arrowcolor\":\"#2a3f5f\",\"arrowhead\":0,\"arrowwidth\":1},\"autotypenumbers\":\"strict\",\"coloraxis\":{\"colorbar\":{\"outlinewidth\":0,\"ticks\":\"\"}},\"colorscale\":{\"diverging\":[[0,\"#8e0152\"],[0.1,\"#c51b7d\"],[0.2,\"#de77ae\"],[0.3,\"#f1b6da\"],[0.4,\"#fde0ef\"],[0.5,\"#f7f7f7\"],[0.6,\"#e6f5d0\"],[0.7,\"#b8e186\"],[0.8,\"#7fbc41\"],[0.9,\"#4d9221\"],[1,\"#276419\"]],\"sequential\":[[0.0,\"#0d0887\"],[0.1111111111111111,\"#46039f\"],[0.2222222222222222,\"#7201a8\"],[0.3333333333333333,\"#9c179e\"],[0.4444444444444444,\"#bd3786\"],[0.5555555555555556,\"#d8576b\"],[0.6666666666666666,\"#ed7953\"],[0.7777777777777778,\"#fb9f3a\"],[0.8888888888888888,\"#fdca26\"],[1.0,\"#f0f921\"]],\"sequentialminus\":[[0.0,\"#0d0887\"],[0.1111111111111111,\"#46039f\"],[0.2222222222222222,\"#7201a8\"],[0.3333333333333333,\"#9c179e\"],[0.4444444444444444,\"#bd3786\"],[0.5555555555555556,\"#d8576b\"],[0.6666666666666666,\"#ed7953\"],[0.7777777777777778,\"#fb9f3a\"],[0.8888888888888888,\"#fdca26\"],[1.0,\"#f0f921\"]]},\"colorway\":[\"#636efa\",\"#EF553B\",\"#00cc96\",\"#ab63fa\",\"#FFA15A\",\"#19d3f3\",\"#FF6692\",\"#B6E880\",\"#FF97FF\",\"#FECB52\"],\"font\":{\"color\":\"#2a3f5f\"},\"geo\":{\"bgcolor\":\"white\",\"lakecolor\":\"white\",\"landcolor\":\"#E5ECF6\",\"showlakes\":true,\"showland\":true,\"subunitcolor\":\"white\"},\"hoverlabel\":{\"align\":\"left\"},\"hovermode\":\"closest\",\"mapbox\":{\"style\":\"light\"},\"paper_bgcolor\":\"white\",\"plot_bgcolor\":\"#E5ECF6\",\"polar\":{\"angularaxis\":{\"gridcolor\":\"white\",\"linecolor\":\"white\",\"ticks\":\"\"},\"bgcolor\":\"#E5ECF6\",\"radialaxis\":{\"gridcolor\":\"white\",\"linecolor\":\"white\",\"ticks\":\"\"}},\"scene\":{\"xaxis\":{\"backgroundcolor\":\"#E5ECF6\",\"gridcolor\":\"white\",\"gridwidth\":2,\"linecolor\":\"white\",\"showbackground\":true,\"ticks\":\"\",\"zerolinecolor\":\"white\"},\"yaxis\":{\"backgroundcolor\":\"#E5ECF6\",\"gridcolor\":\"white\",\"gridwidth\":2,\"linecolor\":\"white\",\"showbackground\":true,\"ticks\":\"\",\"zerolinecolor\":\"white\"},\"zaxis\":{\"backgroundcolor\":\"#E5ECF6\",\"gridcolor\":\"white\",\"gridwidth\":2,\"linecolor\":\"white\",\"showbackground\":true,\"ticks\":\"\",\"zerolinecolor\":\"white\"}},\"shapedefaults\":{\"line\":{\"color\":\"#2a3f5f\"}},\"ternary\":{\"aaxis\":{\"gridcolor\":\"white\",\"linecolor\":\"white\",\"ticks\":\"\"},\"baxis\":{\"gridcolor\":\"white\",\"linecolor\":\"white\",\"ticks\":\"\"},\"bgcolor\":\"#E5ECF6\",\"caxis\":{\"gridcolor\":\"white\",\"linecolor\":\"white\",\"ticks\":\"\"}},\"title\":{\"x\":0.05},\"xaxis\":{\"automargin\":true,\"gridcolor\":\"white\",\"linecolor\":\"white\",\"ticks\":\"\",\"title\":{\"standoff\":15},\"zerolinecolor\":\"white\",\"zerolinewidth\":2},\"yaxis\":{\"automargin\":true,\"gridcolor\":\"white\",\"linecolor\":\"white\",\"ticks\":\"\",\"title\":{\"standoff\":15},\"zerolinecolor\":\"white\",\"zerolinewidth\":2}}},\"title\":{\"font\":{\"color\":\"#4D5663\"},\"text\":\"Number of hotels by Room Types\"},\"xaxis\":{\"gridcolor\":\"#E1E5ED\",\"linecolor\":\"black\",\"showgrid\":true,\"tickfont\":{\"color\":\"#4D5663\"},\"title\":{\"font\":{\"color\":\"#4D5663\"},\"text\":\"\"},\"zerolinecolor\":\"#E1E5ED\"},\"yaxis\":{\"gridcolor\":\"#E1E5ED\",\"linecolor\":\"black\",\"showgrid\":true,\"tickfont\":{\"color\":\"#4D5663\"},\"title\":{\"font\":{\"color\":\"#4D5663\"},\"text\":\"Room Types\"},\"zerolinecolor\":\"#E1E5ED\"}},                        {\"showLink\": true, \"linkText\": \"Export to plot.ly\", \"plotlyServerURL\": \"https://plot.ly\", \"responsive\": true}                    ).then(function(){\n",
       "                            \n",
       "var gd = document.getElementById('38be1777-58e9-41b7-8f1d-1263a68d59e6');\n",
       "var x = new MutationObserver(function (mutations, observer) {{\n",
       "        var display = window.getComputedStyle(gd).display;\n",
       "        if (!display || display === 'none') {{\n",
       "            console.log([gd, 'removed!']);\n",
       "            Plotly.purge(gd);\n",
       "            observer.disconnect();\n",
       "        }}\n",
       "}});\n",
       "\n",
       "// Listen for the removal of the full notebook cells\n",
       "var notebookContainer = gd.closest('#notebook-container');\n",
       "if (notebookContainer) {{\n",
       "    x.observe(notebookContainer, {childList: true});\n",
       "}}\n",
       "\n",
       "// Listen for the clearing of the current output cell\n",
       "var outputEl = gd.closest('.output');\n",
       "if (outputEl) {{\n",
       "    x.observe(outputEl, {childList: true});\n",
       "}}\n",
       "\n",
       "                        })                };                });            </script>        </div>"
      ]
     },
     "metadata": {},
     "output_type": "display_data"
    }
   ],
   "source": [
    "df1 = pd.DataFrame({'No.of Hotel': room_count}, index=index_room)\n",
    "ax = df1.iplot(kind='barh', yTitle='Room Types', linecolor='black', title='Number of hotels by Room Types')\n",
    "ax\n"
   ]
  },
  {
   "cell_type": "markdown",
   "metadata": {},
   "source": [
    "![Drag Racing](../image/room_charactertistic.png)\n"
   ]
  },
  {
   "cell_type": "markdown",
   "metadata": {},
   "source": [
    "#### Visualisation of  types of hotel characteristics"
   ]
  },
  {
   "cell_type": "code",
   "execution_count": 66,
   "metadata": {},
   "outputs": [],
   "source": [
    "index_view = ['river_view','private_pool','break_fast','spa_bath','city_view','sea_view','eiffel_tower_view'\n",
    "              ,'wheelchair_accessible']\n",
    "view_count=[]\n",
    "\n",
    "for i in index_view:\n",
    "    view_count.append(get_special(i).shape[0])"
   ]
  },
  {
   "cell_type": "code",
   "execution_count": 67,
   "metadata": {},
   "outputs": [
    {
     "data": {
      "application/vnd.plotly.v1+json": {
       "config": {
        "linkText": "Export to plot.ly",
        "plotlyServerURL": "https://plot.ly",
        "showLink": true
       },
       "data": [
        {
         "marker": {
          "color": "rgba(55, 128, 191, 0.6)",
          "line": {
           "color": "rgba(55, 128, 191, 1.0)",
           "width": 1
          }
         },
         "name": "No.of Hotel",
         "orientation": "h",
         "text": "",
         "type": "bar",
         "x": [
          18,
          6,
          9,
          15,
          58,
          10,
          14,
          1
         ],
         "y": [
          "river_view",
          "private_pool",
          "break_fast",
          "spa_bath",
          "city_view",
          "sea_view",
          "eiffel_tower_view",
          "wheelchair_accessible"
         ]
        }
       ],
       "layout": {
        "legend": {
         "bgcolor": "#F5F6F9",
         "font": {
          "color": "#4D5663"
         }
        },
        "paper_bgcolor": "#F5F6F9",
        "plot_bgcolor": "#F5F6F9",
        "template": {
         "data": {
          "bar": [
           {
            "error_x": {
             "color": "#2a3f5f"
            },
            "error_y": {
             "color": "#2a3f5f"
            },
            "marker": {
             "line": {
              "color": "#E5ECF6",
              "width": 0.5
             },
             "pattern": {
              "fillmode": "overlay",
              "size": 10,
              "solidity": 0.2
             }
            },
            "type": "bar"
           }
          ],
          "barpolar": [
           {
            "marker": {
             "line": {
              "color": "#E5ECF6",
              "width": 0.5
             },
             "pattern": {
              "fillmode": "overlay",
              "size": 10,
              "solidity": 0.2
             }
            },
            "type": "barpolar"
           }
          ],
          "carpet": [
           {
            "aaxis": {
             "endlinecolor": "#2a3f5f",
             "gridcolor": "white",
             "linecolor": "white",
             "minorgridcolor": "white",
             "startlinecolor": "#2a3f5f"
            },
            "baxis": {
             "endlinecolor": "#2a3f5f",
             "gridcolor": "white",
             "linecolor": "white",
             "minorgridcolor": "white",
             "startlinecolor": "#2a3f5f"
            },
            "type": "carpet"
           }
          ],
          "choropleth": [
           {
            "colorbar": {
             "outlinewidth": 0,
             "ticks": ""
            },
            "type": "choropleth"
           }
          ],
          "contour": [
           {
            "colorbar": {
             "outlinewidth": 0,
             "ticks": ""
            },
            "colorscale": [
             [
              0,
              "#0d0887"
             ],
             [
              0.1111111111111111,
              "#46039f"
             ],
             [
              0.2222222222222222,
              "#7201a8"
             ],
             [
              0.3333333333333333,
              "#9c179e"
             ],
             [
              0.4444444444444444,
              "#bd3786"
             ],
             [
              0.5555555555555556,
              "#d8576b"
             ],
             [
              0.6666666666666666,
              "#ed7953"
             ],
             [
              0.7777777777777778,
              "#fb9f3a"
             ],
             [
              0.8888888888888888,
              "#fdca26"
             ],
             [
              1,
              "#f0f921"
             ]
            ],
            "type": "contour"
           }
          ],
          "contourcarpet": [
           {
            "colorbar": {
             "outlinewidth": 0,
             "ticks": ""
            },
            "type": "contourcarpet"
           }
          ],
          "heatmap": [
           {
            "colorbar": {
             "outlinewidth": 0,
             "ticks": ""
            },
            "colorscale": [
             [
              0,
              "#0d0887"
             ],
             [
              0.1111111111111111,
              "#46039f"
             ],
             [
              0.2222222222222222,
              "#7201a8"
             ],
             [
              0.3333333333333333,
              "#9c179e"
             ],
             [
              0.4444444444444444,
              "#bd3786"
             ],
             [
              0.5555555555555556,
              "#d8576b"
             ],
             [
              0.6666666666666666,
              "#ed7953"
             ],
             [
              0.7777777777777778,
              "#fb9f3a"
             ],
             [
              0.8888888888888888,
              "#fdca26"
             ],
             [
              1,
              "#f0f921"
             ]
            ],
            "type": "heatmap"
           }
          ],
          "heatmapgl": [
           {
            "colorbar": {
             "outlinewidth": 0,
             "ticks": ""
            },
            "colorscale": [
             [
              0,
              "#0d0887"
             ],
             [
              0.1111111111111111,
              "#46039f"
             ],
             [
              0.2222222222222222,
              "#7201a8"
             ],
             [
              0.3333333333333333,
              "#9c179e"
             ],
             [
              0.4444444444444444,
              "#bd3786"
             ],
             [
              0.5555555555555556,
              "#d8576b"
             ],
             [
              0.6666666666666666,
              "#ed7953"
             ],
             [
              0.7777777777777778,
              "#fb9f3a"
             ],
             [
              0.8888888888888888,
              "#fdca26"
             ],
             [
              1,
              "#f0f921"
             ]
            ],
            "type": "heatmapgl"
           }
          ],
          "histogram": [
           {
            "marker": {
             "pattern": {
              "fillmode": "overlay",
              "size": 10,
              "solidity": 0.2
             }
            },
            "type": "histogram"
           }
          ],
          "histogram2d": [
           {
            "colorbar": {
             "outlinewidth": 0,
             "ticks": ""
            },
            "colorscale": [
             [
              0,
              "#0d0887"
             ],
             [
              0.1111111111111111,
              "#46039f"
             ],
             [
              0.2222222222222222,
              "#7201a8"
             ],
             [
              0.3333333333333333,
              "#9c179e"
             ],
             [
              0.4444444444444444,
              "#bd3786"
             ],
             [
              0.5555555555555556,
              "#d8576b"
             ],
             [
              0.6666666666666666,
              "#ed7953"
             ],
             [
              0.7777777777777778,
              "#fb9f3a"
             ],
             [
              0.8888888888888888,
              "#fdca26"
             ],
             [
              1,
              "#f0f921"
             ]
            ],
            "type": "histogram2d"
           }
          ],
          "histogram2dcontour": [
           {
            "colorbar": {
             "outlinewidth": 0,
             "ticks": ""
            },
            "colorscale": [
             [
              0,
              "#0d0887"
             ],
             [
              0.1111111111111111,
              "#46039f"
             ],
             [
              0.2222222222222222,
              "#7201a8"
             ],
             [
              0.3333333333333333,
              "#9c179e"
             ],
             [
              0.4444444444444444,
              "#bd3786"
             ],
             [
              0.5555555555555556,
              "#d8576b"
             ],
             [
              0.6666666666666666,
              "#ed7953"
             ],
             [
              0.7777777777777778,
              "#fb9f3a"
             ],
             [
              0.8888888888888888,
              "#fdca26"
             ],
             [
              1,
              "#f0f921"
             ]
            ],
            "type": "histogram2dcontour"
           }
          ],
          "mesh3d": [
           {
            "colorbar": {
             "outlinewidth": 0,
             "ticks": ""
            },
            "type": "mesh3d"
           }
          ],
          "parcoords": [
           {
            "line": {
             "colorbar": {
              "outlinewidth": 0,
              "ticks": ""
             }
            },
            "type": "parcoords"
           }
          ],
          "pie": [
           {
            "automargin": true,
            "type": "pie"
           }
          ],
          "scatter": [
           {
            "fillpattern": {
             "fillmode": "overlay",
             "size": 10,
             "solidity": 0.2
            },
            "type": "scatter"
           }
          ],
          "scatter3d": [
           {
            "line": {
             "colorbar": {
              "outlinewidth": 0,
              "ticks": ""
             }
            },
            "marker": {
             "colorbar": {
              "outlinewidth": 0,
              "ticks": ""
             }
            },
            "type": "scatter3d"
           }
          ],
          "scattercarpet": [
           {
            "marker": {
             "colorbar": {
              "outlinewidth": 0,
              "ticks": ""
             }
            },
            "type": "scattercarpet"
           }
          ],
          "scattergeo": [
           {
            "marker": {
             "colorbar": {
              "outlinewidth": 0,
              "ticks": ""
             }
            },
            "type": "scattergeo"
           }
          ],
          "scattergl": [
           {
            "marker": {
             "colorbar": {
              "outlinewidth": 0,
              "ticks": ""
             }
            },
            "type": "scattergl"
           }
          ],
          "scattermapbox": [
           {
            "marker": {
             "colorbar": {
              "outlinewidth": 0,
              "ticks": ""
             }
            },
            "type": "scattermapbox"
           }
          ],
          "scatterpolar": [
           {
            "marker": {
             "colorbar": {
              "outlinewidth": 0,
              "ticks": ""
             }
            },
            "type": "scatterpolar"
           }
          ],
          "scatterpolargl": [
           {
            "marker": {
             "colorbar": {
              "outlinewidth": 0,
              "ticks": ""
             }
            },
            "type": "scatterpolargl"
           }
          ],
          "scatterternary": [
           {
            "marker": {
             "colorbar": {
              "outlinewidth": 0,
              "ticks": ""
             }
            },
            "type": "scatterternary"
           }
          ],
          "surface": [
           {
            "colorbar": {
             "outlinewidth": 0,
             "ticks": ""
            },
            "colorscale": [
             [
              0,
              "#0d0887"
             ],
             [
              0.1111111111111111,
              "#46039f"
             ],
             [
              0.2222222222222222,
              "#7201a8"
             ],
             [
              0.3333333333333333,
              "#9c179e"
             ],
             [
              0.4444444444444444,
              "#bd3786"
             ],
             [
              0.5555555555555556,
              "#d8576b"
             ],
             [
              0.6666666666666666,
              "#ed7953"
             ],
             [
              0.7777777777777778,
              "#fb9f3a"
             ],
             [
              0.8888888888888888,
              "#fdca26"
             ],
             [
              1,
              "#f0f921"
             ]
            ],
            "type": "surface"
           }
          ],
          "table": [
           {
            "cells": {
             "fill": {
              "color": "#EBF0F8"
             },
             "line": {
              "color": "white"
             }
            },
            "header": {
             "fill": {
              "color": "#C8D4E3"
             },
             "line": {
              "color": "white"
             }
            },
            "type": "table"
           }
          ]
         },
         "layout": {
          "annotationdefaults": {
           "arrowcolor": "#2a3f5f",
           "arrowhead": 0,
           "arrowwidth": 1
          },
          "autotypenumbers": "strict",
          "coloraxis": {
           "colorbar": {
            "outlinewidth": 0,
            "ticks": ""
           }
          },
          "colorscale": {
           "diverging": [
            [
             0,
             "#8e0152"
            ],
            [
             0.1,
             "#c51b7d"
            ],
            [
             0.2,
             "#de77ae"
            ],
            [
             0.3,
             "#f1b6da"
            ],
            [
             0.4,
             "#fde0ef"
            ],
            [
             0.5,
             "#f7f7f7"
            ],
            [
             0.6,
             "#e6f5d0"
            ],
            [
             0.7,
             "#b8e186"
            ],
            [
             0.8,
             "#7fbc41"
            ],
            [
             0.9,
             "#4d9221"
            ],
            [
             1,
             "#276419"
            ]
           ],
           "sequential": [
            [
             0,
             "#0d0887"
            ],
            [
             0.1111111111111111,
             "#46039f"
            ],
            [
             0.2222222222222222,
             "#7201a8"
            ],
            [
             0.3333333333333333,
             "#9c179e"
            ],
            [
             0.4444444444444444,
             "#bd3786"
            ],
            [
             0.5555555555555556,
             "#d8576b"
            ],
            [
             0.6666666666666666,
             "#ed7953"
            ],
            [
             0.7777777777777778,
             "#fb9f3a"
            ],
            [
             0.8888888888888888,
             "#fdca26"
            ],
            [
             1,
             "#f0f921"
            ]
           ],
           "sequentialminus": [
            [
             0,
             "#0d0887"
            ],
            [
             0.1111111111111111,
             "#46039f"
            ],
            [
             0.2222222222222222,
             "#7201a8"
            ],
            [
             0.3333333333333333,
             "#9c179e"
            ],
            [
             0.4444444444444444,
             "#bd3786"
            ],
            [
             0.5555555555555556,
             "#d8576b"
            ],
            [
             0.6666666666666666,
             "#ed7953"
            ],
            [
             0.7777777777777778,
             "#fb9f3a"
            ],
            [
             0.8888888888888888,
             "#fdca26"
            ],
            [
             1,
             "#f0f921"
            ]
           ]
          },
          "colorway": [
           "#636efa",
           "#EF553B",
           "#00cc96",
           "#ab63fa",
           "#FFA15A",
           "#19d3f3",
           "#FF6692",
           "#B6E880",
           "#FF97FF",
           "#FECB52"
          ],
          "font": {
           "color": "#2a3f5f"
          },
          "geo": {
           "bgcolor": "white",
           "lakecolor": "white",
           "landcolor": "#E5ECF6",
           "showlakes": true,
           "showland": true,
           "subunitcolor": "white"
          },
          "hoverlabel": {
           "align": "left"
          },
          "hovermode": "closest",
          "mapbox": {
           "style": "light"
          },
          "paper_bgcolor": "white",
          "plot_bgcolor": "#E5ECF6",
          "polar": {
           "angularaxis": {
            "gridcolor": "white",
            "linecolor": "white",
            "ticks": ""
           },
           "bgcolor": "#E5ECF6",
           "radialaxis": {
            "gridcolor": "white",
            "linecolor": "white",
            "ticks": ""
           }
          },
          "scene": {
           "xaxis": {
            "backgroundcolor": "#E5ECF6",
            "gridcolor": "white",
            "gridwidth": 2,
            "linecolor": "white",
            "showbackground": true,
            "ticks": "",
            "zerolinecolor": "white"
           },
           "yaxis": {
            "backgroundcolor": "#E5ECF6",
            "gridcolor": "white",
            "gridwidth": 2,
            "linecolor": "white",
            "showbackground": true,
            "ticks": "",
            "zerolinecolor": "white"
           },
           "zaxis": {
            "backgroundcolor": "#E5ECF6",
            "gridcolor": "white",
            "gridwidth": 2,
            "linecolor": "white",
            "showbackground": true,
            "ticks": "",
            "zerolinecolor": "white"
           }
          },
          "shapedefaults": {
           "line": {
            "color": "#2a3f5f"
           }
          },
          "ternary": {
           "aaxis": {
            "gridcolor": "white",
            "linecolor": "white",
            "ticks": ""
           },
           "baxis": {
            "gridcolor": "white",
            "linecolor": "white",
            "ticks": ""
           },
           "bgcolor": "#E5ECF6",
           "caxis": {
            "gridcolor": "white",
            "linecolor": "white",
            "ticks": ""
           }
          },
          "title": {
           "x": 0.05
          },
          "xaxis": {
           "automargin": true,
           "gridcolor": "white",
           "linecolor": "white",
           "ticks": "",
           "title": {
            "standoff": 15
           },
           "zerolinecolor": "white",
           "zerolinewidth": 2
          },
          "yaxis": {
           "automargin": true,
           "gridcolor": "white",
           "linecolor": "white",
           "ticks": "",
           "title": {
            "standoff": 15
           },
           "zerolinecolor": "white",
           "zerolinewidth": 2
          }
         }
        },
        "title": {
         "font": {
          "color": "#4D5663"
         },
         "text": "Number of hotels with special characteristics"
        },
        "xaxis": {
         "gridcolor": "#E1E5ED",
         "linecolor": "black",
         "showgrid": true,
         "tickfont": {
          "color": "#4D5663"
         },
         "title": {
          "font": {
           "color": "#4D5663"
          },
          "text": ""
         },
         "zerolinecolor": "#E1E5ED"
        },
        "yaxis": {
         "gridcolor": "#E1E5ED",
         "linecolor": "black",
         "showgrid": true,
         "tickfont": {
          "color": "#4D5663"
         },
         "title": {
          "font": {
           "color": "#4D5663"
          },
          "text": "Characteristic"
         },
         "zerolinecolor": "#E1E5ED"
        }
       }
      },
      "text/html": [
       "<div>                            <div id=\"c0c0dfb0-2274-4be9-ba30-b87650beb0e4\" class=\"plotly-graph-div\" style=\"height:525px; width:100%;\"></div>            <script type=\"text/javascript\">                require([\"plotly\"], function(Plotly) {                    window.PLOTLYENV=window.PLOTLYENV || {};\n",
       "                    window.PLOTLYENV.BASE_URL='https://plot.ly';                                    if (document.getElementById(\"c0c0dfb0-2274-4be9-ba30-b87650beb0e4\")) {                    Plotly.newPlot(                        \"c0c0dfb0-2274-4be9-ba30-b87650beb0e4\",                        [{\"marker\":{\"color\":\"rgba(55, 128, 191, 0.6)\",\"line\":{\"color\":\"rgba(55, 128, 191, 1.0)\",\"width\":1}},\"name\":\"No.of Hotel\",\"orientation\":\"h\",\"text\":\"\",\"x\":[18,6,9,15,58,10,14,1],\"y\":[\"river_view\",\"private_pool\",\"break_fast\",\"spa_bath\",\"city_view\",\"sea_view\",\"eiffel_tower_view\",\"wheelchair_accessible\"],\"type\":\"bar\"}],                        {\"legend\":{\"bgcolor\":\"#F5F6F9\",\"font\":{\"color\":\"#4D5663\"}},\"paper_bgcolor\":\"#F5F6F9\",\"plot_bgcolor\":\"#F5F6F9\",\"template\":{\"data\":{\"barpolar\":[{\"marker\":{\"line\":{\"color\":\"#E5ECF6\",\"width\":0.5},\"pattern\":{\"fillmode\":\"overlay\",\"size\":10,\"solidity\":0.2}},\"type\":\"barpolar\"}],\"bar\":[{\"error_x\":{\"color\":\"#2a3f5f\"},\"error_y\":{\"color\":\"#2a3f5f\"},\"marker\":{\"line\":{\"color\":\"#E5ECF6\",\"width\":0.5},\"pattern\":{\"fillmode\":\"overlay\",\"size\":10,\"solidity\":0.2}},\"type\":\"bar\"}],\"carpet\":[{\"aaxis\":{\"endlinecolor\":\"#2a3f5f\",\"gridcolor\":\"white\",\"linecolor\":\"white\",\"minorgridcolor\":\"white\",\"startlinecolor\":\"#2a3f5f\"},\"baxis\":{\"endlinecolor\":\"#2a3f5f\",\"gridcolor\":\"white\",\"linecolor\":\"white\",\"minorgridcolor\":\"white\",\"startlinecolor\":\"#2a3f5f\"},\"type\":\"carpet\"}],\"choropleth\":[{\"colorbar\":{\"outlinewidth\":0,\"ticks\":\"\"},\"type\":\"choropleth\"}],\"contourcarpet\":[{\"colorbar\":{\"outlinewidth\":0,\"ticks\":\"\"},\"type\":\"contourcarpet\"}],\"contour\":[{\"colorbar\":{\"outlinewidth\":0,\"ticks\":\"\"},\"colorscale\":[[0.0,\"#0d0887\"],[0.1111111111111111,\"#46039f\"],[0.2222222222222222,\"#7201a8\"],[0.3333333333333333,\"#9c179e\"],[0.4444444444444444,\"#bd3786\"],[0.5555555555555556,\"#d8576b\"],[0.6666666666666666,\"#ed7953\"],[0.7777777777777778,\"#fb9f3a\"],[0.8888888888888888,\"#fdca26\"],[1.0,\"#f0f921\"]],\"type\":\"contour\"}],\"heatmapgl\":[{\"colorbar\":{\"outlinewidth\":0,\"ticks\":\"\"},\"colorscale\":[[0.0,\"#0d0887\"],[0.1111111111111111,\"#46039f\"],[0.2222222222222222,\"#7201a8\"],[0.3333333333333333,\"#9c179e\"],[0.4444444444444444,\"#bd3786\"],[0.5555555555555556,\"#d8576b\"],[0.6666666666666666,\"#ed7953\"],[0.7777777777777778,\"#fb9f3a\"],[0.8888888888888888,\"#fdca26\"],[1.0,\"#f0f921\"]],\"type\":\"heatmapgl\"}],\"heatmap\":[{\"colorbar\":{\"outlinewidth\":0,\"ticks\":\"\"},\"colorscale\":[[0.0,\"#0d0887\"],[0.1111111111111111,\"#46039f\"],[0.2222222222222222,\"#7201a8\"],[0.3333333333333333,\"#9c179e\"],[0.4444444444444444,\"#bd3786\"],[0.5555555555555556,\"#d8576b\"],[0.6666666666666666,\"#ed7953\"],[0.7777777777777778,\"#fb9f3a\"],[0.8888888888888888,\"#fdca26\"],[1.0,\"#f0f921\"]],\"type\":\"heatmap\"}],\"histogram2dcontour\":[{\"colorbar\":{\"outlinewidth\":0,\"ticks\":\"\"},\"colorscale\":[[0.0,\"#0d0887\"],[0.1111111111111111,\"#46039f\"],[0.2222222222222222,\"#7201a8\"],[0.3333333333333333,\"#9c179e\"],[0.4444444444444444,\"#bd3786\"],[0.5555555555555556,\"#d8576b\"],[0.6666666666666666,\"#ed7953\"],[0.7777777777777778,\"#fb9f3a\"],[0.8888888888888888,\"#fdca26\"],[1.0,\"#f0f921\"]],\"type\":\"histogram2dcontour\"}],\"histogram2d\":[{\"colorbar\":{\"outlinewidth\":0,\"ticks\":\"\"},\"colorscale\":[[0.0,\"#0d0887\"],[0.1111111111111111,\"#46039f\"],[0.2222222222222222,\"#7201a8\"],[0.3333333333333333,\"#9c179e\"],[0.4444444444444444,\"#bd3786\"],[0.5555555555555556,\"#d8576b\"],[0.6666666666666666,\"#ed7953\"],[0.7777777777777778,\"#fb9f3a\"],[0.8888888888888888,\"#fdca26\"],[1.0,\"#f0f921\"]],\"type\":\"histogram2d\"}],\"histogram\":[{\"marker\":{\"pattern\":{\"fillmode\":\"overlay\",\"size\":10,\"solidity\":0.2}},\"type\":\"histogram\"}],\"mesh3d\":[{\"colorbar\":{\"outlinewidth\":0,\"ticks\":\"\"},\"type\":\"mesh3d\"}],\"parcoords\":[{\"line\":{\"colorbar\":{\"outlinewidth\":0,\"ticks\":\"\"}},\"type\":\"parcoords\"}],\"pie\":[{\"automargin\":true,\"type\":\"pie\"}],\"scatter3d\":[{\"line\":{\"colorbar\":{\"outlinewidth\":0,\"ticks\":\"\"}},\"marker\":{\"colorbar\":{\"outlinewidth\":0,\"ticks\":\"\"}},\"type\":\"scatter3d\"}],\"scattercarpet\":[{\"marker\":{\"colorbar\":{\"outlinewidth\":0,\"ticks\":\"\"}},\"type\":\"scattercarpet\"}],\"scattergeo\":[{\"marker\":{\"colorbar\":{\"outlinewidth\":0,\"ticks\":\"\"}},\"type\":\"scattergeo\"}],\"scattergl\":[{\"marker\":{\"colorbar\":{\"outlinewidth\":0,\"ticks\":\"\"}},\"type\":\"scattergl\"}],\"scattermapbox\":[{\"marker\":{\"colorbar\":{\"outlinewidth\":0,\"ticks\":\"\"}},\"type\":\"scattermapbox\"}],\"scatterpolargl\":[{\"marker\":{\"colorbar\":{\"outlinewidth\":0,\"ticks\":\"\"}},\"type\":\"scatterpolargl\"}],\"scatterpolar\":[{\"marker\":{\"colorbar\":{\"outlinewidth\":0,\"ticks\":\"\"}},\"type\":\"scatterpolar\"}],\"scatter\":[{\"fillpattern\":{\"fillmode\":\"overlay\",\"size\":10,\"solidity\":0.2},\"type\":\"scatter\"}],\"scatterternary\":[{\"marker\":{\"colorbar\":{\"outlinewidth\":0,\"ticks\":\"\"}},\"type\":\"scatterternary\"}],\"surface\":[{\"colorbar\":{\"outlinewidth\":0,\"ticks\":\"\"},\"colorscale\":[[0.0,\"#0d0887\"],[0.1111111111111111,\"#46039f\"],[0.2222222222222222,\"#7201a8\"],[0.3333333333333333,\"#9c179e\"],[0.4444444444444444,\"#bd3786\"],[0.5555555555555556,\"#d8576b\"],[0.6666666666666666,\"#ed7953\"],[0.7777777777777778,\"#fb9f3a\"],[0.8888888888888888,\"#fdca26\"],[1.0,\"#f0f921\"]],\"type\":\"surface\"}],\"table\":[{\"cells\":{\"fill\":{\"color\":\"#EBF0F8\"},\"line\":{\"color\":\"white\"}},\"header\":{\"fill\":{\"color\":\"#C8D4E3\"},\"line\":{\"color\":\"white\"}},\"type\":\"table\"}]},\"layout\":{\"annotationdefaults\":{\"arrowcolor\":\"#2a3f5f\",\"arrowhead\":0,\"arrowwidth\":1},\"autotypenumbers\":\"strict\",\"coloraxis\":{\"colorbar\":{\"outlinewidth\":0,\"ticks\":\"\"}},\"colorscale\":{\"diverging\":[[0,\"#8e0152\"],[0.1,\"#c51b7d\"],[0.2,\"#de77ae\"],[0.3,\"#f1b6da\"],[0.4,\"#fde0ef\"],[0.5,\"#f7f7f7\"],[0.6,\"#e6f5d0\"],[0.7,\"#b8e186\"],[0.8,\"#7fbc41\"],[0.9,\"#4d9221\"],[1,\"#276419\"]],\"sequential\":[[0.0,\"#0d0887\"],[0.1111111111111111,\"#46039f\"],[0.2222222222222222,\"#7201a8\"],[0.3333333333333333,\"#9c179e\"],[0.4444444444444444,\"#bd3786\"],[0.5555555555555556,\"#d8576b\"],[0.6666666666666666,\"#ed7953\"],[0.7777777777777778,\"#fb9f3a\"],[0.8888888888888888,\"#fdca26\"],[1.0,\"#f0f921\"]],\"sequentialminus\":[[0.0,\"#0d0887\"],[0.1111111111111111,\"#46039f\"],[0.2222222222222222,\"#7201a8\"],[0.3333333333333333,\"#9c179e\"],[0.4444444444444444,\"#bd3786\"],[0.5555555555555556,\"#d8576b\"],[0.6666666666666666,\"#ed7953\"],[0.7777777777777778,\"#fb9f3a\"],[0.8888888888888888,\"#fdca26\"],[1.0,\"#f0f921\"]]},\"colorway\":[\"#636efa\",\"#EF553B\",\"#00cc96\",\"#ab63fa\",\"#FFA15A\",\"#19d3f3\",\"#FF6692\",\"#B6E880\",\"#FF97FF\",\"#FECB52\"],\"font\":{\"color\":\"#2a3f5f\"},\"geo\":{\"bgcolor\":\"white\",\"lakecolor\":\"white\",\"landcolor\":\"#E5ECF6\",\"showlakes\":true,\"showland\":true,\"subunitcolor\":\"white\"},\"hoverlabel\":{\"align\":\"left\"},\"hovermode\":\"closest\",\"mapbox\":{\"style\":\"light\"},\"paper_bgcolor\":\"white\",\"plot_bgcolor\":\"#E5ECF6\",\"polar\":{\"angularaxis\":{\"gridcolor\":\"white\",\"linecolor\":\"white\",\"ticks\":\"\"},\"bgcolor\":\"#E5ECF6\",\"radialaxis\":{\"gridcolor\":\"white\",\"linecolor\":\"white\",\"ticks\":\"\"}},\"scene\":{\"xaxis\":{\"backgroundcolor\":\"#E5ECF6\",\"gridcolor\":\"white\",\"gridwidth\":2,\"linecolor\":\"white\",\"showbackground\":true,\"ticks\":\"\",\"zerolinecolor\":\"white\"},\"yaxis\":{\"backgroundcolor\":\"#E5ECF6\",\"gridcolor\":\"white\",\"gridwidth\":2,\"linecolor\":\"white\",\"showbackground\":true,\"ticks\":\"\",\"zerolinecolor\":\"white\"},\"zaxis\":{\"backgroundcolor\":\"#E5ECF6\",\"gridcolor\":\"white\",\"gridwidth\":2,\"linecolor\":\"white\",\"showbackground\":true,\"ticks\":\"\",\"zerolinecolor\":\"white\"}},\"shapedefaults\":{\"line\":{\"color\":\"#2a3f5f\"}},\"ternary\":{\"aaxis\":{\"gridcolor\":\"white\",\"linecolor\":\"white\",\"ticks\":\"\"},\"baxis\":{\"gridcolor\":\"white\",\"linecolor\":\"white\",\"ticks\":\"\"},\"bgcolor\":\"#E5ECF6\",\"caxis\":{\"gridcolor\":\"white\",\"linecolor\":\"white\",\"ticks\":\"\"}},\"title\":{\"x\":0.05},\"xaxis\":{\"automargin\":true,\"gridcolor\":\"white\",\"linecolor\":\"white\",\"ticks\":\"\",\"title\":{\"standoff\":15},\"zerolinecolor\":\"white\",\"zerolinewidth\":2},\"yaxis\":{\"automargin\":true,\"gridcolor\":\"white\",\"linecolor\":\"white\",\"ticks\":\"\",\"title\":{\"standoff\":15},\"zerolinecolor\":\"white\",\"zerolinewidth\":2}}},\"title\":{\"font\":{\"color\":\"#4D5663\"},\"text\":\"Number of hotels with special characteristics\"},\"xaxis\":{\"gridcolor\":\"#E1E5ED\",\"linecolor\":\"black\",\"showgrid\":true,\"tickfont\":{\"color\":\"#4D5663\"},\"title\":{\"font\":{\"color\":\"#4D5663\"},\"text\":\"\"},\"zerolinecolor\":\"#E1E5ED\"},\"yaxis\":{\"gridcolor\":\"#E1E5ED\",\"linecolor\":\"black\",\"showgrid\":true,\"tickfont\":{\"color\":\"#4D5663\"},\"title\":{\"font\":{\"color\":\"#4D5663\"},\"text\":\"Characteristic\"},\"zerolinecolor\":\"#E1E5ED\"}},                        {\"showLink\": true, \"linkText\": \"Export to plot.ly\", \"plotlyServerURL\": \"https://plot.ly\", \"responsive\": true}                    ).then(function(){\n",
       "                            \n",
       "var gd = document.getElementById('c0c0dfb0-2274-4be9-ba30-b87650beb0e4');\n",
       "var x = new MutationObserver(function (mutations, observer) {{\n",
       "        var display = window.getComputedStyle(gd).display;\n",
       "        if (!display || display === 'none') {{\n",
       "            console.log([gd, 'removed!']);\n",
       "            Plotly.purge(gd);\n",
       "            observer.disconnect();\n",
       "        }}\n",
       "}});\n",
       "\n",
       "// Listen for the removal of the full notebook cells\n",
       "var notebookContainer = gd.closest('#notebook-container');\n",
       "if (notebookContainer) {{\n",
       "    x.observe(notebookContainer, {childList: true});\n",
       "}}\n",
       "\n",
       "// Listen for the clearing of the current output cell\n",
       "var outputEl = gd.closest('.output');\n",
       "if (outputEl) {{\n",
       "    x.observe(outputEl, {childList: true});\n",
       "}}\n",
       "\n",
       "                        })                };                });            </script>        </div>"
      ]
     },
     "metadata": {},
     "output_type": "display_data"
    }
   ],
   "source": [
    "df2 = pd.DataFrame({'No.of Hotel': view_count}, index=index_view)\n",
    "ax2 = df2.iplot(kind='barh', yTitle='Characteristic',colors='blue', linecolor='black', title='Number of hotels with special characteristics')\n",
    "ax2"
   ]
  },
  {
   "cell_type": "markdown",
   "metadata": {},
   "source": [
    "![Drag Racing](../image/hotelcharacteristic.png)\n"
   ]
  },
  {
   "cell_type": "code",
   "execution_count": 68,
   "metadata": {},
   "outputs": [
    {
     "data": {
      "text/plain": [
       "hotel_name                      0\n",
       "tags                            0\n",
       "lat_x                           0\n",
       "lng_x                           0\n",
       "city                            0\n",
       "                               ..\n",
       "large room                      0\n",
       "luxury quadruple room           0\n",
       "art room xl with iconic view    0\n",
       "art room with iconic view       0\n",
       "penta plus room                 0\n",
       "Length: 520, dtype: int64"
      ]
     },
     "execution_count": 68,
     "metadata": {},
     "output_type": "execute_result"
    }
   ],
   "source": [
    "hoteltags_geo.isnull().sum()"
   ]
  },
  {
   "cell_type": "code",
   "execution_count": 69,
   "metadata": {},
   "outputs": [
    {
     "data": {
      "text/plain": [
       "{'2 rooms',\n",
       " '4 rooms',\n",
       " '_suite_',\n",
       " 'business trip',\n",
       " 'couple',\n",
       " 'double_room',\n",
       " 'eiffel_tower_view',\n",
       " 'family with older children',\n",
       " 'family with young children',\n",
       " 'group',\n",
       " 'leisure trip',\n",
       " 'single_room',\n",
       " 'solo traveler',\n",
       " 'travelers with friends',\n",
       " 'twin_room'}"
      ]
     },
     "execution_count": 69,
     "metadata": {},
     "output_type": "execute_result"
    }
   ],
   "source": [
    "hoteltags_geo.new_tags.iloc[323]"
   ]
  },
  {
   "cell_type": "code",
   "execution_count": 70,
   "metadata": {},
   "outputs": [
    {
     "data": {
      "text/plain": [
       "double_room\n",
       "1    1046\n",
       "0     428\n",
       "Name: count, dtype: int64"
      ]
     },
     "execution_count": 70,
     "metadata": {},
     "output_type": "execute_result"
    }
   ],
   "source": [
    "hoteltags_geo['double_room'].value_counts()"
   ]
  },
  {
   "cell_type": "code",
   "execution_count": 71,
   "metadata": {
    "scrolled": true
   },
   "outputs": [
    {
     "data": {
      "text/html": [
       "<div style=\"width:100%;\"><div style=\"position:relative;width:100%;height:0;padding-bottom:60%;\"><span style=\"color:#565656\">Make this Notebook Trusted to load map: File -> Trust Notebook</span><iframe srcdoc=\"&lt;!DOCTYPE html&gt;\n",
       "&lt;html&gt;\n",
       "&lt;head&gt;\n",
       "    \n",
       "    &lt;meta http-equiv=&quot;content-type&quot; content=&quot;text/html; charset=UTF-8&quot; /&gt;\n",
       "    \n",
       "        &lt;script&gt;\n",
       "            L_NO_TOUCH = false;\n",
       "            L_DISABLE_3D = false;\n",
       "        &lt;/script&gt;\n",
       "    \n",
       "    &lt;style&gt;html, body {width: 100%;height: 100%;margin: 0;padding: 0;}&lt;/style&gt;\n",
       "    &lt;style&gt;#map {position:absolute;top:0;bottom:0;right:0;left:0;}&lt;/style&gt;\n",
       "    &lt;script src=&quot;https://cdn.jsdelivr.net/npm/leaflet@1.9.3/dist/leaflet.js&quot;&gt;&lt;/script&gt;\n",
       "    &lt;script src=&quot;https://code.jquery.com/jquery-1.12.4.min.js&quot;&gt;&lt;/script&gt;\n",
       "    &lt;script src=&quot;https://cdn.jsdelivr.net/npm/bootstrap@5.2.2/dist/js/bootstrap.bundle.min.js&quot;&gt;&lt;/script&gt;\n",
       "    &lt;script src=&quot;https://cdnjs.cloudflare.com/ajax/libs/Leaflet.awesome-markers/2.0.2/leaflet.awesome-markers.js&quot;&gt;&lt;/script&gt;\n",
       "    &lt;link rel=&quot;stylesheet&quot; href=&quot;https://cdn.jsdelivr.net/npm/leaflet@1.9.3/dist/leaflet.css&quot;/&gt;\n",
       "    &lt;link rel=&quot;stylesheet&quot; href=&quot;https://cdn.jsdelivr.net/npm/bootstrap@5.2.2/dist/css/bootstrap.min.css&quot;/&gt;\n",
       "    &lt;link rel=&quot;stylesheet&quot; href=&quot;https://netdna.bootstrapcdn.com/bootstrap/3.0.0/css/bootstrap.min.css&quot;/&gt;\n",
       "    &lt;link rel=&quot;stylesheet&quot; href=&quot;https://cdn.jsdelivr.net/npm/@fortawesome/fontawesome-free@6.2.0/css/all.min.css&quot;/&gt;\n",
       "    &lt;link rel=&quot;stylesheet&quot; href=&quot;https://cdnjs.cloudflare.com/ajax/libs/Leaflet.awesome-markers/2.0.2/leaflet.awesome-markers.css&quot;/&gt;\n",
       "    &lt;link rel=&quot;stylesheet&quot; href=&quot;https://cdn.jsdelivr.net/gh/python-visualization/folium/folium/templates/leaflet.awesome.rotate.min.css&quot;/&gt;\n",
       "    \n",
       "            &lt;meta name=&quot;viewport&quot; content=&quot;width=device-width,\n",
       "                initial-scale=1.0, maximum-scale=1.0, user-scalable=no&quot; /&gt;\n",
       "            &lt;style&gt;\n",
       "                #map_05ca11ffee8250a94d61e6d56749e2a9 {\n",
       "                    position: relative;\n",
       "                    width: 100.0%;\n",
       "                    height: 100.0%;\n",
       "                    left: 0.0%;\n",
       "                    top: 0.0%;\n",
       "                }\n",
       "                .leaflet-container { font-size: 1rem; }\n",
       "            &lt;/style&gt;\n",
       "        \n",
       "&lt;/head&gt;\n",
       "&lt;body&gt;\n",
       "    \n",
       "    \n",
       "            &lt;div class=&quot;folium-map&quot; id=&quot;map_05ca11ffee8250a94d61e6d56749e2a9&quot; &gt;&lt;/div&gt;\n",
       "        \n",
       "&lt;/body&gt;\n",
       "&lt;script&gt;\n",
       "    \n",
       "    \n",
       "            var map_05ca11ffee8250a94d61e6d56749e2a9 = L.map(\n",
       "                &quot;map_05ca11ffee8250a94d61e6d56749e2a9&quot;,\n",
       "                {\n",
       "                    center: [48.8475112, 2.3022198],\n",
       "                    crs: L.CRS.EPSG3857,\n",
       "                    zoom: 12,\n",
       "                    zoomControl: true,\n",
       "                    preferCanvas: false,\n",
       "                }\n",
       "            );\n",
       "\n",
       "            \n",
       "\n",
       "        \n",
       "    \n",
       "            var tile_layer_a5f7e1dbd20e15ec4bca1f4536052fae = L.tileLayer(\n",
       "                &quot;https://{s}.tile.openstreetmap.org/{z}/{x}/{y}.png&quot;,\n",
       "                {&quot;attribution&quot;: &quot;Data by \\u0026copy; \\u003ca target=\\&quot;_blank\\&quot; href=\\&quot;http://openstreetmap.org\\&quot;\\u003eOpenStreetMap\\u003c/a\\u003e, under \\u003ca target=\\&quot;_blank\\&quot; href=\\&quot;http://www.openstreetmap.org/copyright\\&quot;\\u003eODbL\\u003c/a\\u003e.&quot;, &quot;detectRetina&quot;: false, &quot;maxNativeZoom&quot;: 18, &quot;maxZoom&quot;: 18, &quot;minZoom&quot;: 0, &quot;noWrap&quot;: false, &quot;opacity&quot;: 1, &quot;subdomains&quot;: &quot;abc&quot;, &quot;tms&quot;: false}\n",
       "            ).addTo(map_05ca11ffee8250a94d61e6d56749e2a9);\n",
       "        \n",
       "    \n",
       "            var tile_layer_67c95218b18f1697c833e924e9593c02 = L.tileLayer(\n",
       "                &quot;https://{s}.tile.openstreetmap.org/{z}/{x}/{y}.png&quot;,\n",
       "                {&quot;attribution&quot;: &quot;Data by \\u0026copy; \\u003ca target=\\&quot;_blank\\&quot; href=\\&quot;http://openstreetmap.org\\&quot;\\u003eOpenStreetMap\\u003c/a\\u003e, under \\u003ca target=\\&quot;_blank\\&quot; href=\\&quot;http://www.openstreetmap.org/copyright\\&quot;\\u003eODbL\\u003c/a\\u003e.&quot;, &quot;detectRetina&quot;: false, &quot;maxNativeZoom&quot;: 18, &quot;maxZoom&quot;: 18, &quot;minZoom&quot;: 0, &quot;noWrap&quot;: false, &quot;opacity&quot;: 1, &quot;subdomains&quot;: &quot;abc&quot;, &quot;tms&quot;: false}\n",
       "            ).addTo(map_05ca11ffee8250a94d61e6d56749e2a9);\n",
       "        \n",
       "    \n",
       "            var marker_82551df1006ee9e6d3a06134ffcb29d9 = L.marker(\n",
       "                [48.8475112, 2.3022198],\n",
       "                {}\n",
       "            ).addTo(map_05ca11ffee8250a94d61e6d56749e2a9);\n",
       "        \n",
       "    \n",
       "            var icon_8b60ed5a9e83c466cb770bd8b8144c72 = L.AwesomeMarkers.icon(\n",
       "                {&quot;extraClasses&quot;: &quot;fa-rotate-0&quot;, &quot;icon&quot;: &quot;info-sign&quot;, &quot;iconColor&quot;: &quot;white&quot;, &quot;markerColor&quot;: &quot;blue&quot;, &quot;prefix&quot;: &quot;glyphicon&quot;}\n",
       "            );\n",
       "            marker_82551df1006ee9e6d3a06134ffcb29d9.setIcon(icon_8b60ed5a9e83c466cb770bd8b8144c72);\n",
       "        \n",
       "    \n",
       "            marker_82551df1006ee9e6d3a06134ffcb29d9.bindTooltip(\n",
       "                `&lt;div&gt;\n",
       "                     First Hotel Paris Tour Eiffel\n",
       "                 &lt;/div&gt;`,\n",
       "                {&quot;sticky&quot;: true}\n",
       "            );\n",
       "        \n",
       "    \n",
       "            var marker_ac8a3abbe861de675021fcd65f0fde83 = L.marker(\n",
       "                [48.8528427, 2.3422256],\n",
       "                {}\n",
       "            ).addTo(map_05ca11ffee8250a94d61e6d56749e2a9);\n",
       "        \n",
       "    \n",
       "            var icon_af24e02ce9e5eb477c6193d7bd72cf77 = L.AwesomeMarkers.icon(\n",
       "                {&quot;extraClasses&quot;: &quot;fa-rotate-0&quot;, &quot;icon&quot;: &quot;info-sign&quot;, &quot;iconColor&quot;: &quot;white&quot;, &quot;markerColor&quot;: &quot;blue&quot;, &quot;prefix&quot;: &quot;glyphicon&quot;}\n",
       "            );\n",
       "            marker_ac8a3abbe861de675021fcd65f0fde83.setIcon(icon_af24e02ce9e5eb477c6193d7bd72cf77);\n",
       "        \n",
       "    \n",
       "            marker_ac8a3abbe861de675021fcd65f0fde83.bindTooltip(\n",
       "                `&lt;div&gt;\n",
       "                     Holiday Inn Paris Notre Dame\n",
       "                 &lt;/div&gt;`,\n",
       "                {&quot;sticky&quot;: true}\n",
       "            );\n",
       "        \n",
       "    \n",
       "            var marker_fe25d2a89a7aa1a0f28ce052c2397ec5 = L.marker(\n",
       "                [48.8649306, 2.3290844],\n",
       "                {}\n",
       "            ).addTo(map_05ca11ffee8250a94d61e6d56749e2a9);\n",
       "        \n",
       "    \n",
       "            var icon_5cdf4984c31cc517ce84389ead524be4 = L.AwesomeMarkers.icon(\n",
       "                {&quot;extraClasses&quot;: &quot;fa-rotate-0&quot;, &quot;icon&quot;: &quot;info-sign&quot;, &quot;iconColor&quot;: &quot;white&quot;, &quot;markerColor&quot;: &quot;blue&quot;, &quot;prefix&quot;: &quot;glyphicon&quot;}\n",
       "            );\n",
       "            marker_fe25d2a89a7aa1a0f28ce052c2397ec5.setIcon(icon_5cdf4984c31cc517ce84389ead524be4);\n",
       "        \n",
       "    \n",
       "            marker_fe25d2a89a7aa1a0f28ce052c2397ec5.bindTooltip(\n",
       "                `&lt;div&gt;\n",
       "                     Hotel Brighton Esprit de France\n",
       "                 &lt;/div&gt;`,\n",
       "                {&quot;sticky&quot;: true}\n",
       "            );\n",
       "        \n",
       "    \n",
       "            var marker_272593682b51f41f25012e67bd3f49c3 = L.marker(\n",
       "                [48.8691758, 2.3205807],\n",
       "                {}\n",
       "            ).addTo(map_05ca11ffee8250a94d61e6d56749e2a9);\n",
       "        \n",
       "    \n",
       "            var icon_376f1ed6ccedd8dba4f63643cbbfaebe = L.AwesomeMarkers.icon(\n",
       "                {&quot;extraClasses&quot;: &quot;fa-rotate-0&quot;, &quot;icon&quot;: &quot;info-sign&quot;, &quot;iconColor&quot;: &quot;white&quot;, &quot;markerColor&quot;: &quot;blue&quot;, &quot;prefix&quot;: &quot;glyphicon&quot;}\n",
       "            );\n",
       "            marker_272593682b51f41f25012e67bd3f49c3.setIcon(icon_376f1ed6ccedd8dba4f63643cbbfaebe);\n",
       "        \n",
       "    \n",
       "            marker_272593682b51f41f25012e67bd3f49c3.bindTooltip(\n",
       "                `&lt;div&gt;\n",
       "                     Hotel De Castiglione\n",
       "                 &lt;/div&gt;`,\n",
       "                {&quot;sticky&quot;: true}\n",
       "            );\n",
       "        \n",
       "    \n",
       "            var marker_31274962dd4e473a35b941ccd461cbf2 = L.marker(\n",
       "                [48.8502052, 2.289043],\n",
       "                {}\n",
       "            ).addTo(map_05ca11ffee8250a94d61e6d56749e2a9);\n",
       "        \n",
       "    \n",
       "            var icon_ad2a5fd7e86f117273e6e4261efe892c = L.AwesomeMarkers.icon(\n",
       "                {&quot;extraClasses&quot;: &quot;fa-rotate-0&quot;, &quot;icon&quot;: &quot;info-sign&quot;, &quot;iconColor&quot;: &quot;white&quot;, &quot;markerColor&quot;: &quot;blue&quot;, &quot;prefix&quot;: &quot;glyphicon&quot;}\n",
       "            );\n",
       "            marker_31274962dd4e473a35b941ccd461cbf2.setIcon(icon_ad2a5fd7e86f117273e6e4261efe892c);\n",
       "        \n",
       "    \n",
       "            marker_31274962dd4e473a35b941ccd461cbf2.bindTooltip(\n",
       "                `&lt;div&gt;\n",
       "                     Hotel Gustave\n",
       "                 &lt;/div&gt;`,\n",
       "                {&quot;sticky&quot;: true}\n",
       "            );\n",
       "        \n",
       "    \n",
       "            var marker_03279dd312464855539f72fb65844821 = L.marker(\n",
       "                [48.8685093, 2.3067895],\n",
       "                {}\n",
       "            ).addTo(map_05ca11ffee8250a94d61e6d56749e2a9);\n",
       "        \n",
       "    \n",
       "            var icon_7e73bdebfd7f4f3a12a04ada0bd017b6 = L.AwesomeMarkers.icon(\n",
       "                {&quot;extraClasses&quot;: &quot;fa-rotate-0&quot;, &quot;icon&quot;: &quot;info-sign&quot;, &quot;iconColor&quot;: &quot;white&quot;, &quot;markerColor&quot;: &quot;blue&quot;, &quot;prefix&quot;: &quot;glyphicon&quot;}\n",
       "            );\n",
       "            marker_03279dd312464855539f72fb65844821.setIcon(icon_7e73bdebfd7f4f3a12a04ada0bd017b6);\n",
       "        \n",
       "    \n",
       "            marker_03279dd312464855539f72fb65844821.bindTooltip(\n",
       "                `&lt;div&gt;\n",
       "                     Hotel Marignan Champs Elys es\n",
       "                 &lt;/div&gt;`,\n",
       "                {&quot;sticky&quot;: true}\n",
       "            );\n",
       "        \n",
       "    \n",
       "            var marker_d794e17788b7880cb5e65a8b2259dc90 = L.marker(\n",
       "                [48.8802782, 2.2843852],\n",
       "                {}\n",
       "            ).addTo(map_05ca11ffee8250a94d61e6d56749e2a9);\n",
       "        \n",
       "    \n",
       "            var icon_b4f6a2736054bebd28bcd502babc07d5 = L.AwesomeMarkers.icon(\n",
       "                {&quot;extraClasses&quot;: &quot;fa-rotate-0&quot;, &quot;icon&quot;: &quot;info-sign&quot;, &quot;iconColor&quot;: &quot;white&quot;, &quot;markerColor&quot;: &quot;blue&quot;, &quot;prefix&quot;: &quot;glyphicon&quot;}\n",
       "            );\n",
       "            marker_d794e17788b7880cb5e65a8b2259dc90.setIcon(icon_b4f6a2736054bebd28bcd502babc07d5);\n",
       "        \n",
       "    \n",
       "            marker_d794e17788b7880cb5e65a8b2259dc90.bindTooltip(\n",
       "                `&lt;div&gt;\n",
       "                     Hyatt Regency Paris Etoile\n",
       "                 &lt;/div&gt;`,\n",
       "                {&quot;sticky&quot;: true}\n",
       "            );\n",
       "        \n",
       "    \n",
       "            var marker_25ca374c4c8c6018fe7e0bb34862bdbd = L.marker(\n",
       "                [48.8656973, 2.2829776],\n",
       "                {}\n",
       "            ).addTo(map_05ca11ffee8250a94d61e6d56749e2a9);\n",
       "        \n",
       "    \n",
       "            var icon_6d5803cb13c03c8aaabb93282c64d455 = L.AwesomeMarkers.icon(\n",
       "                {&quot;extraClasses&quot;: &quot;fa-rotate-0&quot;, &quot;icon&quot;: &quot;info-sign&quot;, &quot;iconColor&quot;: &quot;white&quot;, &quot;markerColor&quot;: &quot;blue&quot;, &quot;prefix&quot;: &quot;glyphicon&quot;}\n",
       "            );\n",
       "            marker_25ca374c4c8c6018fe7e0bb34862bdbd.setIcon(icon_6d5803cb13c03c8aaabb93282c64d455);\n",
       "        \n",
       "    \n",
       "            marker_25ca374c4c8c6018fe7e0bb34862bdbd.bindTooltip(\n",
       "                `&lt;div&gt;\n",
       "                     Le Metropolitan a Tribute Portfolio Hotel\n",
       "                 &lt;/div&gt;`,\n",
       "                {&quot;sticky&quot;: true}\n",
       "            );\n",
       "        \n",
       "    \n",
       "            var marker_d8e473949c3ce5ba08c4265a54d1c623 = L.marker(\n",
       "                [48.8494851, 2.2955063],\n",
       "                {}\n",
       "            ).addTo(map_05ca11ffee8250a94d61e6d56749e2a9);\n",
       "        \n",
       "    \n",
       "            var icon_179e0e182b9d80d9d90979b9db41dc99 = L.AwesomeMarkers.icon(\n",
       "                {&quot;extraClasses&quot;: &quot;fa-rotate-0&quot;, &quot;icon&quot;: &quot;info-sign&quot;, &quot;iconColor&quot;: &quot;white&quot;, &quot;markerColor&quot;: &quot;blue&quot;, &quot;prefix&quot;: &quot;glyphicon&quot;}\n",
       "            );\n",
       "            marker_d8e473949c3ce5ba08c4265a54d1c623.setIcon(icon_179e0e182b9d80d9d90979b9db41dc99);\n",
       "        \n",
       "    \n",
       "            marker_d8e473949c3ce5ba08c4265a54d1c623.bindTooltip(\n",
       "                `&lt;div&gt;\n",
       "                     Le Parisis Paris Tour Eiffel\n",
       "                 &lt;/div&gt;`,\n",
       "                {&quot;sticky&quot;: true}\n",
       "            );\n",
       "        \n",
       "    \n",
       "            var marker_79a86e164d3bcf7fa49013891c97f23c = L.marker(\n",
       "                [48.8920485, 2.3023791],\n",
       "                {}\n",
       "            ).addTo(map_05ca11ffee8250a94d61e6d56749e2a9);\n",
       "        \n",
       "    \n",
       "            var icon_95033aea2d6c4ccda3e599ef8d7423f0 = L.AwesomeMarkers.icon(\n",
       "                {&quot;extraClasses&quot;: &quot;fa-rotate-0&quot;, &quot;icon&quot;: &quot;info-sign&quot;, &quot;iconColor&quot;: &quot;white&quot;, &quot;markerColor&quot;: &quot;blue&quot;, &quot;prefix&quot;: &quot;glyphicon&quot;}\n",
       "            );\n",
       "            marker_79a86e164d3bcf7fa49013891c97f23c.setIcon(icon_95033aea2d6c4ccda3e599ef8d7423f0);\n",
       "        \n",
       "    \n",
       "            marker_79a86e164d3bcf7fa49013891c97f23c.bindTooltip(\n",
       "                `&lt;div&gt;\n",
       "                     Novotel Paris 17\n",
       "                 &lt;/div&gt;`,\n",
       "                {&quot;sticky&quot;: true}\n",
       "            );\n",
       "        \n",
       "    \n",
       "            var marker_70d68d702859966340791166b3939302 = L.marker(\n",
       "                [48.8399018, 2.3031011],\n",
       "                {}\n",
       "            ).addTo(map_05ca11ffee8250a94d61e6d56749e2a9);\n",
       "        \n",
       "    \n",
       "            var icon_4058d7e1c1a7573066c38bef60bc61bf = L.AwesomeMarkers.icon(\n",
       "                {&quot;extraClasses&quot;: &quot;fa-rotate-0&quot;, &quot;icon&quot;: &quot;info-sign&quot;, &quot;iconColor&quot;: &quot;white&quot;, &quot;markerColor&quot;: &quot;blue&quot;, &quot;prefix&quot;: &quot;glyphicon&quot;}\n",
       "            );\n",
       "            marker_70d68d702859966340791166b3939302.setIcon(icon_4058d7e1c1a7573066c38bef60bc61bf);\n",
       "        \n",
       "    \n",
       "            marker_70d68d702859966340791166b3939302.bindTooltip(\n",
       "                `&lt;div&gt;\n",
       "                     Novotel Paris Vaugirard Montparnasse\n",
       "                 &lt;/div&gt;`,\n",
       "                {&quot;sticky&quot;: true}\n",
       "            );\n",
       "        \n",
       "    \n",
       "            var marker_a1b3e48179014d4b3a7e89a03e29aae3 = L.marker(\n",
       "                [48.8555664, 2.2926243],\n",
       "                {}\n",
       "            ).addTo(map_05ca11ffee8250a94d61e6d56749e2a9);\n",
       "        \n",
       "    \n",
       "            var icon_2cc4090b52b479a424c94e9a220af58f = L.AwesomeMarkers.icon(\n",
       "                {&quot;extraClasses&quot;: &quot;fa-rotate-0&quot;, &quot;icon&quot;: &quot;info-sign&quot;, &quot;iconColor&quot;: &quot;white&quot;, &quot;markerColor&quot;: &quot;blue&quot;, &quot;prefix&quot;: &quot;glyphicon&quot;}\n",
       "            );\n",
       "            marker_a1b3e48179014d4b3a7e89a03e29aae3.setIcon(icon_2cc4090b52b479a424c94e9a220af58f);\n",
       "        \n",
       "    \n",
       "            marker_a1b3e48179014d4b3a7e89a03e29aae3.bindTooltip(\n",
       "                `&lt;div&gt;\n",
       "                     Pullman Paris Tour Eiffel\n",
       "                 &lt;/div&gt;`,\n",
       "                {&quot;sticky&quot;: true}\n",
       "            );\n",
       "        \n",
       "    \n",
       "            var marker_878e0c57d01485b70bf0dcf8b5c98791 = L.marker(\n",
       "                [48.8772093, 2.2968266],\n",
       "                {}\n",
       "            ).addTo(map_05ca11ffee8250a94d61e6d56749e2a9);\n",
       "        \n",
       "    \n",
       "            var icon_c2a1d214777039ab11abb4cdb50bf568 = L.AwesomeMarkers.icon(\n",
       "                {&quot;extraClasses&quot;: &quot;fa-rotate-0&quot;, &quot;icon&quot;: &quot;info-sign&quot;, &quot;iconColor&quot;: &quot;white&quot;, &quot;markerColor&quot;: &quot;blue&quot;, &quot;prefix&quot;: &quot;glyphicon&quot;}\n",
       "            );\n",
       "            marker_878e0c57d01485b70bf0dcf8b5c98791.setIcon(icon_c2a1d214777039ab11abb4cdb50bf568);\n",
       "        \n",
       "    \n",
       "            marker_878e0c57d01485b70bf0dcf8b5c98791.bindTooltip(\n",
       "                `&lt;div&gt;\n",
       "                     Renaissance Paris Arc de Triomphe Hotel\n",
       "                 &lt;/div&gt;`,\n",
       "                {&quot;sticky&quot;: true}\n",
       "            );\n",
       "        \n",
       "    \n",
       "            var marker_4876d8a99f6744a453cd1af91be75445 = L.marker(\n",
       "                [48.8637135, 2.2934759],\n",
       "                {}\n",
       "            ).addTo(map_05ca11ffee8250a94d61e6d56749e2a9);\n",
       "        \n",
       "    \n",
       "            var icon_2e73585f55719de44014cde41dad4713 = L.AwesomeMarkers.icon(\n",
       "                {&quot;extraClasses&quot;: &quot;fa-rotate-0&quot;, &quot;icon&quot;: &quot;info-sign&quot;, &quot;iconColor&quot;: &quot;white&quot;, &quot;markerColor&quot;: &quot;blue&quot;, &quot;prefix&quot;: &quot;glyphicon&quot;}\n",
       "            );\n",
       "            marker_4876d8a99f6744a453cd1af91be75445.setIcon(icon_2e73585f55719de44014cde41dad4713);\n",
       "        \n",
       "    \n",
       "            marker_4876d8a99f6744a453cd1af91be75445.bindTooltip(\n",
       "                `&lt;div&gt;\n",
       "                     Shangri La Hotel Paris\n",
       "                 &lt;/div&gt;`,\n",
       "                {&quot;sticky&quot;: true}\n",
       "            );\n",
       "        \n",
       "&lt;/script&gt;\n",
       "&lt;/html&gt;\" style=\"position:absolute;width:100%;height:100%;left:0;top:0;border:none !important;\" allowfullscreen webkitallowfullscreen mozallowfullscreen></iframe></div></div>"
      ],
      "text/plain": [
       "<folium.folium.Map at 0x286cf9e50>"
      ]
     },
     "execution_count": 71,
     "metadata": {},
     "output_type": "execute_result"
    }
   ],
   "source": [
    "# to generate map and visualise\n",
    "get_map(get_special('eiffel_tower_view'),'../image/eiffel.html')"
   ]
  },
  {
   "cell_type": "markdown",
   "metadata": {},
   "source": [
    "![Drag Racing](../image/eiffel.png)"
   ]
  },
  {
   "cell_type": "markdown",
   "metadata": {},
   "source": [
    "## Modelling"
   ]
  },
  {
   "cell_type": "code",
   "execution_count": 72,
   "metadata": {},
   "outputs": [],
   "source": [
    "similarityDF=cosine_similarity(hoteltags_geo.iloc[:, 6:],hoteltags_geo.iloc[:, 6:])\n"
   ]
  },
  {
   "cell_type": "code",
   "execution_count": 73,
   "metadata": {},
   "outputs": [],
   "source": [
    "np.save(\"../data/tagcosine.npy\",similarityDF)"
   ]
  },
  {
   "cell_type": "code",
   "execution_count": 74,
   "metadata": {},
   "outputs": [],
   "source": [
    "hoteltags_geo.to_pickle(\"../data/clean_hoteltag.pkl\")"
   ]
  },
  {
   "cell_type": "code",
   "execution_count": 75,
   "metadata": {},
   "outputs": [],
   "source": [
    "def new_recommendations_tags(name,city, cosine_similarities):\n",
    "    \n",
    "    recommended_hotels = []\n",
    "    \n",
    "    #get input city index\n",
    "    city_index= list(hoteltags_geo[hoteltags_geo.city==city].index)\n",
    "    \n",
    "    # gettin the index of the hotel that matches the name\n",
    "    idx = hoteltags_geo[(hoteltags_geo.hotel_name == name)].index[0]\n",
    "    \n",
    "    # creating a Series with the similarity scores in descending order\n",
    "    score_series = pd.Series(cosine_similarities[idx]).sort_values(ascending = False)\n",
    "\n",
    "    # getting the indexes of  similar hotels\n",
    "    top_10_indexes = list(score_series.index)\n",
    "    \n",
    "    # populating the list with the names of the matching hotels\n",
    "    for i in range(len(top_10_indexes)):\n",
    "        if top_10_indexes[i] not in city_index:\n",
    "            pass\n",
    "        else:\n",
    "            recommended_hotels.append(hoteltags_geo[hoteltags_geo.index==top_10_indexes[i]]['hotel_name'].values[0])\n",
    "\n",
    "    # populating a dictionary of size 10 containing hotel name and lat and longitude \n",
    "    h = hoteltags_geo[['hotel_name','lat_x','lng_x']].to_dict(orient='records')\n",
    "    l = {k['hotel_name']: [k['lat_x'], k['lng_x']] for k in h}\n",
    "    if {hotel: l[hotel] for hotel in recommended_hotels }=={}:\n",
    "        print(\"There are no hotels of similar hotel\")\n",
    "    else:\n",
    "        output= {hotel: l[hotel] for hotel in recommended_hotels[:10]}\n",
    "        newoutput={i:output for i in range(1,len(output)+1)}\n",
    "        return newoutput\n",
    "     "
   ]
  },
  {
   "cell_type": "code",
   "execution_count": 76,
   "metadata": {},
   "outputs": [],
   "source": [
    "def get_hotel_fn(mydict,city):\n",
    "    loc2 = geocoder.osm(city)\n",
    "\n",
    "    # map\n",
    "    main_map = folium.Map(location=[loc2.lat, loc2.lng], zoom_start=13)\n",
    "    folium.raster_layers.TileLayer('Open Street Map').add_to(main_map)\n",
    "\n",
    "    # loop through dict\n",
    "    for i in range (1,len(mydict)+1):\n",
    "        folium.Marker(location=list(mydict[i].values())[i-1],tooltip=list(mydict[i].keys())[i-1]\n",
    "                      ,popup=list(mydict[i].keys())[i-1],\n",
    "                     icon=plugins.BeautifyIcon(number=i,\n",
    "                                               icon='bus',\n",
    "                                            border_color='blue',\n",
    "                                            border_width=0.5,\n",
    "                                            text_color='red',\n",
    "                                            inner_icon_style='margin-top:0px;')).add_to(main_map)\n",
    "     \n",
    "    return main_map\n"
   ]
  },
  {
   "cell_type": "code",
   "execution_count": 77,
   "metadata": {},
   "outputs": [
    {
     "data": {
      "text/html": [
       "<div style=\"width:100%;\"><div style=\"position:relative;width:100%;height:0;padding-bottom:60%;\"><span style=\"color:#565656\">Make this Notebook Trusted to load map: File -> Trust Notebook</span><iframe srcdoc=\"&lt;!DOCTYPE html&gt;\n",
       "&lt;html&gt;\n",
       "&lt;head&gt;\n",
       "    \n",
       "    &lt;meta http-equiv=&quot;content-type&quot; content=&quot;text/html; charset=UTF-8&quot; /&gt;\n",
       "    \n",
       "        &lt;script&gt;\n",
       "            L_NO_TOUCH = false;\n",
       "            L_DISABLE_3D = false;\n",
       "        &lt;/script&gt;\n",
       "    \n",
       "    &lt;style&gt;html, body {width: 100%;height: 100%;margin: 0;padding: 0;}&lt;/style&gt;\n",
       "    &lt;style&gt;#map {position:absolute;top:0;bottom:0;right:0;left:0;}&lt;/style&gt;\n",
       "    &lt;script src=&quot;https://cdn.jsdelivr.net/npm/leaflet@1.9.3/dist/leaflet.js&quot;&gt;&lt;/script&gt;\n",
       "    &lt;script src=&quot;https://code.jquery.com/jquery-1.12.4.min.js&quot;&gt;&lt;/script&gt;\n",
       "    &lt;script src=&quot;https://cdn.jsdelivr.net/npm/bootstrap@5.2.2/dist/js/bootstrap.bundle.min.js&quot;&gt;&lt;/script&gt;\n",
       "    &lt;script src=&quot;https://cdnjs.cloudflare.com/ajax/libs/Leaflet.awesome-markers/2.0.2/leaflet.awesome-markers.js&quot;&gt;&lt;/script&gt;\n",
       "    &lt;link rel=&quot;stylesheet&quot; href=&quot;https://cdn.jsdelivr.net/npm/leaflet@1.9.3/dist/leaflet.css&quot;/&gt;\n",
       "    &lt;link rel=&quot;stylesheet&quot; href=&quot;https://cdn.jsdelivr.net/npm/bootstrap@5.2.2/dist/css/bootstrap.min.css&quot;/&gt;\n",
       "    &lt;link rel=&quot;stylesheet&quot; href=&quot;https://netdna.bootstrapcdn.com/bootstrap/3.0.0/css/bootstrap.min.css&quot;/&gt;\n",
       "    &lt;link rel=&quot;stylesheet&quot; href=&quot;https://cdn.jsdelivr.net/npm/@fortawesome/fontawesome-free@6.2.0/css/all.min.css&quot;/&gt;\n",
       "    &lt;link rel=&quot;stylesheet&quot; href=&quot;https://cdnjs.cloudflare.com/ajax/libs/Leaflet.awesome-markers/2.0.2/leaflet.awesome-markers.css&quot;/&gt;\n",
       "    &lt;link rel=&quot;stylesheet&quot; href=&quot;https://cdn.jsdelivr.net/gh/python-visualization/folium/folium/templates/leaflet.awesome.rotate.min.css&quot;/&gt;\n",
       "    \n",
       "            &lt;meta name=&quot;viewport&quot; content=&quot;width=device-width,\n",
       "                initial-scale=1.0, maximum-scale=1.0, user-scalable=no&quot; /&gt;\n",
       "            &lt;style&gt;\n",
       "                #map_ec112cbbd3b98c8a8de2ae36b39e9b80 {\n",
       "                    position: relative;\n",
       "                    width: 100.0%;\n",
       "                    height: 100.0%;\n",
       "                    left: 0.0%;\n",
       "                    top: 0.0%;\n",
       "                }\n",
       "                .leaflet-container { font-size: 1rem; }\n",
       "            &lt;/style&gt;\n",
       "        \n",
       "    &lt;script src=&quot;https://cdn.jsdelivr.net/gh/marslan390/BeautifyMarker/leaflet-beautify-marker-icon.min.js&quot;&gt;&lt;/script&gt;\n",
       "    &lt;link rel=&quot;stylesheet&quot; href=&quot;https://cdn.jsdelivr.net/gh/marslan390/BeautifyMarker/leaflet-beautify-marker-icon.min.css&quot;/&gt;\n",
       "&lt;/head&gt;\n",
       "&lt;body&gt;\n",
       "    \n",
       "    \n",
       "            &lt;div class=&quot;folium-map&quot; id=&quot;map_ec112cbbd3b98c8a8de2ae36b39e9b80&quot; &gt;&lt;/div&gt;\n",
       "        \n",
       "&lt;/body&gt;\n",
       "&lt;script&gt;\n",
       "    \n",
       "    \n",
       "            var map_ec112cbbd3b98c8a8de2ae36b39e9b80 = L.map(\n",
       "                &quot;map_ec112cbbd3b98c8a8de2ae36b39e9b80&quot;,\n",
       "                {\n",
       "                    center: [48.2083537, 16.3725042],\n",
       "                    crs: L.CRS.EPSG3857,\n",
       "                    zoom: 13,\n",
       "                    zoomControl: true,\n",
       "                    preferCanvas: false,\n",
       "                }\n",
       "            );\n",
       "\n",
       "            \n",
       "\n",
       "        \n",
       "    \n",
       "            var tile_layer_da849a05d553c8f831dcc85fc9e8bad6 = L.tileLayer(\n",
       "                &quot;https://{s}.tile.openstreetmap.org/{z}/{x}/{y}.png&quot;,\n",
       "                {&quot;attribution&quot;: &quot;Data by \\u0026copy; \\u003ca target=\\&quot;_blank\\&quot; href=\\&quot;http://openstreetmap.org\\&quot;\\u003eOpenStreetMap\\u003c/a\\u003e, under \\u003ca target=\\&quot;_blank\\&quot; href=\\&quot;http://www.openstreetmap.org/copyright\\&quot;\\u003eODbL\\u003c/a\\u003e.&quot;, &quot;detectRetina&quot;: false, &quot;maxNativeZoom&quot;: 18, &quot;maxZoom&quot;: 18, &quot;minZoom&quot;: 0, &quot;noWrap&quot;: false, &quot;opacity&quot;: 1, &quot;subdomains&quot;: &quot;abc&quot;, &quot;tms&quot;: false}\n",
       "            ).addTo(map_ec112cbbd3b98c8a8de2ae36b39e9b80);\n",
       "        \n",
       "    \n",
       "            var tile_layer_d24ecc1c488c5b5affb6027a32036346 = L.tileLayer(\n",
       "                &quot;https://{s}.tile.openstreetmap.org/{z}/{x}/{y}.png&quot;,\n",
       "                {&quot;attribution&quot;: &quot;Data by \\u0026copy; \\u003ca target=\\&quot;_blank\\&quot; href=\\&quot;http://openstreetmap.org\\&quot;\\u003eOpenStreetMap\\u003c/a\\u003e, under \\u003ca target=\\&quot;_blank\\&quot; href=\\&quot;http://www.openstreetmap.org/copyright\\&quot;\\u003eODbL\\u003c/a\\u003e.&quot;, &quot;detectRetina&quot;: false, &quot;maxNativeZoom&quot;: 18, &quot;maxZoom&quot;: 18, &quot;minZoom&quot;: 0, &quot;noWrap&quot;: false, &quot;opacity&quot;: 1, &quot;subdomains&quot;: &quot;abc&quot;, &quot;tms&quot;: false}\n",
       "            ).addTo(map_ec112cbbd3b98c8a8de2ae36b39e9b80);\n",
       "        \n",
       "    \n",
       "            var marker_7f2f37434a66a80df325f31326f69e10 = L.marker(\n",
       "                [48.2130607, 16.4133973],\n",
       "                {}\n",
       "            ).addTo(map_ec112cbbd3b98c8a8de2ae36b39e9b80);\n",
       "        \n",
       "    \n",
       "            var beautify_icon_1248ebb469a6fdb2265bd0f6640001ac = new L.BeautifyIcon.icon(\n",
       "                {&quot;backgroundColor&quot;: &quot;#FFF&quot;, &quot;borderColor&quot;: &quot;blue&quot;, &quot;borderWidth&quot;: 0.5, &quot;icon&quot;: &quot;bus&quot;, &quot;innerIconStyle&quot;: &quot;margin-top:0px;&quot;, &quot;isAlphaNumericIcon&quot;: true, &quot;spin&quot;: false, &quot;text&quot;: 1, &quot;textColor&quot;: &quot;red&quot;}\n",
       "            )\n",
       "            marker_7f2f37434a66a80df325f31326f69e10.setIcon(beautify_icon_1248ebb469a6fdb2265bd0f6640001ac);\n",
       "        \n",
       "    \n",
       "        var popup_b3ddc7fc62b0f7ea58a2d81693bf54db = L.popup({&quot;maxWidth&quot;: &quot;100%&quot;});\n",
       "\n",
       "        \n",
       "            \n",
       "                var html_06b9e7a6e664d8d2840df3565c97c269 = $(`&lt;div id=&quot;html_06b9e7a6e664d8d2840df3565c97c269&quot; style=&quot;width: 100.0%; height: 100.0%;&quot;&gt;Courtyard by Marriott Vienna Prater Messe&lt;/div&gt;`)[0];\n",
       "                popup_b3ddc7fc62b0f7ea58a2d81693bf54db.setContent(html_06b9e7a6e664d8d2840df3565c97c269);\n",
       "            \n",
       "        \n",
       "\n",
       "        marker_7f2f37434a66a80df325f31326f69e10.bindPopup(popup_b3ddc7fc62b0f7ea58a2d81693bf54db)\n",
       "        ;\n",
       "\n",
       "        \n",
       "    \n",
       "    \n",
       "            marker_7f2f37434a66a80df325f31326f69e10.bindTooltip(\n",
       "                `&lt;div&gt;\n",
       "                     Courtyard by Marriott Vienna Prater Messe\n",
       "                 &lt;/div&gt;`,\n",
       "                {&quot;sticky&quot;: true}\n",
       "            );\n",
       "        \n",
       "    \n",
       "            var marker_e682d176c8fda03cfb40239abdea2c78 = L.marker(\n",
       "                [48.2012505, 16.3731255],\n",
       "                {}\n",
       "            ).addTo(map_ec112cbbd3b98c8a8de2ae36b39e9b80);\n",
       "        \n",
       "    \n",
       "            var beautify_icon_97bea5a14f068b32d6fadb1f25527947 = new L.BeautifyIcon.icon(\n",
       "                {&quot;backgroundColor&quot;: &quot;#FFF&quot;, &quot;borderColor&quot;: &quot;blue&quot;, &quot;borderWidth&quot;: 0.5, &quot;icon&quot;: &quot;bus&quot;, &quot;innerIconStyle&quot;: &quot;margin-top:0px;&quot;, &quot;isAlphaNumericIcon&quot;: true, &quot;spin&quot;: false, &quot;text&quot;: 2, &quot;textColor&quot;: &quot;red&quot;}\n",
       "            )\n",
       "            marker_e682d176c8fda03cfb40239abdea2c78.setIcon(beautify_icon_97bea5a14f068b32d6fadb1f25527947);\n",
       "        \n",
       "    \n",
       "        var popup_c7edfdc8037852a7e0906857d91baa5a = L.popup({&quot;maxWidth&quot;: &quot;100%&quot;});\n",
       "\n",
       "        \n",
       "            \n",
       "                var html_40606afc2c29b12f62c29bf3863fc3e0 = $(`&lt;div id=&quot;html_40606afc2c29b12f62c29bf3863fc3e0&quot; style=&quot;width: 100.0%; height: 100.0%;&quot;&gt;Hotel Imperial A Luxury Collection Hotel&lt;/div&gt;`)[0];\n",
       "                popup_c7edfdc8037852a7e0906857d91baa5a.setContent(html_40606afc2c29b12f62c29bf3863fc3e0);\n",
       "            \n",
       "        \n",
       "\n",
       "        marker_e682d176c8fda03cfb40239abdea2c78.bindPopup(popup_c7edfdc8037852a7e0906857d91baa5a)\n",
       "        ;\n",
       "\n",
       "        \n",
       "    \n",
       "    \n",
       "            marker_e682d176c8fda03cfb40239abdea2c78.bindTooltip(\n",
       "                `&lt;div&gt;\n",
       "                     Hotel Imperial A Luxury Collection Hotel\n",
       "                 &lt;/div&gt;`,\n",
       "                {&quot;sticky&quot;: true}\n",
       "            );\n",
       "        \n",
       "    \n",
       "            var marker_c9be5d844125f11c272e497b4c7401d2 = L.marker(\n",
       "                [48.2155236, 16.3646858],\n",
       "                {}\n",
       "            ).addTo(map_ec112cbbd3b98c8a8de2ae36b39e9b80);\n",
       "        \n",
       "    \n",
       "            var beautify_icon_0e69f6f2e0a973297cfe85201af99cf9 = new L.BeautifyIcon.icon(\n",
       "                {&quot;backgroundColor&quot;: &quot;#FFF&quot;, &quot;borderColor&quot;: &quot;blue&quot;, &quot;borderWidth&quot;: 0.5, &quot;icon&quot;: &quot;bus&quot;, &quot;innerIconStyle&quot;: &quot;margin-top:0px;&quot;, &quot;isAlphaNumericIcon&quot;: true, &quot;spin&quot;: false, &quot;text&quot;: 3, &quot;textColor&quot;: &quot;red&quot;}\n",
       "            )\n",
       "            marker_c9be5d844125f11c272e497b4c7401d2.setIcon(beautify_icon_0e69f6f2e0a973297cfe85201af99cf9);\n",
       "        \n",
       "    \n",
       "        var popup_189995781a9a153a7ed6ac58ef6d18bb = L.popup({&quot;maxWidth&quot;: &quot;100%&quot;});\n",
       "\n",
       "        \n",
       "            \n",
       "                var html_1b3fd710f2e64574a58dfe6bd04b5038 = $(`&lt;div id=&quot;html_1b3fd710f2e64574a58dfe6bd04b5038&quot; style=&quot;width: 100.0%; height: 100.0%;&quot;&gt;Hilton Vienna Plaza&lt;/div&gt;`)[0];\n",
       "                popup_189995781a9a153a7ed6ac58ef6d18bb.setContent(html_1b3fd710f2e64574a58dfe6bd04b5038);\n",
       "            \n",
       "        \n",
       "\n",
       "        marker_c9be5d844125f11c272e497b4c7401d2.bindPopup(popup_189995781a9a153a7ed6ac58ef6d18bb)\n",
       "        ;\n",
       "\n",
       "        \n",
       "    \n",
       "    \n",
       "            marker_c9be5d844125f11c272e497b4c7401d2.bindTooltip(\n",
       "                `&lt;div&gt;\n",
       "                     Hilton Vienna Plaza\n",
       "                 &lt;/div&gt;`,\n",
       "                {&quot;sticky&quot;: true}\n",
       "            );\n",
       "        \n",
       "    \n",
       "            var marker_77ece9ed079275faf8a13d5b4161cea4 = L.marker(\n",
       "                [48.2050967, 16.3770928],\n",
       "                {}\n",
       "            ).addTo(map_ec112cbbd3b98c8a8de2ae36b39e9b80);\n",
       "        \n",
       "    \n",
       "            var beautify_icon_c9ecd93db5c512946fc41c145458a71b = new L.BeautifyIcon.icon(\n",
       "                {&quot;backgroundColor&quot;: &quot;#FFF&quot;, &quot;borderColor&quot;: &quot;blue&quot;, &quot;borderWidth&quot;: 0.5, &quot;icon&quot;: &quot;bus&quot;, &quot;innerIconStyle&quot;: &quot;margin-top:0px;&quot;, &quot;isAlphaNumericIcon&quot;: true, &quot;spin&quot;: false, &quot;text&quot;: 4, &quot;textColor&quot;: &quot;red&quot;}\n",
       "            )\n",
       "            marker_77ece9ed079275faf8a13d5b4161cea4.setIcon(beautify_icon_c9ecd93db5c512946fc41c145458a71b);\n",
       "        \n",
       "    \n",
       "        var popup_8a49046df77e1fdb0badee620a940157 = L.popup({&quot;maxWidth&quot;: &quot;100%&quot;});\n",
       "\n",
       "        \n",
       "            \n",
       "                var html_5c8080db5c5229f450dbd6f245a7ee95 = $(`&lt;div id=&quot;html_5c8080db5c5229f450dbd6f245a7ee95&quot; style=&quot;width: 100.0%; height: 100.0%;&quot;&gt;Vienna Marriott Hotel&lt;/div&gt;`)[0];\n",
       "                popup_8a49046df77e1fdb0badee620a940157.setContent(html_5c8080db5c5229f450dbd6f245a7ee95);\n",
       "            \n",
       "        \n",
       "\n",
       "        marker_77ece9ed079275faf8a13d5b4161cea4.bindPopup(popup_8a49046df77e1fdb0badee620a940157)\n",
       "        ;\n",
       "\n",
       "        \n",
       "    \n",
       "    \n",
       "            marker_77ece9ed079275faf8a13d5b4161cea4.bindTooltip(\n",
       "                `&lt;div&gt;\n",
       "                     Vienna Marriott Hotel\n",
       "                 &lt;/div&gt;`,\n",
       "                {&quot;sticky&quot;: true}\n",
       "            );\n",
       "        \n",
       "    \n",
       "            var marker_f1eb596bc0e1008e1fdac82528be72aa = L.marker(\n",
       "                [48.212857, 16.37986],\n",
       "                {}\n",
       "            ).addTo(map_ec112cbbd3b98c8a8de2ae36b39e9b80);\n",
       "        \n",
       "    \n",
       "            var beautify_icon_3e0584988a020026d582f7c2b4b2659f = new L.BeautifyIcon.icon(\n",
       "                {&quot;backgroundColor&quot;: &quot;#FFF&quot;, &quot;borderColor&quot;: &quot;blue&quot;, &quot;borderWidth&quot;: 0.5, &quot;icon&quot;: &quot;bus&quot;, &quot;innerIconStyle&quot;: &quot;margin-top:0px;&quot;, &quot;isAlphaNumericIcon&quot;: true, &quot;spin&quot;: false, &quot;text&quot;: 5, &quot;textColor&quot;: &quot;red&quot;}\n",
       "            )\n",
       "            marker_f1eb596bc0e1008e1fdac82528be72aa.setIcon(beautify_icon_3e0584988a020026d582f7c2b4b2659f);\n",
       "        \n",
       "    \n",
       "        var popup_1fdb99bf35cf2ea2402dfe63c9e16bbd = L.popup({&quot;maxWidth&quot;: &quot;100%&quot;});\n",
       "\n",
       "        \n",
       "            \n",
       "                var html_aadcd44d6e64b2c3a3be1ac4eb02952b = $(`&lt;div id=&quot;html_aadcd44d6e64b2c3a3be1ac4eb02952b&quot; style=&quot;width: 100.0%; height: 100.0%;&quot;&gt;Sofitel Vienna Stephansdom&lt;/div&gt;`)[0];\n",
       "                popup_1fdb99bf35cf2ea2402dfe63c9e16bbd.setContent(html_aadcd44d6e64b2c3a3be1ac4eb02952b);\n",
       "            \n",
       "        \n",
       "\n",
       "        marker_f1eb596bc0e1008e1fdac82528be72aa.bindPopup(popup_1fdb99bf35cf2ea2402dfe63c9e16bbd)\n",
       "        ;\n",
       "\n",
       "        \n",
       "    \n",
       "    \n",
       "            marker_f1eb596bc0e1008e1fdac82528be72aa.bindTooltip(\n",
       "                `&lt;div&gt;\n",
       "                     Sofitel Vienna Stephansdom\n",
       "                 &lt;/div&gt;`,\n",
       "                {&quot;sticky&quot;: true}\n",
       "            );\n",
       "        \n",
       "    \n",
       "            var marker_ef152f0f3ff54a4b1b0fc7b483c1413e = L.marker(\n",
       "                [48.2021105, 16.3720841],\n",
       "                {}\n",
       "            ).addTo(map_ec112cbbd3b98c8a8de2ae36b39e9b80);\n",
       "        \n",
       "    \n",
       "            var beautify_icon_a7f27e9fdc9a3c02e11b99b82a8f1237 = new L.BeautifyIcon.icon(\n",
       "                {&quot;backgroundColor&quot;: &quot;#FFF&quot;, &quot;borderColor&quot;: &quot;blue&quot;, &quot;borderWidth&quot;: 0.5, &quot;icon&quot;: &quot;bus&quot;, &quot;innerIconStyle&quot;: &quot;margin-top:0px;&quot;, &quot;isAlphaNumericIcon&quot;: true, &quot;spin&quot;: false, &quot;text&quot;: 6, &quot;textColor&quot;: &quot;red&quot;}\n",
       "            )\n",
       "            marker_ef152f0f3ff54a4b1b0fc7b483c1413e.setIcon(beautify_icon_a7f27e9fdc9a3c02e11b99b82a8f1237);\n",
       "        \n",
       "    \n",
       "        var popup_ec82ef02957480cb91d80429cc46843c = L.popup({&quot;maxWidth&quot;: &quot;100%&quot;});\n",
       "\n",
       "        \n",
       "            \n",
       "                var html_2f78c6b35007aca7965bb41d175cfd6a = $(`&lt;div id=&quot;html_2f78c6b35007aca7965bb41d175cfd6a&quot; style=&quot;width: 100.0%; height: 100.0%;&quot;&gt;Grand Hotel Wien&lt;/div&gt;`)[0];\n",
       "                popup_ec82ef02957480cb91d80429cc46843c.setContent(html_2f78c6b35007aca7965bb41d175cfd6a);\n",
       "            \n",
       "        \n",
       "\n",
       "        marker_ef152f0f3ff54a4b1b0fc7b483c1413e.bindPopup(popup_ec82ef02957480cb91d80429cc46843c)\n",
       "        ;\n",
       "\n",
       "        \n",
       "    \n",
       "    \n",
       "            marker_ef152f0f3ff54a4b1b0fc7b483c1413e.bindTooltip(\n",
       "                `&lt;div&gt;\n",
       "                     Grand Hotel Wien\n",
       "                 &lt;/div&gt;`,\n",
       "                {&quot;sticky&quot;: true}\n",
       "            );\n",
       "        \n",
       "    \n",
       "            var marker_775ec56b9e5079fb31b830bbd719c06f = L.marker(\n",
       "                [48.2019865, 16.3789934],\n",
       "                {}\n",
       "            ).addTo(map_ec112cbbd3b98c8a8de2ae36b39e9b80);\n",
       "        \n",
       "    \n",
       "            var beautify_icon_2a12e44b16064c95e944bf924ac7c57c = new L.BeautifyIcon.icon(\n",
       "                {&quot;backgroundColor&quot;: &quot;#FFF&quot;, &quot;borderColor&quot;: &quot;blue&quot;, &quot;borderWidth&quot;: 0.5, &quot;icon&quot;: &quot;bus&quot;, &quot;innerIconStyle&quot;: &quot;margin-top:0px;&quot;, &quot;isAlphaNumericIcon&quot;: true, &quot;spin&quot;: false, &quot;text&quot;: 7, &quot;textColor&quot;: &quot;red&quot;}\n",
       "            )\n",
       "            marker_775ec56b9e5079fb31b830bbd719c06f.setIcon(beautify_icon_2a12e44b16064c95e944bf924ac7c57c);\n",
       "        \n",
       "    \n",
       "        var popup_a5d916508bbaa974a6f9e4a2ccbd0192 = L.popup({&quot;maxWidth&quot;: &quot;100%&quot;});\n",
       "\n",
       "        \n",
       "            \n",
       "                var html_74b44cbc9118828f56b70aa63d8a1356 = $(`&lt;div id=&quot;html_74b44cbc9118828f56b70aa63d8a1356&quot; style=&quot;width: 100.0%; height: 100.0%;&quot;&gt;InterContinental Wien&lt;/div&gt;`)[0];\n",
       "                popup_a5d916508bbaa974a6f9e4a2ccbd0192.setContent(html_74b44cbc9118828f56b70aa63d8a1356);\n",
       "            \n",
       "        \n",
       "\n",
       "        marker_775ec56b9e5079fb31b830bbd719c06f.bindPopup(popup_a5d916508bbaa974a6f9e4a2ccbd0192)\n",
       "        ;\n",
       "\n",
       "        \n",
       "    \n",
       "    \n",
       "            marker_775ec56b9e5079fb31b830bbd719c06f.bindTooltip(\n",
       "                `&lt;div&gt;\n",
       "                     InterContinental Wien\n",
       "                 &lt;/div&gt;`,\n",
       "                {&quot;sticky&quot;: true}\n",
       "            );\n",
       "        \n",
       "    \n",
       "            var marker_e27b26eb8a75dcf221c1373cd93e56f3 = L.marker(\n",
       "                [48.1950444, 16.3844751],\n",
       "                {}\n",
       "            ).addTo(map_ec112cbbd3b98c8a8de2ae36b39e9b80);\n",
       "        \n",
       "    \n",
       "            var beautify_icon_aa1ab4ee20a99ea605948f0e570b9029 = new L.BeautifyIcon.icon(\n",
       "                {&quot;backgroundColor&quot;: &quot;#FFF&quot;, &quot;borderColor&quot;: &quot;blue&quot;, &quot;borderWidth&quot;: 0.5, &quot;icon&quot;: &quot;bus&quot;, &quot;innerIconStyle&quot;: &quot;margin-top:0px;&quot;, &quot;isAlphaNumericIcon&quot;: true, &quot;spin&quot;: false, &quot;text&quot;: 8, &quot;textColor&quot;: &quot;red&quot;}\n",
       "            )\n",
       "            marker_e27b26eb8a75dcf221c1373cd93e56f3.setIcon(beautify_icon_aa1ab4ee20a99ea605948f0e570b9029);\n",
       "        \n",
       "    \n",
       "        var popup_61c0e1b98e021393622644849b4032bc = L.popup({&quot;maxWidth&quot;: &quot;100%&quot;});\n",
       "\n",
       "        \n",
       "            \n",
       "                var html_61676e41f9607e66049cf55201080725 = $(`&lt;div id=&quot;html_61676e41f9607e66049cf55201080725&quot; style=&quot;width: 100.0%; height: 100.0%;&quot;&gt;Austria Trend Hotel Savoyen Vienna&lt;/div&gt;`)[0];\n",
       "                popup_61c0e1b98e021393622644849b4032bc.setContent(html_61676e41f9607e66049cf55201080725);\n",
       "            \n",
       "        \n",
       "\n",
       "        marker_e27b26eb8a75dcf221c1373cd93e56f3.bindPopup(popup_61c0e1b98e021393622644849b4032bc)\n",
       "        ;\n",
       "\n",
       "        \n",
       "    \n",
       "    \n",
       "            marker_e27b26eb8a75dcf221c1373cd93e56f3.bindTooltip(\n",
       "                `&lt;div&gt;\n",
       "                     Austria Trend Hotel Savoyen Vienna\n",
       "                 &lt;/div&gt;`,\n",
       "                {&quot;sticky&quot;: true}\n",
       "            );\n",
       "        \n",
       "    \n",
       "            var marker_34720f3f3fb6ccb4868125e652822d46 = L.marker(\n",
       "                [48.2027296, 16.3661211],\n",
       "                {}\n",
       "            ).addTo(map_ec112cbbd3b98c8a8de2ae36b39e9b80);\n",
       "        \n",
       "    \n",
       "            var beautify_icon_7ddfa59096c132901fb09a3561ae3a4b = new L.BeautifyIcon.icon(\n",
       "                {&quot;backgroundColor&quot;: &quot;#FFF&quot;, &quot;borderColor&quot;: &quot;blue&quot;, &quot;borderWidth&quot;: 0.5, &quot;icon&quot;: &quot;bus&quot;, &quot;innerIconStyle&quot;: &quot;margin-top:0px;&quot;, &quot;isAlphaNumericIcon&quot;: true, &quot;spin&quot;: false, &quot;text&quot;: 9, &quot;textColor&quot;: &quot;red&quot;}\n",
       "            )\n",
       "            marker_34720f3f3fb6ccb4868125e652822d46.setIcon(beautify_icon_7ddfa59096c132901fb09a3561ae3a4b);\n",
       "        \n",
       "    \n",
       "        var popup_5fe6cce0ac6d3f37e7c1244c6105a065 = L.popup({&quot;maxWidth&quot;: &quot;100%&quot;});\n",
       "\n",
       "        \n",
       "            \n",
       "                var html_101466f46b4e43efd77ace64b781bcba = $(`&lt;div id=&quot;html_101466f46b4e43efd77ace64b781bcba&quot; style=&quot;width: 100.0%; height: 100.0%;&quot;&gt;Le Meridien Vienna&lt;/div&gt;`)[0];\n",
       "                popup_5fe6cce0ac6d3f37e7c1244c6105a065.setContent(html_101466f46b4e43efd77ace64b781bcba);\n",
       "            \n",
       "        \n",
       "\n",
       "        marker_34720f3f3fb6ccb4868125e652822d46.bindPopup(popup_5fe6cce0ac6d3f37e7c1244c6105a065)\n",
       "        ;\n",
       "\n",
       "        \n",
       "    \n",
       "    \n",
       "            marker_34720f3f3fb6ccb4868125e652822d46.bindTooltip(\n",
       "                `&lt;div&gt;\n",
       "                     Le Meridien Vienna\n",
       "                 &lt;/div&gt;`,\n",
       "                {&quot;sticky&quot;: true}\n",
       "            );\n",
       "        \n",
       "    \n",
       "            var marker_a94565a271774fe99955e9d836512a43 = L.marker(\n",
       "                [48.2062268, 16.3833767],\n",
       "                {}\n",
       "            ).addTo(map_ec112cbbd3b98c8a8de2ae36b39e9b80);\n",
       "        \n",
       "    \n",
       "            var beautify_icon_c25bd7da71bbded66a1b933d6815b498 = new L.BeautifyIcon.icon(\n",
       "                {&quot;backgroundColor&quot;: &quot;#FFF&quot;, &quot;borderColor&quot;: &quot;blue&quot;, &quot;borderWidth&quot;: 0.5, &quot;icon&quot;: &quot;bus&quot;, &quot;innerIconStyle&quot;: &quot;margin-top:0px;&quot;, &quot;isAlphaNumericIcon&quot;: true, &quot;spin&quot;: false, &quot;text&quot;: 10, &quot;textColor&quot;: &quot;red&quot;}\n",
       "            )\n",
       "            marker_a94565a271774fe99955e9d836512a43.setIcon(beautify_icon_c25bd7da71bbded66a1b933d6815b498);\n",
       "        \n",
       "    \n",
       "        var popup_43f8b4ae7ff58a0094d4c8924edca39d = L.popup({&quot;maxWidth&quot;: &quot;100%&quot;});\n",
       "\n",
       "        \n",
       "            \n",
       "                var html_1b8633f273cbeb32eeae8ebf226ee1d1 = $(`&lt;div id=&quot;html_1b8633f273cbeb32eeae8ebf226ee1d1&quot; style=&quot;width: 100.0%; height: 100.0%;&quot;&gt;Hilton Vienna&lt;/div&gt;`)[0];\n",
       "                popup_43f8b4ae7ff58a0094d4c8924edca39d.setContent(html_1b8633f273cbeb32eeae8ebf226ee1d1);\n",
       "            \n",
       "        \n",
       "\n",
       "        marker_a94565a271774fe99955e9d836512a43.bindPopup(popup_43f8b4ae7ff58a0094d4c8924edca39d)\n",
       "        ;\n",
       "\n",
       "        \n",
       "    \n",
       "    \n",
       "            marker_a94565a271774fe99955e9d836512a43.bindTooltip(\n",
       "                `&lt;div&gt;\n",
       "                     Hilton Vienna\n",
       "                 &lt;/div&gt;`,\n",
       "                {&quot;sticky&quot;: true}\n",
       "            );\n",
       "        \n",
       "&lt;/script&gt;\n",
       "&lt;/html&gt;\" style=\"position:absolute;width:100%;height:100%;left:0;top:0;border:none !important;\" allowfullscreen webkitallowfullscreen mozallowfullscreen></iframe></div></div>"
      ],
      "text/plain": [
       "<folium.folium.Map at 0x286c65220>"
      ]
     },
     "execution_count": 77,
     "metadata": {},
     "output_type": "execute_result"
    }
   ],
   "source": [
    "# to populate and pin recommended list of hotels\n",
    "get_hotel_fn(new_recommendations_tags('Hilton Diagonal Mar Barcelona','Vienna',similarityDF),'Vienna')"
   ]
  },
  {
   "cell_type": "markdown",
   "metadata": {},
   "source": [
    "## Deployment\n",
    "\n",
    "As part of the project, I have performed using Flask on Heroku. I have learnt on the steps to take when performing an end-to-end project. This includes re-factoring of codes into functions and classes so as to easier compliation when compiling of the code for Flask. In order to deploy a model, you will need to understand what you want to achieve and re-look at the code on how you could recode to achieve that.\n",
    "\n",
    "\n",
    "[HotelPal](hotelrecommender.herokuapp.com)\n",
    "\n",
    "\n"
   ]
  },
  {
   "cell_type": "markdown",
   "metadata": {},
   "source": [
    "## Limitations and Recommendation\n",
    "\n",
    "In this project, I have refactored the attributes based on my own research. It will be more effective if domain knowledge are provided, this would allow me to understand what are the key attributes that would be of importance and weightage should be given.\n",
    "\n",
    "<br> \n",
    "In view of gauging performance of the content-based recommender, we could potentially roll this model out for A/B testing to evaluate the performance of the model and understand the conversion rate on commerical website.<br>\n",
    "<br>\n",
    "One hot encoding has the following limitations:\n",
    "\n",
    "If there are too many parameters, then our matrix will be huge and make it impractical for calculations.\n",
    "Implicit relationships among categorical variables may be ignored. \n",
    "\n",
    "<br>\n",
    "\n",
    "This project can further study into exploration of using topic modelling or Word2Vec on text reviews. we can also look into using Universal Language Model Fine-tuning for Text Classification (ULMFiT). It utilizes neural networks and inductive transfer learning for text classification.(https://arxiv.org/abs/1801.06146)."
   ]
  },
  {
   "cell_type": "markdown",
   "metadata": {},
   "source": [
    "## Conclusion\n",
    "\n",
    "\n",
    "\n"
   ]
  },
  {
   "cell_type": "markdown",
   "metadata": {},
   "source": [
    "Big data analysis is changing the operating mode of the global tourism economy, providing tourism managers with deeper insights, and infiltrating into all aspects of tourist travels, while driving tourism innovation and development [1]. Tourism text big data mining techniques have made it possible to analyze the behaviors of tourists and realize real-time monitoring of the market.Both machine learning and current deep learning with high achievements have been greatly applied in NLP. \n",
    "\n",
    "With the increasing of applications in the Internet, the source of data is getting more and more richer.\n",
    "Therefore, the various factors in the new data brings new challenges. It is also a chance to create novel\n",
    "methods to achieve better recommendation results. Social networks are still the focus of the\n",
    "recommendation research, integration methods and new algorithms will continue to appear in the\n",
    "future. The sound, location and other user preference information are received more and more\n",
    "attention. I believe the future of the recommender system will be a hot area of innovation and\n",
    "research. "
   ]
  },
  {
   "cell_type": "markdown",
   "metadata": {},
   "source": [
    "## Reference\n",
    "\n",
    "[1] Li, J.; Xu, L.; Tang, L.; Wang, S.; Li, L. Big data in tourism research: A literature review. Tour. Manag. 2018, 68,\n",
    "301–323.\n",
    "\n",
    "[2] Qin Li 1,2, Shaobo Li 3,4,* , Sen Zhang 1,2, Jie Hu 5 and Jianjun Hu 3,A Review of Text Corpus-Based Tourism Big\n",
    "Data Mining\n"
   ]
  }
 ],
 "metadata": {
  "kernelspec": {
   "display_name": "Python 3",
   "language": "python",
   "name": "python3"
  },
  "language_info": {
   "codemirror_mode": {
    "name": "ipython",
    "version": 3
   },
   "file_extension": ".py",
   "mimetype": "text/x-python",
   "name": "python",
   "nbconvert_exporter": "python",
   "pygments_lexer": "ipython3",
   "version": "3.9.6"
  }
 },
 "nbformat": 4,
 "nbformat_minor": 2
}
